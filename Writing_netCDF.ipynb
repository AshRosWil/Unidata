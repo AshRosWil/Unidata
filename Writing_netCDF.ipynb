{
 "metadata": {
  "name": "Writing_netCDF"
 },
 "nbformat": 3,
 "nbformat_minor": 0,
 "worksheets": [
  {
   "cells": [
    {
     "cell_type": "markdown",
     "metadata": {},
     "source": [
      "### Writing netCDF data ###\n",
      "\n",
      "Creating, modifying, and reading netCDF data is easy in Python.\n",
      "\n",
      "There are several Python netCDF modules available.  We use and recommend Jeff Whitaker's netcdf4 package (Google: netcdf python).  To make use of it, you need to import it ..."
     ]
    },
    {
     "cell_type": "code",
     "collapsed": false,
     "input": [
      "import netCDF4     # Note: upper and lower case matter!\n",
      "import numpy as np # Shorter abbreviation, too lazy to type \"numpy\""
     ],
     "language": "python",
     "metadata": {},
     "outputs": [],
     "prompt_number": 144
    },
    {
     "cell_type": "heading",
     "level": 4,
     "metadata": {},
     "source": [
      "Creating metadata"
     ]
    },
    {
     "cell_type": "markdown",
     "metadata": {},
     "source": [
      "Now let's create a new, empty netCDF file named 'data/new.nc', opened for writing ..."
     ]
    },
    {
     "cell_type": "code",
     "collapsed": false,
     "input": [
      "# Create a new, empty netCDF file, open for writing\n",
      "ncfile = netCDF4.Dataset('data/new.nc','w')"
     ],
     "language": "python",
     "metadata": {},
     "outputs": [],
     "prompt_number": 156
    },
    {
     "cell_type": "markdown",
     "metadata": {},
     "source": [
      "The **ncfile** object we created is a container for _dimensions_, _variables_, and _attributes_.  Let's add some of those.  Every dimension has a name and a length."
     ]
    },
    {
     "cell_type": "code",
     "collapsed": false,
     "input": [
      "lat_dim = ncfile.createDimension('lat', 5) # for latitude axis\n",
      "lon_dim = ncfile.createDimension('lon', 9) # for longitude axis\n",
      "time_dim = ncfile.createDimension('time', None) # unlimited dimension"
     ],
     "language": "python",
     "metadata": {},
     "outputs": [],
     "prompt_number": 157
    },
    {
     "cell_type": "markdown",
     "metadata": {},
     "source": [
      "Setting the dimension length to 0 or None makes it unlimited, so it can grow.\n",
      "\n",
      "Now let's add some variables and store some data in them.  A variable has a name, a type, a shape, and usually some data values.  The shape of a variable is specified by a list of dimensions.  A variable may also have some named attributes, such as 'units'.\n",
      "\n",
      "The type of a variable may be specified by a string, such as 'f4' for 4-byte float.  Alternatively, it may be specified as a _numpy_ type, such as float32.\n"
     ]
    },
    {
     "cell_type": "code",
     "collapsed": false,
     "input": [
      "# Define two variables with the same names as dimensions,\n",
      "# a conventional way to define \"coordinate variables\".\n",
      "lat = ncfile.createVariable('lat', 'f4', ('lat',))\n",
      "lat.units = 'degrees_north'\n",
      "lat.standard_name = 'latitude'\n",
      "lon = ncfile.createVariable('lon', 'f4', ('lon',))\n",
      "lon.units = 'degrees_north'\n",
      "lon.standard_name = 'longitude'\n",
      "# Define a 3D variable to hold the data\n",
      "mslp = ncfile.createVariable('mslp','f4',('time','lat','lon'))\n",
      "mslp.units = 'hPa'\n",
      "mslp.standard_name = 'air_pressure_at_sea_level'"
     ],
     "language": "python",
     "metadata": {},
     "outputs": [
      {
       "ename": "RuntimeError",
       "evalue": "NetCDF: Not a valid ID",
       "output_type": "pyerr",
       "traceback": [
        "\u001b[1;31m---------------------------------------------------------------------------\u001b[0m\n\u001b[1;31mRuntimeError\u001b[0m                              Traceback (most recent call last)",
        "\u001b[1;32m<ipython-input-164-d51f98c600c8>\u001b[0m in \u001b[0;36m<module>\u001b[1;34m()\u001b[0m\n\u001b[0;32m      1\u001b[0m \u001b[1;31m# Define two variables with the same names as dimensions,\u001b[0m\u001b[1;33m\u001b[0m\u001b[1;33m\u001b[0m\u001b[0m\n\u001b[0;32m      2\u001b[0m \u001b[1;31m# a conventional way to define \"coordinate variables\".\u001b[0m\u001b[1;33m\u001b[0m\u001b[1;33m\u001b[0m\u001b[0m\n\u001b[1;32m----> 3\u001b[1;33m \u001b[0mlat\u001b[0m \u001b[1;33m=\u001b[0m \u001b[0mncfile\u001b[0m\u001b[1;33m.\u001b[0m\u001b[0mcreateVariable\u001b[0m\u001b[1;33m(\u001b[0m\u001b[1;34m'lat'\u001b[0m\u001b[1;33m,\u001b[0m \u001b[1;34m'f4'\u001b[0m\u001b[1;33m,\u001b[0m \u001b[1;33m(\u001b[0m\u001b[1;34m'lat'\u001b[0m\u001b[1;33m,\u001b[0m\u001b[1;33m)\u001b[0m\u001b[1;33m)\u001b[0m\u001b[1;33m\u001b[0m\u001b[0m\n\u001b[0m\u001b[0;32m      4\u001b[0m \u001b[0mlat\u001b[0m\u001b[1;33m.\u001b[0m\u001b[0munits\u001b[0m \u001b[1;33m=\u001b[0m \u001b[1;34m'degrees_north'\u001b[0m\u001b[1;33m\u001b[0m\u001b[0m\n\u001b[0;32m      5\u001b[0m \u001b[0mlat\u001b[0m\u001b[1;33m.\u001b[0m\u001b[0mstandard_name\u001b[0m \u001b[1;33m=\u001b[0m \u001b[1;34m'latitude'\u001b[0m\u001b[1;33m\u001b[0m\u001b[0m\n",
        "\u001b[1;32m/opt/epd/lib/python2.7/site-packages/netCDF4.so\u001b[0m in \u001b[0;36mnetCDF4.Dataset.createVariable (netCDF4.c:19077)\u001b[1;34m()\u001b[0m\n",
        "\u001b[1;32m/opt/epd/lib/python2.7/site-packages/netCDF4.so\u001b[0m in \u001b[0;36mnetCDF4.Variable.__init__ (netCDF4.c:24529)\u001b[1;34m()\u001b[0m\n",
        "\u001b[1;31mRuntimeError\u001b[0m: NetCDF: Not a valid ID"
       ]
      }
     ],
     "prompt_number": 164
    },
    {
     "cell_type": "markdown",
     "metadata": {},
     "source": [
      "The netCDF4 module provides some useful pre-defined attributes for variables, such as dimensions, shape, dtype, ndim."
     ]
    },
    {
     "cell_type": "code",
     "collapsed": false,
     "input": [
      "print mslp.dimensions, mslp.shape, mslp.dtype"
     ],
     "language": "python",
     "metadata": {},
     "outputs": [
      {
       "output_type": "stream",
       "stream": "stdout",
       "text": [
        "(u'time', u'lat', u'lon') (0, 5, 9) float32\n"
       ]
      }
     ],
     "prompt_number": 159
    },
    {
     "cell_type": "heading",
     "level": 4,
     "metadata": {},
     "source": [
      "Writing data"
     ]
    },
    {
     "cell_type": "markdown",
     "metadata": {},
     "source": [
      "So far, we don't have any actual data in the file.  Let's start by filling in the coordinate variables for our lat/lon grid.  Then we'll generate 6 grids of pressure data, so we need an array of shape (6, 10, 18). Then we can just set the variable mslp to that array to store data for 6 times."
     ]
    },
    {
     "cell_type": "code",
     "collapsed": true,
     "input": [
      "ntimes = 6\n",
      "nlats = len(lat_dim)\n",
      "nlons = len(lon_dim)\n",
      "# Write latitudes, longitudes.\n",
      "# Note: the \":\" is necessary in these \"write\" statements!\n",
      "# It causes I/O to happen, magically ...\n",
      "lat0, lon0, step = (20.0, 60.0, 10.0)\n",
      "lat[:] = np.arange(lat0, lat0+nlats*step, step) # 20, 30, ..., 60\n",
      "lon[:] = np.arange(lon0, lon0+nlons*step, step) # 60, 70, ..., 140\n",
      "# create a 3D array of integers, ntimes by nlats by nlons\n",
      "data_arr = (np.arange(ntimes*nlats*nlons)+850).reshape(ntimes,nlats,nlons)\n",
      "# Write the data.  This writes the whole 3D netCDF variable all at once.\n",
      "mslp[:,:,:] = data_arr  # Appends along unlimited dimension\n",
      "print mslp.shape"
     ],
     "language": "python",
     "metadata": {},
     "outputs": [
      {
       "output_type": "stream",
       "stream": "stdout",
       "text": [
        "(6, 5, 9)\n"
       ]
      }
     ],
     "prompt_number": 160
    },
    {
     "cell_type": "markdown",
     "metadata": {},
     "source": [
      "- You can just treat a netCDF Variable object like a numpy array and assign values to it.\n",
      "- Variables automatically grow along unlimited dimensions.\n",
      "- The above writes the whole 3D variable all at once, with 'mslp[:] = ...' or 'mslp[:,:,:] = ...' .\n",
      "- You can write it a slice a a time instead.\n",
      "\n",
      "Let's add another time slice:\n"
     ]
    },
    {
     "cell_type": "code",
     "collapsed": false,
     "input": [
      "# create a random 2D array of floats, nlats by nlons in [850., 1100)\n",
      "from numpy.random import uniform\n",
      "data_slice = uniform(low=870,high=1085,size=(nlats, nlons))\n",
      "mslp[6,:,:] = data_slice   # Appends the 7th time slice\n",
      "print mslp.shape"
     ],
     "language": "python",
     "metadata": {},
     "outputs": [
      {
       "output_type": "stream",
       "stream": "stdout",
       "text": [
        "(7, 5, 9)\n"
       ]
      }
     ],
     "prompt_number": 161
    },
    {
     "cell_type": "code",
     "collapsed": true,
     "input": [
      "ncfile.close()"
     ],
     "language": "python",
     "metadata": {},
     "outputs": [],
     "prompt_number": 162
    },
    {
     "cell_type": "heading",
     "level": 4,
     "metadata": {},
     "source": [
      "Using ncdump"
     ]
    },
    {
     "cell_type": "markdown",
     "metadata": {},
     "source": [
      "The `ncdump` tool provides a text representation of the contents of a netCDF dataset, in the _CDL_ notation.  You can run command-line programs, such as `ncdump`, in iPython by using '!' first:\n"
     ]
    },
    {
     "cell_type": "code",
     "collapsed": false,
     "input": [
      "!ncdump data/new.nc"
     ],
     "language": "python",
     "metadata": {},
     "outputs": [
      {
       "output_type": "stream",
       "stream": "stdout",
       "text": [
        "netcdf new {\r\n",
        "dimensions:\r\n",
        "\tlat = 5 ;\r\n",
        "\tlon = 9 ;\r\n",
        "\ttime = UNLIMITED ; // (7 currently)\r\n",
        "variables:\r\n",
        "\tfloat mslp(time, lat, lon) ;\r\n",
        "\t\tmslp:units = \"hPa\" ;\r\n",
        "\t\tmslp:standard_name = \"air_pressure_at_sea_level\" ;\r\n",
        "\tfloat lat(lat) ;\r\n",
        "\t\tlat:units = \"degrees_north\" ;\r\n",
        "\t\tlat:standard_name = \"latitude\" ;\r\n",
        "\tfloat lon(lon) ;\r\n",
        "\t\tlon:units = \"degrees_north\" ;\r\n",
        "\t\tlon:standard_name = \"longitude\" ;\r\n",
        "data:\r\n",
        "\r\n",
        " mslp =\r\n",
        "  850, 851, 852, 853, 854, 855, 856, 857, 858,\r\n",
        "  859, 860, 861, 862, 863, 864, 865, 866, 867,\r\n",
        "  868, 869, 870, 871, 872, 873, 874, 875, 876,\r\n",
        "  877, 878, 879, 880, 881, 882, 883, 884, 885,\r\n",
        "  886, 887, 888, 889, 890, 891, 892, 893, 894,\r\n",
        "  895, 896, 897, 898, 899, 900, 901, 902, 903,\r\n",
        "  904, 905, 906, 907, 908, 909, 910, 911, 912,\r\n",
        "  913, 914, 915, 916, 917, 918, 919, 920, 921,\r\n",
        "  922, 923, 924, 925, 926, 927, 928, 929, 930,\r\n",
        "  931, 932, 933, 934, 935, 936, 937, 938, 939,\r\n",
        "  940, 941, 942, 943, 944, 945, 946, 947, 948,\r\n",
        "  949, 950, 951, 952, 953, 954, 955, 956, 957,\r\n",
        "  958, 959, 960, 961, 962, 963, 964, 965, 966,\r\n",
        "  967, 968, 969, 970, 971, 972, 973, 974, 975,\r\n",
        "  976, 977, 978, 979, 980, 981, 982, 983, 984,\r\n",
        "  985, 986, 987, 988, 989, 990, 991, 992, 993,\r\n",
        "  994, 995, 996, 997, 998, 999, 1000, 1001, 1002,\r\n",
        "  1003, 1004, 1005, 1006, 1007, 1008, 1009, 1010, 1011,\r\n",
        "  1012, 1013, 1014, 1015, 1016, 1017, 1018, 1019, 1020,\r\n",
        "  1021, 1022, 1023, 1024, 1025, 1026, 1027, 1028, 1029,\r\n",
        "  1030, 1031, 1032, 1033, 1034, 1035, 1036, 1037, 1038,\r\n",
        "  1039, 1040, 1041, 1042, 1043, 1044, 1045, 1046, 1047,\r\n",
        "  1048, 1049, 1050, 1051, 1052, 1053, 1054, 1055, 1056,\r\n",
        "  1057, 1058, 1059, 1060, 1061, 1062, 1063, 1064, 1065,\r\n",
        "  1066, 1067, 1068, 1069, 1070, 1071, 1072, 1073, 1074,\r\n",
        "  1075, 1076, 1077, 1078, 1079, 1080, 1081, 1082, 1083,\r\n",
        "  1084, 1085, 1086, 1087, 1088, 1089, 1090, 1091, 1092,\r\n",
        "  1093, 1094, 1095, 1096, 1097, 1098, 1099, 1100, 1101,\r\n",
        "  1102, 1103, 1104, 1105, 1106, 1107, 1108, 1109, 1110,\r\n",
        "  1111, 1112, 1113, 1114, 1115, 1116, 1117, 1118, 1119,\r\n",
        "  937.4702, 1041.164, 1030.417, 971.0558, 1006.625, 1032.687, 908.4997, \r\n",
        "    918.7003, 991.821,\r\n",
        "  928.4997, 954.3876, 1065.174, 914.1144, 895.072, 1044.183, 1049.941, \r\n",
        "    1069.016, 1074.945,\r\n",
        "  944.3264, 896.8546, 1003.151, 1077.267, 1003.757, 1020.818, 968.7846, \r\n",
        "    921.4076, 932.8536,\r\n",
        "  994.7673, 1084.486, 993.6982, 952.9187, 966.4894, 909.8242, 1074.882, \r\n",
        "    1063.775, 1078.261,\r\n",
        "  990.1104, 881.8887, 1026.775, 968.6082, 980.7681, 881.0645, 1081.708, \r\n",
        "    885.754, 1000.748 ;\r\n",
        "\r\n",
        " lat = 20, 30, 40, 50, 60 ;\r\n",
        "\r\n",
        " lon = 60, 70, 80, 90, 100, 110, 120, 130, 140 ;\r\n",
        "}\r\n"
       ]
      }
     ],
     "prompt_number": 163
    },
    {
     "cell_type": "code",
     "collapsed": false,
     "input": [],
     "language": "python",
     "metadata": {},
     "outputs": []
    }
   ],
   "metadata": {}
  }
 ]
}
