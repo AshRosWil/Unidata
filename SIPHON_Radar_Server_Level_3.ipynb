{
 "cells": [
  {
   "cell_type": "markdown",
   "metadata": {},
   "source": [
    "# Using Siphon to get NEXRAD Level 3 data from a TDS"
   ]
  },
  {
   "cell_type": "markdown",
   "metadata": {},
   "source": [
    "###Objectives:\n",
    "1. Learn more about Siphon\n",
    "2. Use the RadarServer class to retrieve radar data from a TDS\n",
    "3. Plot this data using numpy arrays and matplotlib\n",
    "\n",
    "### Introduction:\n",
    "Siphon is a python package that makes downloading data from Unidata data technologies a breeze! In our examples, we'll focus on interacting with the netCDF Subset Service (NCSS) as well as the radar server to retrieve grid data and radar data. \n",
    "\n",
    "**But first!**\n",
    "Bookmark these resources for when you want to use Siphon later!\n",
    "+ [latest Siphon documentation](http://siphon.readthedocs.org/en/latest/)\n",
    "+ [Siphon github repo](https://github.com/Unidata/siphon)\n",
    "+ [TDS documentation](http://www.unidata.ucar.edu/software/thredds/v4.6/tds/TDS.html)\n",
    "+ [netCDF subset service documentation](http://www.unidata.ucar.edu/software/thredds/current/tds/reference/NetcdfSubsetServiceReference.html)"
   ]
  },
  {
   "cell_type": "markdown",
   "metadata": {},
   "source": [
<<<<<<< Updated upstream
    "First create an instance of RadarServer to point to the appropriate\n",
    "radar server access URL. This hard-coding of a point should really be\n",
    "replaced by scanning the top-level catalog, but that is still todo."
=======
    "First, we'll import the radarserver class from Siphon and put the special 'matplotlib' line in so our radar scan will show up later in the notebook. Let's construct an instance of RadarServer pointing to our dataset of interest. In this case, we're using the nexrad level 3 data on the TDS."
>>>>>>> Stashed changes
   ]
  },
  {
   "cell_type": "code",
   "execution_count": 2,
   "metadata": {
    "collapsed": true
   },
   "outputs": [],
   "source": [
    "%matplotlib inline\n",
    "from siphon.radarserver import RadarServer\n",
    "rs = RadarServer('http://thredds.ucar.edu/thredds/radarServer/nexrad/level3/IDD/')"
   ]
  },
  {
   "cell_type": "markdown",
   "metadata": {},
   "source": [
    "Look at the variables available in this dataset. You can select any of these products for most stations in your query."
   ]
  },
  {
   "cell_type": "code",
   "execution_count": 4,
   "metadata": {
    "collapsed": false
   },
   "outputs": [
    {
     "ename": "AttributeError",
     "evalue": "'RadarServer' object has no attribute 'variables'",
     "output_type": "error",
     "traceback": [
      "\u001b[0;31m---------------------------------------------------------------------------\u001b[0m",
      "\u001b[0;31mAttributeError\u001b[0m                            Traceback (most recent call last)",
      "\u001b[0;32m<ipython-input-4-d1f33370e82a>\u001b[0m in \u001b[0;36m<module>\u001b[0;34m()\u001b[0m\n\u001b[0;32m----> 1\u001b[0;31m \u001b[0mrs\u001b[0m\u001b[0;34m.\u001b[0m\u001b[0mvariables\u001b[0m\u001b[0;34m\u001b[0m\u001b[0m\n\u001b[0m",
      "\u001b[0;31mAttributeError\u001b[0m: 'RadarServer' object has no attribute 'variables'"
     ]
    }
   ],
   "source": [
    "rs.variables"
   ]
  },
  {
   "cell_type": "markdown",
   "metadata": {},
   "source": [
    "Like the NCSS class example from earlier, we construct a new query on the RadarServer object. Using the chaining\n",
    "methods, we ask for data from radar FTG (Denver) for now for the product\n",
    "N0Q, which is reflectivity data for the lowest tilt. We see that when the query\n",
    "is represented as a string, it shows the encoded URL."
   ]
  },
  {
   "cell_type": "code",
   "execution_count": 5,
   "metadata": {
    "collapsed": false
   },
   "outputs": [
    {
     "data": {
      "text/plain": [
       "var=N0Q&time=2015-07-15T03%3A45%3A35.476426&stn=FTG"
      ]
     },
     "execution_count": 5,
     "metadata": {},
     "output_type": "execute_result"
    }
   ],
   "source": [
    "from datetime import datetime\n",
    "query = rs.query()\n",
    "query.stations('FTG').time(datetime.utcnow()).variables('N0Q')"
   ]
  },
  {
   "cell_type": "markdown",
   "metadata": {},
   "source": [
    "We can use the RadarServer instance to check our query, to make\n",
    "sure we have required parameters and that we have chosen valid\n",
    "station(s) and variable(s)"
   ]
  },
  {
   "cell_type": "code",
   "execution_count": 6,
   "metadata": {
    "collapsed": false
   },
   "outputs": [
    {
     "data": {
      "text/plain": [
       "True"
      ]
     },
     "execution_count": 6,
     "metadata": {},
     "output_type": "execute_result"
    }
   ],
   "source": [
    "rs.validate_query(query)"
   ]
  },
  {
   "cell_type": "markdown",
   "metadata": {},
   "source": [
    "Make the request, which returns an instance of TDSCatalog. This\n",
    "handles parsing the catalog. "
   ]
  },
  {
   "cell_type": "code",
   "execution_count": 14,
   "metadata": {
    "collapsed": false
   },
   "outputs": [],
   "source": [
    "catalog = rs.get_catalog(query)"
   ]
  },
  {
   "cell_type": "markdown",
   "metadata": {},
   "source": [
    "We can look at the datasets on the catalog to see what data we found by the query. We find one\n",
    "NIDS file in the return"
   ]
  },
  {
   "cell_type": "code",
   "execution_count": 15,
   "metadata": {
    "collapsed": false
   },
   "outputs": [
    {
     "data": {
      "text/plain": [
       "{'Level3_FTG_N0Q_20150715_0346.nids': <siphon.catalog.Dataset at 0x10b856710>}"
      ]
     },
     "execution_count": 15,
     "metadata": {},
     "output_type": "execute_result"
    }
   ],
   "source": [
    "catalog.datasets"
   ]
  },
  {
   "cell_type": "markdown",
   "metadata": {},
   "source": [
    "We can pull that dataset out of the dictionary and look at the available access URLs. We see URLs for OPeNDAP, CDMRemote, and HTTPServer (direct download)."
   ]
  },
  {
   "cell_type": "code",
   "execution_count": 16,
   "metadata": {
    "collapsed": false
   },
   "outputs": [
    {
     "data": {
      "text/plain": [
       "{'CdmRemote': 'http://thredds.ucar.edu/thredds/cdmremote/nexrad/level3/IDD/N0Q/FTG/20150715/Level3_FTG_N0Q_20150715_0346.nids',\n",
       " 'HTTPServer': 'http://thredds.ucar.edu/thredds/fileServer/nexrad/level3/IDD/N0Q/FTG/20150715/Level3_FTG_N0Q_20150715_0346.nids',\n",
       " 'OPENDAP': 'http://thredds.ucar.edu/thredds/dodsC/nexrad/level3/IDD/N0Q/FTG/20150715/Level3_FTG_N0Q_20150715_0346.nids'}"
      ]
     },
     "execution_count": 16,
     "metadata": {},
     "output_type": "execute_result"
    }
   ],
   "source": [
    "ds = list(catalog.datasets.values())[0]\n",
    "ds.access_urls"
   ]
  },
  {
   "cell_type": "markdown",
   "metadata": {},
   "source": [
    "We'll use the CDMRemote reader in Siphon and pass it the appropriate access URL."
   ]
  },
  {
   "cell_type": "code",
   "execution_count": 17,
   "metadata": {
    "collapsed": true
   },
   "outputs": [],
   "source": [
    "from siphon.cdmr import Dataset\n",
    "data = Dataset(ds.access_urls['CdmRemote'])"
   ]
  },
  {
   "cell_type": "markdown",
   "metadata": {},
   "source": [
    "The CDMRemote reader provides an interface that is almost identical to the usual python NetCDF interface. We pull out the variables we need for azimuth and range, as well as the data itself."
   ]
  },
  {
   "cell_type": "code",
   "execution_count": 18,
   "metadata": {
    "collapsed": false
   },
   "outputs": [],
   "source": [
    "rng = data.variables['gate'][:] / 1000.\n",
    "az = data.variables['azimuth'][:]\n",
    "ref = data.variables['BaseReflectivityDR'][:]"
   ]
  },
  {
   "cell_type": "markdown",
   "metadata": {},
   "source": [
    "Then convert the polar coordinates to Cartesian using numpy. "
   ]
  },
  {
   "cell_type": "code",
   "execution_count": 19,
   "metadata": {
    "collapsed": true
   },
   "outputs": [],
   "source": [
    "import numpy as np\n",
    "x = rng * np.sin(np.deg2rad(az))[:, None]\n",
    "y = rng * np.cos(np.deg2rad(az))[:, None]\n",
    "ref = np.ma.array(ref, mask=np.isnan(ref))"
   ]
  },
  {
   "cell_type": "markdown",
   "metadata": {},
   "source": [
    "Finally, we plot them up using matplotlib."
   ]
  },
  {
   "cell_type": "code",
   "execution_count": 20,
   "metadata": {
    "collapsed": false
   },
   "outputs": [
    {
     "ename": "TypeError",
     "evalue": "object of type 'NoneType' has no len()",
     "output_type": "error",
     "traceback": [
      "\u001b[0;31m---------------------------------------------------------------------------\u001b[0m",
      "\u001b[0;31mTypeError\u001b[0m                                 Traceback (most recent call last)",
      "\u001b[0;32m<ipython-input-20-e69622287e99>\u001b[0m in \u001b[0;36m<module>\u001b[0;34m()\u001b[0m\n\u001b[1;32m      2\u001b[0m \u001b[0;32mimport\u001b[0m \u001b[0mmatplotlib\u001b[0m\u001b[0;34m.\u001b[0m\u001b[0mpyplot\u001b[0m \u001b[0;32mas\u001b[0m \u001b[0mplt\u001b[0m\u001b[0;34m\u001b[0m\u001b[0m\n\u001b[1;32m      3\u001b[0m \u001b[0mfig\u001b[0m\u001b[0;34m,\u001b[0m \u001b[0max\u001b[0m \u001b[0;34m=\u001b[0m \u001b[0mplt\u001b[0m\u001b[0;34m.\u001b[0m\u001b[0msubplots\u001b[0m\u001b[0;34m(\u001b[0m\u001b[0;36m1\u001b[0m\u001b[0;34m,\u001b[0m \u001b[0;36m1\u001b[0m\u001b[0;34m,\u001b[0m \u001b[0mfigsize\u001b[0m\u001b[0;34m=\u001b[0m\u001b[0;34m(\u001b[0m\u001b[0;36m9\u001b[0m\u001b[0;34m,\u001b[0m \u001b[0;36m8\u001b[0m\u001b[0;34m)\u001b[0m\u001b[0;34m)\u001b[0m\u001b[0;34m\u001b[0m\u001b[0m\n\u001b[0;32m----> 4\u001b[0;31m \u001b[0max\u001b[0m\u001b[0;34m.\u001b[0m\u001b[0mpcolormesh\u001b[0m\u001b[0;34m(\u001b[0m\u001b[0mx\u001b[0m\u001b[0;34m,\u001b[0m \u001b[0my\u001b[0m\u001b[0;34m,\u001b[0m \u001b[0mref\u001b[0m\u001b[0;34m,\u001b[0m \u001b[0mcmap\u001b[0m\u001b[0;34m=\u001b[0m\u001b[0mctables\u001b[0m\u001b[0;34m.\u001b[0m\u001b[0mregistry\u001b[0m\u001b[0;34m.\u001b[0m\u001b[0mget_colortable\u001b[0m\u001b[0;34m(\u001b[0m\u001b[0;34m'viridis'\u001b[0m\u001b[0;34m)\u001b[0m\u001b[0;34m)\u001b[0m\u001b[0;34m\u001b[0m\u001b[0m\n\u001b[0m\u001b[1;32m      5\u001b[0m \u001b[0max\u001b[0m\u001b[0;34m.\u001b[0m\u001b[0mset_aspect\u001b[0m\u001b[0;34m(\u001b[0m\u001b[0;34m'equal'\u001b[0m\u001b[0;34m,\u001b[0m \u001b[0;34m'datalim'\u001b[0m\u001b[0;34m)\u001b[0m\u001b[0;34m\u001b[0m\u001b[0m\n\u001b[1;32m      6\u001b[0m \u001b[0max\u001b[0m\u001b[0;34m.\u001b[0m\u001b[0mset_xlim\u001b[0m\u001b[0;34m(\u001b[0m\u001b[0;34m-\u001b[0m\u001b[0;36m460\u001b[0m\u001b[0;34m,\u001b[0m \u001b[0;36m460\u001b[0m\u001b[0;34m)\u001b[0m\u001b[0;34m\u001b[0m\u001b[0m\n",
      "\u001b[0;32m//anaconda/envs/python3/lib/python3.4/site-packages/metpy/plots/ctables.py\u001b[0m in \u001b[0;36mget_colortable\u001b[0;34m(self, name)\u001b[0m\n\u001b[1;32m    150\u001b[0m         '''\n\u001b[1;32m    151\u001b[0m \u001b[0;34m\u001b[0m\u001b[0m\n\u001b[0;32m--> 152\u001b[0;31m         \u001b[0;32mreturn\u001b[0m \u001b[0mmcolors\u001b[0m\u001b[0;34m.\u001b[0m\u001b[0mListedColormap\u001b[0m\u001b[0;34m(\u001b[0m\u001b[0mself\u001b[0m\u001b[0;34m.\u001b[0m\u001b[0mget\u001b[0m\u001b[0;34m(\u001b[0m\u001b[0mname\u001b[0m\u001b[0;34m)\u001b[0m\u001b[0;34m,\u001b[0m \u001b[0mname\u001b[0m\u001b[0;34m=\u001b[0m\u001b[0mname\u001b[0m\u001b[0;34m)\u001b[0m\u001b[0;34m\u001b[0m\u001b[0m\n\u001b[0m\u001b[1;32m    153\u001b[0m \u001b[0;34m\u001b[0m\u001b[0m\n\u001b[1;32m    154\u001b[0m \u001b[0;34m\u001b[0m\u001b[0m\n",
      "\u001b[0;32m//anaconda/envs/python3/lib/python3.4/site-packages/matplotlib/colors.py\u001b[0m in \u001b[0;36m__init__\u001b[0;34m(self, colors, name, N)\u001b[0m\n\u001b[1;32m    814\u001b[0m                                  \u001b[0;31m# identical; needed for contouring.\u001b[0m\u001b[0;34m\u001b[0m\u001b[0;34m\u001b[0m\u001b[0m\n\u001b[1;32m    815\u001b[0m         \u001b[0;32mif\u001b[0m \u001b[0mN\u001b[0m \u001b[0;32mis\u001b[0m \u001b[0;32mNone\u001b[0m\u001b[0;34m:\u001b[0m\u001b[0;34m\u001b[0m\u001b[0m\n\u001b[0;32m--> 816\u001b[0;31m             \u001b[0mN\u001b[0m \u001b[0;34m=\u001b[0m \u001b[0mlen\u001b[0m\u001b[0;34m(\u001b[0m\u001b[0mself\u001b[0m\u001b[0;34m.\u001b[0m\u001b[0mcolors\u001b[0m\u001b[0;34m)\u001b[0m\u001b[0;34m\u001b[0m\u001b[0m\n\u001b[0m\u001b[1;32m    817\u001b[0m         \u001b[0;32melse\u001b[0m\u001b[0;34m:\u001b[0m\u001b[0;34m\u001b[0m\u001b[0m\n\u001b[1;32m    818\u001b[0m             \u001b[0;32mif\u001b[0m \u001b[0mcbook\u001b[0m\u001b[0;34m.\u001b[0m\u001b[0mis_string_like\u001b[0m\u001b[0;34m(\u001b[0m\u001b[0mself\u001b[0m\u001b[0;34m.\u001b[0m\u001b[0mcolors\u001b[0m\u001b[0;34m)\u001b[0m\u001b[0;34m:\u001b[0m\u001b[0;34m\u001b[0m\u001b[0m\n",
      "\u001b[0;31mTypeError\u001b[0m: object of type 'NoneType' has no len()"
     ]
    },
    {
     "data": {
      "image/png": "iVBORw0KGgoAAAANSUhEUgAAAh4AAAHfCAYAAAAfn9HGAAAABHNCSVQICAgIfAhkiAAAAAlwSFlz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\nagRSMgAAAABJRU5ErkJggg==\n",
      "text/plain": [
       "<matplotlib.figure.Figure at 0x10c252860>"
      ]
     },
     "metadata": {},
     "output_type": "display_data"
    }
   ],
   "source": [
    "from metpy.plots import ctables\n",
    "import matplotlib.pyplot as plt\n",
    "fig, ax = plt.subplots(1, 1, figsize=(9, 8))\n",
    "ax.pcolormesh(x, y, ref, cmap=ctables.registry.get_colortable('viridis'))\n",
    "ax.set_aspect('equal', 'datalim')\n",
    "ax.set_xlim(-460, 460)\n",
    "ax.set_ylim(-460, 460)"
   ]
  }
 ],
 "metadata": {
  "kernelspec": {
   "display_name": "Python 3",
   "language": "python",
   "name": "python3"
  },
  "language_info": {
   "codemirror_mode": {
    "name": "ipython",
    "version": 3
   },
   "file_extension": ".py",
   "mimetype": "text/x-python",
   "name": "python",
   "nbconvert_exporter": "python",
   "pygments_lexer": "ipython3",
   "version": "3.4.3"
  }
 },
 "nbformat": 4,
 "nbformat_minor": 0
}
