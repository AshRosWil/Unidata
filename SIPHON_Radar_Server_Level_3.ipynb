{
 "cells": [
  {
   "cell_type": "markdown",
   "metadata": {},
   "source": [
    "# Using Siphon to get NEXRAD Level 3 data from a TDS"
   ]
  },
  {
   "cell_type": "markdown",
   "metadata": {},
   "source": [
    "First create an instance of RadarServer to point to the appropriate\n",
    "radar server access URL. This hard-coding of a point should really be\n",
    "replaced by scanning the top-level catalog, but that is still todo."
   ]
  },
  {
   "cell_type": "code",
   "execution_count": 1,
   "metadata": {
    "collapsed": true
   },
   "outputs": [],
   "source": [
    "from siphon.radarserver import RadarServer\n",
    "rs = RadarServer('http://thredds.ucar.edu/thredds/radarServer/nexrad/level3/IDD/')"
   ]
  },
  {
   "cell_type": "markdown",
   "metadata": {},
   "source": [
    "Look at the variables available in this dataset"
   ]
  },
  {
   "cell_type": "code",
   "execution_count": 2,
   "metadata": {
    "collapsed": false
   },
   "outputs": [
    {
     "data": {
      "text/plain": [
       "{'DAA/Digital Accumulation Array',\n",
       " 'DHR/Digital Hybrid Scan Reflectivity',\n",
       " 'DOD/Digital One-Hour Difference Accumulation',\n",
       " 'DPA/Digital Precipitation Array',\n",
       " 'DPR/Digital Instantaneous Precipitation Rate',\n",
       " 'DSD/Digital Storm Total Difference Accumulation',\n",
       " 'DSP/Digital Storm Total Precipitation',\n",
       " 'DTA/Digital Storm Total Accumulation',\n",
       " 'DU3/Digital 3-hour Accumulation',\n",
       " 'DU6/Digital 24-hour Accumulation',\n",
       " 'DVL/Digital Vertically Integrated Liquid',\n",
       " 'EET/Enchanced Echo Tops',\n",
       " 'HHC/Hybrid Hydrometeor Classification',\n",
       " 'N0C/Correlation Coefficient Tilt 1',\n",
       " 'N0H/Hydrometeor Classification Tilt 1',\n",
       " 'N0K/Specific Differential Phase Tilt 1',\n",
       " 'N0M/Melting Layer Tilt 1',\n",
       " 'N0Q/Base Reflectivity DR Tilt 1',\n",
       " 'N0R/Base Reflectivity 124nm',\n",
       " 'N0S/Storm-Rel Mean Vel Tilt 1',\n",
       " 'N0U/Radial Velocity DV Tilt 1',\n",
       " 'N0V/Radial Velocity 124nm',\n",
       " 'N0X/Differential Reflectivity Tilt 1',\n",
       " 'N0Z/Base Reflecitvity 248nm',\n",
       " 'N1C/Correlation Coefficient Tilt 3',\n",
       " 'N1H/Hydrometeor Classification Tilt 3',\n",
       " 'N1K/Specific Differential Phase Tilt 3',\n",
       " 'N1M/Melting Layer Tilt 3',\n",
       " 'N1P/1-hour Rainfall',\n",
       " 'N1Q/Base Reflectivity DR Tilt 3',\n",
       " 'N1S/Storm-Rel Mean Vel Tilt 2',\n",
       " 'N1U/Radial Velocity DV Tilt 3',\n",
       " 'N1X/Differential Reflectivity Tilt 3',\n",
       " 'N2C/Correlation Coefficient Tilt 5',\n",
       " 'N2H/Hydrometeor Classification Tilt 5',\n",
       " 'N2K/Specific Differential Phase Tilt 5',\n",
       " 'N2M/Melting Layer Tilt 5',\n",
       " 'N2Q/Base Reflectivity DR Tilt 5',\n",
       " 'N2S/Storm-Rel Mean Vel Tilt 3',\n",
       " 'N2U/Radial Velocity DV Tilt 5',\n",
       " 'N2X/Differential Reflectivity Tilt 5',\n",
       " 'N3C/Correlation Coefficient Tilt 6',\n",
       " 'N3H/Hydrometeor Classification Tilt 6',\n",
       " 'N3K/Specific Differential Phase Tilt 6',\n",
       " 'N3M/Melting Layer Tilt 6',\n",
       " 'N3Q/Base Reflectivity DR Tilt 6',\n",
       " 'N3S/Storm-Rel Mean Vel Tilt 4',\n",
       " 'N3U/Radial Velocity DV Tilt 6',\n",
       " 'N3X/Differential Reflectivity Tilt 6',\n",
       " 'NAC/Correlation Coefficient Tilt 2',\n",
       " 'NAH/Hydrometeor Classification Tilt 2',\n",
       " 'NAK/Specific Differential Phase Tilt 2',\n",
       " 'NAM/Melting Layer Tilt 2',\n",
       " 'NAQ/Base Reflectivity DR Tilt 2',\n",
       " 'NAU/Radial Velocity DV Tilt 2',\n",
       " 'NAX/Differential Reflectivity Tilt 2',\n",
       " 'NBC/Correlation Coefficient Tilt 4',\n",
       " 'NBH/Hydrometeor Classification Tilt 4',\n",
       " 'NBK/Specific Differential Phase Tilt 4',\n",
       " 'NBM/Melting Layer Tilt 4',\n",
       " 'NBQ/Base Reflectivity DR Tilt 4',\n",
       " 'NBU/Radial Velocity DV Tilt 4',\n",
       " 'NBX/Differential Reflectivity Tilt 4',\n",
       " 'NCR/Composite Reflectivity',\n",
       " 'NET/Echo Tops',\n",
       " 'NMD/Mesocyclone',\n",
       " 'NST/Storm Tracking Information',\n",
       " 'NTP/Storm Total Rainfall',\n",
       " 'NVL/Vertically Integrated Liquid',\n",
       " 'NVW/Velocity Azimuth Display Wind Profile',\n",
       " 'OHA/One Hour Accumulation',\n",
       " 'PTA/Storm Total Accumulation'}"
      ]
     },
     "execution_count": 2,
     "metadata": {},
     "output_type": "execute_result"
    }
   ],
   "source": [
    "rs.variables"
   ]
  },
  {
   "cell_type": "markdown",
   "metadata": {},
   "source": [
    "Create a new query object to help request the data. Using the chaining\n",
    "methods, ask for data from radar FTG (Denver) for now for the product\n",
    "N0Q, which is reflectivity data for the lowest tilt. We see that when the query\n",
    "is represented as a string, it shows the encoded URL."
   ]
  },
  {
   "cell_type": "code",
   "execution_count": 3,
   "metadata": {
    "collapsed": false
   },
   "outputs": [
    {
     "data": {
      "text/plain": [
       "var=N0Q&time=2015-06-16T22%3A23%3A23.076237&stn=FTG"
      ]
     },
     "execution_count": 3,
     "metadata": {},
     "output_type": "execute_result"
    }
   ],
   "source": [
    "from datetime import datetime\n",
    "query = rs.query()\n",
    "query.stations('FTG').time(datetime.utcnow()).variables('N0Q')"
   ]
  },
  {
   "cell_type": "markdown",
   "metadata": {},
   "source": [
    "We can use the RadarServer instance to check our query, to make\n",
    "sure we have required parameters and that we have chosen valid\n",
    "station(s) and variable(s)"
   ]
  },
  {
   "cell_type": "code",
   "execution_count": 4,
   "metadata": {
    "collapsed": false
   },
   "outputs": [
    {
     "data": {
      "text/plain": [
       "True"
      ]
     },
     "execution_count": 4,
     "metadata": {},
     "output_type": "execute_result"
    }
   ],
   "source": [
    "rs.validate_query(query)"
   ]
  },
  {
   "cell_type": "markdown",
   "metadata": {},
   "source": [
    "Make the request, which returns an instance of TDSCatalog. This\n",
    "handles parsing the catalog"
   ]
  },
  {
   "cell_type": "code",
   "execution_count": 5,
   "metadata": {
    "collapsed": false
   },
   "outputs": [],
   "source": [
    "catalog = rs.get_catalog(query)"
   ]
  },
  {
   "cell_type": "markdown",
   "metadata": {},
   "source": [
    "We can look at the datasets on the catalog to see what data we found by the query. We find one\n",
    "NIDS file in the return"
   ]
  },
  {
   "cell_type": "code",
   "execution_count": 6,
   "metadata": {
    "collapsed": false
   },
   "outputs": [
    {
     "data": {
      "text/plain": [
       "{'Level3_FTG_N0Q_20150616_2220.nids': <siphon.catalog.Dataset at 0x10b7f6cf8>}"
      ]
     },
     "execution_count": 6,
     "metadata": {},
     "output_type": "execute_result"
    }
   ],
   "source": [
    "catalog.datasets"
   ]
  },
  {
   "cell_type": "markdown",
   "metadata": {},
   "source": [
    "We can pull that dataset out of the dictionary and look at the available access URLs. We see URLs for OPeNDAP, CDMRemote, and HTTPServer (direct download)."
   ]
  },
  {
   "cell_type": "code",
   "execution_count": 7,
   "metadata": {
    "collapsed": false
   },
   "outputs": [
    {
     "data": {
      "text/plain": [
       "{'CdmRemote': 'http://thredds.ucar.edu/thredds/cdmremote/nexrad/level3/IDD/N0Q/FTG/20150616/Level3_FTG_N0Q_20150616_2220.nids',\n",
       " 'HTTPServer': 'http://thredds.ucar.edu/thredds/fileServer/nexrad/level3/IDD/N0Q/FTG/20150616/Level3_FTG_N0Q_20150616_2220.nids',\n",
       " 'OPENDAP': 'http://thredds.ucar.edu/thredds/dodsC/nexrad/level3/IDD/N0Q/FTG/20150616/Level3_FTG_N0Q_20150616_2220.nids'}"
      ]
     },
     "execution_count": 7,
     "metadata": {},
     "output_type": "execute_result"
    }
   ],
   "source": [
    "ds = list(catalog.datasets.values())[0]\n",
    "ds.access_urls"
   ]
  },
  {
   "cell_type": "markdown",
   "metadata": {},
   "source": [
    "We'll use the CDMRemote reader in Siphon and pass it the appropriate access URL."
   ]
  },
  {
   "cell_type": "code",
   "execution_count": 8,
   "metadata": {
    "collapsed": true
   },
   "outputs": [],
   "source": [
    "from siphon.cdmr import Dataset\n",
    "data = Dataset(ds.access_urls['CdmRemote'])"
   ]
  },
  {
   "cell_type": "markdown",
   "metadata": {},
   "source": [
    "The CDMRemote reader provides an interface that is almost identical to the usual python NetCDF interface. We pull out the variables we need for azimuth and range, as well as the data itself."
   ]
  },
  {
   "cell_type": "code",
   "execution_count": 9,
   "metadata": {
    "collapsed": false
   },
   "outputs": [],
   "source": [
    "rng = data.variables['gate'][:] / 1000.\n",
    "az = data.variables['azimuth'][:]\n",
    "ref = data.variables['BaseReflectivityDR'][:]"
   ]
  },
  {
   "cell_type": "markdown",
   "metadata": {},
   "source": [
    "Then convert the polar coordinates to Cartesian"
   ]
  },
  {
   "cell_type": "code",
   "execution_count": 10,
   "metadata": {
    "collapsed": true
   },
   "outputs": [],
   "source": [
    "import numpy as np\n",
    "x = rng * np.sin(np.deg2rad(az))[:, None]\n",
    "y = rng * np.cos(np.deg2rad(az))[:, None]\n",
    "ref = np.ma.array(ref, mask=np.isnan(ref))"
   ]
  },
  {
   "cell_type": "markdown",
   "metadata": {},
   "source": [
    "Finally, we plot them up using matplotlib."
   ]
  },
  {
   "cell_type": "code",
   "execution_count": 11,
   "metadata": {
    "collapsed": false
   },
   "outputs": [
    {
     "data": {
      "text/plain": [
       "(-460, 460)"
      ]
     },
     "execution_count": 11,
     "metadata": {},
     "output_type": "execute_result"
    },
    {
     "data": {
      "image/png": "[encoded data removed]",
      "text/plain": [
       "<matplotlib.figure.Figure at 0x10b963ac8>"
      ]
     },
     "metadata": {},
     "output_type": "display_data"
    }
   ],
   "source": [
    "import matplotlib.pyplot as plt\n",
    "fig, ax = plt.subplots(1, 1, figsize=(9, 8))\n",
    "ax.pcolormesh(x, y, ref)\n",
    "ax.set_aspect('equal', 'datalim')\n",
    "ax.set_xlim(-460, 460)\n",
    "ax.set_ylim(-460, 460)"
   ]
  }
 ],
 "metadata": {
  "kernelspec": {
   "display_name": "Python 3",
   "language": "python",
   "name": "python3"
  },
  "language_info": {
   "codemirror_mode": {
    "name": "ipython",
    "version": 3
   },
   "file_extension": ".py",
   "mimetype": "text/x-python",
   "name": "python",
   "nbconvert_exporter": "python",
   "pygments_lexer": "ipython3",
   "version": "3.4.3"
  }
 },
 "nbformat": 4,
 "nbformat_minor": 0
}
