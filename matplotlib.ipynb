{
 "metadata": {
  "name": "matplotlib"
 },
 "nbformat": 3,
 "nbformat_minor": 0,
 "worksheets": [
  {
   "cells": [
    {
     "cell_type": "markdown",
     "source": [
      "# Geoscience Plotting with matplotlib\n",
      "\n",
      "- Sophisticated 2D and 3D plotting library.\n",
      "- We'll give you a taste of the possibilities, but we'll be covering about < 1%\n",
      "- Mature and can produce publication quality graphics now.\n",
      "- Static images, nothing interactive yet.\n",
      "- We'll focus on geoscience, but matplotlib can likely meet most of your scientific plotting requirements.\n",
      "- The best is to find an example of what you want in a gallery and emulate that.\n"
     ]
    },
    {
     "cell_type": "markdown",
     "source": [
      "## Some Examples\n",
      "\n",
      "![Plot Highs and lows](http://matplotlib.org/basemap/_images/plothighsandlows.png)\n",
      "\n",
      "![Plot Precipitation](http://matplotlib.org/basemap/_images/plotprecip.png)\n",
      "\n",
      "![Plot SST](http://matplotlib.org/basemap/_images/plotsst.png)\n",
      "\n",
      "![Plot Wind](http://matplotlib.org/basemap/_images/plotwindvec_01_00.png)\n"
     ]
    },
    {
     "cell_type": "code",
     "collapsed": false,
     "input": [
      "## Getting Started"
     ],
     "language": "python",
     "outputs": []
    },
    {
     "cell_type": "code",
     "collapsed": false,
     "input": [
      "import numpy as np\n",
      "import pylab as pl\n",
      "\n",
      "\n",
      "x = np.linspace(-10,10,30)\n",
      "y = x**3\n",
      "pl.plot(x,y)\n",
      "\n",
      "pl.show()\n"
     ],
     "language": "python",
     "outputs": [
      {
       "output_type": "stream",
       "stream": "stdout",
       "text": [
        "[-10.          -9.31034483  -8.62068966  -7.93103448  -7.24137931\n",
        "  -6.55172414  -5.86206897  -5.17241379  -4.48275862  -3.79310345\n",
        "  -3.10344828  -2.4137931   -1.72413793  -1.03448276  -0.34482759\n",
        "   0.34482759   1.03448276   1.72413793   2.4137931    3.10344828\n",
        "   3.79310345   4.48275862   5.17241379   5.86206897   6.55172414\n",
        "   7.24137931   7.93103448   8.62068966   9.31034483  10.        ]\n"
       ]
      },
      {
       "output_type": "display_data",
       "png": "[encoded data removed]"
      }
     ],
     "prompt_number": 25
    },
    {
     "cell_type": "markdown",
     "source": [
      "## Plotting netCDF data"
     ]
    },
    {
     "cell_type": "code",
     "collapsed": false,
     "input": [
      "import netCDF4\n",
      "f = netCDF4.Dataset('data/rtofs_glo_3dz_f006_6hrly_reg3.nc', 'r')\n",
      "tempv = f.variables['temperature']\n",
      "foo = tempv[0,:,123,486]\n",
      "foo[~foo.mask].data #trick for getting data\n",
      "\n",
      "\n",
      "\n"
     ],
     "language": "python",
     "outputs": [
      {
       "output_type": "pyout",
       "prompt_number": 24,
       "text": [
        "array([ 6.48586464,  4.62583923,  4.01084995,  3.82290745,  3.44483733,\n",
        "        2.86527586,  1.78594518,  1.33314633], dtype=float32)"
       ]
      }
     ],
     "prompt_number": 24
    }
   ]
  }
 ]
}