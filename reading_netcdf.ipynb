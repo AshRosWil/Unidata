{
 "metadata": {
  "name": "reading_netcdf"
 },
 "nbformat": 3,
 "nbformat_minor": 0,
 "worksheets": [
  {
   "cells": [
    {
     "cell_type": "markdown",
     "source": [
      "# netCDF File Exploration with Python and NumPy\n",
      "\n",
      "- Network Common Data Form \n",
      "- Scientific binary data format widely used in geoscience.\n",
      "- Self describing, array-oriented, platform independent."
     ]
    },
    {
     "cell_type": "markdown",
     "source": [
      "## netcdf4-python\n",
      "\n",
      "- Python/NumPy interface to netCDF\n",
      "- Available at Google Code: https://code.google.com/p/netcdf4-python/\n",
      "- Developed by Jeff Whitaker at ESRL, NOAA and others"
     ]
    },
    {
     "cell_type": "markdown",
     "source": [
      "## Interactively Exploring a netCDF File\n",
      "\n",
      "Let's explore a netCDF file from the *Atlantic Real-Time Ocean Forecast System*\n",
      "\n",
      "To import netcdf4-python"
     ]
    },
    {
     "cell_type": "code",
     "collapsed": false,
     "input": [
      "import netCDF4"
     ],
     "language": "python",
     "outputs": [],
     "prompt_number": 22
    },
    {
     "cell_type": "markdown",
     "source": [
      "## NumPy\n",
      "\n",
      "To explore netCDF arrays, we will also need NumPy.\n",
      "\n",
      "- NumPy (pronounced \"num pie\" or \"num pee\") is a library that enables scientific programming in Python.\n",
      "- Facilities for n-dimensional array based calculations similar to Fortran and IDL.\n",
      "- A set of mathematical functions to act on scalars and arrays.\n",
      "- The core Python language eschews primitive type numeric arrays which is why we need NumPy.\n",
      "\n",
      "To import NumPy:"
     ]
    },
    {
     "cell_type": "code",
     "collapsed": false,
     "input": [
      "import numpy as np"
     ],
     "language": "python",
     "outputs": [],
     "prompt_number": 23
    },
    {
     "cell_type": "markdown",
     "source": [
      "## List variables"
     ]
    },
    {
     "cell_type": "code",
     "collapsed": false,
     "input": [
      "import netCDF4\n",
      "f = netCDF4.Dataset('data/rtofs_glo_3dz_f006_6hrly_reg3.nc', 'r')\n",
      "for v in f.variables:\n",
      "    print(v),"
     ],
     "language": "python",
     "outputs": [
      {
       "output_type": "stream",
       "stream": "stdout",
       "text": [
        "MT Date Depth Y X Latitude Longitude u v temperature salinity\n"
       ]
      }
     ],
     "prompt_number": 24
    },
    {
     "cell_type": "markdown",
     "source": [
      "Let's put our Python object oriented knowledge to use\n",
      "\n",
      "- `f` is an object\n",
      "- `variables` is an attribute of f, in particular it is a dictionary\n",
      "- You can list all the attributes of an object with the `dir` function (e.g. `dir(f)`)"
     ]
    },
    {
     "cell_type": "code",
     "collapsed": false,
     "input": [
      "type(f.variables) # f.variables is a dictionary data structure"
     ],
     "language": "python",
     "outputs": [
      {
       "output_type": "pyout",
       "prompt_number": 25,
       "text": [
        "collections.OrderedDict"
       ]
      }
     ],
     "prompt_number": 25
    },
    {
     "cell_type": "markdown",
     "source": [
      "## List the Dimensions\n",
      "\n",
      "- All variables in a netCDF file have an associated dimension.\n",
      "- Let's list the dimensions in this netCDF file.\n"
     ]
    },
    {
     "cell_type": "code",
     "collapsed": false,
     "input": [
      "for d in f.dimensions:\n",
      "    print(d),"
     ],
     "language": "python",
     "outputs": [
      {
       "output_type": "stream",
       "stream": "stdout",
       "text": [
        "MT Y X Depth\n"
       ]
      }
     ],
     "prompt_number": 26
    },
    {
     "cell_type": "markdown",
     "source": [
      "## Let's find out more about temperature.\n",
      "\n",
      "First, let's get the variable object for temperature."
     ]
    },
    {
     "cell_type": "code",
     "collapsed": false,
     "input": [
      "tempv = f.variables['temperature']"
     ],
     "language": "python",
     "outputs": [],
     "prompt_number": 27
    },
    {
     "cell_type": "code",
     "collapsed": false,
     "input": [
      "tempv.standard_name"
     ],
     "language": "python",
     "outputs": [
      {
       "output_type": "pyout",
       "prompt_number": 28,
       "text": [
        "u'sea_water_potential_temperature'"
       ]
      }
     ],
     "prompt_number": 28
    },
    {
     "cell_type": "code",
     "collapsed": false,
     "input": [
      "tempv.units"
     ],
     "language": "python",
     "outputs": [
      {
       "output_type": "pyout",
       "prompt_number": 29,
       "text": [
        "u'degC'"
       ]
      }
     ],
     "prompt_number": 29
    },
    {
     "cell_type": "code",
     "collapsed": false,
     "input": [
      "tempv.coordinates"
     ],
     "language": "python",
     "outputs": [
      {
       "output_type": "pyout",
       "prompt_number": 30,
       "text": [
        "u'Longitude Latitude Date'"
       ]
      }
     ],
     "prompt_number": 30
    },
    {
     "cell_type": "markdown",
     "source": [
      "## What is the sea surface temperature and salinity at 50N, 140W?\n",
      "\n",
      "- First, we have to understand the dimesion of the temperature variable.\n",
      "- Then we enquire about the *coordinate variables*, that is the variables the make up the dimension."
     ]
    },
    {
     "cell_type": "code",
     "collapsed": false,
     "input": [
      "tempv.dimensions"
     ],
     "language": "python",
     "outputs": [
      {
       "output_type": "pyout",
       "prompt_number": 31,
       "text": [
        "(u'MT', u'Depth', u'Y', u'X')"
       ]
      }
     ],
     "prompt_number": 31
    },
    {
     "cell_type": "code",
     "collapsed": false,
     "input": [
      "mt = f.variables['MT']\n",
      "mt.units # No standard_name name, so grabbing units information"
     ],
     "language": "python",
     "outputs": [
      {
       "output_type": "pyout",
       "prompt_number": 32,
       "text": [
        "u'days since 1900-12-31 00:00:00'"
       ]
      }
     ],
     "prompt_number": 32
    },
    {
     "cell_type": "code",
     "collapsed": false,
     "input": [
      "mt[:]  #Time array of one element"
     ],
     "language": "python",
     "outputs": [
      {
       "output_type": "pyout",
       "prompt_number": 33,
       "text": [
        "array([ 41023.25])"
       ]
      }
     ],
     "prompt_number": 33
    },
    {
     "cell_type": "code",
     "collapsed": false,
     "input": [
      "depth = f.variables['Depth']\n",
      "depth.standard_name"
     ],
     "language": "python",
     "outputs": [
      {
       "output_type": "pyout",
       "prompt_number": 34,
       "text": [
        "u'depth'"
       ]
      }
     ],
     "prompt_number": 34
    },
    {
     "cell_type": "code",
     "collapsed": false,
     "input": [
      "depth[:] #Let's use NumPy to examine depth array"
     ],
     "language": "python",
     "outputs": [
      {
       "output_type": "pyout",
       "prompt_number": 35,
       "text": [
        "array([    0.,   100.,   200.,   400.,   700.,  1000.,  2000.,  3000.,\n",
        "        4000.,  5000.], dtype=float32)"
       ]
      }
     ],
     "prompt_number": 35
    },
    {
     "cell_type": "markdown",
     "source": [
      "### Finding the latitude and longitude indices of 50N, 140W"
     ]
    },
    {
     "cell_type": "code",
     "collapsed": false,
     "input": [
      "\n",
      "import numpy as np\n",
      "lat = f.variables['Latitude']\n",
      "lon = f.variables['Longitude']\n",
      "lat.dimensions, lon.dimensions\n"
     ],
     "language": "python",
     "outputs": [
      {
       "output_type": "pyout",
       "prompt_number": 36,
       "text": [
        "((u'Y', u'X'), (u'Y', u'X'))"
       ]
      }
     ],
     "prompt_number": 36
    },
    {
     "cell_type": "code",
     "collapsed": false,
     "input": [
      "# Naive heuristic to find indices of latitude and longitude.\n",
      "\n",
      "def find_latlon(lt,ln):\n",
      "    return lt > 50 and ln > -140\n",
      "\n",
      "vfunc = np.vectorize(find_latlon) # NumPy magic\n",
      "lat_idx,lon_idx= np.where(vfunc(lat,lon))\n",
      "lat_idx[0],lon_idx[0]"
     ],
     "language": "python",
     "outputs": [
      {
       "output_type": "pyout",
       "prompt_number": 37,
       "text": [
        "(123, 486)"
       ]
      }
     ],
     "prompt_number": 37
    },
    {
     "cell_type": "code",
     "collapsed": false,
     "input": [
      "lat[123,486],lon[123,486] # Sanity check"
     ],
     "language": "python",
     "outputs": [
      {
       "output_type": "pyout",
       "prompt_number": 38,
       "text": [
        "(50.015648, -139.97681)"
       ]
      }
     ],
     "prompt_number": 38
    },
    {
     "cell_type": "markdown",
     "source": [
      "### Now we have all the information we need to find our answer.\n"
     ]
    },
    {
     "cell_type": "raw",
     "source": [
      "|----------+-------|\n",
      "| Variable | Index |\n",
      "|----------+-------|\n",
      "| MT       |     0 |\n",
      "| Depth    |     0 |\n",
      "| Y        |   123 |\n",
      "| X        |   486 |\n",
      "|----------+-------|"
     ]
    },
    {
     "cell_type": "markdown",
     "source": [
      "### What is the sea surface temperature and salinity at 50N, 140W?"
     ]
    },
    {
     "cell_type": "code",
     "collapsed": false,
     "input": [
      "tempv[0,0,123,486] # NumPy notaion for dealing with multi-dimensional arrays"
     ],
     "language": "python",
     "outputs": [
      {
       "output_type": "pyout",
       "prompt_number": 39,
       "text": [
        "6.4858646"
       ]
      }
     ],
     "prompt_number": 39
    },
    {
     "cell_type": "markdown",
     "source": [
      "## Closing your netCDF file\n",
      "\n",
      "It is always a good idea to close you file handles.\n"
     ]
    },
    {
     "cell_type": "code",
     "collapsed": false,
     "input": [
      "f.close()\n"
     ],
     "language": "python",
     "outputs": [],
     "prompt_number": 40
    },
    {
     "cell_type": "markdown",
     "source": [
      "# Remote data access via the TDS\n",
      "\n",
      "- Remote data can be accessed seamlessly with the netcdf4-python API\n",
      "- Access happens under the hood via the DAP protocol and servers that handle the DAP protocol."
     ]
    },
    {
     "cell_type": "markdown",
     "source": [
      "## When accessing via TDS many data formats are supported"
     ]
    },
    {
     "cell_type": "code",
     "collapsed": false,
     "input": [
      "from IPython.display import HTML\n",
      "HTML('<iframe src=http://www.unidata.ucar.edu/software/netcdf-java/formats/FileTypes.html width=700 height=350></iframe>')\n"
     ],
     "language": "python",
     "outputs": [
      {
       "html": [
        "<iframe src=http://www.unidata.ucar.edu/software/netcdf-java/formats/FileTypes.html width=700 height=350></iframe>"
       ],
       "output_type": "pyout",
       "prompt_number": 41,
       "text": [
        "<IPython.core.display.HTML at 0x1080faf10>"
       ]
      }
     ],
     "prompt_number": 41
    },
    {
     "cell_type": "markdown",
     "source": [
      "In this example we are opening **grib2** data"
     ]
    },
    {
     "cell_type": "code",
     "collapsed": false,
     "input": [
      "\n",
      "from netCDF4 import Dataset\n",
      "from pytds.util import get_latest_dods_url\n",
      "\n",
      "gfs_data_url = \"http://thredds.ucar.edu/thredds/catalog/grib/NCEP/GFS/Global_0p5deg/catalog.xml\"\n",
      "\n",
      "latest = get_latest_dods_url(gfs_data_url)\n",
      "data = Dataset(latest)\n",
      "\n",
      "for v in data.variables:\n",
      "    print v,\n"
     ],
     "language": "python",
     "outputs": [
      {
       "output_type": "stream",
       "stream": "stdout",
       "text": [
        "lat lon isobaric isobaric1 pressure_difference_layer pressure_difference_layer_bounds potential_vorticity_surface isobaric2 height_above_ground sigma height_above_ground1 sigma_layer sigma_layer_bounds pressure_difference_layer1 pressure_difference_layer1_bounds isobaric3 height_above_ground2 height_above_ground_layer height_above_ground_layer_bounds depth_below_surface_layer depth_below_surface_layer_bounds height_above_ground3 altitude_above_msl isobaric4 height_above_ground_layer1 height_above_ground_layer1_bounds isobaric5 pressure_difference_layer2 pressure_difference_layer2_bounds height_above_ground4 time time1 time1_bounds time2 time2_bounds time3 Temperature_surface Temperature_maximum_wind Temperature_tropopause Temperature_isobaric Temperature_altitude_above_msl Temperature_height_above_ground Temperature_sigma Temperature_depth_below_surface_layer Temperature_pressure_difference_layer Temperature_potential_vorticity_surface Temperature_low_cloud_top_Mixed_intervals_Average Temperature_middle_cloud_top_Mixed_intervals_Average Temperature_high_cloud_top_Mixed_intervals_Average Potential_temperature_sigma Maximum_temperature_height_above_ground_Mixed_intervals_Interval Minimum_temperature_height_above_ground_Mixed_intervals_Interval Latent_heat_net_flux_surface_Mixed_intervals_Average Sensible_heat_net_flux_surface_Mixed_intervals_Average Specific_humidity_height_above_ground Specific_humidity_pressure_difference_layer Relative_humidity_zeroDegC_isotherm Relative_humidity_isobaric Relative_humidity_height_above_ground Relative_humidity_sigma_layer Relative_humidity_sigma Relative_humidity_pressure_difference_layer Relative_humidity_entire_atmosphere Relative_humidity_highest_tropospheric_freezing Precipitable_water_entire_atmosphere Precipitation_rate_surface_Mixed_intervals_Average Total_precipitation_surface_Mixed_intervals_Accumulation Convective_precipitation_surface_Mixed_intervals_Accumulation Water_equivalent_of_accumulated_snow_depth_surface Cloud_mixing_ratio_isobaric Categorical_Rain_surface_Mixed_intervals_Average Categorical_Freezing_Rain_surface_Mixed_intervals_Average Categorical_Ice_Pellets_surface_Mixed_intervals_Average Categorical_Snow_surface_Mixed_intervals_Average Convective_Precipitation_Rate_surface_Mixed_intervals_Average Potential_Evaporation_Rate_surface u-component_of_wind_maximum_wind u-component_of_wind_tropopause u-component_of_wind_isobaric u-component_of_wind_altitude_above_msl u-component_of_wind_height_above_ground u-component_of_wind_sigma u-component_of_wind_pressure_difference_layer u-component_of_wind_potential_vorticity_surface u-component_of_wind_planetary_boundary v-component_of_wind_maximum_wind v-component_of_wind_tropopause v-component_of_wind_isobaric v-component_of_wind_altitude_above_msl v-component_of_wind_height_above_ground v-component_of_wind_sigma v-component_of_wind_pressure_difference_layer v-component_of_wind_potential_vorticity_surface v-component_of_wind_planetary_boundary Vertical_velocity_pressure_isobaric Vertical_velocity_pressure_sigma Absolute_vorticity_isobaric Momentum_flux_u-component_surface_Mixed_intervals_Average Momentum_flux_v-component_surface_Mixed_intervals_Average Wind_speed_gust_surface Vertical_Speed_Shear_tropopause Vertical_Speed_Shear_potential_vorticity_surface U-Component_Storm_Motion_height_above_ground_layer V-Component_Storm_Motion_height_above_ground_layer Ventilation_Rate_planetary_boundary Pressure_surface Pressure_maximum_wind Pressure_tropopause Pressure_height_above_ground Pressure_potential_vorticity_surface Pressure_low_cloud_bottom_Mixed_intervals_Average Pressure_low_cloud_top_Mixed_intervals_Average Pressure_middle_cloud_bottom_Mixed_intervals_Average Pressure_middle_cloud_top_Mixed_intervals_Average Pressure_high_cloud_bottom_Mixed_intervals_Average Pressure_high_cloud_top_Mixed_intervals_Average Pressure_convective_cloud_bottom Pressure_convective_cloud_top Pressure_reduced_to_MSL_msl ICAO_Standard_Atmosphere_Reference_Height_maximum_wind ICAO_Standard_Atmosphere_Reference_Height_tropopause Geopotential_height_surface Geopotential_height_zeroDegC_isotherm Geopotential_height_maximum_wind Geopotential_height_tropopause Geopotential_height_isobaric Geopotential_height_potential_vorticity_surface Geopotential_height_highest_tropospheric_freezing Geopotential_height_anomaly_isobaric MSLP_Eta_model_reduction_msl 5-Wave_Geopotential_Height_isobaric Zonal_Flux_of_Gravity_Wave_Stress_surface_Mixed_intervals_Average Meridional_Flux_of_Gravity_Wave_Stress_surface_Mixed_intervals_Average Planetary_Boundary_Layer_Height_surface 5-Wave_Geopotential_Height_Anomaly_isobaric Pressure_of_level_from_which_parcel_was_lifted_pressure_difference_layer Downward_Short-Wave_Radiation_Flux_surface_Mixed_intervals_Average Upward_Short-Wave_Radiation_Flux_surface_Mixed_intervals_Average Upward_Short-Wave_Radiation_Flux_atmosphere_top_Mixed_intervals_Average Downward_Long-Wave_Radp_Flux_surface_Mixed_intervals_Average Upward_Long-Wave_Radp_Flux_surface_Mixed_intervals_Average Upward_Long-Wave_Radp_Flux_atmosphere_top_Mixed_intervals_Average Total_cloud_cover_entire_atmosphere_Mixed_intervals_Average Total_cloud_cover_boundary_layer_cloud_Mixed_intervals_Average Total_cloud_cover_low_cloud_Mixed_intervals_Average Total_cloud_cover_middle_cloud_Mixed_intervals_Average Total_cloud_cover_high_cloud_Mixed_intervals_Average Total_cloud_cover_convective_cloud Cloud_water_entire_atmosphere Cloud_Work_Function_entire_atmosphere_Mixed_intervals_Average Sunshine_Duration_surface Convective_available_potential_energy_surface Convective_available_potential_energy_pressure_difference_layer Convective_inhibition_surface Convective_inhibition_pressure_difference_layer Storm_relative_helicity_height_above_ground_layer Surface_Lifted_Index_surface Best_4_layer_Lifted_Index_surface Total_ozone_entire_atmosphere Ozone_Mixing_Ratio_isobaric Albedo_surface_Mixed_intervals_Average Land_cover_0__sea_1__land_surface Water_runoff_surface_Mixed_intervals_Accumulation Volumetric_Soil_Moisture_Content_depth_below_surface_layer Ground_Heat_Flux_surface_Mixed_intervals_Average Wilting_Point_surface Field_Capacity_surface Haines_Index_surface Ice_cover_surface\n"
       ]
      }
     ],
     "prompt_number": 42
    }
   ]
  }
 ]
}