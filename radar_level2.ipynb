{
 "metadata": {
  "name": "radar_level2"
 },
 "nbformat": 3,
 "nbformat_minor": 0,
 "worksheets": [
  {
   "cells": [
    {
     "cell_type": "code",
     "collapsed": false,
     "input": [
      "import string\n",
      "import numpy as np\n",
      "import matplotlib as mpl\n",
      "from pydap.client import open_url\n",
      "from xml.dom import minidom as md\n",
      "from mpl_toolkits.basemap import Basemap\n",
      "import matplotlib.pyplot as plt\n",
      "import datetime as dt"
     ],
     "language": "python",
     "metadata": {},
     "outputs": [],
     "prompt_number": 1
    },
    {
     "cell_type": "markdown",
     "metadata": {},
     "source": [
      "Define the NWS Color Map for reflectivity"
     ]
    },
    {
     "cell_type": "code",
     "collapsed": false,
     "input": [
      "def radar_colormap():\n",
      "    nws_reflectivity_colors = [\n",
      "    \"#646464\", # ND\n",
      "    \"#ccffff\", # -30\n",
      "    \"#cc99cc\", # -25\n",
      "    \"#996699\", # -20\n",
      "    \"#663366\", # -15\n",
      "    \"#cccc99\", # -10\n",
      "    \"#999966\", # -5\n",
      "    \"#646464\", # 0\n",
      "    \"#04e9e7\", # 5\n",
      "    \"#019ff4\", # 10\n",
      "    \"#0300f4\", # 15\n",
      "    \"#02fd02\", # 20\n",
      "    \"#01c501\", # 25\n",
      "    \"#008e00\", # 30\n",
      "    \"#fdf802\", # 35\n",
      "    \"#e5bc00\", # 40\n",
      "    \"#fd9500\", # 45\n",
      "    \"#fd0000\", # 50\n",
      "    \"#d40000\", # 55\n",
      "    \"#bc0000\", # 60\n",
      "    \"#f800fd\", # 65\n",
      "    \"#9854c6\", # 70\n",
      "    \"#fdfdfd\" # 75\n",
      "    ]\n",
      "\n",
      "    cmap = mpl.colors.ListedColormap(nws_reflectivity_colors)\n",
      "\n",
      "    return cmap"
     ],
     "language": "python",
     "metadata": {},
     "outputs": [],
     "prompt_number": 2
    },
    {
     "cell_type": "code",
     "collapsed": false,
     "input": [
      "def basic_http_request(full_url, return_response = False):\n",
      "    #\n",
      "    # just a basic http request\n",
      "    #\n",
      "    import urllib2\n",
      "\n",
      "    url_request = urllib2.Request(full_url)\n",
      "    #url_request.add_header('User-agent', \"your user agent here\")\n",
      "    try:\n",
      "        response = urllib2.urlopen(url_request)\n",
      "        if return_response:\n",
      "            return response\n",
      "        else:\n",
      "            del response\n",
      "    except IOError, e:\n",
      "        if hasattr(e, 'reason'):\n",
      "            print 'We failed to reach a server.'\n",
      "            print 'Reason: {}'.format(e.reason)\n",
      "            print 'Full  url: {}'.format(full_url)\n",
      "            raise\n",
      "        elif hasattr(e, 'code'):\n",
      "            print 'The server couldn\\'t fulfill the request.'\n",
      "            print 'Error code: {}'.format(e.code)\n",
      "            print 'TDS response: {}'.format(e.read())\n",
      "            print 'Full  url: {}'.format(full_url)\n",
      "            raise\n",
      "        else:\n",
      "            print 'error not caught!'\n",
      "            raise"
     ],
     "language": "python",
     "metadata": {},
     "outputs": [],
     "prompt_number": 3
    },
    {
     "cell_type": "code",
     "collapsed": false,
     "input": [
      "def get_latest_data_url(site,date):\n",
      "    #\n",
      "    # Get the latest data for site and given day\n",
      "    #\n",
      "    # read the xml file, and figure out where latest.xml currently points\n",
      "    #\n",
      "    top_level_url = \"http://thredds.ucar.edu/thredds\"\n",
      "    # base_url example http://thredds.ucar.edu/thredds/\"catalog/nexrad/level2\n",
      "    base_url = string.join([top_level_url, \"catalog/nexrad/level2\"],'/')\n",
      "\n",
      "    # latest_xml_doc example http://thredds.ucar.edu/thredds/\"catalog/nexrad/level2/KTLX/20130429/latest.xml\n",
      "    latest_xml_doc = string.join([base_url, site, date, \"latest.xml\"],'/')\n",
      "\n",
      "    xml_data = basic_http_request(latest_xml_doc, return_response = True)\n",
      "    doc = md.parse(xml_data)\n",
      "    root = doc.firstChild\n",
      "    for cn in root.childNodes:\n",
      "        if cn.nodeName == \"dataset\":\n",
      "            dataset_url_path = cn.getAttribute(\"urlPath\")\n",
      "\n",
      "    latest_data_url = string.join([top_level_url, \"dodsC\", dataset_url_path], \"/\")\n",
      "\n",
      "    return latest_data_url"
     ],
     "language": "python",
     "metadata": {},
     "outputs": [],
     "prompt_number": 4
    },
    {
     "cell_type": "markdown",
     "metadata": {},
     "source": [
      "What radar site, variable, and scan level do you want to view?"
     ]
    },
    {
     "cell_type": "code",
     "collapsed": false,
     "input": [
      "# basic input\n",
      "site = \"KFWS\"\n",
      "variable = \"Reflectivity\"\n",
      "scan = 0"
     ],
     "language": "python",
     "metadata": {},
     "outputs": [],
     "prompt_number": 6
    },
    {
     "cell_type": "markdown",
     "metadata": {},
     "source": [
      "Get the latest data, grab the metadata, and request the data"
     ]
    },
    {
     "cell_type": "code",
     "collapsed": false,
     "input": [
      "#\n",
      "# get latest data url\n",
      "#\n",
      "date = dt.date.today().strftime(\"%Y%m%d\")\n",
      "latest_data_url = get_latest_data_url(site,date)\n",
      "\n",
      "# open url using pydap\n",
      "dataset = open_url(latest_data_url)\n",
      "\n",
      "# get some basic info from the global metadata\n",
      "global_attrs = dataset.attributes['NC_GLOBAL']\n",
      "station_lat = global_attrs[\"StationLatitude\"]\n",
      "station_lon = global_attrs[\"StationLongitude\"]\n",
      "station_id = global_attrs[\"StationName\"]\n",
      "\n",
      "# get data array and metadata\n",
      "data = dataset[variable][scan,::].squeeze()\n",
      "theta = dataset[\"azimuthR\"][scan,::].squeeze()\n",
      "tilt = dataset[\"elevationR\"][scan,0]\n",
      "r = dataset[\"distanceR\"][:]\n",
      "data_attrs = dataset[variable].attributes"
     ],
     "language": "python",
     "metadata": {},
     "outputs": []
    },
    {
     "cell_type": "markdown",
     "metadata": {},
     "source": [
      "Apply scale, offest, mask radar data, and define x,y coord system from the polar coordinates."
     ]
    },
    {
     "cell_type": "code",
     "collapsed": false,
     "input": [
      "# check for scale and offset\n",
      "if data_attrs.has_key(\"scale_factor\"):\n",
      "    data = data * data_attrs[\"scale_factor\"]\n",
      "\n",
      "if data_attrs.has_key(\"add_offset\"):\n",
      "    data = data + data_attrs[\"add_offset\"]\n",
      "    \n",
      "# mask the data based on NWS threshold\n",
      "data = np.ma.masked_array(data, data < 5)\n",
      "\n",
      "theta = theta * np.pi / 180.\n",
      "d = r * np.cos(tilt * np.pi / 180.)\n",
      "x = np.array((np.matrix(np.cos(theta)).transpose() * np.matrix(d)))\n",
      "y = np.array((np.matrix(np.sin(theta)).transpose() * np.matrix(d)))\n",
      "height = np.abs(x.min()) + np.abs(x.max())\n",
      "width = np.abs(y.min()) + np.abs(y.max())\n",
      "x = x + height / 2.\n",
      "y = y + width / 2.\n",
      "\n"
     ],
     "language": "python",
     "metadata": {},
     "outputs": []
    },
    {
     "cell_type": "markdown",
     "metadata": {},
     "source": [
      "Create the plot"
     ]
    },
    {
     "cell_type": "code",
     "collapsed": false,
     "input": [
      "fig = plt.figure()\n",
      "ax = fig.add_subplot(1,1,1)\n",
      "\n",
      "m=Basemap(lat_0=station_lat,lon_0=station_lon,resolution='l',projection='laea',height=height,width=width,ax=ax)\n",
      "\n",
      "station_x, station_y = m(station_lon, station_lat)\n",
      "\n",
      "cmap = radar_colormap()\n",
      "norm = mpl.colors.Normalize(vmin=-35, vmax=80)\n",
      "\n",
      "ax.text(station_x, station_y, \"+{}\".format(site))\n",
      "\n",
      "cax = m.pcolormesh(y, x, data, cmap=cmap, norm=norm)\n",
      "m.drawcoastlines()\n",
      "m.drawstates()\n",
      "m.drawcountries()\n",
      "cbar = m.colorbar(cax)\n",
      "cbar.set_label(data_attrs[\"units\"])\n",
      "ax.set_title(station_id)\n",
      "plt.show()"
     ],
     "language": "python",
     "metadata": {},
     "outputs": []
    }
   ],
   "metadata": {}
  }
 ]
}