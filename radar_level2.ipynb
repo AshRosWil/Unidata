{
 "metadata": {
  "name": "",
  "signature": "sha256:45953b46dc9f442ab442f0d961b264f30e7ddee906937bfaf52dc4e35c10c89f"
 },
 "nbformat": 3,
 "nbformat_minor": 0,
 "worksheets": [
  {
   "cells": [
    {
     "cell_type": "markdown",
     "metadata": {},
     "source": [
      "# Using Python to get the latest Level II RADAR for a station\n",
      "Objective: Visualize the latest available reflectivity data from the lowest tilt of a user specified radar site\n",
      "    \n",
      "Steps involved:\n",
      "\n",
      "- Define a color map based on the one used by the National Weather Service\n",
      "- Construct the appropriate URL to get the latest data file\n",
      "- Open the URL using netCDF4-python\n",
      "- Read the basic metadata\n",
      "- Find the lowest tilt and construct a coordinate system\n",
      "- Create the appropriate Basemap projection and plot the Radar Reflectivity"
     ]
    },
    {
     "cell_type": "code",
     "collapsed": false,
     "input": [
      "import string\n",
      "import numpy as np\n",
      "import matplotlib.pyplot as plt\n",
      "import datetime as dt\n",
      "import matplotlib as mpl\n",
      "from mpl_toolkits.basemap import Basemap\n",
      "from netCDF4 import Dataset\n",
      "from pyudl.tds import get_latest_dods_url"
     ],
     "language": "python",
     "metadata": {},
     "outputs": [],
     "prompt_number": 1
    },
    {
     "cell_type": "markdown",
     "metadata": {},
     "source": [
      "## Define the NWS Color Map for reflectivity\n",
      "- While matplotlib has some really nice, built-in colormaps, nothing quite matches the NWS colormap\n",
      "- Python List of HTML colors (used photoshop color picker on a screenshot of the colorbar off of the NWS radar page)\n",
      "- Converted into matplotlib colormap using ListedColormap"
     ]
    },
    {
     "cell_type": "code",
     "collapsed": false,
     "input": [
      "def radar_colormap():\n",
      "    nws_reflectivity_colors = [\n",
      "    \"#646464\", # ND\n",
      "    \"#ccffff\", # -30\n",
      "    \"#cc99cc\", # -25\n",
      "    \"#996699\", # -20\n",
      "    \"#663366\", # -15\n",
      "    \"#cccc99\", # -10\n",
      "    \"#999966\", # -5\n",
      "    \"#646464\", # 0\n",
      "    \"#04e9e7\", # 5\n",
      "    \"#019ff4\", # 10\n",
      "    \"#0300f4\", # 15\n",
      "    \"#02fd02\", # 20\n",
      "    \"#01c501\", # 25\n",
      "    \"#008e00\", # 30\n",
      "    \"#fdf802\", # 35\n",
      "    \"#e5bc00\", # 40\n",
      "    \"#fd9500\", # 45\n",
      "    \"#fd0000\", # 50\n",
      "    \"#d40000\", # 55\n",
      "    \"#bc0000\", # 60\n",
      "    \"#f800fd\", # 65\n",
      "    \"#9854c6\", # 70\n",
      "    \"#fdfdfd\" # 75\n",
      "    ]\n",
      "\n",
      "    cmap = mpl.colors.ListedColormap(nws_reflectivity_colors)\n",
      "\n",
      "    return cmap"
     ],
     "language": "python",
     "metadata": {},
     "outputs": [],
     "prompt_number": 2
    },
    {
     "cell_type": "markdown",
     "metadata": {},
     "source": [
      "## Which radar site do you want to view?"
     ]
    },
    {
     "cell_type": "code",
     "collapsed": false,
     "input": [
      "site = \"KFTG\""
     ],
     "language": "python",
     "metadata": {},
     "outputs": [],
     "prompt_number": 3
    },
    {
     "cell_type": "markdown",
     "metadata": {},
     "source": [
      "## Get the latest data URL, grab the metadata, and request the data"
     ]
    },
    {
     "cell_type": "code",
     "collapsed": false,
     "input": [
      "#\n",
      "# get latest data url\n",
      "#\n",
      "\n",
      "date = dt.date.today().strftime(\"%Y%m%d\")\n",
      "url = \"http://thredds.ucar.edu/thredds/catalog/nexrad/level2/\" + site  + \"/\" + date + \"/catalog.xml\"\n",
      "latest_data_url = get_latest_dods_url(url)\n",
      "\n",
      "# open url using pydap\n",
      "dataset = Dataset(latest_data_url)\n",
      "\n",
      "# get some basic info from the global metadata\n",
      "station_lat = dataset.StationLatitude\n",
      "station_lon = dataset.StationLongitude\n",
      "station_id = dataset.StationName\n",
      "\n",
      "# get data array and metadata\n",
      "variable = \"Reflectivity_HI\"\n",
      "tilts = dataset.variables[\"elevationR_HI\"][:,0]\n",
      "scan = np.where(tilts == tilts.min())[0][0]\n",
      "tilt = tilts[scan]\n",
      "data = dataset.variables[variable][scan,::].squeeze()\n",
      "theta = dataset.variables[\"azimuthR_HI\"][scan,::].squeeze()\n",
      "r = dataset.variables[\"distanceR_HI\"][:]\n",
      "data_attrs = dataset.variables[variable].ncattrs()"
     ],
     "language": "python",
     "metadata": {},
     "outputs": [],
     "prompt_number": 4
    },
    {
     "cell_type": "markdown",
     "metadata": {},
     "source": [
      "## Apply additional mask to radar data"
     ]
    },
    {
     "cell_type": "code",
     "collapsed": false,
     "input": [
      "# mask the data based on NWS threshold\n",
      "data = np.ma.masked_array(data, data < 5)"
     ],
     "language": "python",
     "metadata": {},
     "outputs": [],
     "prompt_number": 5
    },
    {
     "cell_type": "markdown",
     "metadata": {},
     "source": [
      "## Compute x,y coord system from the native RADAR polar coordinates."
     ]
    },
    {
     "cell_type": "code",
     "collapsed": false,
     "input": [
      "theta = theta * np.pi / 180.\n",
      "d = r * np.cos(tilt * np.pi / 180.)\n",
      "x = np.array((np.matrix(np.cos(theta)).transpose() * np.matrix(d)))\n",
      "y = np.array((np.matrix(np.sin(theta)).transpose() * np.matrix(d)))\n",
      "height = np.abs(x.min()) + np.abs(x.max())\n",
      "width = np.abs(y.min()) + np.abs(y.max())\n",
      "x = x + height / 2.\n",
      "y = y + width / 2."
     ],
     "language": "python",
     "metadata": {},
     "outputs": [],
     "prompt_number": 6
    },
    {
     "cell_type": "markdown",
     "metadata": {},
     "source": [
      "## Create the plot"
     ]
    },
    {
     "cell_type": "code",
     "collapsed": false,
     "input": [
      "fig = plt.figure(figsize=(8,11))\n",
      "ax = fig.add_subplot(1,1,1)\n",
      "\n",
      "m=Basemap(lat_0=station_lat,lon_0=station_lon,resolution='i',\n",
      "          projection='laea',height=height,width=width,ax=ax)\n",
      "\n",
      "station_x, station_y = m(station_lon, station_lat)\n",
      "\n",
      "cmap = radar_colormap()\n",
      "norm = mpl.colors.Normalize(vmin=-35, vmax=80)\n",
      "\n",
      "ax.text(station_x, station_y, \"+{}\".format(site))\n",
      "\n",
      "cax = m.pcolormesh(y, x, data, cmap=cmap, norm=norm)\n",
      "m.drawcoastlines()\n",
      "m.drawstates()\n",
      "m.drawcountries()\n",
      "cbar = m.colorbar(cax)\n",
      "if \"units\" in data_attrs:\n",
      "    cbar.set_label(dataset.variables[variable].units)\n",
      "ax.set_title(station_id)\n",
      "ax.set_xlim(station_x-250000,station_x+250000)\n",
      "ax.set_ylim(station_y-250000,station_y+250000)\n",
      "plt.show()"
     ],
     "language": "python",
     "metadata": {},
     "outputs": [],
     "prompt_number": 7
    },
    {
     "cell_type": "markdown",
     "metadata": {},
     "source": [
      "Exercise:\n",
      "\n",
      "- Change the Radar site (use the [NWS](http://radar.weather.gov/radar.php?rid=ftg&product=N0R&overlay=11101111&loop=no) site as a guide to obtain the radar site name)\n",
      "- Visit the THREDDS catalog page, or print out dataset.variables.keys(), and try to visualize a new variable\n",
      "- How do our Radar maps at high latitudes compare to those of the NWS? Why do you think this is the case?"
     ]
    }
   ],
   "metadata": {}
  }
 ]
}