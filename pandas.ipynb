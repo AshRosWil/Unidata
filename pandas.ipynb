{
 "metadata": {
  "name": "pandas"
 },
 "nbformat": 3,
 "nbformat_minor": 0,
 "worksheets": [
  {
   "cells": [
    {
     "cell_type": "markdown",
     "source": [
      "# Pandas for data analysis"
     ]
    }
   ]
  }
 ]
}