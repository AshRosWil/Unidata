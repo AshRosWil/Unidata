{
 "metadata": {
  "name": "remote-data"
 },
 "nbformat": 3,
 "nbformat_minor": 0,
 "worksheets": [
  {
   "cells": [
    {
     "cell_type": "markdown",
     "source": [
      "# Remote data access with Python\n",
      "\n",
      "- Remote data access via netcdf4 API with the opendap "
     ]
    },
    {
     "cell_type": "code",
     "collapsed": false,
     "input": [],
     "language": "python",
     "outputs": []
    }
   ]
  }
 ]
}