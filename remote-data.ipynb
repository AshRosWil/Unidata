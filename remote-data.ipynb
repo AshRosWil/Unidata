{
 "metadata": {
  "name": "remote-data"
 },
 "nbformat": 3,
 "nbformat_minor": 0,
 "worksheets": [
  {
   "cells": [
    {
     "cell_type": "markdown",
     "source": [
      "# Remote data access with Python\n",
      "\n",
      "- Remote data access via netcdf4 API with the opendap\n",
      "-  "
     ]
    },
    {
     "cell_type": "code",
     "collapsed": false,
     "input": [
      "import netCDF4\n",
      "\n",
      "# DAP Data URL\n",
      "url = 'http://www.smast.umassd.edu:8080/thredds/dodsC/FVCOM/NECOFS/Forecasts/NECOFS_FVCOM_OCEAN_MASSBAY_FORECAST.nc'\n",
      "# Open DAP\n",
      "nc = netCDF4.Dataset(url)\n",
      "nc.variables.keys()"
     ],
     "language": "python",
     "outputs": [
      {
       "output_type": "pyout",
       "prompt_number": 1,
       "text": [
        "[u'x',\n",
        " u'y',\n",
        " u'lon',\n",
        " u'lat',\n",
        " u'xc',\n",
        " u'yc',\n",
        " u'lonc',\n",
        " u'latc',\n",
        " u'siglay',\n",
        " u'siglev',\n",
        " u'h',\n",
        " u'nv',\n",
        " u'time',\n",
        " u'Times',\n",
        " u'zeta',\n",
        " u'nbe',\n",
        " u'aw0',\n",
        " u'awx',\n",
        " u'awy',\n",
        " u'u',\n",
        " u'v',\n",
        " u'ww',\n",
        " u'temp',\n",
        " u'salinity']"
       ]
      }
     ],
     "prompt_number": 1
    }
   ]
  }
 ]
}