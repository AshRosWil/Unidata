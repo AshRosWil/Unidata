{
 "metadata": {
  "name": "remote-data"
 },
 "nbformat": 3,
 "nbformat_minor": 0,
 "worksheets": [
  {
   "cells": [
    {
     "cell_type": "code",
     "collapsed": false,
     "input": [
      "import numpy as np\n",
      "import matplotlib.pyplot as plt\n",
      "from datetime import datetime\n",
      "from mpl_toolkits.basemap import Basemap, addcyclic\n",
      "from scipy.ndimage.filters import minimum_filter, maximum_filter\n",
      "from netCDF4 import Dataset\n",
      "\n",
      "# plot 00 UTC today.\n",
      "date = datetime.now().strftime('%Y%m%d')+'00'\n",
      "\n",
      "# open OpenDAP dataset.\n",
      "#data=Dataset(\"http://nomads.ncep.noaa.gov:9090/dods/gfs/gfs/%s/gfs_%sz_anl\" %\\\n",
      "#        (date[0:8],date[8:10]))\n",
      "#data=Dataset(\"http://nomads.ncep.noaa.gov:9090/dods/gfs_hd/gfs_hd%s/gfs_hd_%sz\"%\\\n",
      "#        (date[0:8],date[8:10]))\n",
      "\n",
      "data=Dataset(\"http://nomads.ncep.noaa.gov:9090/dods/gfs_hd/gfs_hd%s/gfs_hd_%sz\"%\\\n",
      "        (date[0:8],date[8:10]))\n",
      "\n",
      "\n",
      "\n",
      "# read lats,lons.\n",
      "lats = data.variables['lat'][:]\n",
      "lons1 = data.variables['lon'][:]\n",
      "nlats = len(lats)\n",
      "nlons = len(lons1)\n",
      "# read prmsl, convert to hPa (mb).\n",
      "prmsl = 0.01*data.variables['prmslmsl'][0]\n",
      "\n",
      "prmsl\n"
     ],
     "language": "python",
     "outputs": [
      {
       "output_type": "pyout",
       "prompt_number": 9,
       "text": [
        "array([[ 1022.54199219,  1022.54199219,  1022.54199219, ...,\n",
        "         1022.54199219,  1022.54199219,  1022.54199219],\n",
        "       [ 1023.90203857,  1023.9130249 ,  1023.92498779, ...,\n",
        "         1023.86700439,  1023.87896729,  1023.88995361],\n",
        "       [ 1024.04992676,  1024.06994629,  1024.08898926, ...,\n",
        "         1023.9909668 ,  1024.01098633,  1024.0300293 ],\n",
        "       ..., \n",
        "       [ 1021.10101318,  1021.10601807,  1021.11199951, ...,\n",
        "         1021.08300781,  1021.08898926,  1021.0949707 ],\n",
        "       [ 1020.04302979,  1020.04602051,  1020.04998779, ...,\n",
        "         1020.03198242,  1020.03601074,  1020.03894043],\n",
        "       [ 1019.05999756,  1019.05999756,  1019.05999756, ...,\n",
        "         1019.05999756,  1019.05999756,  1019.05999756]], dtype=float32)"
       ]
      }
     ],
     "prompt_number": 9
    }
   ]
  }
 ]
}