{
 "metadata": {
  "name": "ipython-notebook"
 },
 "nbformat": 3,
 "nbformat_minor": 0,
 "worksheets": [
  {
   "cells": [
    {
     "cell_type": "markdown",
     "source": [
      "# ipython notebook\n",
      "\n",
      "**\"The IPython Notebook is the most significant development in scientific computing in the last decade.\" -Dr. C. Titus Brown, MSU**\n",
      "\n",
      "**\"The IPython Notebook is the coolest thing since the Mosaic web browser.\" -Dr. Rich Signell, Woods Hole Oceanographic Institution**\n",
      "\n",
      "* IPython Notebook is an interactive web environment for running and annotating python code.\n",
      "* Think Mathematica for Python.\n",
      "* IPython Notebook gives the output as it is generated.\n",
      "* Very powerful for quickly experimenting with code and accelerating the learning curve.\n",
      "* IPython Notebook gives the output as it is generated.\n",
      "* Typically runs on your local machine, but can be run remotely or on the cloud (e.g. Amazon EC2) and accessed trough your web browser.\n",
      "* Interact with IPython Notebook in the browser so available on any platform that has a web browser.\n",
      "* Rapidly prototype client applications.\n",
      "* Great for exploratory data analysis.\n",
      "* Perform \"big data\" analysis where your big data live (assuming you can start a notebook server where the data are located).\n",
      "  "
     ]
    },
    {
     "cell_type": "markdown",
     "source": [
      "## Starting IPython Notebook\n",
      "\n",
      "From the command line:\n",
      "\n",
      "    ipython notebook --pylab inline\n",
      "\n",
      "* `pylab` bundles some scientific computing libraries together.\n",
      "* `inline` enables embedded figures in the notebook."
     ]
    },
    {
     "cell_type": "markdown",
     "source": [
      "## Notebook Cells\n",
      "\n",
      "- An IPython Notebook is a series of \"cells\".\n",
      "- A cell can either be code, markdown, or \"raw\".\n",
      "- Create cells from the IPython Notebook menu or better yet learn the keyboard shortcuts.\n",
      "- `Shift-Enter` : run cell\n",
      "- `Ctrl-m b` : insert cell below"
     ]
    },
    {
     "cell_type": "markdown",
     "source": [
      "## Hello world\n"
     ]
    },
    {
     "cell_type": "code",
     "collapsed": false,
     "input": [
      "print(\"Hello world\")"
     ],
     "language": "python",
     "outputs": [
      {
       "output_type": "stream",
       "stream": "stdout",
       "text": [
        "Hello world"
       ]
      }
     ],
     "prompt_number": 12
    },
    {
     "cell_type": "markdown",
     "source": [
      "## *Exercise*\n",
      "\n",
      "- Create a new note book cell here.\n",
      "- Write a one line program to print your name.\n",
      "- Execute cell"
     ]
    },
    {
     "cell_type": "markdown",
     "source": [
      "## Embedding Markdown\n",
      "\n",
      "You can embed your notebook with markdown. Markdown is a lightweight web markup language can be inserted right into the notebook. This is useful for annotating your notebook code samples."
     ]
    },
    {
     "cell_type": "markdown",
     "source": [
      "## Nice Errors"
     ]
    },
    {
     "cell_type": "code",
     "collapsed": false,
     "input": [
      "1 + foo"
     ],
     "language": "python",
     "outputs": [
      {
       "ename": "NameError",
       "evalue": "name 'foo' is not defined",
       "output_type": "pyerr",
       "traceback": [
        "\u001b[0;31m---------------------------------------------------------------------------\u001b[0m\n\u001b[0;31mNameError\u001b[0m                                 Traceback (most recent call last)",
        "\u001b[0;32m/Users/chastang/git/tds-python-workshop/<ipython-input-3-130777adf3f0>\u001b[0m in \u001b[0;36m<module>\u001b[0;34m()\u001b[0m\n\u001b[0;32m----> 1\u001b[0;31m \u001b[0;36m1\u001b[0m \u001b[0;34m+\u001b[0m \u001b[0mfoo\u001b[0m\u001b[0;34m\u001b[0m\u001b[0m\n\u001b[0m",
        "\u001b[0;31mNameError\u001b[0m: name 'foo' is not defined"
       ]
      }
     ],
     "prompt_number": 3
    },
    {
     "cell_type": "markdown",
     "source": [
      "## Inline Documentation\n",
      "\n",
      "Executing the cell will split the pane and open documentation."
     ]
    },
    {
     "cell_type": "code",
     "collapsed": false,
     "input": [
      "open?"
     ],
     "language": "python",
     "outputs": [],
     "prompt_number": 8
    },
    {
     "cell_type": "markdown",
     "source": [
      "## Tab Completion\n",
      "\n",
      "Type tab after `o` and see what happens. You should see a pop-up drop-down menu of choices."
     ]
    },
    {
     "cell_type": "code",
     "collapsed": false,
     "input": [
      "o"
     ],
     "language": "python",
     "outputs": []
    },
    {
     "cell_type": "markdown",
     "source": [
      "## Plotting\n",
      "\n",
      "ipython notebook has nice *inline* plotting capability."
     ]
    },
    {
     "cell_type": "code",
     "collapsed": false,
     "input": [
      "# Lissajous curve\n",
      "from numpy import sin,pi,linspace\n",
      "from pylab import plot,show,subplot\n",
      "\n",
      "delta = pi/2\n",
      "t = linspace(-pi,pi,300)\n",
      "x = sin(3 * t + delta)\n",
      "y = sin(5 * t)\n",
      "plot(x,y)\n",
      "\n",
      "show()"
     ],
     "language": "python",
     "outputs": [
      {
       "output_type": "display_data",
       "png": "[encoded data removed]"
      }
     ],
     "prompt_number": 10
    },
    {
     "cell_type": "markdown",
     "source": [
      "## *Exercise*\n",
      "\n",
      "- Change one of the arguments in the `sin` function above.\n",
      "- Execute cell."
     ]
    },
    {
     "cell_type": "markdown",
     "source": [
      "## Interrupts\n",
      "\n",
      "If IPython Notebook gets jammed up, you can restart it with the `Kernel -> Interrupt` and `Kernel -> Restart` menu items."
     ]
    },
    {
     "cell_type": "markdown",
     "source": [
      "## LaTeX \n",
      "\n",
      "    $$F(k) = \\int_{-\\infty}^{\\infty} f(x) e^{2\\pi i k} dx$$\n",
      "\n",
      "yields:\n",
      "\n",
      "$$F(k) = \\int_{-\\infty}^{\\infty} f(x) e^{2\\pi i k} dx$$"
     ]
    },
    {
     "cell_type": "markdown",
     "source": [
      "## Run Shell Commands with `!`"
     ]
    },
    {
     "cell_type": "code",
     "collapsed": false,
     "input": [
      "!ls"
     ],
     "language": "python",
     "outputs": [
      {
       "output_type": "stream",
       "stream": "stdout",
       "text": [
        "README.md              ipython-notebook.ipynb numpy.ipynb"
       ]
      }
     ],
     "prompt_number": 21
    },
    {
     "cell_type": "markdown",
     "source": [
      "## Local or Remote Images and Even Videos"
     ]
    },
    {
     "cell_type": "code",
     "collapsed": false,
     "input": [
      "from IPython.core.display import Image \n",
      "Image(url='http://python.org/images/python-logo.gif')"
     ],
     "language": "python",
     "outputs": [
      {
       "html": [
        "<img src=\"http://python.org/images/python-logo.gif\" />"
       ],
       "output_type": "pyout",
       "prompt_number": 27,
       "text": [
        "<IPython.core.display.Image at 0x1035dd790>"
       ]
      }
     ],
     "prompt_number": 27
    },
    {
     "cell_type": "markdown",
     "source": [
      "## Take Python Code and Display it in LaTeX (Wow!)"
     ]
    },
    {
     "cell_type": "code",
     "collapsed": false,
     "input": [
      "%reload_ext sympy.interactive.ipythonprinting\n",
      "%pylab inline\n",
      "\n",
      "from __future__ import division\n",
      "import sympy as sym\n",
      "from sympy import *\n",
      "x, y = symbols(\"x y\")\n",
      "Rational(3,2)*pi + exp(I*x) / (x**2 + y)"
     ],
     "language": "python",
     "outputs": [
      {
       "output_type": "stream",
       "stream": "stdout",
       "text": [
        "\n",
        "Welcome to pylab, a matplotlib-based Python environment [backend: module://IPython.zmq.pylab.backend_inline].\n",
        "For more information, type 'help(pylab)'.\n"
       ]
      },
      {
       "latex": [
        "$$\\frac{3}{2} \\pi + \\frac{e^{\\mathbf{\\imath} x}}{x^{2} + y}$$"
       ],
       "output_type": "pyout",
       "png": "[encoded data removed]",
       "prompt_number": 2,
       "text": [
        "        \u2148\u22c5x \n",
        "3\u22c5\u03c0    \u212f    \n",
        "\u2500\u2500\u2500 + \u2500\u2500\u2500\u2500\u2500\u2500\n",
        " 2     2    \n",
        "      x  + y"
       ]
      }
     ],
     "prompt_number": 2
    },
    {
     "cell_type": "markdown",
     "source": [
      "## Load External Codes"
     ]
    },
    {
     "cell_type": "code",
     "collapsed": false,
     "input": [
      "loadpy http://matplotlib.org/mpl_examples/pylab_examples/simple_plot.py "
     ],
     "language": "python",
     "outputs": [],
     "prompt_number": 46
    },
    {
     "cell_type": "code",
     "collapsed": false,
     "input": [
      "from pylab import *\n",
      "\n",
      "t = arange(0.0, 2.0, 0.01)\n",
      "s = sin(2*pi*t)\n",
      "plot(t, s, linewidth=1.0)\n",
      "\n",
      "xlabel('time (s)')\n",
      "ylabel('voltage (mV)')\n",
      "title('About as simple as it gets, folks')\n",
      "grid(True)\n",
      "savefig(\"test.png\")\n",
      "show()"
     ],
     "language": "python",
     "outputs": []
    },
    {
     "cell_type": "markdown",
     "source": [
      "## Sharing\n",
      "\n",
      "- Note that an IPython notebook is simply a JSON file that you can share with colleagues.\n",
      "- There is also a neat site called [nbviewer](http://nbviewer.ipython.org/) that allows you to view and share notebooks."
     ]
    },
    {
     "cell_type": "code",
     "collapsed": false,
     "input": [
      "from IPython.display import HTML\n",
      "HTML('<iframe src=http://nbviewer.ipython.org width=700 height=350></iframe>')"
     ],
     "language": "python",
     "outputs": [
      {
       "html": [
        "<iframe src=http://nbviewer.ipython.org width=700 height=350></iframe>"
       ],
       "output_type": "pyout",
       "prompt_number": 2,
       "text": [
        "<IPython.core.display.HTML at 0x107c23e50>"
       ]
      }
     ],
     "prompt_number": 2
    },
    {
     "cell_type": "markdown",
     "source": [
      "## Interesting notebooks\n",
      "\n",
      "- [Exploring Climate Data: Past and Future](http://nbviewer.ipython.org/4251308)\n",
      "- [Extract NECOFS water levels using NetCDF4-Python and analyze/visualize with Pandas](http://nbviewer.ipython.org/4740419)\n",
      "- [Access data from the NECOFS (New England Coastal Ocean Forecast System) via OPeNDAP](http://nbviewer.ipython.org/5092905)\n",
      "- [Extract time series from 3D [time,lat,lon] dataset](http://nbviewer.ipython.org/4113653)\n",
      "- [Using Iris to access NCEP CFSR 30-year Wave Hindcast](http://nbviewer.ipython.org/5492513)\n"
     ]
    }
   ]
  }
 ]
}