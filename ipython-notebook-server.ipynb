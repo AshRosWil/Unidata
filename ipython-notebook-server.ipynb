{
 "metadata": {
  "name": "ipython-notebook-server"
 },
 "nbformat": 3,
 "nbformat_minor": 0,
 "worksheets": [
  {
   "cells": [
    {
     "cell_type": "markdown",
     "metadata": {},
     "source": [
      "# Remote iPython Notebooks\n",
      "\n",
      "## Overview\n",
      "\n",
      "The focus of this talk is on an advanced-usage case for iPython notebook.  As we have seen, using iPython notebook locally is a fairly straight-forward process. Sometimes, however, it may be advantageous to set up an iPython notebook for use remotely, or to be accessed by multiple users.  This requires installing and configuring iPython notebook on a centralized server. \n",
      "\n",
      "* Reasons why you might want to use an iPython notebook instance on a remote server:\n",
      "    * To make it more readily accessible for yourself.\n",
      "    * To make it more readily available to others.\n",
      "    * To take advantage of large-scale compute clusters/supercomputing.\n",
      "\n",
      "\n",
      "I will also briefly discuss options for hosting a network-accessable iPython notebook.\n",
      "\n",
      "## Creating a Notebook for remote access \n",
      "\n",
      "There are several steps to creating and configuring a notebook server instance. (These are adapted from official instructions provided at the [Official iPython Website][ipython-web]).\n",
      "\n",
      "1. Create a profile that defines the notebook server instance.\n",
      "2. Create a certificate and password to use with the server instance.\n",
      "3. Edit the profile and specify security settings.\n",
      "4. Launching the notebook.\n",
      "\n",
      "[ipython-web]:http://ipython.org/ipython-doc/dev/interactive/htmlnotebook.html\n",
      "    \n",
      "### 1. Creating a profile for the server\n",
      "\n",
      "Creating a profile for the server allows you to manage multiple iPython notebook instances on the server.\n",
      "\n",
      "    $ ipython profile create nbserver\n",
      "    \n",
      "On a linux/unix machine, this will create the ~/.ipython/profile_nbserver directory. In this directory, amongst all the files created by ipython, will be the **ipython_notebook_config.py** file.  This is the file we will be working in for the configuration steps of this process.\n",
      "\n",
      "### 2. Creating a self-signed certificate file, if necessary\n",
      "\n",
      "Unless you have an institutional security certificate, you will need to create a self-signed certificate file for use with your server.  This will allow secure access.\n",
      "\n",
      "    $ openssl req -x509 -nodes -days 365 -newkey rsa:1024 -keyout mycert.pem -out mycert.pem\n",
      "        \n",
      "#### Caveats regarding the use of a self-signed certificate\n",
      "\n",
      "Note that when using a self-signed certificate, your browser may complain that the sight is not necessarily valid.  Because you created the certificate, it is safe to allow an exception for this server/certificate.  If it is possible to instead use a valid signed certificate in place of a self-signed certificate, this is preferable.\n",
      "\n",
      "### 3. Creating a password hash\n",
      "\n",
      "In order to secure your notebook server, it is ***vital*** to set a password.  This is done by defining a *password hash* in the notebook configuration file.  You will generate the password hash from inside iPython.\n",
      "\n",
      "    $ ipython"
     ]
    },
    {
     "cell_type": "code",
     "collapsed": false,
     "input": [
      "from IPython.lib import passwd\n",
      "\n",
      "# Note: In practice, passwd() will prompt for a\n",
      "# password. This is preferable, since otherwise\n",
      "# your password will be saved inside your session\n",
      "# history.\n",
      "\n",
      "passwd(\"Test Password\")"
     ],
     "language": "python",
     "metadata": {},
     "outputs": [
      {
       "output_type": "pyout",
       "prompt_number": 3,
       "text": [
        "'sha1:15d405a639aa:2213192e48a90ea099e5bbd5b84154df4c97cd48'"
       ]
      }
     ],
     "prompt_number": 3
    },
    {
     "cell_type": "markdown",
     "metadata": {},
     "source": [
      "### 4. Configuring the notebook profile\n",
      "\n",
      "The notebook server is configured by editing the `ipython_notebook_config.py` file found inside the ~/.ipython/profile_nbserver directory created previously.\n",
      "\n",
      "Open `ipython_notebook_config.py` in your favorite editor and add the following:\n",
      "\n",
      "    # Kernel config\n",
      "    c.IPKernelApp.pylab = 'inline'  # if you want plotting support always\n",
      "\n",
      "    # Notebook config\n",
      "    c.NotebookApp.certfile = u'/absolute/path/to/your/certificate/mycert.pem'\n",
      "    c.NotebookApp.ip = '*'\n",
      "    c.NotebookApp.open_browser = False\n",
      "    c.NotebookApp.password = u'sha1:bcd259ccf...your hashed password here'\n",
      "    # It's a good idea to put it on a known, fixed port\n",
      "    c.NotebookApp.port = 9999"
     ]
    },
    {
     "cell_type": "markdown",
     "metadata": {},
     "source": [
      "## 5. Launching the notebook server\n",
      "\n",
      "In order to make the server available, you will start it with the following command:\n",
      "\n",
      "    $ ipython notebook --profile=nbserver\n",
      "\n",
      "It can then be accessed via browser at https://your.host.com:9999. \n",
      "        \n",
      "### <center> *Note the use of  **https** instead of **http**!*</center>"
     ]
    },
    {
     "cell_type": "markdown",
     "metadata": {},
     "source": [
      "# Hosting Options\n",
      "\n",
      "There are many different options available for hosting an iPython notebook. \n",
      "\n",
      "* Local hosting.\n",
      "* Self-Managed remote hosting.\n",
      "* Managed remote hosting.\n",
      "\n"
     ]
    },
    {
     "cell_type": "markdown",
     "metadata": {},
     "source": [
      "## 1. Local Hosting\n",
      "\n",
      "Local hosting can be both easier and more frustrating than using a remote hosting service, whether managed or not.\n",
      "\n",
      "* **Pros:**\n",
      "    * It is possible to use existing equipment.\n",
      "    * It is self-managed, so no intermediary for configuration/adding new notebooks.\n",
      "\n",
      "* **Cons:**\n",
      "    * Requires a little bit of technical expertise to set up.\n",
      "    * Depending on the computing/network environment, remote access may not be entirely possible.\n",
      "        * *For example, the Unidata firewall blocks access to internal notebook servers from the guest wifi*\n",
      "    "
     ]
    },
    {
     "cell_type": "markdown",
     "metadata": {},
     "source": [
      "## 2. Self-Managed Cloud-based Services\n",
      "\n",
      "* Rackspace\n",
      "* Amazon EC2\n",
      "\n",
      "* **Pros:**\n",
      "    * Easy to set up and configure.\n",
      "    * Affordable options available for smaller-scale distributions.\n",
      "\n",
      "* **Cons:**\n",
      "    * Still self-managed.\n",
      "    * Pricing can spike quickly depending on total use, bandwidth consumed, underlying processing power."
     ]
    },
    {
     "cell_type": "markdown",
     "metadata": {},
     "source": [
      "\n",
      "## 3. Managed Cloud-based Services\n",
      "\n",
      "* Wakari: [http://www.continuum.io/wakari][wakari]\n",
      "* PiCloud: [http://www.picloud.com][picloud]\n",
      "\n",
      "    \n",
      "* Provides a remote environment, tweaked for big-data applications.\n",
      "* Pricing typically based on cores, memory, and total number of instances.\n",
      "    \n",
      "* **Pros:**\n",
      "    * Built for large data analysis.\n",
      "    * Managed by Wakari.\n",
      "    \n",
      "* **Cons:**\n",
      "    * Anything besides basic service level requires a paid account.\n",
      "        * These can become quite expensive: \n",
      "            * [https://wakari.io/plans][wakari-plans]\n",
      "            * [http://www.picloud.com/pricing/][picloud-plans]\n",
      "    * Accounts can be shared, but cannot share a notebook between accounts.\n",
      "    * Getting notebooks in to, out of these services can be tricky.\n",
      "    * You may still need to configure custom packages manually.\n",
      "\n",
      "[picloud]: http://www.picloud.com\n",
      "[wakari]: http://www.continuum.io/wakari\n",
      "[picloud-plans]: http://www.picloud.com/pricing/\n",
      "[wakari-plans]: https://wakari.io/plans"
     ]
    },
    {
     "cell_type": "markdown",
     "metadata": {},
     "source": [
      "# Summary\n",
      "\n",
      "It "
     ]
    }
   ],
   "metadata": {}
  }
 ]
}