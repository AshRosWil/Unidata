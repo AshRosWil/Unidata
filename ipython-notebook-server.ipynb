{
 "metadata": {
  "name": "iPython Notebook Server"
 },
 "nbformat": 3,
 "nbformat_minor": 0,
 "worksheets": [
  {
   "cells": [
    {
     "cell_type": "markdown",
     "metadata": {},
     "source": [
      "# Remote iPython Notebooks\n",
      "\n",
      "The focus of this talk is on an advanced-usage case for iPython notebook.  As we have seen, using iPython notebook locally is a very straight-forward process.\n",
      "\n",
      "\n",
      "## Overview\n",
      "\n",
      "Please note that these instructions are adapted from the official instructions provided at the [Official iPython Website][ipython-web].\n",
      "\n",
      "[ipython-web]:http://ipython.org/ipython-doc/dev/interactive/htmlnotebook.html\n",
      "\n",
      "## Creating the Notebook Server\n",
      "\n",
      "Creating the notebook server is performed in steps.\n",
      "\n",
      "1. Create a profile that defines the notebook server.\n",
      "2. Create a certificate and password to use with the server.\n",
      "3. Edit the profile and specify security settings:\n",
      "    * Access Permissions\n",
      "    * Port Number\n",
      "    * Password hash\n",
      "    * Certificate\n",
      "\n",
      "## Creating a profile for the server\n",
      "\n",
      "Creating the profile for the server allows you to manage multiple iPython notebooks sets on your local machine.\n",
      "\n",
      "    $ ipython profile create nbserver\n",
      "    \n",
      "On a linux/unix machine, this will create the ~/.ipython/profile_nbserver directory. In this directory, amongst all the files created by ipython, will be the **ipython_notebook_config.py** file.  This is the file we will be working in for the configuration steps of this process.\n",
      "\n",
      "## Creating a self-signed certificate file, if necessary\n",
      "\n",
      "    $ openssl req -x509 -nodes -days 365 -newkey rsa:1024 -keyout mycert.pem -out mycert.pem\n",
      "        \n",
      "### Caveats regarding the use of a self-signed certificate\n",
      "\n",
      "Note that when using a self-signed certificate, your browser may complain that the sight is not necessarily valid.  Because you created the certificate, it is safe to allow an exception for this server/certificate.  If it is possible to instead use a valid signed certificate in place of a self-signed certificate, this is preferable.\n",
      "\n",
      "\n",
      "## Creating a password hash\n",
      "\n",
      "In order to secure your notebook server, it is important to set a password.  This is done by defining a *password hash* in the notebook configuration file.  You will generate the password hash from inside iPython.\n",
      "\n",
      "    $ ipython\n"
     ]
    },
    {
     "cell_type": "code",
     "collapsed": false,
     "input": [
      "from IPython.lib import passwd\n",
      "\n",
      "# Note: In practice, passwd() will prompt for a\n",
      "# password. This is preferable, since otherwise\n",
      "# your password will be saved inside your session\n",
      "# history.\n",
      "\n",
      "passwd(\"Test Password\")"
     ],
     "language": "python",
     "metadata": {},
     "outputs": [
      {
       "output_type": "pyout",
       "prompt_number": 3,
       "text": [
        "'sha1:15d405a639aa:2213192e48a90ea099e5bbd5b84154df4c97cd48'"
       ]
      }
     ],
     "prompt_number": 3
    },
    {
     "cell_type": "markdown",
     "metadata": {},
     "source": [
      "In this example, the *password hash* is 'sha1:15d405a639aa:2213192e48a90ea099e5bbd5b84154df4c97cd48'\n",
      "\n",
      "### Configuring the notebook Server\n",
      "\n",
      "The notebook server is configured by editing the ipython_notebook_config.py file located inside the ~/.ipython/profile_nbserver directory created previously.\n",
      "\n",
      "Open ipython_notebook_config.py in your favorite editor and add the following:\n",
      "    \n",
      "    # Kernel config\n",
      "    c.IPKernelApp.pylab = 'inline'  # if you want plotting support always\n",
      "\n",
      "    # Notebook config\n",
      "    c.NotebookApp.certfile = u'/absolute/path/to/your/certificate/mycert.pem'\n",
      "    c.NotebookApp.ip = '*'\n",
      "    c.NotebookApp.open_browser = False\n",
      "    c.NotebookApp.password = u'sha1:bcd259ccf...your hashed password here'\n",
      "    # It's a good idea to put it on a known, fixed port\n",
      "    c.NotebookApp.port = 9999\n",
      "\n",
      "## Launching the notebook server\n",
      "\n",
      "In order to make the server available, you will start it with the following command:\n",
      "\n",
      "    $ ipython notebook --profile=nbserver\n",
      "\n",
      "It can then be accessed via browser at https://your.host.com:9999 . Note the use of  **https** instead of **http**."
     ]
    }
   ],
   "metadata": {}
  }
 ]
}