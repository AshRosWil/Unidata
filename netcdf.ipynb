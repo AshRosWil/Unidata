{
 "metadata": {
  "name": "netcdf"
 },
 "nbformat": 3,
 "nbformat_minor": 0,
 "worksheets": [
  {
   "cells": [
    {
     "cell_type": "markdown",
     "source": [
      "# netCDF \n",
      "\n",
      "- Network Common Data Form \n",
      "- Scientific binary data format widely used in geoscience.\n",
      "- Self describing, array-oriented, platform independent."
     ]
    },
    {
     "cell_type": "markdown",
     "source": [
      "## netcdf4-python\n",
      "\n",
      "- Python/numpy interface to netCDF\n",
      "- Available at Google Code: https://code.google.com/p/netcdf4-python/\n",
      "- Developed by Jeff Whitaker at ESRL, NOAA and others"
     ]
    },
    {
     "cell_type": "markdown",
     "source": [
      "## Interactively Exploring a netCDF File"
     ]
    },
    {
     "cell_type": "markdown",
     "source": [
      "To import netcdf4-python"
     ]
    },
    {
     "cell_type": "code",
     "collapsed": false,
     "input": [
      "import netCDF4"
     ],
     "language": "python",
     "outputs": [],
     "prompt_number": 3
    },
    {
     "cell_type": "markdown",
     "source": [
      "## List variables"
     ]
    },
    {
     "cell_type": "code",
     "collapsed": false,
     "input": [
      "import netCDF4\n",
      "f = netCDF4.Dataset('./data/rtofs_glo_3dz_f006_6hrly_reg3.nc', 'r')\n",
      "for v in f.variables:\n",
      "    print(v),\n"
     ],
     "language": "python",
     "outputs": [
      {
       "output_type": "stream",
       "stream": "stdout",
       "text": [
        "MT Date Depth Y X Latitude Longitude u v temperature salinity\n"
       ]
      }
     ],
     "prompt_number": 1
    },
    {
     "cell_type": "code",
     "collapsed": false,
     "input": [
      "Let's put our OO knowledge to use\n",
      "\n",
      "- `f` is an object\n",
      "- `variables` is an attribute of f, in particular it is a dictionary\n",
      "- You can list all the attributes of an object with the `dir` function (e.g. `dir(f)`)"
     ],
     "language": "python",
     "outputs": []
    },
    {
     "cell_type": "code",
     "collapsed": false,
     "input": [
      "type(f.variables) # f.variables is a dictionary data structure"
     ],
     "language": "python",
     "outputs": [
      {
       "output_type": "pyout",
       "prompt_number": 32,
       "text": [
        "collections.OrderedDict"
       ]
      }
     ],
     "prompt_number": 32
    },
    {
     "cell_type": "markdown",
     "source": [
      "## List the dimensions"
     ]
    },
    {
     "cell_type": "code",
     "collapsed": false,
     "input": [
      "for d in f.dimensions:\n",
      "    print(d),"
     ],
     "language": "python",
     "outputs": [
      {
       "output_type": "stream",
       "stream": "stdout",
       "text": [
        "MT Y X Depth\n"
       ]
      }
     ],
     "prompt_number": 3
    },
    {
     "cell_type": "markdown",
     "source": [
      "## Let's find out more about temperature.\n",
      "\n",
      "- First, let's get the variable object for temperature."
     ]
    },
    {
     "cell_type": "code",
     "collapsed": false,
     "input": [
      "tempv = f.variables['temperature']\n",
      "tempv"
     ],
     "language": "python",
     "outputs": [
      {
       "output_type": "pyout",
       "prompt_number": 9,
       "text": [
        "<netCDF4.Variable at 0x10b7106d0>"
       ]
      }
     ],
     "prompt_number": 9
    },
    {
     "cell_type": "code",
     "collapsed": false,
     "input": [
      "tempv.standard_name"
     ],
     "language": "python",
     "outputs": [
      {
       "output_type": "pyout",
       "prompt_number": 31,
       "text": [
        "u'sea_water_potential_temperature'"
       ]
      }
     ],
     "prompt_number": 31
    },
    {
     "cell_type": "code",
     "collapsed": false,
     "input": [
      "tempv.units"
     ],
     "language": "python",
     "outputs": [
      {
       "output_type": "pyout",
       "prompt_number": 34,
       "text": [
        "u'degC'"
       ]
      }
     ],
     "prompt_number": 34
    },
    {
     "cell_type": "code",
     "collapsed": false,
     "input": [
      "tempv.coordinates"
     ],
     "language": "python",
     "outputs": [
      {
       "output_type": "pyout",
       "prompt_number": 25,
       "text": [
        "u'Longitude Latitude Date'"
       ]
      }
     ],
     "prompt_number": 25
    },
    {
     "cell_type": "code",
     "collapsed": false,
     "input": [
      "tempv.dimensions"
     ],
     "language": "python",
     "outputs": [
      {
       "output_type": "pyout",
       "prompt_number": 26,
       "text": [
        "(u'MT', u'Depth', u'Y', u'X')"
       ]
      }
     ],
     "prompt_number": 26
    },
    {
     "cell_type": "code",
     "collapsed": false,
     "input": [
      "f.variables['Depth'][:]"
     ],
     "language": "python",
     "outputs": [
      {
       "output_type": "pyout",
       "prompt_number": 88,
       "text": [
        "array([    0.,   100.,   200.,   400.,   700.,  1000.,  2000.,  3000.,\n",
        "        4000.,  5000.], dtype=float32)"
       ]
      }
     ],
     "prompt_number": 88
    },
    {
     "cell_type": "code",
     "collapsed": false,
     "input": [
      "foo = f.variables['MT']\n",
      "foo.units"
     ],
     "language": "python",
     "outputs": [
      {
       "output_type": "pyout",
       "prompt_number": 45,
       "text": [
        "u'days since 1900-12-31 00:00:00'"
       ]
      }
     ],
     "prompt_number": 45
    },
    {
     "cell_type": "code",
     "collapsed": false,
     "input": [
      "len(f.variables['temperature'][:])"
     ],
     "language": "python",
     "outputs": [
      {
       "output_type": "pyout",
       "prompt_number": 40,
       "text": [
        "1"
       ]
      }
     ],
     "prompt_number": 40
    },
    {
     "cell_type": "code",
     "collapsed": false,
     "input": [
      "##  Let's find the lat/lon bounds"
     ],
     "language": "python",
     "outputs": []
    },
    {
     "cell_type": "markdown",
     "source": [
      "## What is the sea surface temperature and salinity at 50N, 140W \n"
     ]
    },
    {
     "cell_type": "code",
     "collapsed": false,
     "input": [
      "import numpy as np\n",
      "lat = f.variables['Latitude'][:]\n",
      "lon = f.variables['Longitude'][:]\n",
      "# latlon = np.dstack((lat,lon))\n"
     ],
     "language": "python",
     "outputs": [],
     "prompt_number": 20
    },
    {
     "cell_type": "markdown",
     "source": [
      "### Need to find the index of 50N, 140W"
     ]
    },
    {
     "cell_type": "code",
     "collapsed": false,
     "input": [
      "def find_latlon(lt,ln):\n",
      "    return lt > 50 and ln > -140\n",
      "\n",
      "vfunc = np.vectorize(find_latlon)\n",
      "lat_idx,lon_idx= np.where(vfunc(lat,lon))\n",
      "lat_idx[0],lon_idx[0]"
     ],
     "language": "python",
     "outputs": [
      {
       "output_type": "pyout",
       "prompt_number": 4,
       "text": [
        "(123, 486)"
       ]
      }
     ],
     "prompt_number": 4
    },
    {
     "cell_type": "markdown",
     "source": [
      "### Sanity check"
     ]
    },
    {
     "cell_type": "code",
     "collapsed": false,
     "input": [
      "lat[123,486],lon[123,486]"
     ],
     "language": "python",
     "outputs": [
      {
       "output_type": "pyout",
       "prompt_number": 52,
       "text": [
        "(50.015648, -139.97681)"
       ]
      }
     ],
     "prompt_number": 52
    },
    {
     "cell_type": "code",
     "collapsed": false,
     "input": [
      "f.variables['Depth'][:]"
     ],
     "language": "python",
     "outputs": [
      {
       "output_type": "pyout",
       "prompt_number": 6,
       "text": [
        "array([    0.,   100.,   200.,   400.,   700.,  1000.,  2000.,  3000.,\n",
        "        4000.,  5000.], dtype=float32)"
       ]
      }
     ],
     "prompt_number": 6
    },
    {
     "cell_type": "code",
     "collapsed": false,
     "input": [
      "f.variables['MT'][:]\n"
     ],
     "language": "python",
     "outputs": [
      {
       "output_type": "pyout",
       "prompt_number": 7,
       "text": [
        "array([ 41023.25])"
       ]
      }
     ],
     "prompt_number": 7
    },
    {
     "cell_type": "markdown",
     "source": [
      "### Now we have all the information we need to find our answer."
     ]
    },
    {
     "cell_type": "code",
     "collapsed": false,
     "input": [
      "tempv.dimensions"
     ],
     "language": "python",
     "outputs": [
      {
       "output_type": "pyout",
       "prompt_number": 10,
       "text": [
        "(u'MT', u'Depth', u'Y', u'X')"
       ]
      }
     ],
     "prompt_number": 10
    },
    {
     "cell_type": "markdown",
     "source": [
      "### And our answer..."
     ]
    },
    {
     "cell_type": "code",
     "collapsed": false,
     "input": [
      "tempv[0,0,123,486]"
     ],
     "language": "python",
     "outputs": [
      {
       "output_type": "pyout",
       "prompt_number": 16,
       "text": [
        "6.4858646"
       ]
      }
     ],
     "prompt_number": 16
    }
   ]
  }
 ]
}