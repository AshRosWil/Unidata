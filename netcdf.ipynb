{
 "metadata": {
  "name": "netcdf"
 },
 "nbformat": 3,
 "nbformat_minor": 0,
 "worksheets": [
  {
   "cells": [
    {
     "cell_type": "markdown",
     "source": [
      "# netCDF File Exploration with Python and NumPy\n",
      "\n",
      "- Network Common Data Form \n",
      "- Scientific binary data format widely used in geoscience.\n",
      "- Self describing, array-oriented, platform independent."
     ]
    },
    {
     "cell_type": "markdown",
     "source": [
      "## netcdf4-python\n",
      "\n",
      "- Python/NumPy interface to netCDF\n",
      "- Available at Google Code: https://code.google.com/p/netcdf4-python/\n",
      "- Developed by Jeff Whitaker at ESRL, NOAA and others"
     ]
    },
    {
     "cell_type": "markdown",
     "source": [
      "## Interactively Exploring a netCDF File\n",
      "\n",
      "Let's explore a netCDF file from the *Atlantic Real-Time Ocean Forecast System*\n",
      "\n",
      "To import netcdf4-python"
     ]
    },
    {
     "cell_type": "code",
     "collapsed": false,
     "input": [
      "import netCDF4"
     ],
     "language": "python",
     "outputs": [],
     "prompt_number": 3
    },
    {
     "cell_type": "markdown",
     "source": [
      "## NumPy\n",
      "\n",
      "To explore netCDF arrays, we will also need NumPy.\n",
      "\n",
      "- NumPy (pronounced \"num pie\" or \"num pee\") is a library that enables scientific programming in Python.\n",
      "- Facilities for n-dimensional array based calculations similar to Fortran and IDL.\n",
      "- A set of mathematical functions to act on scalars and arrays.\n",
      "- The core Python language eschews primitive type numeric arrays which is why we need NumPy.\n",
      "\n",
      "To import NumPy:"
     ]
    },
    {
     "cell_type": "code",
     "collapsed": false,
     "input": [
      "import numpy as np"
     ],
     "language": "python",
     "outputs": []
    },
    {
     "cell_type": "markdown",
     "source": [
      "## List variables"
     ]
    },
    {
     "cell_type": "code",
     "collapsed": false,
     "input": [
      "import netCDF4\n",
      "f = netCDF4.Dataset('data/rtofs_glo_3dz_f006_6hrly_reg3.nc', 'r')\n",
      "for v in f.variables:\n",
      "    print(v),"
     ],
     "language": "python",
     "outputs": [
      {
       "output_type": "stream",
       "stream": "stdout",
       "text": [
        "MT Date Depth Y X Latitude Longitude u v temperature salinity\n"
       ]
      }
     ],
     "prompt_number": 1
    },
    {
     "cell_type": "markdown",
     "source": [
      "Let's put our Python object oriented knowledge to use\n",
      "\n",
      "- `f` is an object\n",
      "- `variables` is an attribute of f, in particular it is a dictionary\n",
      "- You can list all the attributes of an object with the `dir` function (e.g. `dir(f)`)"
     ]
    },
    {
     "cell_type": "code",
     "collapsed": false,
     "input": [
      "type(f.variables) # f.variables is a dictionary data structure"
     ],
     "language": "python",
     "outputs": [
      {
       "output_type": "pyout",
       "prompt_number": 32,
       "text": [
        "collections.OrderedDict"
       ]
      }
     ],
     "prompt_number": 32
    },
    {
     "cell_type": "markdown",
     "source": [
      "## List the Dimensions\n",
      "\n",
      "- All variables in a netCDF file have an associated dimension.\n",
      "- Let's list the dimensions in this netCDF file.\n"
     ]
    },
    {
     "cell_type": "code",
     "collapsed": false,
     "input": [
      "for d in f.dimensions:\n",
      "    print(d),"
     ],
     "language": "python",
     "outputs": [
      {
       "output_type": "stream",
       "stream": "stdout",
       "text": [
        "MT Y X Depth\n"
       ]
      }
     ],
     "prompt_number": 3
    },
    {
     "cell_type": "markdown",
     "source": [
      "## Let's find out more about temperature.\n",
      "\n",
      "First, let's get the variable object for temperature."
     ]
    },
    {
     "cell_type": "code",
     "collapsed": false,
     "input": [
      "tempv = f.variables['temperature']"
     ],
     "language": "python",
     "outputs": [],
     "prompt_number": 17
    },
    {
     "cell_type": "code",
     "collapsed": false,
     "input": [
      "tempv.standard_name"
     ],
     "language": "python",
     "outputs": [
      {
       "output_type": "pyout",
       "prompt_number": 31,
       "text": [
        "u'sea_water_potential_temperature'"
       ]
      }
     ],
     "prompt_number": 31
    },
    {
     "cell_type": "code",
     "collapsed": false,
     "input": [
      "tempv.units"
     ],
     "language": "python",
     "outputs": [
      {
       "output_type": "pyout",
       "prompt_number": 34,
       "text": [
        "u'degC'"
       ]
      }
     ],
     "prompt_number": 34
    },
    {
     "cell_type": "code",
     "collapsed": false,
     "input": [
      "tempv.coordinates"
     ],
     "language": "python",
     "outputs": [
      {
       "output_type": "pyout",
       "prompt_number": 25,
       "text": [
        "u'Longitude Latitude Date'"
       ]
      }
     ],
     "prompt_number": 25
    },
    {
     "cell_type": "markdown",
     "source": [
      "## What is the sea surface temperature and salinity at 50N, 140W?\n",
      "\n",
      "- First, we have to understand the dimesion of the temperature variable.\n",
      "- Then we enquire about the *coordinate variables*, that is the variables the make up the dimension."
     ]
    },
    {
     "cell_type": "code",
     "collapsed": false,
     "input": [
      "tempv.dimensions"
     ],
     "language": "python",
     "outputs": [
      {
       "output_type": "pyout",
       "prompt_number": 23,
       "text": [
        "(u'MT', u'Depth', u'Y', u'X')"
       ]
      }
     ],
     "prompt_number": 23
    },
    {
     "cell_type": "code",
     "collapsed": false,
     "input": [
      "mt = f.variables['MT']\n",
      "mt.units # No standard_name name, so grabbing units information"
     ],
     "language": "python",
     "outputs": [
      {
       "output_type": "pyout",
       "prompt_number": 6,
       "text": [
        "u'days since 1900-12-31 00:00:00'"
       ]
      }
     ],
     "prompt_number": 6
    },
    {
     "cell_type": "code",
     "collapsed": false,
     "input": [
      "mt[:]  #Time array of one element"
     ],
     "language": "python",
     "outputs": [
      {
       "output_type": "pyout",
       "prompt_number": 24,
       "text": [
        "array([ 41023.25])"
       ]
      }
     ],
     "prompt_number": 24
    },
    {
     "cell_type": "code",
     "collapsed": false,
     "input": [
      "depth = f.variables['Depth']\n",
      "depth.standard_name"
     ],
     "language": "python",
     "outputs": [
      {
       "output_type": "pyout",
       "prompt_number": 4,
       "text": [
        "u'depth'"
       ]
      }
     ],
     "prompt_number": 4
    },
    {
     "cell_type": "code",
     "collapsed": false,
     "input": [
      "depth[:] #Let's use NumPy to examine depth array"
     ],
     "language": "python",
     "outputs": [
      {
       "output_type": "pyout",
       "prompt_number": 5,
       "text": [
        "array([    0.,   100.,   200.,   400.,   700.,  1000.,  2000.,  3000.,\n",
        "        4000.,  5000.], dtype=float32)"
       ]
      }
     ],
     "prompt_number": 5
    },
    {
     "cell_type": "markdown",
     "source": [
      "### Finding the latitude and longitude indices of 50N, 140W"
     ]
    },
    {
     "cell_type": "code",
     "collapsed": false,
     "input": [
      "\n",
      "import numpy as np\n",
      "lat = f.variables['Latitude']\n",
      "lon = f.variables['Longitude']\n",
      "lat.dimensions, lon.dimensions\n"
     ],
     "language": "python",
     "outputs": [
      {
       "output_type": "pyout",
       "prompt_number": 10,
       "text": [
        "((u'Y', u'X'), (u'Y', u'X'))"
       ]
      }
     ],
     "prompt_number": 10
    },
    {
     "cell_type": "code",
     "collapsed": false,
     "input": [
      "# Naive heuristic to find indices of latitude and longitude.\n",
      "\n",
      "def find_latlon(lt,ln):\n",
      "    return lt > 50 and ln > -140\n",
      "\n",
      "vfunc = np.vectorize(find_latlon) # NumPy magic\n",
      "lat_idx,lon_idx= np.where(vfunc(lat,lon))\n",
      "lat_idx[0],lon_idx[0]"
     ],
     "language": "python",
     "outputs": [
      {
       "output_type": "pyout",
       "prompt_number": 14,
       "text": [
        "(123, 486)"
       ]
      }
     ],
     "prompt_number": 14
    },
    {
     "cell_type": "code",
     "collapsed": false,
     "input": [
      "lat[123,486],lon[123,486] # Sanity check"
     ],
     "language": "python",
     "outputs": [
      {
       "output_type": "pyout",
       "prompt_number": 52,
       "text": [
        "(50.015648, -139.97681)"
       ]
      }
     ],
     "prompt_number": 52
    },
    {
     "cell_type": "markdown",
     "source": [
      "### Now we have all the information we need to find our answer.\n"
     ]
    },
    {
     "cell_type": "raw",
     "source": [
      "|----------+-------|\n",
      "| Variable | Index |\n",
      "|----------+-------|\n",
      "| MT       |     0 |\n",
      "| Depth    |     0 |\n",
      "| Y        |   123 |\n",
      "| X        |   486 |\n",
      "|----------+-------|"
     ]
    },
    {
     "cell_type": "markdown",
     "source": [
      "### What is the sea surface temperature and salinity at 50N, 140W?"
     ]
    },
    {
     "cell_type": "code",
     "collapsed": false,
     "input": [
      "tempv[0,0,123,486] # NumPy notaion for dealing with multi-dimensional arrays"
     ],
     "language": "python",
     "outputs": [
      {
       "output_type": "pyout",
       "prompt_number": 18,
       "text": [
        "6.4858646"
       ]
      }
     ],
     "prompt_number": 18
    },
    {
     "cell_type": "markdown",
     "source": [
      "## Closing your netCDF file\n",
      "\n",
      "It is always a good idea to close you file handles.\n"
     ]
    },
    {
     "cell_type": "code",
     "collapsed": false,
     "input": [
      "f.close()\n"
     ],
     "language": "python",
     "outputs": []
    }
   ]
  }
 ]
}