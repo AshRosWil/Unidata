{
 "metadata": {
  "name": "netcdf"
 },
 "nbformat": 3,
 "nbformat_minor": 0,
 "worksheets": [
  {
   "cells": [
    {
     "cell_type": "markdown",
     "source": [
      "# TODO, use a different netcdf file.\n",
      "\n",
      "# netCDF \n",
      "\n",
      "- Network Common Data Form \n",
      "- Scientific binary data format widely used in geoscience.\n",
      "- Self describing, array-oriented, platform independent."
     ]
    },
    {
     "cell_type": "markdown",
     "source": [
      "## netcdf4-python\n",
      "\n",
      "- Python/numpy interface to netCDF\n",
      "- Available at Google Code: https://code.google.com/p/netcdf4-python/\n",
      "- Developed by Jeff Whitaker at ESRL, NOAA and others"
     ]
    },
    {
     "cell_type": "code",
     "collapsed": false,
     "input": [
      "To import netcdf4-python"
     ],
     "language": "python",
     "outputs": []
    },
    {
     "cell_type": "code",
     "collapsed": false,
     "input": [
      "import netCDF4"
     ],
     "language": "python",
     "outputs": [],
     "prompt_number": 3
    },
    {
     "cell_type": "markdown",
     "source": [
      "## List variables"
     ]
    },
    {
     "cell_type": "code",
     "collapsed": false,
     "input": [
      "import netCDF4\n",
      "f = netCDF4.Dataset('./data/sample_ruc_grid.nc', 'r')\n",
      "for v in f.variables:\n",
      "    print(v),\n"
     ],
     "language": "python",
     "outputs": [
      {
       "output_type": "stream",
       "stream": "stdout",
       "text": [
        "datetime valtime_offset reftime valtime level lpdg_bot lpdg_top fhg model_id nav_model grid_type_code grid_type grid_name grid_center grid_number earth_shape x_dim y_dim Nx Ny La1 Lo1 ResCompFlag Lov Dx Dy ProjFlag Latin1 Latin2 SpLat SpLon Z Z_sfc T RH u v omega Pm_msl P_sfc P_trop theta_trop u_trop v_trop P_maxwind u_maxwind v_maxwind P_frzlvl Z_frzlvl RH_frzlvl RH_lpdg u_lpdg v_lpdg T_lpdg u_fhg v_fhg RH_fhg T_fhg precip_ls precip_ls_accum_times precip_cn precip_cn_accum_times PRECIP PRECIP_accum_times precip_rt\n"
       ]
      }
     ],
     "prompt_number": 26
    },
    {
     "cell_type": "code",
     "collapsed": false,
     "input": [
      "Let's put our Python OO knowledge to use\n",
      "\n",
      "- `f` is an object\n",
      "- `variables` is an attribute of f, in particular it is a dictionary\n",
      "- You can list all the attributes of an object with the `dir` function (e.g. `dir(f)`)"
     ],
     "language": "python",
     "outputs": []
    },
    {
     "cell_type": "code",
     "collapsed": false,
     "input": [
      "type(f.variables) # f.variables is a dictionary"
     ],
     "language": "python",
     "outputs": [
      {
       "output_type": "pyout",
       "prompt_number": 32,
       "text": [
        "collections.OrderedDict"
       ]
      }
     ],
     "prompt_number": 32
    },
    {
     "cell_type": "code",
     "collapsed": false,
     "input": [
      "## List the dimensions"
     ],
     "language": "python",
     "outputs": []
    },
    {
     "cell_type": "code",
     "collapsed": false,
     "input": [
      "for d in f.dimensions:\n",
      "    print(d),"
     ],
     "language": "python",
     "outputs": [
      {
       "output_type": "stream",
       "stream": "stdout",
       "text": [
        "record level lpdg fhg x y datetime_len accum nav nav_len\n"
       ]
      }
     ],
     "prompt_number": 46
    },
    {
     "cell_type": "code",
     "collapsed": false,
     "input": [
      "f.variables['T'].dimensions"
     ],
     "language": "python",
     "outputs": [
      {
       "output_type": "pyout",
       "prompt_number": 47,
       "text": [
        "(u'record', u'level', u'y', u'x')"
       ]
      }
     ],
     "prompt_number": 47
    },
    {
     "cell_type": "code",
     "collapsed": false,
     "input": [
      "f.variables['y'][:]"
     ],
     "language": "python",
     "outputs": [
      {
       "ename": "KeyError",
       "evalue": "'y'",
       "output_type": "pyerr",
       "traceback": [
        "\u001b[0;31m---------------------------------------------------------------------------\u001b[0m\n\u001b[0;31mKeyError\u001b[0m                                  Traceback (most recent call last)",
        "\u001b[0;32m<ipython-input-60-c0f2f2d47884>\u001b[0m in \u001b[0;36m<module>\u001b[0;34m()\u001b[0m\n\u001b[0;32m----> 1\u001b[0;31m \u001b[0mf\u001b[0m\u001b[0;34m.\u001b[0m\u001b[0mvariables\u001b[0m\u001b[0;34m[\u001b[0m\u001b[0;34m'y'\u001b[0m\u001b[0;34m]\u001b[0m\u001b[0;34m[\u001b[0m\u001b[0;34m:\u001b[0m\u001b[0;34m]\u001b[0m\u001b[0;34m\u001b[0m\u001b[0m\n\u001b[0m",
        "\u001b[0;31mKeyError\u001b[0m: 'y'"
       ]
      }
     ],
     "prompt_number": 60
    }
   ]
  }
 ]
}