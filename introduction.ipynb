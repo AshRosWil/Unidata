{
 "metadata": {
  "name": "introduction"
 },
 "nbformat": 3,
 "nbformat_minor": 0,
 "worksheets": [
  {
   "cells": [
    {
     "cell_type": "markdown",
     "source": [
      "# Unidata Technology with Python\n"
     ]
    },
    {
     "cell_type": "markdown",
     "source": [
      "## What is Python?\n",
      "\n",
      "- General purpose, high-level language invented by Dutchman Guido van Rossum.\n",
      "- Multi-paradigmed\n",
      "  - scripting\n",
      "  - object-oriented\n",
      "  - imperative\n",
      "  - functional\n",
      "- \"Python is executable pseudocode\"\n",
      "\n",
      "![Guido van Rossum](http://upload.wikimedia.org/wikipedia/commons/thumb/6/66/Guido_van_Rossum_OSCON_2006.jpg/160px-Guido_van_Rossum_OSCON_2006.jpg)"
     ]
    },
    {
     "cell_type": "markdown",
     "source": [
      "## Why Unidata technology with Python?\n",
      "\n",
      "- Avenue for exploring, and leveraging netCDF and THREDDS Data Server technologies.\n",
      "- Embraced by earth science community for analysis and exploration (see table).\n",
      "- Publication quality graphics and visualization which are improving all the time.\n",
      "- \"I have used a combination of Perl, Fortran, NCL, Matlab, R and others for routine research, but found out this general-purpose language, Python, can handle almost all in an efficient way from requesting data from remote online sites to statistics, graphics.\" -UCAR Scientist"
     ]
    },
    {
     "cell_type": "markdown",
     "source": [
      "## Language popularity measured by search hits on AMS [web site](https://ams.confex.com/ams/93Annual/webprogram/start.html#srch=words%7Cjava%7Cmethod%7Cand%7Cpge%7C2)"
     ]
    },
    {
     "cell_type": "code",
     "collapsed": false,
     "input": [
      "import pandas as pd\n",
      "\n",
      "data = [[2011,19,2,4],\n",
      "       [2012,57,9,2],\n",
      "       [2013,60,13,9]]\n",
      "df = pd.DataFrame(data, columns=['Year', 'Python', 'Java', 'Fortran'])\n",
      "df\n"
     ],
     "language": "python",
     "outputs": [
      {
       "html": [
        "<div style=\"max-height:1000px;max-width:1500px;overflow:auto;\">\n",
        "<table border=\"1\" class=\"dataframe\">\n",
        "  <thead>\n",
        "    <tr style=\"text-align: right;\">\n",
        "      <th></th>\n",
        "      <th>Year</th>\n",
        "      <th>Python</th>\n",
        "      <th>Java</th>\n",
        "      <th>Fortran</th>\n",
        "    </tr>\n",
        "  </thead>\n",
        "  <tbody>\n",
        "    <tr>\n",
        "      <th>0</th>\n",
        "      <td> 2011</td>\n",
        "      <td> 19</td>\n",
        "      <td>  2</td>\n",
        "      <td> 4</td>\n",
        "    </tr>\n",
        "    <tr>\n",
        "      <th>1</th>\n",
        "      <td> 2012</td>\n",
        "      <td> 57</td>\n",
        "      <td>  9</td>\n",
        "      <td> 2</td>\n",
        "    </tr>\n",
        "    <tr>\n",
        "      <th>2</th>\n",
        "      <td> 2013</td>\n",
        "      <td> 60</td>\n",
        "      <td> 12</td>\n",
        "      <td> 9</td>\n",
        "    </tr>\n",
        "  </tbody>\n",
        "</table>\n",
        "</div>"
       ],
       "output_type": "pyout",
       "prompt_number": 26,
       "text": [
        "   Year  Python  Java  Fortran\n",
        "0  2011      19     2        4\n",
        "1  2012      57     9        2\n",
        "2  2013      60    12        9"
       ]
      }
     ],
     "prompt_number": 26
    },
    {
     "cell_type": "markdown",
     "source": [
      "## Enthought Python Distribution (EPD)\n",
      "\n",
      "- The Python distribution we will be using for these notebooks is from Enthought.\n",
      "- EPD takes most pain away from creating a Python scientific programming environment.\n",
      "- Specifically, EPD comes bundled with several libraries (e.g., numpy) to achieve scientific computing in Python.\n",
      "- In addition, Enthought provides a package manager to maintain these libraries.\n",
      "- For various reasons EPD is still at Python 2.7.x so that is what we will be using.\n",
      "- For academic (i.e., core Unidata community) use, it is free.\n",
      "- There are alternatives such as the [Anaconda](https://store.continuum.io/) Python Distribution.\n",
      "- Or \"roll your own\" Python library management strategy"
     ]
    },
    {
     "cell_type": "markdown",
     "source": [
      "## Python Editor\n",
      "\n",
      "For these lectures, we will be editing and executing code directly in the ipython notebook. While this is a good choice for presenations, for Python code development you will probably want to use a [Python IDE](http://stackoverflow.com/questions/81584/what-ide-to-use-for-python). \n"
     ]
    },
    {
     "cell_type": "code",
     "collapsed": false,
     "input": [
      "print sys.version"
     ],
     "language": "python",
     "outputs": [
      {
       "output_type": "stream",
       "stream": "stdout",
       "text": [
        "2.7.3 |EPD 7.3-2 (64-bit)| (default, Apr 12 2012, 11:14:05) \n",
        "[GCC 4.0.1 (Apple Inc. build 5493)]\n"
       ]
      }
     ],
     "prompt_number": 1
    },
    {
     "cell_type": "markdown",
     "source": [
      "## Outline of lectures\n",
      "\n",
      "- Introduction\n",
      "  - Unidata Technology with Python\n",
      "- ipython notebook\n",
      "- netCDF\n",
      "  - netCDF File Exploration with Python and NumPy\n",
      "  - remote data access via the TDS\n",
      "- Geoscience visualization with matplotlib\n",
      "- Exploring THREDDS netCDF Subset Service (NCSS) with Pandas\n",
      "- Accessing data via Pydap\n"
     ]
    },
    {
     "cell_type": "markdown",
     "source": [
      "## Background material\n",
      "\n",
      "- [Lectures on scientific computing with Python](https://github.com/jrjohansson/scientific-python-lectures#online-read-only-versions)\n",
      "- [A Hands-On Introduction to Using Python in the Atmospheric and Oceanic Sciences](http://www.johnny-lin.com/pyintro/)\n",
      "- [Enthought](https://www.enthought.com)\n",
      "- [Python Scientific Lecture Notes](http://scipy-lectures.github.io/)\n",
      "- [Lightning Talk - Rich Signell - Oceanograpgic Anaylsis with Python]( http://vimeopro.com/pydata/pydata-nyc-2012/video/53095330)\n",
      "- [Why Python is the Next Wave in Earth Sciences Computing](http://journals.ametsoc.org/doi/pdf/10.1175/BAMS-D-12-00148.1)"
     ]
    }
   ]
  }
 ]
}