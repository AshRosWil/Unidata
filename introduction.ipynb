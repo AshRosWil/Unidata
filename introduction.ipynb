{
 "metadata": {
  "name": "introduction"
 },
 "nbformat": 3,
 "nbformat_minor": 0,
 "worksheets": [
  {
   "cells": [
    {
     "cell_type": "markdown",
     "source": [
      "# Unidata Technology with Python\n"
     ]
    },
    {
     "cell_type": "markdown",
     "source": [
      "## What is Python?\n",
      "\n",
      "- General purpose, high-level language invented by Dutchman Guido van Rossum.\n",
      "- Has both scripting and object-oriented features.\n",
      "\n",
      "![Guido van Rossum](http://upload.wikimedia.org/wikipedia/commons/thumb/6/66/Guido_van_Rossum_OSCON_2006.jpg/160px-Guido_van_Rossum_OSCON_2006.jpg)"
     ]
    },
    {
     "cell_type": "markdown",
     "source": [
      "## Why Python?\n",
      "\n",
      "- Tremendously popular--one of the top 5 or 10 languages in use today.\n",
      "- It is available on many platforms.\n",
      "- Easy to learn.\n",
      "- Has been embraced by the scientific and earth science community.\n",
      "- Reminds scientists of technologies they already know: Matlab, Mathematica, IDL.\n",
      "- Tremendous momentum in this area.\n",
      "- Vibrant open-source community.\n",
      "- Publication quality graphics and visualization which are getting better all the time."
     ]
    },
    {
     "cell_type": "markdown",
     "source": [
      "## Enthought Python Distribution\n",
      "\n",
      "- The Python distribution we will be using for these lectures.\n",
      "- Takes most pain away from creating a scientific programming environment.\n",
      "- For various reasons the Enghtought Python distribution is still at 2.7.x so that is what we will be using."
     ]
    },
    {
     "cell_type": "code",
     "collapsed": false,
     "input": [
      "print sys.version"
     ],
     "language": "python",
     "outputs": [
      {
       "output_type": "stream",
       "stream": "stdout",
       "text": [
        "2.7.3 |EPD 7.3-2 (64-bit)| (default, Apr 12 2012, 11:14:05) \n",
        "[GCC 4.0.1 (Apple Inc. build 5493)]\n"
       ]
      }
     ],
     "prompt_number": 1
    },
    {
     "cell_type": "markdown",
     "source": [
      "## Outline of Lectures\n",
      "\n",
      "- ipython notebook\n",
      "- python language basics\n",
      "- numerical computation with numpy\n",
      "- netcdf\n",
      "- Remote data access with pydap\n",
      "- Plotting\n",
      "- Pandas"
     ]
    },
    {
     "cell_type": "markdown",
     "source": [
      "## References\n",
      "\n",
      "- [Lectures on scientific computing with Python](https://github.com/jrjohansson/scientific-python-lectures#online-read-only-versions)\n",
      "- [A Hands-On Introduction to Using Python in the Atmospheric and Oceanic Sciences](http://www.johnny-lin.com/pyintro/)\n",
      "- [Enthought](https://www.enthought.com)\n",
      "- [Python Scientific Lecture Notes](http://scipy-lectures.github.io/)"
     ]
    }
   ]
  }
 ]
}