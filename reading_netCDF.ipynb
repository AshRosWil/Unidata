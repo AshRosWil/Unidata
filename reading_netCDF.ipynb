{
 "metadata": {
  "name": "",
  "signature": "sha256:856daa4b0d953b0393165b9e864f19eaddaf75b000399d6d36a17b13f304091d"
 },
 "nbformat": 3,
 "nbformat_minor": 0,
 "worksheets": [
  {
   "cells": [
    {
     "cell_type": "markdown",
     "metadata": {
      "internals": {
       "slide_helper": "subslide_end",
       "slide_type": "subslide"
      },
      "slide_helper": "slide_end",
      "slideshow": {
       "slide_type": "slide"
      }
     },
     "source": [
      "# Reading netCDF data\n",
      "- requires [numpy](http://numpy.scipy.org) and netCDF/HDF5 C libraries.\n",
      "- Github site: https://github.com/Unidata/netcdf4-python\n",
      "- Online docs: http://unidata.github.io/netcdf4-python/\n",
      "- Based on Konrad Hinsen's old [Scientific.IO.NetCDF](http://dirac.cnrs-orleans.fr/plone/software/scientificpython/) API, with lots of added netcdf version 4 features.\n",
      "- Developed by Jeff Whitaker at NOAA, with many contributions from users."
     ]
    },
    {
     "cell_type": "markdown",
     "metadata": {
      "internals": {
       "slide_type": "subslide"
      },
      "slideshow": {
       "slide_type": "slide"
      }
     },
     "source": [
      "## Interactively exploring a netCDF File\n",
      "\n",
      "Let's explore a netCDF file from the *Atlantic Real-Time Ocean Forecast System*\n",
      "\n",
      "first, import netcdf4-python"
     ]
    },
    {
     "cell_type": "code",
     "collapsed": false,
     "input": [
      "import netCDF4"
     ],
     "language": "python",
     "metadata": {
      "internals": {
       "frag_number": 2,
       "slide_helper": "subslide_end"
      },
      "slide_helper": "slide_end",
      "slideshow": {
       "slide_type": "fragment"
      }
     },
     "outputs": []
    },
    {
     "cell_type": "markdown",
     "metadata": {
      "internals": {
       "frag_helper": "fragment_end",
       "frag_number": 2,
       "slide_type": "subslide"
      },
      "slideshow": {
       "slide_type": "slide"
      }
     },
     "source": [
      "## Create a netCDF4.Dataset object\n",
      "- **`f`** is a `Dataset` object, representing an open netCDF file.\n",
      "- printing the object gives you summary information, similar to *`ncdump -h`*."
     ]
    },
    {
     "cell_type": "code",
     "collapsed": false,
     "input": [
      "f = netCDF4.Dataset('data/rtofs_glo_3dz_f006_6hrly_reg3.nc')\n",
      "print f "
     ],
     "language": "python",
     "metadata": {
      "internals": {
       "frag_helper": "fragment_end",
       "frag_number": 4,
       "slide_helper": "subslide_end"
      },
      "slide_helper": "slide_end",
      "slideshow": {
       "slide_type": "fragment"
      }
     },
     "outputs": []
    },
    {
     "cell_type": "markdown",
     "metadata": {
      "internals": {
       "frag_helper": "fragment_end",
       "frag_number": 4,
       "slide_type": "subslide"
      },
      "slideshow": {
       "slide_type": "slide"
      }
     },
     "source": [
      "## Access a netCDF variable\n",
      "- variable objects stored by name in **`variables`** dict.\n",
      "- print the variable yields summary info (including all the attributes).\n",
      "- no actual data read yet (just have a reference to the variable object with metadata)."
     ]
    },
    {
     "cell_type": "code",
     "collapsed": false,
     "input": [
      "print f.variables.keys() # get all variable names\n",
      "temp = f.variables['temperature']  # temperature variable\n",
      "print temp "
     ],
     "language": "python",
     "metadata": {
      "internals": {
       "frag_helper": "fragment_end",
       "frag_number": 6,
       "slide_helper": "subslide_end"
      },
      "slide_helper": "slide_end",
      "slideshow": {
       "slide_type": "fragment"
      }
     },
     "outputs": []
    },
    {
     "cell_type": "markdown",
     "metadata": {
      "internals": {
       "frag_helper": "fragment_end",
       "frag_number": 6,
       "slide_type": "subslide"
      },
      "slideshow": {
       "slide_type": "slide"
      }
     },
     "source": [
      "## List the Dimensions\n",
      "\n",
      "- All variables in a netCDF file have an associated shape, specified by a list of dimensions.\n",
      "- Let's list all the dimensions in this netCDF file.\n",
      "- Note that the **`MT`** dimension is special (*`unlimited`*), which means it can be appended to."
     ]
    },
    {
     "cell_type": "code",
     "collapsed": false,
     "input": [
      "for d in f.dimensions.items():\n",
      "    print d"
     ],
     "language": "python",
     "metadata": {
      "internals": {
       "frag_helper": "fragment_end",
       "frag_number": 8
      },
      "slideshow": {
       "slide_type": "fragment"
      }
     },
     "outputs": []
    },
    {
     "cell_type": "markdown",
     "metadata": {
      "internals": {
       "frag_helper": "fragment_end",
       "frag_number": 9
      },
      "slideshow": {
       "slide_type": "fragment"
      }
     },
     "source": [
      "Each variable has a **`dimensions`** and a **`shape`** attribute."
     ]
    },
    {
     "cell_type": "code",
     "collapsed": false,
     "input": [
      "temp.dimensions"
     ],
     "language": "python",
     "metadata": {
      "internals": {
       "frag_helper": "fragment_end",
       "frag_number": 10
      },
      "slideshow": {
       "slide_type": "fragment"
      }
     },
     "outputs": []
    },
    {
     "cell_type": "code",
     "collapsed": false,
     "input": [
      "temp.shape"
     ],
     "language": "python",
     "metadata": {
      "internals": {
       "frag_helper": "fragment_end",
       "frag_number": 11,
       "slide_helper": "subslide_end"
      },
      "slide_helper": "slide_end",
      "slideshow": {
       "slide_type": "fragment"
      }
     },
     "outputs": []
    },
    {
     "cell_type": "markdown",
     "metadata": {
      "internals": {
       "frag_helper": "fragment_end",
       "frag_number": 11,
       "slide_type": "subslide"
      },
      "slideshow": {
       "slide_type": "slide"
      }
     },
     "source": [
      "### Each dimension typically has a variable associated with it (called a *coordinate* variable).\n",
      "- *Coordinate variables* are 1D variables that have the same name as dimensions.\n",
      "- Coordinate variables and *auxiliary coordinate variables* (named by the *coordinates* attribute) locate values in time and space."
     ]
    },
    {
     "cell_type": "code",
     "collapsed": false,
     "input": [
      "mt = f.variables['MT']\n",
      "depth = f.variables['Depth']\n",
      "x,y = f.variables['X'], f.variables['Y']\n",
      "print mt \n",
      "print x                 "
     ],
     "language": "python",
     "metadata": {
      "internals": {
       "frag_helper": "fragment_end",
       "frag_number": 13,
       "slide_helper": "subslide_end"
      },
      "slide_helper": "slide_end",
      "slideshow": {
       "slide_type": "fragment"
      }
     },
     "outputs": []
    },
    {
     "cell_type": "markdown",
     "metadata": {
      "internals": {
       "frag_helper": "fragment_end",
       "frag_number": 13,
       "slide_type": "subslide"
      },
      "slideshow": {
       "slide_type": "slide"
      }
     },
     "source": [
      "## Accessing data from a netCDF variable object\n",
      "\n",
      "- netCDF variables objects behave much like numpy arrays.\n",
      "- slicing a netCDF variable object returns a numpy array with the data.\n",
      "- Boolean array and integer sequence indexing behaves differently for netCDF variables than for numpy arrays. Only 1-d boolean arrays and integer sequences are allowed, and these indices work independently along each dimension (similar to the way vector subscripts work in fortran)."
     ]
    },
    {
     "cell_type": "code",
     "collapsed": false,
     "input": [
      "time = mt[:]  # Reads the netCDF variable MT, array of one element\n",
      "print time "
     ],
     "language": "python",
     "metadata": {
      "internals": {
       "frag_helper": "fragment_end",
       "frag_number": 15
      },
      "slideshow": {
       "slide_type": "fragment"
      }
     },
     "outputs": []
    },
    {
     "cell_type": "code",
     "collapsed": false,
     "input": [
      "dpth = depth[:] # examine depth array\n",
      "print dpth "
     ],
     "language": "python",
     "metadata": {
      "internals": {
       "frag_helper": "fragment_end",
       "frag_number": 16
      },
      "slideshow": {
       "slide_type": "fragment"
      }
     },
     "outputs": []
    },
    {
     "cell_type": "code",
     "collapsed": false,
     "input": [
      "xx,yy = x[:],y[:]\n",
      "print 'shape of temp variable:',temp.shape\n",
      "tempslice = temp[0, dpth > 400, xx > xx.max()/2, yy < yy.max()/2]\n",
      "print 'shape of temp slice:',tempslice.shape"
     ],
     "language": "python",
     "metadata": {
      "internals": {
       "frag_helper": "fragment_end",
       "frag_number": 17,
       "slide_helper": "subslide_end"
      },
      "slide_helper": "slide_end",
      "slideshow": {
       "slide_type": "fragment"
      }
     },
     "outputs": []
    },
    {
     "cell_type": "markdown",
     "metadata": {
      "internals": {
       "frag_helper": "fragment_end",
       "frag_number": 17,
       "slide_type": "subslide"
      },
      "slideshow": {
       "slide_type": "slide"
      }
     },
     "source": [
      "## What is the sea surface temperature and salinity at 50N, 140W?\n",
      "### Finding the latitude and longitude indices of 50N, 140W\n",
      "\n",
      "- The `X` and `Y` dimensions don't look like longitudes and latitudes\n",
      "- Use the auxilary coordinate variables named in the `coordinates` variable attribute, `Latitude` and `Longitude`"
     ]
    },
    {
     "cell_type": "code",
     "collapsed": false,
     "input": [
      "lat, lon = f.variables['Latitude'], f.variables['Longitude']\n",
      "print lat"
     ],
     "language": "python",
     "metadata": {
      "internals": {
       "frag_helper": "fragment_end",
       "frag_number": 19
      },
      "slideshow": {
       "slide_type": "fragment"
      }
     },
     "outputs": []
    },
    {
     "cell_type": "markdown",
     "metadata": {
      "internals": {
       "frag_helper": "fragment_end",
       "frag_number": 20,
       "slide_helper": "subslide_end"
      },
      "slide_helper": "slide_end",
      "slideshow": {
       "slide_type": "fragment"
      }
     },
     "source": [
      "Aha!  So we need to find array indices `iy` and `ix` such that `Latitude[iy, ix]` is close to 50.0 and `Longitude[iy, ix]` is close to -140.0 ..."
     ]
    },
    {
     "cell_type": "code",
     "collapsed": false,
     "input": [
      "latvals = lat[:]; lonvals = lon[:] # extract lat/lon values (in degrees) to numpy arrays\n",
      "import numpy as np\n",
      "# a function to find the index of the point closest (in squared distance) to give lat/lon value.\n",
      "def getclosest_ij(lats,lons,latpt,lonpt):\n",
      "    dist_sq = (lats-latpt)**2 + (lons-lonpt)**2  # find squared distance of every point on grid\n",
      "    minindex_flattened = dist_sq.argmin() # 1D index of minimum dist_sq element\n",
      "    # Get 2D index for latvals and lonvals arrays from 1D index\n",
      "    return np.unravel_index(minindex_flattened, lats.shape)\n",
      "iy_min, ix_min = getclosest_ij(latvals, lonvals, 50., -140)"
     ],
     "language": "python",
     "metadata": {
      "internals": {
       "frag_helper": "fragment_end",
       "frag_number": 20,
       "slide_type": "subslide"
      },
      "slideshow": {
       "slide_type": "slide"
      }
     },
     "outputs": []
    },
    {
     "cell_type": "markdown",
     "metadata": {
      "internals": {
       "frag_helper": "fragment_end",
       "frag_number": 22
      },
      "slideshow": {
       "slide_type": "fragment"
      }
     },
     "source": [
      "### Now we have all the information we need to find our answer.\n"
     ]
    },
    {
     "cell_type": "markdown",
     "metadata": {
      "internals": {
       "frag_helper": "fragment_end",
       "frag_number": 23
      },
      "slideshow": {
       "slide_type": "fragment"
      }
     },
     "source": [
      "```\n",
      "|----------+--------|\n",
      "| Variable |  Index |\n",
      "|----------+--------|\n",
      "| MT       |      0 |\n",
      "| Depth    |      0 |\n",
      "| Y        | iy_min |\n",
      "| X        | ix_min |\n",
      "|----------+--------|\n",
      "```"
     ]
    },
    {
     "cell_type": "markdown",
     "metadata": {
      "internals": {
       "frag_helper": "fragment_end",
       "frag_number": 24
      },
      "slideshow": {
       "slide_type": "fragment"
      }
     },
     "source": [
      "### What is the sea surface temperature and salinity at the specified point?"
     ]
    },
    {
     "cell_type": "code",
     "collapsed": false,
     "input": [
      "sal = f.variables['salinity']\n",
      "# Read values out of the netCDF file for temperature and salinity\n",
      "print temp[0,0,iy_min,ix_min], temp.units\n",
      "print sal[0,0,iy_min,ix_min], sal.units"
     ],
     "language": "python",
     "metadata": {
      "internals": {
       "frag_helper": "fragment_end",
       "frag_number": 25,
       "slide_helper": "subslide_end"
      },
      "slide_helper": "slide_end",
      "slideshow": {
       "slide_type": "fragment"
      }
     },
     "outputs": []
    },
    {
     "cell_type": "markdown",
     "metadata": {
      "internals": {
       "frag_helper": "fragment_end",
       "frag_number": 25,
       "slide_type": "subslide"
      },
      "slideshow": {
       "slide_type": "slide"
      }
     },
     "source": [
      "## Remote data access via openDAP\n",
      "\n",
      "- Remote data can be accessed seamlessly with the netcdf4-python API\n",
      "- Access happens via the DAP protocol and DAP servers, such as TDS.\n",
      "- many formats supported, like GRIB, are supported \"under the hood\"."
     ]
    },
    {
     "cell_type": "markdown",
     "metadata": {
      "internals": {
       "frag_helper": "fragment_end",
       "frag_number": 27
      },
      "slideshow": {
       "slide_type": "fragment"
      }
     },
     "source": [
      "The following example showcases some nice netCDF features:\n",
      "\n",
      "1. We are seamlessly accessing **remote** data, from a TDS server.\n",
      "2. We are seamlessly accessing **GRIB2** data, as if it were netCDF data.\n",
      "3. We are generating **metadata** on-the-fly.\n",
      "4. We are using [pyUDL](https://github.com/Unidata/pyudl) to get URL from **TDS data catalog**."
     ]
    },
    {
     "cell_type": "code",
     "collapsed": false,
     "input": [
      "# import pyUDL\n",
      "from pyudl.tds import get_latest_dods_url\n",
      "# specify URL for TDS data catalog\n",
      "gfs_catalog_url = \"http://thredds.ucar.edu/thredds/catalog/grib/NCEP/GFS/Global_0p5deg/catalog.xml\" \n",
      "# get latest forecast time available from catalog\n",
      "latest = get_latest_dods_url(gfs_catalog_url)\n",
      "print latest\n",
      "# open the remote dataset\n",
      "gfs = netCDF4.Dataset(latest)"
     ],
     "language": "python",
     "metadata": {
      "internals": {
       "frag_helper": "fragment_end",
       "frag_number": 28,
       "slide_helper": "subslide_end"
      },
      "slide_helper": "slide_end",
      "slideshow": {
       "slide_type": "fragment"
      }
     },
     "outputs": []
    },
    {
     "cell_type": "code",
     "collapsed": false,
     "input": [
      "# Look at metadata for a specific variable\n",
      "# gfs.variables.keys() will show all available variables.\n",
      "sfctmp = gfs.variables['Temperature_surface']\n",
      "print sfctmp\n",
      "for dname in sfctmp.dimensions: # print dimensions associated with this variable\n",
      "    print gfs.variables[dname]"
     ],
     "language": "python",
     "metadata": {
      "internals": {
       "frag_helper": "fragment_end",
       "frag_number": 28,
       "slide_helper": "subslide_end",
       "slide_type": "subslide"
      },
      "slide_helper": "slide_end",
      "slideshow": {
       "slide_type": "slide"
      }
     },
     "outputs": []
    },
    {
     "cell_type": "markdown",
     "metadata": {
      "internals": {
       "frag_helper": "fragment_end",
       "frag_number": 28,
       "slide_type": "subslide"
      },
      "slideshow": {
       "slide_type": "slide"
      }
     },
     "source": [
      "##Missing values\n",
      "- when `data == var.missing_value` somewhere, a masked array is returned.\n",
      "- illustrate with soil moisture data (only defined over land)\n",
      "- white areas on plot are masked values over water."
     ]
    },
    {
     "cell_type": "code",
     "collapsed": false,
     "input": [
      "soilmvar = gfs.variables['Volumetric_Soil_Moisture_Content_depth_below_surface_layer']\n",
      "soilm = soilmvar[0,0,::-1,:] # flip the data in latitude so North Hemisphere is up on the plot\n",
      "print soilm.shape, type(soilm), soilmvar.missing_value\n",
      "import matplotlib.pyplot as plt\n",
      "%matplotlib inline\n",
      "cs = plt.contourf(soilm)"
     ],
     "language": "python",
     "metadata": {
      "internals": {
       "frag_helper": "fragment_end",
       "frag_number": 31
      },
      "slideshow": {
       "slide_type": "fragment"
      }
     },
     "outputs": []
    },
    {
     "cell_type": "markdown",
     "metadata": {
      "internals": {
       "frag_helper": "fragment_end",
       "frag_number": 32,
       "slide_helper": "subslide_end"
      },
      "slide_helper": "slide_end",
      "slideshow": {
       "slide_type": "fragment"
      }
     },
     "source": [
      "##Packed integer data\n",
      "There is a similar feature for variables with `scale_factor` and `add_offset` attributes.\n",
      "\n",
      "- short integer data will automatically be returned as float data, with the scale and offset applied.  "
     ]
    },
    {
     "cell_type": "markdown",
     "metadata": {
      "internals": {
       "frag_helper": "fragment_end",
       "frag_number": 32,
       "slide_type": "subslide"
      },
      "slideshow": {
       "slide_type": "slide"
      }
     },
     "source": [
      "## Dealing with dates and times\n",
      "- time variables usually measure relative to a fixed date using a certain calendar, with units specified like ***`hours since YY:MM:DD hh-mm-ss`***.\n",
      "- **`num2date`** and **`date2num`** convenience functions provided to convert between these numeric time coordinates and handy python datetime instances.  \n",
      "- **`date2index`** finds the time index corresponding to a datetime instance."
     ]
    },
    {
     "cell_type": "code",
     "collapsed": false,
     "input": [
      "from netCDF4 import num2date, date2num, date2index\n",
      "timedim = sfctmp.dimensions[0]\n",
      "print timedim\n",
      "times = gfs.variables[timedim]\n",
      "print times.units, times[:]"
     ],
     "language": "python",
     "metadata": {
      "internals": {
       "frag_helper": "fragment_end",
       "frag_number": 34
      },
      "slideshow": {
       "slide_type": "fragment"
      }
     },
     "outputs": []
    },
    {
     "cell_type": "code",
     "collapsed": false,
     "input": [
      "dates = num2date(times[:], times.units)\n",
      "print [date.strftime('%Y%m%d%H') for date in dates]"
     ],
     "language": "python",
     "metadata": {
      "internals": {
       "frag_helper": "fragment_end",
       "frag_number": 35,
       "slide_helper": "subslide_end"
      },
      "slide_helper": "slide_end",
      "slideshow": {
       "slide_type": "fragment"
      }
     },
     "outputs": []
    },
    {
     "cell_type": "markdown",
     "metadata": {
      "internals": {
       "frag_helper": "fragment_end",
       "frag_number": 35,
       "slide_type": "subslide"
      },
      "slideshow": {
       "slide_type": "slide"
      }
     },
     "source": [
      "###Get index associated with a specified date, extract forecast data for that date."
     ]
    },
    {
     "cell_type": "code",
     "collapsed": false,
     "input": [
      "from datetime import datetime, timedelta\n",
      "date = datetime.now() + timedelta(days=3)\n",
      "print date\n",
      "ntime = date2index(date,times,select='nearest')\n",
      "print ntime, dates[ntime]"
     ],
     "language": "python",
     "metadata": {
      "internals": {
       "frag_helper": "fragment_end",
       "frag_number": 37
      },
      "slideshow": {
       "slide_type": "fragment"
      }
     },
     "outputs": []
    },
    {
     "cell_type": "markdown",
     "metadata": {
      "internals": {
       "frag_helper": "fragment_end",
       "frag_number": 38
      },
      "slideshow": {
       "slide_type": "fragment"
      }
     },
     "source": [
      "###Get temp forecast for Boulder (near 40N, -105W)\n",
      "- use function **`getcloses_ij`** we created before..."
     ]
    },
    {
     "cell_type": "code",
     "collapsed": false,
     "input": [
      "lats, lons = gfs.variables['lat'][:], gfs.variables['lon'][:]\n",
      "# lats, lons are 1-d. Make them 2-d using numpy.meshgrid.\n",
      "lons, lats = np.meshgrid(lons,lats)\n",
      "j, i = getclosest_ij(lats,lons,40,-105)\n",
      "fcst_temp = sfctmp[ntime,j,i]\n",
      "print 'Boulder forecast valid at %s UTC = %5.1f %s' % (dates[ntime],fcst_temp,sfctmp.units)"
     ],
     "language": "python",
     "metadata": {
      "internals": {
       "frag_helper": "fragment_end",
       "frag_number": 39,
       "slide_helper": "subslide_end"
      },
      "slide_helper": "slide_end",
      "slideshow": {
       "slide_type": "fragment"
      }
     },
     "outputs": []
    },
    {
     "cell_type": "markdown",
     "metadata": {
      "internals": {
       "frag_helper": "fragment_end",
       "frag_number": 39,
       "slide_type": "subslide"
      },
      "slideshow": {
       "slide_type": "slide"
      }
     },
     "source": [
      "##Simple multi-file aggregation\n",
      "\n",
      "What if you have a bunch of netcdf files, each with data for a different year, and you want to access all the data as if it were in one file?"
     ]
    },
    {
     "cell_type": "code",
     "collapsed": false,
     "input": [
      "!ls -l data/prmsl*nc"
     ],
     "language": "python",
     "metadata": {
      "internals": {
       "frag_helper": "fragment_end",
       "frag_number": 42
      },
      "slideshow": {
       "slide_type": "fragment"
      }
     },
     "outputs": []
    },
    {
     "cell_type": "markdown",
     "metadata": {
      "internals": {
       "frag_helper": "fragment_end",
       "frag_number": 43
      },
      "slideshow": {
       "slide_type": "fragment"
      }
     },
     "source": [
      "**`MFDataset`** uses file globbing to patch together all the files into one big Dataset.\n",
      "You can also pass it a list of specific files.\n",
      "\n",
      "Limitations:\n",
      "\n",
      "- It can only  aggregate the data along the leftmost dimension of each variable.\n",
      "- only works with `NETCDF3`, or `NETCDF4_CLASSIC` formatted files.\n",
      "- kind of slow."
     ]
    },
    {
     "cell_type": "code",
     "collapsed": false,
     "input": [
      "mf = netCDF4.MFDataset('data/prmsl*nc')\n",
      "times = mf.variables['time']\n",
      "dates = num2date(times[:],times.units)\n",
      "print 'starting date = ',dates[0]\n",
      "print 'ending date = ',dates[-1]\n",
      "prmsl = mf.variables['prmsl']\n",
      "print times.shape, prmsl.dimensions, prmsl.shape"
     ],
     "language": "python",
     "metadata": {
      "internals": {
       "frag_helper": "fragment_end",
       "frag_number": 44,
       "slide_helper": "subslide_end"
      },
      "slide_helper": "slide_end",
      "slideshow": {
       "slide_type": "fragment"
      }
     },
     "outputs": []
    },
    {
     "cell_type": "markdown",
     "metadata": {
      "internals": {
       "frag_helper": "fragment_end",
       "frag_number": 44,
       "slide_type": "subslide"
      },
      "slideshow": {
       "slide_type": "slide"
      }
     },
     "source": [
      "## Closing your netCDF file\n",
      "\n",
      "It's good to close netCDF files, but not actually necessary when Dataset is open for read access only.\n"
     ]
    },
    {
     "cell_type": "code",
     "collapsed": false,
     "input": [
      "f.close()\n",
      "gfs.close()"
     ],
     "language": "python",
     "metadata": {
      "internals": {
       "frag_helper": "fragment_end",
       "frag_number": 46
      },
      "slideshow": {
       "slide_type": "fragment"
      }
     },
     "outputs": []
    },
    {
     "cell_type": "markdown",
     "metadata": {
      "internals": {
       "frag_helper": "fragment_end",
       "frag_number": 46,
       "slide_helper": "subslide_end"
      },
      "slide_helper": "slide_end",
      "slideshow": {
       "slide_type": "-"
      }
     },
     "source": [
      "##That's it!\n",
      "\n",
      "Now you're ready to start exploring your data interactively.\n",
      "\n",
      "To be continued with **Writing netCDF data** ...."
     ]
    }
   ],
   "metadata": {}
  }
 ]
}