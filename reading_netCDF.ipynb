{
 "metadata": {
  "name": ""
 },
 "nbformat": 3,
 "nbformat_minor": 0,
 "worksheets": [
  {
   "cells": [
    {
     "cell_type": "markdown",
     "metadata": {},
     "source": [
      "# Reading netCDF data\n",
      "- requires [numpy](http://numpy.scipy.org) and netCDF/HDF5 C libraries.\n",
      "- Github site: https://github.com/Unidata/netcdf4-python\n",
      "- Online docs: http://unidata.github.io/netcdf4-python/\n",
      "- Based on Konrad Hinsen's old [Scientific.IO.NetCDF](http://dirac.cnrs-orleans.fr/plone/software/scientificpython/) API, with lots of added netcdf version 4 features.\n",
      "- Developed by Jeff Whitaker at NOAA, with many contributions from users."
     ]
    },
    {
     "cell_type": "markdown",
     "metadata": {},
     "source": [
      "## Interactively exploring a netCDF File\n",
      "\n",
      "Let's explore a netCDF file from the *Atlantic Real-Time Ocean Forecast System*\n",
      "\n",
      "first, import netcdf4-python"
     ]
    },
    {
     "cell_type": "code",
     "collapsed": false,
     "input": [
      "import netCDF4"
     ],
     "language": "python",
     "metadata": {},
     "outputs": [],
     "prompt_number": 1
    },
    {
     "cell_type": "markdown",
     "metadata": {},
     "source": [
      "## Create a netCDF4.Dataset object\n",
      "- **`f`** is an object, representing an open netCDF file.\n",
      "- printing the object gives you summary information, similar to *`ncdump -h`*.\n",
      "- the **`variables`** attribute of **`f`** is a dictionary containing netcdf variable objects."
     ]
    },
    {
     "cell_type": "code",
     "collapsed": false,
     "input": [
      "f = netCDF4.Dataset('data/rtofs_glo_3dz_f006_6hrly_reg3.nc', 'r')\n",
      "print f "
     ],
     "language": "python",
     "metadata": {},
     "outputs": [
      {
       "output_type": "stream",
       "stream": "stdout",
       "text": [
        "<type 'netCDF4.Dataset'>\n",
        "root group (NETCDF4_CLASSIC data model, file format HDF5):\n",
        "    Conventions: CF-1.0\n",
        "    title: HYCOM ATLb2.00\n",
        "    institution: National Centers for Environmental Prediction\n",
        "    source: HYCOM archive file\n",
        "    experiment: 90.9\n",
        "    history: archv2ncdf3z\n",
        "    dimensions(sizes): MT(1), Y(850), X(712), Depth(10)\n",
        "    variables(dimensions): float64 \u001b[4mMT\u001b[0m(MT), float64 \u001b[4mDate\u001b[0m(MT), float32 \u001b[4mDepth\u001b[0m(Depth), int32 \u001b[4mY\u001b[0m(Y), int32 \u001b[4mX\u001b[0m(X), float32 \u001b[4mLatitude\u001b[0m(Y,X), float32 \u001b[4mLongitude\u001b[0m(Y,X), float32 \u001b[4mu\u001b[0m(MT,Depth,Y,X), float32 \u001b[4mv\u001b[0m(MT,Depth,Y,X), float32 \u001b[4mtemperature\u001b[0m(MT,Depth,Y,X), float32 \u001b[4msalinity\u001b[0m(MT,Depth,Y,X)\n",
        "    groups: \n",
        "\n"
       ]
      }
     ],
     "prompt_number": 2
    },
    {
     "cell_type": "markdown",
     "metadata": {},
     "source": [
      "## Access a netCDF variable\n",
      "- variable objects stored by name in **`variables`** dict.\n",
      "- print the variable yields summary info (including all the attributes).\n",
      "- no actual data read yet (just have a reference to the variable object with metadata)."
     ]
    },
    {
     "cell_type": "code",
     "collapsed": false,
     "input": [
      "temp = f.variables['temperature']  # temperature variable\n",
      "print temp "
     ],
     "language": "python",
     "metadata": {},
     "outputs": [
      {
       "output_type": "stream",
       "stream": "stdout",
       "text": [
        "<type 'netCDF4.Variable'>\n",
        "float32 temperature(MT, Depth, Y, X)\n",
        "    coordinates: Longitude Latitude Date\n",
        "    standard_name: sea_water_potential_temperature\n",
        "    units: degC\n",
        "    _FillValue: 1.26765e+30\n",
        "    valid_range: [ -5.07860279  11.14989948]\n",
        "    long_name:   temp [90.9H]\n",
        "unlimited dimensions: MT\n",
        "current shape = (1, 10, 850, 712)\n",
        "filling on\n"
       ]
      }
     ],
     "prompt_number": 3
    },
    {
     "cell_type": "markdown",
     "metadata": {},
     "source": [
      "## List the Dimensions\n",
      "\n",
      "- All variables in a netCDF file have an associated shape, specified by a list of dimensions.\n",
      "- Let's list all the dimensions in this netCDF file, then get more information about one of the dimensions\n",
      "- Note that the **`MT`** dimension is special (*`unlimited`*), which means it can be appended to."
     ]
    },
    {
     "cell_type": "code",
     "collapsed": false,
     "input": [
      "for dname, d in f.dimensions.items():\n",
      "    print(d)"
     ],
     "language": "python",
     "metadata": {},
     "outputs": [
      {
       "output_type": "stream",
       "stream": "stdout",
       "text": [
        "<type 'netCDF4.Dimension'> (unlimited): name = 'MT', size = 1\n",
        "\n",
        "<type 'netCDF4.Dimension'>: name = 'Y', size = 850\n",
        "\n",
        "<type 'netCDF4.Dimension'>: name = 'X', size = 712\n",
        "\n",
        "<type 'netCDF4.Dimension'>: name = 'Depth', size = 10\n",
        "\n"
       ]
      }
     ],
     "prompt_number": 4
    },
    {
     "cell_type": "markdown",
     "metadata": {},
     "source": [
      "### Each variable has a **`dimensions`** and a **`shape`** attribute."
     ]
    },
    {
     "cell_type": "code",
     "collapsed": false,
     "input": [
      "temp.dimensions"
     ],
     "language": "python",
     "metadata": {},
     "outputs": [
      {
       "metadata": {},
       "output_type": "pyout",
       "prompt_number": 5,
       "text": [
        "(u'MT', u'Depth', u'Y', u'X')"
       ]
      }
     ],
     "prompt_number": 5
    },
    {
     "cell_type": "code",
     "collapsed": false,
     "input": [
      "temp.shape"
     ],
     "language": "python",
     "metadata": {},
     "outputs": [
      {
       "metadata": {},
       "output_type": "pyout",
       "prompt_number": 6,
       "text": [
        "(1, 10, 850, 712)"
       ]
      }
     ],
     "prompt_number": 6
    },
    {
     "cell_type": "markdown",
     "metadata": {},
     "source": [
      "### Each dimension typically has a variable associated with it (called a *coordinate* variable).\n",
      "- *Coordinate variables* are 1D variables that have the same name as dimensions.\n",
      "- Coordinate variables and *auxiliary coordinate variables* (named by the *coordinates* attribute) locate values in time and space."
     ]
    },
    {
     "cell_type": "code",
     "collapsed": false,
     "input": [
      "mt = f.variables['MT']\n",
      "depth = f.variables['Depth']\n",
      "x,y = f.variables['X'], f.variables['Y']\n",
      "print mt \n",
      "print x                 "
     ],
     "language": "python",
     "metadata": {},
     "outputs": [
      {
       "output_type": "stream",
       "stream": "stdout",
       "text": [
        "<type 'netCDF4.Variable'>\n",
        "float64 MT(MT)\n",
        "    long_name: time\n",
        "    units: days since 1900-12-31 00:00:00\n",
        "    calendar: standard\n",
        "    axis: T\n",
        "unlimited dimensions: MT\n",
        "current shape = (1,)\n",
        "filling on, default _FillValue of 9.96920996839e+36 used\n",
        "\n",
        "<type 'netCDF4.Variable'>\n",
        "int32 X(X)\n",
        "    point_spacing: even\n",
        "    axis: X\n",
        "unlimited dimensions: \n",
        "current shape = (712,)\n",
        "filling on, default _FillValue of -2147483647 used\n",
        "\n"
       ]
      }
     ],
     "prompt_number": 7
    },
    {
     "cell_type": "markdown",
     "metadata": {},
     "source": [
      "## Accessing data from a netCDF variable object\n",
      "\n",
      "- netCDF variables objects behave much like numpy arrays.\n",
      "- slicing a netCDF variable object returns a numpy array with the data.\n",
      "- Boolean array and integer sequence indexing behaves differently for netCDF variables than for numpy arrays. Only 1-d boolean arrays and integer sequences are allowed, and these indices work independently along each dimension (similar to the way vector subscripts work in fortran)."
     ]
    },
    {
     "cell_type": "code",
     "collapsed": false,
     "input": [
      "time = mt[:]  # Reads the netCDF variable MT, array of one element\n",
      "print time "
     ],
     "language": "python",
     "metadata": {},
     "outputs": [
      {
       "output_type": "stream",
       "stream": "stdout",
       "text": [
        "[ 41023.25]\n"
       ]
      }
     ],
     "prompt_number": 8
    },
    {
     "cell_type": "code",
     "collapsed": false,
     "input": [
      "dpth = depth[:] # examine depth array\n",
      "print dpth "
     ],
     "language": "python",
     "metadata": {},
     "outputs": [
      {
       "output_type": "stream",
       "stream": "stdout",
       "text": [
        "[    0.   100.   200.   400.   700.  1000.  2000.  3000.  4000.  5000.]\n"
       ]
      }
     ],
     "prompt_number": 9
    },
    {
     "cell_type": "code",
     "collapsed": false,
     "input": [
      "xx,yy = x[:],y[:]\n",
      "tempslice = temp[0, dpth > 400, xx > xx.max()/2, yy < yy.max()/2]\n",
      "tempslice.shape"
     ],
     "language": "python",
     "metadata": {},
     "outputs": [
      {
       "metadata": {},
       "output_type": "pyout",
       "prompt_number": 10,
       "text": [
        "(6, 356, 424)"
       ]
      }
     ],
     "prompt_number": 10
    },
    {
     "cell_type": "markdown",
     "metadata": {},
     "source": [
      "## What is the sea surface temperature and salinity at 50N, 140W?\n",
      "### Finding the latitude and longitude indices of 50N, 140W\n",
      "\n",
      "- The `X` and `Y` dimensions don't look like longitudes and latitudes\n",
      "- Use the auxilary coordinate variables named in the `coordinates` variable attribute, `Latitude` and `Longitude`\n",
      "- Not a good idea to depend on variable names, instead use conventions such as `standard_name` and `units` in the [CF](http://cfconventions.org) Metadata Conventions"
     ]
    },
    {
     "cell_type": "code",
     "collapsed": false,
     "input": [
      "lat, lon = f.variables['Latitude'], f.variables['Longitude']\n",
      "print lat\n",
      "print lon"
     ],
     "language": "python",
     "metadata": {},
     "outputs": [
      {
       "output_type": "stream",
       "stream": "stdout",
       "text": [
        "<type 'netCDF4.Variable'>\n",
        "float32 Latitude(Y, X)\n",
        "    standard_name: latitude\n",
        "    units: degrees_north\n",
        "unlimited dimensions: \n",
        "current shape = (850, 712)\n",
        "filling on, default _FillValue of 9.96920996839e+36 used\n",
        "\n",
        "<type 'netCDF4.Variable'>\n",
        "float32 Longitude(Y, X)\n",
        "    standard_name: longitude\n",
        "    units: degrees_east\n",
        "unlimited dimensions: \n",
        "current shape = (850, 712)\n",
        "filling on, default _FillValue of 9.96920996839e+36 used\n",
        "\n"
       ]
      }
     ],
     "prompt_number": 11
    },
    {
     "cell_type": "markdown",
     "metadata": {},
     "source": [
      "Aha!  So we need to find array indices `iy` and `ix` such that `Latitude[iy, ix]` is close to 50.0 and `Longitude[iy, ix]` is close to -140.0 ..."
     ]
    },
    {
     "cell_type": "code",
     "collapsed": false,
     "input": [
      "latvals = lat[:]; lonvals = lon[:] # extract lat/lon values (in degrees) to numpy arrays\n",
      "import numpy as np\n",
      "# a function to find the index of the point closest (in squared distance) to give lat/lon value.\n",
      "def getclosest_ij(lats,lons,latpt,lonpt):\n",
      "    dist_sq = (lats-latpt)**2 + (lons-lonpt)**2  # find squared distance of every point on grid\n",
      "    minindex_flattened = dist_sq.argmin() # 1D index of minimum dist_sq element\n",
      "    # Get 2D index for latvals and lonvals arrays from 1D index\n",
      "    return np.unravel_index(minindex_flattened, latvals.shape)\n",
      "iy_min, ix_min = getclosest_ij(latvals, lonvals, 50., -140)"
     ],
     "language": "python",
     "metadata": {},
     "outputs": [],
     "prompt_number": 12
    },
    {
     "cell_type": "markdown",
     "metadata": {},
     "source": [
      "### Now we have all the information we need to find our answer.\n"
     ]
    },
    {
     "cell_type": "markdown",
     "metadata": {},
     "source": [
      "```\n",
      "|----------+--------|\n",
      "| Variable |  Index |\n",
      "|----------+--------|\n",
      "| MT       |      0 |\n",
      "| Depth    |      0 |\n",
      "| Y        | iy_min |\n",
      "| X        | ix_min |\n",
      "|----------+--------|\n",
      "```"
     ]
    },
    {
     "cell_type": "markdown",
     "metadata": {},
     "source": [
      "### What is the sea surface temperature and salinity at the specified point?"
     ]
    },
    {
     "cell_type": "code",
     "collapsed": false,
     "input": [
      "sal = f.variables['salinity']\n",
      "# Read values out of the netCDF file for temperature and salinity\n",
      "print temp[0,0,iy_min,ix_min], temp.units\n",
      "print sal[0,0,iy_min,ix_min], sal.units"
     ],
     "language": "python",
     "metadata": {},
     "outputs": [
      {
       "output_type": "stream",
       "stream": "stdout",
       "text": [
        "6.46312 degC\n",
        "32.6572 psu\n"
       ]
      }
     ],
     "prompt_number": 13
    },
    {
     "cell_type": "markdown",
     "metadata": {},
     "source": [
      "## Remote data access via openDAP\n",
      "\n",
      "- Remote data can be accessed seamlessly with the netcdf4-python API\n",
      "- Access happens via the DAP protocol and DAP servers, such as TDS.\n",
      "- many formats supported, like GRIB, are supported \"under the hood\"."
     ]
    },
    {
     "cell_type": "markdown",
     "metadata": {},
     "source": [
      "The following example showcases some nice netCDF features:\n",
      "\n",
      "1. We are seamlessly accessing **remote** data, from a TDS server.\n",
      "2. We are seamlessly accessing **GRIB2** data, as if it were netCDF data.\n",
      "3. We are generating **metadata** on-the-fly.\n",
      "4. We are using [pyUDL](https://github.com/Unidata/pyudl) to get URL from **TDS data catalog**."
     ]
    },
    {
     "cell_type": "code",
     "collapsed": false,
     "input": [
      "# import pyUDL\n",
      "from pyudl.tds import get_latest_dods_url\n",
      "# specify URL for TDS data catalog\n",
      "gfs_catalog_url = \"http://thredds.ucar.edu/thredds/catalog/grib/NCEP/GFS/Global_0p5deg/catalog.xml\" \n",
      "# get latest forecast time available from catalog\n",
      "latest = get_latest_dods_url(gfs_catalog_url)\n",
      "# open the remote dataset\n",
      "gfs = netCDF4.Dataset(latest)"
     ],
     "language": "python",
     "metadata": {},
     "outputs": [],
     "prompt_number": 14
    },
    {
     "cell_type": "code",
     "collapsed": false,
     "input": [
      "# Look at metadata for a specific variable\n",
      "sfctmp = gfs.variables['Temperature_surface']\n",
      "print sfctmp\n",
      "for dname in sfctmp.dimensions:\n",
      "    print gfs.variables[dname]"
     ],
     "language": "python",
     "metadata": {},
     "outputs": [
      {
       "output_type": "stream",
       "stream": "stdout",
       "text": [
        "<type 'netCDF4.Variable'>\n",
        "float32 Temperature_surface(time, lat, lon)\n",
        "    long_name: Temperature @ Ground or water surface\n",
        "    units: K\n",
        "    missing_value: nan\n",
        "    abbreviation: TMP\n",
        "    coordinates: time \n",
        "    Grib_Variable_Id: VAR_0-0-0_L1\n",
        "    Grib2_Parameter: [0 0 0]\n",
        "    Grib2_Parameter_Discipline: Meteorological products\n",
        "    Grib2_Parameter_Category: Temperature\n",
        "    Grib2_Parameter_Name: Temperature\n",
        "    Grib2_Level_Type: Ground or water surface\n",
        "    Grib2_Generating_Process_Type: Forecast\n",
        "unlimited dimensions: \n",
        "current shape = (65, 361, 720)\n",
        "filling off\n",
        "\n",
        "<type 'netCDF4.Variable'>\n",
        "float64 time(time)\n",
        "    units: Hour since 2014-10-15T18:00:00Z\n",
        "    standard_name: time\n",
        "    long_name: GRIB forecast or observation time\n",
        "    _CoordinateAxisType: Time\n",
        "unlimited dimensions: \n",
        "current shape = (65,)\n",
        "filling off\n",
        "\n",
        "<type 'netCDF4.Variable'>\n",
        "float32 lat(lat)\n",
        "    units: degrees_north\n",
        "    _CoordinateAxisType: Lat\n",
        "unlimited dimensions: \n",
        "current shape = (361,)\n",
        "filling off\n",
        "\n",
        "<type 'netCDF4.Variable'>\n",
        "float32 lon(lon)\n",
        "    units: degrees_east\n",
        "    _CoordinateAxisType: Lon\n",
        "unlimited dimensions: \n",
        "current shape = (720,)\n",
        "filling off\n",
        "\n"
       ]
      }
     ],
     "prompt_number": 15
    },
    {
     "cell_type": "markdown",
     "metadata": {},
     "source": [
      "##Missing values\n",
      "When a netCDF variables has missing values (`data == missing_value` variable attribute), a masked array is returned with missing values masked.  This feature can be turned off using **`Dataset.set_auto_mask(False)`**.  To illustrate this, read soil moisture data (which is only defined over land) and make a plot with matplotlib.  The white areas on the plot are where the data is masked over water, which is where the data is equal to the value given by the `missing_value` attribute.  There is a similar feature for variables stored as packed integers with `scale_factor` and `add_offset` attributes.  The short integer data will automatically be returned as float data, with the scale and offset applied.  This can also be turned off with **`Dataset.set_auto_scale(False)`**."
     ]
    },
    {
     "cell_type": "code",
     "collapsed": false,
     "input": [
      "soilmvar = gfs.variables['Volumetric_Soil_Moisture_Content_depth_below_surface_layer']\n",
      "soilm = soilmvar[0,0,::-1,:] # flip the data in latitude so North Hemisphere is up on the plot\n",
      "print soilm.shape, type(soilm), soilmvar.missing_value\n",
      "import matplotlib.pyplot as plt\n",
      "%matplotlib inline\n",
      "cs = plt.contourf(soilm)"
     ],
     "language": "python",
     "metadata": {},
     "outputs": [
      {
       "output_type": "stream",
       "stream": "stdout",
       "text": [
        "(361, 720) <class 'numpy.ma.core.MaskedArray'> nan\n"
       ]
      },
      {
       "metadata": {},
       "output_type": "display_data",
       "png": "[encoded data removed]",
       "text": [
        "<matplotlib.figure.Figure at 0x1161a5150>"
       ]
      }
     ],
     "prompt_number": 16
    },
    {
     "cell_type": "markdown",
     "metadata": {},
     "source": [
      "## Dealing with dates and times\n",
      "- time variables usually measure relative to a fixed date using a certain calendar, with units specified like ***`hours since YY:MM:DD hh-mm-ss`***.\n",
      "- **`num2date`** and **`date2num`** convenience functions provided to convert between these numeric time coordinates and handy python datetime instances.  **`date2index`** finds the time index corresponding to a datetime instance."
     ]
    },
    {
     "cell_type": "code",
     "collapsed": false,
     "input": [
      "from netCDF4 import num2date, date2num, date2index\n",
      "timedim = sfctmp.dimensions[0]\n",
      "print timedim\n",
      "times = gfs.variables[timedim]\n",
      "print times[:]"
     ],
     "language": "python",
     "metadata": {},
     "outputs": [
      {
       "output_type": "stream",
       "stream": "stdout",
       "text": [
        "time\n",
        "[   0.    3.    6.    9.   12.   15.   18.   21.   24.   27.   30.   33.\n",
        "   36.   39.   42.   45.   48.   51.   54.   57.   60.   63.   66.   69.\n",
        "   72.   75.   78.   81.   84.   87.   90.   93.   96.   99.  102.  105.\n",
        "  108.  111.  114.  117.  120.  123.  126.  129.  132.  135.  138.  141.\n",
        "  144.  147.  150.  153.  156.  159.  162.  165.  168.  171.  174.  177.\n",
        "  180.  183.  186.  189.  192.]\n"
       ]
      }
     ],
     "prompt_number": 17
    },
    {
     "cell_type": "code",
     "collapsed": false,
     "input": [
      "dates = num2date(times[:], times.units)\n",
      "print [date.strftime('%Y%m%d%H') for date in dates]"
     ],
     "language": "python",
     "metadata": {},
     "outputs": [
      {
       "output_type": "stream",
       "stream": "stdout",
       "text": [
        "['2014101518', '2014101521', '2014101600', '2014101603', '2014101606', '2014101609', '2014101612', '2014101615', '2014101618', '2014101621', '2014101700', '2014101703', '2014101706', '2014101709', '2014101712', '2014101715', '2014101718', '2014101721', '2014101800', '2014101803', '2014101806', '2014101809', '2014101812', '2014101815', '2014101818', '2014101821', '2014101900', '2014101903', '2014101906', '2014101909', '2014101912', '2014101915', '2014101918', '2014101921', '2014102000', '2014102003', '2014102006', '2014102009', '2014102012', '2014102015', '2014102018', '2014102021', '2014102100', '2014102103', '2014102106', '2014102109', '2014102112', '2014102115', '2014102118', '2014102121', '2014102200', '2014102203', '2014102206', '2014102209', '2014102212', '2014102215', '2014102218', '2014102221', '2014102300', '2014102303', '2014102306', '2014102309', '2014102312', '2014102315', '2014102318']\n"
       ]
      }
     ],
     "prompt_number": 18
    },
    {
     "cell_type": "markdown",
     "metadata": {},
     "source": [
      "###Get index associated with a specified date, extract forecast data for that date."
     ]
    },
    {
     "cell_type": "code",
     "collapsed": false,
     "input": [
      "from datetime import datetime, timedelta\n",
      "date = datetime.now() + timedelta(days=3)\n",
      "print date\n",
      "ntime = date2index(date,times,select='nearest')\n",
      "print ntime, dates[ntime]"
     ],
     "language": "python",
     "metadata": {},
     "outputs": [
      {
       "output_type": "stream",
       "stream": "stdout",
       "text": [
        "2014-10-18 16:50:02.458058\n",
        "24 2014-10-18 18:00:00\n"
       ]
      }
     ],
     "prompt_number": 19
    },
    {
     "cell_type": "markdown",
     "metadata": {},
     "source": [
      "###Get temp forecast for Boulder (near 40N, -105W)\n",
      "- use function **`getcloses_ij`** we created before..."
     ]
    },
    {
     "cell_type": "code",
     "collapsed": false,
     "input": [
      "lats, lons = gfs.variables['lat'][:], gfs.variables['lon'][:]\n",
      "# lats, lons are 1-d. Make them 2-d using numpy.meshgrid.\n",
      "lons, lats = np.meshgrid(lons,lats)\n",
      "j, i = getclosest_ij(lats,lons,40,-105)\n",
      "fcst_temp = sfctmp[ntime,j,i]\n",
      "print 'Boulder forecast valid at %s UTC = %5.1f %s' % (dates[ntime],fcst_temp,sfctmp.units)"
     ],
     "language": "python",
     "metadata": {},
     "outputs": [
      {
       "output_type": "stream",
       "stream": "stdout",
       "text": [
        "Boulder forecast valid at 2014-10-18 18:00:00 UTC = 280.5 K\n"
       ]
      }
     ],
     "prompt_number": 20
    },
    {
     "cell_type": "markdown",
     "metadata": {},
     "source": [
      "##Simple multi-file aggregation\n",
      "\n",
      "What if you have a bunch of netcdf files, each with data for a different year, and you want to access all the data as if it were in one file?"
     ]
    },
    {
     "cell_type": "code",
     "collapsed": false,
     "input": [
      "!ls -l data/prmsl*nc"
     ],
     "language": "python",
     "metadata": {},
     "outputs": [
      {
       "output_type": "stream",
       "stream": "stdout",
       "text": [
        "-rw-r--r--  1 jwhitaker  climate  8985332 Oct 14 16:19 data/prmsl.2000.nc\r\n",
        "-rw-r--r--  1 jwhitaker  climate  8968789 Oct 14 16:19 data/prmsl.2001.nc\r\n",
        "-rw-r--r--  1 jwhitaker  climate  8972796 Oct 14 16:19 data/prmsl.2002.nc\r\n",
        "-rw-r--r--  1 jwhitaker  climate  8974435 Oct 14 16:19 data/prmsl.2003.nc\r\n",
        "-rw-r--r--  1 jwhitaker  climate  8997438 Oct 14 16:19 data/prmsl.2004.nc\r\n",
        "-rw-r--r--  1 jwhitaker  climate  8976678 Oct 14 16:19 data/prmsl.2005.nc\r\n",
        "-rw-r--r--  1 jwhitaker  climate  8969714 Oct 14 16:19 data/prmsl.2006.nc\r\n",
        "-rw-r--r--  1 jwhitaker  climate  8974360 Oct 14 16:19 data/prmsl.2007.nc\r\n",
        "-rw-r--r--  1 jwhitaker  climate  8994260 Oct 14 16:19 data/prmsl.2008.nc\r\n",
        "-rw-r--r--  1 jwhitaker  climate  8974678 Oct 14 16:19 data/prmsl.2009.nc\r\n",
        "-rw-r--r--  1 jwhitaker  climate  8970732 Oct 14 16:19 data/prmsl.2010.nc\r\n",
        "-rw-r--r--  1 jwhitaker  climate  8976285 Oct 14 16:19 data/prmsl.2011.nc\r\n"
       ]
      }
     ],
     "prompt_number": 21
    },
    {
     "cell_type": "markdown",
     "metadata": {},
     "source": [
      "**`MFDataset`** uses file globbing to patch together all the files into one big Dataset.\n",
      "You can also pass it a list of specific files.\n",
      "Limitations:\n",
      "- It can only  aggregate the data along the leftmost dimension of each variable.\n",
      "- only works with `NETCDF3`, or `NETCDF4_CLASSIC` formatted files.\n",
      "- kind of slow."
     ]
    },
    {
     "cell_type": "code",
     "collapsed": false,
     "input": [
      "mf = netCDF4.MFDataset('data/prmsl*nc')\n",
      "times = mf.variables['time']\n",
      "dates = num2date(times[:],times.units)\n",
      "print 'starting date = ',dates[0]\n",
      "print 'ending date = ',dates[-1]\n",
      "prmsl = mf.variables['prmsl']\n",
      "print times.shape, prmsl.dimensions, prmsl.shape"
     ],
     "language": "python",
     "metadata": {},
     "outputs": [
      {
       "output_type": "stream",
       "stream": "stdout",
       "text": [
        "starting date =  2000-01-01 00:00:00\n",
        "ending date =  2011-12-31 00:00:00\n",
        "(4383,) (u'time', u'lat', u'lon') (4383, 91, 180)\n"
       ]
      }
     ],
     "prompt_number": 22
    },
    {
     "cell_type": "markdown",
     "metadata": {},
     "source": [
      "## Closing your netCDF file\n",
      "\n",
      "It's good to close netCDF files, but not actually necessary when Dataset is open for read access only.\n"
     ]
    },
    {
     "cell_type": "code",
     "collapsed": false,
     "input": [
      "f.close()\n",
      "gfs.close()"
     ],
     "language": "python",
     "metadata": {},
     "outputs": [],
     "prompt_number": 23
    }
   ],
   "metadata": {}
  }
 ]
}