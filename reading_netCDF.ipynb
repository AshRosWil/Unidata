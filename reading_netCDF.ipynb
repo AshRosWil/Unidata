{
 "metadata": {
  "name": "reading_netCDF"
 },
 "nbformat": 3,
 "nbformat_minor": 0,
 "worksheets": [
  {
   "cells": [
    {
     "cell_type": "markdown",
     "metadata": {},
     "source": [
      "# netCDF File Exploration with Python and NumPy\n",
      "\n",
      "- Network Common Data Form \n",
      "- Scientific binary data format widely used in geoscience.\n",
      "- Self describing, array-oriented, platform independent."
     ]
    },
    {
     "cell_type": "markdown",
     "metadata": {},
     "source": [
      "## netcdf4-python\n",
      "\n",
      "- Python/NumPy interface to netCDF\n",
      "- Available at Google Code: https://code.google.com/p/netcdf4-python/\n",
      "- Developed by Jeff Whitaker at ESRL, NOAA and others"
     ]
    },
    {
     "cell_type": "markdown",
     "metadata": {},
     "source": [
      "## Interactively Exploring a netCDF File\n",
      "\n",
      "Let's explore a netCDF file from the *Atlantic Real-Time Ocean Forecast System*\n",
      "\n",
      "To import netcdf4-python"
     ]
    },
    {
     "cell_type": "code",
     "collapsed": false,
     "input": [
      "import netCDF4"
     ],
     "language": "python",
     "metadata": {},
     "outputs": [],
     "prompt_number": 280
    },
    {
     "cell_type": "markdown",
     "metadata": {},
     "source": [
      "## NumPy\n",
      "\n",
      "To explore netCDF arrays, we will also need NumPy.\n",
      "\n",
      "- NumPy (pronounced \"num pie\" or \"num pee\") is a library that enables scientific programming in Python.\n",
      "- Facilities for n-dimensional array based calculations similar to Fortran and IDL.\n",
      "- A set of mathematical functions to act on scalars and arrays.\n",
      "- The core Python language lacks primitive type n-dimensional numeric arrays which is why we need NumPy.\n",
      "\n",
      "To import NumPy:"
     ]
    },
    {
     "cell_type": "code",
     "collapsed": false,
     "input": [
      "import numpy as np"
     ],
     "language": "python",
     "metadata": {},
     "outputs": [],
     "prompt_number": 281
    },
    {
     "cell_type": "markdown",
     "metadata": {},
     "source": [
      "## List names of netCDF variables in a file"
     ]
    },
    {
     "cell_type": "code",
     "collapsed": false,
     "input": [
      "f = netCDF4.Dataset('data/rtofs_glo_3dz_f006_6hrly_reg3.nc', 'r')\n",
      "for v in f.variables:\n",
      "    print(v),"
     ],
     "language": "python",
     "metadata": {},
     "outputs": [
      {
       "output_type": "stream",
       "stream": "stdout",
       "text": [
        "MT Date Depth Y X Latitude Longitude u v temperature salinity\n"
       ]
      }
     ],
     "prompt_number": 282
    },
    {
     "cell_type": "markdown",
     "metadata": {},
     "source": [
      "Let's put our Python object oriented knowledge to use\n",
      "\n",
      "- `f` is an object\n",
      "- `variables` is an attribute of f, in particular it is a dictionary\n",
      "- You can list all the attributes of an object with the `dir` function (e.g. `dir(f)`)"
     ]
    },
    {
     "cell_type": "code",
     "collapsed": false,
     "input": [
      "type(f.variables) # f.variables is a dictionary data structure"
     ],
     "language": "python",
     "metadata": {},
     "outputs": [
      {
       "output_type": "pyout",
       "prompt_number": 283,
       "text": [
        "collections.OrderedDict"
       ]
      }
     ],
     "prompt_number": 283
    },
    {
     "cell_type": "markdown",
     "metadata": {},
     "source": [
      "## List the Dimensions\n",
      "\n",
      "- All variables in a netCDF file have an associated shape, specified by a list of dimensions.\n",
      "- Let's list all the dimensions in this netCDF file, then get more information about one of the dimensions\n"
     ]
    },
    {
     "cell_type": "code",
     "collapsed": false,
     "input": [
      "for d in f.dimensions:\n",
      "    print(d),"
     ],
     "language": "python",
     "metadata": {},
     "outputs": [
      {
       "output_type": "stream",
       "stream": "stdout",
       "text": [
        "MT Y X Depth\n"
       ]
      }
     ],
     "prompt_number": 284
    },
    {
     "cell_type": "code",
     "collapsed": false,
     "input": [
      "print f.dimensions['Y']"
     ],
     "language": "python",
     "metadata": {},
     "outputs": [
      {
       "output_type": "stream",
       "stream": "stdout",
       "text": [
        "<type 'netCDF4.Dimension'>: name = 'Y', size = 850\n",
        "\n"
       ]
      }
     ],
     "prompt_number": 285
    },
    {
     "cell_type": "markdown",
     "metadata": {},
     "source": [
      "## Let's find out more about temperature.\n",
      "\n",
      "First, let's get the variable object for temperature."
     ]
    },
    {
     "cell_type": "code",
     "collapsed": false,
     "input": [
      "tempvar = f.variables['temperature']"
     ],
     "language": "python",
     "metadata": {},
     "outputs": [],
     "prompt_number": 286
    },
    {
     "cell_type": "code",
     "collapsed": false,
     "input": [
      "tempvar.standard_name"
     ],
     "language": "python",
     "metadata": {},
     "outputs": [
      {
       "output_type": "pyout",
       "prompt_number": 287,
       "text": [
        "u'sea_water_potential_temperature'"
       ]
      }
     ],
     "prompt_number": 287
    },
    {
     "cell_type": "code",
     "collapsed": false,
     "input": [
      "tempvar.units"
     ],
     "language": "python",
     "metadata": {},
     "outputs": [
      {
       "output_type": "pyout",
       "prompt_number": 288,
       "text": [
        "u'degC'"
       ]
      }
     ],
     "prompt_number": 288
    },
    {
     "cell_type": "code",
     "collapsed": false,
     "input": [
      "tempvar.coordinates"
     ],
     "language": "python",
     "metadata": {},
     "outputs": [
      {
       "output_type": "pyout",
       "prompt_number": 289,
       "text": [
        "u'Longitude Latitude Date'"
       ]
      }
     ],
     "prompt_number": 289
    },
    {
     "cell_type": "markdown",
     "metadata": {},
     "source": [
      "## What is the sea surface temperature and salinity at 50N, 140W?\n",
      "\n",
      "- First, we have to understand the dimension of the temperature variable.\n",
      "- Then we enquire about the *coordinate variables*, that is the variables the make up the dimension."
     ]
    },
    {
     "cell_type": "code",
     "collapsed": false,
     "input": [
      "tempvar.dimensions"
     ],
     "language": "python",
     "metadata": {},
     "outputs": [
      {
       "output_type": "pyout",
       "prompt_number": 290,
       "text": [
        "(u'MT', u'Depth', u'Y', u'X')"
       ]
      }
     ],
     "prompt_number": 290
    },
    {
     "cell_type": "code",
     "collapsed": false,
     "input": [
      "mt = f.variables['MT']\n",
      "mt.units # No standard_name name, so grabbing units information"
     ],
     "language": "python",
     "metadata": {},
     "outputs": [
      {
       "output_type": "pyout",
       "prompt_number": 291,
       "text": [
        "u'days since 1900-12-31 00:00:00'"
       ]
      }
     ],
     "prompt_number": 291
    },
    {
     "cell_type": "code",
     "collapsed": false,
     "input": [
      "mt[:]  #Time array of one element"
     ],
     "language": "python",
     "metadata": {},
     "outputs": [
      {
       "output_type": "pyout",
       "prompt_number": 292,
       "text": [
        "array([ 41023.25])"
       ]
      }
     ],
     "prompt_number": 292
    },
    {
     "cell_type": "code",
     "collapsed": false,
     "input": [
      "depth = f.variables['Depth']\n",
      "depth.standard_name"
     ],
     "language": "python",
     "metadata": {},
     "outputs": [
      {
       "output_type": "pyout",
       "prompt_number": 293,
       "text": [
        "u'depth'"
       ]
      }
     ],
     "prompt_number": 293
    },
    {
     "cell_type": "code",
     "collapsed": false,
     "input": [
      "depth[:] #Let's use NumPy to examine depth array"
     ],
     "language": "python",
     "metadata": {},
     "outputs": [
      {
       "output_type": "pyout",
       "prompt_number": 294,
       "text": [
        "array([    0.,   100.,   200.,   400.,   700.,  1000.,  2000.,  3000.,\n",
        "        4000.,  5000.], dtype=float32)"
       ]
      }
     ],
     "prompt_number": 294
    },
    {
     "cell_type": "markdown",
     "metadata": {},
     "source": [
      "### Finding the latitude and longitude indices of 50N, 140W"
     ]
    },
    {
     "cell_type": "code",
     "collapsed": false,
     "input": [
      "\n",
      "import numpy as np\n",
      "lat = f.variables['Latitude']\n",
      "lon = f.variables['Longitude']\n",
      "print lat.dimensions, lon.dimensions\n",
      "print lat.shape, lon.shape\n"
     ],
     "language": "python",
     "metadata": {},
     "outputs": [
      {
       "output_type": "stream",
       "stream": "stdout",
       "text": [
        "(u'Y', u'X') (u'Y', u'X')\n",
        "(850, 712) (850, 712)\n"
       ]
      }
     ],
     "prompt_number": 295
    },
    {
     "cell_type": "markdown",
     "metadata": {},
     "source": [
      "### Naive, slow way uses nested loops"
     ]
    },
    {
     "cell_type": "code",
     "collapsed": false,
     "input": [
      "# Find array indices of latitude and longitude closest to (50.0, -140.0)\n",
      "\n",
      "lat_pt, lon_pt = 50.0, -140.0   # the point we want indices for\n",
      "# Read latitude and longitude values from file into numpy arrays\n",
      "latvals = lat[:]   # 850 x 712 array, 605200 values\n",
      "lonvals = lon[:]   # the same size\n",
      "distsq_min = 1.0e30          # min distance squared, initially a big number\n",
      "ydim = f.dimensions['Y']\n",
      "xdim = f.dimensions['X']\n",
      "for y_index in range(len(ydim)):     # 0, 1, ..., 849\n",
      "    for x_index in range(len(xdim)): # 0, 1, ..., 711\n",
      "         latval = latvals[y_index, x_index]\n",
      "         # arithmetic gets longitude in range -180 to 180 \n",
      "         lonval = (lonvals[y_index, x_index] + 180) % 360 - 180\n",
      "         dist_sq = (latval - lat_pt)**2 + (lonval - lon_pt)**2\n",
      "         if dist_sq < distsq_min:\n",
      "             lat_idx, lon_idx, distsq_min = y_index, x_index, dist_sq\n",
      "print lat_idx, lon_idx, lat[122,486], lon[122,486] # Sanity check"
     ],
     "language": "python",
     "metadata": {},
     "outputs": [
      {
       "output_type": "stream",
       "stream": "stdout",
       "text": [
        "122 486 49.9867 -139.982\n"
       ]
      }
     ],
     "prompt_number": 296
    },
    {
     "cell_type": "markdown",
     "metadata": {},
     "source": [
      "### A faster way, using numpy arrays to avoid loops"
     ]
    },
    {
     "cell_type": "code",
     "collapsed": false,
     "input": [
      "latvals = lat[:]\n",
      "lonvals = (lon[:] + 180) % 360.0 - 180.0  # get in range -180 to 180 \n",
      "dist_sq = (latvals-lat_pt)**2 + (lonvals-lon_pt)**2\n",
      "minindex_flattened = dist_sq.argmin()\n",
      "lat_idx, lon_idx = np.unravel_index(minindex_flattened, latvals.shape)\n",
      "print lat_idx, lon_idx, lat[122,486], lon[122,486] # Sanity check"
     ],
     "language": "python",
     "metadata": {},
     "outputs": [
      {
       "output_type": "stream",
       "stream": "stdout",
       "text": [
        "122 486 49.9867 -139.982\n"
       ]
      }
     ],
     "prompt_number": 297
    },
    {
     "cell_type": "markdown",
     "metadata": {},
     "source": [
      "### An even faster way is available\n",
      "\n",
      "If getting indices for _lots_ of coordinates, see scipy.spatial.cKDTree ..."
     ]
    },
    {
     "cell_type": "markdown",
     "metadata": {},
     "source": [
      "### Now we have all the information we need to find our answer.\n"
     ]
    },
    {
     "cell_type": "markdown",
     "metadata": {},
     "source": [
      "```\n",
      "|----------+-------|\n",
      "| Variable | Index |\n",
      "|----------+-------|\n",
      "| MT       |     0 |\n",
      "| Depth    |     0 |\n",
      "| Y        |   122 |\n",
      "| X        |   486 |\n",
      "|----------+-------|\n",
      "```"
     ]
    },
    {
     "cell_type": "markdown",
     "metadata": {},
     "source": [
      "### What is the sea surface temperature and salinity at 50N, 140W?"
     ]
    },
    {
     "cell_type": "code",
     "collapsed": false,
     "input": [
      "# Reads one value out of the netCDF variable in the file\n",
      "tempvar[0,0,122,486]"
     ],
     "language": "python",
     "metadata": {},
     "outputs": [
      {
       "output_type": "pyout",
       "prompt_number": 298,
       "text": [
        "6.463119"
       ]
      }
     ],
     "prompt_number": 298
    },
    {
     "cell_type": "markdown",
     "metadata": {},
     "source": [
      "## Closing your netCDF file\n",
      "\n",
      "It's good to close netCDF files, but not actually necessary when only reading from a netCDF file.\n"
     ]
    },
    {
     "cell_type": "code",
     "collapsed": false,
     "input": [
      "f.close()"
     ],
     "language": "python",
     "metadata": {},
     "outputs": [],
     "prompt_number": 299
    },
    {
     "cell_type": "markdown",
     "metadata": {},
     "source": [
      "# Remote data access via the TDS\n",
      "\n",
      "- Remote data can be accessed seamlessly with the netcdf4-python API\n",
      "- Access happens under the hood via the DAP protocol and DAP servers, such as TDS."
     ]
    },
    {
     "cell_type": "markdown",
     "metadata": {},
     "source": [
      "## When accessing via TDS many data formats are supported"
     ]
    },
    {
     "cell_type": "code",
     "collapsed": false,
     "input": [
      "from IPython.display import HTML\n",
      "HTML('<iframe src=http://www.unidata.ucar.edu/software/netcdf-java/formats/FileTypes.html width=700 height=350></iframe>')\n"
     ],
     "language": "python",
     "metadata": {},
     "outputs": [
      {
       "html": [
        "<iframe src=http://www.unidata.ucar.edu/software/netcdf-java/formats/FileTypes.html width=700 height=350></iframe>"
       ],
       "output_type": "pyout",
       "prompt_number": 300,
       "text": [
        "<IPython.core.display.HTML at 0x3d82c10>"
       ]
      }
     ],
     "prompt_number": 300
    },
    {
     "cell_type": "markdown",
     "metadata": {},
     "source": [
      "## Introducing the `pytds` module\n",
      "- This is a local Python module we wrote for this workshop.\n",
      "- It only has one interesting function: `get_latest_dods_url`\n",
      "- `get_latest_dods_url`: Given a top level THREDDS dataset URI, return the latest dataset.\n",
      "- In the future, this module will be separated out and have additional functionality.\n",
      "- The `pytds` name will also change because it is already taken."
     ]
    },
    {
     "cell_type": "markdown",
     "metadata": {},
     "source": [
      "The following example showcases a couple of nice netCDF features:\n",
      "\n",
      "1. We are seamlessly interacting with **grib2** data.\n",
      "2. We are seamlessly interacting **remote** data."
     ]
    },
    {
     "cell_type": "code",
     "collapsed": false,
     "input": [
      "\n",
      "from netCDF4 import Dataset\n",
      "from pytds.util import get_latest_dods_url\n",
      "\n",
      "gfs_data_url = \"http://thredds.ucar.edu/thredds/catalog/grib/NCEP/GFS/Global_0p5deg/catalog.xml\"\n",
      "\n",
      "latest = get_latest_dods_url(gfs_data_url)\n",
      "data = Dataset(latest)\n",
      "\n",
      "for v in data.variables:\n",
      "    print v,\n"
     ],
     "language": "python",
     "metadata": {},
     "outputs": [
      {
       "output_type": "stream",
       "stream": "stdout",
       "text": [
        "lat lon isobaric isobaric1 pressure_difference_layer pressure_difference_layer_bounds potential_vorticity_surface isobaric2 height_above_ground sigma height_above_ground1 sigma_layer sigma_layer_bounds pressure_difference_layer1 pressure_difference_layer1_bounds isobaric3 height_above_ground2 height_above_ground_layer height_above_ground_layer_bounds depth_below_surface_layer depth_below_surface_layer_bounds height_above_ground3 altitude_above_msl isobaric4 height_above_ground_layer1 height_above_ground_layer1_bounds isobaric5 pressure_difference_layer2 pressure_difference_layer2_bounds height_above_ground4 time time1 time1_bounds time2 time2_bounds time3 Temperature_surface Temperature_maximum_wind Temperature_tropopause Temperature_isobaric Temperature_altitude_above_msl Temperature_height_above_ground Temperature_sigma Temperature_depth_below_surface_layer Temperature_pressure_difference_layer Temperature_potential_vorticity_surface Temperature_low_cloud_top_Mixed_intervals_Average Temperature_middle_cloud_top_Mixed_intervals_Average Temperature_high_cloud_top_Mixed_intervals_Average Potential_temperature_sigma Maximum_temperature_height_above_ground_Mixed_intervals_Interval Minimum_temperature_height_above_ground_Mixed_intervals_Interval Latent_heat_net_flux_surface_Mixed_intervals_Average Sensible_heat_net_flux_surface_Mixed_intervals_Average Specific_humidity_height_above_ground Specific_humidity_pressure_difference_layer Relative_humidity_zeroDegC_isotherm Relative_humidity_isobaric Relative_humidity_height_above_ground Relative_humidity_sigma_layer Relative_humidity_sigma Relative_humidity_pressure_difference_layer Relative_humidity_entire_atmosphere Relative_humidity_highest_tropospheric_freezing Precipitable_water_entire_atmosphere Precipitation_rate_surface_Mixed_intervals_Average Total_precipitation_surface_Mixed_intervals_Accumulation Convective_precipitation_surface_Mixed_intervals_Accumulation Water_equivalent_of_accumulated_snow_depth_surface Cloud_mixing_ratio_isobaric Categorical_Rain_surface_Mixed_intervals_Average Categorical_Freezing_Rain_surface_Mixed_intervals_Average Categorical_Ice_Pellets_surface_Mixed_intervals_Average Categorical_Snow_surface_Mixed_intervals_Average Convective_Precipitation_Rate_surface_Mixed_intervals_Average Potential_Evaporation_Rate_surface u-component_of_wind_maximum_wind u-component_of_wind_tropopause u-component_of_wind_isobaric u-component_of_wind_altitude_above_msl u-component_of_wind_height_above_ground u-component_of_wind_sigma u-component_of_wind_pressure_difference_layer u-component_of_wind_potential_vorticity_surface u-component_of_wind_planetary_boundary v-component_of_wind_maximum_wind v-component_of_wind_tropopause v-component_of_wind_isobaric v-component_of_wind_altitude_above_msl v-component_of_wind_height_above_ground v-component_of_wind_sigma v-component_of_wind_pressure_difference_layer v-component_of_wind_potential_vorticity_surface v-component_of_wind_planetary_boundary Vertical_velocity_pressure_isobaric Vertical_velocity_pressure_sigma Absolute_vorticity_isobaric Momentum_flux_u-component_surface_Mixed_intervals_Average Momentum_flux_v-component_surface_Mixed_intervals_Average Wind_speed_gust_surface Vertical_Speed_Shear_tropopause Vertical_Speed_Shear_potential_vorticity_surface U-Component_Storm_Motion_height_above_ground_layer V-Component_Storm_Motion_height_above_ground_layer Ventilation_Rate_planetary_boundary Pressure_surface Pressure_maximum_wind Pressure_tropopause Pressure_height_above_ground Pressure_potential_vorticity_surface Pressure_low_cloud_bottom_Mixed_intervals_Average Pressure_low_cloud_top_Mixed_intervals_Average Pressure_middle_cloud_bottom_Mixed_intervals_Average Pressure_middle_cloud_top_Mixed_intervals_Average Pressure_high_cloud_bottom_Mixed_intervals_Average Pressure_high_cloud_top_Mixed_intervals_Average Pressure_convective_cloud_bottom Pressure_convective_cloud_top Pressure_reduced_to_MSL_msl ICAO_Standard_Atmosphere_Reference_Height_maximum_wind ICAO_Standard_Atmosphere_Reference_Height_tropopause Geopotential_height_surface Geopotential_height_zeroDegC_isotherm Geopotential_height_maximum_wind Geopotential_height_tropopause Geopotential_height_isobaric Geopotential_height_potential_vorticity_surface Geopotential_height_highest_tropospheric_freezing Geopotential_height_anomaly_isobaric MSLP_Eta_model_reduction_msl 5-Wave_Geopotential_Height_isobaric Zonal_Flux_of_Gravity_Wave_Stress_surface_Mixed_intervals_Average Meridional_Flux_of_Gravity_Wave_Stress_surface_Mixed_intervals_Average Planetary_Boundary_Layer_Height_surface 5-Wave_Geopotential_Height_Anomaly_isobaric Pressure_of_level_from_which_parcel_was_lifted_pressure_difference_layer Downward_Short-Wave_Radiation_Flux_surface_Mixed_intervals_Average Upward_Short-Wave_Radiation_Flux_surface_Mixed_intervals_Average Upward_Short-Wave_Radiation_Flux_atmosphere_top_Mixed_intervals_Average Downward_Long-Wave_Radp_Flux_surface_Mixed_intervals_Average Upward_Long-Wave_Radp_Flux_surface_Mixed_intervals_Average Upward_Long-Wave_Radp_Flux_atmosphere_top_Mixed_intervals_Average Total_cloud_cover_entire_atmosphere_Mixed_intervals_Average Total_cloud_cover_boundary_layer_cloud_Mixed_intervals_Average Total_cloud_cover_low_cloud_Mixed_intervals_Average Total_cloud_cover_middle_cloud_Mixed_intervals_Average Total_cloud_cover_high_cloud_Mixed_intervals_Average Total_cloud_cover_convective_cloud Cloud_water_entire_atmosphere Cloud_Work_Function_entire_atmosphere_Mixed_intervals_Average Sunshine_Duration_surface Convective_available_potential_energy_surface Convective_available_potential_energy_pressure_difference_layer Convective_inhibition_surface Convective_inhibition_pressure_difference_layer Storm_relative_helicity_height_above_ground_layer Surface_Lifted_Index_surface Best_4_layer_Lifted_Index_surface Total_ozone_entire_atmosphere Ozone_Mixing_Ratio_isobaric Albedo_surface_Mixed_intervals_Average Land_cover_0__sea_1__land_surface Water_runoff_surface_Mixed_intervals_Accumulation Volumetric_Soil_Moisture_Content_depth_below_surface_layer Ground_Heat_Flux_surface_Mixed_intervals_Average Wilting_Point_surface Field_Capacity_surface Haines_Index_surface Ice_cover_surface\n"
       ]
      }
     ],
     "prompt_number": 301
    },
    {
     "cell_type": "code",
     "collapsed": false,
     "input": [],
     "language": "python",
     "metadata": {},
     "outputs": []
    }
   ],
   "metadata": {}
  }
 ]
}