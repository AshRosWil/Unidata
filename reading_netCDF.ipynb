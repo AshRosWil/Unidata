{
 "metadata": {
  "name": "reading_netCDF"
 },
 "nbformat": 3,
 "nbformat_minor": 0,
 "worksheets": [
  {
   "cells": [
    {
     "cell_type": "markdown",
     "metadata": {},
     "source": [
      "# netCDF File Exploration with Python and NumPy\n",
      "\n",
      "- Network Common Data Form \n",
      "- Scientific binary data format widely used in geoscience.\n",
      "- Self describing, array-oriented, platform independent."
     ]
    },
    {
     "cell_type": "markdown",
     "metadata": {},
     "source": [
      "## netcdf4-python\n",
      "\n",
      "- Python/NumPy interface to netCDF\n",
      "- Available at Google Code: https://code.google.com/p/netcdf4-python/\n",
      "- Developed by Jeff Whitaker at ESRL, NOAA and others"
     ]
    },
    {
     "cell_type": "markdown",
     "metadata": {},
     "source": [
      "## Interactively Exploring a netCDF File\n",
      "\n",
      "Let's explore a netCDF file from the *Atlantic Real-Time Ocean Forecast System*\n",
      "\n",
      "To import netcdf4-python"
     ]
    },
    {
     "cell_type": "code",
     "collapsed": false,
     "input": [
      "import netCDF4"
     ],
     "language": "python",
     "metadata": {},
     "outputs": [],
     "prompt_number": 852
    },
    {
     "cell_type": "markdown",
     "metadata": {},
     "source": [
      "## List names of netCDF variables in a file"
     ]
    },
    {
     "cell_type": "code",
     "collapsed": false,
     "input": [
      "f = netCDF4.Dataset('data/rtofs_glo_3dz_f006_6hrly_reg3.nc', 'r')\n",
      "for v in f.variables:\n",
      "    print(v),"
     ],
     "language": "python",
     "metadata": {},
     "outputs": [
      {
       "output_type": "stream",
       "stream": "stdout",
       "text": [
        "MT Date Depth Y X Latitude Longitude u v temperature salinity\n"
       ]
      }
     ],
     "prompt_number": 853
    },
    {
     "cell_type": "markdown",
     "metadata": {},
     "source": [
      "Let's put our Python object oriented knowledge to use\n",
      "\n",
      "- `f` is an object, representing an open netCDF file\n",
      "- `variables` is an attribute of f, in particular it is a dictionary"
     ]
    },
    {
     "cell_type": "code",
     "collapsed": false,
     "input": [
      "type(f.variables) # f.variables is a dictionary data structure"
     ],
     "language": "python",
     "metadata": {},
     "outputs": [
      {
       "output_type": "pyout",
       "prompt_number": 854,
       "text": [
        "collections.OrderedDict"
       ]
      }
     ],
     "prompt_number": 854
    },
    {
     "cell_type": "markdown",
     "metadata": {},
     "source": [
      "## List the Dimensions\n",
      "\n",
      "- All variables in a netCDF file have an associated shape, specified by a list of dimensions.\n",
      "- Let's list all the dimensions in this netCDF file, then get more information about one of the dimensions\n"
     ]
    },
    {
     "cell_type": "code",
     "collapsed": false,
     "input": [
      "for d in f.dimensions:\n",
      "    print(d),"
     ],
     "language": "python",
     "metadata": {},
     "outputs": [
      {
       "output_type": "stream",
       "stream": "stdout",
       "text": [
        "MT Y X Depth\n"
       ]
      }
     ],
     "prompt_number": 855
    },
    {
     "cell_type": "code",
     "collapsed": false,
     "input": [
      "print f.dimensions['Y']"
     ],
     "language": "python",
     "metadata": {},
     "outputs": [
      {
       "output_type": "stream",
       "stream": "stdout",
       "text": [
        "<type 'netCDF4.Dimension'>: name = 'Y', size = 850\n",
        "\n"
       ]
      }
     ],
     "prompt_number": 856
    },
    {
     "cell_type": "markdown",
     "metadata": {},
     "source": [
      "## Let's find out more about temperature and salinity\n",
      "\n",
      "Get the variable objects for temperature and salinity\n",
      "\n",
      "- doesn't read any data yet, just metadata read in when netCDF dataset opened\n",
      "- notice these two variables are the same shape, defined on the same 4D grid\n"
     ]
    },
    {
     "cell_type": "code",
     "collapsed": false,
     "input": [
      "temp = f.variables['temperature']\n",
      "sal = f.variables['salinity']\n",
      "print temp\n",
      "print sal"
     ],
     "language": "python",
     "metadata": {},
     "outputs": [
      {
       "output_type": "stream",
       "stream": "stdout",
       "text": [
        "<type 'netCDF4.Variable'>\n",
        "float32 temperature(MT, Depth, Y, X)\n",
        "    coordinates: Longitude Latitude Date\n",
        "    standard_name: sea_water_potential_temperature\n",
        "    units: degC\n",
        "    _FillValue: 1.26765e+30\n",
        "    valid_range: [ -5.07860279  11.14989948]\n",
        "    long_name:   temp [90.9H]\n",
        "unlimited dimensions: MT\n",
        "current shape = (1, 10, 850, 712)\n",
        "\n",
        "<type 'netCDF4.Variable'>\n",
        "float32 salinity(MT, Depth, Y, X)\n",
        "    coordinates: Longitude Latitude Date\n",
        "    standard_name: sea_water_salinity\n",
        "    units: psu\n",
        "    _FillValue: 1.26765e+30\n",
        "    valid_range: [ 11.61832619  35.04695129]\n",
        "    long_name:  salinity [90.9H]\n",
        "unlimited dimensions: MT\n",
        "current shape = (1, 10, 850, 712)\n",
        "\n"
       ]
      }
     ],
     "prompt_number": 857
    },
    {
     "cell_type": "markdown",
     "metadata": {},
     "source": [
      "### List the attributes of temperature\n",
      "\n",
      "We can get\n",
      "\n",
      "- a list of the names of netCDF attributes for a variable using the `ncattrs()` method\n",
      "- the value of an attribute using Python's _`var.att`_ syntax"
     ]
    },
    {
     "cell_type": "code",
     "collapsed": false,
     "input": [
      "for att in temp.ncattrs():\n",
      "    print att"
     ],
     "language": "python",
     "metadata": {},
     "outputs": [
      {
       "output_type": "stream",
       "stream": "stdout",
       "text": [
        "coordinates\n",
        "standard_name\n",
        "units\n",
        "_FillValue\n",
        "valid_range\n",
        "long_name\n"
       ]
      }
     ],
     "prompt_number": 858
    },
    {
     "cell_type": "code",
     "collapsed": false,
     "input": [
      "print temp.coordinates\n",
      "print temp.standard_name\n",
      "print temp.units"
     ],
     "language": "python",
     "metadata": {},
     "outputs": [
      {
       "output_type": "stream",
       "stream": "stdout",
       "text": [
        "Longitude Latitude Date\n",
        "sea_water_potential_temperature\n",
        "degC\n"
       ]
      }
     ],
     "prompt_number": 859
    },
    {
     "cell_type": "markdown",
     "metadata": {},
     "source": [
      "## What is the sea surface temperature and salinity at 50N, 140W?\n",
      "\n",
      "- First, we have to understand the dimensions of the temperature variable.\n",
      "- *Coordinate variables* are 1D variables that have the same name as dimensions.\n",
      "- Coordinate variables and *auxiliary coordinate variables* (named by the *coordinates* attribute) locate values in time and space."
     ]
    },
    {
     "cell_type": "code",
     "collapsed": false,
     "input": [
      "print 'Variables:  ',\n",
      "for v in f.variables:\n",
      "    print(v),\n",
      "print\n",
      "print 'Dimensions: ',\n",
      "for d in temp.dimensions:\n",
      "    print(d),"
     ],
     "language": "python",
     "metadata": {},
     "outputs": [
      {
       "output_type": "stream",
       "stream": "stdout",
       "text": [
        "Variables:   MT Date Depth Y X Latitude Longitude u v temperature salinity\n",
        "Dimensions:  MT Depth Y X\n"
       ]
      }
     ],
     "prompt_number": 860
    },
    {
     "cell_type": "code",
     "collapsed": false,
     "input": [
      "mt = f.variables['MT']\n",
      "depth = f.variables['Depth']\n",
      "print mt\n",
      "print depth"
     ],
     "language": "python",
     "metadata": {},
     "outputs": [
      {
       "output_type": "stream",
       "stream": "stdout",
       "text": [
        "<type 'netCDF4.Variable'>\n",
        "float64 MT(MT)\n",
        "    long_name: time\n",
        "    units: days since 1900-12-31 00:00:00\n",
        "    calendar: standard\n",
        "    axis: T\n",
        "unlimited dimensions: MT\n",
        "current shape = (1,)\n",
        "\n",
        "<type 'netCDF4.Variable'>\n",
        "float32 Depth(Depth)\n",
        "    standard_name: depth\n",
        "    units: m\n",
        "    positive: down\n",
        "    axis: Z\n",
        "unlimited dimensions: \n",
        "current shape = (10,)\n",
        "\n"
       ]
      }
     ],
     "prompt_number": 861
    },
    {
     "cell_type": "markdown",
     "metadata": {},
     "source": [
      "## NumPy\n",
      "\n",
      "To access netCDF data, rather than just metadata, we will also need NumPy.\n",
      "\n",
      "- NumPy (pronounced \"num pie\" or \"num pee\") is a Python library for scientific programming.\n",
      "- Facilities for n-dimensional array-based calculations similar to Fortran and IDL.\n",
      "- A set of fast mathematical functions to act on scalars and arrays.\n",
      "- The core Python language lacks n-dimensional numeric arrays, which is why we need NumPy.\n",
      "- Indexing a netCDF variable does I/O on a numpy array\n",
      "\n",
      "To import NumPy:"
     ]
    },
    {
     "cell_type": "code",
     "collapsed": false,
     "input": [
      "import numpy as np"
     ],
     "language": "python",
     "metadata": {},
     "outputs": [],
     "prompt_number": 862
    },
    {
     "cell_type": "code",
     "collapsed": false,
     "input": [
      "mt[:]  # Reads the netCDF variable MT, array of one element"
     ],
     "language": "python",
     "metadata": {},
     "outputs": [
      {
       "output_type": "pyout",
       "prompt_number": 863,
       "text": [
        "array([ 41023.25])"
       ]
      }
     ],
     "prompt_number": 863
    },
    {
     "cell_type": "code",
     "collapsed": false,
     "input": [
      "depth[:] # Let's use NumPy to examine depth array"
     ],
     "language": "python",
     "metadata": {},
     "outputs": [
      {
       "output_type": "pyout",
       "prompt_number": 864,
       "text": [
        "array([    0.,   100.,   200.,   400.,   700.,  1000.,  2000.,  3000.,\n",
        "        4000.,  5000.], dtype=float32)"
       ]
      }
     ],
     "prompt_number": 864
    },
    {
     "cell_type": "code",
     "collapsed": false,
     "input": [
      "y, x = f.variables['Y'], f.variables['X']\n",
      "print y\n",
      "print x"
     ],
     "language": "python",
     "metadata": {},
     "outputs": [
      {
       "output_type": "stream",
       "stream": "stdout",
       "text": [
        "<type 'netCDF4.Variable'>\n",
        "int32 Y(Y)\n",
        "    point_spacing: even\n",
        "    axis: Y\n",
        "unlimited dimensions: \n",
        "current shape = (850,)\n",
        "\n",
        "<type 'netCDF4.Variable'>\n",
        "int32 X(X)\n",
        "    point_spacing: even\n",
        "    axis: X\n",
        "unlimited dimensions: \n",
        "current shape = (712,)\n",
        "\n"
       ]
      }
     ],
     "prompt_number": 865
    },
    {
     "cell_type": "markdown",
     "metadata": {},
     "source": [
      "### Finding the latitude and longitude indices of 50N, 140W\n",
      "\n",
      "- The `X` and `Y` dimensions don't look like longitudes and latitudes\n",
      "- Maybe we should look at the auxilary coordinate variables named in the `coordinates` attribute, `Latitude` and `Longitude`\n",
      "- A program can't depend on variable names, must use conventions such as `standard_name` and `units` in the CF Metadata Conventions"
     ]
    },
    {
     "cell_type": "code",
     "collapsed": false,
     "input": [
      "lat = f.variables['Latitude']\n",
      "lon = f.variables['Longitude']\n",
      "print lat\n",
      "print lon"
     ],
     "language": "python",
     "metadata": {},
     "outputs": [
      {
       "output_type": "stream",
       "stream": "stdout",
       "text": [
        "<type 'netCDF4.Variable'>\n",
        "float32 Latitude(Y, X)\n",
        "    standard_name: latitude\n",
        "    units: degrees_north\n",
        "unlimited dimensions: \n",
        "current shape = (850, 712)\n",
        "\n",
        "<type 'netCDF4.Variable'>\n",
        "float32 Longitude(Y, X)\n",
        "    standard_name: longitude\n",
        "    units: degrees_east\n",
        "unlimited dimensions: \n",
        "current shape = (850, 712)\n",
        "\n"
       ]
      }
     ],
     "prompt_number": 866
    },
    {
     "cell_type": "markdown",
     "metadata": {},
     "source": [
      "Aha!  So we need to find array indices `iy` and `ix` such that `Latitude[iy, ix]` is close to 50.0 and `Longitude[iy, ix]` is close to -140.0 ..."
     ]
    },
    {
     "cell_type": "markdown",
     "metadata": {},
     "source": [
      "### Naive, slow way uses nested loops\n",
      "\n",
      "- For now, just use Euclidean distance squared, as if the Earth was flat\n",
      "\n",
      "![image](files/images/unproj.gif)"
     ]
    },
    {
     "cell_type": "code",
     "collapsed": false,
     "input": [
      "# Find array indices of lat and lon closest to specified point\n",
      "pt_lat, pt_lon = 50.0, -140.0\n",
      "# Read latitude and longitude from file into numpy arrays\n",
      "latvals = lat[:]\n",
      "lonvals = lon[:]\n",
      "distsq_min = 1.0e30\n",
      "ydim = f.dimensions['Y']\n",
      "xdim = f.dimensions['X']\n",
      "for iy in range(len(ydim)):     # 0, 1, ..., 849\n",
      "    for ix in range(len(xdim)): # 0, 1, ..., 711\n",
      "         latval = latvals[iy, ix]\n",
      "         # get longitude in range -180 to 180 \n",
      "         lonval = (lonvals[iy, ix] + 180) % 360 - 180\n",
      "         dist_sq = (latval - pt_lat)**2 + (lonval - pt_lon)**2\n",
      "         if dist_sq < distsq_min:\n",
      "             iy_min, ix_min, distsq_min = iy, ix, dist_sq\n",
      "# How close did we get?\n",
      "print iy_min, ix_min, lat[iy_min, ix_min], lon[iy_min, ix_min]"
     ],
     "language": "python",
     "metadata": {},
     "outputs": [
      {
       "output_type": "stream",
       "stream": "stdout",
       "text": [
        "849 711 56.3333 -112.657\n"
       ]
      }
     ],
     "prompt_number": 867
    },
    {
     "cell_type": "markdown",
     "metadata": {},
     "source": [
      "### A faster way, using numpy arrays to avoid loops"
     ]
    },
    {
     "cell_type": "code",
     "collapsed": false,
     "input": [
      "latvals = lat[:]\n",
      "# get longitudes in range -180 to 180\n",
      "lonvals = (lon[:] + 180) % 360.0 - 180.0 \n",
      "dist_sq = (latvals-pt_lat)**2 + (lonvals-pt_lon)**2\n",
      "minindex_flattened = dist_sq.argmin()\n",
      "iy_min, ix_min = np.unravel_index(minindex_flattened, latvals.shape)\n",
      "print iy_min, ix_min, lat[iy_min, ix_min], lon[iy_min, ix_min]"
     ],
     "language": "python",
     "metadata": {},
     "outputs": [
      {
       "output_type": "stream",
       "stream": "stdout",
       "text": [
        "849 711 56.3333 -112.657\n"
       ]
      }
     ],
     "prompt_number": 868
    },
    {
     "cell_type": "markdown",
     "metadata": {},
     "source": [
      "### A more correct way, using chord distance on sphere for closeness\n"
     ]
    },
    {
     "cell_type": "code",
     "collapsed": false,
     "input": [
      "from math import pi\n",
      "# for trignometry, need angles in radians\n",
      "rad_factor = pi/180.0\n",
      "lat_rads = pt_lat * rad_factor\n",
      "lon_rads = pt_lon * rad_factor\n",
      "latvals = lat[:] * rad_factor\n",
      "lonvals = lon[:] * rad_factor # No worries about (-180, 180) range!\n",
      "\n",
      "# Chord-length formula, again no loops thanks to numpy!\n",
      "from numpy import cos, sin\n",
      "delX = cos(lat_rads)*cos(lon_rads) - cos(latvals)*cos(lonvals)\n",
      "delY = cos(lat_rads)*sin(lon_rads) - cos(latvals)*sin(lonvals)\n",
      "delZ = sin(lat_rads) - sin(latvals);\n",
      "chord_sq = delX**2 + delY**2 + delZ**2\n",
      "\n",
      "minindex_flattened = chord_sq.argmin()\n",
      "iy_min, ix_min = np.unravel_index(minindex_flattened, latvals.shape)\n",
      "lat_degs = latvals[iy_min, ix_min] / rad_factor\n",
      "lon_degs = lonvals[iy_min, ix_min] / rad_factor\n",
      "print iy_min, ix_min, lat_degs, lon_degs # Sanity check"
     ],
     "language": "python",
     "metadata": {},
     "outputs": [
      {
       "output_type": "stream",
       "stream": "stdout",
       "text": [
        "0 711 45.7731991569 -122.239991198\n"
       ]
      }
     ],
     "prompt_number": 869
    },
    {
     "cell_type": "markdown",
     "metadata": {},
     "source": [
      "### A correct and faster way is available, for many points\n",
      "\n",
      "If getting indices for _lots_ of coordinates, see scipy.spatial.cKDTree ..."
     ]
    },
    {
     "cell_type": "markdown",
     "metadata": {},
     "source": [
      "### Now we have all the information we need to find our answer.\n"
     ]
    },
    {
     "cell_type": "markdown",
     "metadata": {},
     "source": [
      "```\n",
      "|----------+--------|\n",
      "| Variable |  Index |\n",
      "|----------+--------|\n",
      "| MT       |      0 |\n",
      "| Depth    |      0 |\n",
      "| Y        | iy_min |\n",
      "| X        | ix_min |\n",
      "|----------+--------|\n",
      "```"
     ]
    },
    {
     "cell_type": "markdown",
     "metadata": {},
     "source": [
      "### What is the sea surface temperature and salinity at the specified point?"
     ]
    },
    {
     "cell_type": "code",
     "collapsed": false,
     "input": [
      "sal = f.variables['salinity']\n",
      "# Read values out of the netCDF file for temperature and salinity\n",
      "print temp[0,0,iy_min,ix_min], temp.units\n",
      "print sal[0,0,iy_min,ix_min], sal.units"
     ],
     "language": "python",
     "metadata": {},
     "outputs": [
      {
       "output_type": "stream",
       "stream": "stdout",
       "text": [
        "-- degC\n",
        "-- psu\n"
       ]
      }
     ],
     "prompt_number": 870
    },
    {
     "cell_type": "markdown",
     "metadata": {},
     "source": [
      "# Remote data access via the TDS\n",
      "\n",
      "- Remote data can be accessed seamlessly with the netcdf4-python API\n",
      "- Access happens under the hood via the DAP protocol and DAP servers, such as TDS."
     ]
    },
    {
     "cell_type": "markdown",
     "metadata": {},
     "source": [
      "## When accessing via TDS many data formats are supported"
     ]
    },
    {
     "cell_type": "code",
     "collapsed": false,
     "input": [
      "from IPython.display import HTML\n",
      "HTML('<iframe src=http://www.unidata.ucar.edu/software/netcdf-java/'\n",
      "     'formats/FileTypes.html width=700 height=350></iframe>')\n"
     ],
     "language": "python",
     "metadata": {},
     "outputs": [
      {
       "html": [
        "<iframe src=http://www.unidata.ucar.edu/software/netcdf-java/formats/FileTypes.html width=700 height=350></iframe>"
       ],
       "output_type": "pyout",
       "prompt_number": 871,
       "text": [
        "<IPython.core.display.HTML at 0x5987fd0>"
       ]
      }
     ],
     "prompt_number": 871
    },
    {
     "cell_type": "markdown",
     "metadata": {},
     "source": [
      "## Introducing the `pytds` module\n",
      "- This is a local Python module we wrote for this workshop.\n",
      "- It only has one interesting function: `get_latest_dods_url`\n",
      "- `get_latest_dods_url`: Given a top level THREDDS dataset URI, return the latest dataset.\n",
      "- In the future, this module will be separated out and have additional functionality.\n",
      "- The `pytds` name will also change because it is already taken."
     ]
    },
    {
     "cell_type": "markdown",
     "metadata": {},
     "source": [
      "The following example showcases some nice netCDF features:\n",
      "\n",
      "1. We are seamlessly accessing **remote** data, from a TDS server.\n",
      "2. We are seamlessly accessing **grib2** data, as if it were netCDF data.\n",
      "3. We are generating **metadata** on-the-fly."
     ]
    },
    {
     "cell_type": "code",
     "collapsed": false,
     "input": [
      "\n",
      "from netCDF4 import Dataset\n",
      "from pytds.util import get_latest_dods_url\n",
      "\n",
      "gfs_data_url = \"http://thredds.ucar.edu/thredds/catalog/grib/NCEP/GFS/\" \\\n",
      "               \"Global_0p5deg/catalog.xml\"\n",
      "\n",
      "latest = get_latest_dods_url(gfs_data_url)\n",
      "data = Dataset(latest)\n",
      "\n",
      "for v in data.variables:\n",
      "    print v,\n"
     ],
     "language": "python",
     "metadata": {},
     "outputs": [
      {
       "output_type": "stream",
       "stream": "stdout",
       "text": [
        "lat lon isobaric isobaric1 pressure_difference_layer pressure_difference_layer_bounds potential_vorticity_surface isobaric2 height_above_ground sigma height_above_ground1 sigma_layer sigma_layer_bounds pressure_difference_layer1 pressure_difference_layer1_bounds isobaric3 height_above_ground2 height_above_ground_layer height_above_ground_layer_bounds depth_below_surface_layer depth_below_surface_layer_bounds height_above_ground3 altitude_above_msl isobaric4 height_above_ground_layer1 height_above_ground_layer1_bounds isobaric5 pressure_difference_layer2 pressure_difference_layer2_bounds height_above_ground4 time time1 time1_bounds time2 time2_bounds time3 Temperature_surface Temperature_maximum_wind Temperature_tropopause Temperature_isobaric Temperature_altitude_above_msl Temperature_height_above_ground Temperature_sigma Temperature_depth_below_surface_layer Temperature_pressure_difference_layer Temperature_potential_vorticity_surface Temperature_low_cloud_top_Mixed_intervals_Average Temperature_middle_cloud_top_Mixed_intervals_Average Temperature_high_cloud_top_Mixed_intervals_Average Potential_temperature_sigma Maximum_temperature_height_above_ground_Mixed_intervals_Interval Minimum_temperature_height_above_ground_Mixed_intervals_Interval Latent_heat_net_flux_surface_Mixed_intervals_Average Sensible_heat_net_flux_surface_Mixed_intervals_Average Specific_humidity_height_above_ground Specific_humidity_pressure_difference_layer Relative_humidity_zeroDegC_isotherm Relative_humidity_isobaric Relative_humidity_height_above_ground Relative_humidity_sigma_layer Relative_humidity_sigma Relative_humidity_pressure_difference_layer Relative_humidity_entire_atmosphere Relative_humidity_highest_tropospheric_freezing Precipitable_water_entire_atmosphere Precipitation_rate_surface_Mixed_intervals_Average Total_precipitation_surface_Mixed_intervals_Accumulation Convective_precipitation_surface_Mixed_intervals_Accumulation Water_equivalent_of_accumulated_snow_depth_surface Cloud_mixing_ratio_isobaric Categorical_Rain_surface_Mixed_intervals_Average Categorical_Freezing_Rain_surface_Mixed_intervals_Average Categorical_Ice_Pellets_surface_Mixed_intervals_Average Categorical_Snow_surface_Mixed_intervals_Average Convective_Precipitation_Rate_surface_Mixed_intervals_Average Potential_Evaporation_Rate_surface u-component_of_wind_maximum_wind u-component_of_wind_tropopause u-component_of_wind_isobaric u-component_of_wind_altitude_above_msl u-component_of_wind_height_above_ground u-component_of_wind_sigma u-component_of_wind_pressure_difference_layer u-component_of_wind_potential_vorticity_surface u-component_of_wind_planetary_boundary v-component_of_wind_maximum_wind v-component_of_wind_tropopause v-component_of_wind_isobaric v-component_of_wind_altitude_above_msl v-component_of_wind_height_above_ground v-component_of_wind_sigma v-component_of_wind_pressure_difference_layer v-component_of_wind_potential_vorticity_surface v-component_of_wind_planetary_boundary Vertical_velocity_pressure_isobaric Vertical_velocity_pressure_sigma Absolute_vorticity_isobaric Momentum_flux_u-component_surface_Mixed_intervals_Average Momentum_flux_v-component_surface_Mixed_intervals_Average Wind_speed_gust_surface Vertical_Speed_Shear_tropopause Vertical_Speed_Shear_potential_vorticity_surface U-Component_Storm_Motion_height_above_ground_layer V-Component_Storm_Motion_height_above_ground_layer Ventilation_Rate_planetary_boundary Pressure_surface Pressure_maximum_wind Pressure_tropopause Pressure_height_above_ground Pressure_potential_vorticity_surface Pressure_low_cloud_bottom_Mixed_intervals_Average Pressure_low_cloud_top_Mixed_intervals_Average Pressure_middle_cloud_bottom_Mixed_intervals_Average Pressure_middle_cloud_top_Mixed_intervals_Average Pressure_high_cloud_bottom_Mixed_intervals_Average Pressure_high_cloud_top_Mixed_intervals_Average Pressure_convective_cloud_bottom Pressure_convective_cloud_top Pressure_reduced_to_MSL_msl ICAO_Standard_Atmosphere_Reference_Height_maximum_wind ICAO_Standard_Atmosphere_Reference_Height_tropopause Geopotential_height_surface Geopotential_height_zeroDegC_isotherm Geopotential_height_maximum_wind Geopotential_height_tropopause Geopotential_height_isobaric Geopotential_height_potential_vorticity_surface Geopotential_height_highest_tropospheric_freezing Geopotential_height_anomaly_isobaric MSLP_Eta_model_reduction_msl 5-Wave_Geopotential_Height_isobaric Zonal_Flux_of_Gravity_Wave_Stress_surface_Mixed_intervals_Average Meridional_Flux_of_Gravity_Wave_Stress_surface_Mixed_intervals_Average Planetary_Boundary_Layer_Height_surface 5-Wave_Geopotential_Height_Anomaly_isobaric Pressure_of_level_from_which_parcel_was_lifted_pressure_difference_layer Downward_Short-Wave_Radiation_Flux_surface_Mixed_intervals_Average Upward_Short-Wave_Radiation_Flux_surface_Mixed_intervals_Average Upward_Short-Wave_Radiation_Flux_atmosphere_top_Mixed_intervals_Average Downward_Long-Wave_Radp_Flux_surface_Mixed_intervals_Average Upward_Long-Wave_Radp_Flux_surface_Mixed_intervals_Average Upward_Long-Wave_Radp_Flux_atmosphere_top_Mixed_intervals_Average Total_cloud_cover_entire_atmosphere_Mixed_intervals_Average Total_cloud_cover_boundary_layer_cloud_Mixed_intervals_Average Total_cloud_cover_low_cloud_Mixed_intervals_Average Total_cloud_cover_middle_cloud_Mixed_intervals_Average Total_cloud_cover_high_cloud_Mixed_intervals_Average Total_cloud_cover_convective_cloud Cloud_water_entire_atmosphere Cloud_Work_Function_entire_atmosphere_Mixed_intervals_Average Sunshine_Duration_surface Convective_available_potential_energy_surface Convective_available_potential_energy_pressure_difference_layer Convective_inhibition_surface Convective_inhibition_pressure_difference_layer Storm_relative_helicity_height_above_ground_layer Surface_Lifted_Index_surface Best_4_layer_Lifted_Index_surface Total_ozone_entire_atmosphere Ozone_Mixing_Ratio_isobaric Albedo_surface_Mixed_intervals_Average Land_cover_0__sea_1__land_surface Water_runoff_surface_Mixed_intervals_Accumulation Volumetric_Soil_Moisture_Content_depth_below_surface_layer Ground_Heat_Flux_surface_Mixed_intervals_Average Wilting_Point_surface Field_Capacity_surface Haines_Index_surface Ice_cover_surface\n"
       ]
      }
     ],
     "prompt_number": 872
    },
    {
     "cell_type": "code",
     "collapsed": false,
     "input": [
      "# Look at metadata for a specific variable\n",
      "print data.variables['Temperature_surface']"
     ],
     "language": "python",
     "metadata": {},
     "outputs": [
      {
       "output_type": "stream",
       "stream": "stdout",
       "text": [
        "<type 'netCDF4.Variable'>\n",
        "float32 Temperature_surface(time, lat, lon)\n",
        "    long_name: Temperature @ Ground or water surface\n",
        "    units: K\n",
        "    missing_value: nan\n",
        "    abbreviation: TMP\n",
        "    Grib_Variable_Id: VAR_0-0-0_L1\n",
        "    Grib2_Parameter: [0 0 0]\n",
        "    Grib2_Parameter_Discipline: Meteorological products\n",
        "    Grib2_Parameter_Category: Temperature\n",
        "    Grib2_Parameter_Name: Temperature\n",
        "    Grib2_Level_Type: 1\n",
        "    Grib2_Generating_Process_Type: Forecast\n",
        "unlimited dimensions: \n",
        "current shape = (65, 361, 720)\n",
        "\n"
       ]
      }
     ],
     "prompt_number": 873
    },
    {
     "cell_type": "markdown",
     "metadata": {},
     "source": [
      "## Closing your netCDF file\n",
      "\n",
      "It's good to close netCDF files, but not actually necessary when only reading.\n"
     ]
    },
    {
     "cell_type": "code",
     "collapsed": false,
     "input": [
      "f.close()\n",
      "data.close()"
     ],
     "language": "python",
     "metadata": {},
     "outputs": [],
     "prompt_number": 874
    },
    {
     "cell_type": "markdown",
     "metadata": {},
     "source": [
      "### Exercise\n",
      "\n",
      "- In the first netCDF file we opened, find and print the sea surface temperature and salinity near Boulder, at 40N and -105W.  \n",
      "- Hint, you should be able to just change one line and rerun the notebook."
     ]
    }
   ],
   "metadata": {}
  }
 ]
}