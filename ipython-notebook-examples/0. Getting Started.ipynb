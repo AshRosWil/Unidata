{
 "metadata": {
  "name": "",
  "signature": "sha256:cc6b22eb82dbb882581b316468463476bbd1ccf66a31a9305c834ac0f63b6f99"
 },
 "nbformat": 3,
 "nbformat_minor": 0,
 "worksheets": [
  {
   "cells": [
    {
     "cell_type": "markdown",
     "metadata": {},
     "source": [
      "# Notebook Cells\n",
      "\n",
      "- An IPython Notebook is a series of \"cells\".\n",
      "- The active cell has an outline around it.\n",
      "- Navigate to different cells with the arrow keys.\n",
      "- A cell can either be code (Python), markdown, or \"raw\".\n",
      "- Create cells from the IPython Notebook menu or better yet learn the keyboard shortcuts.\n",
      "    - `h`: Bring up keyboard shortcuts screen."
     ]
    },
    {
     "cell_type": "markdown",
     "metadata": {},
     "source": [
      "## Modes\n",
      "\n",
      "The IPython Notebook has two different keyboard input modes. Edit mode allows you to type code/text into a cell and is indicated by a green cell border. Command mode binds the keyboard to notebook level actions and is indicated by a grey cell border.\n",
      "\n",
      "* `Enter`: Enter `edit` mode.\n",
      "* `Esc` or `ctrl-m`: Enter `command` mode."
     ]
    },
    {
     "cell_type": "markdown",
     "metadata": {},
     "source": [
      "## Helpful Shortcuts\n",
      "\n",
      "* `Ctrl`-`Enter`: Run Cell\n",
      "* `Shift`-`Enter`: Run cell, select cell below.\n",
      "* `Alt`-`Enter`: Run Cell, insert below.\n",
      "* `Ctrl`-`s`: Save Notebook\n",
      "* `i`: Interrupt kernel (press twice).\n",
      "* `0`: Restart kernel (press twice)."
     ]
    },
    {
     "cell_type": "markdown",
     "metadata": {},
     "source": [
      "## Other Shortcuts\n",
      "\n",
      "There are also shortcuts for:\n",
      "\n",
      "* Bring up tooltips.\n",
      "* Split, Merge, Delete cells.\n",
      "* Toggle Output, output Scrolling.\n",
      "* And More!!! (See `h`)."
     ]
    }
   ],
   "metadata": {}
  }
 ]
}