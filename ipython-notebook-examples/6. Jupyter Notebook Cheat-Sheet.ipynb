{
 "cells": [
  {
   "cell_type": "markdown",
   "metadata": {},
   "source": [
    "# Jupyter Notebook Cheat-Sheet\n",
    "\n",
    "> Adapted from ipynb cheat-sheet from http://github.com/lmarti/ipynb-cheat-sheet\n",
    "\n",
    "These shortcuts are all used in `Command Mode`.  Command mode is entered either by pressing `esc` or by pressing `ctrl-m`. \n",
    "\n",
    "## General\n",
    "\n",
    "| Shortcut | Command |\n",
    "|---------:|---------|\n",
    "|Tab | Completion in local namespace |\n",
    "| s | Save notebook |\n",
    "| h | Show keyboard shortcuts |\n",
    "| l | toggle line numbers |\n",
    "| ctrl-r | Search history |\n",
    "| Return | Enter Edit Mode |\n",
    "\n",
    "| Shortcut | Command |\n",
    "|---------:|---------|\n",
    "| Shift-Return | Run Cell, Select Below |\n",
    "| Ctrl-Return | Run Cell |\n",
    "| Alt-Return | Run Cell, Insert Below\n",
    "| i | Interrupt kernel |\n",
    "| . | Restart kernel |\n",
    "| o | Toggle output | \n",
    "| O | Toggle output scroll |\n",
    "\n",
    "## Editing\n",
    "\n",
    "| Shortcut | Command |\n",
    "|---------:|---------|\n",
    "| x | Cut cell |\n",
    "| c | Copy cell |\n",
    "| v | Paste cell |\n",
    "| d | Delete cell |\n",
    "| z | Undo last cell deletion |\n",
    "\n",
    "## Cell Formatting\n",
    "\n",
    "| Shortcut | Command | \n",
    "|---------:|---------|\n",
    "| Y | to Code |\n",
    "| M | to Markdown |\n",
    "| R | to Raw |\n",
    "| 1-6 | Heading 1-6 Cell |\n",
    "\n",
    "## Cell Management\n",
    "\n",
    "| Shortcut | Command | \n",
    "|---------:|---------|\n",
    "| - | Split Cell |\n",
    "| a | Insert cell above |\n",
    "| b | Insert cell below |\n",
    "| k | Move cell up |\n",
    "| j | Move cell down |\n",
    "| p | Select previous up |\n",
    "| n | Select next down |"
   ]
  }
 ],
 "metadata": {
  "kernelspec": {
   "display_name": "Python 3",
   "language": "python",
   "name": "python3"
  },
  "language_info": {
   "codemirror_mode": {
    "name": "ipython",
    "version": 3
   },
   "file_extension": ".py",
   "mimetype": "text/x-python",
   "name": "python",
   "nbconvert_exporter": "python",
   "pygments_lexer": "ipython3",
   "version": "3.4.3"
  }
 },
 "nbformat": 4,
 "nbformat_minor": 0
}
