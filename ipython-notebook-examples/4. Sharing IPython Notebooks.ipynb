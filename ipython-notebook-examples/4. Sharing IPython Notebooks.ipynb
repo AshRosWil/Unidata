{
 "metadata": {
  "name": "",
  "signature": "sha256:a8f540437a0d8ca609135108c4484f8e52e5db6a7c2a5e7bd0770769ba1c68bb"
 },
 "nbformat": 3,
 "nbformat_minor": 0,
 "worksheets": [
  {
   "cells": [
    {
     "cell_type": "markdown",
     "metadata": {},
     "source": [
      "# Sharing IPython Notebooks\n",
      "\n",
      "There are several options for sharing IPython notebooks.  The file itself is simply a `JSON` file which can be shared the same as any other file. \n",
      "\n",
      "* email\n",
      "* dropbox\n",
      "* ftp\n",
      "* etc."
     ]
    },
    {
     "cell_type": "markdown",
     "metadata": {},
     "source": [
      "# NBViewer\n",
      "\n",
      "NBViewer (http://nbviewer.ipython.org) is a site which allows you to view and share notebooks. \n",
      "\n",
      "> Note: You cannot run your code at nbviewer, it simply shares a rendered notebook.\n",
      "\n",
      "### Interesting NBViewer Examples\n",
      "\n",
      "* [Exploring Climate Data: Past and Future](http://nbviewer.ipython.org/gist/rsignell-usgs/4251308)\n",
      "* [Extracting Time Series from a 3D data set](http://nbviewer.ipython.org/gist/rsignell-usgs/4113653)\n"
     ]
    },
    {
     "cell_type": "markdown",
     "metadata": {},
     "source": [
      "# Wakari\n",
      "\n",
      "Wakari is a cloud-based hosting service for IPython Notebooks.  It offers access via the browser or ssh.  It also offers access to multiple terminal types:\n",
      "\n",
      "* Shell\n",
      "* Python\n",
      "* IPython\n",
      "* Pylab\n",
      "* R\n",
      "* Julia\n",
      "\n",
      "http://wakari.io\n"
     ]
    }
   ],
   "metadata": {}
  }
 ]
}