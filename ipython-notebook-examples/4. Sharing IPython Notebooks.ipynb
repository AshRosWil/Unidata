{
 "cells": [
  {
   "cell_type": "markdown",
   "metadata": {},
   "source": [
    "# Sharing Notebooks\n",
    "\n",
    "There are several options for sharing Notebooks.  The file itself is simply a `JSON` file which can be shared the same as any other file. \n",
    "\n",
    "* email\n",
    "* dropbox\n",
    "* ftp\n",
    "* etc.\n",
    "\n",
    "It is also possible to save a notebook in various formats via the `File->Download As` menu.\n",
    "\n",
    "* HTML\n",
    "* Markdown\n",
    "* IPython Notebook\n",
    "* etc.\n"
   ]
  },
  {
   "cell_type": "markdown",
   "metadata": {},
   "source": [
    "# NBViewer\n",
    "\n",
    "NBViewer (http://nbviewer.ipython.org) is a site which allows you to view and share notebooks. \n",
    "\n",
    "> Note: You cannot run your code at nbviewer, it simply shares a rendered notebook.\n",
    "\n",
    "### Interesting NBViewer Examples\n",
    "\n",
    "* [Exploring Climate Data: Past and Future](http://nbviewer.ipython.org/gist/rsignell-usgs/4251308)\n",
    "* [Extracting Time Series from a 3D data set](http://nbviewer.ipython.org/gist/rsignell-usgs/4113653)\n"
   ]
  },
  {
   "cell_type": "markdown",
   "metadata": {},
   "source": [
    "# Wakari\n",
    "\n",
    "Wakari is a cloud-based hosting service for IPython Notebooks.  It offers access via the browser or ssh.  It also offers access to multiple terminal types:\n",
    "\n",
    "* Shell\n",
    "* Python\n",
    "* IPython\n",
    "* Pylab\n",
    "* R\n",
    "* Julia\n",
    "\n",
    "http://wakari.io\n"
   ]
  }
 ],
 "metadata": {
  "kernelspec": {
   "display_name": "Python 3",
   "language": "python",
   "name": "python3"
  },
  "language_info": {
   "codemirror_mode": {
    "name": "ipython",
    "version": 3
   },
   "file_extension": ".py",
   "mimetype": "text/x-python",
   "name": "python",
   "nbconvert_exporter": "python",
   "pygments_lexer": "ipython3",
   "version": "3.4.3"
  }
 },
 "nbformat": 4,
 "nbformat_minor": 0
}
