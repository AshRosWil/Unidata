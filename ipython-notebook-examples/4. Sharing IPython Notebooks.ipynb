{
 "metadata": {
  "name": "",
  "signature": "sha256:9892d712bcd7bfd773a5e9df8427feffdeec008f5338e712cce460900407b308"
 },
 "nbformat": 3,
 "nbformat_minor": 0,
 "worksheets": [
  {
   "cells": [
    {
     "cell_type": "markdown",
     "metadata": {},
     "source": [
      "# Sharing IPython Notebooks\n",
      "\n",
      "There are several options for sharing IPython notebooks.  The file itself is simply a `JSON` file which can be shared the same as any other file. \n",
      "\n",
      "* email\n",
      "* dropbox\n",
      "\n",
      "You can also use a site like nbviewer (http://nbviewer.ipython.org/) to view and share notebooks.\n",
      "\n",
      "> Note: You cannot run your code at nbviewer, it simply shares a rendered notebook.\n",
      "\n",
      "There are also web services like Wakari (http://wakari.io) which will let you run your IPython notebook in the **Cloud**.\n"
     ]
    },
    {
     "cell_type": "markdown",
     "metadata": {},
     "source": [
      "# Wakari\n",
      "\n",
      "Wakari is a cloud-based hosting service for IPython Notebooks.  It offers access via the browser or ssh.  It also offers access to multiple terminal types:\n",
      "\n",
      "* Shell\n",
      "* Python\n",
      "* IPython\n",
      "* Pylab\n",
      "* R\n",
      "* Julia\n",
      "\n",
      "http://wakari.io\n"
     ]
    },
    {
     "cell_type": "code",
     "collapsed": false,
     "input": [],
     "language": "python",
     "metadata": {},
     "outputs": []
    }
   ],
   "metadata": {}
  }
 ]
}