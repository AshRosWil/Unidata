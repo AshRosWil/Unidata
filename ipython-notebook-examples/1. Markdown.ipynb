{
 "cells": [
  {
   "cell_type": "markdown",
   "metadata": {},
   "source": [
    "# A Brief Introduction to Markdown\n",
    "\n",
    "Markdown is described as follows by its creator, John Gruber[1].\n",
    "\n",
    "> Markdown is intended to be as easy-to-read and easy-to-write as is feasible.\n",
    "\n",
    "> Readability, however, is emphasized above all else. A Markdown-formatted document should be publishable as-is, as plain text, without looking like it’s been marked up with tags or formatting instructions. While Markdown’s syntax has been influenced by several existing text-to-HTML filters, the single biggest source of inspiration for Markdown’s syntax is the format of plain text email.\n",
    "\n",
    "`[1]` http://daringfireball.net/projects/markdown/syntax"
   ]
  },
  {
   "cell_type": "markdown",
   "metadata": {},
   "source": [
    "# Headers"
   ]
  },
  {
   "cell_type": "raw",
   "metadata": {},
   "source": [
    "# Header H1\n",
    "## Header H2\n",
    "### Header H3\n",
    "#### Header H4\n",
    "##### Header H5\n",
    "###### Header H6"
   ]
  },
  {
   "cell_type": "markdown",
   "metadata": {},
   "source": [
    "# Header H1\n",
    "## Header H2\n",
    "### Header H3\n",
    "#### Header H4\n",
    "##### Header H5\n",
    "###### Header H6"
   ]
  },
  {
   "cell_type": "raw",
   "metadata": {},
   "source": [
    "## Formatting Text\n",
    "\n",
    "Paragraphs are separated by a blank line.\n",
    "\n",
    "You are able to specify *italic*, **bold**, ***bolded italic*** and `monospace` text."
   ]
  },
  {
   "cell_type": "markdown",
   "metadata": {},
   "source": [
    "## Formatting Text\n",
    "\n",
    "Paragraphs are separated by a blank line.\n",
    "\n",
    "You are able to specify *italic*, **bold**, ***bolded italic*** and `monospace` text."
   ]
  },
  {
   "cell_type": "raw",
   "metadata": {},
   "source": [
    "## Lists\n",
    "\n",
    "You can create numbered and unnumbered lists.\n",
    "\n",
    "Unnumbered:\n",
    "\n",
    "* One\n",
    "* Two\n",
    "* Three\n",
    "\n",
    "Numbered:\n",
    "\n",
    "1. A\n",
    "1. B\n",
    "1. C\n",
    "\n",
    "Embedded Lists:\n",
    "\n",
    "* A\n",
    "* B\n",
    "    * 1\n",
    "    * 2\n",
    "    * 3\n",
    "        1. A\n",
    "        2. B\n",
    "        3. C"
   ]
  },
  {
   "cell_type": "markdown",
   "metadata": {},
   "source": [
    "## Lists\n",
    "\n",
    "You can create numbered and unnumbered lists.\n",
    "\n",
    "Unnumbered:\n",
    "\n",
    "* One\n",
    "* Two\n",
    "* Three\n",
    "\n",
    "Numbered:\n",
    "\n",
    "1. A\n",
    "1. B\n",
    "1. C\n",
    "\n",
    "Embedded Lists:\n",
    "\n",
    "* A\n",
    "* B\n",
    "    * 1\n",
    "    * 2\n",
    "    * 3\n",
    "        1. A\n",
    "        2. B\n",
    "        3. C\n",
    "        \n",
    "  "
   ]
  },
  {
   "cell_type": "raw",
   "metadata": {},
   "source": [
    "## Quotes\n",
    "\n",
    "You use the `>` to create block quotes.\n",
    "\n",
    "> This is the first bit\n",
    "> of a block quote.\n",
    ">\n",
    "> This is the second bit\n",
    "> of the same block quote."
   ]
  },
  {
   "cell_type": "markdown",
   "metadata": {},
   "source": [
    "## Quotes\n",
    "\n",
    "You use the `>` to create block quotes.\n",
    "\n",
    "> This is the first bit\n",
    "> of a block quote.\n",
    ">\n",
    "> This is the second bit\n",
    "> of the same block quote."
   ]
  },
  {
   "cell_type": "raw",
   "metadata": {},
   "source": [
    "## Code Blocks\n",
    "\n",
    "You can also create code blocks using 4 spaces.\n",
    "\n",
    "    define foobar() {\n",
    "        print(\"Hello World\");\n",
    "    }\n",
    "\n",
    "You can also delineate code blocks with the *backtick* character.  This will let you specify a language, and gives you syntax highlighting.\n",
    "\n",
    "```python\n",
    "define foobar() {\n",
    "    print(\"Hello World\");\n",
    "}\n",
    "```"
   ]
  },
  {
   "cell_type": "markdown",
   "metadata": {},
   "source": [
    "## Code Blocks\n",
    "\n",
    "You can also create code blocks using 4 spaces.\n",
    "\n",
    "    define foobar() {\n",
    "        print(\"Hello World\");\n",
    "    }\n",
    "\n",
    "You can also delineate code blocks with the *backtick* character.  This will let you specify a language, and gives you syntax highlighting.\n",
    "\n",
    "```python\n",
    "define foobar() {\n",
    "    print(\"Hello World\");\n",
    "}\n",
    "```"
   ]
  },
  {
   "cell_type": "raw",
   "metadata": {},
   "source": [
    "## Links and Anchors\n",
    "\n",
    "Here's a link to [a website](http://foo.bar), to a [local\n",
    "doc](local-doc.html), and to a [section heading in the current\n",
    "doc](#an-h2-header). "
   ]
  },
  {
   "cell_type": "markdown",
   "metadata": {},
   "source": [
    "## Links and Anchors\n",
    "\n",
    "Here's a link to [a website](http://foo.bar), to a [local\n",
    "doc](local-doc.html), and to a [section heading in the current\n",
    "doc](#an-h2-header). "
   ]
  },
  {
   "cell_type": "raw",
   "metadata": {},
   "source": [
    "## Tables\n",
    "\n",
    "Tables are not official syntax, but are nearly universally supported.\n",
    "\n",
    "| One | Two | Left | Right | Center |\n",
    "|-----|-----|:-----|------:|:------:|\n",
    "| A | B | C | D | E |"
   ]
  },
  {
   "cell_type": "markdown",
   "metadata": {},
   "source": [
    "## Tables\n",
    "\n",
    "Tables are not official syntax, but are nearly universally supported.\n",
    "\n",
    "| One | Two | Left | Right | Center |\n",
    "|-----|-----|:-----|------:|:------:|\n",
    "| A | B | C | D | E |"
   ]
  },
  {
   "cell_type": "markdown",
   "metadata": {},
   "source": [
    "Adapted from http://www.unexpected-vortices.com/sw/rippledoc/quick-markdown-example-printable.html"
   ]
  },
  {
   "cell_type": "markdown",
   "metadata": {},
   "source": [
    "[Next: Notebook Features](2. Notebook Features.ipynb)"
   ]
  }
 ],
 "metadata": {
  "kernelspec": {
   "display_name": "Python 3",
   "language": "python",
   "name": "python3"
  },
  "language_info": {
   "codemirror_mode": {
    "name": "ipython",
    "version": 3
   },
   "file_extension": ".py",
   "mimetype": "text/x-python",
   "name": "python",
   "nbconvert_exporter": "python",
   "pygments_lexer": "ipython3",
   "version": "3.4.3"
  }
 },
 "nbformat": 4,
 "nbformat_minor": 0
}
