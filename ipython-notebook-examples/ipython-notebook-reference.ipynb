{
 "cells": [
  {
   "cell_type": "markdown",
   "metadata": {},
   "source": [
    "# ipython notebook\n",
    "\n",
    "**NOTE: This is the notebook from 2013, used as reference for now.**\n"
   ]
  },
  {
   "cell_type": "code",
   "execution_count": null,
   "metadata": {
    "collapsed": false
   },
   "outputs": [],
   "source": [
    "%matplotlib inline"
   ]
  },
  {
   "cell_type": "code",
   "execution_count": null,
   "metadata": {
    "collapsed": false
   },
   "outputs": [],
   "source": [
    "from numpy import sin,cos,pi,linspace\n",
    "from pylab import plot\n",
    "\n",
    "# Play with these number and ignore the rest\n",
    "R = 10\n",
    "r = .4\n",
    "O = 12\n",
    "\n",
    "t = linspace(-pi,pi,3000)\n",
    "x = (R+r)*cos(t) - (r+O)*cos(((R+r)/r)*t)\n",
    "y = (R+r)*sin(t) - (r+O)*sin(((R+r)/r)*t)\n",
    "plot(x,y)\n"
   ]
  },
  {
   "cell_type": "markdown",
   "metadata": {},
   "source": [
    "* IPython Notebook is an interactive web environment for running and annotating Python code.\n",
    "* IPython Notebook gives output as it is generated.\n",
    "* Quickly experiment with code and explore data.\n"
   ]
  },
  {
   "cell_type": "markdown",
   "metadata": {},
   "source": [
    "## Starting IPython Notebook\n",
    "\n",
    "From the command line:\n",
    "\n",
    "    ipython notebook --pylab inline\n",
    "\n",
    "* Starts a light-weight web server locally on your machine. \n",
    "* This command will typically connect you to a web browser displaying the notebook dashboard.\n",
    "* `pylab` bundles some scientific computing libraries together.\n",
    "* `inline` enables embedded figures in the notebook."
   ]
  },
  {
   "cell_type": "markdown",
   "metadata": {},
   "source": [
    "## Notebook Cells\n",
    "\n",
    "- An IPython Notebook is a series of \"cells\".\n",
    "- The active cell has an outline around it.\n",
    "- Navigate to different cells with the arrow keys.\n",
    "- A cell can either be code, markdown, or \"raw\".\n",
    "- Create cells from the IPython Notebook menu or better yet learn the keyboard shortcuts.\n",
    "- `Shift-Enter` : run cell\n",
    "- `Ctrl-m b` : insert cell below"
   ]
  },
  {
   "cell_type": "markdown",
   "metadata": {},
   "source": [
    "## Hello world\n"
   ]
  },
  {
   "cell_type": "code",
   "execution_count": null,
   "metadata": {
    "collapsed": false
   },
   "outputs": [],
   "source": [
    "print(\"Hello world\")"
   ]
  },
  {
   "cell_type": "markdown",
   "metadata": {},
   "source": [
    "## *Exercise*\n",
    "\n",
    "- Create a new note book cell here.\n",
    "- Write a one line program to print your name.\n",
    "- Execute cell"
   ]
  },
  {
   "cell_type": "markdown",
   "metadata": {},
   "source": [
    "## Embedding Markdown\n",
    "\n",
    "You can embed your notebook with [markdown](http://stackoverflow.com/editing-help). Markdown is a lightweight web markup language can be inserted right into the notebook. This is useful for annotating your notebook code samples."
   ]
  },
  {
   "cell_type": "markdown",
   "metadata": {},
   "source": [
    "## Nice Errors"
   ]
  },
  {
   "cell_type": "code",
   "execution_count": null,
   "metadata": {
    "collapsed": false
   },
   "outputs": [],
   "source": [
    "1 + foo"
   ]
  },
  {
   "cell_type": "markdown",
   "metadata": {},
   "source": [
    "## Inline Documentation\n",
    "\n",
    "Executing the cell will split the pane and open documentation."
   ]
  },
  {
   "cell_type": "code",
   "execution_count": null,
   "metadata": {
    "collapsed": false
   },
   "outputs": [],
   "source": [
    "open?"
   ]
  },
  {
   "cell_type": "markdown",
   "metadata": {},
   "source": [
    "## Tab Completion\n",
    "\n",
    "Type tab after `o` and see what happens. You should see a pop-up drop-down menu of choices."
   ]
  },
  {
   "cell_type": "code",
   "execution_count": null,
   "metadata": {
    "collapsed": false
   },
   "outputs": [],
   "source": [
    "o"
   ]
  },
  {
   "cell_type": "markdown",
   "metadata": {},
   "source": [
    "## Plotting\n",
    "\n",
    "Ipython Notebook has *inline* plotting capability."
   ]
  },
  {
   "cell_type": "code",
   "execution_count": null,
   "metadata": {
    "collapsed": false
   },
   "outputs": [],
   "source": [
    "# Lissajous curve\n",
    "from numpy import sin,pi,linspace\n",
    "from pylab import plot\n",
    "\n",
    "delta = pi/2\n",
    "t = linspace(-pi,pi,300)\n",
    "x = sin(3 * t + delta)\n",
    "y = sin(5 * t)\n",
    "plot(x,y)"
   ]
  },
  {
   "cell_type": "markdown",
   "metadata": {},
   "source": [
    "## Interrupts\n",
    "\n",
    "If IPython Notebook gets jammed up, you can restart it with the `Kernel -> Interrupt` and `Kernel -> Restart` menu items."
   ]
  },
  {
   "cell_type": "markdown",
   "metadata": {},
   "source": [
    "## LaTeX \n",
    "\n",
    "The Ipython Notebook uses [mathjax](http://www.mathjax.org/) to render LaTeX.\n",
    "\n",
    "\n",
    "`$$F(k) = \\int_{-\\infty}^{\\infty} f(x) e^{2\\pi i k} dx$$`\n",
    "\n",
    "yields:\n",
    "\n",
    "$$F(k) = \\int_{-\\infty}^{\\infty} f(x) e^{2\\pi i k} dx$$"
   ]
  },
  {
   "cell_type": "markdown",
   "metadata": {},
   "source": [
    "## Run Shell Commands with `!`"
   ]
  },
  {
   "cell_type": "code",
   "execution_count": null,
   "metadata": {
    "collapsed": false
   },
   "outputs": [],
   "source": [
    "!ls"
   ]
  },
  {
   "cell_type": "markdown",
   "metadata": {},
   "source": [
    "## Local or Remote Images and Even Videos"
   ]
  },
  {
   "cell_type": "code",
   "execution_count": null,
   "metadata": {
    "collapsed": false
   },
   "outputs": [],
   "source": [
    "from IPython.core.display import Image \n",
    "Image(url='http://python.org/images/python-logo.gif')"
   ]
  },
  {
   "cell_type": "markdown",
   "metadata": {},
   "source": [
    "## Take Python Code and Display it in LaTeX\n",
    "\n",
    "- SymPy is a Python library for symbolic mathematics"
   ]
  },
  {
   "cell_type": "code",
   "execution_count": null,
   "metadata": {
    "collapsed": false
   },
   "outputs": [],
   "source": [
    "from sympy import *\n",
    "init_printing()\n",
    "x, y = symbols(\"x y\")\n",
    "Rational(3,2)*pi + exp(I*x) / (x**2 + y)"
   ]
  },
  {
   "cell_type": "markdown",
   "metadata": {},
   "source": [
    "## Load External Codes"
   ]
  },
  {
   "cell_type": "code",
   "execution_count": null,
   "metadata": {
    "collapsed": false
   },
   "outputs": [],
   "source": [
    "loadpy http://matplotlib.org/mpl_examples/pylab_examples/simple_plot.py "
   ]
  },
  {
   "cell_type": "code",
   "execution_count": null,
   "metadata": {
    "collapsed": false
   },
   "outputs": [],
   "source": [
    "from pylab import *\n",
    "\n",
    "t = arange(0.0, 2.0, 0.01)\n",
    "s = sin(2*pi*t)\n",
    "plot(t, s, linewidth=1.0)\n",
    "\n",
    "xlabel('time (s)')\n",
    "ylabel('voltage (mV)')\n",
    "title('About as simple as it gets, folks')\n",
    "grid(True)\n",
    "savefig(\"test.png\")\n",
    "show()"
   ]
  },
  {
   "cell_type": "markdown",
   "metadata": {},
   "source": [
    "## Sharing\n",
    "\n",
    "- Note an IPython notebook when saved as a .ipynb file is simply a JSON file that you can share with colleagues via email, dropbox, etc.\n",
    "- There is also a neat site called [nbviewer](http://nbviewer.ipython.org/) that allows you to view and share notebooks.\n",
    "- Note you cannot run your code at nbviewer. It is simply a rendering of a notebook."
   ]
  },
  {
   "cell_type": "code",
   "execution_count": null,
   "metadata": {
    "collapsed": false
   },
   "outputs": [],
   "source": [
    "from IPython.display import HTML\n",
    "HTML('<iframe src=http://nbviewer.ipython.org width=700 height=350></iframe>')"
   ]
  },
  {
   "cell_type": "markdown",
   "metadata": {},
   "source": [
    "## Some interesting IPython Notebook possibilities\n",
    "\n",
    "* Typically runs on local host, but can theoretically run remotely or on the cloud (e.g. Amazon EC2) and accessed through your web browser.\n",
    "* Interact with IPython Notebook in the browser so available on any platform that has a web browser (e.g., tablets).\n",
    "* Perform \"big data\" analysis where your big data live (assuming you can start a notebook server where the data are located).\n",
    "  "
   ]
  },
  {
   "cell_type": "markdown",
   "metadata": {},
   "source": [
    "## Compelling notebooks\n",
    "\n",
    "- [Exploring Climate Data: Past and Future](http://nbviewer.ipython.org/4251308)\n",
    "- [Extract NECOFS water levels using NetCDF4-Python and analyze/visualize with Pandas](http://nbviewer.ipython.org/4740419)\n",
    "- [Access data from the NECOFS (New England Coastal Ocean Forecast System) via OPeNDAP](http://nbviewer.ipython.org/5092905)\n",
    "- [Extract time series from 3D [time,lat,lon] dataset](http://nbviewer.ipython.org/4113653)\n",
    "- [Using Iris to access NCEP CFSR 30-year Wave Hindcast](http://nbviewer.ipython.org/5492513)\n"
   ]
  }
 ],
 "metadata": {
  "kernelspec": {
   "display_name": "Python 2",
   "language": "python",
   "name": "python2"
  },
  "language_info": {
   "codemirror_mode": {
    "name": "ipython",
    "version": 2
   },
   "file_extension": ".py",
   "mimetype": "text/x-python",
   "name": "python",
   "nbconvert_exporter": "python",
   "pygments_lexer": "ipython2",
   "version": "2.7.8"
  }
 },
 "nbformat": 4,
 "nbformat_minor": 0
}
