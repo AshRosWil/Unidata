{
 "metadata": {
  "name": "",
  "signature": "sha256:1313de897406f4f6500845772408186d84bc533faadfabeb25c3f38bad97c99b"
 },
 "nbformat": 3,
 "nbformat_minor": 0,
 "worksheets": [
  {
   "cells": [
    {
     "cell_type": "markdown",
     "metadata": {},
     "source": [
      "# Excercise 1\n",
      "\n",
      "1. Insert a cell below this one.\n",
      "2. Write a one-line program to print your name.\n",
      "3. Run the cell."
     ]
    },
    {
     "cell_type": "markdown",
     "metadata": {},
     "source": [
      "# Excercise 2\n"
     ]
    },
    {
     "cell_type": "markdown",
     "metadata": {},
     "source": [
      "# Excercise 3"
     ]
    }
   ],
   "metadata": {}
  }
 ]
}