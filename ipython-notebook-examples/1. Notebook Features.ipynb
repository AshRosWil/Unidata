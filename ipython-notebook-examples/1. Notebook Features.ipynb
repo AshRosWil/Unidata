{
 "metadata": {
  "name": "",
  "signature": "sha256:85004321bb1609b21c875c3e96596e2338b73b6b8a6e04fe86d0c88ae9e5e516"
 },
 "nbformat": 3,
 "nbformat_minor": 0,
 "worksheets": [
  {
   "cells": [
    {
     "cell_type": "markdown",
     "metadata": {},
     "source": [
      "# Nice Errors"
     ]
    },
    {
     "cell_type": "code",
     "collapsed": false,
     "input": [
      "1 + foo"
     ],
     "language": "python",
     "metadata": {},
     "outputs": []
    },
    {
     "cell_type": "markdown",
     "metadata": {},
     "source": [
      "# Inline Documentation"
     ]
    },
    {
     "cell_type": "code",
     "collapsed": false,
     "input": [
      "open?"
     ],
     "language": "python",
     "metadata": {},
     "outputs": []
    },
    {
     "cell_type": "markdown",
     "metadata": {},
     "source": [
      "# Tab Completion\n",
      "\n",
      "Type `o` then `tab` and you should see a drop-down menu of choices."
     ]
    },
    {
     "cell_type": "code",
     "collapsed": true,
     "input": [
      "o"
     ],
     "language": "python",
     "metadata": {},
     "outputs": []
    },
    {
     "cell_type": "markdown",
     "metadata": {},
     "source": [
      "# Run Shell Commands with `!`"
     ]
    },
    {
     "cell_type": "code",
     "collapsed": false,
     "input": [
      "!ls"
     ],
     "language": "python",
     "metadata": {},
     "outputs": []
    },
    {
     "cell_type": "markdown",
     "metadata": {},
     "source": [
      "# Remote Operations\n",
      "\n",
      "IPython Notebook has facilities for running code both locally and remotely."
     ]
    },
    {
     "cell_type": "markdown",
     "metadata": {},
     "source": [
      "## Local or Remote Images and Even Videos"
     ]
    },
    {
     "cell_type": "code",
     "collapsed": false,
     "input": [
      "from IPython.core.display import Image \n",
      "Image(url='http://python.org/images/python-logo.gif')"
     ],
     "language": "python",
     "metadata": {},
     "outputs": []
    },
    {
     "cell_type": "code",
     "collapsed": false,
     "input": [
      "loadpy http://matplotlib.org/mpl_examples/pylab_examples/simple_plot.py "
     ],
     "language": "python",
     "metadata": {},
     "outputs": []
    }
   ],
   "metadata": {}
  }
 ]
}