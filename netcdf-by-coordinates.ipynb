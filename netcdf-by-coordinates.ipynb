{
 "metadata": {
  "name": "netcdf-by-coordinates"
 },
 "nbformat": 3,
 "nbformat_minor": 0,
 "worksheets": [
  {
   "cells": [
    {
     "cell_type": "markdown",
     "metadata": {},
     "source": [
      "# Using numpy and kd-trees and with netCDF data\n",
      "\n",
      "- Our goal is to demonstrate how to quickly access netCDF data based on geospatial coordinates instead of array indices.\n",
      "- First we show a naive and slow way to do this, in which we also have to worry about longitude anomalies\n",
      "- Then we speed up access with numpy arrays\n",
      "- Next, we demonstrate how to eliminate longitude anomalies\n",
      "- Finally, we use a kd-tree data structure to significantly speed up access by coordinates for large problems"
     ]
    },
    {
     "cell_type": "markdown",
     "metadata": {},
     "source": [
      "## Getting data by coordinates from a netCDF File\n",
      "\n",
      "Let's look at a netCDF file from the *Atlantic Real-Time Ocean Forecast System*"
     ]
    },
    {
     "cell_type": "markdown",
     "metadata": {},
     "source": [
      "### Invoking ncdump to see metadata\n",
      "\n",
      "In iPython, we can invoke ncdump like this:"
     ]
    },
    {
     "cell_type": "code",
     "collapsed": false,
     "input": [
      "filename = 'data/rtofs_glo_3dz_f006_6hrly_reg3.nc'\n",
      "!ncdump -h $filename"
     ],
     "language": "python",
     "metadata": {},
     "outputs": [
      {
       "output_type": "stream",
       "stream": "stdout",
       "text": [
        "netcdf rtofs_glo_3dz_f006_6hrly_reg3 {\r\n",
        "dimensions:\r\n",
        "\tMT = UNLIMITED ; // (1 currently)\r\n",
        "\tY = 850 ;\r\n",
        "\tX = 712 ;\r\n",
        "\tDepth = 10 ;\r\n",
        "variables:\r\n",
        "\tdouble MT(MT) ;\r\n",
        "\t\tMT:long_name = \"time\" ;\r\n",
        "\t\tMT:units = \"days since 1900-12-31 00:00:00\" ;\r\n",
        "\t\tMT:calendar = \"standard\" ;\r\n",
        "\t\tMT:axis = \"T\" ;\r\n",
        "\tdouble Date(MT) ;\r\n",
        "\t\tDate:long_name = \"date\" ;\r\n",
        "\t\tDate:units = \"day as %Y%m%d.%f\" ;\r\n",
        "\t\tDate:C_format = \"%13.4f\" ;\r\n",
        "\t\tDate:FORTRAN_format = \"(f13.4)\" ;\r\n",
        "\tfloat Depth(Depth) ;\r\n",
        "\t\tDepth:standard_name = \"depth\" ;\r\n",
        "\t\tDepth:units = \"m\" ;\r\n",
        "\t\tDepth:positive = \"down\" ;\r\n",
        "\t\tDepth:axis = \"Z\" ;\r\n",
        "\tint Y(Y) ;\r\n",
        "\t\tY:point_spacing = \"even\" ;\r\n",
        "\t\tY:axis = \"Y\" ;\r\n",
        "\tint X(X) ;\r\n",
        "\t\tX:point_spacing = \"even\" ;\r\n",
        "\t\tX:axis = \"X\" ;\r\n",
        "\tfloat Latitude(Y, X) ;\r\n",
        "\t\tLatitude:standard_name = \"latitude\" ;\r\n",
        "\t\tLatitude:units = \"degrees_north\" ;\r\n",
        "\tfloat Longitude(Y, X) ;\r\n",
        "\t\tLongitude:standard_name = \"longitude\" ;\r\n",
        "\t\tLongitude:units = \"degrees_east\" ;\r\n",
        "\tfloat u(MT, Depth, Y, X) ;\r\n",
        "\t\tu:coordinates = \"Longitude Latitude Date\" ;\r\n",
        "\t\tu:standard_name = \"eastward_sea_water_velocity\" ;\r\n",
        "\t\tu:units = \"m/s\" ;\r\n",
        "\t\tu:_FillValue = 1.267651e+30f ;\r\n",
        "\t\tu:valid_range = -0.8856956f, 1.580019f ;\r\n",
        "\t\tu:long_name = \" u-veloc. [90.9H]\" ;\r\n",
        "\tfloat v(MT, Depth, Y, X) ;\r\n",
        "\t\tv:coordinates = \"Longitude Latitude Date\" ;\r\n",
        "\t\tv:standard_name = \"northward_sea_water_velocity\" ;\r\n",
        "\t\tv:units = \"m/s\" ;\r\n",
        "\t\tv:_FillValue = 1.267651e+30f ;\r\n",
        "\t\tv:valid_range = -0.9531159f, 0.8597144f ;\r\n",
        "\t\tv:long_name = \" v-veloc. [90.9H]\" ;\r\n",
        "\tfloat temperature(MT, Depth, Y, X) ;\r\n",
        "\t\ttemperature:coordinates = \"Longitude Latitude Date\" ;\r\n",
        "\t\ttemperature:standard_name = \"sea_water_potential_temperature\" ;\r\n",
        "\t\ttemperature:units = \"degC\" ;\r\n",
        "\t\ttemperature:_FillValue = 1.267651e+30f ;\r\n",
        "\t\ttemperature:valid_range = -5.078603f, 11.1499f ;\r\n",
        "\t\ttemperature:long_name = \"  temp [90.9H]\" ;\r\n",
        "\tfloat salinity(MT, Depth, Y, X) ;\r\n",
        "\t\tsalinity:coordinates = \"Longitude Latitude Date\" ;\r\n",
        "\t\tsalinity:standard_name = \"sea_water_salinity\" ;\r\n",
        "\t\tsalinity:units = \"psu\" ;\r\n",
        "\t\tsalinity:_FillValue = 1.267651e+30f ;\r\n",
        "\t\tsalinity:valid_range = 11.61833f, 35.04695f ;\r\n",
        "\t\tsalinity:long_name = \" salinity [90.9H]\" ;\r\n",
        "\r\n",
        "// global attributes:\r\n",
        "\t\t:Conventions = \"CF-1.0\" ;\r\n",
        "\t\t:title = \"HYCOM ATLb2.00\" ;\r\n",
        "\t\t:institution = \"National Centers for Environmental Prediction\" ;\r\n",
        "\t\t:source = \"HYCOM archive file\" ;\r\n",
        "\t\t:experiment = \"90.9\" ;\r\n",
        "\t\t:history = \"archv2ncdf3z\" ;\r\n",
        "}\r\n"
       ]
      }
     ],
     "prompt_number": 100
    },
    {
     "cell_type": "markdown",
     "metadata": {},
     "source": [
      "## Example query: sea surface temperature and salinity at 50N, 140W?\n",
      "\n",
      "- So **Longitude** and **Latitude** are 2D netCDF variables of shape 850 x 712, indexed by **Y** and **X** dimensions\n",
      "- That's 605,200 values for each\n",
      "- There's no _direct_ way in this file (and many netCDF files) to compute grid indexes from coordinates via a coordinate system and projection parameters.  Instead, we have to rely on the latitude and longitude auxiliary coordinate variables, as required by the CF conventions for data not on a simple lat,lon grid.\n",
      "- To get the temperature at 50N, 140W, we need to find **Y** and **X** indexes **iy** and **ix** such that (**Longitude[iy, ix]**, **Latitude[iy, ix]**) is \"close\" to (50.0, -140.0).\n",
      "\n",
      "Here's a sparse picture (every 25th point on each axis) of what the grid looks like on which Latitude, Longitude, Temperature, Salinity, and other variables are defined:\n",
      "\n",
      "![image](files/images/20130811_rew_blog_grid.png)"
     ]
    },
    {
     "cell_type": "markdown",
     "metadata": {},
     "source": [
      "### Naive, slow way using nested loops\n",
      "\n",
      "- Initially, for simplicity, we'll just use Euclidean distance squared, as if the Earth is flat, latitude and longitude are x- and y-coordinates, and the distance squared between points `(lat0,lon0)` and `(lat1,lon1)` is `(lat0-lat1)**2 + (lon0-lon1)**2`.\n",
      "- Note these assumptions are wrong near the poles and for points close together but on different sides of the International Date Line.\n",
      "- We'll also assume the longitude values in the netCDF file are all between -180 and 180 degrees east (later, we'll see how to drop this assumption).\n",
      "- So, keeping things simple, we want to find **iy** and **ix** to minimize\n",
      "\n",
      "    ``(Latitude[iy, ix] - lat0)**2 + (Longitude[iy, ix] - lon0)**2``\n",
      "\n",
      "![image](files/images/unproj.gif)"
     ]
    },
    {
     "cell_type": "markdown",
     "metadata": {},
     "source": [
      "## Reading netCDF data into numpy arrays\n",
      "\n",
      "To access netCDF data, rather than just metadata, we will also need NumPy:\n",
      "\n",
      "- A Python library for scientific programming.\n",
      "- Supports n-dimensional array-based calculations similar to Fortran and IDL.\n",
      "- Includes fast mathematical functions to act on scalars and arrays.\n",
      "\n",
      "With the Python netCDF4 package, indexing a netCDF variable object reads or writes a numpy array from the associated netCDF file.\n",
      "\n",
      "The code below reads latitude and longitude values into 2D numpy arrays named **latvals** and **lonvals**:"
     ]
    },
    {
     "cell_type": "markdown",
     "metadata": {},
     "source": [
      "### First version: slow and spatially challenged\n",
      "Here's simple nested loops to find indices that minimize the distance to the desired coordinates, written as if using Fortran or C rather than Python.  This takes several seconds to run, because it calculates distances one point at a time, for each of the 605200 (lat,lon) points.  Note that once we've found the right indices for the nearest point to (50N, 140W), we can also use it for temperature, salinity, or other netCDF variables that use the same coordinate space."
     ]
    },
    {
     "cell_type": "code",
     "collapsed": false,
     "input": [
      "import numpy as np\n",
      "import netCDF4\n",
      "\n",
      "def naive_slow(latvar,lonvar,lat0,lon0):\n",
      "    # Read latitude and longitude from file into numpy arrays\n",
      "    latvals = latvar[:]\n",
      "    lonvals = lonvar[:]\n",
      "    ny,nx = latvals.shape\n",
      "    dist_sq_min = 1.0e30\n",
      "    for iy in range(ny):\n",
      "        for ix in range(nx):\n",
      "            latval = latvals[iy, ix]\n",
      "            lonval = lonvals[iy, ix]\n",
      "            dist_sq = (latval - lat0)**2 + (lonval - lon0)**2\n",
      "            if dist_sq < dist_sq_min:\n",
      "                iy_min, ix_min, dist_sq_min = iy, ix, dist_sq\n",
      "    return iy_min,ix_min\n",
      "\n",
      "ncfile = netCDF4.Dataset(filename, 'r')\n",
      "latvar = ncfile.variables['Latitude']\n",
      "lonvar = ncfile.variables['Longitude']\n",
      "iy,ix = naive_slow(latvar, lonvar, 50.0, -140.0)\n",
      "print 'Closest lat lon:', latvar[iy,ix], lonvar[iy,ix]\n",
      "tempvar = ncfile.variables['temperature']\n",
      "salvar = ncfile.variables['salinity']\n",
      "print 'temperature:', tempvar[0, 0, iy, ix], tempvar.units\n",
      "print 'salinity:', salvar[0, 0, iy, ix], salvar.units\n",
      "ncfile.close()"
     ],
     "language": "python",
     "metadata": {},
     "outputs": [
      {
       "output_type": "stream",
       "stream": "stdout",
       "text": [
        "Closest lat lon: 49.9867 -139.982\n",
        "temperature: 6.46312 degC\n",
        "salinity: 32.6572 psu\n"
       ]
      }
     ],
     "prompt_number": 101
    },
    {
     "cell_type": "markdown",
     "metadata": {},
     "source": [
      "### NumPy arrays instead of loops: fast, but still assumes flat earth\n",
      "\n",
      "The above function doesn't make good use of NumPy arrays.  Eliminating the nested loops with NumPy whole array operations runs much faster.  In addition to fast array arithmetic, these useful NumPy functions help eliminate the loops:\n",
      "\n",
      "- The `armgmin()` method returns a 1D index of the minimum value of a NumPy array\n",
      "- The `unravel_index()` function converts a 1D index back into a multidimensional index "
     ]
    },
    {
     "cell_type": "code",
     "collapsed": false,
     "input": [
      "import numpy as np\n",
      "import netCDF4\n",
      "\n",
      "def naive_fast(latvar,lonvar,lat0,lon0):\n",
      "    # Read latitude and longitude from file into numpy arrays\n",
      "    latvals = latvar[:]\n",
      "    lonvals = lonvar[:]\n",
      "    ny,nx = latvals.shape\n",
      "    dist_sq = (latvals-lat0)**2 + (lonvals-lon0)**2\n",
      "    minindex_flattened = dist_sq.argmin()                # 1D index of minimum element\n",
      "    iy_min, ix_min = np.unravel_index(minindex_flattened, latvals.shape)  # 2D indexes\n",
      "    return iy_min,ix_min\n",
      "\n",
      "ncfile = netCDF4.Dataset(filename, 'r')\n",
      "latvar = ncfile.variables['Latitude']\n",
      "lonvar = ncfile.variables['Longitude']\n",
      "iy,ix = naive_fast(latvar, lonvar, 50.0, -140.0)\n",
      "print 'Closest lat lon:', latvar[iy,ix], lonvar[iy,ix]\n",
      "ncfile.close()"
     ],
     "language": "python",
     "metadata": {},
     "outputs": [
      {
       "output_type": "stream",
       "stream": "stdout",
       "text": [
        "Closest lat lon: 49.9867 -139.982\n"
       ]
      }
     ],
     "prompt_number": 102
    },
    {
     "cell_type": "markdown",
     "metadata": {},
     "source": [
      "### Spherical Earth with tunnel distance: fast _and_ correct\n",
      "\n",
      "Though assuming a flat Earth may work OK for this example, we'd like to not worry about whether longitudes are from 0 to 360 or -180 to 180, or whether points are close to the poles.\n",
      "The code below fixes this by using \"tunnel distance\" between (lat,lon) points, using trignometric functions of latitude and longitude. This version is both fast and correct (for a _spherical_ Earth)."
     ]
    },
    {
     "cell_type": "code",
     "collapsed": false,
     "input": [
      "import numpy as np\n",
      "import netCDF4\n",
      "from math import pi\n",
      "from numpy import cos, sin\n",
      "\n",
      "def tunnel_fast(latvar,lonvar,lat0,lon0):\n",
      "    rad_factor = pi/180.0 # for trignometry, need angles in radians\n",
      "    # Read latitude and longitude from file into numpy arrays\n",
      "    latvals = latvar[:] * rad_factor\n",
      "    lonvals = lonvar[:] * rad_factor\n",
      "    ny,nx = latvals.shape\n",
      "    lat0_rad = lat0 * rad_factor\n",
      "    lon0_rad = lon0 * rad_factor\n",
      "    # Compute numpy arrays for all values, no loops\n",
      "    clat,clon = cos(latvals),cos(lonvals)\n",
      "    slat,slon = sin(latvals),sin(lonvals)\n",
      "    delX = cos(lat0_rad)*cos(lon0_rad) - clat*clon\n",
      "    delY = cos(lat0_rad)*sin(lon0_rad) - clat*slon\n",
      "    delZ = sin(lat0_rad) - slat;\n",
      "    dist_sq = delX**2 + delY**2 + delZ**2\n",
      "    minindex_1d = dist_sq.argmin()                # 1D index of minimum element\n",
      "    iy_min, ix_min = np.unravel_index(minindex_1d, latvals.shape)  # 2D indexes\n",
      "    return iy_min,ix_min\n",
      "\n",
      "ncfile = netCDF4.Dataset(filename, 'r')\n",
      "latvar = ncfile.variables['Latitude']\n",
      "lonvar = ncfile.variables['Longitude']\n",
      "iy,ix = tunnel_fast(latvar, lonvar, 50.0, -140.0)\n",
      "print 'Closest lat lon:', latvar[iy,ix], lonvar[iy,ix]\n",
      "ncfile.close()"
     ],
     "language": "python",
     "metadata": {},
     "outputs": [
      {
       "output_type": "stream",
       "stream": "stdout",
       "text": [
        "Closest lat lon: 49.9867 -139.982\n"
       ]
      }
     ],
     "prompt_number": 103
    },
    {
     "cell_type": "markdown",
     "metadata": {},
     "source": [
      "### KD-Trees: faster data structure for lots of queries\n",
      "\n",
      "We can still do better, by using a data structure designed to support efficient nearest-neighbor queries: the kd-tree.  This is a data structure like a multidimensional binary tree, so finding the point nearest to a query point is _much_ faster than computing all the distances to find the minimum.  It takes some setup time to load all the points into the data structure, but that only has to be done once for a given set of points.  For a single point query, it's still more than twice as fast as the naive slow version above, but building the kd-tree for 605,200 points takes more time than the fast numpy search through all the points, so in this case using the kd-tree for a _single_ point query is sort of pointless ..."
     ]
    },
    {
     "cell_type": "code",
     "collapsed": false,
     "input": [
      "import numpy as np\n",
      "import netCDF4\n",
      "from math import pi\n",
      "from numpy import cos, sin\n",
      "from scipy.spatial import cKDTree\n",
      "\n",
      "def kdtree_fast(latvar,lonvar,lat0,lon0):\n",
      "    rad_factor = pi/180.0 # for trignometry, need angles in radians\n",
      "    # Read latitude and longitude from file into numpy arrays\n",
      "    latvals = latvar[:] * rad_factor\n",
      "    lonvals = lonvar[:] * rad_factor\n",
      "    ny,nx = latvals.shape\n",
      "    clat,clon = cos(latvals),cos(lonvals)\n",
      "    slat,slon = sin(latvals),sin(lonvals)\n",
      "    # Build kd-tree from big arrays of 3D coordinates\n",
      "    triples = zip(np.ravel(clat*clon), np.ravel(clat*slon), np.ravel(slat))\n",
      "    kdt = cKDTree(triples)\n",
      "    lat0_rad = lat0 * rad_factor\n",
      "    lon0_rad = lon0 * rad_factor\n",
      "    clat0,clon0 = cos(lat0_rad),cos(lon0_rad)\n",
      "    slat0,slon0 = sin(lat0_rad),sin(lon0_rad)\n",
      "    dist_sq_min, minindex_1d = kdt.query([clat0*clon0, clat0*slon0, slat0])\n",
      "    iy_min, ix_min = np.unravel_index(minindex_1d, latvals.shape)\n",
      "    return iy_min,ix_min\n",
      "                \n",
      "ncfile = netCDF4.Dataset(filename, 'r')\n",
      "latvar = ncfile.variables['Latitude']\n",
      "lonvar = ncfile.variables['Longitude']\n",
      "iy,ix = kdtree_fast(latvar, lonvar, 50.0, -140.0)\n",
      "print 'Closest lat lon:', latvar[iy,ix], lonvar[iy,ix]\n",
      "ncfile.close()"
     ],
     "language": "python",
     "metadata": {},
     "outputs": [
      {
       "output_type": "stream",
       "stream": "stdout",
       "text": [
        "Closest lat lon: 49.9867 -139.982\n"
       ]
      }
     ],
     "prompt_number": 104
    },
    {
     "cell_type": "markdown",
     "metadata": {},
     "source": [
      "### Timing the functions\n",
      "\n",
      "If you're curious about actual times for the versions above, the ipython notebook \"%%timeit\" statement  gets accurate timings of all of them.  Below, we time just a single query point, in this case (50.0, -140.0).  To get accurate timings, the \"%%timeit\" statement lets us do untimed setup first on the same line, before running the function call in a loop."
     ]
    },
    {
     "cell_type": "code",
     "collapsed": true,
     "input": [
      "%%timeit ncfile = netCDF4.Dataset(filename,'r');latvar = ncfile.variables['Latitude'];lonvar = ncfile.variables['Longitude']\n",
      "naive_slow(latvar, lonvar, 50.0, -140.0)"
     ],
     "language": "python",
     "metadata": {},
     "outputs": [
      {
       "output_type": "stream",
       "stream": "stdout",
       "text": [
        "1 loops, best of 3: 8.81 s per loop\n"
       ]
      }
     ],
     "prompt_number": 105
    },
    {
     "cell_type": "code",
     "collapsed": false,
     "input": [
      "%%timeit ncfile = netCDF4.Dataset(filename,'r');latvar = ncfile.variables['Latitude'];lonvar = ncfile.variables['Longitude']\n",
      "naive_fast(latvar, lonvar, 50.0, -140.0)"
     ],
     "language": "python",
     "metadata": {},
     "outputs": [
      {
       "output_type": "stream",
       "stream": "stdout",
       "text": [
        "100 loops, best of 3: 14.1 ms per loop\n"
       ]
      }
     ],
     "prompt_number": 106
    },
    {
     "cell_type": "code",
     "collapsed": false,
     "input": [
      "%%timeit ncfile = netCDF4.Dataset(filename,'r');latvar = ncfile.variables['Latitude'];lonvar = ncfile.variables['Longitude']\n",
      "tunnel_fast(latvar, lonvar, 50.0, -140.0)"
     ],
     "language": "python",
     "metadata": {},
     "outputs": [
      {
       "output_type": "stream",
       "stream": "stdout",
       "text": [
        "10 loops, best of 3: 69.9 ms per loop\n"
       ]
      }
     ],
     "prompt_number": 107
    },
    {
     "cell_type": "code",
     "collapsed": false,
     "input": [
      "%%timeit ncfile = netCDF4.Dataset(filename,'r');latvar = ncfile.variables['Latitude'];lonvar = ncfile.variables['Longitude']\n",
      "kdtree_fast(latvar, lonvar, 50.0, -140.0)"
     ],
     "language": "python",
     "metadata": {},
     "outputs": [
      {
       "output_type": "stream",
       "stream": "stdout",
       "text": [
        "1 loops, best of 3: 3.21 s per loop\n"
       ]
      }
     ],
     "prompt_number": 108
    },
    {
     "cell_type": "code",
     "collapsed": false,
     "input": [
      "ncfile.close()"
     ],
     "language": "python",
     "metadata": {},
     "outputs": [],
     "prompt_number": 109
    },
    {
     "cell_type": "markdown",
     "metadata": {},
     "source": [
      "## Separating setup from query\n",
      "\n",
      "The above use of the kd-tree data structure is not the way it's meant to be used.  Instead, it should be initialized _once_ with all the m-dimensional data for which nearest-neighbors are desired, then used repeatedly each query, amortizing the work we did to build the data structure over all the following queries.  If we time both the setup and the time required per query, we can determine where the tradeoff is, and thus where it makes sense to use a kd-tree.\n",
      "\n",
      "That's exactly what we'll do now.  We split each algorithm into two functions, a setup function and a query function.  The times per query go from seconds (the naive version) to milliseconds (the array-oriented numpy version) to microseconds (the turbo-charged kd-tree, once it's built).\n",
      "                                                                                                                                                                                                                                                   \n",
      "Rather than just using functions, we define a Class for each algorithm, do the setup in the class constructor, and provide a query method.                                                                                                                                                                                                                                                  "
     ]
    },
    {
     "cell_type": "code",
     "collapsed": false,
     "input": [
      "# Split naive_slow into initialization and query, so we can time them separately\n",
      "import numpy as np\n",
      "import netCDF4\n",
      "\n",
      "class Naive_slow(object):\n",
      "    def __init__(self, filename, latvarname, lonvarname):\n",
      "        self.ncfile = netCDF4.Dataset(filename, 'r')\n",
      "        self.latvar = self.ncfile.variables[latvarname]\n",
      "        self.lonvar = self.ncfile.variables[lonvarname]\n",
      "        # Read latitude and longitude from file into numpy arrays\n",
      "        self.latvals = self.latvar[:]\n",
      "        self.lonvals = self.lonvar[:]\n",
      "        self.shape = self.latvals.shape\n",
      "\n",
      "    def query(self,lat0,lon0):\n",
      "        ny,nx = self.shape\n",
      "        dist_sq_min = 1.0e30\n",
      "        for iy in range(ny):\n",
      "            for ix in range(nx):\n",
      "                latval = self.latvals[iy, ix]\n",
      "                lonval = self.lonvals[iy, ix]\n",
      "                dist_sq = (latval - lat0)**2 + (lonval - lon0)**2\n",
      "                if dist_sq < dist_sq_min:\n",
      "                    iy_min, ix_min, dist_sq_min = iy, ix, dist_sq\n",
      "        return iy_min,ix_min\n",
      "    \n",
      "    def close(self):\n",
      "        self.ncfile.close()\n",
      "\n",
      "ns = Naive_slow(filename,'Latitude','Longitude')\n",
      "iy,ix = ns.query(50.0, -140.0)\n",
      "print 'Closest lat lon:', ns.latvar[iy,ix], ns.lonvar[iy,ix]\n",
      "ns.close()"
     ],
     "language": "python",
     "metadata": {},
     "outputs": [
      {
       "output_type": "stream",
       "stream": "stdout",
       "text": [
        "Closest lat lon: 49.9867 -139.982\n"
       ]
      }
     ],
     "prompt_number": 110
    },
    {
     "cell_type": "code",
     "collapsed": false,
     "input": [
      "# Split naive_fast into initialization and query, so we can time them separately\n",
      "import numpy as np\n",
      "import netCDF4\n",
      "\n",
      "class Naive_fast(object):\n",
      "    def __init__(self, filename, latvarname, lonvarname):\n",
      "        self.ncfile = netCDF4.Dataset(filename, 'r')\n",
      "        self.latvar = self.ncfile.variables[latvarname]\n",
      "        self.lonvar = self.ncfile.variables[lonvarname]        \n",
      "        # Read latitude and longitude from file into numpy arrays\n",
      "        self.latvals = self.latvar[:]\n",
      "        self.lonvals = self.lonvar[:]\n",
      "        self.shape = self.latvals.shape\n",
      "        \n",
      "\n",
      "    def query(self,lat0,lon0):\n",
      "        dist_sq = (self.latvals-lat0)**2 + (self.lonvals-lon0)**2\n",
      "        minindex_flattened = dist_sq.argmin()                             # 1D index\n",
      "        iy_min, ix_min = np.unravel_index(minindex_flattened, self.shape) # 2D indexes\n",
      "        return iy_min,ix_min\n",
      "\n",
      "    def close(self):\n",
      "        self.ncfile.close()\n",
      "\n",
      "ns = Naive_fast(filename,'Latitude','Longitude')\n",
      "iy,ix = ns.query(50.0, -140.0)\n",
      "print 'Closest lat lon:', ns.latvar[iy,ix], ns.lonvar[iy,ix]\n",
      "ns.close()"
     ],
     "language": "python",
     "metadata": {},
     "outputs": [
      {
       "output_type": "stream",
       "stream": "stdout",
       "text": [
        "Closest lat lon: 49.9867 -139.982\n"
       ]
      }
     ],
     "prompt_number": 111
    },
    {
     "cell_type": "code",
     "collapsed": false,
     "input": [
      "# Split tunnel_fast into initialization and query, so we can time them separately\n",
      "import numpy as np\n",
      "import netCDF4\n",
      "from math import pi\n",
      "from numpy import cos, sin\n",
      "\n",
      "class Tunnel_fast(object):\n",
      "    def __init__(self, filename, latvarname, lonvarname):\n",
      "        self.ncfile = netCDF4.Dataset(filename, 'r')\n",
      "        self.latvar = self.ncfile.variables[latvarname]\n",
      "        self.lonvar = self.ncfile.variables[lonvarname]        \n",
      "        # Read latitude and longitude from file into numpy arrays\n",
      "        rad_factor = pi/180.0 # for trignometry, need angles in radians\n",
      "        self.latvals = self.latvar[:] * rad_factor\n",
      "        self.lonvals = self.lonvar[:] * rad_factor\n",
      "        self.shape = self.latvals.shape\n",
      "        clat,clon,slon = cos(self.latvals),cos(self.lonvals),sin(self.lonvals)\n",
      "        self.clat_clon = clat*clon\n",
      "        self.clat_slon = clat*slon\n",
      "        self.slat = sin(self.latvals)\n",
      " \n",
      "    def query(self,lat0,lon0):\n",
      "        # for trignometry, need angles in radians\n",
      "        rad_factor = pi/180.0 \n",
      "        lat0_rad = lat0 * rad_factor\n",
      "        lon0_rad = lon0 * rad_factor\n",
      "        delX = cos(lat0_rad)*cos(lon0_rad) - self.clat_clon\n",
      "        delY = cos(lat0_rad)*sin(lon0_rad) - self.clat_slon\n",
      "        delZ = sin(lat0_rad) - self.slat;\n",
      "        dist_sq = delX**2 + delY**2 + delZ**2\n",
      "        minindex_1d = dist_sq.argmin()                              # 1D index \n",
      "        iy_min, ix_min = np.unravel_index(minindex_1d, self.shape)  # 2D indexes\n",
      "        return iy_min,ix_min\n",
      "\n",
      "    def close(self):\n",
      "        self.ncfile.close()\n",
      "\n",
      "ns = Tunnel_fast(filename,'Latitude','Longitude')\n",
      "iy,ix = ns.query(50.0, -140.0)\n",
      "print 'Closest lat lon:', ns.latvar[iy,ix], ns.lonvar[iy,ix]\n",
      "ns.close()"
     ],
     "language": "python",
     "metadata": {},
     "outputs": [
      {
       "output_type": "stream",
       "stream": "stdout",
       "text": [
        "Closest lat lon: 49.9867 -139.982\n"
       ]
      }
     ],
     "prompt_number": 112
    },
    {
     "cell_type": "code",
     "collapsed": false,
     "input": [
      "# Split kdtree_fast into initialization and query, so we can time them separately\n",
      "import numpy as np\n",
      "import netCDF4\n",
      "from math import pi\n",
      "from numpy import cos, sin\n",
      "from scipy.spatial import cKDTree\n",
      "\n",
      "class Kdtree_fast(object):\n",
      "    def __init__(self, filename, latvarname, lonvarname):\n",
      "        self.ncfile = netCDF4.Dataset(filename, 'r')\n",
      "        self.latvar = self.ncfile.variables[latvarname]\n",
      "        self.lonvar = self.ncfile.variables[lonvarname]        \n",
      "        # Read latitude and longitude from file into numpy arrays\n",
      "        rad_factor = pi/180.0 # for trignometry, need angles in radians\n",
      "        self.latvals = self.latvar[:] * rad_factor\n",
      "        self.lonvals = self.lonvar[:] * rad_factor\n",
      "        self.shape = self.latvals.shape\n",
      "        clat,clon = cos(self.latvals),cos(self.lonvals)\n",
      "        slat,slon = sin(self.latvals),sin(self.lonvals)\n",
      "        clat_clon = clat*clon\n",
      "        clat_slon = clat*slon\n",
      "        triples = zip(np.ravel(clat*clon), np.ravel(clat*slon), np.ravel(slat))\n",
      "        self.kdt = cKDTree(triples)\n",
      "\n",
      "    def query(self,lat0,lon0):\n",
      "        rad_factor = pi/180.0 \n",
      "        lat0_rad = lat0 * rad_factor\n",
      "        lon0_rad = lon0 * rad_factor\n",
      "        clat0,clon0 = cos(lat0_rad),cos(lon0_rad)\n",
      "        slat0,slon0 = sin(lat0_rad),sin(lon0_rad)\n",
      "        dist_sq_min, minindex_1d = self.kdt.query([clat0*clon0,clat0*slon0,slat0])\n",
      "        iy_min, ix_min = np.unravel_index(minindex_1d, self.shape)\n",
      "        return iy_min,ix_min\n",
      "\n",
      "    def close(self):\n",
      "        self.ncfile.close()\n",
      "\n",
      "ns = Kdtree_fast(filename,'Latitude','Longitude')\n",
      "iy,ix = ns.query(50.0, -140.0)\n",
      "print 'Closest lat lon:', ns.latvar[iy,ix], ns.lonvar[iy,ix]\n",
      "ns.close()"
     ],
     "language": "python",
     "metadata": {},
     "outputs": [
      {
       "output_type": "stream",
       "stream": "stdout",
       "text": [
        "Closest lat lon: 49.9867 -139.982\n"
       ]
      }
     ],
     "prompt_number": 113
    },
    {
     "cell_type": "markdown",
     "metadata": {},
     "source": [
      "### Setup times for the four algorithms"
     ]
    },
    {
     "cell_type": "code",
     "collapsed": false,
     "input": [
      "%%timeit\n",
      "ns = Naive_slow(filename,'Latitude','Longitude')"
     ],
     "language": "python",
     "metadata": {},
     "outputs": [
      {
       "output_type": "stream",
       "stream": "stdout",
       "text": [
        "100 loops, best of 3: 11.8 ms per loop\n"
       ]
      }
     ],
     "prompt_number": 114
    },
    {
     "cell_type": "code",
     "collapsed": false,
     "input": [
      "%%timeit\n",
      "ns = Naive_fast(filename,'Latitude','Longitude')"
     ],
     "language": "python",
     "metadata": {},
     "outputs": [
      {
       "output_type": "stream",
       "stream": "stdout",
       "text": [
        "100 loops, best of 3: 11.8 ms per loop\n"
       ]
      }
     ],
     "prompt_number": 115
    },
    {
     "cell_type": "code",
     "collapsed": false,
     "input": [
      "%%timeit\n",
      "ns = Tunnel_fast(filename,'Latitude','Longitude')"
     ],
     "language": "python",
     "metadata": {},
     "outputs": [
      {
       "output_type": "stream",
       "stream": "stdout",
       "text": [
        "10 loops, best of 3: 65.3 ms per loop\n"
       ]
      }
     ],
     "prompt_number": 116
    },
    {
     "cell_type": "code",
     "collapsed": false,
     "input": [
      "%%timeit\n",
      "ns = Kdtree_fast(filename,'Latitude','Longitude')"
     ],
     "language": "python",
     "metadata": {},
     "outputs": [
      {
       "output_type": "stream",
       "stream": "stdout",
       "text": [
        "1 loops, best of 3: 3.18 s per loop\n"
       ]
      }
     ],
     "prompt_number": 117
    },
    {
     "cell_type": "markdown",
     "metadata": {},
     "source": [
      "### Query times for the four algorithms"
     ]
    },
    {
     "cell_type": "code",
     "collapsed": true,
     "input": [
      "%%timeit ns = Naive_slow(filename,'Latitude','Longitude')\n",
      "iy,ix = ns.query(50.0, -140.0)"
     ],
     "language": "python",
     "metadata": {},
     "outputs": [
      {
       "output_type": "stream",
       "stream": "stdout",
       "text": [
        "1 loops, best of 3: 8.88 s per loop\n"
       ]
      }
     ],
     "prompt_number": 118
    },
    {
     "cell_type": "code",
     "collapsed": true,
     "input": [
      "%%timeit ns = Naive_fast(filename,'Latitude','Longitude')\n",
      "iy,ix = ns.query(50.0, -140.0)"
     ],
     "language": "python",
     "metadata": {},
     "outputs": [
      {
       "output_type": "stream",
       "stream": "stdout",
       "text": [
        "100 loops, best of 3: 5.02 ms per loop\n"
       ]
      }
     ],
     "prompt_number": 119
    },
    {
     "cell_type": "code",
     "collapsed": false,
     "input": [
      "%%timeit ns = Tunnel_fast(filename,'Latitude','Longitude')\n",
      "iy,ix = ns.query(50.0, -140.0)"
     ],
     "language": "python",
     "metadata": {},
     "outputs": [
      {
       "output_type": "stream",
       "stream": "stdout",
       "text": [
        "100 loops, best of 3: 7.67 ms per loop\n"
       ]
      }
     ],
     "prompt_number": 120
    },
    {
     "cell_type": "code",
     "collapsed": true,
     "input": [
      "%%timeit ns = Kdtree_fast(filename,'Latitude','Longitude')\n",
      "iy,ix = ns.query(50.0, -140.0)"
     ],
     "language": "python",
     "metadata": {},
     "outputs": [
      {
       "output_type": "stream",
       "stream": "stdout",
       "text": [
        "10000 loops, best of 3: 103 \u00b5s per loop\n"
       ]
      }
     ],
     "prompt_number": 121
    },
    {
     "cell_type": "markdown",
     "metadata": {},
     "source": [
      "### Summary of timings\n",
      "\n",
      "The naive_slow method is always slower than all other methods.  The naive_fast method would only be worth considering if non-flatness of the Earth is irrelevant, for example in a relatively small region not close to the poles and not crossing a longitude discontinuity.\n",
      "\n",
      "On my platform, total time in msec for running initialization followed by K queries was:\n",
      "\n",
      "  - naive_slow:    11.8 + 8.920 * K\n",
      "  - naive_fast:    11.8 + 5.000 * K\n",
      "  - tunnel_fast:   65.4 + 7.830 * K\n",
      "  - kdtree_fast:   3160 + 0.107 * K\n",
      "\n",
      "For 10,000 queries required for querying all points on a 100x100 subgrid, kdtree_fast takes about 4.2 seconds, while tunnel_fast takes about 78 seconds.  The advantage is much greater for more query points, as kd-tree query complexityis O(log(K)), whereas all the other algorithms are O(K).\n",
      "                \n",
      "Your mileage may vary, but kdtree_fast\n",
      "\n",
      "  - always beats naive_slow\n",
      "  - beats naive_fast for more than 643 queries\n",
      "  - beats tunnel_fast for more than 400 queries\n"
     ]
    },
    {
     "cell_type": "code",
     "collapsed": false,
     "input": [
      "# Is there a way to capture %%timeit output, so we don't have to do this?\n",
      "ns0,nf0,tf0,kd0 = 11.8, 11.8, 65.3, 3180  # setup times in msec\n",
      "nsq,nfq,tfq,kdq = 8880, 5.02, 7.67, .103  # query times in msec\n",
      "\n",
      "K = 10000\n",
      "print K, \"queries using naive_slow:\", round((ns0 + nsq*K)/1000,1), \"seconds\"\n",
      "print K, \"queries using naive_fast:\", round((nf0 + nfq*K)/1000,1), \"seconds\"\n",
      "print K, \"queries using tunnel_fast:\", round((tf0 + tfq*K)/1000,1), \"seconds\"\n",
      "print K, \"queries using kdtree_fast:\", round((kd0 + kdq*K)/1000,1), \"seconds\"\n",
      "print\n",
      "print \"kd_tree_fast outperforms naive_fast above:\", int((kd0-nf0)/(nfq-kdq)), \"queries\"\n",
      "print \"kd_tree_fast outperforms tunnel_fast above:\", int((kd0-tf0)/(tfq-kdq)), \"queries\""
     ],
     "language": "python",
     "metadata": {},
     "outputs": [
      {
       "output_type": "stream",
       "stream": "stdout",
       "text": [
        "10000 queries using naive_slow: 88800.0 seconds\n",
        "10000 queries using naive_fast: 50.2 seconds\n",
        "10000 queries using tunnel_fast: 76.8 seconds\n",
        "10000 queries using kdtree_fast: 4.2 seconds\n",
        "\n",
        "kd_tree_fast outperforms naive_fast above: 644 queries\n",
        "kd_tree_fast outperforms tunnel_fast above: 411 queries\n"
       ]
      }
     ],
     "prompt_number": 123
    },
    {
     "cell_type": "code",
     "collapsed": false,
     "input": [],
     "language": "python",
     "metadata": {},
     "outputs": [],
     "prompt_number": 122
    }
   ],
   "metadata": {}
  }
 ]
}