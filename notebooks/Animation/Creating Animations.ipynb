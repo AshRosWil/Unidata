{
 "cells": [
  {
   "cell_type": "markdown",
   "metadata": {},
   "source": [
    "<a name=\"top\"></a>\n",
    "<div style=\"width:1000 px\">\n",
    "\n",
    "<div style=\"float:right; width:98 px; height:98px;\"><img src=\"https://pbs.twimg.com/profile_images/1187259618/unidata_logo_rgb_sm_400x400.png\" alt=\"Unidata Logo\" style=\"height: 98px;\"></div>\n",
    "\n",
    "<h1>Creating Animations</h1>\n",
    "<h3>Unidata Python Workshop</h3>\n",
    "\n",
    "<div style=\"clear:both\"></div>\n",
    "</div>\n",
    "\n",
    "<hr style=\"height:2px;\">\n",
    "\n",
    "<div style=\"float:right; width:250 px\"><img src=\"animation-image.png\" alt=\"Example Animation\" style=\"height: 300px;\"></div>\n",
    "\n",
    "\n",
    "## Overview:\n",
    "\n",
    "* **Teaching:** 15 minutes\n",
    "* **Exercises:** 15 minutes\n",
    "\n",
    "### Questions\n",
    "1. How are animations created with Matplotlib?\n",
    "1. How can the data in a matplotlib plot be changed?\n",
    "1. How can animations be displayed in the Jupyter Notebook?\n",
    "\n",
    "### Objectives\n",
    "1. <a href=\"#basicanimation\">Create a basic animation with matplotlib</a>\n",
    "1. <a href=\"#downloaddata\">Download model output with Siphon</a>\n",
    "1. <a href=\"#contour\">Create an animated contour analysis of the output</a>"
   ]
  },
  {
   "cell_type": "markdown",
   "metadata": {},
   "source": [
    "<a name=\"basicanimation\"></a>\n",
    "## 1. Create a basic animation\n",
    "Matplotlib has powerful support for creating animated plots, though this requires going beyond the basics of simply calling functions to create plots. Instead, this requires knowing about Matplotlib's artists, and sometimes creating what are known as \"callback functions\"; these are functions that matplotlib can call at the appropriate time to perform the actual animation. In addition to creating interactive animations, Matplotlib has support for writing out these animations in a variety of formats; these include stand alone file such as animated GIFs and h.264 video files, as well as javascript-based animations suitable for the notebook.\n",
    "\n",
    "Matplotlib has two classes to support creating animations: `ArtistAnimation` and `FuncAnimation`. The former controls animations by specifying a list of artists that should be drawn for each frame of the animation. The latter uses a user-specifed function to perform all of the updates for a given animation frame. `ArtistAnimation` is the simplest to use, but `FuncAnimation` is often more efficient.\n",
    "\n",
    "We start below by doing the appropriate imports. The line setting `jshtml` tells matplotlib to display animations in the notebook by converting them to an HTML/Javascript output. Another option is `html5`, which tells matplotlib to render the animation as a video file compatible with the HTML5 `video` tag."
   ]
  },
  {
   "cell_type": "code",
   "execution_count": null,
   "metadata": {},
   "outputs": [],
   "source": [
    "%matplotlib inline\n",
    "import matplotlib.pyplot as plt\n",
    "import numpy as np\n",
    "\n",
    "import matplotlib.animation as manimation\n",
    "plt.rcParams['animation.html'] = 'jshtml'"
   ]
  },
  {
   "cell_type": "markdown",
   "metadata": {},
   "source": [
    "From here let's create a bunch of image plots:"
   ]
  },
  {
   "cell_type": "code",
   "execution_count": null,
   "metadata": {},
   "outputs": [],
   "source": [
    "fig, ax = plt.subplots()\n",
    "x = np.linspace(-5, 5)\n",
    "for i in range(-5, 5):\n",
    "    xvals = x - i\n",
    "    bounds = (x.min(), x.max(), x.min(), x.max())\n",
    "    im = ax.imshow(np.hypot(xvals, xvals[:, None]), extent=bounds, origin='lower',\n",
    "                   norm=plt.Normalize(0, 15))"
   ]
  },
  {
   "cell_type": "markdown",
   "metadata": {},
   "source": [
    "To facilitate making an animation, we need to do two things:\n",
    "1. Create a list to hold a list of \"things\" to plot for each frame of the animation; in this case that list is just a single item, the image plot\n",
    "2. Save the object created by `imshow` so we can use it in the animation"
   ]
  },
  {
   "cell_type": "code",
   "execution_count": null,
   "metadata": {
    "scrolled": true
   },
   "outputs": [],
   "source": [
    "fig, ax = plt.subplots()\n",
    "x = np.linspace(-5, 5)\n",
    "\n",
    "artists = []\n",
    "for i in range(-5, 5):\n",
    "    xvals = x - i\n",
    "    bounds = (x.min(), x.max(), x.min(), x.max())\n",
    "    im = ax.imshow(np.hypot(xvals, xvals[:, None]), extent=bounds, origin='lower',\n",
    "                   norm=plt.Normalize(0, 15))\n",
    "    artists.append([im]) # NOTE THE LIST"
   ]
  },
  {
   "cell_type": "markdown",
   "metadata": {},
   "source": [
    "So now we have a list of list of artists. We can use this to create an animation:"
   ]
  },
  {
   "cell_type": "code",
   "execution_count": null,
   "metadata": {},
   "outputs": [],
   "source": [
    "anim = manimation.ArtistAnimation(fig, artists, interval=500)\n",
    "anim"
   ]
  },
  {
   "cell_type": "markdown",
   "metadata": {},
   "source": [
    "Let's see now why we want a list of artists for each frame, by adding a text and a point on the plot:"
   ]
  },
  {
   "cell_type": "code",
   "execution_count": null,
   "metadata": {},
   "outputs": [],
   "source": [
    "fig, ax = plt.subplots()\n",
    "x = np.linspace(-5, 5)\n",
    "\n",
    "artists = []\n",
    "for i in range(-5, 5):\n",
    "    xvals = x - i\n",
    "    bounds = (x.min(), x.max(), x.min(), x.max())\n",
    "    im = ax.imshow(np.hypot(xvals, xvals[:, None]), extent=bounds, origin='lower',\n",
    "                   norm=plt.Normalize(0, 15))\n",
    "    text = ax.text(0.5, 1.01, 'i: {}'.format(i), transform=ax.transAxes, ha='center')\n",
    "    point, = ax.plot([i], [i], 'ro', zorder=2)\n",
    "    artists.append([im, point, text])"
   ]
  },
  {
   "cell_type": "code",
   "execution_count": null,
   "metadata": {},
   "outputs": [],
   "source": [
    "anim = manimation.ArtistAnimation(fig, artists, interval=500)\n",
    "anim"
   ]
  },
  {
   "cell_type": "markdown",
   "metadata": {},
   "source": [
    "Another way to accomplish this same task is to reset the data within a plot element rather than to recreate the plot. This uses `FuncAnimation`, as well as a function that is called for each frame, called a \"callback function\". First, let's make a single plot:"
   ]
  },
  {
   "cell_type": "code",
   "execution_count": null,
   "metadata": {},
   "outputs": [],
   "source": [
    "fig, ax = plt.subplots()\n",
    "x = np.linspace(-5, 5)\n",
    "\n",
    "bounds = (x.min(), x.max(), x.min(), x.max())\n",
    "im = ax.imshow(np.hypot(x, x[:, None]), extent=bounds, origin='lower',\n",
    "               norm=plt.Normalize(0, 15))\n",
    "text = ax.text(0.5, 1.01, 'i:', transform=ax.transAxes, ha='center')\n",
    "point, = ax.plot([0], [0], 'ro', zorder=2)"
   ]
  },
  {
   "cell_type": "markdown",
   "metadata": {},
   "source": [
    "Now we define the callback function. This function takes \"framedata\" that is used to change the frame. In this case, we'll define the frames using the same `range` call that we used to make the loop above. Instead of replotting, though, this function calls `set_data` and `set_text` to change the existing plot elements."
   ]
  },
  {
   "cell_type": "code",
   "execution_count": null,
   "metadata": {},
   "outputs": [],
   "source": [
    "def plot_frame(frame):\n",
    "    xvals = x - frame\n",
    "    im.set_data(np.hypot(xvals, xvals[:, None]))\n",
    "    point.set_data([frame], [frame])\n",
    "    text.set_text('i: {}'.format(frame))\n",
    "\n",
    "anim = manimation.FuncAnimation(fig, plot_frame, frames=range(-5, 5), interval=500)\n",
    "anim"
   ]
  },
  {
   "cell_type": "markdown",
   "metadata": {},
   "source": [
    "In addition to being more efficient, the callback method can give you a lot more flexibility in terms of what's possible:"
   ]
  },
  {
   "cell_type": "code",
   "execution_count": null,
   "metadata": {},
   "outputs": [],
   "source": [
    "# Taken from the matplotlib rain.py example by Nicolas P. Rougier\n",
    "\n",
    "# Create new Figure and an Axes which fills it.\n",
    "fig = plt.figure(figsize=(7, 7))\n",
    "ax = fig.add_axes([0, 0, 1, 1], frameon=False)\n",
    "ax.set_xlim(0, 1), ax.set_xticks([])\n",
    "ax.set_ylim(0, 1), ax.set_yticks([])\n",
    "\n",
    "# Create rain data\n",
    "n_drops = 50\n",
    "rain_drops = np.zeros(n_drops, dtype=[('position', float, 2),\n",
    "                                      ('size',     float, 1),\n",
    "                                      ('growth',   float, 1),\n",
    "                                      ('color',    float, 4)])\n",
    "\n",
    "# Initialize the raindrops in random positions and with\n",
    "# random growth rates.\n",
    "rain_drops['position'] = np.random.uniform(0, 1, (n_drops, 2))\n",
    "rain_drops['growth'] = np.random.uniform(50, 200, n_drops)\n",
    "\n",
    "# Construct the scatter which we will update during animation\n",
    "# as the raindrops develop.\n",
    "scat = ax.scatter(rain_drops['position'][:, 0], rain_drops['position'][:, 1],\n",
    "                  s=rain_drops['size'], lw=0.5, edgecolors=rain_drops['color'],\n",
    "                  facecolors='none')\n",
    "\n",
    "def update(frame_number):\n",
    "    # Get an index which we can use to re-spawn the oldest raindrop.\n",
    "    current_index = frame_number % n_drops\n",
    "\n",
    "    # Make all colors more transparent as time progresses.\n",
    "    rain_drops['color'][:, 3] -= 1.0/len(rain_drops)\n",
    "    rain_drops['color'][:, 3] = np.clip(rain_drops['color'][:, 3], 0, 1)\n",
    "\n",
    "    # Make all circles bigger.\n",
    "    rain_drops['size'] += rain_drops['growth']\n",
    "\n",
    "    # Pick a new position for oldest rain drop, resetting its size,\n",
    "    # color and growth factor.\n",
    "    rain_drops['position'][current_index] = np.random.uniform(0, 1, 2)\n",
    "    rain_drops['size'][current_index] = 5\n",
    "    rain_drops['color'][current_index] = (0, 0, 0, 1)\n",
    "    rain_drops['growth'][current_index] = np.random.uniform(50, 200)\n",
    "\n",
    "    # Update the scatter collection, with the new colors, sizes and positions.\n",
    "    scat.set_edgecolors(rain_drops['color'])\n",
    "    scat.set_sizes(rain_drops['size'])\n",
    "    scat.set_offsets(rain_drops['position'])\n",
    "\n",
    "# Construct the animation, using the update function as the animation\n",
    "# director.\n",
    "manimation.FuncAnimation(fig, update, interval=10)"
   ]
  },
  {
   "cell_type": "markdown",
   "metadata": {},
   "source": [
    "<a href=\"#top\">Top</a>\n",
    "<hr style=\"height:2px;\">"
   ]
  },
  {
   "cell_type": "markdown",
   "metadata": {},
   "source": [
    "<a name=\"downloaddata\"></a>\n",
    "## 2. Download model data with Siphon\n",
    "\n",
    "Now let's try animating some with some real world \"data\"--model output! First, let's the GFS \"Best\" time series from THREDDS using Siphon."
   ]
  },
  {
   "cell_type": "code",
   "execution_count": null,
   "metadata": {},
   "outputs": [],
   "source": [
    "from siphon.catalog import TDSCatalog\n",
    "\n",
    "cat = TDSCatalog('http://thredds-test.unidata.ucar.edu/thredds/catalog/casestudies/irma/model/gfs/catalog.xml')\n",
    "print(cat.datasets)"
   ]
  },
  {
   "cell_type": "code",
   "execution_count": null,
   "metadata": {},
   "outputs": [],
   "source": [
    "best_ds = cat.datasets['Best GFS Half Degree Forecast Time Series']\n",
    "ncss = best_ds.subset()"
   ]
  },
  {
   "cell_type": "code",
   "execution_count": null,
   "metadata": {},
   "outputs": [],
   "source": [
    "from datetime import datetime\n",
    "\n",
    "query = ncss.query().accept('netcdf4')\n",
    "query.lonlat_box(west=-90, east=-55, south=15, north=30)\n",
    "query.variables('Pressure_surface')\n",
    "query.time_range(datetime(2017, 9, 6, 12), datetime(2017, 9, 11, 12))\n",
    "nc = ncss.get_data(query)"
   ]
  },
  {
   "cell_type": "code",
   "execution_count": null,
   "metadata": {},
   "outputs": [],
   "source": [
    "lon = nc.variables['longitude'][:]\n",
    "lat = nc.variables['latitude'][:]\n",
    "press = nc.variables['Pressure_surface']\n",
    "print(press)"
   ]
  },
  {
   "cell_type": "markdown",
   "metadata": {},
   "source": [
    "<a href=\"#top\">Top</a>\n",
    "<hr style=\"height:2px;\">"
   ]
  },
  {
   "cell_type": "markdown",
   "metadata": {},
   "source": [
    "<a name=\"contour\"></a>\n",
    "## 3. Plot animated contours\n",
    "\n",
    "We have a [netCDF4-python](https://unidata.github.io/netcdf4-python/) dataset object now that contains all of the data for a given satellite image. We need to explore the variables available in the file and pull out the useful parts that we need to make a map."
   ]
  },
  {
   "cell_type": "code",
   "execution_count": null,
   "metadata": {},
   "outputs": [],
   "source": [
    "%matplotlib inline\n",
    "import cartopy.crs as ccrs\n",
    "from metpy.plots import add_metpy_logo\n",
    "\n",
    "proj = ccrs.LambertConformal(central_longitude=-70)\n",
    "\n",
    "fig = plt.figure(figsize=(10, 5))\n",
    "ax = fig.add_subplot(1, 1, 1, projection=proj)\n",
    "ax.coastlines()\n",
    "\n",
    "# Add the MetPy Logo\n",
    "add_metpy_logo(fig, x=15, y=15)\n",
    "\n",
    "contours = np.arange(95000, 105000, 800)\n",
    "\n",
    "artists = []\n",
    "for time_slice in press:\n",
    "    contourset = ax.contour(lon, lat, time_slice, contours, transform=ccrs.PlateCarree(),\n",
    "                            colors='black')\n",
    "    # contourset.collections is a *list* of all line collections from the contour call\n",
    "    contour_artists = contourset.collections\n",
    "    artists.append(contour_artists)"
   ]
  },
  {
   "cell_type": "code",
   "execution_count": null,
   "metadata": {},
   "outputs": [],
   "source": [
    "anim = manimation.ArtistAnimation(fig, artists, interval=250)\n",
    "anim"
   ]
  },
  {
   "cell_type": "markdown",
   "metadata": {},
   "source": [
    "<div class=\"alert alert-success\">\n",
    "    <b>EXERCISE</b>:\n",
    "     <ul>\n",
    "      <li>Building on what was done above, produce an animation of GFS output. Add max wind speed\n",
    "          (\"Wind_speed_gust_surface\") to the plot, as well as a timestamp.</li>\n",
    "      <li>You are also free to experiment with different time ranges,\n",
    "          geographic areas, or using different variables and plot types.</li>\n",
    "    </ul>\n",
    "</div>"
   ]
  },
  {
   "cell_type": "code",
   "execution_count": null,
   "metadata": {},
   "outputs": [],
   "source": [
    "from netCDF4 import num2date\n",
    "\n",
    "# Load data\n",
    "cat = TDSCatalog('http://thredds-test.unidata.ucar.edu/thredds/catalog/casestudies/irma/model/gfs/catalog.xml')\n",
    "best_ds = cat.datasets['Best GFS Half Degree Forecast Time Series']\n",
    "\n",
    "# Access the best dataset using the subset service and request data\n",
    "ncss = best_ds.subset()\n",
    "\n",
    "# Set up query\n",
    "query = ncss.query().accept('netcdf4')\n",
    "query.lonlat_box(west=-90, east=-55, south=15, north=30)\n",
    "query.variables('Pressure_surface', 'Wind_speed_gust_surface')\n",
    "query.time_range(datetime(2017, 9, 6, 12), datetime(2017, 9, 11, 12))\n",
    "\n",
    "# Pull useful pieces out of nc\n",
    "nc = ncss.get_data(query)\n",
    "lon = nc.variables['longitude'][:]\n",
    "lat = nc.variables['latitude'][:]\n",
    "press = nc.variables['Pressure_surface']\n",
    "winds = nc.variables['Wind_speed_gust_surface']\n",
    "time_var = nc.variables['time1']\n",
    "times = num2date(time_var[:], time_var.units)\n",
    "\n",
    "# Create a figure for plotting\n",
    "proj = ccrs.LambertConformal(central_longitude=-70)\n",
    "fig = plt.figure(figsize=(10, 5))\n",
    "ax = fig.add_subplot(1, 1, 1, projection=proj)\n",
    "ax.coastlines()\n",
    "add_metpy_logo(fig, x=15, y=15)\n",
    "\n",
    "# Setup up the animation, looping over data to do the plotting that we want\n",
    "pressure_levels = np.arange(95000, 105000, 800)\n",
    "artists = []\n",
    "\n",
    "#\n",
    "# FILL THIS IN: Loop over all data and plot as appropriate\n",
    "# HINT: Remember zip!\n",
    "# \n",
    "\n",
    "# manimations.ArtistAnimation(...)"
   ]
  },
  {
   "cell_type": "code",
   "execution_count": null,
   "metadata": {},
   "outputs": [],
   "source": [
    "# %load solutions/animation.py\n",
    "from netCDF4 import num2date\n",
    "\n",
    "# Load data\n",
    "cat = TDSCatalog('http://thredds-test.unidata.ucar.edu/thredds/catalog/casestudies/irma/model/gfs/catalog.xml')\n",
    "best_ds = cat.datasets['Best GFS Half Degree Forecast Time Series']\n",
    "\n",
    "# Access the best dataset using the subset service and request data\n",
    "ncss = best_ds.subset()\n",
    "\n",
    "# Set up query\n",
    "query = ncss.query().accept('netcdf4')\n",
    "query.lonlat_box(west=-90, east=-55, south=15, north=30)\n",
    "query.variables('Pressure_surface', 'Wind_speed_gust_surface')\n",
    "query.time_range(datetime(2017, 9, 6, 12), datetime(2017, 9, 11, 12))\n",
    "\n",
    "# Pull useful pieces out of nc\n",
    "nc = ncss.get_data(query)\n",
    "lon = nc.variables['longitude'][:]\n",
    "lat = nc.variables['latitude'][:]\n",
    "press = nc.variables['Pressure_surface']\n",
    "winds = nc.variables['Wind_speed_gust_surface']\n",
    "time_var = nc.variables['time1']\n",
    "times = num2date(time_var[:], time_var.units)\n",
    "\n",
    "# Create a figure for plotting\n",
    "proj = ccrs.LambertConformal(central_longitude=-70)\n",
    "fig = plt.figure(figsize=(10, 5))\n",
    "ax = fig.add_subplot(1, 1, 1, projection=proj)\n",
    "ax.coastlines()\n",
    "add_metpy_logo(fig, x=15, y=15)\n",
    "\n",
    "# Setup up the animation, looping over data to do the plotting that we want\n",
    "pressure_levels = np.arange(95000, 105000, 800)\n",
    "wind_levels = np.arange(0., 100., 10.)\n",
    "artists = []\n",
    "\n",
    "for press_slice, wind_slice, time in zip(press, winds, times):\n",
    "    press_contour = ax.contour(lon, lat, press_slice, pressure_levels,\n",
    "                               transform=ccrs.PlateCarree(), colors='black')\n",
    "    wind_contour = ax.contour(lon, lat, wind_slice, wind_levels,\n",
    "                              transform=ccrs.PlateCarree(), colors='blue')\n",
    "    text = ax.text(0.5, 1.01, time, transform=ax.transAxes, ha='center')\n",
    "    artists.append(press_contour.collections + wind_contour.collections + [text])\n",
    "\n",
    "manimation.ArtistAnimation(fig, artists, interval=100)\n"
   ]
  },
  {
   "cell_type": "markdown",
   "metadata": {},
   "source": [
    "<a href=\"#top\">Top</a>\n",
    "<hr style=\"height:2px;\">"
   ]
  }
 ],
 "metadata": {
  "kernelspec": {
   "display_name": "Python [conda env:unidata-workshop]",
   "language": "python",
   "name": "conda-env-unidata-workshop-py"
  },
  "language_info": {
   "codemirror_mode": {
    "name": "ipython",
    "version": 3
   },
   "file_extension": ".py",
   "mimetype": "text/x-python",
   "name": "python",
   "nbconvert_exporter": "python",
   "pygments_lexer": "ipython3",
   "version": "3.6.3"
  }
 },
 "nbformat": 4,
 "nbformat_minor": 2
}
