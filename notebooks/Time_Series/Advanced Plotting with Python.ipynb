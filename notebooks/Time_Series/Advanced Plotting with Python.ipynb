{
 "cells": [
  {
   "cell_type": "markdown",
   "metadata": {},
   "source": [
    "<a name=\"top\"></a>\n",
    "<div style=\"width:1000 px\">\n",
    "\n",
    "<div style=\"float:right; width:98 px; height:98px;\">\n",
    "<img src=\"https://raw.githubusercontent.com/Unidata/MetPy/master/metpy/plots/_static/unidata_150x150.png\" alt=\"Unidata Logo\" style=\"height: 98px;\">\n",
    "</div>\n",
    "\n",
    "<h1>Advanced Plotting with Python</h1>\n",
    "<h3>Unidata Python Workshop</h3>\n",
    "\n",
    "<div style=\"clear:both\"></div>\n",
    "</div>\n",
    "\n",
    "<hr style=\"height:2px;\">\n",
    "\n",
    "<div style=\"float:right; width:250 px\"><img src=\"http://matplotlib.org/_images/date_demo.png\" alt=\"METAR\" style=\"height: 300px;\"></div>\n",
    "\n",
    "\n",
    "## Overview:\n",
    "\n",
    "* **Teaching:** 45 minutes\n",
    "* **Exercises:** 45 minutes\n",
    "\n",
    "### Questions\n",
    "1. How can we improve upon the versatility of the plotter developed in the basic time series notebook?\n",
    "1. How can we iterate over all data file in a directory?\n",
    "1. How can data processing functions be applied on a variable-by-variable basis?\n",
    "\n",
    "### Objectives\n",
    "1. <a href=\"#basicfunctionality\">On Last Week's Episode of Time Series Analysis</a>\n",
    "1. <a href=\"#parameterdict\">Dictionaries of Parameters</a>\n",
    "1. <a href=\"#multipledict\">Multiple Dictionaries</a>\n",
    "1. <a href=\"#functions\">Function Application</a>\n",
    "1. <a href=\"#glob\">Glob and Multiple Files</a>"
   ]
  },
  {
   "cell_type": "markdown",
   "metadata": {},
   "source": [
    "<a name=\"basicfunctionality\"></a>\n",
    "## On Last Week's Episode of Time Series Analysis\n",
    "Here's the basic set of imports and data reading functionality that we established in the [Plotting with Python](Plotting with Python.ipynb) notebook."
   ]
  },
  {
   "cell_type": "code",
   "execution_count": null,
   "metadata": {},
   "outputs": [],
   "source": [
    "from datetime import datetime\n",
    "import pandas as pd\n",
    "import matplotlib.pyplot as plt\n",
    "from matplotlib.dates import DateFormatter, DayLocator\n",
    "\n",
    "%matplotlib inline"
   ]
  },
  {
   "cell_type": "code",
   "execution_count": null,
   "metadata": {},
   "outputs": [],
   "source": [
    "def format_varname(varname):\n",
    "    \"\"\"Format the variable name nicely for titles and labels.\"\"\"\n",
    "    parts = varname.split('_')\n",
    "    title = parts[0].title()\n",
    "    label = varname.replace('_', ' ').title()\n",
    "    return title, label"
   ]
  },
  {
   "cell_type": "code",
   "execution_count": null,
   "metadata": {},
   "outputs": [],
   "source": [
    "def read_buoy_data(fname):\n",
    "    \"\"\"Handy function to read and cleanup the buoy data files.\"\"\"\n",
    "    col_names = ['year', 'month', 'day', 'hour', 'minute', 'wind_direction', 'wind_speed',\n",
    "             'wind_gust', 'wave_height', 'dominant_wave_period', 'average_wave_period',\n",
    "             'dominant_wave_direction', 'pressure', 'temperature', 'water_temperature', 'dewpoint',\n",
    "             'visibility', '3hr_pressure_tendency', 'water_level_above_mean']\n",
    "    \n",
    "    widths = [4, 3, 3, 3, 3, 4, 5, 5, 6, 6, 6, 4, 7, 6, 6, 6, 5, 5, 6]\n",
    "    \n",
    "    df = pd.read_fwf(fname, skiprows=2, na_values='MM', names=col_names, widths=widths)\n",
    "\n",
    "    df['time'] = pd.to_datetime(df[['year', 'month', 'day', 'hour', 'minute']])\n",
    "\n",
    "    # Using inplace means the return is None and the dataframe is simply modified.\n",
    "    df.drop(['year', 'month', 'day', 'hour', 'minute'], axis='columns', inplace=True)\n",
    "    \n",
    "    idx = (df.time >= datetime(2017, 9, 18)) & (df.time <= datetime(2017, 9, 23))\n",
    "    df = df[idx]\n",
    "    \n",
    "    df.reset_index(drop=True, inplace=True)\n",
    "    \n",
    "    return df\n",
    "\n"
   ]
  },
  {
   "cell_type": "markdown",
   "metadata": {},
   "source": [
    "<a href=\"#top\">Top</a>\n",
    "<hr style=\"height:2px;\">"
   ]
  },
  {
   "cell_type": "markdown",
   "metadata": {},
   "source": [
    "<a name=\"parameterdict\"></a>\n",
    "## Dictionaries of Parameters\n",
    "\n",
    "When we left off last time, we had created dictionaries that stored line colors and plot properties in a key value pair. To further simplify things, we can actually pass a dictionary of arguements to the plot call. Enter the dictionary of dictionaries. Each key has a value that is a dictionary itself with it's key value pairs being the arguements to each plot call. Notice that different variables can have different arguements!"
   ]
  },
  {
   "cell_type": "code",
   "execution_count": null,
   "metadata": {},
   "outputs": [],
   "source": [
    "# Read in some data\n",
    "df = read_buoy_data('41056.txt')"
   ]
  },
  {
   "cell_type": "code",
   "execution_count": null,
   "metadata": {},
   "outputs": [],
   "source": [
    "# Dictionary of plotting parameters by variable name\n",
    "styles = {'wind_speed': dict(color='tab:orange'),\n",
    "          'wind_gust': dict(color='tab:olive', linestyle='None', marker='o', markersize=2),\n",
    "          'pressure': dict(color='black')}\n",
    "\n",
    "plot_variables = [['wind_speed', 'wind_gust'], ['pressure']]"
   ]
  },
  {
   "cell_type": "code",
   "execution_count": null,
   "metadata": {},
   "outputs": [],
   "source": [
    "fig, axes = plt.subplots(1, len(plot_variables), sharex=True, figsize=(14, 5))\n",
    "\n",
    "for col, var_names in enumerate(plot_variables):\n",
    "    ax = axes[col]\n",
    "    for var_name in var_names:\n",
    "        title, label = format_varname(var_name)\n",
    "        ax.plot(df.time, df[var_name], **styles[var_name])\n",
    "\n",
    "    ax.set_ylabel(title)\n",
    "    ax.set_title('Buoy 41056 {}'.format(title))\n",
    "\n",
    "    ax.grid(True)\n",
    "    ax.set_xlabel('Time')\n",
    "    ax.xaxis.set_major_formatter(DateFormatter('%m/%d'))\n",
    "    ax.xaxis.set_major_locator(DayLocator())"
   ]
  },
  {
   "cell_type": "markdown",
   "metadata": {},
   "source": [
    "<a href=\"#top\">Top</a>\n",
    "<hr style=\"height:2px;\">"
   ]
  },
  {
   "cell_type": "markdown",
   "metadata": {},
   "source": [
    "<a name=\"multipledict\"></a>\n",
    "## Multiple Dictionaries\n",
    "\n",
    "We can even use multiple dictionaries to define styles for types of observations and then specific observation properties such as levels, sources, etc. One common use case of this would be plotting all temperature data as red, but with different linestyles for an isobaric level and the surface. "
   ]
  },
  {
   "cell_type": "code",
   "execution_count": null,
   "metadata": {},
   "outputs": [],
   "source": [
    "type_styles = {'Temperature': dict(color='red', marker='o'),\n",
    "               'Relative humidity': dict(color='green', marker='s')}\n",
    "\n",
    "level_styles = {'isobaric': dict(linestyle='-', linewidth=2),\n",
    "                'surface': dict(linestyle=':', linewidth=3)}"
   ]
  },
  {
   "cell_type": "code",
   "execution_count": null,
   "metadata": {},
   "outputs": [],
   "source": [
    "my_style = type_styles['Temperature']\n",
    "print(my_style)"
   ]
  },
  {
   "cell_type": "code",
   "execution_count": null,
   "metadata": {},
   "outputs": [],
   "source": [
    "my_style.update(level_styles['isobaric'])\n",
    "print(my_style)"
   ]
  },
  {
   "cell_type": "markdown",
   "metadata": {},
   "source": [
    "If we look back at the original entry in `type_styles` we see it was updated too! That may not be the expected or even the desired behavior. "
   ]
  },
  {
   "cell_type": "code",
   "execution_count": null,
   "metadata": {},
   "outputs": [],
   "source": [
    "type_styles['Temperature']"
   ]
  },
  {
   "cell_type": "markdown",
   "metadata": {},
   "source": [
    "We can use the `copy` method to make a copy of the element and avoid update the original."
   ]
  },
  {
   "cell_type": "code",
   "execution_count": null,
   "metadata": {},
   "outputs": [],
   "source": [
    "type_styles = {'Temperature': dict(color='red', marker='o'),\n",
    "               'Relative humidity': dict(color='green', marker='s')}\n",
    "\n",
    "level_styles = {'isobaric': dict(linestyle='-', linewidth=2),\n",
    "                'surface': dict(linestyle=':', linewidth=3)}\n",
    "\n",
    "my_style = type_styles['Temperature'].copy()  # Avoids altering the original entry\n",
    "my_style.update(level_styles['isobaric'])\n",
    "print(my_style)"
   ]
  },
  {
   "cell_type": "code",
   "execution_count": null,
   "metadata": {},
   "outputs": [],
   "source": [
    "type_styles['Temperature']"
   ]
  },
  {
   "cell_type": "markdown",
   "metadata": {},
   "source": [
    "Since we don't have data from different levels, we'll work with wind measurements and pressure data. Our <code>format_varname</code> function returns a title and full variable name label."
   ]
  },
  {
   "cell_type": "markdown",
   "metadata": {},
   "source": [
    "<div class=\"alert alert-success\">\n",
    "    <b>EXERCISE</b>:\n",
    "     <ul>\n",
    "    <li>Create a type styles dictionary of dictionaries with the variable title as the key that has styles for `Wind` and `Pressure` data. The pressure should be a solid black line. Wind should be a solid line.</li>\n",
    "    <li>Create a variable style dictionary of dictionaries with the variable name as the key that specifies an orange line of width 2 for wind speed, olive line of width 0.5 for gusts, and no additional information for pressure.</li>\n",
    "    <li>Update the plotting code below to use the new type and variable styles dictionary.\n",
    "    </ul>\n",
    "</div>"
   ]
  },
  {
   "cell_type": "code",
   "execution_count": null,
   "metadata": {},
   "outputs": [],
   "source": [
    "# Your code goes here (modify the skeleton below)\n",
    "type_styles = {}\n",
    "\n",
    "variable_styles = {}\n",
    "\n",
    "fig, axes = plt.subplots(1, len(plot_variables), sharex=True, figsize=(14, 5))\n",
    "\n",
    "for col, var_names in enumerate(plot_variables):\n",
    "    ax = axes[col]\n",
    "    for var_name in var_names:\n",
    "        title, label = format_varname(var_name)\n",
    "        ax.plot(df.time, df[var_name], **styles[var_name])\n",
    "\n",
    "    ax.set_ylabel(title)\n",
    "    ax.set_title('Buoy 41056 {}'.format(title))\n",
    "\n",
    "    ax.grid(True)\n",
    "    ax.set_xlabel('Time')\n",
    "    ax.xaxis.set_major_formatter(DateFormatter('%m/%d'))\n",
    "    ax.xaxis.set_major_locator(DayLocator())"
   ]
  },
  {
   "cell_type": "code",
   "execution_count": null,
   "metadata": {},
   "outputs": [],
   "source": [
    "# %load solutions/timeseries_dictionaryupdate.py"
   ]
  },
  {
   "cell_type": "markdown",
   "metadata": {},
   "source": [
    "<a href=\"#top\">Top</a>\n",
    "<hr style=\"height:2px;\">"
   ]
  },
  {
   "cell_type": "markdown",
   "metadata": {},
   "source": [
    "<a name=\"functions\"></a>\n",
    "## Function Application\n",
    "\n",
    "There are times where we might want to apply a certain amount of pre-processing to the data before they are plotted. Maybe we want to do a unit conversion, scale the data, or filter it. We can create a dictionary in which functions are the values and variable names are the keys.\n",
    "\n",
    "For example, let's define a function that uses the running median to filter the wind data (effectively a low-pass). We'll also make a do nothing function for data we don't want to alter."
   ]
  },
  {
   "cell_type": "code",
   "execution_count": null,
   "metadata": {},
   "outputs": [],
   "source": [
    "from scipy.signal import medfilt\n",
    "\n",
    "def filter_wind(a):\n",
    "    return medfilt(a, 7)\n",
    "\n",
    "def donothing(a):\n",
    "    return a"
   ]
  },
  {
   "cell_type": "code",
   "execution_count": null,
   "metadata": {},
   "outputs": [],
   "source": [
    "converters = {'Wind': filter_wind, 'Pressure': donothing}"
   ]
  },
  {
   "cell_type": "code",
   "execution_count": null,
   "metadata": {},
   "outputs": [],
   "source": [
    "type_styles = {'Pressure': dict(color='black'),\n",
    "               'Wind': dict(linestyle='-')}\n",
    "\n",
    "variable_styles = {'pressure': dict(),\n",
    "                   'wind_speed': dict(color='tab:orange', linewidth=2),\n",
    "                   'wind_gust': dict(color='tab:olive', linewidth=0.5)}\n",
    "\n",
    "fig, axes = plt.subplots(1, len(plot_variables), sharex=True, figsize=(14, 5))\n",
    "\n",
    "for col, var_names in enumerate(plot_variables):\n",
    "    ax = axes[col]\n",
    "    for var_name in var_names:\n",
    "        title, label = format_varname(var_name)\n",
    "        \n",
    "        # Apply our pre-processing\n",
    "        var_data = converters[title](df[var_name])\n",
    "        \n",
    "        style = type_styles[title].copy()  # So the next line doesn't change the original\n",
    "        style.update(variable_styles[var_name])\n",
    "        ax.plot(df.time, var_data, **style)\n",
    "\n",
    "    ax.set_ylabel(title)\n",
    "    ax.set_title('Buoy 41056 {}'.format(title))\n",
    "\n",
    "    ax.grid(True)\n",
    "    ax.set_xlabel('Time')\n",
    "    ax.xaxis.set_major_formatter(DateFormatter('%m/%d'))\n",
    "    ax.xaxis.set_major_locator(DayLocator())"
   ]
  },
  {
   "cell_type": "markdown",
   "metadata": {},
   "source": [
    "<div class=\"alert alert-success\">\n",
    "    <b>EXERCISE</b>:\n",
    "     <ul>\n",
    "    <li>Write a function to convert the pressure data to bars. (**Hint**: 1 bar = 100000 Pa)</li>\n",
    "    <li>Apply your converter in the code below and replot the data.</li>\n",
    "    </ul>\n",
    "</div>"
   ]
  },
  {
   "cell_type": "code",
   "execution_count": null,
   "metadata": {},
   "outputs": [],
   "source": [
    "# Your code goes here (modify the code below)\n",
    "\n",
    "converters = {'Wind': filter_wind, 'Pressure': donothing}\n",
    "\n",
    "type_styles = {'Pressure': dict(color='black'),\n",
    "               'Wind': dict(linestyle='-')}\n",
    "\n",
    "variable_styles = {'pressure': dict(),\n",
    "                   'wind_speed': dict(color='tab:orange', linewidth=2),\n",
    "                   'wind_gust': dict(color='tab:olive', linewidth=0.5)}\n",
    "\n",
    "fig, axes = plt.subplots(1, len(plot_variables), sharex=True, figsize=(14, 5))\n",
    "\n",
    "for col, var_names in enumerate(plot_variables):\n",
    "    ax = axes[col]\n",
    "    for var_name in var_names:\n",
    "        title, label = format_varname(var_name)\n",
    "        \n",
    "        # Apply our pre-processing\n",
    "        var_data = converters[title](df[var_name])\n",
    "        \n",
    "        style = type_styles[title].copy()  # So the next line doesn't change the original\n",
    "        style.update(variable_styles[var_name])\n",
    "        ax.plot(df.time, var_data, **style)\n",
    "\n",
    "    ax.set_ylabel(title)\n",
    "    ax.set_title('Buoy 41056 {}'.format(title))\n",
    "\n",
    "    ax.grid(True)\n",
    "    ax.set_xlabel('Time')\n",
    "    ax.xaxis.set_major_formatter(DateFormatter('%m/%d'))\n",
    "    ax.xaxis.set_major_locator(DayLocator())"
   ]
  },
  {
   "cell_type": "code",
   "execution_count": null,
   "metadata": {},
   "outputs": [],
   "source": [
    "# %load solutions/timeseries_pressureconversion.py"
   ]
  },
  {
   "cell_type": "markdown",
   "metadata": {},
   "source": [
    "<div class=\"alert alert-info\">\n",
    "    <b>REMINDER</b>:\n",
    "    You should be using the unit library to convert between various physical units, this is simply for demonstration purposes!\n",
    "</div>"
   ]
  },
  {
   "cell_type": "markdown",
   "metadata": {},
   "source": [
    "<a href=\"#top\">Top</a>\n",
    "<hr style=\"height:2px;\">"
   ]
  },
  {
   "cell_type": "markdown",
   "metadata": {},
   "source": [
    "<a name=\"glob\"></a>\n",
    "## Glob and Multiple Files\n",
    "\n",
    "Back in the [Plotting with Python](Plotting with Python.ipynb) notebook we provided a list of files that we wanted to plot and iterated over it. What if we wanted to plot all `.txt`. files in the current directory? We can do it without needed to list each one using `glob`!\n",
    "\n",
    "Let's start by getting the list of text files in this directory:"
   ]
  },
  {
   "cell_type": "markdown",
   "metadata": {},
   "source": [
    "We can now use the techniques we've seen before to make a plot of all of the files in a single figure."
   ]
  },
  {
   "cell_type": "code",
   "execution_count": null,
   "metadata": {},
   "outputs": [],
   "source": [
    "type_styles = {'Pressure': dict(color='black'),\n",
    "               'Wind': dict(linestyle='-')}\n",
    "\n",
    "variable_styles = {'pressure': dict(),\n",
    "                   'wind_speed': dict(color='tab:orange', linewidth=2),\n",
    "                   'wind_gust': dict(color='tab:olive', linewidth=0.5)}\n",
    "\n",
    "fig, axes = plt.subplots(len(data_files), len(plot_variables), sharex=True, figsize=(14, 10))\n",
    "\n",
    "for row, fname in enumerate(data_files):\n",
    "    df = read_buoy_data(fname)\n",
    "    for col, var_names in enumerate(plot_variables):\n",
    "        ax = axes[row, col]\n",
    "        for var_name in var_names:\n",
    "            title, label = format_varname(var_name)\n",
    "            style = type_styles[title].copy()  # So the next line doesn't change the original\n",
    "            style.update(variable_styles[var_name])\n",
    "            ax.plot(df.time, df[var_name], **style)\n",
    "\n",
    "        ax.set_ylabel(title)\n",
    "        ax.set_title('Buoy 41056 {}'.format(title))\n",
    "\n",
    "        ax.grid(True)\n",
    "        ax.set_xlabel('Time')\n",
    "        ax.xaxis.set_major_formatter(DateFormatter('%m/%d'))\n",
    "        ax.xaxis.set_major_locator(DayLocator())"
   ]
  },
  {
   "cell_type": "markdown",
   "metadata": {},
   "source": [
    "<a href=\"#top\">Top</a>\n",
    "<hr style=\"height:2px;\">"
   ]
  },
  {
   "cell_type": "markdown",
   "metadata": {},
   "source": [
    "<div class=\"alert alert-success\">\n",
    "    <b>EXERCISE</b>: As a final exercise, use a dictionary to allow all of the plots to share common y axis limits based on the variable title.\n",
    "</div>"
   ]
  },
  {
   "cell_type": "code",
   "execution_count": null,
   "metadata": {},
   "outputs": [],
   "source": [
    "# Your code goes here\n"
   ]
  },
  {
   "cell_type": "code",
   "execution_count": null,
   "metadata": {},
   "outputs": [],
   "source": [
    "# %load solutions/timeseries_bounds.py"
   ]
  },
  {
   "cell_type": "markdown",
   "metadata": {},
   "source": [
    "<a href=\"#top\">Top</a>\n",
    "<hr style=\"height:2px;\">"
   ]
  }
 ],
 "metadata": {
  "kernelspec": {
   "display_name": "Python 3",
   "language": "python",
   "name": "python3"
  },
  "language_info": {
   "codemirror_mode": {
    "name": "ipython",
    "version": 3
   },
   "file_extension": ".py",
   "mimetype": "text/x-python",
   "name": "python",
   "nbconvert_exporter": "python",
   "pygments_lexer": "ipython3",
   "version": "3.5.4"
  }
 },
 "nbformat": 4,
 "nbformat_minor": 2
}
