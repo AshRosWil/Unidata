{
 "cells": [
  {
   "cell_type": "markdown",
   "metadata": {},
   "source": [
    "<div style=\"width:1000 px\">\n",
    "\n",
    "<div style=\"float:right; width:98 px; height:98px;\">\n",
    "<img src=\"https://raw.githubusercontent.com/Unidata/MetPy/master/metpy/plots/_static/unidata_150x150.png\" alt=\"Unidata Logo\" style=\"height: 98px;\">\n",
    "</div>\n",
    "\n",
    "<h1>Basic Time Series Plotting with netCDF Data</h1>\n",
    "<h2>Exercises</h2>\n",
    "<h3>Unidata Python Workshop</h3>\n",
    "\n",
    "<div style=\"clear:both\"></div>\n",
    "</div>\n",
    "\n",
    "<hr style=\"height:2px;\">"
   ]
  },
  {
   "cell_type": "markdown",
   "metadata": {},
   "source": [
    "## Exercise1\n",
    "\n",
    "Now your turn: There's another data file in `../../data/` called `model-nam.nc`. The goal is to read in the data from a particular day, 19 July 2015, for any of the data variables in the file. This will require applying some of the numpy tricks we've learned as well as what we've learned so far about netCDF files. Be sure to make use of the fact that you can print and interrogate the file and variables."
   ]
  },
  {
   "cell_type": "code",
   "execution_count": 14,
   "metadata": {
    "collapsed": true
   },
   "outputs": [],
   "source": [
    "# Open the file\n",
    "\n",
    "# Grab the `time` variable from the file and convert to datetimes\n",
    "\n",
    "# Grab one of the other data variables from the file\n",
    "\n",
    "# Use the information from time to subset the variable\n",
    "\n",
    "# Bonus points: Use the boolean arrays to index the variable rather than\n",
    "# indices for the time dimension\n",
    "# Hint: You can compare the boolean array against a dateime object\n",
    "# Other hint: You will need to squeeze() the values to a 1D array."
   ]
  },
  {
   "cell_type": "markdown",
   "metadata": {},
   "source": [
    "<hr style=\"height:2px;\">"
   ]
  },
  {
   "cell_type": "markdown",
   "metadata": {},
   "source": [
    "## Exercise 2\n",
    "It's your turn again: read in the `Temperature_surface` and `Temperature_height_above_ground` variables from the `model-nam.nc` dataset. Plot those together on a single axes. Make sure your plot is:\n",
    "\n",
    "- Properly labelled\n",
    "- Has line styles of your choosing\n",
    "- Has a legend for the traces\n",
    "\n",
    "Bonus points: Make the legend entry for `Temperature_height_above_ground` show the actual height for the forecast. Don't hard-code this, but dynamically do it based on the netCDF file.\n",
    "\n",
    "Resources:\n",
    "\n",
    "- Matplotlib style\n",
    "- Matplotlib gallery"
   ]
  },
  {
   "cell_type": "code",
   "execution_count": 20,
   "metadata": {
    "collapsed": true
   },
   "outputs": [],
   "source": [
    "# Read in the dataset\n",
    "\n",
    "# Pull out the variables and process--this includes calling num2date on the times\n",
    "\n",
    "# Create your figure and axes\n",
    "\n",
    "# Plot the data\n",
    "\n",
    "# Customize: grid, legend, labels, title, etc."
   ]
  },
  {
   "cell_type": "markdown",
   "metadata": {},
   "source": [
    "## Exercise 3\n",
    "\n",
    "Now, how can we use Python looping and zip to avoid the duplicated and inflexible code?"
   ]
  },
  {
   "cell_type": "code",
   "execution_count": 3,
   "metadata": {},
   "outputs": [],
   "source": [
    "# Imports here\n",
    "\n",
    "# Read in the data\n",
    "\n",
    "# # ShareX means that the axes will share range, ticking, etc. for the x axis\n",
    "# fig, (ax1, ax2) = plt.subplots(1, 2, sharex=True, figsize=(18, 6))\n",
    "\n",
    "# # Panel 1\n",
    "# ax1.plot(times, temps)\n",
    "# ax1.set_xlabel('Time')\n",
    "# ax1.set_ylabel('Temperature')\n",
    "# ax1.set_title('Temperature Forecast')\n",
    "# ax1.legend(loc='upper left')\n",
    "# ax1.grid(True)\n",
    "# ax1.grid(axis='x', linestyle='--', color='#666699', linewidth=1.0)\n",
    "# ax1.grid(axis='x', which='minor')\n",
    "\n",
    "# # Not repeated only by sharing x\n",
    "# ax1.xaxis.set_major_formatter(DateFormatter('%m/%d'))\n",
    "# ax1.xaxis.set_major_locator(DayLocator())\n",
    "\n",
    "# # Panel 2\n",
    "# ax2.plot(times, temps)\n",
    "# ax2.set_xlabel('Time')\n",
    "# ax2.set_ylabel('Relative Humidity')\n",
    "# ax2.set_title('Humidity Forecast')\n",
    "# ax2.legend(loc='upper left')\n",
    "# ax2.grid(True)\n",
    "# ax2.grid(axis='x', linestyle='--', color='#666699', linewidth=1.0)\n",
    "# ax2.grid(axis='x', which='minor')"
   ]
  },
  {
   "cell_type": "markdown",
   "metadata": {},
   "source": [
    "## Exercise 4\n",
    "\n",
    "Now how can we use Python dictionaries, functions, and string manipulation to improve the previous plot?"
   ]
  },
  {
   "cell_type": "code",
   "execution_count": null,
   "metadata": {
    "collapsed": true
   },
   "outputs": [],
   "source": [
    "# variables = ['Temperature_isobaric', 'Relative_humidity_isobaric']\n",
    "# colors = {'Temperature_isobaric': 'tab:red', 'Relative_humidity_isobaric': 'tab:green'}\n",
    "\n",
    "# fig, axes = plt.subplots(1, len(variables), sharex=True, figsize=(18, 6))\n",
    "\n",
    "# time_var = gfs_data.variables['time']\n",
    "# times = num2date(time_var[0], time_var.units)\n",
    "\n",
    "# for ax, var_name in zip(axes, variables):\n",
    "#     var_data = gfs_data.variables[var_name][0]\n",
    "\n",
    "#     ax.plot(times, var_data)\n",
    "#     ax.set_ylabel(var_name)\n",
    "#     ax.set_title('{0} Forecast'.format(var_name))\n",
    "#     ax.grid(True)\n",
    "#     ax.set_xlabel('Forecast Time')\n",
    "#     ax.xaxis.set_major_formatter(DateFormatter('%m/%d'))\n",
    "#     ax.xaxis.set_major_locator(DayLocator())"
   ]
  }
 ],
 "metadata": {
  "kernelspec": {
   "display_name": "Python 3",
   "language": "python",
   "name": "python3"
  },
  "language_info": {
   "codemirror_mode": {
    "name": "ipython",
    "version": 3
   },
   "file_extension": ".py",
   "mimetype": "text/x-python",
   "name": "python",
   "nbconvert_exporter": "python",
   "pygments_lexer": "ipython3",
   "version": "3.6.2"
  }
 },
 "nbformat": 4,
 "nbformat_minor": 2
}
