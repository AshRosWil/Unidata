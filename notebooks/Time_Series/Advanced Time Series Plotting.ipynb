{
 "cells": [
  {
   "cell_type": "markdown",
   "metadata": {},
   "source": [
    "<a name=\"top\"></a>\n",
    "<div style=\"width:1000 px\">\n",
    "\n",
    "<div style=\"float:right; width:98 px; height:98px;\">\n",
    "<img src=\"https://raw.githubusercontent.com/Unidata/MetPy/master/metpy/plots/_static/unidata_150x150.png\" alt=\"Unidata Logo\" style=\"height: 98px;\">\n",
    "</div>\n",
    "\n",
    "<h1>Advanced Time Series Plotting</h1>\n",
    "<h3>Unidata Python Workshop</h3>\n",
    "\n",
    "<div style=\"clear:both\"></div>\n",
    "</div>\n",
    "\n",
    "<hr style=\"height:2px;\">\n",
    "\n",
    "<div style=\"float:right; width:250 px\"><img src=\"http://matplotlib.org/_images/date_demo.png\" alt=\"METAR\" style=\"height: 300px;\"></div>\n",
    "\n",
    "\n",
    "## Overview:\n",
    "\n",
    "* **Teaching:** 45 minutes\n",
    "* **Exercises:** 45 minutes\n",
    "\n",
    "### Questions\n",
    "1. How can we improve upon the versatility of the plotter developed in the basic time series notebook?\n",
    "1. How can we iterate over all data file in a directory?\n",
    "1. How can data processing functions be applied on a variable-by-variable basis?\n",
    "\n",
    "### Objectives\n",
    "1. <a href=\"#basicfunctionality\">On Last Week's Episode of Time Series Analysis</a>\n",
    "1. <a href=\"#parameterdict\">Dictionaries of Parameters</a>\n",
    "1. <a href=\"#multipledict\">Multiple Dictionaries</a>\n",
    "1. <a href=\"#functions\">Function Application</a>\n",
    "1. <a href=\"#glob\">Glob and Multiple Files</a>"
   ]
  },
  {
   "cell_type": "markdown",
   "metadata": {},
   "source": [
    "<a name=\"basicfunctionality\"></a>\n",
    "## On Last Week's Episode of Time Series Analysis"
   ]
  },
  {
   "cell_type": "code",
   "execution_count": 1,
   "metadata": {},
   "outputs": [],
   "source": [
    "from datetime import datetime\n",
    "import pandas as pd\n",
    "import matplotlib.pyplot as plt\n",
    "from matplotlib.dates import DateFormatter, DayLocator\n",
    "\n",
    "%matplotlib inline"
   ]
  },
  {
   "cell_type": "code",
   "execution_count": null,
   "metadata": {},
   "outputs": [],
   "source": [
    "\n",
    "\n"
   ]
  },
  {
   "cell_type": "code",
   "execution_count": 2,
   "metadata": {},
   "outputs": [],
   "source": [
    "def format_varname(varname):\n",
    "    \"\"\"Format the variable name nicely for titles and labels.\"\"\"\n",
    "    parts = varname.split('_')\n",
    "    title = parts[0].title()\n",
    "    label = varname.replace('_', ' ').title()\n",
    "    return title, label"
   ]
  },
  {
   "cell_type": "code",
   "execution_count": 3,
   "metadata": {},
   "outputs": [],
   "source": [
    "def read_buoy_data(fname):\n",
    "    \"\"\"Handy function to read and cleanup the buoy data files.\"\"\"\n",
    "    \n",
    "    col_names = ['year', 'month', 'day', 'hour', 'minute', 'wind_direction', 'wind_speed',\n",
    "             'wind_gust', 'wave_height', 'dominant_wave_period', 'average_wave_period',\n",
    "             'dominant_wave_direction', 'pressure', 'temperature', 'water_temperature', 'dewpoint',\n",
    "             'visibility', '3hr_pressure_tendency', 'water_level_above_mean']\n",
    "    \n",
    "    df = pd.read_fwf(fname, skiprows=2, na_values='MM', names=col_names)\n",
    "    df['time'] = pd.to_datetime(df[['year', 'month', 'day', 'hour', 'minute']])\n",
    "    df.drop(['year', 'month', 'day', 'hour', 'minute'], axis='columns', inplace=True)\n",
    "    idx = (df.time >= datetime(2017, 9, 18)) & (df.time <= datetime(2017, 9, 23))\n",
    "    df = df[idx]\n",
    "    df.reset_index(drop=True, inplace=True)\n",
    "    return df"
   ]
  },
  {
   "cell_type": "code",
   "execution_count": null,
   "metadata": {},
   "outputs": [],
   "source": []
  },
  {
   "cell_type": "code",
   "execution_count": null,
   "metadata": {},
   "outputs": [],
   "source": []
  },
  {
   "cell_type": "markdown",
   "metadata": {},
   "source": [
    "<a href=\"#top\">Top</a>\n",
    "<hr style=\"height:2px;\">"
   ]
  },
  {
   "cell_type": "markdown",
   "metadata": {},
   "source": [
    "<a name=\"parameterdict\"></a>\n",
    "## Dictionaries of Parameters"
   ]
  },
  {
   "cell_type": "code",
   "execution_count": 4,
   "metadata": {},
   "outputs": [],
   "source": [
    "# Read in some data\n",
    "df = read_buoy_data('41056.txt')"
   ]
  },
  {
   "cell_type": "code",
   "execution_count": null,
   "metadata": {},
   "outputs": [],
   "source": [
    "# Dictionary of plotting parameters by variable name\n",
    "styles = {'wind_speed': dict(color='tab:orange', linestyle='-'),\n",
    "          'wind_gust': dict(color='tab:olive', linestyle='None', marker='o'),\n",
    "          'pressure':}\n",
    "\n",
    "varnames = ['Temperature_isobaric', 'Temperature_surface', 'Relative_humidity_isobaric']"
   ]
  },
  {
   "cell_type": "code",
   "execution_count": null,
   "metadata": {},
   "outputs": [],
   "source": []
  },
  {
   "cell_type": "code",
   "execution_count": null,
   "metadata": {},
   "outputs": [],
   "source": []
  },
  {
   "cell_type": "code",
   "execution_count": null,
   "metadata": {},
   "outputs": [],
   "source": []
  },
  {
   "cell_type": "code",
   "execution_count": null,
   "metadata": {},
   "outputs": [],
   "source": []
  },
  {
   "cell_type": "code",
   "execution_count": null,
   "metadata": {},
   "outputs": [],
   "source": []
  },
  {
   "cell_type": "code",
   "execution_count": null,
   "metadata": {},
   "outputs": [],
   "source": []
  },
  {
   "cell_type": "code",
   "execution_count": null,
   "metadata": {},
   "outputs": [],
   "source": []
  },
  {
   "cell_type": "code",
   "execution_count": null,
   "metadata": {},
   "outputs": [],
   "source": []
  },
  {
   "cell_type": "code",
   "execution_count": null,
   "metadata": {},
   "outputs": [],
   "source": []
  },
  {
   "cell_type": "code",
   "execution_count": null,
   "metadata": {},
   "outputs": [],
   "source": []
  },
  {
   "cell_type": "code",
   "execution_count": null,
   "metadata": {},
   "outputs": [],
   "source": []
  },
  {
   "cell_type": "code",
   "execution_count": null,
   "metadata": {},
   "outputs": [],
   "source": []
  },
  {
   "cell_type": "markdown",
   "metadata": {},
   "source": [
    "<a href=\"#top\">Top</a>\n",
    "<hr style=\"height:2px;\">"
   ]
  },
  {
   "cell_type": "markdown",
   "metadata": {},
   "source": [
    "<a name=\"multipledict\"></a>\n",
    "## Multiple Dictionaries"
   ]
  },
  {
   "cell_type": "code",
   "execution_count": null,
   "metadata": {},
   "outputs": [],
   "source": []
  },
  {
   "cell_type": "markdown",
   "metadata": {},
   "source": [
    "<a href=\"#top\">Top</a>\n",
    "<hr style=\"height:2px;\">"
   ]
  },
  {
   "cell_type": "markdown",
   "metadata": {},
   "source": [
    "<a name=\"functions\"></a>\n",
    "## Function Application"
   ]
  },
  {
   "cell_type": "code",
   "execution_count": null,
   "metadata": {},
   "outputs": [],
   "source": []
  },
  {
   "cell_type": "markdown",
   "metadata": {},
   "source": [
    "<a href=\"#top\">Top</a>\n",
    "<hr style=\"height:2px;\">"
   ]
  },
  {
   "cell_type": "markdown",
   "metadata": {},
   "source": [
    "<a name=\"glob\"></a>\n",
    "## Glob and Multiple Files"
   ]
  },
  {
   "cell_type": "code",
   "execution_count": null,
   "metadata": {},
   "outputs": [],
   "source": []
  },
  {
   "cell_type": "markdown",
   "metadata": {},
   "source": [
    "<a href=\"#top\">Top</a>\n",
    "<hr style=\"height:2px;\">"
   ]
  },
  {
   "cell_type": "code",
   "execution_count": null,
   "metadata": {},
   "outputs": [],
   "source": []
  },
  {
   "cell_type": "code",
   "execution_count": null,
   "metadata": {},
   "outputs": [],
   "source": [
    "# Import some tools from matplotlib to tinker with the location and format of dates\n",
    "from matplotlib.dates import DateFormatter, DayLocator, HourLocator\n",
    "\n",
    "# Same as before\n",
    "fig, ax = plt.subplots(figsize=(10, 6))\n",
    "ax.plot(times, temps, color='tab:red', label='Temperature (surface)')\n",
    "ax.plot(times, temps_iso, color='tab:red', linestyle='--',\n",
    "        label='Temperature (isobaric level)')\n",
    "ax.set_xlabel('Time')\n",
    "ax.set_ylabel('Temperature')\n",
    "ax.set_title('Temperature Forecast')\n",
    "ax.grid(True)\n",
    "ax.legend(loc='upper left')\n",
    "\n",
    "# Set the x-axis to do major ticks on the days and label them like 'Jul 20'\n",
    "ax.xaxis.set_major_locator(DayLocator())\n",
    "ax.xaxis.set_major_formatter(DateFormatter('%b %d'))\n",
    "\n",
    "# Set up minor ticks with the hours 6, 12, 18 written as '18Z'\n",
    "ax.xaxis.set_minor_locator(HourLocator(range(6, 24, 6)))\n",
    "ax.xaxis.set_minor_formatter(DateFormatter('%HZ'))\n",
    "\n",
    "# Highlight the major x-axis grid lines with a thicker, dashed line\n",
    "ax.grid(axis='x', linestyle='--', color='#666699', linewidth=1.0)\n",
    "ax.grid(axis='x', which='minor')"
   ]
  },
  {
   "cell_type": "code",
   "execution_count": null,
   "metadata": {},
   "outputs": [],
   "source": [
    "\n",
    "# This is just to keep the different cells in the notebook from rehashing this\n",
    "def set_defaults(ax):\n",
    "    # Set the x-axis to do major ticks on the days and label them like 'Jul 20'\n",
    "    from matplotlib.dates import DateFormatter, DayLocator, HourLocator\n",
    "    ax.xaxis.set_major_locator(DayLocator())\n",
    "    ax.xaxis.set_major_formatter(DateFormatter('%b %d'))\n",
    "​\n",
    "    # Set up minor ticks with the hours 6, 12, 18 written as '18Z'\n",
    "    ax.xaxis.set_minor_locator(HourLocator(range(6, 24, 6)))\n",
    "    ax.xaxis.set_minor_formatter(DateFormatter('%HZ'))\n",
    "​\n",
    "    # Highlight the major x-axis grid lines with a thicker, dashed line\n",
    "    ax.grid(axis='x', linestyle='--', color='#666699', linewidth=1.0)\n",
    "    ax.grid(which='minor', axis='x')\n",
    "    ax.grid(axis='y')\n",
    "    \n",
    "    # Normal x-axis label\n",
    "    ax.set_xlabel('Forecast time (UTC)', fontdict=dict(size=16))"
   ]
  },
  {
   "cell_type": "code",
   "execution_count": null,
   "metadata": {},
   "outputs": [],
   "source": [
    "styles = {'Temperature': dict(color='red', marker='o', linestyle='-', linewidth=2),\n",
    "          'Relative humidity': dict(color='green', marker='s')}\n",
    "\n",
    "varnames = ['Temperature_isobaric', 'Temperature_surface', 'Relative_humidity_isobaric']\n",
    "\n",
    "fig, axes = plt.subplots(1, 3, figsize=(18, 6))\n",
    "for ax, varname in zip(axes, varnames):\n",
    "    # Grab name, and use it to get styles to pass to plot\n",
    "    name = make_plot_name(varname)\n",
    "    ax.plot(times, gfs_data.variables[varname][0], **styles[name])\n",
    "\n",
    "    ax.set_ylabel(name.title(), fontdict=dict(size=16))\n",
    "    ax.set_title(varname)\n",
    "    set_defaults(ax)"
   ]
  },
  {
   "cell_type": "code",
   "execution_count": null,
   "metadata": {},
   "outputs": [],
   "source": [
    "# Take Relative_humidity_isobaric and return ('Relative humidity', 'isobaric')\n",
    "def split_varname(varname):\n",
    "    parts = varname.split('_')\n",
    "    name = ' '.join(parts[:-1])\n",
    "    level = parts[-1]\n",
    "    return name, level\n",
    "\n",
    "type_styles = {'Temperature': dict(color='red', marker='o'),\n",
    "               'Relative humidity': dict(color='green', marker='s')}\n",
    "\n",
    "level_styles = {'isobaric': dict(linestyle='-', linewidth=2),\n",
    "                'surface': dict(linestyle=':', linewidth=3)}\n",
    "\n",
    "# Keeping converters from above\n",
    "fig, axes = plt.subplots(1, 2, figsize=(18, 6))\n",
    "\n",
    "# Looping over each subplot\n",
    "for ax, varnames in zip(axes, (['Temperature_isobaric', 'Temperature_surface'], ['Relative_humidity_isobaric'])):\n",
    "    # Loop over each variable in a subplot\n",
    "    for varname in varnames:\n",
    "        # Get name and level now\n",
    "        name, level = split_varname(varname)\n",
    "\n",
    "        vardata = gfs_data.variables[varname][0]\n",
    "\n",
    "        # Combine styles and plot, passing in level as the line label for the legend\n",
    "        styles = type_styles[name].copy()  # so next line doesn't change original\n",
    "        styles.update(level_styles[level])\n",
    "        ax.plot(times, vardata, label=level, **styles)\n",
    "\n",
    "    # These only need to be done once per subplot, not per-variable plotted\n",
    "    ax.set_ylabel(name.title(), fontdict=dict(size=16))\n",
    "    set_defaults(ax)\n",
    "    ax.legend(loc='best')"
   ]
  },
  {
   "cell_type": "code",
   "execution_count": null,
   "metadata": {},
   "outputs": [],
   "source": [
    "# Create empty dict where we'll store stuff\n",
    "import glob\n",
    "import os.path\n",
    "\n",
    "model_data = dict()\n",
    "for file in glob.glob('../../data/model-*.nc'):\n",
    "    # Grab filename from pull path, then split off file extension\n",
    "    basefile = os.path.splitext(os.path.basename(file))[0]\n",
    "\n",
    "    # Grab part to right of '-' and make upper case\n",
    "    modelname = basefile.split('-')[1].upper()\n",
    "    print(modelname)\n",
    "    \n",
    "    # Open netcdf file and store under the model name\n",
    "    model_data[modelname.upper()] = Dataset(file, 'r')"
   ]
  },
  {
   "cell_type": "code",
   "execution_count": null,
   "metadata": {},
   "outputs": [],
   "source": [
    "# Unify plot bounds\n",
    "bounds = {'Temperature': (50, 120),\n",
    "          'Relative humidity': (0, 100)}\n",
    "\n",
    "def K2F(K):\n",
    "    return 1.8 * (K - 273.15) + 32\n",
    "\n",
    "def donothing(x):\n",
    "    return x\n",
    "\n",
    "converters = {'Temperature': K2F, 'Relative humidity': donothing}\n",
    "\n",
    "# Keeping styles from above\n",
    "fig, axes = plt.subplots(2, 2, figsize=(18, 12))\n",
    "for row, model in zip(axes, model_data):\n",
    "    # Need to process each dataset here for their own time variables\n",
    "    data = model_data[model]\n",
    "    time_var = data['time']\n",
    "    time = num2date(time_var[:], time_var.units).squeeze()\n",
    "\n",
    "    # Now loop over each plot in the row\n",
    "    for ax, varnames in zip(row, (['Temperature_isobaric', 'Temperature_surface'], ['Relative_humidity_isobaric'])):\n",
    "        # And each variable in the plot\n",
    "        for varname in varnames:\n",
    "            name, level = split_varname(varname)\n",
    "            var = data.variables[varname]\n",
    "            vardata = converters[name](var[:].squeeze())\n",
    "\n",
    "            # Plotting with combined style\n",
    "            styles = type_styles[name].copy()  # so next line doesn't change original\n",
    "            styles.update(level_styles[level])\n",
    "            ax.plot(time, vardata, label=level, **styles)\n",
    "\n",
    "        ax.set_xlabel('Forecast time (UTC)', fontdict=dict(size=14))\n",
    "        ax.set_ylabel(name.title(), fontdict=dict(size=16))\n",
    "        set_defaults(ax)\n",
    "        ax.legend(loc='best')\n",
    "        ax.set_title(model)\n",
    "        ax.set_ylim(*bounds[name])"
   ]
  },
  {
   "cell_type": "code",
   "execution_count": null,
   "metadata": {},
   "outputs": [],
   "source": []
  },
  {
   "cell_type": "code",
   "execution_count": null,
   "metadata": {},
   "outputs": [],
   "source": []
  },
  {
   "cell_type": "code",
   "execution_count": null,
   "metadata": {},
   "outputs": [],
   "source": []
  }
 ],
 "metadata": {
  "kernelspec": {
   "display_name": "Python 3",
   "language": "python",
   "name": "python3"
  },
  "language_info": {
   "codemirror_mode": {
    "name": "ipython",
    "version": 3
   },
   "file_extension": ".py",
   "mimetype": "text/x-python",
   "name": "python",
   "nbconvert_exporter": "python",
   "pygments_lexer": "ipython3",
   "version": "3.5.4"
  }
 },
 "nbformat": 4,
 "nbformat_minor": 2
}
