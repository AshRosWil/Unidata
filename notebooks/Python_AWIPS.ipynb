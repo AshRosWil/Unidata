{
 "cells": [
  {
   "cell_type": "markdown",
   "metadata": {},
   "source": [
    "# Python AWIPS Data Access Framework\n",
    "\n",
    "AWIPS (formerly AWIPS II or AWIPS2) is a weather forecasting display and analysis package developed by the National Weather Service and Raytheon and released as open source software by Unidata. \n",
    "\n",
    "AWIPS takes a unified approach to data ingest, starting with an LDM client requesting data from Unidata's IDD. Data files recevied by the LDM are decodedn by EDEX (stored as HDF5 and PostgreSQL/PostGIS metadata). In addition to the CAVE Java client, Unidata supports the [python-awips package](http://python-awips.readthedocs.io), a Data Access Framework (DAF) for requesting data from an AWIPS EDEX server. \n",
    "\n",
    "### Install python-awips\n",
    "\n",
    "    pip install python-awips\n",
    "\n",
    "Requirements: **Python >=2.7**, **Shapely >=1.4**\n",
    "\n",
    "### From Github\n",
    "\n",
    "    git clone https://github.com/Unidata/python-awips.git\n",
    "    cd python-awips\n",
    "    python setup.py install\n",
    "\n",
    "### Install on an AWIPS system (CAVE, EDEX)\n",
    "\n",
    "#### Using easy_install\n",
    "\n",
    "* For Unidata AWIPS release **16.2.2+**:\n",
    "\n",
    "        /awips2/python/bin/easy_install pip\n",
    "        /awips2/python/bin/pip install python-awips\n",
    "  \n",
    "* For releases before and up to **16.1.5** you may need to run\n",
    "\n",
    "        yum install awips2-python-setuptools\n",
    "\n",
    "    "
   ]
  },
  {
   "cell_type": "markdown",
   "metadata": {},
   "source": [
    "# DAF Design\n",
    "\n",
    "The Data Access Framework is designed to provide a consistent interface for requesting and using geospatial data (for use within CAVE and EDEX). The framework supports two types of data requests: **grids** (grib, satellite, radar), and **geometries** (maps, obs, warnings, etc.)\n",
    "\n",
    "### Supported Data Types"
   ]
  },
  {
   "cell_type": "code",
   "execution_count": 1,
   "metadata": {
    "collapsed": false
   },
   "outputs": [
    {
     "data": {
      "text/plain": [
       "[b'acars',\n",
       " b'airep',\n",
       " b'binlightning',\n",
       " b'bufrmosavn',\n",
       " b'bufrmoseta',\n",
       " b'bufrmosgfs',\n",
       " b'bufrmoshpc',\n",
       " b'bufrmoslamp',\n",
       " b'bufrmosmrf',\n",
       " b'bufrmosngm',\n",
       " b'bufrua',\n",
       " b'climate',\n",
       " b'common_obs_spatial',\n",
       " b'ffmp',\n",
       " b'gfe',\n",
       " b'grid',\n",
       " b'hydro',\n",
       " b'ldadmesonet',\n",
       " b'maps',\n",
       " b'modelsounding',\n",
       " b'obs',\n",
       " b'pirep',\n",
       " b'practicewarning',\n",
       " b'profiler',\n",
       " b'radar',\n",
       " b'radar_spatial',\n",
       " b'satellite',\n",
       " b'sfcobs',\n",
       " b'warning']"
      ]
     },
     "execution_count": 1,
     "metadata": {},
     "output_type": "execute_result"
    }
   ],
   "source": [
    "from awips.dataaccess import DataAccessLayer\n",
    "DataAccessLayer.changeEDEXHost(\"edex-cloud.unidata.ucar.edu\")\n",
    "dataTypes = DataAccessLayer.getSupportedDatatypes()\n",
    "list(dataTypes)"
   ]
  },
  {
   "cell_type": "markdown",
   "metadata": {},
   "source": [
    "# Grid Inventory\n",
    "\n",
    "Calling **newDataRequest()** and **setDatatype(\"grid\")** we can print out the list of available grids:"
   ]
  },
  {
   "cell_type": "code",
   "execution_count": 2,
   "metadata": {
    "collapsed": false
   },
   "outputs": [
    {
     "data": {
      "text/plain": [
       "[b'CMC',\n",
       " b'DGEX',\n",
       " b'ESTOFS',\n",
       " b'ETSS',\n",
       " b'FFG-ALR',\n",
       " b'FFG-FWR',\n",
       " b'FFG-KRF',\n",
       " b'FFG-MSR',\n",
       " b'FFG-ORN',\n",
       " b'FFG-PTR',\n",
       " b'FFG-RHA',\n",
       " b'FFG-RSA',\n",
       " b'FFG-STR',\n",
       " b'FFG-TAR',\n",
       " b'FFG-TIR',\n",
       " b'FFG-TUA',\n",
       " b'FNMOC-FAROP',\n",
       " b'GFS',\n",
       " b'GFS20',\n",
       " b'GFSGuide',\n",
       " b'GFSLAMP5',\n",
       " b'GLERL',\n",
       " b'GribModel:58:0:135',\n",
       " b'GribModel:58:0:18',\n",
       " b'GribModel:58:0:78',\n",
       " b'GribModel:9:151:172',\n",
       " b'HFR-EAST_6KM',\n",
       " b'HFR-EAST_PR_6KM',\n",
       " b'HFR-US_EAST_DELAWARE_1KM',\n",
       " b'HFR-US_EAST_FLORIDA_2KM',\n",
       " b'HFR-US_EAST_NORTH_2KM',\n",
       " b'HFR-US_EAST_SOUTH_2KM',\n",
       " b'HFR-US_EAST_VIRGINIA_1KM',\n",
       " b'HFR-US_HAWAII_1KM',\n",
       " b'HFR-US_HAWAII_2KM',\n",
       " b'HFR-US_HAWAII_6KM',\n",
       " b'HFR-US_WEST_500M',\n",
       " b'HFR-US_WEST_CENCAL_2KM',\n",
       " b'HFR-US_WEST_LOSANGELES_1KM',\n",
       " b'HFR-US_WEST_LOSOSOS_1KM',\n",
       " b'HFR-US_WEST_NORTH_2KM',\n",
       " b'HFR-US_WEST_SANFRAN_1KM',\n",
       " b'HFR-US_WEST_SOCAL_2KM',\n",
       " b'HFR-US_WEST_WASHINGTON_1KM',\n",
       " b'HFR-WEST_6KM',\n",
       " b'HPCGuide',\n",
       " b'HPCqpf',\n",
       " b'HPCqpfNDFD',\n",
       " b'HRRR',\n",
       " b'HRRRX',\n",
       " b'LAMP2p5',\n",
       " b'MOSGuide',\n",
       " b'MOSGuideExtended',\n",
       " b'MPE-Local-ALR',\n",
       " b'MPE-Local-MSR',\n",
       " b'MPE-Local-ORN',\n",
       " b'MPE-Local-RHA',\n",
       " b'MPE-Local-RSA',\n",
       " b'MPE-Local-SJU',\n",
       " b'MPE-Local-STR',\n",
       " b'MPE-Local-TAR',\n",
       " b'MPE-Local-TIR',\n",
       " b'MPE-Mosaic-ALR',\n",
       " b'MPE-Mosaic-FWR',\n",
       " b'MPE-Mosaic-MSR',\n",
       " b'MPE-Mosaic-ORN',\n",
       " b'MPE-Mosaic-RHA',\n",
       " b'MPE-Mosaic-SJU',\n",
       " b'MPE-Mosaic-TAR',\n",
       " b'MPE-Mosaic-TIR',\n",
       " b'NAM12',\n",
       " b'NAM40',\n",
       " b'NAVGEM',\n",
       " b'NCWF',\n",
       " b'NOHRSC-SNOW',\n",
       " b'NamDNG',\n",
       " b'QPE-ALR',\n",
       " b'QPE-Auto-TUA',\n",
       " b'QPE-FWR',\n",
       " b'QPE-KRF',\n",
       " b'QPE-MSR',\n",
       " b'QPE-ORN',\n",
       " b'QPE-RFC-PTR',\n",
       " b'QPE-RFC-RSA',\n",
       " b'QPE-RFC-STR',\n",
       " b'QPE-TIR',\n",
       " b'QPE-TUA',\n",
       " b'QPE-XNAV-ALR',\n",
       " b'QPE-XNAV-FWR',\n",
       " b'QPE-XNAV-KRF',\n",
       " b'QPE-XNAV-MSR',\n",
       " b'QPE-XNAV-ORN',\n",
       " b'QPE-XNAV-RHA',\n",
       " b'QPE-XNAV-SJU',\n",
       " b'QPE-XNAV-TAR',\n",
       " b'QPE-XNAV-TIR',\n",
       " b'QPE-XNAV-TUA',\n",
       " b'RAP13',\n",
       " b'RAP20',\n",
       " b'RAP40',\n",
       " b'RFCqpf',\n",
       " b'RTMA',\n",
       " b'UKMET-Global',\n",
       " b'UKMET-MODEL1',\n",
       " b'UKMET37',\n",
       " b'UKMET38',\n",
       " b'UKMET39',\n",
       " b'UKMET40',\n",
       " b'UKMET41',\n",
       " b'UKMET42',\n",
       " b'UKMET43',\n",
       " b'UKMET44',\n",
       " b'URMA25',\n",
       " b'WaveWatch',\n",
       " b'fnmocWave']"
      ]
     },
     "execution_count": 2,
     "metadata": {},
     "output_type": "execute_result"
    }
   ],
   "source": [
    "request = DataAccessLayer.newDataRequest()\n",
    "request.setDatatype(\"grid\")\n",
    "\n",
    "available_grids = DataAccessLayer.getAvailableLocationNames(request)\n",
    "available_grids.sort()\n",
    "list(available_grids)"
   ]
  },
  {
   "cell_type": "markdown",
   "metadata": {},
   "source": [
    "### Set grid name with `setLocationNames()`"
   ]
  },
  {
   "cell_type": "code",
   "execution_count": 3,
   "metadata": {
    "collapsed": true
   },
   "outputs": [],
   "source": [
    "request.setLocationNames(\"RAP40\")"
   ]
  },
  {
   "cell_type": "markdown",
   "metadata": {},
   "source": [
    "# List Available Parameters for a Grid\n",
    "\n",
    "This example requests the U and V wind components for the RAP 13km CONUS and plots the wind speed (total vector) as a gridded contour (color-filled isotachs, essentially), calling **getAvailableParameters()**:"
   ]
  },
  {
   "cell_type": "code",
   "execution_count": 4,
   "metadata": {
    "collapsed": false
   },
   "outputs": [
    {
     "data": {
      "text/plain": [
       "[b'AV',\n",
       " b'BLI',\n",
       " b'CAPE',\n",
       " b'CFRZR',\n",
       " b'CICEP',\n",
       " b'CIn',\n",
       " b'CP',\n",
       " b'CP10hr',\n",
       " b'CP11hr',\n",
       " b'CP12hr',\n",
       " b'CP13hr',\n",
       " b'CP14hr',\n",
       " b'CP15hr',\n",
       " b'CP16hr',\n",
       " b'CP17hr',\n",
       " b'CP18hr',\n",
       " b'CP1hr',\n",
       " b'CP2hr',\n",
       " b'CP3hr',\n",
       " b'CP4hr',\n",
       " b'CP5hr',\n",
       " b'CP6hr',\n",
       " b'CP9hr',\n",
       " b'CRAIN',\n",
       " b'CSNOW',\n",
       " b'DpD',\n",
       " b'DpT',\n",
       " b'EPT',\n",
       " b'GH',\n",
       " b'HCDC',\n",
       " b'HINDEX',\n",
       " b'HPBL',\n",
       " b'Heli',\n",
       " b'LCDC',\n",
       " b'LTNG',\n",
       " b'LgSP',\n",
       " b'LgSP10hr',\n",
       " b'LgSP11hr',\n",
       " b'LgSP12hr',\n",
       " b'LgSP13hr',\n",
       " b'LgSP14hr',\n",
       " b'LgSP15hr',\n",
       " b'LgSP16hr',\n",
       " b'LgSP17hr',\n",
       " b'LgSP18hr',\n",
       " b'LgSP1hr',\n",
       " b'LgSP2hr',\n",
       " b'LgSP3hr',\n",
       " b'LgSP4hr',\n",
       " b'LgSP5hr',\n",
       " b'LgSP6hr',\n",
       " b'LgSP9hr',\n",
       " b'MCDC',\n",
       " b'MMSP',\n",
       " b'MSTAV',\n",
       " b'P',\n",
       " b'PLPL',\n",
       " b'PR',\n",
       " b'PVV',\n",
       " b'PW',\n",
       " b'PoT',\n",
       " b'REFD',\n",
       " b'RH',\n",
       " b'SH',\n",
       " b'SLI',\n",
       " b'SnD',\n",
       " b'T',\n",
       " b'TOTSN',\n",
       " b'TOTSN10hr',\n",
       " b'TOTSN11hr',\n",
       " b'TOTSN12hr',\n",
       " b'TOTSN13hr',\n",
       " b'TOTSN14hr',\n",
       " b'TOTSN15hr',\n",
       " b'TOTSN16hr',\n",
       " b'TOTSN17hr',\n",
       " b'TOTSN18hr',\n",
       " b'TOTSN1hr',\n",
       " b'TOTSN2hr',\n",
       " b'TOTSN3hr',\n",
       " b'TOTSN4hr',\n",
       " b'TOTSN5hr',\n",
       " b'TOTSN6hr',\n",
       " b'TOTSN9hr',\n",
       " b'TP',\n",
       " b'TP10hr',\n",
       " b'TP11hr',\n",
       " b'TP12hr',\n",
       " b'TP13hr',\n",
       " b'TP14hr',\n",
       " b'TP15hr',\n",
       " b'TP16hr',\n",
       " b'TP17hr',\n",
       " b'TP18hr',\n",
       " b'TP1hr',\n",
       " b'TP2hr',\n",
       " b'TP3hr',\n",
       " b'TP4hr',\n",
       " b'TP5hr',\n",
       " b'TP6hr',\n",
       " b'TP9hr',\n",
       " b'USTM',\n",
       " b'VSTM',\n",
       " b'VUCSH',\n",
       " b'VVCSH',\n",
       " b'Vis',\n",
       " b'WEASD',\n",
       " b'WEASD10hr',\n",
       " b'WEASD11hr',\n",
       " b'WEASD12hr',\n",
       " b'WEASD13hr',\n",
       " b'WEASD14hr',\n",
       " b'WEASD15hr',\n",
       " b'WEASD16hr',\n",
       " b'WEASD17hr',\n",
       " b'WEASD18hr',\n",
       " b'WEASD1hr',\n",
       " b'WEASD2hr',\n",
       " b'WEASD3hr',\n",
       " b'WEASD4hr',\n",
       " b'WEASD5hr',\n",
       " b'WEASD6hr',\n",
       " b'WEASD9hr',\n",
       " b'WGS',\n",
       " b'uW',\n",
       " b'vW']"
      ]
     },
     "execution_count": 4,
     "metadata": {},
     "output_type": "execute_result"
    }
   ],
   "source": [
    "availableParms = DataAccessLayer.getAvailableParameters(request)\n",
    "availableParms.sort()\n",
    "list(availableParms)"
   ]
  },
  {
   "cell_type": "markdown",
   "metadata": {},
   "source": [
    "### setParameters()\n",
    "\n",
    "set the request parameter"
   ]
  },
  {
   "cell_type": "code",
   "execution_count": 5,
   "metadata": {
    "collapsed": true
   },
   "outputs": [],
   "source": [
    "request.setParameters(\"T\")"
   ]
  },
  {
   "cell_type": "markdown",
   "metadata": {},
   "source": [
    "## List Available Levels for Parameter\n",
    "\n",
    "Using **DataAccessLayer.getAvailableLevels()**"
   ]
  },
  {
   "cell_type": "code",
   "execution_count": 6,
   "metadata": {
    "collapsed": false
   },
   "outputs": [
    {
     "name": "stdout",
     "output_type": "stream",
     "text": [
      "875.0b'MB'\n",
      "575.0b'MB'\n",
      "650.0b'MB'\n",
      "675.0b'MB'\n",
      "0.0b'TROP'\n",
      "700.0b'MB'\n",
      "250.0b'MB'\n",
      "350.0b'MB'\n",
      "150.0b'MB'\n",
      "550.0b'MB'\n",
      "375.0b'MB'\n",
      "0.0b'SFC'\n",
      "150.0_180.0b'BL'\n",
      "120.0_150.0b'BL'\n",
      "1000.0b'MB'\n",
      "725.0b'MB'\n",
      "125.0b'MB'\n",
      "850.0b'MB'\n",
      "0.0_30.0b'BL'\n",
      "325.0b'MB'\n",
      "225.0b'MB'\n",
      "400.0b'MB'\n",
      "450.0b'MB'\n",
      "600.0b'MB'\n",
      "2.0b'FHAG'\n",
      "975.0b'MB'\n",
      "950.0b'MB'\n",
      "30.0_60.0b'BL'\n",
      "475.0b'MB'\n",
      "825.0b'MB'\n",
      "425.0b'MB'\n",
      "525.0b'MB'\n",
      "200.0b'MB'\n",
      "775.0b'MB'\n",
      "60.0_90.0b'BL'\n",
      "300.0b'MB'\n",
      "175.0b'MB'\n",
      "275.0b'MB'\n",
      "100.0b'MB'\n",
      "90.0_120.0b'BL'\n",
      "800.0b'MB'\n",
      "80.0b'FHAG'\n",
      "500.0b'MB'\n",
      "625.0b'MB'\n",
      "925.0b'MB'\n",
      "750.0b'MB'\n",
      "900.0b'MB'\n"
     ]
    }
   ],
   "source": [
    "availableLevels = DataAccessLayer.getAvailableLevels(request)\n",
    "for level in availableLevels: print(level)"
   ]
  },
  {
   "cell_type": "markdown",
   "metadata": {},
   "source": [
    "* **0.0SFC** is the Surface level\n",
    "* **FHAG** stands for Fixed Height Above Ground (in meters)\n",
    "* **NTAT** stands for Nominal Top of the ATmosphere\n",
    "* **BL** stands for Boundary Layer, where **0.0_30.0BL** reads as *0-30 mb above ground level*  \n",
    "* **TROP** is the Tropopause level\n",
    "\n",
    "### request.setLevels()\n",
    "\n",
    "For this example we will use Surface Temperatur"
   ]
  },
  {
   "cell_type": "code",
   "execution_count": 7,
   "metadata": {
    "collapsed": true
   },
   "outputs": [],
   "source": [
    "request.setLevels(\"0.0SFC\")"
   ]
  },
  {
   "cell_type": "markdown",
   "metadata": {},
   "source": [
    "### DataAccessLayer.getAvailableTimes()\n",
    "\n",
    "* **getAvailableTimes(request, True)** will return an object of *run times* - formatted as `YYYY-MM-DD HH:MM:SS`\n",
    "* **getAvailableTimes(request)** will return an object of all times - formatted as `YYYY-MM-DD HH:MM:SS (F:ff)`"
   ]
  },
  {
   "cell_type": "code",
   "execution_count": 8,
   "metadata": {
    "collapsed": false
   },
   "outputs": [],
   "source": [
    "cycles = DataAccessLayer.getAvailableTimes(request, True)\n",
    "times = DataAccessLayer.getAvailableTimes(request)"
   ]
  },
  {
   "cell_type": "markdown",
   "metadata": {},
   "source": [
    "# Request a Grid\n"
   ]
  },
  {
   "cell_type": "code",
   "execution_count": 9,
   "metadata": {
    "collapsed": true
   },
   "outputs": [],
   "source": [
    "response = DataAccessLayer.getGridData(request, [times[-1]])"
   ]
  },
  {
   "cell_type": "code",
   "execution_count": 10,
   "metadata": {
    "collapsed": false
   },
   "outputs": [
    {
     "name": "stdout",
     "output_type": "stream",
     "text": [
      "2016-10-19 15:00:00\n",
      "(151, 113)\n"
     ]
    }
   ],
   "source": [
    "for grid in response:\n",
    "    data = grid.getRawData()\n",
    "    lons, lats = grid.getLatLonCoords()\n",
    "    print(str(grid.getDataTime()))\n",
    "    print(data.shape)"
   ]
  },
  {
   "cell_type": "markdown",
   "metadata": {
    "collapsed": false
   },
   "source": [
    "# Plot a Grid with Matplotlib"
   ]
  },
  {
   "cell_type": "code",
   "execution_count": 11,
   "metadata": {
    "collapsed": false
   },
   "outputs": [],
   "source": [
    "%matplotlib inline\n",
    "import matplotlib.tri as mtri\n",
    "import matplotlib.pyplot as plt\n",
    "import matplotlib\n",
    "import cartopy.crs as ccrs\n",
    "import numpy as np\n",
    "ngrid = data.shape[1]\n",
    "rlons = np.repeat(np.linspace(np.min(lons), np.max(lons), ngrid),\n",
    "              ngrid).reshape(ngrid, ngrid)\n",
    "rlats = np.repeat(np.linspace(np.min(lats), np.max(lats), ngrid),\n",
    "              ngrid).reshape(ngrid, ngrid).T\n",
    "tli = mtri.LinearTriInterpolator(mtri.Triangulation(lons.flatten(),\n",
    "               lats.flatten()), data.flatten())\n",
    "rdata = tli(rlons, rlats)"
   ]
  },
  {
   "cell_type": "code",
   "execution_count": null,
   "metadata": {
    "collapsed": false,
    "scrolled": true
   },
   "outputs": [
    {
     "data": {
      "image/png": "[encoded data removed]",
      "text/plain": [
       "<matplotlib.figure.Figure at 0x7f987a5bd4a8>"
      ]
     },
     "metadata": {},
     "output_type": "display_data"
    }
   ],
   "source": [
    "# Create Map\n",
    "cmap = plt.get_cmap('rainbow')\n",
    "matplotlib.rcParams.update({'font.size': 8})\n",
    "plt.figure(figsize=(9, 6), dpi=100)\n",
    "ax = plt.axes(projection=ccrs.PlateCarree())\n",
    "\n",
    "cs = plt.contourf(rlons, rlats, rdata, 60, cmap=cmap,\n",
    "                  transform=ccrs.PlateCarree(),\n",
    "                  vmin=rdata.min(), vmax=rdata.max())\n",
    "\n",
    "ax.gridlines()\n",
    "ax.coastlines()\n",
    "ax.set_aspect('auto', adjustable=None)\n",
    "\n",
    "cbar = plt.colorbar(orientation='horizontal')\n",
    "cbar.set_label(str(grid.getLocationName()) +\" \"+ str(grid.getLevel()) + \" \"  + str(grid.getParameter()) + \" \" \\\n",
    "        \"(\" + str(grid.getUnit()) + \") \" + \" valid \" + str(grid.getDataTime().getRefTime()) )\n"
   ]
  },
  {
   "cell_type": "markdown",
   "metadata": {
    "collapsed": true
   },
   "source": [
    "# Upper Air Soundings (BUFR)"
   ]
  },
  {
   "cell_type": "code",
   "execution_count": null,
   "metadata": {
    "collapsed": false,
    "scrolled": true
   },
   "outputs": [
    {
     "name": "stdout",
     "output_type": "stream",
     "text": [
      "84100.0 2.5\n",
      "100000.0 -9999998.0\n",
      "92500.0 -9999998.0\n",
      "85000.0 -9999998.0\n",
      "70000.0 7.199999809265137\n",
      "50000.0 25.200000762939453\n",
      "40000.0 41.099998474121094\n",
      "30000.0 46.79999923706055\n",
      "25000.0 54.0\n",
      "20000.0 39.099998474121094\n",
      "15000.0 45.79999923706055\n",
      "10000.0 29.299999237060547\n",
      "7000.0 12.800000190734863\n",
      "5000.0 8.699999809265137\n",
      "3000.0 3.0\n",
      "2000.0 8.199999809265137\n",
      "1000.0 15.399999618530273\n",
      "700.0 -9999998.0\n",
      "500.0 -9999.0\n",
      "300.0 -9999.0\n",
      "200.0 -9999.0\n",
      "100.0 -9999.0\n"
     ]
    }
   ],
   "source": [
    "%matplotlib inline\n",
    "from mpl_toolkits.axes_grid1.inset_locator import inset_axes\n",
    "from metpy.calc import get_wind_components, lcl, dry_lapse, parcel_profile\n",
    "from metpy.plots import SkewT, Hodograph\n",
    "from metpy.units import units, concatenate\n",
    "\n",
    "plt.rcParams['figure.figsize'] = (12, 14)\n",
    "\n",
    "request = DataAccessLayer.newDataRequest()\n",
    "request.setDatatype(\"bufrua\")\n",
    "request.setParameters(\"tpMan\",\"tdMan\",\"prMan\",\"htMan\",\"wdMan\",\"wsMan\")\n",
    "# Station ID (name doesn't work yet)\n",
    "request.setLocationNames(\"72469\")\n",
    "datatimes = DataAccessLayer.getAvailableTimes(request)\n",
    "\n",
    "# Get most recent record\n",
    "response = DataAccessLayer.getGeometryData(request,times=datatimes[-1].validPeriod)\n",
    "\n",
    "# Initialize data arrays\n",
    "tpMan,tdMan,prMan,htMan,wdMan,wsMan = [],[],[],[],[],[]\n",
    "\n",
    "# Build ordered arrays\n",
    "for ob in response:\n",
    "    print(float(ob.getString(b\"prMan\")), float(ob.getString(b\"wsMan\")))\n",
    "    tpMan.append(float(ob.getString(b\"tpMan\")))\n",
    "    tdMan.append(float(ob.getString(b\"tdMan\")))\n",
    "    prMan.append(float(ob.getString(b\"prMan\")))\n",
    "    htMan.append(float(ob.getString(b\"htMan\")))\n",
    "    wdMan.append(float(ob.getString(b\"wdMan\")))\n",
    "    wsMan.append(float(ob.getString(b\"wsMan\")))\n",
    "\n",
    "# we can use units.* here...\n",
    "T = np.array(tpMan)-273.15\n",
    "Td = np.array(tdMan)-273.15\n",
    "p = np.array(prMan)/100\n",
    "height = np.array(htMan)\n",
    "direc = np.array(wdMan)\n",
    "spd = np.array(wsMan)\n",
    "u, v = get_wind_components(spd, np.deg2rad(direc))\n",
    "\n",
    "p = p * units.mbar\n",
    "T = T * units.degC\n",
    "Td = Td * units.degC\n",
    "spd = spd * units.knot\n",
    "direc = direc * units.deg\n",
    "\n",
    "# Create a skewT plot\n",
    "skew = SkewT()\n",
    "\n",
    "# Plot the data using normal plotting functions, in this case using\n",
    "# log scaling in Y, as dictated by the typical meteorological plot\n",
    "skew.plot(p, T, 'r')\n",
    "skew.plot(p, Td, 'g')\n",
    "skew.plot_barbs(p, u, v)\n",
    "skew.ax.set_ylim(1000, 100)\n",
    "skew.ax.set_xlim(-40, 60)\n",
    "\n",
    "# Calculate LCL height and plot as black dot\n",
    "l = lcl(p[0], T[0], Td[0])\n",
    "lcl_temp = dry_lapse(concatenate((p[0], l)), T[0])[-1].to('degC')\n",
    "skew.plot(l, lcl_temp, 'ko', markerfacecolor='black')\n",
    "\n",
    "# Calculate full parcel profile and add to plot as black line\n",
    "prof = parcel_profile(p, T[0], Td[0]).to('degC')\n",
    "skew.plot(p, prof, 'k', linewidth=2)\n",
    "\n",
    "# Example of coloring area between profiles\n",
    "skew.ax.fill_betweenx(p, T, prof, where=T>=prof, facecolor='blue', alpha=0.4)\n",
    "skew.ax.fill_betweenx(p, T, prof, where=T<prof, facecolor='red', alpha=0.4)\n",
    "\n",
    "# An example of a slanted line at constant T -- in this case the 0 isotherm\n",
    "l = skew.ax.axvline(0, color='c', linestyle='--', linewidth=2)\n",
    "\n",
    "# Draw hodograph\n",
    "ax_hod = inset_axes(skew.ax, '40%', '40%', loc=3)\n",
    "h = Hodograph(ax_hod, component_range=80.)\n",
    "h.add_grid(increment=20)\n",
    "h.plot_colormapped(u, v, spd)\n",
    "\n",
    "# Show the plot\n",
    "plt.show()"
   ]
  },
  {
   "cell_type": "markdown",
   "metadata": {
    "collapsed": true
   },
   "source": [
    "# Model Soundings\n",
    "\n",
    "The EDEX modelsounding plugin creates 64-level vertical profiles from GFS and ETA (NAM) BUFR products distributed on NOAAport."
   ]
  },
  {
   "cell_type": "code",
   "execution_count": null,
   "metadata": {
    "collapsed": false
   },
   "outputs": [],
   "source": [
    "request = DataAccessLayer.newDataRequest()\n",
    "request.setDatatype(\"modelsounding\")\n",
    "request.addIdentifier(\"reportType\", \"GFS\")\n",
    "request.setParameters(\"pressure\",\"temperature\",\"specHum\",\"uComp\",\"vComp\")\n",
    "request.setLocationNames(\"OAX\")\n",
    "\n",
    "cycles = DataAccessLayer.getAvailableTimes(request, True)\n",
    "allTimes = DataAccessLayer.getAvailableTimes(request)\n",
    "\n",
    "# Build one complete model run\n",
    "fcstRun = []\n",
    "for time in allTimes:\n",
    "    if str(time)[:19] == str(cycles[-1]):\n",
    "        fcstRun.append(time)\n",
    "\n",
    "# request a single time\n",
    "response = DataAccessLayer.getGeometryData(request,times=[fcstRun[0]])"
   ]
  },
  {
   "cell_type": "code",
   "execution_count": null,
   "metadata": {
    "collapsed": false
   },
   "outputs": [],
   "source": [
    "print(\"parms    = \" + str(response[0].getParameters()))\n",
    "print(\"site     = \" + str(response[0].getLocationName()))\n",
    "print(\"datetime = \" + str(response[0].getDataTime()))\n",
    "print(\"geom     = \" + str(response[0].getGeometry()))\n",
    "\n",
    "tmp,prs,sh,uc,vc = [],[],[],[],[]\n",
    "for ob in response:\n",
    "    tmp.append(float(ob.getString(b\"temperature\")))\n",
    "    prs.append(float(ob.getString(b\"pressure\")))\n",
    "    sh.append(float(ob.getString(b\"specHum\")))\n",
    "    uc.append(float(ob.getString(b\"uComp\")))\n",
    "    vc.append(float(ob.getString(b\"vComp\")))"
   ]
  },
  {
   "cell_type": "markdown",
   "metadata": {},
   "source": [
    "## Create data arrays and calculate dewpoint from spec. humidity"
   ]
  },
  {
   "cell_type": "code",
   "execution_count": null,
   "metadata": {
    "collapsed": false
   },
   "outputs": [],
   "source": [
    "import matplotlib.tri as mtri\n",
    "import matplotlib.pyplot as plt\n",
    "from mpl_toolkits.axes_grid1.inset_locator import inset_axes\n",
    "from math import exp, log\n",
    "\n",
    "from metpy.calc import get_wind_components, lcl, dry_lapse, parcel_profile, dewpoint\n",
    "from metpy.calc import get_wind_speed,get_wind_dir, thermo, vapor_pressure\n",
    "from metpy.plots import SkewT, Hodograph\n",
    "from metpy.units import units, concatenate\n",
    "\n",
    "pres = np.array(prs)\n",
    "# we can use units.* here...\n",
    "t = (np.array(tmp)-273.16) * units.degC\n",
    "p = np.array(pres)/100 * units.mbar\n",
    "s = np.array(sh)\n",
    "\n",
    "u,v = np.array(uc)*1.94384,np.array(vc)*1.94384 # m/s to knots\n",
    "spd = get_wind_speed(u, v) * units.knots\n",
    "dir = get_wind_dir(u, v) * units.deg\n"
   ]
  },
  {
   "cell_type": "markdown",
   "metadata": {},
   "source": [
    "## Dewpoint from Specific Humidity\n",
    "\n",
    "Because the modelsounding plugin does not return dewpoint values, we must calculate the profile ourselves.  Here are three examples of dewpoint calculated from specific humidity, including a manual calculation following NCEP AWIPS/NSHARP. \n",
    "\n",
    "### 1) metpy calculated mixing ratio and vapor pressure"
   ]
  },
  {
   "cell_type": "code",
   "execution_count": null,
   "metadata": {
    "collapsed": false
   },
   "outputs": [],
   "source": [
    "rmix = (s/(1-s)) *1000 * units('g/kg')\n",
    "e = vapor_pressure(p, rmix)\n",
    "td = dewpoint(e)"
   ]
  },
  {
   "cell_type": "markdown",
   "metadata": {},
   "source": [
    "### 2) metpy calculated assuming spec. humidity = mixing ratio"
   ]
  },
  {
   "cell_type": "code",
   "execution_count": null,
   "metadata": {
    "collapsed": false
   },
   "outputs": [],
   "source": [
    "td2 = dewpoint(vapor_pressure(p, s))"
   ]
  },
  {
   "cell_type": "markdown",
   "metadata": {},
   "source": [
    "### 3) NCEP AWIPS soundingrequest plugin\n",
    "based on GEMPAK/NSHARP, from https://github.com/Unidata/awips2-ncep/blob/unidata_16.2.2/edex/gov.noaa.nws.ncep.edex.plugin.soundingrequest/src/gov/noaa/nws/ncep/edex/plugin/soundingrequest/handler/MergeSounding.java#L1783"
   ]
  },
  {
   "cell_type": "code",
   "execution_count": null,
   "metadata": {
    "collapsed": false,
    "scrolled": true
   },
   "outputs": [],
   "source": [
    "# new arrays\n",
    "ntmp,nprs,nsh = np.array(tmp)-273.16,np.array(prs),np.array(sh)\n",
    "\n",
    "# where p=pressure(pa), T=temp(C), T0=reference temp(273.16)\n",
    "rh = 0.263*nprs*nsh / (np.exp(17.67*ntmp/(ntmp+273.16-29.65)))\n",
    "vaps =  6.112 * np.exp((17.67 * ntmp) / (ntmp + 243.5))\n",
    "vapr = rh * vaps / 100\n",
    "dwpc = np.array(243.5 * (np.log(6.112) - np.log(vapr)) / (np.log(vapr) - np.log(6.112) - 17.67)) * units.degC"
   ]
  },
  {
   "cell_type": "code",
   "execution_count": null,
   "metadata": {
    "collapsed": false
   },
   "outputs": [],
   "source": [
    "print(min(td), max(td))\n",
    "print(min(td2), max(td2))\n",
    "print(min(dwpc), max(dwpc))"
   ]
  },
  {
   "cell_type": "markdown",
   "metadata": {},
   "source": [
    "## Plot with MetPy"
   ]
  },
  {
   "cell_type": "code",
   "execution_count": null,
   "metadata": {
    "collapsed": false
   },
   "outputs": [],
   "source": [
    "%matplotlib inline\n",
    "\n",
    "plt.rcParams['figure.figsize'] = (12, 14)\n",
    "\n",
    "# Create a skewT plot\n",
    "skew = SkewT()\n",
    "\n",
    "# Plot the data\n",
    "skew.plot(p, t, 'r')\n",
    "skew.plot(p, td, 'b')\n",
    "skew.plot(p, td2, 'y')\n",
    "skew.plot(p, dwpc, 'g')\n",
    "\n",
    "skew.plot_barbs(p, u, v)\n",
    "skew.ax.set_ylim(1000, 100)\n",
    "skew.ax.set_xlim(-40, 60)\n",
    "\n",
    "# Calculate LCL height and plot as black dot\n",
    "l = lcl(p[0], t[0], td[0])\n",
    "lcl_temp = dry_lapse(concatenate((p[0], l)), t[0])[-1].to('degC')\n",
    "skew.plot(l, lcl_temp, 'ko', markerfacecolor='black')\n",
    "\n",
    "# An example of a slanted line at constant T -- in this case the 0 isotherm\n",
    "l = skew.ax.axvline(0, color='c', linestyle='--', linewidth=2)\n",
    "\n",
    "# Draw hodograph\n",
    "ax_hod = inset_axes(skew.ax, '40%', '40%', loc=3)\n",
    "h = Hodograph(ax_hod, component_range=80.)\n",
    "h.add_grid(increment=20)\n",
    "h.plot_colormapped(u, v, spd)\n",
    "\n",
    "# Show the plot\n",
    "plt.show()"
   ]
  },
  {
   "cell_type": "markdown",
   "metadata": {},
   "source": [
    "# Synop/Marine Obs"
   ]
  },
  {
   "cell_type": "code",
   "execution_count": null,
   "metadata": {
    "collapsed": false
   },
   "outputs": [],
   "source": [
    "from awips.dataaccess import DataAccessLayer\n",
    "\n",
    "request = DataAccessLayer.newDataRequest()\n",
    "request.setDatatype(\"sfcobs\")\n",
    "request.setLocationNames(\"72421\") # Covington, Kentucky (KCVG)\n",
    "\n",
    "request.setParameters(\"stationId\",\"timeObs\",\"elevation\",\"reportType\",\n",
    "                  \"wx_present\",\"visibility\",\"seaLevelPress\",\"stationPress\",\n",
    "                  \"pressChange3Hour\",\"pressChangeChar\",\"temperature\",\n",
    "                  \"dewpoint\",\"seaSurfaceTemp\",\"wetBulb\",\"windDir\",\n",
    "                  \"windSpeed\",\"equivWindSpeed10m\",\"windGust\",\"precip1Hour\",\n",
    "                  \"precip6Hour\",\"precip24Hour\" )\n",
    "\n",
    "datatimes = DataAccessLayer.getAvailableTimes(request)\n",
    "time = datatimes[-1].validPeriod\n",
    "\n",
    "response = DataAccessLayer.getGeometryData(request,times=time)\n",
    "for ob in response:\n",
    "    print(ob.getParameters())"
   ]
  },
  {
   "cell_type": "markdown",
   "metadata": {},
   "source": [
    "# Profiler"
   ]
  },
  {
   "cell_type": "code",
   "execution_count": null,
   "metadata": {
    "collapsed": false
   },
   "outputs": [],
   "source": [
    "MULTI_DIM_PARAMS = set(['vComponent', 'uComponent', 'peakPower', \n",
    "                            'levelMode', 'uvQualityCode', 'consensusNum', \n",
    "                            'HorizSpStdDev', 'wComponent', 'height', \n",
    "                            'VertSpStdDev'])\n",
    "\n",
    "request = DataAccessLayer.newDataRequest(\"profiler\")\n",
    "request.setParameters('numProfLvls', 'elevation', 'windDirSfc', 'validTime', \n",
    "                  'windSpeedSfc', 'pressure', 'submode', 'relHumidity', \n",
    "                  'profilerId', 'rainRate', 'temperature')\n",
    "request.getParameters().extend(MULTI_DIM_PARAMS)\n",
    "\n",
    "datatimes = DataAccessLayer.getAvailableTimes(request)\n",
    "time = datatimes[-1].validPeriod\n",
    "\n",
    "response = DataAccessLayer.getGeometryData(request,times=time)\n",
    "for ob in response:\n",
    "    print(ob.getParameters())\n"
   ]
  },
  {
   "cell_type": "markdown",
   "metadata": {},
   "source": [
    "# ACARS"
   ]
  },
  {
   "cell_type": "code",
   "execution_count": null,
   "metadata": {
    "collapsed": false
   },
   "outputs": [],
   "source": [
    "request = DataAccessLayer.newDataRequest(\"acars\")\n",
    "request.setParameters(\"tailNumber\", \"receiver\", \"pressure\", \"flightPhase\", \n",
    "                  \"rollAngleQuality\", \"temp\", \"windDirection\", \"windSpeed\",\n",
    "                  \"humidity\", \"mixingRatio\", \"icing\")\n",
    "datatimes = DataAccessLayer.getAvailableTimes(request)\n",
    "time = datatimes[-1].validPeriod\n",
    "\n",
    "response = DataAccessLayer.getGeometryData(request,times=time)\n",
    "for ob in response:\n",
    "    print(ob.getParameters())"
   ]
  },
  {
   "cell_type": "markdown",
   "metadata": {},
   "source": [
    "# AIREP"
   ]
  },
  {
   "cell_type": "code",
   "execution_count": null,
   "metadata": {
    "collapsed": false,
    "scrolled": true
   },
   "outputs": [],
   "source": [
    "request = DataAccessLayer.newDataRequest(\"airep\")\n",
    "request.setParameters(\"id\", \"flightLevel\", \"temp\", \"windDirection\", \"windSpeed\",\n",
    "                  \"flightWeather\", \"flightHazard\", \"flightConditions\")\n",
    "\n",
    "datatimes = DataAccessLayer.getAvailableTimes(request)\n",
    "time = datatimes[-1].validPeriod\n",
    "\n",
    "response = DataAccessLayer.getGeometryData(request,times=time)\n",
    "for ob in response:\n",
    "    print(ob.getParameters())"
   ]
  },
  {
   "cell_type": "markdown",
   "metadata": {},
   "source": [
    "# PIREP"
   ]
  },
  {
   "cell_type": "code",
   "execution_count": null,
   "metadata": {
    "collapsed": false
   },
   "outputs": [],
   "source": [
    "MULTI_DIM_PARAMS = set([\"hazardType\", \n",
    "                        \"turbType\", \"turbBaseHeight\", \"turbTopHeight\",\n",
    "                        \"iceType\", \"iceBaseHeight\", \"iceTopHeight\",\n",
    "                        \"skyCover1\", \"skyCover2\", \"skyBaseHeight\", \"skyTopHeight\"\n",
    "                        ])\n",
    "    \n",
    "request = DataAccessLayer.newDataRequest(\"pirep\")\n",
    "request.setParameters('id', 'flightLevel', 'temp', 'windDirection', 'windSpeed',\n",
    "                  'horzVisibility', 'aircraftType', 'weatherGroup')\n",
    "request.getParameters().extend(MULTI_DIM_PARAMS)\n",
    "\n",
    "datatimes = DataAccessLayer.getAvailableTimes(request)\n",
    "time = datatimes[-1].validPeriod\n",
    "\n",
    "response = DataAccessLayer.getGeometryData(request,times=time)\n",
    "for ob in response:\n",
    "    print(ob.getParameters())"
   ]
  },
  {
   "cell_type": "markdown",
   "metadata": {},
   "source": [
    "# NEXRAD Level 3 Plot with Matplotlib"
   ]
  },
  {
   "cell_type": "code",
   "execution_count": null,
   "metadata": {
    "collapsed": false
   },
   "outputs": [],
   "source": [
    "%matplotlib inline\n",
    "from awips import ThriftClient, RadarCommon\n",
    "\n",
    "from dynamicserialize.dstypes.com.raytheon.uf.common.time import TimeRange\n",
    "from dynamicserialize.dstypes.com.raytheon.uf.common.dataplugin.radar.request import GetRadarDataRecordRequest\n",
    "\n",
    "from datetime import datetime\n",
    "from datetime import timedelta\n",
    "\n",
    "import matplotlib.pyplot as plt\n",
    "import numpy as np\n",
    "from numpy import ma\n",
    "\n",
    "# use metpy for color table\n",
    "from metpy.plots import ctables\n",
    "\n",
    "# Set EDEX server and radar site\n",
    "edex = \"edex-cloud.unidata.ucar.edu\"\n",
    "site = \"koax\"\n",
    "DataAccessLayer.changeEDEXHost(edex)\n",
    "radar_request = DataAccessLayer.newDataRequest()\n",
    "radar_request.setDatatype(\"radar\")\n",
    "radar_request.setLocationNames(site)\n",
    "\n",
    "datatimes = DataAccessLayer.getAvailableTimes(radar_request)\n",
    "\n",
    "# Get last available time\n",
    "timerange = datatimes[-1].validPeriod\n",
    "dateTimeStr = str(datatimes[-1])\n",
    "\n",
    "# Buffer length in seconds\n",
    "buffer = 60\n",
    "dateTime = datetime.strptime(dateTimeStr, \"%Y-%m-%d %H:%M:%S\")\n",
    "beginRange = dateTime - timedelta(0, buffer)\n",
    "endRange = dateTime + timedelta(0, buffer)\n",
    "timerange = TimeRange(beginRange, endRange)\n",
    "\n",
    "print(\"using time\",dateTimeStr)\n",
    "print(\"buffer by\",buffer)\n",
    "print(\"using range\",timerange)\n",
    "\n",
    "client = ThriftClient.ThriftClient(edex)\n",
    "request = GetRadarDataRecordRequest()\n",
    "request.setRadarId(site)\n",
    "request.setPrimaryElevationAngle(\"0.5\")\n",
    "request.setTimeRange(timerange)\n",
    "\n",
    "fig, axes = plt.subplots(1, 2, figsize=(15, 8))\n",
    "for v, ctable, ax in zip((94, 99), ('NWSReflectivity', 'NWSVelocity'), axes):\n",
    "    request.setProductCode(v)\n",
    "    response = client.sendRequest(request)\n",
    "    if response.getData():\n",
    "        for record in response.getData():\n",
    "            idra = record.getHdf5Data()\n",
    "            rdat,azdat,depVals,threshVals = RadarCommon.get_hdf5_data(idra)\n",
    "            dim = rdat.getDimension()\n",
    "            yLen,xLen = rdat.getSizes()\n",
    "            array = rdat.getByteData()\n",
    "            \n",
    "            # get data for azimuth angles if we have them.\n",
    "            if azdat :\n",
    "                azVals = azdat.getFloatData()\n",
    "                az = np.array(RadarCommon.encode_radial(azVals))\n",
    "                dattyp = RadarCommon.get_data_type(azdat)\n",
    "                az = np.append(az,az[-1])\n",
    "                \n",
    "            print(\"found\",v,record.getDataTime())\n",
    "\n",
    "            header = RadarCommon.get_header(record, format, xLen, yLen, azdat, \"description\")\n",
    "            rng = np.linspace(0, xLen, xLen + 1)\n",
    "            xlocs = rng * np.sin(np.deg2rad(az[:, np.newaxis]))\n",
    "            ylocs = rng * np.cos(np.deg2rad(az[:, np.newaxis]))\n",
    "            multiArray = np.reshape(array, (-1, xLen))\n",
    "            data = ma.array(multiArray)\n",
    "            data[data==0] = ma.masked\n",
    "\n",
    "            # Plot the data\n",
    "            norm, cmap = ctables.registry.get_with_steps(ctable, 16, 16)\n",
    "            ax.pcolormesh(xlocs, ylocs, data, norm=norm, cmap=cmap)\n",
    "            ax.set_aspect('equal', 'datalim')\n",
    "            \n",
    "            multp = 100*(2*xLen/460)\n",
    "            ax.set_xlim(-multp,multp)\n",
    "            ax.set_ylim(-multp,multp)\n",
    "            # This is setting x/ylim on gate/pixel and not km\n",
    "\n",
    "\n",
    "plt.show()"
   ]
  },
  {
   "cell_type": "code",
   "execution_count": null,
   "metadata": {
    "collapsed": false
   },
   "outputs": [],
   "source": [
    "from datetime import timedelta\n",
    "\n",
    "radar_monitor = DataAccessLayer.newDataRequest()\n",
    "radar_monitor.setDatatype(\"radar\")\n",
    "stid=\"kftg\"\n",
    "radar_monitor.setLocationNames(stid)\n",
    "\n",
    "# available times\n",
    "datatimes = DataAccessLayer.getAvailableTimes(radar_monitor)\n",
    "timerange = datatimes[-1].validPeriod\n",
    "utcnow = datetime.utcnow().strftime(\"%Y-%m-%d %H:%M:%S\")\n",
    "\n",
    "# 7 days = 168 hrs = 2520 frames\n",
    "#    <period>07-00:00:00</period>\n",
    "#    from common_static/base/purge/radarPurgeRules.xml\n",
    "#    @https://goo.gl/VkEai9\n",
    "\n",
    "print(len(datatimes), \"frames available\")\n",
    "print(\"latest =\", str(datatimes[-1]))\n",
    "print(\"utcnow =\", utcnow)\n",
    "\n",
    "fmt = '%Y-%m-%d %H:%M:%S'\n",
    "d1 = datetime.strptime(str(datatimes[-1]), fmt)\n",
    "d2 = datetime.strptime(str(utcnow), fmt)\n",
    "print(\"\")\n",
    "print(\"***\", (d2-d1), \"since radar ingest for\", stid)\n",
    "\n",
    "# alert after 15 min\n",
    "if (d2-d1) > timedelta(minutes=15):\n",
    "    print(\"*** latency > 15 minutes\")\n",
    "    # do something here"
   ]
  },
  {
   "cell_type": "markdown",
   "metadata": {},
   "source": [
    "## EDEX Data Monitor\n",
    "\n",
    "A simple script to monitor the live data ingest of a remote EDEX server.  Check the timestamp of the last available level 3 radar file for KFTG (Denver, CO), which should be ingested every 5 minutes. "
   ]
  },
  {
   "cell_type": "code",
   "execution_count": null,
   "metadata": {
    "collapsed": true
   },
   "outputs": [],
   "source": []
  }
 ],
 "metadata": {
  "kernelspec": {
   "display_name": "Python 3",
   "language": "python",
   "name": "python3"
  },
  "language_info": {
   "codemirror_mode": {
    "name": "ipython",
    "version": 3
   },
   "file_extension": ".py",
   "mimetype": "text/x-python",
   "name": "python",
   "nbconvert_exporter": "python",
   "pygments_lexer": "ipython3",
   "version": "3.5.2"
  }
 },
 "nbformat": 4,
 "nbformat_minor": 0
}
