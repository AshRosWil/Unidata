{
 "cells": [
  {
   "cell_type": "markdown",
   "metadata": {},
   "source": [
    "<a name=\"top\"></a>\n",
    "<div style=\"width:1000 px\">\n",
    "\n",
    "<div style=\"float:right; width:98 px; height:98px;\">\n",
    "<img src=\"https://raw.githubusercontent.com/Unidata/MetPy/master/metpy/plots/_static/unidata_150x150.png\" alt=\"Unidata Logo\" style=\"height: 98px;\">\n",
    "</div>\n",
    "\n",
    "<h1>Hodographs</h1>\n",
    "<h3>Unidata Python Workshop</h3>\n",
    "\n",
    "<div style=\"clear:both\"></div>\n",
    "</div>\n",
    "\n",
    "<hr style=\"height:2px;\">\n",
    "\n",
    "<div style=\"float:right; width:250 px\"><img src=\"https://unidata.github.io/MetPy/latest/_images/sphx_glr_Advanced_Sounding_001.png\" alt=\"Example Skew-T\" style=\"height: 500px;\"></div>\n",
    "\n",
    "### Questions\n",
    "1. What is a hodograph?\n",
    "1. How can MetPy plot hodographs?\n",
    "1. How can the style of the hodographs be modified to encode other information?\n",
    "\n",
    "### Objectives\n",
    "1. <a href=\"#upperairdata\">Obtain upper air data</a>\n",
    "1. <a href=\"#simpleplot\">Make a simple hodograph</a>\n",
    "1. <a href=\"#annotate\">Annotate the hodograph with wind vectors</a>\n",
    "1. <a href=\"#continuous\">Color the plot (continuous)</a>\n",
    "1. <a href=\"#segmented\">Color the plot (segmented)</a>"
   ]
  },
  {
   "cell_type": "markdown",
   "metadata": {},
   "source": [
    "<a name=\"upperairdata\"></a>\n",
    "## Obtain upper air data\n",
    "\n",
    "Just as we learned in the siphon basics and upper air and skew-T notebook, we need to obtain upperair data to plot. We are going to stick with September 10, 2017 at 00Z for Key West, Fl. If you need a review on obtaining upper air data, please review those lessons."
   ]
  },
  {
   "cell_type": "code",
   "execution_count": null,
   "metadata": {},
   "outputs": [],
   "source": [
    "from datetime import datetime\n",
    "\n",
    "from metpy.units import pandas_dataframe_to_unit_arrays\n",
    "from siphon.simplewebservice.wyoming import WyomingUpperAir\n",
    "\n",
    "df = WyomingUpperAir.request_data(datetime(1998, 10, 4, 0), 'OUN')\n",
    "data = pandas_dataframe_to_unit_arrays(df)"
   ]
  },
  {
   "cell_type": "markdown",
   "metadata": {},
   "source": [
    "<a href=\"#top\">Top</a>\n",
    "<hr style=\"height:2px;\">"
   ]
  },
  {
   "cell_type": "markdown",
   "metadata": {},
   "source": [
    "<a name=\"simpleplot\"></a>\n",
    "## Make a Simple Hodograph\n",
    "\n",
    "The hodograph is a plot of the wind shear in the sounding. It is constructed by drawing the winds as vectors from the origin and connecting the heads of those vectors. MetPy makes this simple!"
   ]
  },
  {
   "cell_type": "code",
   "execution_count": null,
   "metadata": {},
   "outputs": [],
   "source": [
    "import matplotlib.pyplot as plt\n",
    "from metpy.plots import Hodograph\n",
    "%matplotlib inline"
   ]
  },
  {
   "cell_type": "code",
   "execution_count": null,
   "metadata": {},
   "outputs": [],
   "source": [
    "fig = plt.figure(figsize=(6, 6))\n",
    "ax = fig.add_subplot(1, 1, 1)\n",
    "\n",
    "h = Hodograph(ax, component_range=60.)\n",
    "h.add_grid(increment=20)\n",
    "h.plot(data['u_wind'], data['v_wind'], color='tab:red')"
   ]
  },
  {
   "cell_type": "markdown",
   "metadata": {},
   "source": [
    "It's relatively common to not want or need to display the entire sounding on a hodograph. Let's limit these data to the lowest 10km and plot it again."
   ]
  },
  {
   "cell_type": "code",
   "execution_count": null,
   "metadata": {},
   "outputs": [],
   "source": [
    "import metpy.calc as mpcalc\n",
    "from metpy.units import units\n",
    "_, u_trimmed, v_trimmed, speed_trimmed, height_trimmed = mpcalc.get_layer(data['pressure'], data['u_wind'],\n",
    "                                                          data['v_wind'], data['speed'], data['height'],\n",
    "                                                          heights=data['height'], depth=10 * units.km)"
   ]
  },
  {
   "cell_type": "code",
   "execution_count": null,
   "metadata": {},
   "outputs": [],
   "source": [
    "fig = plt.figure(figsize=(6, 6))\n",
    "ax = fig.add_subplot(1, 1, 1)\n",
    "\n",
    "h = Hodograph(ax, component_range=30.)\n",
    "h.add_grid(increment=10)\n",
    "h.plot(u_trimmed, v_trimmed, color='tab:red')"
   ]
  },
  {
   "cell_type": "markdown",
   "metadata": {},
   "source": [
    "<a name=\"annotate\"></a>\n",
    "## Annotate the hodograph with wind vectors\n",
    "\n",
    "It may be useful when introducing hodographs to actually show the wind vectors on the plot. The `wind_vectors` method does exactly this. It is often necessary to decimate the wind vectors for the plot to be intelligible."
   ]
  },
  {
   "cell_type": "code",
   "execution_count": null,
   "metadata": {},
   "outputs": [],
   "source": [
    "h.wind_vectors(u_trimmed[::3], v_trimmed[::3])\n",
    "fig"
   ]
  },
  {
   "cell_type": "markdown",
   "metadata": {},
   "source": [
    "We can also set the limits to be asymmetric to beter utilize the plot space."
   ]
  },
  {
   "cell_type": "code",
   "execution_count": null,
   "metadata": {},
   "outputs": [],
   "source": [
    "ax.set_xlim(-10, 30)\n",
    "ax.set_ylim(-10, 20)\n",
    "fig"
   ]
  },
  {
   "cell_type": "markdown",
   "metadata": {},
   "source": [
    "<a name=\"continuous\"></a>\n",
    "## Color the plot (continuous)\n",
    "\n",
    "We can color the line on the hodograph by another variable as well. In the simplest case it will be \"continuously\" colored, changing with the value of the variable such as windspeed."
   ]
  },
  {
   "cell_type": "code",
   "execution_count": null,
   "metadata": {},
   "outputs": [],
   "source": [
    "fig = plt.figure(figsize=(6, 6))\n",
    "ax = fig.add_subplot(1, 1, 1)\n",
    "\n",
    "h = Hodograph(ax, component_range=30.)\n",
    "h.add_grid(increment=10)\n",
    "h.plot_colormapped(u_trimmed, v_trimmed, speed_trimmed)"
   ]
  },
  {
   "cell_type": "code",
   "execution_count": null,
   "metadata": {},
   "outputs": [],
   "source": [
    "from metpy.plots import colortables\n",
    "import numpy as np\n",
    "\n",
    "fig = plt.figure(figsize=(6, 6))\n",
    "ax = fig.add_subplot(1, 1, 1)\n",
    "\n",
    "norm, cmap = colortables.get_with_range('Carbone42', np.min(speed_trimmed), np.max(speed_trimmed))\n",
    "\n",
    "h = Hodograph(ax, component_range=30.)\n",
    "h.add_grid(increment=10)\n",
    "h.plot_colormapped(u_trimmed, v_trimmed, speed_trimmed, cmap=cmap, norm=norm)"
   ]
  },
  {
   "cell_type": "markdown",
   "metadata": {},
   "source": [
    "<a name=\"segmented\"></a>\n",
    "## Color the plot (segmented)\n",
    "\n",
    "It may be useful when introducing hodographs to actually show the wind vectors on the plot. The `wind_vectors` method does exactly this. It is often necessary to decimate the wind vectors for the plot to be intelligible."
   ]
  },
  {
   "cell_type": "markdown",
   "metadata": {},
   "source": [
    "We can also color the hodograph based on another variable - either continuously or in a segmented way. Here we'll color the hodograph by height above ground level."
   ]
  },
  {
   "cell_type": "code",
   "execution_count": null,
   "metadata": {},
   "outputs": [],
   "source": [
    "fig = plt.figure(figsize=(6, 6))\n",
    "ax = fig.add_subplot(1, 1, 1)\n",
    "\n",
    "boundaries = np.array([0, 1, 3, 5, 8]) * units.km\n",
    "colors = ['tab:red', 'tab:green', 'tab:blue', 'tab:olive']\n",
    "\n",
    "# Since we want to do things in terms of AGL, we need to make AGL heights\n",
    "agl = height_trimmed - height_trimmed[0]\n",
    "\n",
    "h = Hodograph(ax, component_range=30.)\n",
    "h.add_grid(increment=10)\n",
    "h.plot_colormapped(u_trimmed, v_trimmed, agl, bounds=boundaries, colors=colors)"
   ]
  },
  {
   "cell_type": "markdown",
   "metadata": {},
   "source": [
    "<a href=\"#top\">Top</a>\n",
    "<hr style=\"height:2px;\">"
   ]
  }
 ],
 "metadata": {
  "kernelspec": {
   "display_name": "Python 3",
   "language": "python",
   "name": "python3"
  },
  "language_info": {
   "codemirror_mode": {
    "name": "ipython",
    "version": 3
   },
   "file_extension": ".py",
   "mimetype": "text/x-python",
   "name": "python",
   "nbconvert_exporter": "python",
   "pygments_lexer": "ipython3",
   "version": "3.6.5"
  }
 },
 "nbformat": 4,
 "nbformat_minor": 1
}
