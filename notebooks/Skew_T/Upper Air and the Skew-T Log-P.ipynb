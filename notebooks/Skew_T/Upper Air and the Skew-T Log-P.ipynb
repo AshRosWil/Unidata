{
 "cells": [
  {
   "cell_type": "markdown",
   "metadata": {},
   "source": [
    "<a name=\"top\"></a>\n",
    "<div style=\"width:1000 px\">\n",
    "\n",
    "<div style=\"float:right; width:98 px; height:98px;\">\n",
    "<img src=\"https://raw.githubusercontent.com/Unidata/MetPy/master/metpy/plots/_static/unidata_150x150.png\" alt=\"Unidata Logo\" style=\"height: 98px;\">\n",
    "</div>\n",
    "\n",
    "<h1>Upper Air and the Skew-T Log-P</h1>\n",
    "<h3>Unidata Python Workshop</h3>\n",
    "\n",
    "<div style=\"clear:both\"></div>\n",
    "</div>\n",
    "\n",
    "<hr style=\"height:2px;\">\n",
    "\n",
    "<div style=\"float:right; width:250 px\"><img src=\"https://unidata.github.io/MetPy/latest/_images/sphx_glr_Advanced_Sounding_001.png\" alt=\"Example Skew-T\" style=\"height: 500px;\"></div>\n",
    "\n",
    "\n",
    "## Overview:\n",
    "\n",
    "* **Teaching:** 30 minutes\n",
    "* **Exercises:** 60 minutes\n",
    "\n",
    "### Questions\n",
    "1. Where can upper air data be found and what format is it in?\n",
    "1. How can I obtain upper air data programatically?\n",
    "1. How can MetPy be used to make a Skew-T Log-P diagram?\n",
    "1. What calculations can be performed on the data?\n",
    "\n",
    "### Objectives\n",
    "1. <a href=\"#upperairdata\">Obtain upper air data</a>\n",
    "1. <a href=\"#simpleplot\">Make a simple plot</a>\n",
    "1. <a href=\"#skewt\">Make a Skew-T</a>\n",
    "1. <a href=\"#lcl_lfc_el\">Calculate LCL, LFC, EL</a>\n",
    "1. <a href=\"#parcelpath\">Parcel Path</a>\n",
    "1. <a href=\"#CAPE\">Calculate CAPE and CIN</a>\n",
    "1. <a href=\"#otherparameters\">Other parameters</a>\n",
    "1. <a href=\"#fiduciallines\">Adding fiducial lines and shading</a>\n",
    "1. <a href=\"#hodograph\">Plotting a hodograph</a>"
   ]
  },
  {
   "cell_type": "markdown",
   "metadata": {},
   "source": [
    "<a name=\"upperairdata\"></a>\n",
    "## Obtain upper air data\n",
    "\n",
    "Upper air observations are reported as a plain text file in a tabular format that represents the down sampled raw data transmitted by the balloon. Data are reported an mandatory levels and at levels of significant change. An example of the beginning of sounding data may look like this:\n",
    "\n",
    "```\n",
    "-----------------------------------------------------------------------------\n",
    "   PRES   HGHT   TEMP   DWPT   RELH   MIXR   DRCT   SKNT   THTA   THTE   THTV\n",
    "    hPa     m      C      C      %    g/kg    deg   knot     K      K      K \n",
    "-----------------------------------------------------------------------------\n",
    " 1000.0    270                                                               \n",
    "  991.0    345   -0.3   -2.8     83   3.15      0      0  273.6  282.3  274.1\n",
    "  984.0    403   10.2   -7.8     27   2.17    327      4  284.7  291.1  285.0\n",
    "  963.0    581   11.8   -9.2     22   1.99    226     17  288.0  294.1  288.4\n",
    "  959.7    610   11.6   -9.4     22   1.96    210     19  288.1  294.1  288.5\n",
    "  ```\n",
    "  \n",
    "The data are available to download from the [University of Wyoming archive](http://weather.uwyo.edu/upperair/sounding.html) and the [Iowa State archive](https://mesonet.agron.iastate.edu/archive/raob/). **There is no need to download data manually.** We can use the siphon library (also developed at Unidata) to request and download these data. Let's download some data from Miami just prior to Irma's landfall.\n",
    "\n",
    "First, we need to create a `datetime` object that has the time of observation we are looking for. We can then request the data for a specific station. Currently date range requests are not possible, but planned for future releases."
   ]
  },
  {
   "cell_type": "code",
   "execution_count": null,
   "metadata": {},
   "outputs": [],
   "source": [
    "from datetime import datetime\n",
    "\n",
    "from siphon.simplewebservice.wyoming import WyomingUpperAir\n",
    "from metpy.io import get_upper_air_data\n",
    "\n",
    "date = datetime(2017, 9, 10, 6)\n",
    "station = 'MFL'\n",
    "df = WyomingUpperAir.request_data(date, station)"
   ]
  },
  {
   "cell_type": "markdown",
   "metadata": {},
   "source": [
    "The data are returned as a `pandas` `DataFrame`:"
   ]
  },
  {
   "cell_type": "code",
   "execution_count": null,
   "metadata": {},
   "outputs": [],
   "source": [
    "df"
   ]
  },
  {
   "cell_type": "markdown",
   "metadata": {},
   "source": [
    "Next, we will pull out the data and attach the units which are stored in a dictionary in the `DataFrame` attribute `units`."
   ]
  },
  {
   "cell_type": "code",
   "execution_count": null,
   "metadata": {},
   "outputs": [],
   "source": [
    "from metpy.units import units\n",
    "\n",
    "p = df['pressure'].values * units(df.units['pressure'])\n",
    "T = df['temperature'].values * units(df.units['temperature'])\n",
    "Td = df['dewpoint'].values * units(df.units['dewpoint'])\n",
    "u = df['u_wind'].values * units(df.units['u_wind'])\n",
    "v = df['v_wind'].values * units(df.units['v_wind'])"
   ]
  },
  {
   "cell_type": "markdown",
   "metadata": {},
   "source": [
    "<div class=\"alert alert-success\">\n",
    "    <b>EXERCISE</b>:\n",
    "     <ul>\n",
    "      <li>\n",
    "      Get data from the 9/10/2017 00Z Key West sounding (the one closest to Irma's landfall). Use the Wyoming webpage\n",
    "      or SPC sounding analysis page if you need to lookup the station identifier.\n",
    "      </li>\n",
    "      <li>Pull the data out into <code>p, T, Td, u, v</code> variables and attach the proper units.</li>\n",
    "    </ul>\n",
    "</div>"
   ]
  },
  {
   "cell_type": "code",
   "execution_count": null,
   "metadata": {},
   "outputs": [],
   "source": [
    "# Your code goes here\n"
   ]
  },
  {
   "cell_type": "code",
   "execution_count": null,
   "metadata": {},
   "outputs": [],
   "source": [
    "# %load solutions/skewt_get_data.py"
   ]
  },
  {
   "cell_type": "markdown",
   "metadata": {},
   "source": [
    "<a href=\"#top\">Top</a>\n",
    "<hr style=\"height:2px;\">"
   ]
  },
  {
   "cell_type": "markdown",
   "metadata": {},
   "source": [
    "<a name=\"simpleplot\"></a>\n",
    "## Make a Simple Plot\n",
    "\n",
    "Knowing what we already know about plotting in Python, we can explore the data a little, but the plots are not exactly what we are used to looking at. (Also notice that if we do not provide unit labels, `matplotlib` will work with the units attached to the quantities!"
   ]
  },
  {
   "cell_type": "code",
   "execution_count": null,
   "metadata": {},
   "outputs": [],
   "source": [
    "import matplotlib.pyplot as plt\n",
    "%matplotlib inline"
   ]
  },
  {
   "cell_type": "code",
   "execution_count": null,
   "metadata": {},
   "outputs": [],
   "source": [
    "fig = plt.figure(figsize=(10, 10))\n",
    "ax1 = plt.subplot()\n",
    "\n",
    "ax1.plot(T, p, color='tab:red')\n",
    "ax1.plot(Td, p, color='tab:green')\n",
    "\n",
    "ax1.set_ylim(1000, 0)"
   ]
  },
  {
   "cell_type": "markdown",
   "metadata": {},
   "source": [
    "<a href=\"#top\">Top</a>\n",
    "<hr style=\"height:2px;\">"
   ]
  },
  {
   "cell_type": "markdown",
   "metadata": {},
   "source": [
    "<a name=\"skewt\"></a>\n",
    "\n",
    "## Make a Skew-T\n",
    "As meteorologists, we are used to looking at soundings on the Skew-T Log-p diagram. This is a tricky plot to make – the isotherms are skewed diagonally, pressure is plotted in log space, and we often want to see fiducial lines showing dry adiabats, moist adiabats, etc. MetPy has the capability to make a Skew-T baked in!"
   ]
  },
  {
   "cell_type": "code",
   "execution_count": null,
   "metadata": {},
   "outputs": [],
   "source": [
    "from metpy.plots import SkewT\n",
    "\n",
    "# Create a new figure. The dimensions here give a good aspect ratio\n",
    "fig = plt.figure(figsize=(10, 10))\n",
    "skew = SkewT(fig)\n",
    "\n",
    "# Plot the data using normal plotting functions, all of the transforms\n",
    "# happen in the background!\n",
    "skew.plot(p, T, color='tab:red')"
   ]
  },
  {
   "cell_type": "markdown",
   "metadata": {},
   "source": [
    "Let's set the pressure limits to be sensible for what we're interested in, say 1000-100 hPa. We'll also add wind barbs using the `plot_barbs` functionality from `metpy`.\n",
    "\n",
    "<div class=\"alert alert-info\">\n",
    "    <b>Tip</b>:\n",
    "     You can redisplay the same figure after we've modified it by simply putting the figure handle at the bottom\n",
    "     of the cell.\n",
    "</div>"
   ]
  },
  {
   "cell_type": "code",
   "execution_count": null,
   "metadata": {},
   "outputs": [],
   "source": [
    "# Add wind barbs\n",
    "skew.plot_barbs(p, u, v)\n",
    "\n",
    "# Set some sensible axis limits\n",
    "skew.ax.set_ylim(1000, 100)\n",
    "\n",
    "fig"
   ]
  },
  {
   "cell_type": "markdown",
   "metadata": {},
   "source": [
    "<div class=\"alert alert-success\">\n",
    "    <b>EXERCISE</b>:\n",
    "     <ul>\n",
    "      <li>Add a green line for dewpoint.</li>\n",
    "      <li>Set the x-axis limits to something sensible.</li>\n",
    "    </ul>\n",
    "</div>"
   ]
  },
  {
   "cell_type": "code",
   "execution_count": null,
   "metadata": {},
   "outputs": [],
   "source": [
    "# Your code goes here\n"
   ]
  },
  {
   "cell_type": "code",
   "execution_count": null,
   "metadata": {},
   "outputs": [],
   "source": [
    "# %load solutions/skewt_dewpoint_limits.py"
   ]
  },
  {
   "cell_type": "markdown",
   "metadata": {},
   "source": [
    "<a href=\"#top\">Top</a>\n",
    "<hr style=\"height:2px;\">"
   ]
  },
  {
   "cell_type": "markdown",
   "metadata": {},
   "source": [
    "<a name=\"lcl_lfc_el\"></a>\n",
    "## Calculate LCL, LFC, EL\n",
    "\n",
    "Generally we are interested in some thermodynamic parameters when looking at upper air data. We often want to know what the level of free convection (LFC), the lifted condensation level (LCL), or the equilibrium level (EL) is for a given sounding. MetPy implements these calculations for you, taking care of the numerical methods and testing. Let’s calculate some of these values and add them to our Skew-T."
   ]
  },
  {
   "cell_type": "code",
   "execution_count": null,
   "metadata": {},
   "outputs": [],
   "source": [
    "import metpy.calc as mpcalc\n",
    "\n",
    "lcl_pressure, lcl_temperature = mpcalc.lcl(p[0], T[0], Td[0])"
   ]
  },
  {
   "cell_type": "code",
   "execution_count": null,
   "metadata": {},
   "outputs": [],
   "source": [
    "# Only try to draw the line if the value isn't NaN!\n",
    "if lcl_pressure:\n",
    "    skew.ax.axhline(lcl_pressure, color='black')\n",
    "\n",
    "fig"
   ]
  },
  {
   "cell_type": "markdown",
   "metadata": {},
   "source": [
    "<div class=\"alert alert-success\">\n",
    "    <b>EXERCISE</b>:\n",
    "     <ul>\n",
    "      <li>Add the LFC to the plot (lfc takes the pressure, temperature, and dewpoint profiles).\n",
    "      <li>Add the EL to the plot.\n",
    "    </ul>\n",
    "</div>"
   ]
  },
  {
   "cell_type": "code",
   "execution_count": null,
   "metadata": {},
   "outputs": [],
   "source": [
    "# Your code goes here\n"
   ]
  },
  {
   "cell_type": "code",
   "execution_count": null,
   "metadata": {},
   "outputs": [],
   "source": [
    "# %load solutions/skewt_lfc_el.py"
   ]
  },
  {
   "cell_type": "markdown",
   "metadata": {},
   "source": [
    "<a href=\"#top\">Top</a>\n",
    "<hr style=\"height:2px;\">"
   ]
  },
  {
   "cell_type": "markdown",
   "metadata": {},
   "source": [
    "<a name=\"parcelpath\"></a>\n",
    "## Parcel Path\n",
    "When considering the stability of the atmosphere we often talk about the ideal parcel path. A parcel lifted from the surface along a dry adiabatic path until it becomes saturated, then lifted along a moist adiabatic path. MetPy will calculated the ideal parcel path given the starting point (generally the surface)."
   ]
  },
  {
   "cell_type": "code",
   "execution_count": null,
   "metadata": {},
   "outputs": [],
   "source": [
    "parcel_path = mpcalc.parcel_profile(p, T[0], Td[0]).to('degC')"
   ]
  },
  {
   "cell_type": "code",
   "execution_count": null,
   "metadata": {},
   "outputs": [],
   "source": [
    "print(parcel_path)"
   ]
  },
  {
   "cell_type": "code",
   "execution_count": null,
   "metadata": {},
   "outputs": [],
   "source": [
    "skew.plot(p, parcel_path, color='black')\n",
    "fig"
   ]
  },
  {
   "cell_type": "markdown",
   "metadata": {},
   "source": [
    "<a href=\"#top\">Top</a>\n",
    "<hr style=\"height:2px;\">"
   ]
  },
  {
   "cell_type": "markdown",
   "metadata": {},
   "source": [
    "<a name=\"CAPE\"></a>\n",
    "## Calculate CAPE and CIN\n",
    "Some of the most requested thermodynamic parameters are the Convective Available Potential Energy (CAPE) and Convective INhibition (CIN). MetPy will allow you to compute these in a single call!"
   ]
  },
  {
   "cell_type": "code",
   "execution_count": null,
   "metadata": {},
   "outputs": [],
   "source": [
    "mpcalc.surface_based_cape_cin(p, T, Td)"
   ]
  },
  {
   "cell_type": "markdown",
   "metadata": {},
   "source": [
    "<div class=\"alert alert-success\">\n",
    "    <b>EXERCISE</b>:\n",
    "     <ul>\n",
    "      <li>Calculate the most unstable CAPE/CIN for this sounding. What do you expect the results to be?</li>\n",
    "    </ul>\n",
    "    <p>\n",
    "    <b>HINT</b>: Look at the documentation for <code>most_unstable_cape_cin</code>.\n",
    "</div>"
   ]
  },
  {
   "cell_type": "code",
   "execution_count": null,
   "metadata": {},
   "outputs": [],
   "source": [
    "# Your code goes here\n"
   ]
  },
  {
   "cell_type": "code",
   "execution_count": null,
   "metadata": {},
   "outputs": [],
   "source": [
    "# %load solutions/skewt_mucape.py"
   ]
  },
  {
   "cell_type": "markdown",
   "metadata": {},
   "source": [
    "<div class=\"alert alert-info\">\n",
    "    <b>TIP</b>:\n",
    "    You can calculate CAPE and CIN with any parcel profile you can dream up! This allows you to play with the surface conditions, mix layers, or use different adiabatic profiles. The function <code>cape_cin</code> takes an arbitrary parcel as its last argument.\n",
    "</div>"
   ]
  },
  {
   "cell_type": "markdown",
   "metadata": {},
   "source": [
    "<a href=\"#top\">Top</a>\n",
    "<hr style=\"height:2px;\">"
   ]
  },
  {
   "cell_type": "markdown",
   "metadata": {},
   "source": [
    "<a name=\"otherparameters\"></a>\n",
    "## Other Parameters\n",
    "There are several other parameters you can calculate with MetPy. These include bulk shear, Bunkers storm motion, precipitable water, significant tornado parameter, storm relative helicity, and supercell composite. See the documentation for how to use each of these and their recpective sources.\n",
    "\n",
    "Let's calculate an interesting parameter for this sounding from hurricane Irma - percipitable water:"
   ]
  },
  {
   "cell_type": "code",
   "execution_count": null,
   "metadata": {},
   "outputs": [],
   "source": [
    "mpcalc.precipitable_water(Td, p)"
   ]
  },
  {
   "cell_type": "code",
   "execution_count": null,
   "metadata": {},
   "outputs": [],
   "source": [
    "mpcalc.precipitable_water(Td, p).to('inches')"
   ]
  },
  {
   "cell_type": "markdown",
   "metadata": {},
   "source": [
    "<div class=\"alert alert-success\">\n",
    "    <b>EXERCISE</b>:\n",
    "     <ul>\n",
    "      <li>Calculate the bulk shear over the lowest 200 hPa of the sounding.</li>\n",
    "    </ul>\n",
    "    <p>\n",
    "    <b>HINT</b>: Look at the documentation for <code>bulk_shear</code>.\n",
    "</div>"
   ]
  },
  {
   "cell_type": "code",
   "execution_count": null,
   "metadata": {},
   "outputs": [],
   "source": [
    "# Your code goes here\n"
   ]
  },
  {
   "cell_type": "code",
   "execution_count": null,
   "metadata": {},
   "outputs": [],
   "source": [
    "# %load solutions/skewt_bulk_shear.py"
   ]
  },
  {
   "cell_type": "markdown",
   "metadata": {},
   "source": [
    "<a href=\"#top\">Top</a>\n",
    "<hr style=\"height:2px;\">"
   ]
  },
  {
   "cell_type": "markdown",
   "metadata": {},
   "source": [
    "<a name=\"fiduciallines\"></a>\n",
    "## Adding fiducial lines and shading\n",
    "\n",
    "Now that you’ve got the basics of the Skew-T down, it’s time to really dress it up. You could use the `moist_lapse` and `dry_lapse` functions in the calculations module to calculate and dry fiducials on the plot, but MetPy can do it for us."
   ]
  },
  {
   "cell_type": "code",
   "execution_count": null,
   "metadata": {},
   "outputs": [],
   "source": [
    "# Add the relevant special lines\n",
    "skew.plot_dry_adiabats()\n",
    "skew.plot_moist_adiabats()\n",
    "skew.plot_mixing_lines()\n",
    "\n",
    "fig"
   ]
  },
  {
   "cell_type": "markdown",
   "metadata": {},
   "source": [
    "<div class=\"alert alert-success\">\n",
    "    <b>EXERCISE</b>:\n",
    "    <ul>\n",
    "      <li>Add moist adiabats to the skew-T using <code>plot_moist_adiabats()</code>.</li>\n",
    "      <li>Add mixing ratio lines to the skew-T using <code>plot_mixing_lines().</code></li>\n",
    "    </ul>\n",
    "</div>"
   ]
  },
  {
   "cell_type": "code",
   "execution_count": null,
   "metadata": {},
   "outputs": [],
   "source": [
    "# Your code goes here\n"
   ]
  },
  {
   "cell_type": "code",
   "execution_count": null,
   "metadata": {},
   "outputs": [],
   "source": [
    "# %load solutions/skewt_fiducial_lines.py"
   ]
  },
  {
   "cell_type": "markdown",
   "metadata": {},
   "source": [
    "We can also shade the areas that represent CAPE and CIN to make things a little more visually appealing."
   ]
  },
  {
   "cell_type": "code",
   "execution_count": null,
   "metadata": {},
   "outputs": [],
   "source": [
    "# Shade areas representing CAPE and CIN\n",
    "skew.shade_cin(p, T, parcel_path)\n",
    "skew.shade_cape(p, T, parcel_path)\n",
    "\n",
    "fig"
   ]
  },
  {
   "cell_type": "markdown",
   "metadata": {},
   "source": [
    "We can also highlight certain isotherms. One important isotherm is the freezing point of water. Let’s add a highlight to that line. The skew transform happens automatically!"
   ]
  },
  {
   "cell_type": "code",
   "execution_count": null,
   "metadata": {
    "scrolled": false
   },
   "outputs": [],
   "source": [
    "skew.ax.axvline(0, color='c', linestyle='--', linewidth=2)\n",
    "\n",
    "fig"
   ]
  },
  {
   "cell_type": "markdown",
   "metadata": {},
   "source": [
    "<a href=\"#top\">Top</a>\n",
    "<hr style=\"height:2px;\">"
   ]
  },
  {
   "cell_type": "markdown",
   "metadata": {},
   "source": [
    "<a name=\"hodograph\"></a>\n",
    "## Plotting a Hodograph\n",
    "\n",
    "We can also add a hodograph to the plot, using matplotlib's `inset_axes` function:"
   ]
  },
  {
   "cell_type": "code",
   "execution_count": null,
   "metadata": {},
   "outputs": [],
   "source": [
    "from mpl_toolkits.axes_grid1.inset_locator import inset_axes\n",
    "from metpy.plots import Hodograph\n",
    "from metpy.units import units\n",
    "import numpy as np\n",
    "\n",
    "# Get the wind speed from the dataset\n",
    "windspeed = df['speed'] * units(df.units['speed'])\n",
    "\n",
    "# Add an axes to the plot\n",
    "ax_hod = inset_axes(skew.ax, '30%', '30%', loc=1, borderpad=3)\n",
    "\n",
    "# Plot the hodograph\n",
    "h = Hodograph(ax_hod, component_range=100.)\n",
    "\n",
    "# Grid the hodograph\n",
    "h.add_grid(increment=20)\n",
    "\n",
    "# Plot the data on the hodograph\n",
    "mask = (p >= 100 * units.mbar)\n",
    "h.plot(u[mask], v[mask], c='k')\n",
    "fig"
   ]
  },
  {
   "cell_type": "markdown",
   "metadata": {},
   "source": [
    "We can also color the hodograph based on another variable - either continuously or in a segmented way. Here we'll color the hodograph by height above ground level."
   ]
  },
  {
   "cell_type": "code",
   "execution_count": null,
   "metadata": {},
   "outputs": [],
   "source": [
    "fig = plt.figure(figsize=(3, 3))\n",
    "h = Hodograph()\n",
    "\n",
    "bounds = [0, 1, 3, 5, 10] * units.km\n",
    "colors = ['magenta', 'red', 'yellow', 'green']\n",
    "heights = df['height'].values * units(df.units['height'])\n",
    "h.plot_colormapped(u, v, heights, bounds=bounds, colors=colors)\n",
    "h.add_grid(increment=20)"
   ]
  },
  {
   "cell_type": "markdown",
   "metadata": {},
   "source": [
    "<div class=\"alert alert-success\">\n",
    "    <b>EXERCISE</b>:\n",
    "    <ul>\n",
    "    <li>Use the <code>plot_colormapped</code> function to make a hodograph in a new figure with the \n",
    "        line colored continuously by the windspeed.</li>\n",
    "    </ul>\n",
    "</div>"
   ]
  },
  {
   "cell_type": "code",
   "execution_count": null,
   "metadata": {},
   "outputs": [],
   "source": [
    "# Your code goes here\n"
   ]
  },
  {
   "cell_type": "code",
   "execution_count": null,
   "metadata": {},
   "outputs": [],
   "source": [
    "# %load solutions/skewt_plot_hodograph.py"
   ]
  },
  {
   "cell_type": "markdown",
   "metadata": {},
   "source": [
    "<a href=\"#top\">Top</a>\n",
    "<hr style=\"height:2px;\">"
   ]
  }
 ],
 "metadata": {
  "kernelspec": {
   "display_name": "Python 3",
   "language": "python",
   "name": "python3"
  },
  "language_info": {
   "codemirror_mode": {
    "name": "ipython",
    "version": 3
   },
   "file_extension": ".py",
   "mimetype": "text/x-python",
   "name": "python",
   "nbconvert_exporter": "python",
   "pygments_lexer": "ipython3",
   "version": "3.6.2"
  }
 },
 "nbformat": 4,
 "nbformat_minor": 1
}
