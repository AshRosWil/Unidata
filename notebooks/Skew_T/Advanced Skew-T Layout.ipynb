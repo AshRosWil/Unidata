{
 "cells": [
  {
   "cell_type": "markdown",
   "metadata": {},
   "source": [
    "<a name=\"top\"></a>\n",
    "<div style=\"width:1000 px\">\n",
    "\n",
    "<div style=\"float:right; width:98 px; height:98px;\">\n",
    "<img src=\"https://raw.githubusercontent.com/Unidata/MetPy/master/metpy/plots/_static/unidata_150x150.png\" alt=\"Unidata Logo\" style=\"height: 98px;\">\n",
    "</div>\n",
    "\n",
    "<h1>Advanced Skew-T Layout</h1>\n",
    "<h3>Unidata Python Workshop</h3>\n",
    "\n",
    "<div style=\"clear:both\"></div>\n",
    "</div>\n",
    "\n",
    "<hr style=\"height:2px;\">\n",
    "\n",
    "<div style=\"float:right; width:250 px\"><img src=\"https://unidata.github.io/MetPy/latest/_images/sphx_glr_Advanced_Sounding_001.png\" alt=\"Example Skew-T\" style=\"height: 500px;\"></div>\n",
    "\n",
    "### Objective\n",
    "In this notebook we'll combine everything we've learned to make a nice skew-T with hodograph using `gridspec` layout."
   ]
  },
  {
   "cell_type": "markdown",
   "metadata": {},
   "source": [
    "## Obtain the data"
   ]
  },
  {
   "cell_type": "code",
   "execution_count": null,
   "metadata": {},
   "outputs": [],
   "source": [
    "from datetime import datetime\n",
    "\n",
    "from metpy.units import pandas_dataframe_to_unit_arrays\n",
    "from siphon.simplewebservice.wyoming import WyomingUpperAir\n",
    "\n",
    "df = WyomingUpperAir.request_data(datetime(1998, 10, 4, 0), 'OUN')\n",
    "data = pandas_dataframe_to_unit_arrays(df)"
   ]
  },
  {
   "cell_type": "code",
   "execution_count": null,
   "metadata": {},
   "outputs": [],
   "source": [
    "import matplotlib.pyplot as plt\n",
    "import matplotlib.gridspec as gridspec\n",
    "from metpy.plots import SkewT, add_metpy_logo, Hodograph\n",
    "import metpy.calc as mpcalc\n",
    "from metpy.units import units\n",
    "from mpl_toolkits.axes_grid1.inset_locator import inset_axes\n",
    "import numpy as np\n",
    "\n",
    "%matplotlib inline"
   ]
  },
  {
   "cell_type": "markdown",
   "metadata": {},
   "source": [
    "## Calculate parameters"
   ]
  },
  {
   "cell_type": "code",
   "execution_count": null,
   "metadata": {},
   "outputs": [],
   "source": [
    "lcl_pressure, lcl_temperature = mpcalc.lcl(data['pressure'][0],\n",
    "                                           data['temperature'][0],\n",
    "                                           data['dewpoint'][0])\n",
    "\n",
    "lfc_pressure, lfc_temperature = mpcalc.lfc(data['pressure'], data['temperature'], data['dewpoint'])\n",
    "\n",
    "el_pressure, el_temperature = mpcalc.el(data['pressure'], data['temperature'], data['dewpoint'])\n",
    "\n",
    "parcel_profile = mpcalc.parcel_profile(data['pressure'], data['temperature'][0], data['dewpoint'][0])"
   ]
  },
  {
   "cell_type": "markdown",
   "metadata": {},
   "source": [
    "## Make the Skew-T"
   ]
  },
  {
   "cell_type": "code",
   "execution_count": null,
   "metadata": {},
   "outputs": [],
   "source": [
    "# Create a new figure. The dimensions here give a good aspect ratio\n",
    "fig = plt.figure(figsize=(9, 9))\n",
    "add_metpy_logo(fig, 630, 80, size='large')\n",
    "\n",
    "# Grid for plots\n",
    "gs = gridspec.GridSpec(3, 3)\n",
    "skew = SkewT(fig, rotation=45, subplot=gs[:, :2])\n",
    "\n",
    "# Plot the data using normal plotting functions, in this case using\n",
    "# log scaling in Y, as dictated by the typical meteorological plot\n",
    "skew.plot(data['pressure'], data['temperature'], 'tab:red')\n",
    "skew.plot(data['pressure'], data['dewpoint'], 'tab:green')\n",
    "skew.plot(data['pressure'], parcel_profile, 'k')\n",
    "\n",
    "# Mask barbs to be below 100 hPa only\n",
    "mask = data['pressure'] >= 100 * units.hPa\n",
    "skew.plot_barbs(data['pressure'][mask], data['u_wind'][mask], data['v_wind'][mask])\n",
    "skew.ax.set_ylim(1000, 100)\n",
    "\n",
    "# Add the relevant special lines\n",
    "skew.plot_dry_adiabats()\n",
    "skew.plot_moist_adiabats()\n",
    "skew.plot_mixing_lines()\n",
    "\n",
    "# Shade areas\n",
    "skew.shade_cin(data['pressure'], data['temperature'], parcel_profile)\n",
    "skew.shade_cape(data['pressure'], data['temperature'], parcel_profile)\n",
    "\n",
    "# Good bounds for aspect ratio\n",
    "skew.ax.set_xlim(-30, 40)\n",
    "\n",
    "if lcl_pressure:\n",
    "    skew.ax.axhline(lcl_pressure, color='black')\n",
    "    \n",
    "if lfc_pressure:\n",
    "    skew.ax.axhline(lfc_pressure, color='tab:brown')\n",
    "    \n",
    "if el_pressure:\n",
    "    skew.ax.axhline(el_pressure, color='tab:blue')\n",
    "\n",
    "# Create a hodograph\n",
    "agl = data['height'] - data['height'][0]\n",
    "mask = agl <= 10 * units.km\n",
    "boundaries = np.array([0, 1, 3, 5, 8]) * units.km\n",
    "colors = ['tab:red', 'tab:green', 'tab:blue', 'tab:olive']\n",
    "ax = fig.add_subplot(gs[0, -1])\n",
    "h = Hodograph(ax, component_range=30.)\n",
    "h.add_grid(increment=10)\n",
    "h.plot_colormapped(data['u_wind'][mask], data['v_wind'][mask], agl[mask], bounds=boundaries, colors=colors)"
   ]
  },
  {
   "cell_type": "markdown",
   "metadata": {},
   "source": [
    "<a href=\"#top\">Top</a>\n",
    "<hr style=\"height:2px;\">"
   ]
  }
 ],
 "metadata": {
  "kernelspec": {
   "display_name": "Python 3",
   "language": "python",
   "name": "python3"
  },
  "language_info": {
   "codemirror_mode": {
    "name": "ipython",
    "version": 3
   },
   "file_extension": ".py",
   "mimetype": "text/x-python",
   "name": "python",
   "nbconvert_exporter": "python",
   "pygments_lexer": "ipython3",
   "version": "3.6.5"
  }
 },
 "nbformat": 4,
 "nbformat_minor": 1
}
