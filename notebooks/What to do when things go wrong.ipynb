{
 "cells": [
  {
   "cell_type": "markdown",
   "metadata": {},
   "source": [
    "# What to do when things go wrong\n",
    "\n",
    "Eventually, problems will arise when writing code.  These errors can take different forms.  Common issues include:\n",
    "\n",
    "* Syntax Errors\n",
    "* Runtime Errors\n",
    "* Unexpected Results\n",
    "\n",
    "Debugging and correcting these issues can be difficult.  However, there are strategies for preventing and mitigating many of the problems a developer may encounter."
   ]
  },
  {
   "cell_type": "markdown",
   "metadata": {},
   "source": [
    "# Syntax Errors\n",
    "\n",
    "Syntax errors usually occur when python is translated from `source code` into `byte code`.  This is typically identified by a message similar to:\n",
    "\n",
    "~~~\n",
    "SyntaxError: invalid syntax\n",
    "~~~\n",
    "\n",
    "Common syntax errors include:\n",
    "\n",
    "1. Using a reserved python keyword for a variable name.\n",
    "2. Missing colon at the end of `for`, `while`, `if`, `def` statements.\n",
    "3. Incorrect indentation. Don't mix spaces and tabs!\n",
    "4. Mismatched quotation marks.\n",
    "5. Unterminated strings.\n",
    "6. Unclosed brackets"
   ]
  },
  {
   "cell_type": "markdown",
   "metadata": {},
   "source": [
    "# Runtime errors"
   ]
  },
  {
   "cell_type": "markdown",
   "metadata": {},
   "source": [
    "## Debugging Runtime errors in Python with GDB\n",
    "\n",
    "It's possible to debug python using `gdb`.  It requires the pythong debugging extensions be installed.\n",
    "\n",
    "Running `gdb` interactively:\n",
    "\n",
    "````\n",
    "   $ gdb python\n",
    "   ....\n",
    "   (gdb) run <programname>.py <arguments>\n",
    "````\n",
    "\n",
    "Running `gdb` Automatically:\n",
    "\n",
    "````\n",
    "   $ gdb -ex r --args python <programname>.py <arguments>\n",
    "````\n",
    "\n",
    "The latter case runs the program until it exits, segfaults or execution is stopped.\n",
    "\n",
    "You can get a stack trace or python stack trace via:\n",
    "\n",
    "````\n",
    "   (gdb) bt\n",
    "````\n",
    "\n",
    "or\n",
    "\n",
    "````\n",
    "   (gdb) py-bt\n",
    "````   \n",
    "   "
   ]
  },
  {
   "cell_type": "markdown",
   "metadata": {},
   "source": [
    "### References\n",
    "\n",
    "* [https://wiki.python.org/moin/DebuggingWithGdb](https://wiki.python.org/moin/DebuggingWithGdb)\n",
    "* [http://www.openbookproject.net/thinkcs/python/english2e/app_a.html](http://www.openbookproject.net/thinkcs/python/english2e/app_a.html)"
   ]
  }
 ],
 "metadata": {
  "kernelspec": {
   "display_name": "Python 3",
   "language": "python",
   "name": "python3"
  },
  "language_info": {
   "codemirror_mode": {
    "name": "ipython",
    "version": 3
   },
   "file_extension": ".py",
   "mimetype": "text/x-python",
   "name": "python",
   "nbconvert_exporter": "python",
   "pygments_lexer": "ipython3",
   "version": "3.5.2"
  }
 },
 "nbformat": 4,
 "nbformat_minor": 1
}
