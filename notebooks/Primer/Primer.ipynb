{
 "cells": [
  {
   "cell_type": "markdown",
   "metadata": {},
   "source": [
    "<div style=\"width:1000 px\">\n",
    "\n",
    "<div style=\"float:right; width:98 px; height:98px;\">\n",
    "<img src=\"https://raw.githubusercontent.com/Unidata/MetPy/master/metpy/plots/_static/unidata_150x150.png\" alt=\"Unidata Logo\" style=\"height: 98px;\">\n",
    "</div>\n",
    "\n",
    "<h1>Primer</h1>\n",
    "<h3>Unidata Python Workshop</h3>\n",
    "\n",
    "<div style=\"clear:both\"></div>\n",
    "</div>\n",
    "\n",
    "<hr style=\"height:2px;\">\n",
    "\n",
    "<div style=\"float:right; width:250 px\"><img src=\"http://www.contribute.geeksforgeeks.org/wp-content/uploads/numpy-logo1.jpg\" alt=\"NumPy Logo\" style=\"height: 250px;\"></div>\n",
    "\n",
    "\n",
    "## Overview:\n",
    "\n",
    "* **Teaching:** 15 minutes\n",
    "* **Exercises:** 15 minutes\n",
    "\n",
    "### Questions\n",
    "1. What are arrays?\n",
    "2. How can arrays be manipulated effectively in Python?\n",
    "3. How do we work with unit information with MetPy?\n",
    "\n",
    "### Objectives\n",
    "1. Slice and index the array\n",
    "2. Perform a meteorological calculation on an array of data using MetPy.\n",
    "3. Use advanced methods to index into arrays\n",
    "\n",
    "### Resources\n",
    "- [MetPy Documentation](https://unidata.github.io/MetPy/)\n",
    "- [MetPy Calculation List](https://unidata.github.io/MetPy/api/generated/metpy.calc.html)\n",
    "- [MetPy Constants](https://unidata.github.io/MetPy/api/generated/metpy.constants.html)"
   ]
  },
  {
   "cell_type": "markdown",
   "metadata": {
    "slideshow": {
     "slide_type": "slide"
    }
   },
   "source": [
    "## 1. Index and slice arrays\n",
    "\n",
    "Indexing is how we pull individual data items out of an array. Slicing extends this process to pulling out a regular set of the items."
   ]
  },
  {
   "cell_type": "code",
   "execution_count": 1,
   "metadata": {},
   "outputs": [],
   "source": [
    "# Convention for import to get shortened namespace\n",
    "import numpy as np"
   ]
  },
  {
   "cell_type": "code",
   "execution_count": 2,
   "metadata": {
    "slideshow": {
     "slide_type": "subslide"
    }
   },
   "outputs": [],
   "source": [
    "# Create an array for testing\n",
    "a = np.arange(12).reshape(3, 4)"
   ]
  },
  {
   "cell_type": "code",
   "execution_count": 3,
   "metadata": {
    "slideshow": {
     "slide_type": "fragment"
    }
   },
   "outputs": [
    {
     "data": {
      "text/plain": [
       "array([[ 0,  1,  2,  3],\n",
       "       [ 4,  5,  6,  7],\n",
       "       [ 8,  9, 10, 11]])"
      ]
     },
     "execution_count": 3,
     "metadata": {},
     "output_type": "execute_result"
    }
   ],
   "source": [
    "a"
   ]
  },
  {
   "cell_type": "markdown",
   "metadata": {
    "slideshow": {
     "slide_type": "subslide"
    }
   },
   "source": [
    "Indexing in Python is 0-based, so the command below looks for the 2nd item along the first dimension (row) and the 3rd along the second dimension (column)."
   ]
  },
  {
   "cell_type": "code",
   "execution_count": 4,
   "metadata": {
    "slideshow": {
     "slide_type": "fragment"
    }
   },
   "outputs": [
    {
     "data": {
      "text/plain": [
       "6"
      ]
     },
     "execution_count": 4,
     "metadata": {},
     "output_type": "execute_result"
    }
   ],
   "source": [
    "a[1, 2]"
   ]
  },
  {
   "cell_type": "markdown",
   "metadata": {
    "slideshow": {
     "slide_type": "subslide"
    }
   },
   "source": [
    "Can also just index on one dimension"
   ]
  },
  {
   "cell_type": "code",
   "execution_count": 5,
   "metadata": {
    "slideshow": {
     "slide_type": "fragment"
    }
   },
   "outputs": [
    {
     "data": {
      "text/plain": [
       "array([ 8,  9, 10, 11])"
      ]
     },
     "execution_count": 5,
     "metadata": {},
     "output_type": "execute_result"
    }
   ],
   "source": [
    "a[2]"
   ]
  },
  {
   "cell_type": "markdown",
   "metadata": {
    "slideshow": {
     "slide_type": "subslide"
    }
   },
   "source": [
    "Negative indices are also allowed, which permit indexing relative to the end of the array."
   ]
  },
  {
   "cell_type": "code",
   "execution_count": 6,
   "metadata": {
    "slideshow": {
     "slide_type": "fragment"
    }
   },
   "outputs": [
    {
     "data": {
      "text/plain": [
       "3"
      ]
     },
     "execution_count": 6,
     "metadata": {},
     "output_type": "execute_result"
    }
   ],
   "source": [
    "a[0, -1]"
   ]
  },
  {
   "cell_type": "markdown",
   "metadata": {
    "slideshow": {
     "slide_type": "subslide"
    }
   },
   "source": [
    "Slicing syntax is written as `start:stop[:step]`, where all numbers are optional.\n",
    "- defaults: \n",
    "  - start = 0\n",
    "  - end = len(dim)\n",
    "  - step = 1\n",
    "- The second colon is also optional if no step is used.\n",
    "\n",
    "It should be noted that end represents one past the last item; one can also think of it as a half open interval: `[start, end)`"
   ]
  },
  {
   "cell_type": "code",
   "execution_count": 7,
   "metadata": {
    "slideshow": {
     "slide_type": "subslide"
    }
   },
   "outputs": [
    {
     "data": {
      "text/plain": [
       "array([[ 4,  5,  6,  7],\n",
       "       [ 8,  9, 10, 11]])"
      ]
     },
     "execution_count": 7,
     "metadata": {},
     "output_type": "execute_result"
    }
   ],
   "source": [
    "# Get the 2nd and 3rd rows\n",
    "a[1:3]"
   ]
  },
  {
   "cell_type": "code",
   "execution_count": 8,
   "metadata": {
    "slideshow": {
     "slide_type": "fragment"
    }
   },
   "outputs": [
    {
     "data": {
      "text/plain": [
       "array([ 2,  6, 10])"
      ]
     },
     "execution_count": 8,
     "metadata": {},
     "output_type": "execute_result"
    }
   ],
   "source": [
    "# All rows and 3rd column\n",
    "a[:, 2]"
   ]
  },
  {
   "cell_type": "code",
   "execution_count": 9,
   "metadata": {
    "slideshow": {
     "slide_type": "fragment"
    }
   },
   "outputs": [
    {
     "data": {
      "text/plain": [
       "array([ 2,  6, 10])"
      ]
     },
     "execution_count": 9,
     "metadata": {},
     "output_type": "execute_result"
    }
   ],
   "source": [
    "# ... can be used to replace one or more full slices\n",
    "a[..., 2]"
   ]
  },
  {
   "cell_type": "code",
   "execution_count": 10,
   "metadata": {},
   "outputs": [
    {
     "data": {
      "text/plain": [
       "array([[ 0,  1,  2,  3],\n",
       "       [ 8,  9, 10, 11]])"
      ]
     },
     "execution_count": 10,
     "metadata": {},
     "output_type": "execute_result"
    }
   ],
   "source": [
    "# Slice every other row\n",
    "a[::2]"
   ]
  },
  {
   "cell_type": "code",
   "execution_count": 11,
   "metadata": {},
   "outputs": [
    {
     "data": {
      "text/plain": [
       "array([[ 0,  2],\n",
       "       [ 4,  6],\n",
       "       [ 8, 10]])"
      ]
     },
     "execution_count": 11,
     "metadata": {},
     "output_type": "execute_result"
    }
   ],
   "source": [
    "# Slice out every other column\n",
    "a[:, ::2]"
   ]
  },
  {
   "cell_type": "code",
   "execution_count": 12,
   "metadata": {
    "slideshow": {
     "slide_type": "fragment"
    }
   },
   "outputs": [],
   "source": [
    "# Slice every other item along each dimension -- how would we do this\n"
   ]
  },
  {
   "cell_type": "markdown",
   "metadata": {},
   "source": [
    "## 2. Use units from MetPy with calculations"
   ]
  },
  {
   "cell_type": "code",
   "execution_count": 13,
   "metadata": {},
   "outputs": [],
   "source": [
    "# Import MetPy's units registry\n",
    "from metpy.units import units"
   ]
  },
  {
   "cell_type": "code",
   "execution_count": 14,
   "metadata": {},
   "outputs": [
    {
     "name": "stdout",
     "output_type": "stream",
     "text": [
      "64 foot ** 2\n"
     ]
    }
   ],
   "source": [
    "length = 8 * units.feet\n",
    "print(length * length)"
   ]
  },
  {
   "cell_type": "code",
   "execution_count": 15,
   "metadata": {},
   "outputs": [
    {
     "name": "stdout",
     "output_type": "stream",
     "text": [
      "0.6666666666666666 mile / minute\n",
      "17.8816 meter / second\n",
      "40.0 mph\n"
     ]
    }
   ],
   "source": [
    "distance = 10 * units.mile\n",
    "time = 15 * units.minute\n",
    "avg_speed = distance / time\n",
    "print(avg_speed)\n",
    "print(avg_speed.to_base_units())\n",
    "print(avg_speed.to('mph'))"
   ]
  },
  {
   "cell_type": "markdown",
   "metadata": {},
   "source": [
    "## 3. Perform meteorological calculations using MetPy"
   ]
  },
  {
   "cell_type": "code",
   "execution_count": 16,
   "metadata": {},
   "outputs": [],
   "source": [
    "np.random.seed(19990503)  # So we all have the same data\n",
    "u = np.random.randint(0, 45, 10) * units('m/s')\n",
    "v = np.random.randint(0, 45, 10) * units('m/s')"
   ]
  },
  {
   "cell_type": "code",
   "execution_count": 17,
   "metadata": {},
   "outputs": [
    {
     "name": "stdout",
     "output_type": "stream",
     "text": [
      "[ 14.   2.  44.  37.  35.  37.   8.  25.  22.  10.] meter / second\n",
      "[ 23.  27.   5.   0.  38.  23.  27.   8.   8.  40.] meter / second\n"
     ]
    }
   ],
   "source": [
    "print(u)\n",
    "print(v)"
   ]
  },
  {
   "cell_type": "code",
   "execution_count": 18,
   "metadata": {},
   "outputs": [],
   "source": [
    "import metpy.calc as mpcalc\n",
    "\n",
    "speed = mpcalc.get_wind_speed(u, v)\n",
    "direction = mpcalc.get_wind_dir(u, v)"
   ]
  },
  {
   "cell_type": "code",
   "execution_count": 19,
   "metadata": {},
   "outputs": [
    {
     "name": "stdout",
     "output_type": "stream",
     "text": [
      "[ 26.92582404  27.07397274  44.28317965  37.          51.66236541  43.56604182  28.16025568  26.2488095   23.40939982  41.23105626] meter / second\n",
      "[ 211.32869287  184.2363948   263.51692631  270.          222.64670313  238.13402231  196.50436138  252.25532837  250.01689348  194.03624347] degree\n"
     ]
    }
   ],
   "source": [
    "print(speed)\n",
    "print(np.rad2deg(direction))"
   ]
  },
  {
   "cell_type": "code",
   "execution_count": 20,
   "metadata": {},
   "outputs": [
    {
     "name": "stdout",
     "output_type": "stream",
     "text": [
      "34.95609049170319 meter / second\n"
     ]
    }
   ],
   "source": [
    "print(np.mean(speed))"
   ]
  },
  {
   "cell_type": "code",
   "execution_count": 21,
   "metadata": {},
   "outputs": [
    {
     "name": "stdout",
     "output_type": "stream",
     "text": [
      "228.2675566116978 degree\n",
      "29.27089778050201 degree\n"
     ]
    }
   ],
   "source": [
    "print(np.mean(np.rad2deg(direction)))\n",
    "print(np.std(np.rad2deg(direction)))"
   ]
  },
  {
   "cell_type": "markdown",
   "metadata": {},
   "source": [
    "Let's use MetPy to calculate the dewpoint from the current temperature and relative humidity:"
   ]
  },
  {
   "cell_type": "code",
   "execution_count": 22,
   "metadata": {},
   "outputs": [
    {
     "data": {
      "text/html": [
       "20.264799097790046 degC"
      ],
      "text/latex": [
       "$20.264799097790046\\ \\mathrm{degC}$"
      ],
      "text/plain": [
       "<Quantity(20.264799097790046, 'degC')>"
      ]
     },
     "execution_count": 22,
     "metadata": {},
     "output_type": "execute_result"
    }
   ],
   "source": [
    "import metpy.calc as mpcalc\n",
    "mpcalc.dewpoint_rh(25 * units.degC, 0.75)"
   ]
  },
  {
   "cell_type": "markdown",
   "metadata": {},
   "source": [
    "Thanks to units, this can work with Fahrenheit as well:"
   ]
  },
  {
   "cell_type": "code",
   "execution_count": 23,
   "metadata": {},
   "outputs": [
    {
     "data": {
      "text/html": [
       "20.26479888333684 degC"
      ],
      "text/latex": [
       "$20.26479888333684\\ \\mathrm{degC}$"
      ],
      "text/plain": [
       "<Quantity(20.26479888333684, 'degC')>"
      ]
     },
     "execution_count": 23,
     "metadata": {},
     "output_type": "execute_result"
    }
   ],
   "source": [
    "td = mpcalc.dewpoint_rh(77 * units.degF, 0.75)\n",
    "td"
   ]
  },
  {
   "cell_type": "markdown",
   "metadata": {},
   "source": [
    "And you can get it back in Fahrenheit as:"
   ]
  },
  {
   "cell_type": "code",
   "execution_count": 24,
   "metadata": {},
   "outputs": [
    {
     "data": {
      "text/html": [
       "68.47663839000624 degF"
      ],
      "text/latex": [
       "$68.47663839000624\\ \\mathrm{degF}$"
      ],
      "text/plain": [
       "<Quantity(68.47663839000624, 'degF')>"
      ]
     },
     "execution_count": 24,
     "metadata": {},
     "output_type": "execute_result"
    }
   ],
   "source": [
    "td.to('degF')"
   ]
  },
  {
   "cell_type": "markdown",
   "metadata": {},
   "source": [
    "MetPy also has a library of useful constants, similar to those in `scipy.constants`, that are important for meteorology and have appropriate dimensionality included:"
   ]
  },
  {
   "cell_type": "code",
   "execution_count": 25,
   "metadata": {},
   "outputs": [],
   "source": [
    "import metpy.constants as consts"
   ]
  },
  {
   "cell_type": "markdown",
   "metadata": {},
   "source": [
    "We can look at the docstring for the module (or go to the web documentation) to see a list of the available contants:"
   ]
  },
  {
   "cell_type": "code",
   "execution_count": 26,
   "metadata": {},
   "outputs": [],
   "source": [
    "consts?"
   ]
  },
  {
   "cell_type": "markdown",
   "metadata": {},
   "source": [
    "So for the density of liquid water (nominally at 0C), we can use:"
   ]
  },
  {
   "cell_type": "code",
   "execution_count": 27,
   "metadata": {},
   "outputs": [
    {
     "data": {
      "text/html": [
       "1000.0 kilogram/meter<sup>3</sup>"
      ],
      "text/latex": [
       "$1000.0\\ \\frac{\\mathrm{kilogram}}{\\mathrm{meter}^{3}}$"
      ],
      "text/plain": [
       "<Quantity(1000.0, 'kilogram / meter ** 3')>"
      ]
     },
     "execution_count": 27,
     "metadata": {},
     "output_type": "execute_result"
    }
   ],
   "source": [
    "consts.density_water"
   ]
  },
  {
   "cell_type": "markdown",
   "metadata": {},
   "source": [
    "Or for a more symbolic and shorter notation, you can also use:"
   ]
  },
  {
   "cell_type": "code",
   "execution_count": 28,
   "metadata": {},
   "outputs": [
    {
     "data": {
      "text/html": [
       "1000.0 kilogram/meter<sup>3</sup>"
      ],
      "text/latex": [
       "$1000.0\\ \\frac{\\mathrm{kilogram}}{\\mathrm{meter}^{3}}$"
      ],
      "text/plain": [
       "<Quantity(1000.0, 'kilogram / meter ** 3')>"
      ]
     },
     "execution_count": 28,
     "metadata": {},
     "output_type": "execute_result"
    }
   ],
   "source": [
    "consts.rho_l"
   ]
  },
  {
   "cell_type": "markdown",
   "metadata": {},
   "source": [
    "### Exercise #1"
   ]
  },
  {
   "cell_type": "markdown",
   "metadata": {},
   "source": [
    "## 4. Advanced NumPy Indexing\n",
    "### Boolean indexing\n",
    "Numpy can easily create arrays of boolean values and use those to select certain values to extract from an array"
   ]
  },
  {
   "cell_type": "code",
   "execution_count": 29,
   "metadata": {},
   "outputs": [],
   "source": [
    "# Create some synthetic data representing temperature and wind speed data\n",
    "np.random.seed(19990503)  # Make sure we all have the same data\n",
    "temp = (20 * np.cos(np.linspace(0, 2 * np.pi, 100)) +\n",
    "        50 + 2 * np.random.randn(100)) * units.degC\n",
    "spd = (np.abs(10 * np.sin(np.linspace(0, 2 * np.pi, 100)) +\n",
    "              10 + 5 * np.random.randn(100))) * units('m/s')"
   ]
  },
  {
   "cell_type": "code",
   "execution_count": 30,
   "metadata": {},
   "outputs": [
    {
     "data": {
      "image/png": "[encoded data removed]",
      "text/plain": [
       "<matplotlib.figure.Figure at 0x10d2bcc88>"
      ]
     },
     "metadata": {},
     "output_type": "display_data"
    }
   ],
   "source": [
    "%matplotlib inline\n",
    "import matplotlib.pyplot as plt\n",
    "plt.plot(temp.m, 'tab:red')\n",
    "plt.plot(spd.m, 'tab:blue');"
   ]
  },
  {
   "cell_type": "markdown",
   "metadata": {},
   "source": [
    "By doing a comparision between a NumPy array and a value, we get an\n",
    "array of values representing the results of the comparison between\n",
    "each element and the value"
   ]
  },
  {
   "cell_type": "code",
   "execution_count": 31,
   "metadata": {},
   "outputs": [
    {
     "data": {
      "text/plain": [
       "array([ True,  True,  True,  True,  True,  True,  True,  True,  True,\n",
       "        True,  True,  True,  True,  True,  True,  True,  True,  True,\n",
       "        True,  True,  True,  True,  True,  True,  True,  True,  True,\n",
       "        True, False, False,  True, False, False, False, False, False,\n",
       "       False, False, False, False, False, False, False, False, False,\n",
       "       False, False, False, False, False, False, False, False, False,\n",
       "       False, False, False, False, False, False, False, False, False,\n",
       "       False, False,  True, False, False, False, False,  True,  True,\n",
       "        True,  True,  True,  True,  True,  True,  True,  True,  True,\n",
       "        True,  True,  True,  True,  True,  True,  True,  True,  True,\n",
       "        True,  True,  True,  True,  True,  True,  True,  True,  True,  True], dtype=bool)"
      ]
     },
     "execution_count": 31,
     "metadata": {},
     "output_type": "execute_result"
    }
   ],
   "source": [
    "temp > 45 * units.degC"
   ]
  },
  {
   "cell_type": "markdown",
   "metadata": {},
   "source": [
    "We can take the resulting array and use this to index into the\n",
    "NumPy array and retrieve the values where the result was true"
   ]
  },
  {
   "cell_type": "code",
   "execution_count": 32,
   "metadata": {},
   "outputs": [
    {
     "name": "stdout",
     "output_type": "stream",
     "text": [
      "[ 69.89825854  71.52313905  69.90028363  66.73828667  66.77980233  72.91468564  69.34603239  69.09533591  68.27350814  64.33916721  67.49497791  67.05282372  63.51829518  63.54034678  65.46576463  62.99683836  59.27662304  61.29361272  60.51641586  57.46048995  55.19793004  53.07572989  54.47998158  53.09552107  54.59037269  47.84272747  49.1435589   45.87151534  45.11976794  45.009292  46.36021141  46.87557425  47.25668992  50.09599544  53.77789358  50.24073197  54.07629059  51.95065202  55.84827794  57.56967086  57.19572063  61.67658285  56.51474577  59.72166924  62.99403256  63.57569453  64.05984232  60.88258643  65.37759899  63.94115754  65.53070256  67.15175649  66.26468701  67.03811793  69.17773618  69.83571708  70.99586742  66.34971928  67.49905207  69.83593609] degC\n"
     ]
    }
   ],
   "source": [
    "print(temp[temp > 45 * units.degC])"
   ]
  },
  {
   "cell_type": "markdown",
   "metadata": {},
   "source": [
    "So long as the size of the boolean array matches the data, the boolean array can come from anywhere"
   ]
  },
  {
   "cell_type": "code",
   "execution_count": 33,
   "metadata": {},
   "outputs": [
    {
     "name": "stdout",
     "output_type": "stream",
     "text": [
      "[ 66.73828667  66.77980233  69.34603239  69.09533591  68.27350814  64.33916721  67.49497791  67.05282372  63.51829518  63.54034678  65.46576463  62.99683836  59.27662304  61.29361272  60.51641586  57.46048995  55.19793004  53.07572989  54.47998158  53.09552107  54.59037269  47.84272747  49.1435589   45.87151534  43.95971516  42.72814762  42.45316175  39.2797517   40.23351938  36.77179678  34.43329229  31.42277612  38.97505745  34.10549575  35.70826448  29.01276068  30.31180935  29.31602671  32.84580454  30.76695309  29.11344716  30.16652571  29.91513049  39.51784389  69.17773618  69.83571708  69.83593609] degC\n"
     ]
    }
   ],
   "source": [
    "print(temp[spd > 10 * units('m/s')])"
   ]
  },
  {
   "cell_type": "code",
   "execution_count": 34,
   "metadata": {},
   "outputs": [
    {
     "data": {
      "text/plain": [
       "[<matplotlib.lines.Line2D at 0x10f9f8160>]"
      ]
     },
     "execution_count": 34,
     "metadata": {},
     "output_type": "execute_result"
    },
    {
     "data": {
      "image/png": "[encoded data removed]",
      "text/plain": [
       "<matplotlib.figure.Figure at 0x10c827550>"
      ]
     },
     "metadata": {},
     "output_type": "display_data"
    }
   ],
   "source": [
    "# Make a copy so we don't modify the original data\n",
    "temp2 = temp.copy()\n",
    "\n",
    "# Replace all places where spd is <10 with NaN (not a number) so matplotlib skips it\n",
    "temp2[spd < 10 * units('m/s')] = np.nan * units.degC\n",
    "plt.plot(temp2, 'tab:red')"
   ]
  },
  {
   "cell_type": "markdown",
   "metadata": {},
   "source": [
    "Can also combine multiple boolean arrays using the syntax for bitwise operations. **MUST HAVE PARENTHESES** due to operator precedence."
   ]
  },
  {
   "cell_type": "code",
   "execution_count": 35,
   "metadata": {},
   "outputs": [
    {
     "name": "stdout",
     "output_type": "stream",
     "text": [
      "[ 43.95971516  42.72814762  42.45316175  39.2797517   40.23351938  36.77179678  34.43329229  31.42277612  38.97505745  34.10549575  35.70826448  29.01276068  30.31180935  29.31602671  32.84580454  30.76695309  29.11344716  30.16652571  29.91513049  39.51784389] degC\n"
     ]
    }
   ],
   "source": [
    "print(temp[(temp < 45 * units.degC) & (spd > 10 * units('m/s'))])"
   ]
  },
  {
   "cell_type": "markdown",
   "metadata": {},
   "source": [
    "### Arrays of indices\n",
    "\n",
    "You can also use a list or array of indices to extract particular values--this is a natural extension of the regular indexing. For instance, just as we can select the first element:"
   ]
  },
  {
   "cell_type": "code",
   "execution_count": 36,
   "metadata": {},
   "outputs": [
    {
     "name": "stdout",
     "output_type": "stream",
     "text": [
      "69.89825854468695 degC\n"
     ]
    }
   ],
   "source": [
    "print(temp[0])"
   ]
  },
  {
   "cell_type": "markdown",
   "metadata": {},
   "source": [
    "We can also extract the first, fifth, and tenth elements:"
   ]
  },
  {
   "cell_type": "code",
   "execution_count": 37,
   "metadata": {},
   "outputs": [
    {
     "name": "stdout",
     "output_type": "stream",
     "text": [
      "[ 69.89825854  66.77980233  64.33916721] degC\n"
     ]
    }
   ],
   "source": [
    "print(temp[[0, 4, 9]])"
   ]
  },
  {
   "cell_type": "markdown",
   "metadata": {},
   "source": [
    "One of the ways this comes into play is trying to sort numpy arrays using `argsort`. This function returns the indices of the array that give the items in sorted order. So for our temp \"data\":"
   ]
  },
  {
   "cell_type": "code",
   "execution_count": 38,
   "metadata": {},
   "outputs": [
    {
     "name": "stdout",
     "output_type": "stream",
     "text": [
      "[52 57 42 48 54 44 56 51 49 43 50 46 58 55 53 40 37 61 47 45 59 39 36 60 41\n",
      " 34 66 63 35 38 32 62 64 33 31 67 29 28 68 69 65 30 27 70 71 72 25 26 73 75\n",
      " 77 21 23 74 76 22 24 20 78 82 80 19 79 16 83 18 87 17 81 84 15 12 13 85 89\n",
      " 86  9 88 14 90 92 97  3  4 93 11 91 10 98  8  7 94  6 95 99  0  2 96  1  5]\n"
     ]
    }
   ],
   "source": [
    "inds = np.argsort(temp)\n",
    "print(inds)"
   ]
  },
  {
   "cell_type": "markdown",
   "metadata": {},
   "source": [
    "We can use this array of indices to pass into temp to get it in sorted order:"
   ]
  },
  {
   "cell_type": "code",
   "execution_count": 39,
   "metadata": {},
   "outputs": [
    {
     "name": "stdout",
     "output_type": "stream",
     "text": [
      "[ 28.71828204  28.85269149  29.01276068  29.11344716  29.25186164  29.31602671  29.42796381  29.91513049  30.16652571  30.31180935  30.48608715  30.76695309  30.93380275  30.95814392  31.07199963  31.1341411   31.42277612  32.27369636  32.44927684  32.84580454  33.37573713  34.10549575  34.43329229  34.95696914  35.70826448  36.77179678  37.06954335  37.39853293  37.7453367   38.97505745  39.2797517   39.34620461  39.51784389  40.23351938  42.45316175  42.69583703  42.72814762  43.95971516  44.03576453  44.45775806  45.009292    45.11976794  45.87151534  46.36021141  46.87557425  47.25668992  47.84272747  49.1435589   50.09599544  50.24073197  51.95065202  53.07572989  53.09552107  53.77789358  54.07629059  54.47998158  54.59037269  55.19793004  55.84827794  56.51474577  57.19572063  57.46048995  57.56967086  59.27662304  59.72166924  60.51641586  60.88258643  61.29361272  61.67658285  62.99403256  62.99683836  63.51829518  63.54034678  63.57569453  63.94115754  64.05984232  64.33916721  65.37759899  65.46576463  65.53070256  66.26468701  66.34971928  66.73828667  66.77980233  67.03811793  67.05282372  67.15175649  67.49497791  67.49905207  68.27350814  69.09533591  69.17773618  69.34603239  69.83571708  69.83593609  69.89825854  69.90028363  70.99586742  71.52313905  72.91468564] degC\n"
     ]
    }
   ],
   "source": [
    "print(temp[inds])"
   ]
  },
  {
   "cell_type": "markdown",
   "metadata": {},
   "source": [
    "Or we can slice `inds` to only give the 10 highest temperatures:"
   ]
  },
  {
   "cell_type": "code",
   "execution_count": 40,
   "metadata": {},
   "outputs": [
    {
     "name": "stdout",
     "output_type": "stream",
     "text": [
      "[ 69.09533591  69.17773618  69.34603239  69.83571708  69.83593609  69.89825854  69.90028363  70.99586742  71.52313905  72.91468564] degC\n"
     ]
    }
   ],
   "source": [
    "ten_highest = inds[-10:]\n",
    "print(temp[ten_highest])"
   ]
  },
  {
   "cell_type": "markdown",
   "metadata": {},
   "source": [
    "There are other numpy arg functions that return indices for operating:"
   ]
  },
  {
   "cell_type": "code",
   "execution_count": 41,
   "metadata": {},
   "outputs": [],
   "source": [
    "np.*arg*?"
   ]
  },
  {
   "cell_type": "markdown",
   "metadata": {},
   "source": [
    "### Exercise #2"
   ]
  }
 ],
 "metadata": {
  "kernelspec": {
   "display_name": "Python 3",
   "language": "python",
   "name": "python3"
  },
  "language_info": {
   "codemirror_mode": {
    "name": "ipython",
    "version": 3
   },
   "file_extension": ".py",
   "mimetype": "text/x-python",
   "name": "python",
   "nbconvert_exporter": "python",
   "pygments_lexer": "ipython3",
   "version": "3.5.4"
  }
 },
 "nbformat": 4,
 "nbformat_minor": 1
}
