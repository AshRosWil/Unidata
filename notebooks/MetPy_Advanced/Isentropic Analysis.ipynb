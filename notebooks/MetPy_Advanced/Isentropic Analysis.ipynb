{
 "cells": [
  {
   "cell_type": "markdown",
   "metadata": {},
   "source": [
    "<a name=\"top\"></a>\n",
    "<div style=\"width:1000 px\">\n",
    "\n",
    "<div style=\"float:right; width:98 px; height:98px;\">\n",
    "<img src=\"https://raw.githubusercontent.com/Unidata/MetPy/master/metpy/plots/_static/unidata_150x150.png\" alt=\"Unidata Logo\" style=\"height: 98px;\">\n",
    "</div>\n",
    "\n",
    "<h1>Advanced MetPy: Isentropic Analysis</h1>\n",
    "\n",
    "<div style=\"clear:both\"></div>\n",
    "</div>\n",
    "\n",
    "<hr style=\"height:2px;\">\n",
    "\n",
    "## Overview:\n",
    "\n",
    "* **Teaching:** 30 minutes\n",
    "* **Exercises:** 30 minutes\n",
    "\n",
    "### Objectives\n",
    "1. <a href=\"#download\">Download GFS output from TDS</a>\n",
    "1. <a href=\"#interpolation\">Interpolate GFS output to an isentropic level</a>\n",
    "1. <a href=\"#ascent\">Calculate regions of isentropic ascent and descent</a>"
   ]
  },
  {
   "cell_type": "markdown",
   "metadata": {},
   "source": [
    "<a name=\"download\"></a>\n",
    "## Downloading GFS Output\n",
    "First we need some grids of values to work with. We can do this by dowloading information from the latest run of the GFS available on Unidata's THREDDS data server. First we access the catalog for the half-degree GFS output, and look for the dataset called the \"Best GFS Half Degree Forecast Time Series\". This dataset combines multiple sets of model runs to yield a time series of output with the shortest forecast offset."
   ]
  },
  {
   "cell_type": "code",
   "execution_count": null,
   "metadata": {},
   "outputs": [],
   "source": [
    "from siphon.catalog import TDSCatalog\n",
    "\n",
    "cat = TDSCatalog('http://thredds.ucar.edu/thredds/catalog/grib/'\n",
    "                 'NCEP/GFS/Global_0p5deg/catalog.xml')\n",
    "best = cat.datasets['Best GFS Half Degree Forecast Time Series']"
   ]
  },
  {
   "cell_type": "markdown",
   "metadata": {},
   "source": [
    "Next, we set up access to request subsets of data from the model. This uses the NetCDF Subset Service (NCSS) to make requests from the GRIB collection and get results in netCDF format."
   ]
  },
  {
   "cell_type": "code",
   "execution_count": null,
   "metadata": {},
   "outputs": [],
   "source": [
    "subset_access = best.subset()\n",
    "query = subset_access.query()"
   ]
  },
  {
   "cell_type": "markdown",
   "metadata": {},
   "source": [
    "Let's see what variables are available. Instead of just printing `subset_access.variables`, we can ask Python to only display variables that end with \"isobaric\", which is how the TDS denotes GRIB fields that are specified on isobaric levels."
   ]
  },
  {
   "cell_type": "code",
   "execution_count": null,
   "metadata": {},
   "outputs": [],
   "source": [
    "sorted(v for v in subset_access.variables if v.endswith('isobaric'))"
   ]
  },
  {
   "cell_type": "markdown",
   "metadata": {},
   "source": [
    "Now we put together the \"query\"--the way we ask for data we want. We give ask for a wide box of data over the U.S. for the time step that's closest to now. We also request temperature, height, winds, and relative humidity. By asking for netCDF4 data, the result is compressed, so the download is smaller."
   ]
  },
  {
   "cell_type": "code",
   "execution_count": null,
   "metadata": {},
   "outputs": [],
   "source": [
    "from datetime import datetime\n",
    "query.time(datetime.utcnow())\n",
    "query.variables('Temperature_isobaric', 'Geopotential_height_isobaric',\n",
    "                'u-component_of_wind_isobaric', 'v-component_of_wind_isobaric',\n",
    "                'Relative_humidity_isobaric')\n",
    "query.lonlat_box(west=-130, east=-50, south=10, north=60)\n",
    "query.accept('netcdf4')"
   ]
  },
  {
   "cell_type": "markdown",
   "metadata": {},
   "source": [
    "Now all that's left is to actually make the request for data:"
   ]
  },
  {
   "cell_type": "code",
   "execution_count": null,
   "metadata": {},
   "outputs": [],
   "source": [
    "nc = subset_access.get_data(query)"
   ]
  },
  {
   "cell_type": "markdown",
   "metadata": {},
   "source": [
    "Open the returned netCDF data using XArray:"
   ]
  },
  {
   "cell_type": "code",
   "execution_count": null,
   "metadata": {},
   "outputs": [],
   "source": [
    "from xarray.backends import NetCDF4DataStore\n",
    "import xarray as xr\n",
    "ds = xr.open_dataset(NetCDF4DataStore(nc))"
   ]
  },
  {
   "cell_type": "markdown",
   "metadata": {},
   "source": [
    "<a name=\"interpolation\"></a>\n",
    "## Isentropic Interpolation\n",
    "\n",
    "Now let's take what we've downloaded, and use it to make an isentropic map. In this case, we're interpolating from one vertical coordinate, pressure, to another: potential temperature. MetPy has a function `isentropic_interpolation` that can do this for us. First, let's start with a few useful imports."
   ]
  },
  {
   "cell_type": "code",
   "execution_count": null,
   "metadata": {},
   "outputs": [],
   "source": [
    "import metpy.calc as mpcalc\n",
    "from metpy.units import units\n",
    "import numpy as np"
   ]
  },
  {
   "cell_type": "markdown",
   "metadata": {},
   "source": [
    "First, let's pull out the grids out into some shorter variable names. We also index with 0 to get the first, and only, time:"
   ]
  },
  {
   "cell_type": "code",
   "execution_count": null,
   "metadata": {},
   "outputs": [],
   "source": [
    "lat = ds['lat']\n",
    "lon = ds['lon']\n",
    "press = ds['isobaric']\n",
    "temperature = ds['Temperature_isobaric'][0]\n",
    "\n",
    "# Need to adjust units on humidity because '%' causes problems\n",
    "ds['Relative_humidity_isobaric'].attrs['units'] = 'percent'\n",
    "\n",
    "rh = ds['Relative_humidity_isobaric'][0]\n",
    "height = ds['Geopotential_height_isobaric'][0]\n",
    "u = ds['u-component_of_wind_isobaric'][0]\n",
    "v = ds['v-component_of_wind_isobaric'][0]"
   ]
  },
  {
   "cell_type": "markdown",
   "metadata": {},
   "source": [
    "Next, we perform the isentropic interpolation. At a minimum, this must be given one or more isentropic levels, the 3-D temperature field, and the pressure levels of the original field; it then returns the 3D array of pressure values (2D slices for each isentropic level). You can also pass addition fields which will be interpolated to these levels as well. Below, we interpolate the winds (and pressure) to the 295K isentropic level:"
   ]
  },
  {
   "cell_type": "code",
   "execution_count": null,
   "metadata": {},
   "outputs": [],
   "source": [
    "isen_level = np.array([295]) * units.kelvin\n",
    "isen_press, isen_u, isen_v = mpcalc.isentropic_interpolation(isen_level, press,\n",
    "                                                             temperature, u, v)"
   ]
  },
  {
   "cell_type": "markdown",
   "metadata": {},
   "source": [
    "Let's plot the results and see what it looks like:"
   ]
  },
  {
   "cell_type": "code",
   "execution_count": null,
   "metadata": {},
   "outputs": [],
   "source": [
    "# Need to squeeze() out the size-1 dimension for the isentropic level\n",
    "isen_press = isen_press.squeeze()\n",
    "isen_u = isen_u.squeeze()\n",
    "isen_v = isen_v.squeeze()"
   ]
  },
  {
   "cell_type": "code",
   "execution_count": null,
   "metadata": {},
   "outputs": [],
   "source": [
    "%matplotlib inline\n",
    "import matplotlib.pyplot as plt\n",
    "import cartopy.crs as ccrs\n",
    "\n",
    "# Create a plot and basic map projection\n",
    "fig = plt.figure(figsize=(14, 8))\n",
    "ax = fig.add_subplot(1, 1, 1, projection=ccrs.LambertConformal(central_longitude=-100))\n",
    "ax.coastlines()\n",
    "\n",
    "# Contour the pressure values for the isentropic level. We keep the handle\n",
    "# for the contour so that we can have matplotlib label the contours\n",
    "levels = np.arange(300, 1000, 25)\n",
    "cntr = ax.contour(lon, lat, isen_press, transform=ccrs.PlateCarree(),\n",
    "                  colors='black', levels=levels)\n",
    "ax.clabel(cntr, fmt='%.0f')\n",
    "\n",
    "# Set up slices to subset the wind barbs--the slices below are the same as `::5`\n",
    "# We put these here so that it's easy to change and keep all of the ones below matched\n",
    "# up.\n",
    "lon_slice = slice(None, None, 5)\n",
    "lat_slice = slice(None, None, 5)\n",
    "ax.barbs(lon[lon_slice], lat[lat_slice],\n",
    "         isen_u[lon_slice, lat_slice].to('knots').magnitude,\n",
    "         isen_v[lon_slice, lat_slice].to('knots').magnitude,\n",
    "         transform=ccrs.PlateCarree(), zorder=2)\n",
    "\n",
    "ax.set_extent((-120, -70, 25, 55), crs=ccrs.PlateCarree())"
   ]
  },
  {
   "cell_type": "markdown",
   "metadata": {},
   "source": [
    "<div class=\"alert alert-success\">\n",
    "    <b>EXERCISE</b>:\n",
    "    Let's add some moisture information to this plot. Feel free to choose a different isentropic level.\n",
    "<ol>\n",
    "<li>Calculate mixing ratio (using the appropriate function from `mpcalc`)</li>\n",
    "<li>Call `isentropic_interpolation` with mixing ratio--you should copy the one from above and add mixing ratio to the call so that it interpolates everything.</li>\n",
    "<li>`contour` (in green) or `contourf` your moisture information on the map alongside pressure</li>\n",
    "</ol>\n",
    "\n",
    "You'll want to refer to the <a href=\"https://unidata.github.io/MetPy/latest/api/index.html\">MetPy API documentation</a> to see what calculation functions would help you.\n",
    "\n",
    "</div>"
   ]
  },
  {
   "cell_type": "code",
   "execution_count": null,
   "metadata": {},
   "outputs": [],
   "source": [
    "# Needed to make numpy broadcasting work between 1D pressure and other 3D arrays\n",
    "# Use .metpy.unit_array to get numpy array with units rather than xarray DataArray\n",
    "pressure_for_calc = press.metpy.unit_array[:, None, None]  \n",
    "\n",
    "#\n",
    "# YOUR CODE: Calculate mixing ratio using something from mpcalc\n",
    "#\n",
    "\n",
    "# Take the return and convert manually to units of 'dimenionless'\n",
    "#mixing.ito('dimensionless')\n",
    "\n",
    "#\n",
    "# YOUR CODE: Interpolate all the data\n",
    "#\n",
    "\n",
    "# Squeeze the returned arrays\n",
    "#isen_press = isen_press.squeeze()\n",
    "#isen_mixing = isen_mixing.squeeze()\n",
    "#isen_u = isen_u.squeeze()\n",
    "#isen_v = isen_v.squeeze()\n",
    "\n",
    "# Create Plot -- same as before\n",
    "fig = plt.figure(figsize=(14, 8))\n",
    "ax = fig.add_subplot(1, 1, 1, projection=ccrs.LambertConformal(central_longitude=-100))\n",
    "ax.coastlines()\n",
    "\n",
    "levels = np.arange(300, 1000, 25)\n",
    "cntr = ax.contour(lon, lat, isen_press, transform=ccrs.PlateCarree(),\n",
    "                  colors='black', levels=levels)\n",
    "ax.clabel(cntr, fmt='%.0f')\n",
    "\n",
    "lon_slice = slice(None, None, 8)\n",
    "lat_slice = slice(None, None, 8)\n",
    "ax.barbs(lon[lon_slice], lat[lat_slice],\n",
    "         isen_u[lon_slice, lat_slice].to('knots').magnitude,\n",
    "         isen_v[lon_slice, lat_slice].to('knots').magnitude,\n",
    "         transform=ccrs.PlateCarree(), zorder=2)\n",
    "\n",
    "#\n",
    "# YOUR CODE: Contour/Contourf the mixing ratio values\n",
    "#\n",
    "\n",
    "ax.set_extent((-120, -70, 25, 55), crs=ccrs.PlateCarree())"
   ]
  },
  {
   "cell_type": "markdown",
   "metadata": {
    "scrolled": false
   },
   "source": [
    "<button data-toggle=\"collapse\" data-target=\"#sol1\" class='btn btn-primary'>View Solution</button>\n",
    "<div id=\"sol1\" class=\"collapse\">\n",
    "<code><pre>\n",
    "# Needed to make numpy broadcasting work between 1D pressure and other 3D arrays\n",
    "# Use .metpy.unit_array to get numpy array with units rather than xarray DataArray\n",
    "pressure_for_calc = press.metpy.unit_array[:, None, None]  \n",
    "\n",
    "# Calculate mixing ratio using something from mpcalc\n",
    "mixing = mpcalc.mixing_ratio_from_relative_humidity(rh, temperature, pressure_for_calc)\n",
    "\n",
    "# Take the return and convert manually to units of 'dimenionless'\n",
    "mixing.ito('dimensionless')\n",
    "\n",
    "# Interpolate all the data\n",
    "isen_level = np.array([295]) * units.kelvin\n",
    "ret = mpcalc.isentropic_interpolation(isen_level, press, temperature, mixing, u, v)\n",
    "isen_press, isen_mixing, isen_u, isen_v = ret\n",
    "\n",
    "# Squeeze the returned arrays\n",
    "isen_press = isen_press.squeeze()\n",
    "isen_mixing = isen_mixing.squeeze()\n",
    "isen_u = isen_u.squeeze()\n",
    "isen_v = isen_v.squeeze()\n",
    "\n",
    "# Create Plot -- same as before\n",
    "fig = plt.figure(figsize=(14, 8))\n",
    "ax = fig.add_subplot(1, 1, 1, projection=ccrs.LambertConformal(central_longitude=-100))\n",
    "ax.coastlines()\n",
    "\n",
    "levels = np.arange(300, 1000, 25)\n",
    "cntr = ax.contour(lon, lat, isen_press, transform=ccrs.PlateCarree(),\n",
    "                  colors='black', levels=levels)\n",
    "ax.clabel(cntr, fmt='%.0f')\n",
    "\n",
    "lon_slice = slice(None, None, 8)\n",
    "lat_slice = slice(None, None, 8)\n",
    "ax.barbs(lon[lon_slice], lat[lat_slice],\n",
    "         isen_u[lon_slice, lat_slice].to('knots').magnitude,\n",
    "         isen_v[lon_slice, lat_slice].to('knots').magnitude,\n",
    "         transform=ccrs.PlateCarree(), zorder=2)\n",
    "\n",
    "# Contourf the mixing ratio values\n",
    "mixing_levels = [0.001, 0.002, 0.004, 0.006, 0.010, 0.012, 0.014, 0.016, 0.020]\n",
    "ax.contourf(lon, lat, isen_mixing, transform=ccrs.PlateCarree(),\n",
    "            levels=mixing_levels, cmap='YlGn')\n",
    "\n",
    "ax.set_extent((-120, -70, 25, 55), crs=ccrs.PlateCarree())\n",
    "</pre></code>\n",
    "</div>"
   ]
  },
  {
   "cell_type": "markdown",
   "metadata": {},
   "source": [
    "<a name=\"ascent\"></a>\n",
    "## Calculating Isentropic Ascent\n",
    "\n",
    "Air flow across isobars on an isentropic surface represents vertical motion. We can use MetPy to calculate this ascent for us.\n",
    "\n",
    "Since calculating this involves taking derivatives, first let's smooth the input fields using the `gaussian_filter` from `scipy.ndimage`. Unfortunately, `gaussian_filter` drops units from the input vluaes, so we should see what units we have so we can reattach afterwards. (In the future, MetPy will provide its own version of `gaussian_filter` to avoid this.)"
   ]
  },
  {
   "cell_type": "code",
   "execution_count": null,
   "metadata": {},
   "outputs": [],
   "source": [
    "isen_press.units, isen_u.units, isen_v.units"
   ]
  },
  {
   "cell_type": "code",
   "execution_count": null,
   "metadata": {},
   "outputs": [],
   "source": [
    "from scipy.ndimage import gaussian_filter\n",
    "\n",
    "# Filter and re-attach units\n",
    "isen_press = gaussian_filter(isen_press.squeeze(), sigma=2.0) * units.hPa\n",
    "isen_u = gaussian_filter(isen_u.squeeze(), sigma=2.0) * units('m/s')\n",
    "isen_v = gaussian_filter(isen_v.squeeze(), sigma=2.0) * units('m/s')"
   ]
  },
  {
   "cell_type": "markdown",
   "metadata": {},
   "source": [
    "Next, we need to take our grid point locations which are in degrees, and convert them to grid spacing in meters--this is what we need to pass to functions taking derivatives."
   ]
  },
  {
   "cell_type": "code",
   "execution_count": null,
   "metadata": {},
   "outputs": [],
   "source": [
    "# Use .values because we don't care about using DataArray\n",
    "dx, dy = mpcalc.lat_lon_grid_deltas(lon.values, lat.values)"
   ]
  },
  {
   "cell_type": "markdown",
   "metadata": {},
   "source": [
    "Now we can calculate the isentropic ascent. $\\omega$ is given by:\n",
    "\n",
    "$$\\omega = \\left(\\frac{\\partial P}{\\partial t}\\right)_\\theta + \\vec{V} \\cdot \\nabla P + \\frac{\\partial P}{\\partial \\theta}\\frac{d\\theta}{dt}$$\n",
    "\n",
    "Note, the second term of the above equation is just pressure advection (negated). Therefore, we can use MetPy to calculate this as:"
   ]
  },
  {
   "cell_type": "code",
   "execution_count": null,
   "metadata": {},
   "outputs": [],
   "source": [
    "lift = -mpcalc.advection(isen_press, [isen_u, isen_v], [dx, dy], dim_order='yx')"
   ]
  },
  {
   "cell_type": "markdown",
   "metadata": {},
   "source": [
    "<div class=\"alert alert-success\">\n",
    "    <b>EXERCISE</b>:\n",
    "    Use `contourf` to plot the isentropic lift alongside the isobars and wind barbs. You probably want to convert\n",
    "    the values of `lift` to microbars/s.\n",
    "</div>"
   ]
  },
  {
   "cell_type": "markdown",
   "metadata": {},
   "source": [
    "<button data-toggle=\"collapse\" data-target=\"#sol2\" class='btn btn-primary'>View Solution</button>\n",
    "<div id=\"sol2\" class=\"collapse\">\n",
    "<code><pre>\n",
    "fig = plt.figure(figsize=(14, 8))\n",
    "ax = fig.add_subplot(1, 1, 1, projection=ccrs.LambertConformal(central_longitude=-100))\n",
    "ax.coastlines()\n",
    "\n",
    "levels = np.arange(300, 1000, 25)\n",
    "cntr = ax.contour(lon, lat, isen_press, transform=ccrs.PlateCarree(), colors='black', levels=levels)\n",
    "ax.clabel(cntr, fmt='%.0f')\n",
    "\n",
    "lon_slice = slice(None, None, 5)\n",
    "lat_slice = slice(None, None, 5)\n",
    "ax.barbs(lon[lon_slice], lat[lat_slice],\n",
    "         isen_u[lon_slice, lat_slice].to('knots').magnitude,\n",
    "         isen_v[lon_slice, lat_slice].to('knots').magnitude,\n",
    "         transform=ccrs.PlateCarree(), zorder=2)\n",
    "\n",
    "levels = np.arange(-6, 7)\n",
    "cs = ax.contourf(lon, lat, lift.to('microbar/s'), levels=levels, cmap='RdBu',\n",
    "                 transform=ccrs.PlateCarree(), extend='both')\n",
    "plt.colorbar(cs)\n",
    "\n",
    "ax.set_extent((-120, -70, 25, 55), crs=ccrs.PlateCarree())\n",
    "</pre></code>\n",
    "</div>"
   ]
  }
 ],
 "metadata": {
  "kernelspec": {
   "display_name": "Python 3",
   "language": "python",
   "name": "python3"
  },
  "language_info": {
   "codemirror_mode": {
    "name": "ipython",
    "version": 3
   },
   "file_extension": ".py",
   "mimetype": "text/x-python",
   "name": "python",
   "nbconvert_exporter": "python",
   "pygments_lexer": "ipython3",
   "version": "3.6.5"
  }
 },
 "nbformat": 4,
 "nbformat_minor": 2
}
