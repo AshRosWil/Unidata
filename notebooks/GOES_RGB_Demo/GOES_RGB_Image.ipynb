{
 "cells": [
  {
   "cell_type": "markdown",
   "metadata": {
    "deletable": true,
    "editable": true
   },
   "source": [
    "<div style=\"width:1000 px\">\n",
    "\n",
    "<div style=\"float:right; width:98 px; height:98px;\"><img src=\"https://pbs.twimg.com/profile_images/1187259618/unidata_logo_rgb_sm_400x400.png\" alt=\"Unidata Logo\" style=\"height: 98px;\"></div>\n",
    "\n",
    "<h1>Making an RGB Satellite Composite</h1>\n",
    "<h3>Unidata Python Workshop</h3>\n",
    "\n",
    "<div style=\"clear:both\"></div>\n",
    "</div>\n",
    "\n",
    "<hr style=\"height:2px;\">\n",
    "\n",
    "<div style=\"float:right; width:250 px\"><img src=\"https://unidata.github.io/MetPy/_images/sphx_glr_GINI_Water_Vapor_001.png\" alt=\"Example Satellite Image\" style=\"height: 500px;\"></div>\n",
    "\n",
    "\n",
    "## Overview:\n",
    "\n",
    "* **Teaching:** 10 minutes\n",
    "* **Exercises:** 20 minutes\n",
    "\n",
    "### Questions\n",
    "1. How can array manipulation be used with imagery data?\n",
    "2. How can multiple channels of data be combined into an RGB image?\n",
    "3. How can complex functionality be broken up into smaller reuseable and encapsulated functions?\n",
    "\n",
    "### Objectives\n",
    "1. Download satellite data with Siphon\n",
    "2. Parse out netCDF file\n",
    "3. Reshape and resample data channels to identical sizes\n",
    "4. Create an RGB composite"
   ]
  },
  {
   "cell_type": "markdown",
   "metadata": {
    "deletable": true,
    "editable": true
   },
   "source": [
    "Color images consist of red, green, and blue components. We can utilize the red and blue channels of the GOES-16 satellite, along with the “veggie” band to create a pseudo color image of the Earth. GOES-16 does not have a sensor that strictly covers the green visible range. Currently lookup tables are being created to simulate a true green sensor on the platform. Until those are completed, we will use the band as-is. It just results in an image that is too green.\n",
    "\n",
    "We’ll need to accomplish a few tasks - making an outline like this is a good way to start thinking of how your program can be broken up into functions that encapsulate different functionality.\n",
    "\n",
    "* Get three channels of satellite data\n",
    "* Resample the red channel to match the resolution of the other channels\n",
    "* Combine the RGB channels into a single multi-dimensional array\n",
    "* Create the image\n"
   ]
  },
  {
   "cell_type": "code",
   "execution_count": 1,
   "metadata": {
    "collapsed": true,
    "deletable": true,
    "editable": true
   },
   "outputs": [],
   "source": [
    "from datetime import datetime\n",
    "from scipy import interpolate\n",
    "from siphon.catalog import TDSCatalog\n",
    "from netCDF4 import Dataset\n",
    "import matplotlib.pyplot as plt\n",
    "from matplotlib import patheffects\n",
    "import cartopy.feature as cfeat\n",
    "import cartopy.crs as ccrs\n",
    "import numpy as np\n",
    "\n",
    "%matplotlib inline"
   ]
  },
  {
   "cell_type": "code",
   "execution_count": null,
   "metadata": {
    "collapsed": false,
    "deletable": true,
    "editable": true
   },
   "outputs": [],
   "source": [
    "def open_dataset(date, channel, idx):\n",
    "    \"\"\"\n",
    "    Open and return a netCDF Dataset object for a given date, channel, and image index\n",
    "    of GOES-16 data from THREDDS test server.\n",
    "    \"\"\"\n",
    "    cat = TDSCatalog('http://thredds-test.unidata.ucar.edu/thredds/catalog/satellite/goes16/GOES16/'\n",
    "             '{}/CONUS/Channel{:02d}/catalog.xml'.format(date, channel))\n",
    "    dataset_name = list(cat.datasets)[idx]\n",
    "    dataset = cat.datasets[dataset_name]                       \n",
    "    ds = Dataset(dataset.access_urls['OPENDAP'])\n",
    "    return ds\n",
    "\n",
    "def interpolate_red_channel(red_ds, resampled_ds):\n",
    "    \"\"\"\n",
    "    Interpolate the red data channel to the same grid as another channel.\n",
    "    \"\"\"\n",
    "    x_new = resampled_ds.variables['x'][:]\n",
    "    y_new = resampled_ds.variables['y'][::-1]\n",
    "\n",
    "    f = interpolate.interp2d(red_ds.variables['x'][:], red_ds.variables['y'][::-1],\n",
    "                             red_ds.variables['Sectorized_CMI'][::-1,], fill_value=0)\n",
    "    red_interpolated = f(x_new, y_new[::-1]) \n",
    "    return x_new, y_new, red_interpolated\n",
    "    \n",
    "def make_RGB_data(date, idx):\n",
    "    \"\"\"\n",
    "    Make an RGB image array, returning the time, coordinates, projection, and data.\n",
    "    \"\"\"\n",
    "    red_channel = 2\n",
    "    green_channel = 3\n",
    "    blue_channel = 1\n",
    "                         \n",
    "    red_ds = open_dataset(date, red_channel, idx)\n",
    "    blue_ds = open_dataset(date, blue_channel, idx)\n",
    "    green_ds = open_dataset(date, green_channel, idx)\n",
    "                         \n",
    "    green_data = green_ds.variables['Sectorized_CMI'][:]\n",
    "    blue_data = blue_ds.variables['Sectorized_CMI'][:]\n",
    "\n",
    "    x, y, red_data = interpolate_red_channel(red_ds, blue_ds)\n",
    "\n",
    "    rgb_data = np.dstack([red_data[::-1,:], green_data, blue_data])\n",
    "\n",
    "    x = green_ds.variables['x'][:]\n",
    "    y = green_ds.variables['y'][:]  \n",
    "    proj_var = green_ds.variables[green_ds.variables['Sectorized_CMI'].grid_mapping]\n",
    "\n",
    "    time = datetime.strptime(green_ds.start_date_time, '%Y%j%H%M%S')\n",
    "    \n",
    "    return time, x, y, proj_var, rgb_data"
   ]
  },
  {
   "cell_type": "code",
   "execution_count": null,
   "metadata": {
    "collapsed": false,
    "deletable": true,
    "editable": true
   },
   "outputs": [],
   "source": [
    "# Get the most recent image and make the RGB data array.\n",
    "date = datetime.strftime(datetime.utcnow(), '%Y%m%d')\n",
    "timestamp, x, y, proj_var, rgb_data = make_RGB_data(date, -1)"
   ]
  },
  {
   "cell_type": "code",
   "execution_count": null,
   "metadata": {
    "collapsed": false,
    "deletable": true,
    "editable": true
   },
   "outputs": [],
   "source": [
    "# Create a Globe specifying a spherical earth with the correct radius\n",
    "globe = ccrs.Globe(ellipse='sphere', semimajor_axis=proj_var.semi_major,\n",
    "                   semiminor_axis=proj_var.semi_minor)\n",
    "\n",
    "proj = ccrs.LambertConformal(central_longitude=proj_var.longitude_of_central_meridian,\n",
    "                             central_latitude=proj_var.latitude_of_projection_origin,\n",
    "                             standard_parallels=[proj_var.standard_parallel],\n",
    "                             globe=globe)\n",
    "\n",
    "\n",
    "# Set up a feature for the state/province lines. Tell cartopy not to fill in the polygons\n",
    "state_boundaries = cfeat.NaturalEarthFeature(category='cultural',\n",
    "                                             name='admin_1_states_provinces_lakes',\n",
    "                                             scale='50m', facecolor='none')\n",
    "\n",
    "# Same as before, except we call imshow with our colormap and norm.\n",
    "fig = plt.figure(figsize=(20, 20))\n",
    "ax = fig.add_subplot(1, 1, 1, projection=proj)\n",
    "\n",
    "im = ax.imshow(rgb_data, extent=(x.min(), x.max(), y.min(), y.max()), origin='upper')\n",
    "ax.coastlines(resolution='50m', color='black')\n",
    "ax.add_feature(state_boundaries, linestyle=':', edgecolor='black')\n",
    "ax.add_feature(cfeat.BORDERS, linewidth='2', edgecolor='black')\n",
    "\n",
    "# Add text (aligned to the right); save the returned object so we can manipulate it.\n",
    "text_time = ax.text(0.99, 0.01, timestamp.strftime('%d %B %Y %H%MZ'),\n",
    "               horizontalalignment='right', transform=ax.transAxes,\n",
    "               color='white', fontsize='x-large', weight='bold')\n",
    "\n",
    "text_channel = ax.text(0.5, 0.97, 'Experimental GOES-16 RGB Composite',\n",
    "               horizontalalignment='center', transform=ax.transAxes,\n",
    "               color='white', fontsize='large', weight='bold')\n",
    "\n",
    "# Make the text stand out even better using matplotlib's path effects\n",
    "text_time.set_path_effects([patheffects.Stroke(linewidth=2, foreground='black'),\n",
    "                       patheffects.Normal()])\n",
    "text_channel.set_path_effects([patheffects.Stroke(linewidth=2, foreground='black'),\n",
    "                       patheffects.Normal()])\n",
    "ax.set_extent([240., 290., 20., 49.])"
   ]
  },
  {
   "cell_type": "markdown",
   "metadata": {
    "collapsed": true,
    "deletable": true,
    "editable": true
   },
   "source": [
    "## Image Filtering"
   ]
  },
  {
   "cell_type": "code",
   "execution_count": null,
   "metadata": {
    "collapsed": true,
    "deletable": true,
    "editable": true
   },
   "outputs": [],
   "source": [
    "from skimage.morphology import reconstruction\n",
    "\n",
    "seed = np.copy(rgb_data)\n",
    "seed[1:-1, 1:-1] = rgb_data.max()\n",
    "mask = rgb_data\n",
    "\n",
    "filled = reconstruction(seed, mask, method='erosion')"
   ]
  },
  {
   "cell_type": "code",
   "execution_count": null,
   "metadata": {
    "collapsed": false,
    "deletable": true,
    "editable": true
   },
   "outputs": [],
   "source": [
    "# Create a Globe specifying a spherical earth with the correct radius\n",
    "globe = ccrs.Globe(ellipse='sphere', semimajor_axis=proj_var.semi_major,\n",
    "                   semiminor_axis=proj_var.semi_minor)\n",
    "\n",
    "proj = ccrs.LambertConformal(central_longitude=proj_var.longitude_of_central_meridian,\n",
    "                             central_latitude=proj_var.latitude_of_projection_origin,\n",
    "                             standard_parallels=[proj_var.standard_parallel],\n",
    "                             globe=globe)\n",
    "\n",
    "\n",
    "# Set up a feature for the state/province lines. Tell cartopy not to fill in the polygons\n",
    "state_boundaries = cfeat.NaturalEarthFeature(category='cultural',\n",
    "                                             name='admin_1_states_provinces_lakes',\n",
    "                                             scale='50m', facecolor='none')\n",
    "\n",
    "# Same as before, except we call imshow with our colormap and norm.\n",
    "fig = plt.figure(figsize=(20, 20))\n",
    "ax = fig.add_subplot(1, 1, 1, projection=proj)\n",
    "\n",
    "im = ax.imshow(filled, extent=(x.min(), x.max(), y.min(), y.max()), origin='upper')\n",
    "ax.coastlines(resolution='50m', color='black')\n",
    "ax.add_feature(state_boundaries, linestyle=':', edgecolor='black')\n",
    "ax.add_feature(cfeat.BORDERS, linewidth='2', edgecolor='black')\n",
    "\n",
    "# Add text (aligned to the right); save the returned object so we can manipulate it.\n",
    "text_time = ax.text(0.99, 0.01, timestamp.strftime('%d %B %Y %H%MZ'),\n",
    "               horizontalalignment='right', transform=ax.transAxes,\n",
    "               color='white', fontsize='x-large', weight='bold')\n",
    "\n",
    "text_channel = ax.text(0.5, 0.97, 'Experimental GOES-16 RGB Composite',\n",
    "               horizontalalignment='center', transform=ax.transAxes,\n",
    "               color='white', fontsize='large', weight='bold')\n",
    "\n",
    "# Make the text stand out even better using matplotlib's path effects\n",
    "text_time.set_path_effects([patheffects.Stroke(linewidth=2, foreground='black'),\n",
    "                       patheffects.Normal()])\n",
    "text_channel.set_path_effects([patheffects.Stroke(linewidth=2, foreground='black'),\n",
    "                       patheffects.Normal()])\n",
    "ax.set_extent([240., 290., 20., 49.])"
   ]
  }
 ],
 "metadata": {
  "kernelspec": {
   "display_name": "Python [conda env:unidata-workshop]",
   "language": "python",
   "name": "conda-env-unidata-workshop-py"
  },
  "language_info": {
   "codemirror_mode": {
    "name": "ipython",
    "version": 3
   },
   "file_extension": ".py",
   "mimetype": "text/x-python",
   "name": "python",
   "nbconvert_exporter": "python",
   "pygments_lexer": "ipython3",
   "version": "3.6.1"
  }
 },
 "nbformat": 4,
 "nbformat_minor": 2
}
