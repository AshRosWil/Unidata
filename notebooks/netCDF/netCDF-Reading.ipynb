{
 "cells": [
  {
   "cell_type": "markdown",
   "metadata": {
    "internals": {
     "slide_helper": "subslide_end",
     "slide_type": "subslide"
    },
    "slide_helper": "slide_end",
    "slideshow": {
     "slide_type": "slide"
    }
   },
   "source": [
    "<div style=\"width:1000 px\">\n",
    "\n",
    "<div style=\"float:right; width:98 px; height:98px;\">\n",
    "<img src=\"https://raw.githubusercontent.com/Unidata/MetPy/master/metpy/plots/_static/unidata_150x150.png\" alt=\"Unidata Logo\" style=\"height: 98px;\">\n",
    "</div>\n",
    "\n",
    "<h1>Reading netCDF data</h1>\n",
    "<h3>Unidata Python Workshop</h3>\n",
    "\n",
    "<div style=\"clear:both\"></div>\n",
    "</div>\n",
    "\n",
    "<hr style=\"height:2px;\">\n",
    "\n",
    "<div style=\"float:right; width:250 px\"><img src=\"https://www.unidata.ucar.edu/images/logos/netcdf-50x50.png\" alt=\"netCDF logo\" style=\"height: 100px;\"></div>\n",
    "\n",
    "\n",
    "- requires [numpy](http://numpy.scipy.org) and netCDF/HDF5 C libraries.\n",
    "- Github site: https://github.com/Unidata/netcdf4-python\n",
    "- Online docs: http://unidata.github.io/netcdf4-python/\n",
    "- Based on Konrad Hinsen's old [Scientific.IO.NetCDF](http://dirac.cnrs-orleans.fr/plone/software/scientificpython/) API, with lots of added netcdf version 4 features.\n",
    "- Developed by Jeff Whitaker at NOAA, with many contributions from users."
   ]
  },
  {
   "cell_type": "markdown",
   "metadata": {
    "internals": {
     "slide_type": "subslide"
    },
    "slideshow": {
     "slide_type": "slide"
    }
   },
   "source": [
    "## Interactively exploring a netCDF File\n",
    "\n",
    "Let's explore a netCDF file from the *Atlantic Real-Time Ocean Forecast System*\n",
    "\n",
    "first, import netcdf4-python and numpy"
   ]
  },
  {
   "cell_type": "code",
   "execution_count": 1,
   "metadata": {
    "internals": {
     "frag_number": 2,
     "slide_helper": "subslide_end"
    },
    "slide_helper": "slide_end",
    "slideshow": {
     "slide_type": "fragment"
    }
   },
   "outputs": [],
   "source": [
    "import netCDF4\n",
    "import numpy as np"
   ]
  },
  {
   "cell_type": "markdown",
   "metadata": {
    "internals": {
     "frag_helper": "fragment_end",
     "frag_number": 2,
     "slide_type": "subslide"
    },
    "slideshow": {
     "slide_type": "slide"
    }
   },
   "source": [
    "## Create a netCDF4.Dataset object\n",
    "- **`f`** is a `Dataset` object, representing an open netCDF file.\n",
    "- printing the object gives you summary information, similar to *`ncdump -h`*."
   ]
  },
  {
   "cell_type": "code",
   "execution_count": 2,
   "metadata": {
    "internals": {
     "frag_helper": "fragment_end",
     "frag_number": 4,
     "slide_helper": "subslide_end"
    },
    "slide_helper": "slide_end",
    "slideshow": {
     "slide_type": "fragment"
    }
   },
   "outputs": [
    {
     "name": "stdout",
     "output_type": "stream",
     "text": [
      "<class 'netCDF4._netCDF4.Dataset'>\n",
      "root group (NETCDF4_CLASSIC data model, file format HDF5):\n",
      "    Conventions: CF-1.0\n",
      "    title: HYCOM ATLb2.00\n",
      "    institution: National Centers for Environmental Prediction\n",
      "    source: HYCOM archive file\n",
      "    experiment: 90.9\n",
      "    history: archv2ncdf3z\n",
      "    dimensions(sizes): MT(1), Y(850), X(712), Depth(10)\n",
      "    variables(dimensions): float64 \u001b[4mMT\u001b[0m(MT), float64 \u001b[4mDate\u001b[0m(MT), float32 \u001b[4mDepth\u001b[0m(Depth), int32 \u001b[4mY\u001b[0m(Y), int32 \u001b[4mX\u001b[0m(X), float32 \u001b[4mLatitude\u001b[0m(Y,X), float32 \u001b[4mLongitude\u001b[0m(Y,X), float32 \u001b[4mu\u001b[0m(MT,Depth,Y,X), float32 \u001b[4mv\u001b[0m(MT,Depth,Y,X), float32 \u001b[4mtemperature\u001b[0m(MT,Depth,Y,X), float32 \u001b[4msalinity\u001b[0m(MT,Depth,Y,X)\n",
      "    groups: \n",
      "\n"
     ]
    }
   ],
   "source": [
    "f = netCDF4.Dataset('../../data/rtofs_glo_3dz_f006_6hrly_reg3.nc')\n",
    "print(f) "
   ]
  },
  {
   "cell_type": "markdown",
   "metadata": {
    "internals": {
     "frag_helper": "fragment_end",
     "frag_number": 4,
     "slide_type": "subslide"
    },
    "slideshow": {
     "slide_type": "slide"
    }
   },
   "source": [
    "## Access a netCDF variable\n",
    "- variable objects stored by name in **`variables`** dict.\n",
    "- print the variable yields summary info (including all the attributes).\n",
    "- no actual data read yet (just have a reference to the variable object with metadata)."
   ]
  },
  {
   "cell_type": "code",
   "execution_count": 3,
   "metadata": {
    "internals": {
     "frag_helper": "fragment_end",
     "frag_number": 6,
     "slide_helper": "subslide_end"
    },
    "slide_helper": "slide_end",
    "slideshow": {
     "slide_type": "fragment"
    }
   },
   "outputs": [
    {
     "name": "stdout",
     "output_type": "stream",
     "text": [
      "odict_keys(['MT', 'Date', 'Depth', 'Y', 'X', 'Latitude', 'Longitude', 'u', 'v', 'temperature', 'salinity'])\n",
      "<class 'netCDF4._netCDF4.Variable'>\n",
      "float32 temperature(MT, Depth, Y, X)\n",
      "    coordinates: Longitude Latitude Date\n",
      "    standard_name: sea_water_potential_temperature\n",
      "    units: degC\n",
      "    _FillValue: 1.26765e+30\n",
      "    valid_range: [ -5.07860279  11.14989948]\n",
      "    long_name:   temp [90.9H]\n",
      "unlimited dimensions: MT\n",
      "current shape = (1, 10, 850, 712)\n",
      "filling on\n"
     ]
    }
   ],
   "source": [
    "print(f.variables.keys()) # get all variable names\n",
    "temp = f.variables['temperature']  # temperature variable\n",
    "print(temp) "
   ]
  },
  {
   "cell_type": "markdown",
   "metadata": {
    "internals": {
     "frag_helper": "fragment_end",
     "frag_number": 6,
     "slide_type": "subslide"
    },
    "slideshow": {
     "slide_type": "slide"
    }
   },
   "source": [
    "## List the Dimensions\n",
    "\n",
    "- All variables in a netCDF file have an associated shape, specified by a list of dimensions.\n",
    "- Let's list all the dimensions in this netCDF file.\n",
    "- Note that the **`MT`** dimension is special (*`unlimited`*), which means it can be appended to."
   ]
  },
  {
   "cell_type": "code",
   "execution_count": 4,
   "metadata": {
    "internals": {
     "frag_helper": "fragment_end",
     "frag_number": 8
    },
    "slideshow": {
     "slide_type": "fragment"
    }
   },
   "outputs": [
    {
     "name": "stdout",
     "output_type": "stream",
     "text": [
      "('MT', <class 'netCDF4._netCDF4.Dimension'> (unlimited): name = 'MT', size = 1\n",
      ")\n",
      "('Y', <class 'netCDF4._netCDF4.Dimension'>: name = 'Y', size = 850\n",
      ")\n",
      "('X', <class 'netCDF4._netCDF4.Dimension'>: name = 'X', size = 712\n",
      ")\n",
      "('Depth', <class 'netCDF4._netCDF4.Dimension'>: name = 'Depth', size = 10\n",
      ")\n"
     ]
    }
   ],
   "source": [
    "for d in f.dimensions.items():\n",
    "    print(d)"
   ]
  },
  {
   "cell_type": "markdown",
   "metadata": {
    "internals": {
     "frag_helper": "fragment_end",
     "frag_number": 9
    },
    "slideshow": {
     "slide_type": "fragment"
    }
   },
   "source": [
    "Each variable has a **`dimensions`** and a **`shape`** attribute."
   ]
  },
  {
   "cell_type": "code",
   "execution_count": 5,
   "metadata": {
    "internals": {
     "frag_helper": "fragment_end",
     "frag_number": 10
    },
    "slideshow": {
     "slide_type": "fragment"
    }
   },
   "outputs": [
    {
     "data": {
      "text/plain": [
       "('MT', 'Depth', 'Y', 'X')"
      ]
     },
     "execution_count": 5,
     "metadata": {},
     "output_type": "execute_result"
    }
   ],
   "source": [
    "temp.dimensions"
   ]
  },
  {
   "cell_type": "code",
   "execution_count": 6,
   "metadata": {
    "internals": {
     "frag_helper": "fragment_end",
     "frag_number": 11,
     "slide_helper": "subslide_end"
    },
    "slide_helper": "slide_end",
    "slideshow": {
     "slide_type": "fragment"
    }
   },
   "outputs": [
    {
     "data": {
      "text/plain": [
       "(1, 10, 850, 712)"
      ]
     },
     "execution_count": 6,
     "metadata": {},
     "output_type": "execute_result"
    }
   ],
   "source": [
    "temp.shape"
   ]
  },
  {
   "cell_type": "markdown",
   "metadata": {
    "internals": {
     "frag_helper": "fragment_end",
     "frag_number": 11,
     "slide_type": "subslide"
    },
    "slideshow": {
     "slide_type": "slide"
    }
   },
   "source": [
    "### Each dimension typically has a variable associated with it (called a *coordinate* variable).\n",
    "- *Coordinate variables* are 1D variables that have the same name as dimensions.\n",
    "- Coordinate variables and *auxiliary coordinate variables* (named by the *coordinates* attribute) locate values in time and space."
   ]
  },
  {
   "cell_type": "code",
   "execution_count": 7,
   "metadata": {
    "internals": {
     "frag_helper": "fragment_end",
     "frag_number": 13,
     "slide_helper": "subslide_end"
    },
    "slide_helper": "slide_end",
    "slideshow": {
     "slide_type": "fragment"
    }
   },
   "outputs": [
    {
     "name": "stdout",
     "output_type": "stream",
     "text": [
      "<class 'netCDF4._netCDF4.Variable'>\n",
      "float64 MT(MT)\n",
      "    long_name: time\n",
      "    units: days since 1900-12-31 00:00:00\n",
      "    calendar: standard\n",
      "    axis: T\n",
      "unlimited dimensions: MT\n",
      "current shape = (1,)\n",
      "filling on, default _FillValue of 9.969209968386869e+36 used\n",
      "\n",
      "<class 'netCDF4._netCDF4.Variable'>\n",
      "int32 X(X)\n",
      "    point_spacing: even\n",
      "    axis: X\n",
      "unlimited dimensions: \n",
      "current shape = (712,)\n",
      "filling on, default _FillValue of -2147483647 used\n",
      "\n",
      "<class 'netCDF4._netCDF4.Variable'>\n",
      "int32 Y(Y)\n",
      "    point_spacing: even\n",
      "    axis: Y\n",
      "unlimited dimensions: \n",
      "current shape = (850,)\n",
      "filling on, default _FillValue of -2147483647 used\n",
      "\n"
     ]
    }
   ],
   "source": [
    "mt = f.variables['MT']\n",
    "depth = f.variables['Depth']\n",
    "x,y = f.variables['X'], f.variables['Y']\n",
    "print(mt)\n",
    "print(x)\n",
    "print(y)"
   ]
  },
  {
   "cell_type": "markdown",
   "metadata": {
    "internals": {
     "frag_helper": "fragment_end",
     "frag_number": 13,
     "slide_type": "subslide"
    },
    "slideshow": {
     "slide_type": "slide"
    }
   },
   "source": [
    "## Accessing data from a netCDF variable object\n",
    "\n",
    "- netCDF variables objects behave much like numpy arrays.\n",
    "- slicing a netCDF variable object returns a numpy array with the data.\n",
    "- Boolean array and integer sequence indexing behaves differently for netCDF variables than for numpy arrays. Only 1-d boolean arrays and integer sequences are allowed, and these indices work independently along each dimension (similar to the way vector subscripts work in fortran)."
   ]
  },
  {
   "cell_type": "code",
   "execution_count": 8,
   "metadata": {
    "internals": {
     "frag_helper": "fragment_end",
     "frag_number": 15
    },
    "slideshow": {
     "slide_type": "fragment"
    }
   },
   "outputs": [
    {
     "name": "stdout",
     "output_type": "stream",
     "text": [
      "[ 41023.25]\n"
     ]
    }
   ],
   "source": [
    "time = mt[:]  # Reads the netCDF variable MT, array of one element\n",
    "print(time) "
   ]
  },
  {
   "cell_type": "code",
   "execution_count": 9,
   "metadata": {
    "internals": {
     "frag_helper": "fragment_end",
     "frag_number": 16
    },
    "slideshow": {
     "slide_type": "fragment"
    }
   },
   "outputs": [
    {
     "name": "stdout",
     "output_type": "stream",
     "text": [
      "('Depth',)\n",
      "[    0.   100.   200.   400.   700.  1000.  2000.  3000.  4000.  5000.]\n"
     ]
    }
   ],
   "source": [
    "dpth = depth[:] # examine depth array\n",
    "print(depth.dimensions)\n",
    "print(dpth) "
   ]
  },
  {
   "cell_type": "code",
   "execution_count": 10,
   "metadata": {
    "internals": {
     "frag_helper": "fragment_end",
     "frag_number": 17,
     "slide_helper": "subslide_end"
    },
    "slide_helper": "slide_end",
    "slideshow": {
     "slide_type": "fragment"
    }
   },
   "outputs": [
    {
     "name": "stdout",
     "output_type": "stream",
     "text": [
      "shape of temp variable: (1, 10, 850, 712)\n",
      "shape of temp slice: (6, 425, 356)\n"
     ]
    }
   ],
   "source": [
    "xx,yy = x[:],y[:]\n",
    "print('shape of temp variable: %s' % repr(temp.shape))\n",
    "tempslice = temp[0, dpth > 400, yy > yy.max()/2, xx > xx.max()/2]\n",
    "print('shape of temp slice: %s' % repr(tempslice.shape))"
   ]
  },
  {
   "cell_type": "markdown",
   "metadata": {
    "internals": {
     "frag_helper": "fragment_end",
     "frag_number": 17,
     "slide_type": "subslide"
    },
    "slideshow": {
     "slide_type": "slide"
    }
   },
   "source": [
    "## What is the sea surface temperature and salinity at 50N, 140W?\n",
    "### Finding the latitude and longitude indices of 50N, 140W\n",
    "\n",
    "- The `X` and `Y` dimensions don't look like longitudes and latitudes\n",
    "- Use the auxilary coordinate variables named in the `coordinates` variable attribute, `Latitude` and `Longitude`"
   ]
  },
  {
   "cell_type": "code",
   "execution_count": 11,
   "metadata": {},
   "outputs": [
    {
     "name": "stdout",
     "output_type": "stream",
     "text": [
      "[  1   2   3   4   5   6   7   8   9  10  11  12  13  14  15  16  17  18\n",
      "  19  20  21  22  23  24  25  26  27  28  29  30  31  32  33  34  35  36\n",
      "  37  38  39  40  41  42  43  44  45  46  47  48  49  50  51  52  53  54\n",
      "  55  56  57  58  59  60  61  62  63  64  65  66  67  68  69  70  71  72\n",
      "  73  74  75  76  77  78  79  80  81  82  83  84  85  86  87  88  89  90\n",
      "  91  92  93  94  95  96  97  98  99 100 101 102 103 104 105 106 107 108\n",
      " 109 110 111 112 113 114 115 116 117 118 119 120 121 122 123 124 125 126\n",
      " 127 128 129 130 131 132 133 134 135 136 137 138 139 140 141 142 143 144\n",
      " 145 146 147 148 149 150 151 152 153 154 155 156 157 158 159 160 161 162\n",
      " 163 164 165 166 167 168 169 170 171 172 173 174 175 176 177 178 179 180\n",
      " 181 182 183 184 185 186 187 188 189 190 191 192 193 194 195 196 197 198\n",
      " 199 200 201 202 203 204 205 206 207 208 209 210 211 212 213 214 215 216\n",
      " 217 218 219 220 221 222 223 224 225 226 227 228 229 230 231 232 233 234\n",
      " 235 236 237 238 239 240 241 242 243 244 245 246 247 248 249 250 251 252\n",
      " 253 254 255 256 257 258 259 260 261 262 263 264 265 266 267 268 269 270\n",
      " 271 272 273 274 275 276 277 278 279 280 281 282 283 284 285 286 287 288\n",
      " 289 290 291 292 293 294 295 296 297 298 299 300 301 302 303 304 305 306\n",
      " 307 308 309 310 311 312 313 314 315 316 317 318 319 320 321 322 323 324\n",
      " 325 326 327 328 329 330 331 332 333 334 335 336 337 338 339 340 341 342\n",
      " 343 344 345 346 347 348 349 350 351 352 353 354 355 356 357 358 359 360\n",
      " 361 362 363 364 365 366 367 368 369 370 371 372 373 374 375 376 377 378\n",
      " 379 380 381 382 383 384 385 386 387 388 389 390 391 392 393 394 395 396\n",
      " 397 398 399 400 401 402 403 404 405 406 407 408 409 410 411 412 413 414\n",
      " 415 416 417 418 419 420 421 422 423 424 425 426 427 428 429 430 431 432\n",
      " 433 434 435 436 437 438 439 440 441 442 443 444 445 446 447 448 449 450\n",
      " 451 452 453 454 455 456 457 458 459 460 461 462 463 464 465 466 467 468\n",
      " 469 470 471 472 473 474 475 476 477 478 479 480 481 482 483 484 485 486\n",
      " 487 488 489 490 491 492 493 494 495 496 497 498 499 500 501 502 503 504\n",
      " 505 506 507 508 509 510 511 512 513 514 515 516 517 518 519 520 521 522\n",
      " 523 524 525 526 527 528 529 530 531 532 533 534 535 536 537 538 539 540\n",
      " 541 542 543 544 545 546 547 548 549 550 551 552 553 554 555 556 557 558\n",
      " 559 560 561 562 563 564 565 566 567 568 569 570 571 572 573 574 575 576\n",
      " 577 578 579 580 581 582 583 584 585 586 587 588 589 590 591 592 593 594\n",
      " 595 596 597 598 599 600 601 602 603 604 605 606 607 608 609 610 611 612\n",
      " 613 614 615 616 617 618 619 620 621 622 623 624 625 626 627 628 629 630\n",
      " 631 632 633 634 635 636 637 638 639 640 641 642 643 644 645 646 647 648\n",
      " 649 650 651 652 653 654 655 656 657 658 659 660 661 662 663 664 665 666\n",
      " 667 668 669 670 671 672 673 674 675 676 677 678 679 680 681 682 683 684\n",
      " 685 686 687 688 689 690 691 692 693 694 695 696 697 698 699 700 701 702\n",
      " 703 704 705 706 707 708 709 710 711 712]\n"
     ]
    }
   ],
   "source": [
    "print(x[:])"
   ]
  },
  {
   "cell_type": "code",
   "execution_count": 12,
   "metadata": {
    "internals": {
     "frag_helper": "fragment_end",
     "frag_number": 19
    },
    "slideshow": {
     "slide_type": "fragment"
    }
   },
   "outputs": [
    {
     "name": "stdout",
     "output_type": "stream",
     "text": [
      "<class 'netCDF4._netCDF4.Variable'>\n",
      "float32 Latitude(Y, X)\n",
      "    standard_name: latitude\n",
      "    units: degrees_north\n",
      "unlimited dimensions: \n",
      "current shape = (850, 712)\n",
      "filling on, default _FillValue of 9.969209968386869e+36 used\n",
      "\n",
      "<class 'netCDF4._netCDF4.Variable'>\n",
      "float32 Longitude(Y, X)\n",
      "    standard_name: longitude\n",
      "    units: degrees_east\n",
      "unlimited dimensions: \n",
      "current shape = (850, 712)\n",
      "filling on, default _FillValue of 9.969209968386869e+36 used\n",
      "\n",
      "[[ 45.77320099  45.77320099  45.77320099 ...,  45.77320099  45.77320099\n",
      "   45.77320099]\n",
      " [ 45.82899857  45.82899857  45.82899857 ...,  45.82899857  45.82899857\n",
      "   45.82899857]\n",
      " [ 45.88470078  45.88470078  45.88470078 ...,  45.88470078  45.88470078\n",
      "   45.88470078]\n",
      " ..., \n",
      " [ 78.36325073  78.34516144  78.32701111 ...,  56.40559387  56.36401367\n",
      "   56.32240677]\n",
      " [ 78.38998413  78.37184906  78.35365295 ...,  56.41108322  56.36948395\n",
      "   56.32785034]\n",
      " [ 78.41667938  78.39850616  78.38025665 ...,  56.4165535   56.37493134\n",
      "   56.33327103]]\n"
     ]
    }
   ],
   "source": [
    "lat, lon = f.variables['Latitude'], f.variables['Longitude']\n",
    "print(lat)\n",
    "print(lon)\n",
    "print(lat[:])"
   ]
  },
  {
   "cell_type": "markdown",
   "metadata": {
    "internals": {
     "frag_helper": "fragment_end",
     "frag_number": 20,
     "slide_helper": "subslide_end"
    },
    "slide_helper": "slide_end",
    "slideshow": {
     "slide_type": "fragment"
    }
   },
   "source": [
    "Aha!  So we need to find array indices `iy` and `ix` such that `Latitude[iy, ix]` is close to 50.0 and `Longitude[iy, ix]` is close to -140.0 ..."
   ]
  },
  {
   "cell_type": "code",
   "execution_count": 13,
   "metadata": {
    "internals": {
     "frag_helper": "fragment_end",
     "frag_number": 20,
     "slide_type": "subslide"
    },
    "slideshow": {
     "slide_type": "slide"
    }
   },
   "outputs": [
    {
     "name": "stdout",
     "output_type": "stream",
     "text": [
      "122\n",
      "486\n"
     ]
    }
   ],
   "source": [
    "# extract lat/lon values (in degrees) to numpy arrays\n",
    "latvals = lat[:]; lonvals = lon[:] \n",
    "# a function to find the index of the point closest pt\n",
    "# (in squared distance) to give lat/lon value.\n",
    "def getclosest_ij(lats,lons,latpt,lonpt):\n",
    "    # find squared distance of every point on grid\n",
    "    dist_sq = (lats-latpt)**2 + (lons-lonpt)**2  \n",
    "    # 1D index of minimum dist_sq element\n",
    "    minindex_flattened = dist_sq.argmin()    \n",
    "    # Get 2D index for latvals and lonvals arrays from 1D index\n",
    "    return np.unravel_index(minindex_flattened, lats.shape)\n",
    "iy_min, ix_min = getclosest_ij(latvals, lonvals, 50., -140)\n",
    "print(iy_min)\n",
    "print(ix_min)\n"
   ]
  },
  {
   "cell_type": "markdown",
   "metadata": {
    "internals": {
     "frag_helper": "fragment_end",
     "frag_number": 22
    },
    "slideshow": {
     "slide_type": "fragment"
    }
   },
   "source": [
    "### Now we have all the information we need to find our answer.\n",
    "\n",
    "<table align=\"left\">\n",
    "  <tr>\n",
    "    <th>Variable</th>\n",
    "    <th>Index</th> \n",
    "  </tr>\n",
    "  <tr>\n",
    "    <td>MT</td>\n",
    "    <td>0</td> \n",
    "  </tr>\n",
    "  <tr>\n",
    "    <td>Depth</td>\n",
    "    <td>0</td> \n",
    "  </tr>\n",
    "  <tr>\n",
    "    <td>Y</td>\n",
    "    <td>`iy_min`</td> \n",
    "  </tr>\n",
    "  <tr>\n",
    "    <td>X</td>\n",
    "    <td>`ix_min`</td> \n",
    "  </tr>\n",
    "</table>"
   ]
  },
  {
   "cell_type": "markdown",
   "metadata": {
    "internals": {
     "frag_helper": "fragment_end",
     "frag_number": 24
    },
    "slideshow": {
     "slide_type": "fragment"
    }
   },
   "source": [
    "### What is the sea surface temperature and salinity at the specified point?"
   ]
  },
  {
   "cell_type": "code",
   "execution_count": 14,
   "metadata": {
    "internals": {
     "frag_helper": "fragment_end",
     "frag_number": 25,
     "slide_helper": "subslide_end"
    },
    "slide_helper": "slide_end",
    "slideshow": {
     "slide_type": "fragment"
    }
   },
   "outputs": [
    {
     "name": "stdout",
     "output_type": "stream",
     "text": [
      " 6.4631 degC\n",
      "32.6572 psu\n"
     ]
    }
   ],
   "source": [
    "sal = f.variables['salinity']\n",
    "# Read values out of the netCDF file for temperature and salinity\n",
    "print('%7.4f %s' % (temp[0,0,iy_min,ix_min], temp.units))\n",
    "print('%7.4f %s' % (sal[0,0,iy_min,ix_min], sal.units))"
   ]
  },
  {
   "cell_type": "markdown",
   "metadata": {
    "internals": {
     "frag_helper": "fragment_end",
     "frag_number": 25,
     "slide_type": "subslide"
    },
    "slideshow": {
     "slide_type": "slide"
    }
   },
   "source": [
    "## Remote data access via openDAP\n",
    "\n",
    "- Remote data can be accessed seamlessly with the netcdf4-python API\n",
    "- Access happens via the DAP protocol and DAP servers, such as TDS.\n",
    "- many formats supported, like GRIB, are supported \"under the hood\"."
   ]
  },
  {
   "cell_type": "markdown",
   "metadata": {
    "internals": {
     "frag_helper": "fragment_end",
     "frag_number": 27
    },
    "slideshow": {
     "slide_type": "fragment"
    }
   },
   "source": [
    "The following example showcases some nice netCDF features:\n",
    "\n",
    "1. We are seamlessly accessing **remote** data, from a TDS server.\n",
    "2. We are seamlessly accessing **GRIB2** data, as if it were netCDF data.\n",
    "3. We are generating **metadata** on-the-fly."
   ]
  },
  {
   "cell_type": "code",
   "execution_count": 15,
   "metadata": {
    "internals": {
     "frag_helper": "fragment_end",
     "frag_number": 28,
     "slide_helper": "subslide_end"
    },
    "slide_helper": "slide_end",
    "slideshow": {
     "slide_type": "fragment"
    }
   },
   "outputs": [
    {
     "name": "stdout",
     "output_type": "stream",
     "text": [
      "odict_keys(['lat', 'lon', 'reftime', 'time', 'time1', 'time2', 'isobaric', 'height_above_ground_layer', 'height_above_ground', 'sigma', 'depth_below_surface_layer', 'pressure_difference_layer', 'isobaric1', 'isobaric2', 'height_above_ground1', 'height_above_ground2', 'isobaric3', 'altitude_above_msl', 'height_above_ground3', 'height_above_ground_layer1', 'pressure_difference_layer1', 'isobaric4', 'pressure_difference_layer2', 'sigma_layer', 'height_above_ground4', 'isobaric5', 'potential_vorticity_surface', 'LatLon_Projection', 'time_bounds', 'height_above_ground_layer_bounds', 'depth_below_surface_layer_bounds', 'pressure_difference_layer_bounds', 'height_above_ground_layer1_bounds', 'pressure_difference_layer1_bounds', 'pressure_difference_layer2_bounds', 'sigma_layer_bounds', 'Absolute_vorticity_isobaric', 'Albedo_surface_Mixed_intervals_Average', 'Apparent_temperature_height_above_ground', 'Cloud_mixing_ratio_isobaric', 'Cloud_water_entire_atmosphere_single_layer', 'Convective_available_potential_energy_pressure_difference_layer', 'Convective_available_potential_energy_surface', 'Convective_inhibition_pressure_difference_layer', 'Convective_inhibition_surface', 'Convective_precipitation_surface_Mixed_intervals_Accumulation', 'Dewpoint_temperature_height_above_ground', 'Geopotential_height_potential_vorticity_surface', 'Geopotential_height_surface', 'Geopotential_height_isobaric', 'Geopotential_height_zeroDegC_isotherm', 'Geopotential_height_maximum_wind', 'Geopotential_height_tropopause', 'Geopotential_height_highest_tropospheric_freezing', 'Haines_index_surface', 'ICAO_Standard_Atmosphere_Reference_Height_maximum_wind', 'ICAO_Standard_Atmosphere_Reference_Height_tropopause', 'Ice_cover_surface', 'Land_cover_0__sea_1__land_surface', 'Latent_heat_net_flux_surface_Mixed_intervals_Average', 'Maximum_temperature_height_above_ground_Mixed_intervals_Maximum', 'Minimum_temperature_height_above_ground_Mixed_intervals_Minimum', 'Momentum_flux_u-component_surface_Mixed_intervals_Average', 'Momentum_flux_v-component_surface_Mixed_intervals_Average', 'Per_cent_frozen_precipitation_surface', 'Potential_temperature_sigma', 'Precipitable_water_entire_atmosphere_single_layer', 'Precipitation_rate_surface_Mixed_intervals_Average', 'Pressure_potential_vorticity_surface', 'Pressure_middle_cloud_bottom_Mixed_intervals_Average', 'Pressure_low_cloud_bottom_Mixed_intervals_Average', 'Pressure_low_cloud_top_Mixed_intervals_Average', 'Pressure_convective_cloud_bottom', 'Pressure_convective_cloud_top', 'Pressure_middle_cloud_top_Mixed_intervals_Average', 'Pressure_high_cloud_bottom_Mixed_intervals_Average', 'Pressure_high_cloud_top_Mixed_intervals_Average', 'Pressure_surface', 'Pressure_maximum_wind', 'Pressure_tropopause', 'Pressure_height_above_ground', 'Pressure_reduced_to_MSL_msl', 'Relative_humidity_highest_tropospheric_freezing', 'Relative_humidity_entire_atmosphere_single_layer', 'Relative_humidity_sigma_layer', 'Relative_humidity_pressure_difference_layer', 'Relative_humidity_isobaric', 'Relative_humidity_zeroDegC_isotherm', 'Relative_humidity_height_above_ground', 'Relative_humidity_sigma', 'Sensible_heat_net_flux_surface_Mixed_intervals_Average', 'Snow_depth_surface', 'Soil_temperature_depth_below_surface_layer', 'Specific_humidity_pressure_difference_layer', 'Specific_humidity_height_above_ground', 'Storm_relative_helicity_height_above_ground_layer', 'Temperature_potential_vorticity_surface', 'Temperature_high_cloud_top_Mixed_intervals_Average', 'Temperature_low_cloud_top_Mixed_intervals_Average', 'Temperature_middle_cloud_top_Mixed_intervals_Average', 'Temperature_surface', 'Temperature_pressure_difference_layer', 'Temperature_isobaric', 'Temperature_altitude_above_msl', 'Temperature_maximum_wind', 'Temperature_tropopause', 'Temperature_height_above_ground', 'Temperature_sigma', 'Total_cloud_cover_entire_atmosphere_Mixed_intervals_Average', 'Total_cloud_cover_low_cloud_Mixed_intervals_Average', 'Total_cloud_cover_boundary_layer_cloud_Mixed_intervals_Average', 'Total_cloud_cover_high_cloud_Mixed_intervals_Average', 'Total_cloud_cover_convective_cloud', 'Total_cloud_cover_middle_cloud_Mixed_intervals_Average', 'Total_ozone_entire_atmosphere_single_layer', 'Total_precipitation_surface_Mixed_intervals_Accumulation', 'Categorical_Rain_surface_Mixed_intervals_Average', 'Categorical_Freezing_Rain_surface_Mixed_intervals_Average', 'Categorical_Ice_Pellets_surface_Mixed_intervals_Average', 'Categorical_Snow_surface_Mixed_intervals_Average', 'Convective_Precipitation_Rate_surface_Mixed_intervals_Average', 'Potential_Evaporation_Rate_surface', 'Ozone_Mixing_Ratio_isobaric', 'Icing_severity_isobaric', 'Vertical_Speed_Shear_potential_vorticity_surface', 'Vertical_Speed_Shear_tropopause', 'U-Component_Storm_Motion_height_above_ground_layer', 'V-Component_Storm_Motion_height_above_ground_layer', 'Ventilation_Rate_planetary_boundary', 'MSLP_Eta_model_reduction_msl', '5-Wave_Geopotential_Height_isobaric', 'Zonal_Flux_of_Gravity_Wave_Stress_surface_Mixed_intervals_Average', 'Meridional_Flux_of_Gravity_Wave_Stress_surface_Mixed_intervals_Average', 'Planetary_Boundary_Layer_Height_surface', 'Pressure_of_level_from_which_parcel_was_lifted_pressure_difference_layer', 'Downward_Short-Wave_Radiation_Flux_surface_Mixed_intervals_Average', 'Upward_Short-Wave_Radiation_Flux_surface_Mixed_intervals_Average', 'Upward_Short-Wave_Radiation_Flux_atmosphere_top_Mixed_intervals_Average', 'Downward_Long-Wave_Radp_Flux_surface_Mixed_intervals_Average', 'Upward_Long-Wave_Radp_Flux_atmosphere_top_Mixed_intervals_Average', 'Upward_Long-Wave_Radp_Flux_surface_Mixed_intervals_Average', 'Cloud_Work_Function_entire_atmosphere_single_layer_Mixed_intervals_Average', 'Sunshine_Duration_surface', 'Surface_Lifted_Index_surface', 'Best_4_layer_Lifted_Index_surface', 'Volumetric_Soil_Moisture_Content_depth_below_surface_layer', 'Ground_Heat_Flux_surface_Mixed_intervals_Average', 'Wilting_Point_surface', 'Field_Capacity_surface', 'Vertical_velocity_pressure_isobaric', 'Vertical_velocity_pressure_sigma', 'Water_equivalent_of_accumulated_snow_depth_surface', 'Water_runoff_surface_Mixed_intervals_Accumulation', 'Wind_speed_gust_surface', 'u-component_of_wind_planetary_boundary', 'u-component_of_wind_potential_vorticity_surface', 'u-component_of_wind_pressure_difference_layer', 'u-component_of_wind_isobaric', 'u-component_of_wind_altitude_above_msl', 'u-component_of_wind_maximum_wind', 'u-component_of_wind_height_above_ground', 'u-component_of_wind_tropopause', 'u-component_of_wind_sigma', 'v-component_of_wind_planetary_boundary', 'v-component_of_wind_potential_vorticity_surface', 'v-component_of_wind_pressure_difference_layer', 'v-component_of_wind_isobaric', 'v-component_of_wind_altitude_above_msl', 'v-component_of_wind_maximum_wind', 'v-component_of_wind_height_above_ground', 'v-component_of_wind_tropopause', 'v-component_of_wind_sigma'])\n"
     ]
    }
   ],
   "source": [
    "from siphon.catalog import get_latest_access_url\n",
    "URL = get_latest_access_url('http://thredds.ucar.edu/thredds/catalog/grib/NCEP/GFS/Global_0p5deg/catalog.xml',\n",
    "                            'OPENDAP')\n",
    "gfs = netCDF4.Dataset(URL)\n",
    "print(gfs.variables.keys())"
   ]
  },
  {
   "cell_type": "code",
   "execution_count": 16,
   "metadata": {
    "internals": {
     "frag_helper": "fragment_end",
     "frag_number": 28,
     "slide_helper": "subslide_end",
     "slide_type": "subslide"
    },
    "slide_helper": "slide_end",
    "slideshow": {
     "slide_type": "slide"
    }
   },
   "outputs": [
    {
     "name": "stdout",
     "output_type": "stream",
     "text": [
      "<class 'netCDF4._netCDF4.Variable'>\n",
      "float32 Temperature_surface(time2, lat, lon)\n",
      "    long_name: Temperature @ Ground or water surface\n",
      "    units: K\n",
      "    abbreviation: TMP\n",
      "    missing_value: nan\n",
      "    grid_mapping: LatLon_Projection\n",
      "    coordinates: reftime time2 lat lon \n",
      "    Grib_Variable_Id: VAR_0-0-0_L1\n",
      "    Grib2_Parameter: [0 0 0]\n",
      "    Grib2_Parameter_Discipline: Meteorological products\n",
      "    Grib2_Parameter_Category: Temperature\n",
      "    Grib2_Parameter_Name: Temperature\n",
      "    Grib2_Level_Type: Ground or water surface\n",
      "    Grib2_Generating_Process_Type: Forecast\n",
      "unlimited dimensions: \n",
      "current shape = (93, 361, 720)\n",
      "filling off\n",
      "\n",
      "<class 'netCDF4._netCDF4.Variable'>\n",
      "float64 time2(time2)\n",
      "    units: Hour since 2017-04-19T12:00:00Z\n",
      "    standard_name: time\n",
      "    long_name: GRIB forecast or observation time\n",
      "    calendar: proleptic_gregorian\n",
      "    _CoordinateAxisType: Time\n",
      "unlimited dimensions: \n",
      "current shape = (93,)\n",
      "filling off\n",
      "\n",
      "<class 'netCDF4._netCDF4.Variable'>\n",
      "float32 lat(lat)\n",
      "    units: degrees_north\n",
      "    _CoordinateAxisType: Lat\n",
      "unlimited dimensions: \n",
      "current shape = (361,)\n",
      "filling off\n",
      "\n",
      "<class 'netCDF4._netCDF4.Variable'>\n",
      "float32 lon(lon)\n",
      "    units: degrees_east\n",
      "    _CoordinateAxisType: Lon\n",
      "unlimited dimensions: \n",
      "current shape = (720,)\n",
      "filling off\n",
      "\n"
     ]
    }
   ],
   "source": [
    "# Look at metadata for a specific variable\n",
    "# gfs.variables.keys() will show all available variables.\n",
    "sfctmp = gfs.variables['Temperature_surface']\n",
    "# get info about sfctmp\n",
    "print(sfctmp)\n",
    "# print coord vars associated with this variable\n",
    "for dname in sfctmp.dimensions:   \n",
    "    print(gfs.variables[dname])"
   ]
  },
  {
   "cell_type": "markdown",
   "metadata": {
    "internals": {
     "frag_helper": "fragment_end",
     "frag_number": 28,
     "slide_type": "subslide"
    },
    "slideshow": {
     "slide_type": "slide"
    }
   },
   "source": [
    "## Missing values\n",
    "- when `data == var.missing_value` somewhere, a masked array is returned.\n",
    "- illustrate with soil moisture data (only defined over land)\n",
    "- white areas on plot are masked values over water."
   ]
  },
  {
   "cell_type": "code",
   "execution_count": 17,
   "metadata": {},
   "outputs": [
    {
     "name": "stdout",
     "output_type": "stream",
     "text": [
      "<class 'netCDF4._netCDF4.Variable'>\n",
      "float32 Volumetric_Soil_Moisture_Content_depth_below_surface_layer(time2, depth_below_surface_layer, lat, lon)\n",
      "    long_name: Volumetric Soil Moisture Content @ Depth below land surface layer\n",
      "    units: Fraction\n",
      "    abbreviation: SOILW\n",
      "    missing_value: nan\n",
      "    grid_mapping: LatLon_Projection\n",
      "    coordinates: reftime time2 depth_below_surface_layer lat lon \n",
      "    Grib_Variable_Id: VAR_2-0-192_L106_layer\n",
      "    Grib2_Parameter: [  2   0 192]\n",
      "    Grib2_Parameter_Discipline: Land surface products\n",
      "    Grib2_Parameter_Category: Vegetation/Biomass\n",
      "    Grib2_Parameter_Name: Volumetric Soil Moisture Content\n",
      "    Grib2_Level_Type: Depth below land surface\n",
      "    Grib2_Generating_Process_Type: Forecast\n",
      "unlimited dimensions: \n",
      "current shape = (93, 4, 361, 720)\n",
      "filling off\n",
      "\n",
      "nan\n"
     ]
    }
   ],
   "source": [
    "soilmvar = gfs.variables['Volumetric_Soil_Moisture_Content_depth_below_surface_layer']\n",
    "print(soilmvar)\n",
    "print(soilmvar.missing_value)"
   ]
  },
  {
   "cell_type": "code",
   "execution_count": 18,
   "metadata": {},
   "outputs": [
    {
     "name": "stdout",
     "output_type": "stream",
     "text": [
      "shape=(361, 720), type=<class 'numpy.ma.core.MaskedArray'>, missing_value=nan\n"
     ]
    },
    {
     "name": "stderr",
     "output_type": "stream",
     "text": [
      "/Users/johnleeman/anaconda/envs/unidata-workshop/lib/python3.6/site-packages/ipykernel/__main__.py:2: RuntimeWarning: invalid value encountered in greater\n",
      "  from ipykernel import kernelapp as app\n"
     ]
    }
   ],
   "source": [
    "# flip the data in latitude so North Hemisphere is up on the plot\n",
    "soilm = soilmvar[0,0,::-1,:] \n",
    "print('shape=%s, type=%s, missing_value=%s' % \\\n",
    "      (soilm.shape, type(soilm), soilmvar.missing_value))"
   ]
  },
  {
   "cell_type": "code",
   "execution_count": 19,
   "metadata": {
    "internals": {
     "frag_helper": "fragment_end",
     "frag_number": 31
    },
    "slideshow": {
     "slide_type": "fragment"
    }
   },
   "outputs": [
    {
     "data": {
      "image/png": "[encoded data removed]",
      "text/plain": [
       "<matplotlib.figure.Figure at 0x111730c18>"
      ]
     },
     "metadata": {},
     "output_type": "display_data"
    }
   ],
   "source": [
    "import matplotlib.pyplot as plt\n",
    "%matplotlib inline\n",
    "cs = plt.contourf(soilm)"
   ]
  },
  {
   "cell_type": "markdown",
   "metadata": {
    "internals": {
     "frag_helper": "fragment_end",
     "frag_number": 32,
     "slide_helper": "subslide_end"
    },
    "slide_helper": "slide_end",
    "slideshow": {
     "slide_type": "fragment"
    }
   },
   "source": [
    "## Packed integer data\n",
    "There is a similar feature for variables with `scale_factor` and `add_offset` attributes.\n",
    "\n",
    "- short integer data will automatically be returned as float data, with the scale and offset applied.  "
   ]
  },
  {
   "cell_type": "markdown",
   "metadata": {
    "internals": {
     "frag_helper": "fragment_end",
     "frag_number": 32,
     "slide_type": "subslide"
    },
    "slideshow": {
     "slide_type": "slide"
    }
   },
   "source": [
    "## Dealing with dates and times\n",
    "- time variables usually measure relative to a fixed date using a certain calendar, with units specified like ***`hours since YY:MM:DD hh-mm-ss`***.\n",
    "- **`num2date`** and **`date2num`** convenience functions provided to convert between these numeric time coordinates and handy python datetime instances.  \n",
    "- **`date2index`** finds the time index corresponding to a datetime instance."
   ]
  },
  {
   "cell_type": "code",
   "execution_count": 20,
   "metadata": {},
   "outputs": [
    {
     "name": "stdout",
     "output_type": "stream",
     "text": [
      "name of time dimension = time2\n"
     ]
    }
   ],
   "source": [
    "from netCDF4 import num2date, date2num, date2index\n",
    "timedim = sfctmp.dimensions[0] # time dim name\n",
    "print('name of time dimension = %s' % timedim)"
   ]
  },
  {
   "cell_type": "code",
   "execution_count": 21,
   "metadata": {
    "internals": {
     "frag_helper": "fragment_end",
     "frag_number": 34
    },
    "slideshow": {
     "slide_type": "fragment"
    }
   },
   "outputs": [
    {
     "name": "stdout",
     "output_type": "stream",
     "text": [
      "units = Hour since 2017-04-19T12:00:00Z, values = [   0.    3.    6.    9.   12.   15.   18.   21.   24.   27.   30.   33.\n",
      "   36.   39.   42.   45.   48.   51.   54.   57.   60.   63.   66.   69.\n",
      "   72.   75.   78.   81.   84.   87.   90.   93.   96.   99.  102.  105.\n",
      "  108.  111.  114.  117.  120.  123.  126.  129.  132.  135.  138.  141.\n",
      "  144.  147.  150.  153.  156.  159.  162.  165.  168.  171.  174.  177.\n",
      "  180.  183.  186.  189.  192.  195.  198.  201.  204.  207.  210.  213.\n",
      "  216.  219.  222.  225.  228.  231.  234.  237.  240.  252.  264.  276.\n",
      "  288.  300.  312.  324.  336.  348.  360.  372.  384.]\n"
     ]
    }
   ],
   "source": [
    "times = gfs.variables[timedim] # time coord var\n",
    "print('units = %s, values = %s' % (times.units, times[:]))"
   ]
  },
  {
   "cell_type": "code",
   "execution_count": 22,
   "metadata": {
    "internals": {
     "frag_helper": "fragment_end",
     "frag_number": 35,
     "slide_helper": "subslide_end"
    },
    "slide_helper": "slide_end",
    "slideshow": {
     "slide_type": "fragment"
    }
   },
   "outputs": [
    {
     "name": "stdout",
     "output_type": "stream",
     "text": [
      "['2017-04-19 12:00:00', '2017-04-19 15:00:00', '2017-04-19 18:00:00', '2017-04-19 21:00:00', '2017-04-20 00:00:00', '2017-04-20 03:00:00', '2017-04-20 06:00:00', '2017-04-20 09:00:00', '2017-04-20 12:00:00', '2017-04-20 15:00:00']\n"
     ]
    }
   ],
   "source": [
    "dates = num2date(times[:], times.units)\n",
    "print([date.strftime('%Y-%m-%d %H:%M:%S') for date in dates[:10]]) # print only first ten..."
   ]
  },
  {
   "cell_type": "markdown",
   "metadata": {
    "internals": {
     "frag_helper": "fragment_end",
     "frag_number": 35,
     "slide_type": "subslide"
    },
    "slideshow": {
     "slide_type": "slide"
    }
   },
   "source": [
    "### Get index associated with a specified date, extract forecast data for that date."
   ]
  },
  {
   "cell_type": "code",
   "execution_count": 23,
   "metadata": {
    "internals": {
     "frag_helper": "fragment_end",
     "frag_number": 37
    },
    "slideshow": {
     "slide_type": "fragment"
    }
   },
   "outputs": [
    {
     "name": "stdout",
     "output_type": "stream",
     "text": [
      "2017-04-22 13:47:23.829583\n",
      "index = 25, date = 2017-04-22 15:00:00\n"
     ]
    }
   ],
   "source": [
    "import datetime as dt\n",
    "date = dt.datetime.now() + dt.timedelta(days=3)\n",
    "print(date)\n",
    "ntime = date2index(date,times,select='nearest')\n",
    "print('index = %s, date = %s' % (ntime, dates[ntime]))"
   ]
  },
  {
   "cell_type": "markdown",
   "metadata": {
    "internals": {
     "frag_helper": "fragment_end",
     "frag_number": 38
    },
    "slideshow": {
     "slide_type": "fragment"
    }
   },
   "source": [
    "### Get temp forecast for Boulder (near 40N, -105W)\n",
    "- use function **`getclosest_ij`** we created before..."
   ]
  },
  {
   "cell_type": "code",
   "execution_count": 24,
   "metadata": {
    "internals": {
     "frag_helper": "fragment_end",
     "frag_number": 39,
     "slide_helper": "subslide_end"
    },
    "slide_helper": "slide_end",
    "slideshow": {
     "slide_type": "fragment"
    }
   },
   "outputs": [
    {
     "name": "stdout",
     "output_type": "stream",
     "text": [
      "Boulder forecast valid at 2017-04-22 15:00:00 UTC = 294.6 K\n"
     ]
    }
   ],
   "source": [
    "lats, lons = gfs.variables['lat'][:], gfs.variables['lon'][:]\n",
    "# lats, lons are 1-d. Make them 2-d using numpy.meshgrid.\n",
    "lons, lats = np.meshgrid(lons,lats)\n",
    "j, i = getclosest_ij(lats,lons,40,-105)\n",
    "fcst_temp = sfctmp[ntime,j,i]\n",
    "print('Boulder forecast valid at %s UTC = %5.1f %s' % \\\n",
    "      (dates[ntime],fcst_temp,sfctmp.units))"
   ]
  },
  {
   "cell_type": "markdown",
   "metadata": {
    "internals": {
     "frag_helper": "fragment_end",
     "frag_number": 39,
     "slide_type": "subslide"
    },
    "slideshow": {
     "slide_type": "slide"
    }
   },
   "source": [
    "## Simple multi-file aggregation\n",
    "\n",
    "What if you have a bunch of netcdf files, each with data for a different year, and you want to access all the data as if it were in one file?"
   ]
  },
  {
   "cell_type": "code",
   "execution_count": 25,
   "metadata": {
    "internals": {
     "frag_helper": "fragment_end",
     "frag_number": 41
    },
    "slideshow": {
     "slide_type": "fragment"
    }
   },
   "outputs": [],
   "source": [
    "import glob; glob.glob('../../data/prmsl*nc')"
   ]
  },
  {
   "cell_type": "markdown",
   "metadata": {
    "internals": {
     "frag_helper": "fragment_end",
     "frag_number": 42
    },
    "slideshow": {
     "slide_type": "fragment"
    }
   },
   "source": [
    "**`MFDataset`** uses file globbing to patch together all the files into one big Dataset.\n",
    "You can also pass it a list of specific files.\n",
    "\n",
    "Limitations:\n",
    "\n",
    "- It can only  aggregate the data along the leftmost dimension of each variable.\n",
    "- only works with `NETCDF3`, or `NETCDF4_CLASSIC` formatted files.\n",
    "- kind of slow."
   ]
  },
  {
   "cell_type": "code",
   "execution_count": 26,
   "metadata": {
    "internals": {
     "frag_helper": "fragment_end",
     "frag_number": 43,
     "slide_helper": "subslide_end"
    },
    "slide_helper": "slide_end",
    "slideshow": {
     "slide_type": "fragment"
    }
   },
   "outputs": [
    {
     "name": "stdout",
     "output_type": "stream",
     "text": [
      "starting date = 2000-01-01 00:00:00\n",
      "ending date = 2011-12-31 00:00:00\n",
      "times shape = 4383\n",
      "prmsl dimensions = ('time', 'lat', 'lon'), prmsl shape = (4383, 91, 180)\n"
     ]
    }
   ],
   "source": [
    "mf = netCDF4.MFDataset('../../data/prmsl*nc')\n",
    "times = mf.variables['time']\n",
    "dates = num2date(times[:],times.units)\n",
    "print('starting date = %s' % dates[0])\n",
    "print('ending date = %s'% dates[-1])\n",
    "prmsl = mf.variables['prmsl']\n",
    "print('times shape = %s' % times.shape)\n",
    "print('prmsl dimensions = %s, prmsl shape = %s' %\\\n",
    "     (prmsl.dimensions, prmsl.shape))"
   ]
  },
  {
   "cell_type": "markdown",
   "metadata": {
    "internals": {
     "frag_helper": "fragment_end",
     "frag_number": 43,
     "slide_type": "subslide"
    },
    "slideshow": {
     "slide_type": "slide"
    }
   },
   "source": [
    "## Closing your netCDF file\n",
    "\n",
    "It's good to close netCDF files, but not actually necessary when Dataset is open for read access only.\n"
   ]
  },
  {
   "cell_type": "code",
   "execution_count": 27,
   "metadata": {
    "internals": {
     "frag_helper": "fragment_end",
     "frag_number": 45
    },
    "slideshow": {
     "slide_type": "fragment"
    }
   },
   "outputs": [],
   "source": [
    "f.close()\n",
    "gfs.close()"
   ]
  },
  {
   "cell_type": "markdown",
   "metadata": {
    "internals": {
     "frag_helper": "fragment_end",
     "frag_number": 45,
     "slide_helper": "subslide_end"
    },
    "slide_helper": "slide_end",
    "slideshow": {
     "slide_type": "-"
    }
   },
   "source": [
    "## That's it!\n",
    "\n",
    "Now you're ready to start exploring your data interactively.\n",
    "\n",
    "To be continued with [Writing netCDF data](./netCDF-Writing.ipynb) ...."
   ]
  }
 ],
 "metadata": {
  "anaconda-cloud": {},
  "celltoolbar": "Raw Cell Format",
  "kernelspec": {
   "display_name": "Python 3",
   "language": "python",
   "name": "python3"
  },
  "language_info": {
   "codemirror_mode": {
    "name": "ipython",
    "version": 3
   },
   "file_extension": ".py",
   "mimetype": "text/x-python",
   "name": "python",
   "nbconvert_exporter": "python",
   "pygments_lexer": "ipython3",
   "version": "3.6.2"
  }
 },
 "nbformat": 4,
 "nbformat_minor": 1
}
