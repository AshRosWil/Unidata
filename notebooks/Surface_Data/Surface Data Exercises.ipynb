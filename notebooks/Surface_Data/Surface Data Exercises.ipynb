{
 "cells": [
  {
   "cell_type": "markdown",
   "metadata": {},
   "source": [
    "<div style=\"width:1000 px\">\n",
    "\n",
    "<div style=\"float:right; width:98 px; height:98px;\"><img src=\"https://pbs.twimg.com/profile_images/1187259618/unidata_logo_rgb_sm_400x400.png\" alt=\"Unidata Logo\" style=\"height: 98px;\"></div>\n",
    "\n",
    "<h1>Basic Time Series Plotting with netCDF Data</h1>\n",
    "<h2>Exercises</h2>\n",
    "<h3>Unidata Python Workshop</h3>\n",
    "\n",
    "<div style=\"clear:both\"></div>\n",
    "</div>\n",
    "\n",
    "<hr style=\"height:2px;\">"
   ]
  },
  {
   "cell_type": "markdown",
   "metadata": {},
   "source": [
    "## Exercise 1\n",
    "\n",
    "Time to make your own meteogram:\n",
    "1. Download some collection of variables for a location of interest\n",
    "2. Plot the values as a function of time.\n",
    "3. Bonus points: Use more than one subplot\n",
    "4. More bonus points: Explore time formatting"
   ]
  },
  {
   "cell_type": "code",
   "execution_count": null,
   "metadata": {
    "collapsed": true
   },
   "outputs": [],
   "source": [
    "# Imports here\n",
    "\n",
    "# Set up a query from thredds using siphon\n",
    "\n",
    "# Download data using NCSS\n",
    "\n",
    "# Plot data using matplotlib"
   ]
  },
  {
   "cell_type": "markdown",
   "metadata": {},
   "source": [
    "## Exercise 2\n",
    "Time to play around with the station plot.\n",
    "\n",
    "1. Download some surface data using siphon\n",
    "1. Set up a projection using CartoPy\n",
    "1. Create a station plot"
   ]
  },
  {
   "cell_type": "code",
   "execution_count": null,
   "metadata": {
    "collapsed": true
   },
   "outputs": [],
   "source": [
    "# Imports here\n",
    "\n",
    "# Set up a query from thredds using siphon\n",
    "\n",
    "# Download data using NCSS\n",
    "\n",
    "# Set up a projection\n",
    "\n",
    "# Plot data using MetPy StationPlot"
   ]
  }
 ],
 "metadata": {
  "kernelspec": {
   "display_name": "Python 3",
   "language": "python",
   "name": "python3"
  },
  "language_info": {
   "codemirror_mode": {
    "name": "ipython",
    "version": 3
   },
   "file_extension": ".py",
   "mimetype": "text/x-python",
   "name": "python",
   "nbconvert_exporter": "python",
   "pygments_lexer": "ipython3",
   "version": "3.6.1"
  }
 },
 "nbformat": 4,
 "nbformat_minor": 2
}
