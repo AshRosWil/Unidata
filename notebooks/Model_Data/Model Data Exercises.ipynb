{
 "cells": [
  {
   "cell_type": "markdown",
   "metadata": {},
   "source": [
    "<div style=\"width:1000 px\">\n",
    "\n",
    "<div style=\"float:right; width:98 px; height:98px;\">\n",
    "<img src=\"https://raw.githubusercontent.com/Unidata/MetPy/master/metpy/plots/_static/unidata_150x150.png\" alt=\"Unidata Logo\" style=\"height: 98px;\">\n",
    "</div>\n",
    "\n",
    "<h1>Downloading HRRR with Siphon</h1>\n",
    "<h2>Exercises</h2>\n",
    "<h3>Unidata Python Workshop</h3>\n",
    "\n",
    "<div style=\"clear:both\"></div>\n",
    "</div>\n",
    "\n",
    "<hr style=\"height:2px;\">"
   ]
  },
  {
   "cell_type": "markdown",
   "metadata": {},
   "source": [
    "## Exercise 1\n",
    "\n",
    "Time to make your own model plot:\n",
    "1. Pick out a catalog from the THREDDS server (can keep using HRRR if you so desire)\n",
    "1. Set up NCSS access and create a query\n",
    "1. Create the proper projection for the data\n",
    "1. Plot the data using `pcolormesh`, `contour`, or `contourf`"
   ]
  },
  {
   "cell_type": "code",
   "execution_count": null,
   "metadata": {
    "collapsed": true
   },
   "outputs": [],
   "source": [
    "# Imports here\n",
    "\n",
    "# Set up an NCSS query from thredds using siphon\n",
    "\n",
    "# Download data using NCSS\n",
    "\n",
    "# Set up the proper data projection using CartoPy\n",
    "\n",
    "# Plot using CartoPy and Matplotlib\n"
   ]
  },
  {
   "cell_type": "markdown",
   "metadata": {},
   "source": [
    "## Exercise 2\n",
    "Time to play around with the station plot.\n",
    "\n",
    "1. Download some surface data using siphon\n",
    "1. Set up a projection using CartoPy\n",
    "1. Create a station plot"
   ]
  },
  {
   "cell_type": "code",
   "execution_count": null,
   "metadata": {
    "collapsed": true
   },
   "outputs": [],
   "source": [
    "# Imports here\n",
    "\n",
    "# Set up a query from thredds using siphon\n",
    "\n",
    "# Download data using NCSS\n",
    "\n",
    "# Set up a projection\n",
    "\n",
    "# Plot data using MetPy StationPlot"
   ]
  }
 ],
 "metadata": {
  "kernelspec": {
   "display_name": "Python 3",
   "language": "python",
   "name": "python3"
  },
  "language_info": {
   "codemirror_mode": {
    "name": "ipython",
    "version": 3
   },
   "file_extension": ".py",
   "mimetype": "text/x-python",
   "name": "python",
   "nbconvert_exporter": "python",
   "pygments_lexer": "ipython3",
   "version": "3.6.2"
  }
 },
 "nbformat": 4,
 "nbformat_minor": 2
}
