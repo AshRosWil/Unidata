{
 "cells": [
  {
   "cell_type": "markdown",
   "metadata": {},
   "source": [
    "<img src=\"http://jupyter.org/assets/main-logo.svg\" style=\"width: 200px;\"/>"
   ]
  },
  {
   "cell_type": "markdown",
   "metadata": {},
   "source": [
    "# Introduction to Jupyter Notebook\n",
    "\n",
    "\n",
    "Ward Fisher<br>\n",
    "Unidata Python Workshop<br>\n",
    "October 2016<br>\n"
   ]
  },
  {
   "cell_type": "markdown",
   "metadata": {},
   "source": [
    "## Overview\n",
    "\n",
    "### What will we cover?\n",
    "\n",
    "* Brief overview of Jupyter Notebook\n",
    "    * What is it?\n",
    "    * How does it work?\n",
    "    * How do you use it?\n",
    "* Examples of basic Jupyter Notebook Usage\n",
    "\n",
    "### What won't we cover?\n",
    "\n",
    "* We aren't going too in-depth with Jupyter Notebooks for actual science.\n",
    "    * That will come later.\n",
    "* We will cover the basics."
   ]
  },
  {
   "cell_type": "markdown",
   "metadata": {},
   "source": [
    "## What is Jupyter Notebook?\n",
    "\n",
    "> The Jupyter Notebook is a web application that allows you to create and share documents that contain live code, equations, visualizations and explanatory text. Uses include: data cleaning and transformation, numerical simulation, statistical modeling, machine learning and much more. ([http://jupyter.org](http://jupyter.org))"
   ]
  },
  {
   "cell_type": "markdown",
   "metadata": {},
   "source": [
    "# Jupyter Architecture\n",
    "\n",
    "![img](../images/jupyter_notebook_intro/arch_overview.png)\n",
    "\n"
   ]
  },
  {
   "cell_type": "code",
   "execution_count": 10,
   "metadata": {
    "collapsed": false
   },
   "outputs": [],
   "source": [
    "# Placeholder for now.\n",
    "# from IPython.display import IFrame\n",
    "# IFrame(\"http://www.jupyter.org\",1000,1000)"
   ]
  }
 ],
 "metadata": {
  "kernelspec": {
   "display_name": "Python 3",
   "language": "python",
   "name": "python3"
  },
  "language_info": {
   "codemirror_mode": {
    "name": "ipython",
    "version": 3
   },
   "file_extension": ".py",
   "mimetype": "text/x-python",
   "name": "python",
   "nbconvert_exporter": "python",
   "pygments_lexer": "ipython3",
   "version": "3.5.2"
  }
 },
 "nbformat": 4,
 "nbformat_minor": 1
}
