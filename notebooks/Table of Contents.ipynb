{
 "cells": [
  {
   "cell_type": "markdown",
   "metadata": {},
   "source": [
    "<div style=\"width:1000 px\">\n",
    "\n",
    "<div style=\"float:right; width:98 px; height:98px;\"><img src=\"https://pbs.twimg.com/profile_images/1187259618/unidata_logo_rgb_sm_400x400.png\" alt=\"Unidata Logo\" style=\"height: 98px;\"></div>\n",
    "\n",
    "<h1>Unidata Python Workshop</h1>\n",
    "<h3>Table of Contents</h3>\n",
    "\n",
    "<div style=\"clear:both\"></div>\n",
    "</div>\n",
    "\n",
    "<hr style=\"height:2px;\">\n",
    "\n",
    "Welcome to the Unidata Python Workshop! This notebook contains links to course content and other useful materials."
   ]
  },
  {
   "cell_type": "markdown",
   "metadata": {},
   "source": [
    "<center>\n",
    "<h3>Workshop Contents</h3>\n",
    "</center>\n",
    "\n",
    "| Topic |        |           |\n",
    "| ----- | ------ | --------- |\n",
    "| Git | [Notes](../presentations/git.md) | |\n",
    "| Conda | [Notes](../presentations/conda.md) | |\n",
    "| [Jupyter Notebooks](jupyter-examples) | | |\n",
    "| [Primer](Primer)| [Lesson](Primer/Primer.ipynb) | |\n",
    "| [Time Series](Time_Series) | [Lesson](Time_Series/Time Series Plotting.ipynb) | |\n",
    "| [Skew-T](Skew_T) | [Lesson](Skew_T/Upper Air and the Skew-T Log-P.ipynb) | [Exercises](Skew_T/Upper Air and the Skew-T Log-P Exercises.ipynb) |\n",
    "| [Surface Data](Surface_Data) | [Lesson](Surface_Data/Surface Data with Siphon and Metpy.ipynb) | [Exercises](Surface_Data/Surface Data Exercises.ipynb) |\n",
    "| [Satellite Data](Satellite_Data) | [Lesson](Satellite_Data/Working with Satellite Data.ipynb) | [Exercises](Satellite_Data/Working with Satellite Data Exercises.ipynb) |\n",
    "| [Model Data](Model_Data) | [Lesson](Model_Data/Siphon_Cartopy_MetPy_HRRR.ipynb) | |\n",
    "| [Command Line Tools](Command_Line_Tools) | [Slides](Command_Line_Tools/Command_Line_Primer.ipynb) | | |\n",
    "\n",
    "\n",
    "<center>\n",
    "<h3>Extra Content</h3>\n",
    "</center>\n",
    "\n",
    "\n",
    "| Topic |        |           |\n",
    "| ----- | ------ | --------- |\n",
    "| [Bonus Examples](Bonus) | | |\n",
    "| [GOES RGB Demo](GOES_RGB_Demo) | [Demo](GOES_RGB_Demo/GOES_RGB_Image.ipynb) | |\n",
    "| [netCDF](netCDF) | | |\n",
    "| [AWIPS](python-awips) | | |\n",
    "| [Pythonic Data Analysis](Pythonic_Data_Analysis) | [Lesson](Pythonic_Data_Analysis/pythonic-data-analysis.ipynb) | [Solution](Pythonic_Data_Analysis/pythonic-data-analysis-solution.ipynb) |\n",
    "\n",
    "\n",
    "\n"
   ]
  },
  {
   "cell_type": "code",
   "execution_count": null,
   "metadata": {
    "collapsed": true
   },
   "outputs": [],
   "source": []
  }
 ],
 "metadata": {
  "kernelspec": {
   "display_name": "Python [conda env:unidata-workshop]",
   "language": "python",
   "name": "conda-env-unidata-workshop-py"
  },
  "language_info": {
   "codemirror_mode": {
    "name": "ipython",
    "version": 3
   },
   "file_extension": ".py",
   "mimetype": "text/x-python",
   "name": "python",
   "nbconvert_exporter": "python",
   "pygments_lexer": "ipython3",
   "version": "3.6.1"
  }
 },
 "nbformat": 4,
 "nbformat_minor": 2
}
