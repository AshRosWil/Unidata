{
 "cells": [
  {
   "cell_type": "markdown",
   "metadata": {
    "slideshow": {
     "slide_type": "slide"
    }
   },
   "source": [
    "<center>\n",
    "<h1>Accessing THREDDS using Siphon</h1>\n",
    "<br>\n",
    "<h3>25 July 2017\n",
    "<br>\n",
    "<br>\n",
    "Ryan May (@dopplershift)\n",
    "<br><br>\n",
    "UCAR/Unidata<br>\n",
    "</h3>\n",
    "</center>"
   ]
  },
  {
   "cell_type": "markdown",
   "metadata": {
    "slideshow": {
     "slide_type": "slide"
    }
   },
   "source": [
    "\n",
    "# What is Siphon?\n",
    "\n",
    "* Python library for remote data access\n",
    "* Focus on atmospheric and oceanic data sources\n",
    "* Bulk of features focused on THREDDS"
   ]
  },
  {
   "cell_type": "markdown",
   "metadata": {
    "slideshow": {
     "slide_type": "subslide"
    }
   },
   "source": [
    "## Functionality\n",
    "* THREDDS catalog parser\n",
    "* NetCDF Subset Service (NCSS) client\n",
    "* CDM Remote client\n",
    "* Radar Query Service client"
   ]
  },
  {
   "cell_type": "markdown",
   "metadata": {
    "slideshow": {
     "slide_type": "slide"
    }
   },
   "source": [
    "# THREDDS?\n",
    "* Server for data collections in various formats\n",
    "* Powered by netCDF-Java\n",
    "* Provides catalogs of data with metadata information\n",
    "* Programmatic access to data with various services"
   ]
  },
  {
   "cell_type": "markdown",
   "metadata": {
    "slideshow": {
     "slide_type": "subslide"
    }
   },
   "source": [
    "* Metadata services\n",
    "  - ISO\n",
    "  - UDDC\n",
    "  - NCML"
   ]
  },
  {
   "cell_type": "markdown",
   "metadata": {
    "slideshow": {
     "slide_type": "fragment"
    }
   },
   "source": [
    "* Download service (HTTPServer)"
   ]
  },
  {
   "cell_type": "markdown",
   "metadata": {
    "slideshow": {
     "slide_type": "fragment"
    }
   },
   "source": [
    "- Subsetting\n",
    "  * WMS/WCS\n",
    "  * OPeNDAP and CDMRemote\n",
    "  * NetCDF Subset Service (NCSS)"
   ]
  },
  {
   "cell_type": "markdown",
   "metadata": {
    "slideshow": {
     "slide_type": "subslide"
    }
   },
   "source": [
    "## THREDDS Demo\n",
    "http://thredds.ucar.edu"
   ]
  },
  {
   "cell_type": "markdown",
   "metadata": {
    "slideshow": {
     "slide_type": "slide"
    }
   },
   "source": [
    "# Siphon for THREDDS\n",
    "- Let's start by parsing a THREDDS catalog"
   ]
  },
  {
   "cell_type": "code",
   "execution_count": 1,
   "metadata": {
    "collapsed": true,
    "slideshow": {
     "slide_type": "fragment"
    }
   },
   "outputs": [],
   "source": [
    "from siphon.catalog import TDSCatalog\n",
    "top_cat = TDSCatalog('http://thredds.ucar.edu/thredds/catalog.xml')"
   ]
  },
  {
   "cell_type": "markdown",
   "metadata": {
    "slideshow": {
     "slide_type": "fragment"
    }
   },
   "source": [
    "That takes care of download the catalog, parsing the XML, and doing useful things. From here we can do things like look at all the catalog references..."
   ]
  },
  {
   "cell_type": "code",
   "execution_count": 2,
   "metadata": {
    "slideshow": {
     "slide_type": "subslide"
    }
   },
   "outputs": [
    {
     "name": "stdout",
     "output_type": "stream",
     "text": [
      "Forecast Model Data\n",
      "Forecast Products and Analyses\n",
      "Observation Data\n",
      "Radar Data\n",
      "Satellite Data\n",
      "Unidata case studies\n"
     ]
    }
   ],
   "source": [
    "for ref in top_cat.catalog_refs:\n",
    "    print(ref)"
   ]
  },
  {
   "cell_type": "markdown",
   "metadata": {
    "slideshow": {
     "slide_type": "fragment"
    }
   },
   "source": [
    "So we can see what's available at the top level. We can also extract exactly what we're looking for using the name of the item:"
   ]
  },
  {
   "cell_type": "code",
   "execution_count": 3,
   "metadata": {},
   "outputs": [
    {
     "data": {
      "text/plain": [
       "'http://thredds.ucar.edu/thredds/idd/forecastModels.xml'"
      ]
     },
     "execution_count": 3,
     "metadata": {},
     "output_type": "execute_result"
    }
   ],
   "source": [
    "ref = top_cat.catalog_refs['Forecast Model Data']\n",
    "ref.href"
   ]
  },
  {
   "cell_type": "markdown",
   "metadata": {
    "slideshow": {
     "slide_type": "subslide"
    }
   },
   "source": [
    "Or we can just access by position:"
   ]
  },
  {
   "cell_type": "code",
   "execution_count": 4,
   "metadata": {},
   "outputs": [
    {
     "data": {
      "text/plain": [
       "'http://thredds.ucar.edu/thredds/idd/forecastModels.xml'"
      ]
     },
     "execution_count": 4,
     "metadata": {},
     "output_type": "execute_result"
    }
   ],
   "source": [
    "ref = top_cat.catalog_refs[0]\n",
    "ref.href"
   ]
  },
  {
   "cell_type": "markdown",
   "metadata": {
    "slideshow": {
     "slide_type": "fragment"
    }
   },
   "source": [
    "and then resolve that catalog reference to get a new catalog."
   ]
  },
  {
   "cell_type": "code",
   "execution_count": 5,
   "metadata": {},
   "outputs": [
    {
     "data": {
      "text/plain": [
       "['GEFS Members - Analysis',\n",
       " 'GEFS Members - Forecasts',\n",
       " 'GEFS Derived Forecast Products',\n",
       " 'GFS Quarter Degree Analysis',\n",
       " 'GFS Quarter Degree Forecast',\n",
       " 'GFS Half Degree Analysis',\n",
       " 'GFS Half Degree Forecast',\n",
       " 'GFS One Degree Analysis',\n",
       " 'GFS One Degree Forecast',\n",
       " 'GFS Global 2.5 Degree',\n",
       " 'GFS Global 1.0 Degree (NOAAPORT)',\n",
       " 'GFS Pacific 40km',\n",
       " 'GFS Pacific 20km',\n",
       " 'GFS Puerto Rico Half Degree',\n",
       " 'GFS Puerto Rico Quarter Degree',\n",
       " 'GFS CONUS 80km',\n",
       " 'GFS CONUS 20km',\n",
       " 'GFS CONUS 95km',\n",
       " 'GFS Alaska 20km',\n",
       " 'GSD HRRR CONUS 3km surface',\n",
       " 'GSD HRRR CONUS 3km wrfprs',\n",
       " 'NCEP HRRR CONUS 2.5km Analysis',\n",
       " 'NCEP HRRR CONUS 2.5km',\n",
       " 'NAM Alaska 11km',\n",
       " 'NAM Alaska 45km from NOAAPORT',\n",
       " 'NAM Alaska 45km from CONDUIT',\n",
       " 'NAM Alaska 95km',\n",
       " 'NAM CONUS 12km from NOAAPORT',\n",
       " 'NAM CONUS 12km from CONDUIT',\n",
       " 'NAM CONUS 20km',\n",
       " 'NAM CONUS 40km',\n",
       " 'NAM CONUS 80km',\n",
       " 'NAM Polar 90km',\n",
       " 'NAM Fireweather Nested',\n",
       " 'Rapid Refresh CONUS 13km',\n",
       " 'Rapid Refresh CONUS 20km',\n",
       " 'Rapid Refresh CONUS 40km',\n",
       " 'SREF CONUS 40km Ensemble Derived Products',\n",
       " 'SREF CONUS 40km Ensemble Derived Products (Bias Corrected)',\n",
       " 'SREF Alaska 45km Ensemble Derived Products',\n",
       " 'SREF Pacific North East 0.4 Degree Ensemble Derived Products',\n",
       " 'Wave Watch III Global',\n",
       " 'Wave Watch III Regional Alaska',\n",
       " 'Wave Watch III Coastal Alaska',\n",
       " 'Wave Watch III Regional Eastern Pacific',\n",
       " 'Wave Watch III Regional US East Coast',\n",
       " 'Wave Watch III Regional US West Coast',\n",
       " 'Wave Watch III Coastal US East Coast',\n",
       " 'Wave Watch III Coastal US West Coast',\n",
       " 'FNMOC NAVGEM Global 0.5 Degree',\n",
       " 'FNMOC WW3 Global 1.0 Degree',\n",
       " 'FNMOC WW3 Europe',\n",
       " 'FNMOC FAROP Global 1.0 Degree',\n",
       " 'FNMOC COAMPS Western Atlantic',\n",
       " 'FNMOC COAMPS Europe',\n",
       " 'FNMOC COAMPS Equatorial America',\n",
       " 'FNMOC COAMPS Northeast Pacific',\n",
       " 'FNMOC COAMPS Southern California',\n",
       " 'FNMOC NCODA Global Ocean']"
      ]
     },
     "execution_count": 5,
     "metadata": {},
     "output_type": "execute_result"
    }
   ],
   "source": [
    "new_cat = ref.follow()\n",
    "list(new_cat.catalog_refs)"
   ]
  },
  {
   "cell_type": "markdown",
   "metadata": {
    "slideshow": {
     "slide_type": "subslide"
    }
   },
   "source": [
    "We can do this one more time, but instead of `catalog_refs`, we look at the `datasets` attribute to see the list of datasets available."
   ]
  },
  {
   "cell_type": "code",
   "execution_count": 6,
   "metadata": {},
   "outputs": [
    {
     "data": {
      "text/plain": [
       "['Full Collection (Reference / Forecast Time) Dataset',\n",
       " 'Best GFS Quarter Degree Forecast Time Series',\n",
       " 'Latest Collection for GFS Quarter Degree Forecast']"
      ]
     },
     "execution_count": 6,
     "metadata": {},
     "output_type": "execute_result"
    }
   ],
   "source": [
    "gfs_cat = new_cat.catalog_refs[4].follow()\n",
    "list(gfs_cat.datasets)"
   ]
  },
  {
   "cell_type": "markdown",
   "metadata": {
    "slideshow": {
     "slide_type": "subslide"
    }
   },
   "source": [
    "`datasets` works just like `catalog_refs` in providing both name- and position-based access. Here we can access the first dataset in the catalog:"
   ]
  },
  {
   "cell_type": "code",
   "execution_count": 7,
   "metadata": {},
   "outputs": [
    {
     "data": {
      "text/plain": [
       "'Full Collection (Reference / Forecast Time) Dataset'"
      ]
     },
     "execution_count": 7,
     "metadata": {},
     "output_type": "execute_result"
    }
   ],
   "source": [
    "ds = gfs_cat.datasets[0]\n",
    "ds.name"
   ]
  },
  {
   "cell_type": "markdown",
   "metadata": {
    "slideshow": {
     "slide_type": "subslide"
    }
   },
   "source": [
    "Let's get a new catalog directly to some satellite data:\n",
    "http://thredds.ucar.edu/thredds/idd/satellite.html"
   ]
  },
  {
   "cell_type": "code",
   "execution_count": 8,
   "metadata": {},
   "outputs": [
    {
     "data": {
      "text/plain": [
       "['WEST-CONUS_4km_3.9_20170725_0515.gini',\n",
       " 'WEST-CONUS_4km_3.9_20170725_0510.gini',\n",
       " 'WEST-CONUS_4km_3.9_20170725_0500.gini',\n",
       " 'WEST-CONUS_4km_3.9_20170725_0456.gini',\n",
       " 'WEST-CONUS_4km_3.9_20170725_0454.gini',\n",
       " 'WEST-CONUS_4km_3.9_20170725_0452.gini',\n",
       " 'WEST-CONUS_4km_3.9_20170725_0445.gini',\n",
       " 'WEST-CONUS_4km_3.9_20170725_0440.gini',\n",
       " 'WEST-CONUS_4km_3.9_20170725_0430.gini',\n",
       " 'WEST-CONUS_4km_3.9_20170725_0422.gini',\n",
       " 'WEST-CONUS_4km_3.9_20170725_0415.gini',\n",
       " 'WEST-CONUS_4km_3.9_20170725_0410.gini',\n",
       " 'WEST-CONUS_4km_3.9_20170725_0400.gini',\n",
       " 'WEST-CONUS_4km_3.9_20170725_0356.gini',\n",
       " 'WEST-CONUS_4km_3.9_20170725_0354.gini',\n",
       " 'WEST-CONUS_4km_3.9_20170725_0352.gini',\n",
       " 'WEST-CONUS_4km_3.9_20170725_0345.gini',\n",
       " 'WEST-CONUS_4km_3.9_20170725_0340.gini',\n",
       " 'WEST-CONUS_4km_3.9_20170725_0330.gini',\n",
       " 'WEST-CONUS_4km_3.9_20170725_0300.gini',\n",
       " 'WEST-CONUS_4km_3.9_20170725_0256.gini',\n",
       " 'WEST-CONUS_4km_3.9_20170725_0254.gini',\n",
       " 'WEST-CONUS_4km_3.9_20170725_0252.gini',\n",
       " 'WEST-CONUS_4km_3.9_20170725_0245.gini',\n",
       " 'WEST-CONUS_4km_3.9_20170725_0240.gini',\n",
       " 'WEST-CONUS_4km_3.9_20170725_0230.gini',\n",
       " 'WEST-CONUS_4km_3.9_20170725_0222.gini',\n",
       " 'WEST-CONUS_4km_3.9_20170725_0215.gini',\n",
       " 'WEST-CONUS_4km_3.9_20170725_0210.gini',\n",
       " 'WEST-CONUS_4km_3.9_20170725_0200.gini',\n",
       " 'WEST-CONUS_4km_3.9_20170725_0156.gini',\n",
       " 'WEST-CONUS_4km_3.9_20170725_0154.gini',\n",
       " 'WEST-CONUS_4km_3.9_20170725_0152.gini',\n",
       " 'WEST-CONUS_4km_3.9_20170725_0145.gini',\n",
       " 'WEST-CONUS_4km_3.9_20170725_0140.gini',\n",
       " 'WEST-CONUS_4km_3.9_20170725_0130.gini',\n",
       " 'WEST-CONUS_4km_3.9_20170725_0122.gini',\n",
       " 'WEST-CONUS_4km_3.9_20170725_0115.gini',\n",
       " 'WEST-CONUS_4km_3.9_20170725_0110.gini',\n",
       " 'WEST-CONUS_4km_3.9_20170725_0100.gini',\n",
       " 'WEST-CONUS_4km_3.9_20170725_0056.gini',\n",
       " 'WEST-CONUS_4km_3.9_20170725_0054.gini',\n",
       " 'WEST-CONUS_4km_3.9_20170725_0052.gini',\n",
       " 'WEST-CONUS_4km_3.9_20170725_0030.gini',\n",
       " 'WEST-CONUS_4km_3.9_20170725_0000.gini',\n",
       " 'WEST-CONUS_4km_3.9_20170724_2356.gini',\n",
       " 'WEST-CONUS_4km_3.9_20170724_2354.gini',\n",
       " 'WEST-CONUS_4km_3.9_20170724_2352.gini',\n",
       " 'WEST-CONUS_4km_3.9_20170724_2345.gini',\n",
       " 'WEST-CONUS_4km_3.9_20170724_2340.gini',\n",
       " 'WEST-CONUS_4km_3.9_20170724_2330.gini',\n",
       " 'WEST-CONUS_4km_3.9_20170724_2322.gini',\n",
       " 'WEST-CONUS_4km_3.9_20170724_2315.gini',\n",
       " 'WEST-CONUS_4km_3.9_20170724_2310.gini',\n",
       " 'WEST-CONUS_4km_3.9_20170724_2300.gini',\n",
       " 'WEST-CONUS_4km_3.9_20170724_2256.gini',\n",
       " 'WEST-CONUS_4km_3.9_20170724_2254.gini',\n",
       " 'WEST-CONUS_4km_3.9_20170724_2252.gini',\n",
       " 'WEST-CONUS_4km_3.9_20170724_2245.gini',\n",
       " 'WEST-CONUS_4km_3.9_20170724_2240.gini',\n",
       " 'WEST-CONUS_4km_3.9_20170724_2230.gini',\n",
       " 'WEST-CONUS_4km_3.9_20170724_2222.gini',\n",
       " 'WEST-CONUS_4km_3.9_20170724_2215.gini',\n",
       " 'WEST-CONUS_4km_3.9_20170724_2210.gini',\n",
       " 'WEST-CONUS_4km_3.9_20170724_2200.gini',\n",
       " 'WEST-CONUS_4km_3.9_20170724_2156.gini',\n",
       " 'WEST-CONUS_4km_3.9_20170724_2154.gini',\n",
       " 'WEST-CONUS_4km_3.9_20170724_2152.gini',\n",
       " 'WEST-CONUS_4km_3.9_20170724_2145.gini',\n",
       " 'WEST-CONUS_4km_3.9_20170724_2140.gini',\n",
       " 'WEST-CONUS_4km_3.9_20170724_2130.gini',\n",
       " 'WEST-CONUS_4km_3.9_20170724_2100.gini',\n",
       " 'WEST-CONUS_4km_3.9_20170724_2030.gini',\n",
       " 'WEST-CONUS_4km_3.9_20170724_2015.gini',\n",
       " 'WEST-CONUS_4km_3.9_20170724_2010.gini',\n",
       " 'WEST-CONUS_4km_3.9_20170724_2000.gini',\n",
       " 'WEST-CONUS_4km_3.9_20170724_1945.gini',\n",
       " 'WEST-CONUS_4km_3.9_20170724_1940.gini',\n",
       " 'WEST-CONUS_4km_3.9_20170724_1930.gini',\n",
       " 'WEST-CONUS_4km_3.9_20170724_1915.gini',\n",
       " 'WEST-CONUS_4km_3.9_20170724_1910.gini',\n",
       " 'WEST-CONUS_4km_3.9_20170724_1900.gini',\n",
       " 'WEST-CONUS_4km_3.9_20170724_1845.gini',\n",
       " 'WEST-CONUS_4km_3.9_20170724_1840.gini',\n",
       " 'WEST-CONUS_4km_3.9_20170724_1830.gini',\n",
       " 'WEST-CONUS_4km_3.9_20170724_1800.gini',\n",
       " 'WEST-CONUS_4km_3.9_20170724_1745.gini',\n",
       " 'WEST-CONUS_4km_3.9_20170724_1740.gini',\n",
       " 'WEST-CONUS_4km_3.9_20170724_1730.gini',\n",
       " 'WEST-CONUS_4km_3.9_20170724_1715.gini',\n",
       " 'WEST-CONUS_4km_3.9_20170724_1710.gini',\n",
       " 'WEST-CONUS_4km_3.9_20170724_1700.gini',\n",
       " 'WEST-CONUS_4km_3.9_20170724_1645.gini',\n",
       " 'WEST-CONUS_4km_3.9_20170724_1640.gini',\n",
       " 'WEST-CONUS_4km_3.9_20170724_1630.gini']"
      ]
     },
     "execution_count": 8,
     "metadata": {},
     "output_type": "execute_result"
    }
   ],
   "source": [
    "sat_cat = TDSCatalog('http://thredds.ucar.edu/thredds/catalog/'\n",
    "                     'satellite/3.9/WEST-CONUS_4km/current/catalog.xml')\n",
    "list(sat_cat.datasets)"
   ]
  },
  {
   "cell_type": "markdown",
   "metadata": {
    "slideshow": {
     "slide_type": "subslide"
    }
   },
   "source": [
    "Instead of accessing the dataset by name or position, we can also ask the collection of datasets to parse the filenames as datetimes and find:\n",
    "- those within a range\n",
    "- those closest to a time"
   ]
  },
  {
   "cell_type": "code",
   "execution_count": 9,
   "metadata": {
    "collapsed": true
   },
   "outputs": [],
   "source": [
    "from datetime import datetime, timedelta"
   ]
  },
  {
   "cell_type": "code",
   "execution_count": 10,
   "metadata": {},
   "outputs": [
    {
     "data": {
      "text/plain": [
       "['WEST-CONUS_4km_3.9_20170725_0515.gini',\n",
       " 'WEST-CONUS_4km_3.9_20170725_0510.gini',\n",
       " 'WEST-CONUS_4km_3.9_20170725_0500.gini',\n",
       " 'WEST-CONUS_4km_3.9_20170725_0456.gini',\n",
       " 'WEST-CONUS_4km_3.9_20170725_0454.gini',\n",
       " 'WEST-CONUS_4km_3.9_20170725_0452.gini',\n",
       " 'WEST-CONUS_4km_3.9_20170725_0445.gini',\n",
       " 'WEST-CONUS_4km_3.9_20170725_0440.gini',\n",
       " 'WEST-CONUS_4km_3.9_20170725_0430.gini']"
      ]
     },
     "execution_count": 10,
     "metadata": {},
     "output_type": "execute_result"
    }
   ],
   "source": [
    "# Look for all data within the last hour\n",
    "now = datetime.utcnow()\n",
    "l = sat_cat.datasets.filter_time_range(start=now - timedelta(hours=1),\n",
    "                                       end=now)\n",
    "[ds.name for ds in l]"
   ]
  },
  {
   "cell_type": "code",
   "execution_count": 11,
   "metadata": {
    "slideshow": {
     "slide_type": "subslide"
    }
   },
   "outputs": [
    {
     "data": {
      "text/plain": [
       "'WEST-CONUS_4km_3.9_20170725_0422.gini'"
      ]
     },
     "execution_count": 11,
     "metadata": {},
     "output_type": "execute_result"
    }
   ],
   "source": [
    "# Look for data from an hour ago\n",
    "dt = datetime.utcnow() - timedelta(hours=1)\n",
    "ds = sat_cat.datasets.filter_time_nearest(dt)\n",
    "ds.name"
   ]
  },
  {
   "cell_type": "markdown",
   "metadata": {},
   "source": [
    "We can use the dataset handle to look at the available access methods:"
   ]
  },
  {
   "cell_type": "code",
   "execution_count": 12,
   "metadata": {
    "slideshow": {
     "slide_type": "subslide"
    }
   },
   "outputs": [
    {
     "data": {
      "text/plain": [
       "{'CdmRemote': 'http://thredds.ucar.edu/thredds/cdmremote/satellite/3.9/WEST-CONUS_4km/current/WEST-CONUS_4km_3.9_20170725_0422.gini',\n",
       " 'HTTPServer': 'http://thredds.ucar.edu/thredds/fileServer/satellite/3.9/WEST-CONUS_4km/current/WEST-CONUS_4km_3.9_20170725_0422.gini',\n",
       " 'ISO': 'http://thredds.ucar.edu/thredds/iso/satellite/3.9/WEST-CONUS_4km/current/WEST-CONUS_4km_3.9_20170725_0422.gini',\n",
       " 'NCML': 'http://thredds.ucar.edu/thredds/ncml/satellite/3.9/WEST-CONUS_4km/current/WEST-CONUS_4km_3.9_20170725_0422.gini',\n",
       " 'NetcdfSubset': 'http://thredds.ucar.edu/thredds/ncss/satellite/3.9/WEST-CONUS_4km/current/WEST-CONUS_4km_3.9_20170725_0422.gini',\n",
       " 'OPENDAP': 'http://thredds.ucar.edu/thredds/dodsC/satellite/3.9/WEST-CONUS_4km/current/WEST-CONUS_4km_3.9_20170725_0422.gini',\n",
       " 'UDDC': 'http://thredds.ucar.edu/thredds/uddc/satellite/3.9/WEST-CONUS_4km/current/WEST-CONUS_4km_3.9_20170725_0422.gini',\n",
       " 'WCS': 'http://thredds.ucar.edu/thredds/wcs/satellite/3.9/WEST-CONUS_4km/current/WEST-CONUS_4km_3.9_20170725_0422.gini',\n",
       " 'WMS': 'http://thredds.ucar.edu/thredds/wms/satellite/3.9/WEST-CONUS_4km/current/WEST-CONUS_4km_3.9_20170725_0422.gini'}"
      ]
     },
     "execution_count": 12,
     "metadata": {},
     "output_type": "execute_result"
    }
   ],
   "source": [
    "ds.access_urls"
   ]
  },
  {
   "cell_type": "markdown",
   "metadata": {
    "slideshow": {
     "slide_type": "subslide"
    }
   },
   "source": [
    "## Exercise #1\n",
    "1. Using Siphon, navigate from the top-level THREDDS catalog at https://nomads.ncdc.noaa.gov/thredds/catalog.xml to the 3-hour NARR-A data from January 5th, 2014 (or another product or time of interest)\n",
    "1. Using Siphon, compare the available access methods (on http://thredds.ucar.edu) for:\n",
    "  - The \"Best GFS Quarter Degree Forecast Time Series\" (under \"Forecast Model Data\")\n",
    "  - A data file of \"NEXRAD Level II Radar WSR-88D\" (under \"Radar Data\")"
   ]
  },
  {
   "cell_type": "code",
   "execution_count": 13,
   "metadata": {
    "collapsed": true,
    "slideshow": {
     "slide_type": "subslide"
    }
   },
   "outputs": [],
   "source": [
    "# Start here\n",
    "top_cat = TDSCatalog('https://nomads.ncdc.noaa.gov/thredds/catalog.xml')"
   ]
  },
  {
   "cell_type": "markdown",
   "metadata": {
    "slideshow": {
     "slide_type": "slide"
    }
   },
   "source": [
    "# Accessing data using Siphon\n",
    "Accessing catalogs is only part of the story; Siphon is much more useful if you're trying to access/download datasets."
   ]
  },
  {
   "cell_type": "markdown",
   "metadata": {
    "slideshow": {
     "slide_type": "subslide"
    }
   },
   "source": [
    "For instance going back to our satellite data from earlier:"
   ]
  },
  {
   "cell_type": "code",
   "execution_count": 34,
   "metadata": {},
   "outputs": [],
   "source": [
    "# Same as before\n",
    "cat = TDSCatalog('http://thredds.ucar.edu/thredds/catalog/'\n",
    "                'satellite/3.9/WEST-CONUS_4km/current/'\n",
    "                'catalog.xml')\n",
    "ds = cat.datasets.filter_time_nearest(datetime.utcnow()\n",
    "                                      - timedelta(hours=1))"
   ]
  },
  {
   "cell_type": "markdown",
   "metadata": {
    "slideshow": {
     "slide_type": "fragment"
    }
   },
   "source": [
    "We can ask Siphon to download the file locally:"
   ]
  },
  {
   "cell_type": "code",
   "execution_count": 16,
   "metadata": {
    "collapsed": true
   },
   "outputs": [],
   "source": [
    "ds.download('data.gini')"
   ]
  },
  {
   "cell_type": "markdown",
   "metadata": {
    "slideshow": {
     "slide_type": "subslide"
    }
   },
   "source": [
    "Or better yet, get a file-like object that lets us `read` from the file as if it were local:"
   ]
  },
  {
   "cell_type": "code",
   "execution_count": 17,
   "metadata": {
    "collapsed": true
   },
   "outputs": [],
   "source": [
    "fobj = ds.remote_open()\n",
    "data = fobj.read()"
   ]
  },
  {
   "cell_type": "markdown",
   "metadata": {},
   "source": [
    "This is handy if you have Python code to read a particular format."
   ]
  },
  {
   "cell_type": "markdown",
   "metadata": {
    "slideshow": {
     "slide_type": "subslide"
    }
   },
   "source": [
    "It's also possible to get access to the file through services that provide netCDF4-like access, but for the remote file. This access allows downloading information only for variables of interest, or for (index-based) subsets of that data:"
   ]
  },
  {
   "cell_type": "code",
   "execution_count": 18,
   "metadata": {
    "collapsed": true
   },
   "outputs": [],
   "source": [
    "nc = ds.remote_access()"
   ]
  },
  {
   "cell_type": "markdown",
   "metadata": {},
   "source": [
    "By default this uses CDMRemote (if available), but it's also possible to ask for OPeNDAP (using netCDF4-python)."
   ]
  },
  {
   "cell_type": "markdown",
   "metadata": {
    "slideshow": {
     "slide_type": "subslide"
    }
   },
   "source": [
    "From here we can see what variables are available:"
   ]
  },
  {
   "cell_type": "code",
   "execution_count": 19,
   "metadata": {},
   "outputs": [
    {
     "data": {
      "text/plain": [
       "['time', 'IR', 'x', 'y', 'LambertConformal']"
      ]
     },
     "execution_count": 19,
     "metadata": {},
     "output_type": "execute_result"
    }
   ],
   "source": [
    "list(nc.variables)"
   ]
  },
  {
   "cell_type": "markdown",
   "metadata": {
    "slideshow": {
     "slide_type": "subslide"
    }
   },
   "source": [
    "Or get a subset of the values:"
   ]
  },
  {
   "cell_type": "code",
   "execution_count": 20,
   "metadata": {},
   "outputs": [
    {
     "data": {
      "text/plain": [
       "<matplotlib.image.AxesImage at 0x11605cba8>"
      ]
     },
     "execution_count": 20,
     "metadata": {},
     "output_type": "execute_result"
    },
    {
     "data": {
      "image/png": "[encoded data removed]",
      "text/plain": [
       "<matplotlib.figure.Figure at 0x114140e48>"
      ]
     },
     "metadata": {},
     "output_type": "display_data"
    }
   ],
   "source": [
    "# Plot small sample image\n",
    "%matplotlib inline\n",
    "import matplotlib.pyplot as plt\n",
    "fig, ax = plt.subplots(1, 1, figsize=(6, 6))\n",
    "ax.imshow(nc.variables['IR'][0, ::10, ::10], cmap='Greys')"
   ]
  },
  {
   "cell_type": "markdown",
   "metadata": {
    "slideshow": {
     "slide_type": "subslide"
    }
   },
   "source": [
    "## Exercise #2\n",
    "Using `remote_access`, plot a subset of data from the High Resolution Rapid Refresh (http://thredds.ucar.edu/thredds/catalog/grib/NCEP/HRRR/CONUS_2p5km/catalog.html). Pick any of the available collections or individual model runs."
   ]
  },
  {
   "cell_type": "code",
   "execution_count": null,
   "metadata": {
    "slideshow": {
     "slide_type": "subslide"
    }
   },
   "outputs": [],
   "source": []
  },
  {
   "cell_type": "markdown",
   "metadata": {
    "slideshow": {
     "slide_type": "subslide"
    }
   },
   "source": [
    "For some datasets, subset support is availble:\n",
    "- Defaults to netCDF Subset Service (NCSS)\n",
    "- Allows specifying latitude, longitude, time, and variables\n",
    "- NCSS downloads a netCDF file"
   ]
  },
  {
   "cell_type": "markdown",
   "metadata": {
    "slideshow": {
     "slide_type": "subslide"
    }
   },
   "source": [
    "To use NCSS, we can call `subset` and get a client."
   ]
  },
  {
   "cell_type": "code",
   "execution_count": 33,
   "metadata": {},
   "outputs": [
    {
     "data": {
      "text/plain": [
       "{'5-Wave_Geopotential_Height_isobaric',\n",
       " 'Absolute_vorticity_isobaric',\n",
       " 'Albedo_surface_Mixed_intervals_Average',\n",
       " 'Apparent_temperature_height_above_ground',\n",
       " 'Best_4_layer_Lifted_Index_surface',\n",
       " 'Categorical_Freezing_Rain_surface_Mixed_intervals_Average',\n",
       " 'Categorical_Ice_Pellets_surface_Mixed_intervals_Average',\n",
       " 'Categorical_Rain_surface_Mixed_intervals_Average',\n",
       " 'Categorical_Snow_surface_Mixed_intervals_Average',\n",
       " 'Cloud_Work_Function_entire_atmosphere_single_layer_Mixed_intervals_Average',\n",
       " 'Cloud_mixing_ratio_isobaric',\n",
       " 'Cloud_water_entire_atmosphere_single_layer',\n",
       " 'Convective_Precipitation_Rate_surface_Mixed_intervals_Average',\n",
       " 'Convective_available_potential_energy_pressure_difference_layer',\n",
       " 'Convective_available_potential_energy_surface',\n",
       " 'Convective_inhibition_pressure_difference_layer',\n",
       " 'Convective_inhibition_surface',\n",
       " 'Convective_precipitation_surface_Mixed_intervals_Accumulation',\n",
       " 'Dewpoint_temperature_height_above_ground',\n",
       " 'Downward_Long-Wave_Radp_Flux_surface_Mixed_intervals_Average',\n",
       " 'Downward_Short-Wave_Radiation_Flux_surface_Mixed_intervals_Average',\n",
       " 'Field_Capacity_surface',\n",
       " 'Geopotential_height_highest_tropospheric_freezing',\n",
       " 'Geopotential_height_isobaric',\n",
       " 'Geopotential_height_maximum_wind',\n",
       " 'Geopotential_height_potential_vorticity_surface',\n",
       " 'Geopotential_height_surface',\n",
       " 'Geopotential_height_tropopause',\n",
       " 'Geopotential_height_zeroDegC_isotherm',\n",
       " 'Ground_Heat_Flux_surface_Mixed_intervals_Average',\n",
       " 'Haines_index_surface',\n",
       " 'ICAO_Standard_Atmosphere_Reference_Height_maximum_wind',\n",
       " 'ICAO_Standard_Atmosphere_Reference_Height_tropopause',\n",
       " 'Ice_cover_surface',\n",
       " 'Icing_severity_isobaric',\n",
       " 'Land-sea_coverage_nearest_neighbor_land1sea0_surface',\n",
       " 'Land_cover_0__sea_1__land_surface',\n",
       " 'Latent_heat_net_flux_surface_Mixed_intervals_Average',\n",
       " 'MSLP_Eta_model_reduction_msl',\n",
       " 'Maximum_temperature_height_above_ground_Mixed_intervals_Maximum',\n",
       " 'Meridional_Flux_of_Gravity_Wave_Stress_surface_Mixed_intervals_Average',\n",
       " 'Minimum_temperature_height_above_ground_Mixed_intervals_Minimum',\n",
       " 'Momentum_flux_u-component_surface_Mixed_intervals_Average',\n",
       " 'Momentum_flux_v-component_surface_Mixed_intervals_Average',\n",
       " 'Ozone_Mixing_Ratio_isobaric',\n",
       " 'Per_cent_frozen_precipitation_surface',\n",
       " 'Planetary_Boundary_Layer_Height_surface',\n",
       " 'Potential_Evaporation_Rate_surface',\n",
       " 'Potential_temperature_sigma',\n",
       " 'Precipitable_water_entire_atmosphere_single_layer',\n",
       " 'Precipitation_rate_surface_Mixed_intervals_Average',\n",
       " 'Pressure_convective_cloud_bottom',\n",
       " 'Pressure_convective_cloud_top',\n",
       " 'Pressure_height_above_ground',\n",
       " 'Pressure_high_cloud_bottom_Mixed_intervals_Average',\n",
       " 'Pressure_high_cloud_top_Mixed_intervals_Average',\n",
       " 'Pressure_low_cloud_bottom_Mixed_intervals_Average',\n",
       " 'Pressure_low_cloud_top_Mixed_intervals_Average',\n",
       " 'Pressure_maximum_wind',\n",
       " 'Pressure_middle_cloud_bottom_Mixed_intervals_Average',\n",
       " 'Pressure_middle_cloud_top_Mixed_intervals_Average',\n",
       " 'Pressure_of_level_from_which_parcel_was_lifted_pressure_difference_layer',\n",
       " 'Pressure_potential_vorticity_surface',\n",
       " 'Pressure_reduced_to_MSL_msl',\n",
       " 'Pressure_surface',\n",
       " 'Pressure_tropopause',\n",
       " 'Relative_humidity_entire_atmosphere_single_layer',\n",
       " 'Relative_humidity_height_above_ground',\n",
       " 'Relative_humidity_highest_tropospheric_freezing',\n",
       " 'Relative_humidity_isobaric',\n",
       " 'Relative_humidity_pressure_difference_layer',\n",
       " 'Relative_humidity_sigma',\n",
       " 'Relative_humidity_sigma_layer',\n",
       " 'Relative_humidity_zeroDegC_isotherm',\n",
       " 'Sensible_heat_net_flux_surface_Mixed_intervals_Average',\n",
       " 'Snow_depth_surface',\n",
       " 'Soil_temperature_depth_below_surface_layer',\n",
       " 'Specific_humidity_height_above_ground',\n",
       " 'Specific_humidity_pressure_difference_layer',\n",
       " 'Storm_relative_helicity_height_above_ground_layer',\n",
       " 'Sunshine_Duration_surface',\n",
       " 'Surface_Lifted_Index_surface',\n",
       " 'Temperature_altitude_above_msl',\n",
       " 'Temperature_height_above_ground',\n",
       " 'Temperature_high_cloud_top_Mixed_intervals_Average',\n",
       " 'Temperature_isobaric',\n",
       " 'Temperature_low_cloud_top_Mixed_intervals_Average',\n",
       " 'Temperature_maximum_wind',\n",
       " 'Temperature_middle_cloud_top_Mixed_intervals_Average',\n",
       " 'Temperature_potential_vorticity_surface',\n",
       " 'Temperature_pressure_difference_layer',\n",
       " 'Temperature_sigma',\n",
       " 'Temperature_surface',\n",
       " 'Temperature_tropopause',\n",
       " 'Total_cloud_cover_boundary_layer_cloud_Mixed_intervals_Average',\n",
       " 'Total_cloud_cover_convective_cloud',\n",
       " 'Total_cloud_cover_entire_atmosphere_Mixed_intervals_Average',\n",
       " 'Total_cloud_cover_high_cloud_Mixed_intervals_Average',\n",
       " 'Total_cloud_cover_low_cloud_Mixed_intervals_Average',\n",
       " 'Total_cloud_cover_middle_cloud_Mixed_intervals_Average',\n",
       " 'Total_ozone_entire_atmosphere_single_layer',\n",
       " 'Total_precipitation_surface_Mixed_intervals_Accumulation',\n",
       " 'U-Component_Storm_Motion_height_above_ground_layer',\n",
       " 'Upward_Long-Wave_Radp_Flux_atmosphere_top_Mixed_intervals_Average',\n",
       " 'Upward_Long-Wave_Radp_Flux_surface_Mixed_intervals_Average',\n",
       " 'Upward_Short-Wave_Radiation_Flux_atmosphere_top_Mixed_intervals_Average',\n",
       " 'Upward_Short-Wave_Radiation_Flux_surface_Mixed_intervals_Average',\n",
       " 'V-Component_Storm_Motion_height_above_ground_layer',\n",
       " 'Ventilation_Rate_planetary_boundary',\n",
       " 'Vertical_Speed_Shear_potential_vorticity_surface',\n",
       " 'Vertical_Speed_Shear_tropopause',\n",
       " 'Vertical_velocity_pressure_isobaric',\n",
       " 'Vertical_velocity_pressure_sigma',\n",
       " 'Visibility_surface',\n",
       " 'Volumetric_Soil_Moisture_Content_depth_below_surface_layer',\n",
       " 'Water_equivalent_of_accumulated_snow_depth_surface',\n",
       " 'Water_runoff_surface_Mixed_intervals_Accumulation',\n",
       " 'Wilting_Point_surface',\n",
       " 'Wind_speed_gust_surface',\n",
       " 'Zonal_Flux_of_Gravity_Wave_Stress_surface_Mixed_intervals_Average',\n",
       " 'u-component_of_wind_altitude_above_msl',\n",
       " 'u-component_of_wind_height_above_ground',\n",
       " 'u-component_of_wind_isobaric',\n",
       " 'u-component_of_wind_maximum_wind',\n",
       " 'u-component_of_wind_planetary_boundary',\n",
       " 'u-component_of_wind_potential_vorticity_surface',\n",
       " 'u-component_of_wind_pressure_difference_layer',\n",
       " 'u-component_of_wind_sigma',\n",
       " 'u-component_of_wind_tropopause',\n",
       " 'v-component_of_wind_altitude_above_msl',\n",
       " 'v-component_of_wind_height_above_ground',\n",
       " 'v-component_of_wind_isobaric',\n",
       " 'v-component_of_wind_maximum_wind',\n",
       " 'v-component_of_wind_planetary_boundary',\n",
       " 'v-component_of_wind_potential_vorticity_surface',\n",
       " 'v-component_of_wind_pressure_difference_layer',\n",
       " 'v-component_of_wind_sigma',\n",
       " 'v-component_of_wind_tropopause'}"
      ]
     },
     "execution_count": 33,
     "metadata": {},
     "output_type": "execute_result"
    }
   ],
   "source": [
    "ds = TDSCatalog('http://thredds.ucar.edu/thredds/catalog/'\n",
    "                'grib/NCEP/GFS/Global_0p25deg/catalog.xml').datasets[1]\n",
    "ncss = ds.subset()\n",
    "ncss.variables"
   ]
  },
  {
   "cell_type": "markdown",
   "metadata": {
    "slideshow": {
     "slide_type": "subslide"
    }
   },
   "source": [
    "With this client we can set up a query for the data we want. In this case we request the next 24 hours of forecast:"
   ]
  },
  {
   "cell_type": "code",
   "execution_count": 30,
   "metadata": {},
   "outputs": [
    {
     "data": {
      "text/plain": [
       "var=Temperature_surface&time_start=2017-07-26T05%3A35%3A02.883516&time_end=2017-07-25T05%3A35%3A02.883516&longitude=-105&latitude=40&accept=netcdf4"
      ]
     },
     "execution_count": 30,
     "metadata": {},
     "output_type": "execute_result"
    }
   ],
   "source": [
    "query = ncss.query()\n",
    "query.lonlat_point(lon=-105, lat=40)\n",
    "now = datetime.utcnow()\n",
    "query.time_range(now, now + timedelta(days=1))\n",
    "query.variables('Temperature_surface')\n",
    "query.accept('netcdf4')"
   ]
  },
  {
   "cell_type": "markdown",
   "metadata": {
    "slideshow": {
     "slide_type": "subslide"
    }
   },
   "source": [
    "From here, we need to get the data, which will return it as an already opened netCDF4 object."
   ]
  },
  {
   "cell_type": "code",
   "execution_count": 29,
   "metadata": {},
   "outputs": [
    {
     "data": {
      "text/plain": [
       "[<matplotlib.lines.Line2D at 0x11c8f69e8>]"
      ]
     },
     "execution_count": 29,
     "metadata": {},
     "output_type": "execute_result"
    },
    {
     "data": {
      "image/png": "[encoded data removed]",
      "text/plain": [
       "<matplotlib.figure.Figure at 0x11c940358>"
      ]
     },
     "metadata": {},
     "output_type": "display_data"
    }
   ],
   "source": [
    "nc = ncss.get_data(query)\n",
    "temp_data = nc.variables['Temperature_surface'][:]\n",
    "times = nc.variables['time'][:]\n",
    "fig, ax = plt.subplots(1, 1, figsize=(6, 6))\n",
    "ax.plot(times, temp_data)"
   ]
  },
  {
   "cell_type": "markdown",
   "metadata": {
    "slideshow": {
     "slide_type": "subslide"
    }
   },
   "source": [
    "We can also request the data for a particular time for a region of interest:"
   ]
  },
  {
   "cell_type": "code",
   "execution_count": 31,
   "metadata": {
    "collapsed": true
   },
   "outputs": [],
   "source": [
    "query = ncss.query()\n",
    "query.lonlat_box(east=-80, west=-90, south=35, north=45)\n",
    "query.time(now + timedelta(days=1))\n",
    "query.variables('Temperature_surface')\n",
    "query.accept('netcdf4')\n",
    "nc = ncss.get_data(query)"
   ]
  },
  {
   "cell_type": "code",
   "execution_count": 32,
   "metadata": {
    "slideshow": {
     "slide_type": "subslide"
    }
   },
   "outputs": [
    {
     "data": {
      "text/plain": [
       "<matplotlib.image.AxesImage at 0x11c8a0390>"
      ]
     },
     "execution_count": 32,
     "metadata": {},
     "output_type": "execute_result"
    },
    {
     "data": {
      "image/png": "[encoded data removed]",
      "text/plain": [
       "<matplotlib.figure.Figure at 0x11c8a0128>"
      ]
     },
     "metadata": {},
     "output_type": "display_data"
    }
   ],
   "source": [
    "fig, ax = plt.subplots(1, 1, figsize=(6, 6))\n",
    "ax.imshow(nc.variables['Temperature_surface'][0], cmap='RdBu')"
   ]
  },
  {
   "cell_type": "markdown",
   "metadata": {
    "slideshow": {
     "slide_type": "subslide"
    }
   },
   "source": [
    "## Exercise #3\n",
    "- Use `subset` to download a subset of data from one of:\n",
    "  - http://thredds.ucar.edu/thredds/catalog/grib/NCEP/WW3/Global/catalog.html\n",
    "  - http://thredds.ucar.edu/thredds/catalog/grib/NCEP/HRRR/CONUS_2p5km/catalog.html\n",
    "- Pick either a time-series or a 2D subset\n",
    "- Plot using either `plot` or `imshow`"
   ]
  },
  {
   "cell_type": "markdown",
   "metadata": {
    "slideshow": {
     "slide_type": "slide"
    }
   },
   "source": [
    "# Future plans for Siphon\n",
    "- Add curated list of servers\n",
    "- Support for access to meteorological uppear air archives\n",
    "- Support for TDS 5.0 CDM Remote Feature service"
   ]
  },
  {
   "cell_type": "markdown",
   "metadata": {
    "slideshow": {
     "slide_type": "subslide"
    }
   },
   "source": [
    "## Resources\n",
    "- Siphon docs: https://unidata.github.io/siphon\n",
    "- Unidata Python Workshop: https://unidata.github.com/unidata-python-workshop\n",
    "- Unidata Python Gallery: https://unidata.github.com/python-gallery"
   ]
  }
 ],
 "metadata": {
  "celltoolbar": "Slideshow",
  "kernelspec": {
   "display_name": "Python [conda env:py36]",
   "language": "python",
   "name": "conda-env-py36-py"
  },
  "language_info": {
   "codemirror_mode": {
    "name": "ipython",
    "version": 3
   },
   "file_extension": ".py",
   "mimetype": "text/x-python",
   "name": "python",
   "nbconvert_exporter": "python",
   "pygments_lexer": "ipython3",
   "version": "3.6.1"
  }
 },
 "nbformat": 4,
 "nbformat_minor": 2
}
