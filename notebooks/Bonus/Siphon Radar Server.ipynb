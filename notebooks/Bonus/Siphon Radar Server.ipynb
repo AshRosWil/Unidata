{
 "cells": [
  {
   "cell_type": "markdown",
   "metadata": {},
   "source": [
    "<div style=\"width:1000 px\">\n",
    "\n",
    "<div style=\"float:right; width:98 px; height:98px;\"><img src=\"https://pbs.twimg.com/profile_images/1187259618/unidata_logo_rgb_sm_400x400.png\" alt=\"Unidata Logo\" style=\"height: 98px;\"></div>\n",
    "\n",
    "<h1>Using Siphon to get NEXRAD Level 3 data from a TDS</h1>\n",
    "<h3>Unidata Python Workshop</h3>\n",
    "\n",
    "<div style=\"clear:both\"></div>\n",
    "</div>\n",
    "\n",
    "<hr style=\"height:2px;\">\n",
    "\n",
    "<div style=\"float:right; width:250 px\"><img src=\"https://upload.wikimedia.org/wikipedia/commons/4/4d/Siphoning.JPG\" alt=\"Siphoning\" style=\"height: 300px;\"></div>\n",
    "\n",
    "### Objectives\n",
    "1. Learn more about Siphon\n",
    "2. Use the RadarServer class to retrieve radar data from a TDS\n",
    "3. Plot this data using numpy arrays and matplotlib\n",
    "\n",
    "In this example, we'll focus on interacting with the Radar Query Service to retrieve radar data.\n",
    "\n",
    "**But first!**\n",
    "Bookmark these resources for when you want to use Siphon later!\n",
    "+ [latest Siphon documentation](http://siphon.readthedocs.org/en/latest/)\n",
    "+ [Siphon github repo](https://github.com/Unidata/siphon)\n",
    "+ [TDS documentation](http://www.unidata.ucar.edu/software/thredds/v4.6/tds/TDS.html)\n"
   ]
  },
  {
   "cell_type": "markdown",
   "metadata": {},
   "source": [
    "## Querying the server"
   ]
  },
  {
   "cell_type": "markdown",
   "metadata": {},
   "source": [
    "First, we point at the top level of the Radar Query Service (the \"Radar Server\") to see what radar collections are available:"
   ]
  },
  {
   "cell_type": "code",
   "execution_count": 1,
   "metadata": {},
   "outputs": [
    {
     "data": {
      "text/plain": [
       "['NEXRAD Level II Radar for Case Study CCS039',\n",
       " 'NEXRAD Level II Radar from IDD',\n",
       " 'NEXRAD Level III Radar for Case Study CCS039',\n",
       " 'NEXRAD Level III Radar from IDD',\n",
       " 'TDWR Level III Radar from IDD']"
      ]
     },
     "execution_count": 1,
     "metadata": {},
     "output_type": "execute_result"
    }
   ],
   "source": [
    "from siphon.catalog import TDSCatalog\n",
    "cat = TDSCatalog('http://thredds.ucar.edu/thredds/radarServer/catalog.xml')\n",
    "list(cat.catalog_refs)"
   ]
  },
  {
   "cell_type": "markdown",
   "metadata": {},
   "source": [
    "Next we create an instance of the `RadarServer` object to point at one of these collections. This downloads some top level metadata and sets things up so we can easily query the server."
   ]
  },
  {
   "cell_type": "code",
   "execution_count": 2,
   "metadata": {},
   "outputs": [],
   "source": [
    "from siphon.radarserver import RadarServer\n",
    "rs = RadarServer(cat.catalog_refs['NEXRAD Level III Radar from IDD'].href)"
   ]
  },
  {
   "cell_type": "markdown",
   "metadata": {},
   "source": [
    "We can use rs.variables to see a list of radar products available to view from this access URL."
   ]
  },
  {
   "cell_type": "code",
   "execution_count": 3,
   "metadata": {},
   "outputs": [
    {
     "name": "stdout",
     "output_type": "stream",
     "text": [
      "['DAA', 'DHR', 'DOD', 'DPA', 'DPR', 'DSD', 'DSP', 'DTA', 'DU3', 'DU6', 'DVL', 'EET', 'HHC', 'N0C', 'N0H', 'N0K', 'N0M', 'N0Q', 'N0R', 'N0S', 'N0U', 'N0V', 'N0X', 'N0Z', 'N1C', 'N1H', 'N1K', 'N1M', 'N1P', 'N1Q', 'N1S', 'N1U', 'N1X', 'N2C', 'N2H', 'N2K', 'N2M', 'N2Q', 'N2S', 'N2U', 'N2X', 'N3C', 'N3H', 'N3K', 'N3M', 'N3Q', 'N3S', 'N3U', 'N3X', 'NAC', 'NAH', 'NAK', 'NAM', 'NAQ', 'NAU', 'NAX', 'NBC', 'NBH', 'NBK', 'NBM', 'NBQ', 'NBU', 'NBX', 'NCR', 'NET', 'NMD', 'NST', 'NTP', 'NVL', 'NVW', 'OHA', 'PTA']\n"
     ]
    }
   ],
   "source": [
    "print(sorted(rs.variables))"
   ]
  },
  {
   "cell_type": "markdown",
   "metadata": {},
   "source": [
    "If you're not a NEXRAD radar expert, there is more information available within the metadata downloaded from the server. (**NOTE:** Only the codes above are valid for queries.)"
   ]
  },
  {
   "cell_type": "code",
   "execution_count": 4,
   "metadata": {},
   "outputs": [
    {
     "data": {
      "text/plain": [
       "['DAA/Digital Accumulation Array',\n",
       " 'DHR/Digital Hybrid Scan Reflectivity',\n",
       " 'DOD/Digital One-Hour Difference Accumulation',\n",
       " 'DPA/Digital Precipitation Array',\n",
       " 'DPR/Digital Instantaneous Precipitation Rate',\n",
       " 'DSD/Digital Storm Total Difference Accumulation',\n",
       " 'DSP/Digital Storm Total Precipitation',\n",
       " 'DTA/Digital Storm Total Accumulation',\n",
       " 'DU3/Digital 3-hour Accumulation',\n",
       " 'DU6/Digital 24-hour Accumulation',\n",
       " 'DVL/Digital Vertically Integrated Liquid',\n",
       " 'EET/Enchanced Echo Tops',\n",
       " 'HHC/Hybrid Hydrometeor Classification',\n",
       " 'N0C/Correlation Coefficient Tilt 1',\n",
       " 'N0H/Hydrometeor Classification Tilt 1',\n",
       " 'N0K/Specific Differential Phase Tilt 1',\n",
       " 'N0M/Melting Layer Tilt 1',\n",
       " 'N0Q/Base Reflectivity DR Tilt 1',\n",
       " 'N0R/Base Reflectivity 124nm',\n",
       " 'N0S/Storm-Rel Mean Vel Tilt 1',\n",
       " 'N0U/Radial Velocity DV Tilt 1',\n",
       " 'N0V/Radial Velocity 124nm',\n",
       " 'N0X/Differential Reflectivity Tilt 1',\n",
       " 'N0Z/Base Reflecitvity 248nm',\n",
       " 'N1C/Correlation Coefficient Tilt 3',\n",
       " 'N1H/Hydrometeor Classification Tilt 3',\n",
       " 'N1K/Specific Differential Phase Tilt 3',\n",
       " 'N1M/Melting Layer Tilt 3',\n",
       " 'N1P/1-hour Rainfall',\n",
       " 'N1Q/Base Reflectivity DR Tilt 3',\n",
       " 'N1S/Storm-Rel Mean Vel Tilt 2',\n",
       " 'N1U/Radial Velocity DV Tilt 3',\n",
       " 'N1X/Differential Reflectivity Tilt 3',\n",
       " 'N2C/Correlation Coefficient Tilt 5',\n",
       " 'N2H/Hydrometeor Classification Tilt 5',\n",
       " 'N2K/Specific Differential Phase Tilt 5',\n",
       " 'N2M/Melting Layer Tilt 5',\n",
       " 'N2Q/Base Reflectivity DR Tilt 5',\n",
       " 'N2S/Storm-Rel Mean Vel Tilt 3',\n",
       " 'N2U/Radial Velocity DV Tilt 5',\n",
       " 'N2X/Differential Reflectivity Tilt 5',\n",
       " 'N3C/Correlation Coefficient Tilt 6',\n",
       " 'N3H/Hydrometeor Classification Tilt 6',\n",
       " 'N3K/Specific Differential Phase Tilt 6',\n",
       " 'N3M/Melting Layer Tilt 6',\n",
       " 'N3Q/Base Reflectivity DR Tilt 6',\n",
       " 'N3S/Storm-Rel Mean Vel Tilt 4',\n",
       " 'N3U/Radial Velocity DV Tilt 6',\n",
       " 'N3X/Differential Reflectivity Tilt 6',\n",
       " 'NAC/Correlation Coefficient Tilt 2',\n",
       " 'NAH/Hydrometeor Classification Tilt 2',\n",
       " 'NAK/Specific Differential Phase Tilt 2',\n",
       " 'NAM/Melting Layer Tilt 2',\n",
       " 'NAQ/Base Reflectivity DR Tilt 2',\n",
       " 'NAU/Radial Velocity DV Tilt 2',\n",
       " 'NAX/Differential Reflectivity Tilt 2',\n",
       " 'NBC/Correlation Coefficient Tilt 4',\n",
       " 'NBH/Hydrometeor Classification Tilt 4',\n",
       " 'NBK/Specific Differential Phase Tilt 4',\n",
       " 'NBM/Melting Layer Tilt 4',\n",
       " 'NBQ/Base Reflectivity DR Tilt 4',\n",
       " 'NBU/Radial Velocity DV Tilt 4',\n",
       " 'NBX/Differential Reflectivity Tilt 4',\n",
       " 'NCR/Composite Reflectivity',\n",
       " 'NET/Echo Tops',\n",
       " 'NMD/Mesocyclone',\n",
       " 'NST/Storm Tracking Information',\n",
       " 'NTP/Storm Total Rainfall',\n",
       " 'NVL/Vertically Integrated Liquid',\n",
       " 'NVW/Velocity Azimuth Display Wind Profile',\n",
       " 'OHA/One Hour Accumulation',\n",
       " 'PTA/Storm Total Accumulation']"
      ]
     },
     "execution_count": 4,
     "metadata": {},
     "output_type": "execute_result"
    }
   ],
   "source": [
    "sorted(rs.metadata['variables'])"
   ]
  },
  {
   "cell_type": "markdown",
   "metadata": {},
   "source": [
    "We can also see a list of the stations. Each station has associated location information."
   ]
  },
  {
   "cell_type": "code",
   "execution_count": 5,
   "metadata": {
    "scrolled": false
   },
   "outputs": [
    {
     "name": "stdout",
     "output_type": "stream",
     "text": [
      "['ABC', 'ABR', 'ABX', 'ACG', 'AEC', 'AHG', 'AIH', 'AKC', 'AKQ', 'AMA', 'AMX', 'APD', 'APX', 'ARX', 'ATX', 'BBX', 'BGM', 'BHX', 'BIS', 'BLX', 'BMX', 'BOX', 'BRO', 'BUF', 'BYX', 'CAE', 'CBW', 'CBX', 'CCX', 'CLE', 'CLX', 'CRP', 'CXX', 'CYS', 'DAX', 'DDC', 'DFX', 'DGX', 'DIX', 'DLH', 'DMX', 'DOX', 'DTX', 'DVN', 'DYX', 'EAX', 'EMX', 'ENX', 'EOX', 'EPZ', 'ESX', 'EVX', 'EWX', 'EYX', 'FCX', 'FDR', 'FDX', 'FFC', 'FSD', 'FSX', 'FTG', 'FWS', 'GGW', 'GJX', 'GLD', 'GRB', 'GRK', 'GRR', 'GSP', 'GUA', 'GWX', 'GYX', 'HDX', 'HGX', 'HKI', 'HKM', 'HMO', 'HNX', 'HPX', 'HTX', 'HWA', 'ICT', 'ICX', 'ILN', 'ILX', 'IND', 'INX', 'IWA', 'IWX', 'JAX', 'JGX', 'JKL', 'JUA', 'LBB', 'LCH', 'LIX', 'LNX', 'LOT', 'LRX', 'LSX', 'LTX', 'LVX', 'LWX', 'LZK', 'MAF', 'MAX', 'MBX', 'MHX', 'MKX', 'MLB', 'MOB', 'MPX', 'MQT', 'MRX', 'MSX', 'MTX', 'MUX', 'MVX', 'MXX', 'NKX', 'NQA', 'OAX', 'OHX', 'OKX', 'OTX', 'PAH', 'PBZ', 'PDT', 'POE', 'PUX', 'RAX', 'RGX', 'RIW', 'RLX', 'RTX', 'SFX', 'SGF', 'SHV', 'SJT', 'SOX', 'SRX', 'TBW', 'TFX', 'TLH', 'TLX', 'TWX', 'TYX', 'UDX', 'UEX', 'VAX', 'VBX', 'VNX', 'VTX', 'VWX', 'YUX']\n"
     ]
    }
   ],
   "source": [
    "print(sorted(rs.stations))"
   ]
  },
  {
   "cell_type": "code",
   "execution_count": 6,
   "metadata": {},
   "outputs": [
    {
     "data": {
      "text/plain": [
       "Station(id='TLX', elevation=370.0, latitude=35.32, longitude=-97.27, name='OKLAHOMA_CITY/Norman')"
      ]
     },
     "execution_count": 6,
     "metadata": {},
     "output_type": "execute_result"
    }
   ],
   "source": [
    "rs.stations['TLX']"
   ]
  },
  {
   "cell_type": "markdown",
   "metadata": {},
   "source": [
    "Next, we'll create a new query object to help request the data. Using the chaining methods, let's ask for reflectivity data at the lowest tilt (NOQ) from radar TLX (Oklahoma City) for the current time. We see that when the query is represented as a string, it shows the encoded URL."
   ]
  },
  {
   "cell_type": "code",
   "execution_count": 7,
   "metadata": {},
   "outputs": [
    {
     "data": {
      "text/plain": [
       "var=N0Q&time=2017-04-19T20%3A56%3A49.425145&stn=TLX"
      ]
     },
     "execution_count": 7,
     "metadata": {},
     "output_type": "execute_result"
    }
   ],
   "source": [
    "from datetime import datetime\n",
    "query = rs.query()\n",
    "query.stations('TLX').time(datetime.utcnow()).variables('N0Q')"
   ]
  },
  {
   "cell_type": "markdown",
   "metadata": {},
   "source": [
    "The query also supports time range queries, queries for closest to a lon/lat point, or getting all radars within a lon/lat box.\n",
    "\n",
    "We can use the RadarServer instance to check our query, to make sure we have required parameters and that we have chosen valid station(s) and variable(s)."
   ]
  },
  {
   "cell_type": "code",
   "execution_count": 8,
   "metadata": {},
   "outputs": [
    {
     "data": {
      "text/plain": [
       "True"
      ]
     },
     "execution_count": 8,
     "metadata": {},
     "output_type": "execute_result"
    }
   ],
   "source": [
    "rs.validate_query(query)"
   ]
  },
  {
   "cell_type": "markdown",
   "metadata": {},
   "source": [
    "Make the request, which returns an instance of TDSCatalog. This handles parsing the catalog"
   ]
  },
  {
   "cell_type": "code",
   "execution_count": 9,
   "metadata": {
    "collapsed": true
   },
   "outputs": [],
   "source": [
    "catalog = rs.get_catalog(query)"
   ]
  },
  {
   "cell_type": "markdown",
   "metadata": {},
   "source": [
    "We can look at the datasets on the catalog to see what data we found by the query. We find one NIDS file in the return"
   ]
  },
  {
   "cell_type": "code",
   "execution_count": 10,
   "metadata": {},
   "outputs": [
    {
     "data": {
      "text/plain": [
       "OrderedDict([('Level3_TLX_N0Q_20170419_2051.nids',\n",
       "              <siphon.catalog.Dataset at 0x10fd3d748>)])"
      ]
     },
     "execution_count": 10,
     "metadata": {},
     "output_type": "execute_result"
    }
   ],
   "source": [
    "catalog.datasets"
   ]
  },
  {
   "cell_type": "markdown",
   "metadata": {},
   "source": [
    "### Exercise: Querying the radar server\n",
    "\n",
    "We'll work through doing some more queries on the radar server. Some useful links:\n",
    "- RadarQuery [documentation](https://siphon.readthedocs.org/en/latest/api/radarserver.html#siphon.radarserver.RadarQuery)\n",
    "- Documentation on Python's [datetime.timedelta](https://docs.python.org/3.5/library/datetime.html#timedelta-objects)\n",
    "\n",
    "See if you can write Python code for the following queries:\n",
    "\n",
    "Get ZDR (differential reflectivity) for 3 days ago from the radar nearest to Hays, KS (lon -99.324403, lat 38.874929). **No map necessary!**"
   ]
  },
  {
   "cell_type": "code",
   "execution_count": null,
   "metadata": {
    "collapsed": true
   },
   "outputs": [],
   "source": []
  },
  {
   "cell_type": "markdown",
   "metadata": {},
   "source": [
    "Get base reflectivity for the last two hours from all of the radars in Wyoming (call it the bounding box with lower left corner 41.008717, -111.056360 and upper right corner 44.981008, -104.042719)"
   ]
  },
  {
   "cell_type": "code",
   "execution_count": null,
   "metadata": {
    "collapsed": true
   },
   "outputs": [],
   "source": []
  },
  {
   "cell_type": "markdown",
   "metadata": {},
   "source": [
    "## Pulling out the data"
   ]
  },
  {
   "cell_type": "markdown",
   "metadata": {},
   "source": [
    "We can pull that dataset out of the dictionary and look at the available access URLs. We see URLs for OPeNDAP, CDMRemote, and HTTPServer (direct download)."
   ]
  },
  {
   "cell_type": "code",
   "execution_count": 11,
   "metadata": {},
   "outputs": [
    {
     "data": {
      "text/plain": [
       "{'CdmRemote': 'http://thredds.ucar.edu/thredds/cdmremote/nexrad/level3/IDD/N0Q/TLX/20170419/Level3_TLX_N0Q_20170419_2051.nids',\n",
       " 'HTTPServer': 'http://thredds.ucar.edu/thredds/fileServer/nexrad/level3/IDD/N0Q/TLX/20170419/Level3_TLX_N0Q_20170419_2051.nids',\n",
       " 'OPENDAP': 'http://thredds.ucar.edu/thredds/dodsC/nexrad/level3/IDD/N0Q/TLX/20170419/Level3_TLX_N0Q_20170419_2051.nids'}"
      ]
     },
     "execution_count": 11,
     "metadata": {},
     "output_type": "execute_result"
    }
   ],
   "source": [
    "ds = list(catalog.datasets.values())[0]\n",
    "ds.access_urls"
   ]
  },
  {
   "cell_type": "markdown",
   "metadata": {},
   "source": [
    "We'll use the CDMRemote reader in Siphon and pass it the appropriate access URL. (This will all behave identically to using the 'OPENDAP' access, if we replace the `Dataset` from Siphon with that from `netCDF4`)."
   ]
  },
  {
   "cell_type": "code",
   "execution_count": 12,
   "metadata": {
    "collapsed": true
   },
   "outputs": [],
   "source": [
    "from siphon.cdmr import Dataset\n",
    "data = Dataset(ds.access_urls['CdmRemote'])"
   ]
  },
  {
   "cell_type": "markdown",
   "metadata": {},
   "source": [
    "The CDMRemote reader provides an interface that is almost identical to the usual python NetCDF interface. "
   ]
  },
  {
   "cell_type": "code",
   "execution_count": 13,
   "metadata": {},
   "outputs": [
    {
     "data": {
      "text/plain": [
       "['elevation',\n",
       " 'azimuth',\n",
       " 'gate',\n",
       " 'latitude',\n",
       " 'longitude',\n",
       " 'altitude',\n",
       " 'rays_time',\n",
       " 'BaseReflectivityDR_RAW',\n",
       " 'BaseReflectivityDR']"
      ]
     },
     "execution_count": 13,
     "metadata": {},
     "output_type": "execute_result"
    }
   ],
   "source": [
    "list(data.variables)"
   ]
  },
  {
   "cell_type": "markdown",
   "metadata": {},
   "source": [
    "We pull out the variables we need for azimuth and range, as well as the data itself."
   ]
  },
  {
   "cell_type": "code",
   "execution_count": 14,
   "metadata": {
    "collapsed": true
   },
   "outputs": [],
   "source": [
    "rng = data.variables['gate'][:]\n",
    "az = data.variables['azimuth'][:]\n",
    "ref = data.variables['BaseReflectivityDR'][:]"
   ]
  },
  {
   "cell_type": "markdown",
   "metadata": {},
   "source": [
    "Then convert the polar coordinates to Cartesian using numpy"
   ]
  },
  {
   "cell_type": "code",
   "execution_count": 15,
   "metadata": {
    "collapsed": true
   },
   "outputs": [],
   "source": [
    "import numpy as np\n",
    "x = rng * np.sin(np.deg2rad(az))[:, None]\n",
    "y = rng * np.cos(np.deg2rad(az))[:, None]\n",
    "ref = np.ma.array(ref, mask=np.isnan(ref))"
   ]
  },
  {
   "cell_type": "markdown",
   "metadata": {},
   "source": [
    "Finally, we plot them up using matplotlib and cartopy."
   ]
  },
  {
   "cell_type": "code",
   "execution_count": 16,
   "metadata": {},
   "outputs": [
    {
     "data": {
      "image/png": "[encoded data removed]",
      "text/plain": [
       "<matplotlib.figure.Figure at 0x1174b1ac8>"
      ]
     },
     "metadata": {},
     "output_type": "display_data"
    }
   ],
   "source": [
    "%matplotlib inline\n",
    "import matplotlib.pyplot as plt\n",
    "import cartopy\n",
    "from metpy.plots import ctables  # For NWS colortable\n",
    "\n",
    "# Create projection centered on the radar. This allows us to use x\n",
    "# and y relative to the radar.\n",
    "proj = cartopy.crs.LambertConformal(central_longitude=data.RadarLongitude,\n",
    "                                    central_latitude=data.RadarLatitude)\n",
    "\n",
    "# New figure with specified projection\n",
    "fig = plt.figure(figsize=(10, 10))\n",
    "ax = fig.add_subplot(1, 1, 1, projection=proj)\n",
    "\n",
    "# Grab state borders\n",
    "state_borders = cartopy.feature.NaturalEarthFeature(\n",
    "    category='cultural', name='admin_1_states_provinces_lines',\n",
    "    scale='50m', facecolor='none')\n",
    "ax.add_feature(state_borders, edgecolor='black', linewidth=2, zorder=2)\n",
    "\n",
    "# Counties\n",
    "counties = cartopy.io.shapereader.Reader('../../data/counties.shp')\n",
    "ax.add_geometries(counties.geometries(), cartopy.crs.PlateCarree(),\n",
    "                  facecolor='None', edgecolor='grey', zorder=1)\n",
    "\n",
    "# Set limits in lat/lon space\n",
    "ax.set_extent([data.RadarLongitude - 2.5, data.RadarLongitude + 2.5,\n",
    "               data.RadarLatitude - 2.5, data.RadarLatitude + 2.5])\n",
    "\n",
    "# Get the NWS typical reflectivity color table, along with an appropriate norm that\n",
    "# starts at 5 dBz and has steps in 5 dBz increments\n",
    "norm, cmap = ctables.registry.get_with_steps('NWSReflectivity', 5, 5)\n",
    "mesh = ax.pcolormesh(x, y, ref, cmap=cmap, norm=norm, zorder=0)"
   ]
  },
  {
   "cell_type": "markdown",
   "metadata": {},
   "source": [
    "### Exercise: Your turn to plot!\n",
    "\n",
    "Try making your own plot of radar data. Various options here, but this is pretty open-ended. Some options to inspire you:\n",
    "- Try working with Level II Data (All variables are three-dimensional and in a single file)\n",
    "- Try plotting Storm Total Precipitation or Digital Accumulation for an area that recently had a bunch of rain\n",
    "- Maybe plot Doppler velocity or some dual-pol data (ZDR or correlation coefficient) for recent severe weather. Bonus points for making a multi-panel plot."
   ]
  },
  {
   "cell_type": "code",
   "execution_count": null,
   "metadata": {
    "collapsed": true
   },
   "outputs": [],
   "source": []
  }
 ],
 "metadata": {
  "kernelspec": {
   "display_name": "Python [conda env:unidata-workshop]",
   "language": "python",
   "name": "conda-env-unidata-workshop-py"
  },
  "language_info": {
   "codemirror_mode": {
    "name": "ipython",
    "version": 3
   },
   "file_extension": ".py",
   "mimetype": "text/x-python",
   "name": "python",
   "nbconvert_exporter": "python",
   "pygments_lexer": "ipython3",
   "version": "3.6.1"
  }
 },
 "nbformat": 4,
 "nbformat_minor": 1
}
