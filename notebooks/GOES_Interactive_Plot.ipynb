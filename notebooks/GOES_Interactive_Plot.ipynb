{
 "cells": [
  {
   "cell_type": "markdown",
   "metadata": {},
   "source": [
    "<div style=\"width:1000 px\">\n",
    "\n",
    "<div style=\"float:right; width:98 px; height:98px;\"><img src=\"https://pbs.twimg.com/profile_images/1187259618/unidata_logo_rgb_sm_400x400.png\" alt=\"Unidata Logo\" style=\"height: 98px;\"></div>\n",
    "\n",
    "<h1>Making an Interactive RGB Composite</h1>\n",
    "<h3>Unidata Python Workshop</h3>\n",
    "\n",
    "<div style=\"clear:both\"></div>\n",
    "</div>\n",
    "\n",
    "<hr style=\"height:2px;\">"
   ]
  },
  {
   "cell_type": "code",
   "execution_count": 1,
   "metadata": {
    "collapsed": true
   },
   "outputs": [],
   "source": [
    "from datetime import datetime\n",
    "\n",
    "import cartopy.crs as ccrs\n",
    "import cartopy.feature as cfeat\n",
    "from IPython.display import display\n",
    "from ipywidgets import DatePicker, Dropdown, interact, fixed, Select, FloatRangeSlider\n",
    "from matplotlib import patheffects\n",
    "import matplotlib.pyplot as plt\n",
    "from netCDF4 import Dataset\n",
    "import numpy as np\n",
    "from scipy import interpolate\n",
    "from siphon.catalog import TDSCatalog"
   ]
  },
  {
   "cell_type": "code",
   "execution_count": 2,
   "metadata": {
    "collapsed": true
   },
   "outputs": [],
   "source": [
    "def open_dataset(date, channel, idx, region):\n",
    "    \"\"\"\n",
    "    Open and return a netCDF Dataset object for a given date, channel, and image index\n",
    "    of GOES-16 data from THREDDS test server.\n",
    "    \"\"\"\n",
    "    cat = TDSCatalog('http://thredds-test.unidata.ucar.edu/thredds/catalog/satellite/goes16/GOES16/'\n",
    "             '{}/{}/Channel{:02d}/catalog.xml'.format(date, region, channel))\n",
    "    dataset_name = list(cat.datasets)[idx]\n",
    "    dataset = cat.datasets[dataset_name]                       \n",
    "    ds = Dataset(dataset.access_urls['OPENDAP'])\n",
    "    return ds"
   ]
  },
  {
   "cell_type": "code",
   "execution_count": 3,
   "metadata": {
    "collapsed": true
   },
   "outputs": [],
   "source": [
    "def plot_GOES16_channel(date, idx, channel, region):\n",
    "    \"\"\"\n",
    "    Get and plot a GOES 16 data band from the ABI.\n",
    "    \"\"\"\n",
    "    ds = open_dataset(date, channel, idx, region)\n",
    "    x = ds.variables['x'][:]\n",
    "    y = ds.variables['y'][:]\n",
    "    z = ds.variables['Sectorized_CMI'][:]\n",
    "    proj_var = ds.variables[ds.variables['Sectorized_CMI'].grid_mapping]\n",
    "\n",
    "    # Create a Globe specifying a spherical earth with the correct radius\n",
    "    globe = ccrs.Globe(ellipse='sphere', semimajor_axis=proj_var.semi_major,\n",
    "                       semiminor_axis=proj_var.semi_minor)\n",
    "\n",
    "    proj = ccrs.LambertConformal(central_longitude=proj_var.longitude_of_central_meridian,\n",
    "                                 central_latitude=proj_var.latitude_of_projection_origin,\n",
    "                                 standard_parallels=[proj_var.standard_parallel],\n",
    "                                 globe=globe)\n",
    "\n",
    "\n",
    "    # Set up a feature for the state/province lines. Tell cartopy not to fill in the polygons\n",
    "    state_boundaries = cfeat.NaturalEarthFeature(category='cultural',\n",
    "                                                 name='admin_1_states_provinces_lakes',\n",
    "                                                 scale='50m', facecolor='none')\n",
    "\n",
    "    fig = plt.figure(figsize=(10, 10))\n",
    "    ax = fig.add_subplot(1, 1, 1, projection=proj)\n",
    "    ax.coastlines(resolution='50m', color='black')\n",
    "    ax.add_feature(state_boundaries, linestyle=':', edgecolor='black')\n",
    "    ax.add_feature(cfeat.BORDERS, linewidth='2', edgecolor='black')\n",
    "\n",
    "    for im in ax.images:\n",
    "        im.remove()\n",
    "    im = ax.imshow(z, extent=(x.min(), x.max(), y.min(), y.max()), origin='upper')\n",
    "    timestamp = datetime.strptime(ds.start_date_time, '%Y%j%H%M%S')\n",
    "    # Add text (aligned to the right); save the returned object so we can manipulate it.\n",
    "    text_time = ax.text(0.99, 0.01, timestamp.strftime('%d %B %Y %H%MZ'),\n",
    "                   horizontalalignment='right', transform=ax.transAxes,\n",
    "                   color='white', fontsize='x-large', weight='bold')\n",
    "\n",
    "    text_channel = ax.text(0.5, 0.94, 'Channel {}'.format(channel),\n",
    "                   horizontalalignment='center', transform=ax.transAxes,\n",
    "                   color='white', fontsize='large', weight='bold')\n",
    "    \n",
    "    text_experimental = ax.text(0.5, 0.97, 'Experimental GOES-16 Data',\n",
    "               horizontalalignment='center', transform=ax.transAxes,\n",
    "               color='white', fontsize='large', weight='bold')\n",
    "\n",
    "    # Make the text stand out even better using matplotlib's path effects\n",
    "    text_time.set_path_effects([patheffects.Stroke(linewidth=2, foreground='black'),\n",
    "                           patheffects.Normal()])\n",
    "    text_channel.set_path_effects([patheffects.Stroke(linewidth=2, foreground='black'),\n",
    "                           patheffects.Normal()])\n",
    "    text_experimental.set_path_effects([patheffects.Stroke(linewidth=2, foreground='black'),\n",
    "                           patheffects.Normal()])\n",
    "    display(fig)\n",
    "    plt.close()"
   ]
  },
  {
   "cell_type": "code",
   "execution_count": 4,
   "metadata": {},
   "outputs": [
    {
     "name": "stderr",
     "output_type": "stream",
     "text": [
      "Widget Javascript not detected.  It may not be installed or enabled properly.\n"
     ]
    },
    {
     "data": {
      "application/vnd.jupyter.widget-view+json": {
       "model_id": "53be7b78f69541e1a3c1d4de36c19c01"
      }
     },
     "metadata": {},
     "output_type": "display_data"
    },
    {
     "data": {
      "text/plain": [
       "<function __main__.plot_GOES16_channel>"
      ]
     },
     "execution_count": 4,
     "metadata": {},
     "output_type": "execute_result"
    }
   ],
   "source": [
    "channel_list = {'1 - Blue Band': 1,\n",
    "                '2 - Red Band': 2,\n",
    "                '3 - Veggie Band': 3,\n",
    "                '4 - Cirrus Band': 4,\n",
    "                '5 - Snow/Ice Band:': 5,\n",
    "                '6 - Cloud Particle Size Band': 6,\n",
    "                '7 - Shortwave Window Band': 7,\n",
    "                '8 - Upper-Level Tropo. WV Band': 8,\n",
    "                '9 - Mid-Level Tropo. WV Band': 9,\n",
    "                '10 - Low-Level WV Band': 10,\n",
    "                '11 - Cloud-Top Phase Band': 11,\n",
    "                '12 - Ozone Band': 12,\n",
    "                '13 - Clean IR Longwave Band': 13,\n",
    "                '14 - IR Longwave Band': 14,\n",
    "                '15 - Dirty Longwave Band': 15,\n",
    "                '16 - CO2 Longwave IR': 16}\n",
    "\n",
    "region = Select(\n",
    "    options=['Mesoscale-1', 'Mesoscale-2', 'CONUS'],\n",
    "    #value='Mesoscale 1',\n",
    "    description='Region:',\n",
    ")\n",
    "\n",
    "channel = Dropdown(\n",
    "    options=channel_list,\n",
    "    value=9,\n",
    "    description='Channel:',\n",
    ")\n",
    "\n",
    "date = datetime.strftime(datetime.utcnow(), '%Y%m%d')\n",
    "interact(plot_GOES16_channel, date=fixed(date), idx=fixed(-2), \n",
    "         channel=channel, region=region)"
   ]
  }
 ],
 "metadata": {
  "kernelspec": {
   "display_name": "Python [conda env:unidata-workshop]",
   "language": "python",
   "name": "conda-env-unidata-workshop-py"
  },
  "language_info": {
   "codemirror_mode": {
    "name": "ipython",
    "version": 3
   },
   "file_extension": ".py",
   "mimetype": "text/x-python",
   "name": "python",
   "nbconvert_exporter": "python",
   "pygments_lexer": "ipython3",
   "version": "3.6.1"
  }
 },
 "nbformat": 4,
 "nbformat_minor": 2
}
