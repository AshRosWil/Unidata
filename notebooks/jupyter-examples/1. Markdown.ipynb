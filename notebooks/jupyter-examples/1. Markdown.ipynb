{
 "cells": [
  {
   "cell_type": "markdown",
   "metadata": {},
   "source": [
    "# A Brief Introduction to Markdown\n",
    "\n",
    "Markdown is described as follows by its creator, John Gruber[1].\n",
    "\n",
    "> Markdown is intended to be as easy-to-read and easy-to-write as is feasible.\n",
    "\n",
    "> Readability, however, is emphasized above all else. A Markdown-formatted document should be publishable as-is, as plain text, without looking like it’s been marked up with tags or formatting instructions. While Markdown’s syntax has been influenced by several existing text-to-HTML filters, the single biggest source of inspiration for Markdown’s syntax is the format of plain text email.\n",
    "\n",
    "`[1]` http://daringfireball.net/projects/markdown/syntax"
   ]
  },
  {
   "cell_type": "markdown",
   "metadata": {},
   "source": [
    "## Where might you encounter Markdown?\n",
    "\n",
    "1. Jupyter Notebooks.\n",
    "2. Various web services like `GitHub`, `Docker.io`.\n",
    "3. Any number of developer-centric editors."
   ]
  },
  {
   "cell_type": "markdown",
   "metadata": {},
   "source": [
    "## 1. Headers"
   ]
  },
  {
   "cell_type": "raw",
   "metadata": {},
   "source": [
    "# Header H1\n",
    "## Header H2\n",
    "### Header H3\n",
    "#### Header H4\n",
    "##### Header H5\n",
    "###### Header H6"
   ]
  },
  {
   "cell_type": "markdown",
   "metadata": {},
   "source": [
    "# Header H1\n",
    "## Header H2\n",
    "### Header H3\n",
    "#### Header H4\n",
    "##### Header H5\n",
    "###### Header H6"
   ]
  },
  {
   "cell_type": "raw",
   "metadata": {},
   "source": [
    "## 2. Formatting Text\n",
    "\n",
    "Paragraphs are separated by a blank line.\n",
    "\n",
    "You are able to specify *italic*, **bold**, ***bolded italic*** and `monospace` text."
   ]
  },
  {
   "cell_type": "markdown",
   "metadata": {},
   "source": [
    "## 2. Formatting Text\n",
    "\n",
    "Paragraphs are separated by a blank line.\n",
    "\n",
    "You are able to specify *italic*, **bold**, ***bolded italic*** and `monospace` text."
   ]
  },
  {
   "cell_type": "raw",
   "metadata": {},
   "source": [
    "## 3. Lists\n",
    "\n",
    "You can create ordered and unordered lists.\n",
    "\n",
    "Unordered:\n",
    "\n",
    "* One\n",
    "* Two\n",
    "* Three\n",
    "\n",
    "Ordered:\n",
    "\n",
    "1. A\n",
    "2. B\n",
    "3. C\n",
    "\n",
    "Embedded Lists:\n",
    "\n",
    "* A\n",
    "* B\n",
    "    * 1\n",
    "    * 2\n",
    "    * 3\n",
    "        1. A\n",
    "        1. B\n",
    "        1. C"
   ]
  },
  {
   "cell_type": "markdown",
   "metadata": {},
   "source": [
    "## 3. Lists\n",
    "\n",
    "You can create ordered and unordered lists.\n",
    "\n",
    "Unordered:\n",
    "\n",
    "* One\n",
    "* Two\n",
    "* Three\n",
    "\n",
    "Ordered:\n",
    "\n",
    "1. A\n",
    "2. B\n",
    "3. C\n",
    "\n",
    "Embedded Lists:\n",
    "\n",
    "* A\n",
    "* B\n",
    "    * 1\n",
    "    * 2\n",
    "    * 3\n",
    "        1. A\n",
    "        1. B\n",
    "        1. C"
   ]
  },
  {
   "cell_type": "raw",
   "metadata": {},
   "source": [
    "## 4. Quotes\n",
    "\n",
    "You use the `>` to create block quotes.\n",
    "\n",
    "> This is the first bit\n",
    "> of a block quote.\n",
    ">\n",
    "> This is the second bit\n",
    "> of the same block quote."
   ]
  },
  {
   "cell_type": "markdown",
   "metadata": {},
   "source": [
    "## 4. Quotes\n",
    "\n",
    "You use the `>` to create block quotes.\n",
    "\n",
    "> This is the first bit\n",
    "> of a block quote.\n",
    ">\n",
    "> This is the second bit\n",
    "> of the same block quote."
   ]
  },
  {
   "cell_type": "raw",
   "metadata": {},
   "source": [
    "## 5. Code Blocks\n",
    "\n",
    "You can also create code blocks using 4 spaces.\n",
    "\n",
    "    define foobar() {\n",
    "        print(\"Hello World\");\n",
    "    }\n",
    "\n",
    "You can also delineate code blocks with the *backtick* character.  This will let you specify a language, and gives you syntax highlighting.\n",
    "\n",
    "```python\n",
    "define foobar() {\n",
    "    print(\"Hello World\");\n",
    "}\n",
    "```"
   ]
  },
  {
   "cell_type": "markdown",
   "metadata": {},
   "source": [
    "## 5. Code Blocks\n",
    "\n",
    "You can also create code blocks using 4 spaces.\n",
    "\n",
    "    define foobar() {\n",
    "        print(\"Hello World\");\n",
    "    }\n",
    "\n",
    "You can also delineate code blocks with the *backtick* character.  This will let you specify a language, and gives you syntax highlighting.\n",
    "\n",
    "```python\n",
    "define foobar() {\n",
    "    print(\"Hello World\");\n",
    "}\n",
    "```"
   ]
  },
  {
   "cell_type": "raw",
   "metadata": {},
   "source": [
    "## 6. Links and Anchors <A name=\"an-h2-header\"></A>\n",
    "\n",
    "Here's a link to [a website](http://foo.bar), to a [local\n",
    "doc](local-doc.html), and to a [section heading in the current\n",
    "doc](#an-h2-header). "
   ]
  },
  {
   "cell_type": "markdown",
   "metadata": {},
   "source": [
    "## 6. Links and Anchors <A name=\"an-h2-header\"></A>\n",
    "\n",
    "Here's a link to [a website](http://foo.bar), to a [local\n",
    "doc](local-doc.html), and to a [section heading in the current\n",
    "doc](#an-h2-header). "
   ]
  },
  {
   "cell_type": "raw",
   "metadata": {},
   "source": [
    "## 7. Tables\n",
    "\n",
    "Tables are not official syntax, but are nearly universally supported.\n",
    "\n",
    "| One | Two | Left | Right | Center |\n",
    "|-----|-----|:-----|------:|:------:|\n",
    "| A | B | C | D | E |"
   ]
  },
  {
   "cell_type": "markdown",
   "metadata": {},
   "source": [
    "## 7. Tables\n",
    "\n",
    "Tables are not official syntax, but are nearly universally supported.\n",
    "\n",
    "| One | Two | Left | Right | Center |\n",
    "|-----|-----|:-----|------:|:------:|\n",
    "| A | B | C | D | E |"
   ]
  },
  {
   "cell_type": "raw",
   "metadata": {},
   "source": [
    "## 8. Plain HTML\n",
    "\n",
    "It is perfectly valid to embed <b>HTML<b> inside of a Markdown document, as we can see in the following example:\n",
    "\n",
    "<H3> 8.1 HTML Example</H3>\n",
    "\n",
    "<P>This is an example of embedded HTML.<br> \"Hello, World!\"<sup>1</sup></P>\n",
    "<HR>\n",
    "1: \"Programming in C: A Tutorial\", <I>Kernighan, Brian W.</I>, Bell Laboratories, 1974 "
   ]
  },
  {
   "cell_type": "markdown",
   "metadata": {},
   "source": [
    "## 8. Plain HTML\n",
    "\n",
    "It is perfectly valid to embed <b>HTML</b> inside of a Markdown document, as we can see in the following example:\n",
    "\n",
    "<H3> 8.1 HTML Example</H3>\n",
    "\n",
    "<P>This is an example of embedded HTML.<br> \"Hello, World!\"<sup>1</sup></P>\n",
    "<HR>\n",
    "1: \"Programming in C: A Tutorial\", <I>Kernighan, Brian W.</I>, Bell Laboratories, 1974 "
   ]
  },
  {
   "cell_type": "raw",
   "metadata": {},
   "source": [
    "### 8.2 HTML Example, Markdown Version\n",
    "\n",
    "This is an example of embedded HTML.\n",
    "\n",
    "\"Hello, World!\"<sup>1</sup>\n",
    "\n",
    "----\n",
    "1: \"Programming in C: A Tutorial\", *Kernighan, Brian W.*, Bell Laboratories, 1974"
   ]
  },
  {
   "cell_type": "markdown",
   "metadata": {},
   "source": [
    "### 8.2 HTML Example, Markdown Version\n",
    "\n",
    "This is an example of embedded HTML.\n",
    "\n",
    "\"Hello, World!\"<sup>1</sup>\n",
    "\n",
    "----\n",
    "1: \"Programming in C: A Tutorial\", *Kernighan, Brian W.*, Bell Laboratories, 1974"
   ]
  },
  {
   "cell_type": "markdown",
   "metadata": {},
   "source": [
    "[Next: Notebook Features](2. Notebook Features.ipynb)"
   ]
  }
 ],
 "metadata": {
  "kernelspec": {
   "display_name": "Python 3",
   "language": "python",
   "name": "python3"
  },
  "language_info": {
   "codemirror_mode": {
    "name": "ipython",
    "version": 3
   },
   "file_extension": ".py",
   "mimetype": "text/x-python",
   "name": "python",
   "nbconvert_exporter": "python",
   "pygments_lexer": "ipython3",
   "version": "3.5.2"
  }
 },
 "nbformat": 4,
 "nbformat_minor": 0
}
