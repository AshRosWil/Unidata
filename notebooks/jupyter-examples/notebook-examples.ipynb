{
 "cells": [
  {
   "cell_type": "markdown",
   "metadata": {
    "deletable": true,
    "editable": true
   },
   "source": [
    "# Notebook Cells\n",
    "\n",
    "- An Notebook is a series of \"cells\".\n",
    "- The active cell has an outline around it.\n",
    "- Navigate to different cells with the arrow keys.\n",
    "- A cell can be either be code, markdown, or \"raw\".\n",
    "    - Code\n",
    "        - Python\n",
    "        - R\n",
    "        - Ruby\n",
    "        - Lua\n",
    "        - [Many Others](https://github.com/ipython/ipython/wiki/IPython-kernels-for-other-languages)\n",
    "- Create cells from the Notebook menu or better yet learn the keyboard shortcuts.\n",
    "    - `h`: Bring up keyboard shortcuts screen."
   ]
  },
  {
   "cell_type": "markdown",
   "metadata": {
    "deletable": true,
    "editable": true
   },
   "source": [
    "## Modes\n",
    "\n",
    "The Notebook has two different keyboard input modes. Edit mode allows you to type code/text into a cell and is indicated by a green cell border. Command mode binds the keyboard to notebook level actions and is indicated by a grey cell border.\n",
    "\n",
    "* `Enter`: Enter `edit` mode.\n",
    "* `Esc` or `ctrl-m`: Enter `command` mode."
   ]
  },
  {
   "cell_type": "markdown",
   "metadata": {
    "deletable": true,
    "editable": true
   },
   "source": [
    "\n",
    "## Helpful Shortcuts\n",
    "\n",
    "* `Ctrl`-`Enter`: Run Cell\n",
    "* `Shift`-`Enter`: Run cell, select cell below.\n",
    "* `Alt`-`Enter`: Run Cell, insert below.\n",
    "* `Ctrl`-`s`: Save Notebook\n",
    "* `i`: Interrupt kernel (press twice).\n",
    "* `0`: Restart kernel (press twice)."
   ]
  },
  {
   "cell_type": "markdown",
   "metadata": {
    "deletable": true,
    "editable": true
   },
   "source": [
    "## Other Shortcuts\n",
    "\n",
    "There are also shortcuts for:\n",
    "\n",
    "* Split, Merge, Delete cells.\n",
    "* Toggle output scrolling.\n",
    "* And lots more (See `h`)."
   ]
  },
  {
   "cell_type": "markdown",
   "metadata": {
    "deletable": true,
    "editable": true
   },
   "source": [
    "# Examples from Jupyter\n",
    "\n",
    "The following examples are taken from the Jupyter documentation available at [http://nbviewer.jupyter.org/github/jupyter/notebook/tree/master/docs/source/examples/Notebook/](http://nbviewer.jupyter.org/github/jupyter/notebook/tree/master/docs/source/examples/Notebook/).\n",
    "\n",
    "* [Working with Markdown Cells](./Working With Markdown Cells.ipynb)\n",
    "* [Typesetting Equations](./Typesetting Equations.ipynb)\n",
    "* [Running code](./Running Code.ipynb)"
   ]
  },
  {
   "cell_type": "markdown",
   "metadata": {
    "deletable": true,
    "editable": true
   },
   "source": [
    "# Plotting\n",
    "\n",
    "After running code to generate or analyze data, it is often useful to visualize the data in the notebook.  Jupyter Notebooks make it easy to generate this robust data visualization on the fly."
   ]
  },
  {
   "cell_type": "code",
   "execution_count": null,
   "metadata": {
    "collapsed": false,
    "deletable": true,
    "editable": true
   },
   "outputs": [],
   "source": [
    "from numpy import sin,cos,pi,linspace\n",
    "import matplotlib.pyplot as plt\n",
    "\n",
    "# Play with these number and ignore the rest\n",
    "j = 3000\n",
    "R = 10\n",
    "r = 0.4\n",
    "O = 12\n",
    "\n",
    "t = linspace(-pi,pi,j)\n",
    "x = (R+r)*cos(t) - (r+O)*cos(((R+r)/r)*t)\n",
    "y = (R+r)*sin(t) - (r+O)*sin(((R+r)/r)*t)\n",
    "plt.plot(x,y)\n",
    "plt.show()"
   ]
  },
  {
   "cell_type": "code",
   "execution_count": null,
   "metadata": {
    "collapsed": true,
    "deletable": true,
    "editable": true
   },
   "outputs": [],
   "source": [
    "?linspace"
   ]
  },
  {
   "cell_type": "code",
   "execution_count": null,
   "metadata": {
    "collapsed": false,
    "deletable": true,
    "editable": true
   },
   "outputs": [],
   "source": [
    "###\n",
    "# We can modify these numbers and play around with the\n",
    "# resulting visualization.\n",
    "###\n",
    "j = 3000\n",
    "R = 11\n",
    "r = 0.8\n",
    "O = 8\n",
    "\n",
    "t = linspace(-pi,pi,j)\n",
    "x = (R+r)*cos(t) - (r+O)*cos(((R+r)/r)*t)\n",
    "y = (R+r)*sin(t) - (r+O)*sin(((R+r)/r)*t)\n",
    "plt.plot(x,y)\n",
    "plt.show()"
   ]
  },
  {
   "cell_type": "markdown",
   "metadata": {
    "deletable": true,
    "editable": true
   },
   "source": [
    "## Is there an easier way to play around with the parameter space?\n",
    "\n",
    "Yes! Using the `interact` function."
   ]
  },
  {
   "cell_type": "code",
   "execution_count": null,
   "metadata": {
    "collapsed": false,
    "deletable": true,
    "editable": true
   },
   "outputs": [],
   "source": [
    "from ipywidgets import interact\n",
    "\n",
    "def plot_interactive_graph(j,R,r,O,my_title):\n",
    "    t = linspace(-pi,pi,j)\n",
    "    x = (R+r)*cos(t) - (r+O)*cos(((R+r)/r)*t)\n",
    "    y = (R+r)*sin(t) - (r+O)*sin(((R+r)/r)*t)\n",
    "    \n",
    "    fig = plt.figure()\n",
    "    plt.title(my_title)\n",
    "    plt.plot(x,y)\n",
    "    \n",
    "    # Set up a caption for the plot.\n",
    "    cap_txt = '''\n",
    "    x = (R+r)*cos(t) - (r+O)*cos(((R+r)/r)*t)\n",
    "    y = (R+r)*sin(t) - (r+O)*sin(((R+r)/r)*t)'''\n",
    "\n",
    "\n",
    "    fig.text(.2,0,cap_txt)\n",
    "    \n",
    "    plt.show()\n",
    "    \n",
    "interact(plot_interactive_graph,\n",
    "         j = (0,3000),\n",
    "         R = (1,30),\n",
    "         r = (0.1,10),\n",
    "         O = (0,40),\n",
    "         my_title = \"Interactive Example 1\")"
   ]
  },
  {
   "cell_type": "markdown",
   "metadata": {
    "deletable": true,
    "editable": true
   },
   "source": [
    "## Those default values look terrible.\n",
    "\n",
    "Agreed."
   ]
  },
  {
   "cell_type": "code",
   "execution_count": null,
   "metadata": {
    "collapsed": false,
    "deletable": true,
    "editable": true
   },
   "outputs": [],
   "source": [
    "from ipywidgets import FloatSlider, IntSlider\n",
    "\n",
    "interact(plot_interactive_graph,\n",
    "         j = IntSlider(min=0,max=3000,value=30),\n",
    "         R = IntSlider(min=1,max=20,value=10),\n",
    "         r = FloatSlider(min=0.1,max=1.0,value=0.4),\n",
    "         O = IntSlider(min=0,max=20,value=12),\n",
    "         my_title = \"Interactive Example 2\")"
   ]
  }
 ],
 "metadata": {
  "kernelspec": {
   "display_name": "Python [default]",
   "language": "python",
   "name": "python3"
  },
  "language_info": {
   "codemirror_mode": {
    "name": "ipython",
    "version": 3
   },
   "file_extension": ".py",
   "mimetype": "text/x-python",
   "name": "python",
   "nbconvert_exporter": "python",
   "pygments_lexer": "ipython3",
   "version": "3.5.3"
  },
  "widgets": {
   "state": {
    "69a061ad97234cebaba1acb81532deb6": {
     "views": [
      {
       "cell_index": 11
      }
     ]
    },
    "74803764b4ef45aa88d02d92515419f6": {
     "views": [
      {
       "cell_index": 13
      }
     ]
    }
   },
   "version": "1.2.0"
  }
 },
 "nbformat": 4,
 "nbformat_minor": 1
}
