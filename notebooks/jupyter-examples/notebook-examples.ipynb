{
 "cells": [
  {
   "cell_type": "markdown",
   "metadata": {},
   "source": [
    "# 1. Notebook Cells\n",
    "\n",
    "- An Notebook is a series of \"cells\".\n",
    "- The active cell has an outline around it.\n",
    "- Navigate to different cells with the arrow keys.\n",
    "- A cell can be either be code, markdown, or \"raw\".\n",
    "    - Code\n",
    "        - Python\n",
    "        - R\n",
    "        - Ruby\n",
    "        - Lua\n",
    "        - [Many Others](https://github.com/ipython/ipython/wiki/IPython-kernels-for-other-languages)\n",
    "- Create cells from the Notebook menu or better yet learn the keyboard shortcuts.\n",
    "    - `h`: Bring up keyboard shortcuts screen.\n",
    "\n",
    "## 1.2. Modes\n",
    "\n",
    "The Notebook has two different keyboard input modes. Edit mode allows you to type code/text into a cell and is indicated by a green cell border. Command mode binds the keyboard to notebook level actions and is indicated by a grey cell border.\n",
    "\n",
    "* `Enter`: Enter `edit` mode.\n",
    "* `Esc` or `ctrl-m`: Enter `command` mode.\n",
    "\n",
    "## 1.3. Helpful Shortcuts\n",
    "\n",
    "* `Ctrl`-`Enter`: Run Cell\n",
    "* `Shift`-`Enter`: Run cell, select cell below.\n",
    "* `Alt`-`Enter`: Run Cell, insert below.\n",
    "* `Ctrl`-`s`: Save Notebook\n",
    "* `i`: Interrupt kernel (press twice).\n",
    "* `0`: Restart kernel (press twice).\n",
    "\n",
    "## 1.4. Other Shortcuts\n",
    "\n",
    "There are also shortcuts for:\n",
    "\n",
    "* Bring up tooltips.\n",
    "* Split, Merge, Delete cells.\n",
    "* Toggle Output, output Scrolling.\n",
    "* And More!!! (See `h`)."
   ]
  },
  {
   "cell_type": "markdown",
   "metadata": {},
   "source": [
    "# 2. A Brief Introduction to Markdown\n",
    "\n",
    "Markdown is described as follows by its creator, John Gruber[1].\n",
    "\n",
    "> Markdown is intended to be as easy-to-read and easy-to-write as is feasible.\n",
    "\n",
    "> Readability, however, is emphasized above all else. A Markdown-formatted document should be publishable as-is, as plain text, without looking like it’s been marked up with tags or formatting instructions. While Markdown’s syntax has been influenced by several existing text-to-HTML filters, the single biggest source of inspiration for Markdown’s syntax is the format of plain text email.\n",
    "\n",
    "`[1]` http://daringfireball.net/projects/markdown/syntax\n",
    "\n",
    "## Where might you encounter Markdown?\n",
    "\n",
    "1. Jupyter Notebooks.\n",
    "2. Various web services like `GitHub`, `Docker.io`.\n",
    "3. Any number of developer-centric editors."
   ]
  },
  {
   "cell_type": "markdown",
   "metadata": {},
   "source": [
    "## 2.1. Headers\n",
    "\n",
    "# Header H1\n",
    "## Header H2\n",
    "### Header H3\n",
    "#### Header H4\n",
    "##### Header H5\n",
    "###### Header H6"
   ]
  },
  {
   "cell_type": "markdown",
   "metadata": {},
   "source": [
    "## 2.2. Quotes\n",
    "\n",
    "You use the `>` to create block quotes.\n",
    "\n",
    "> This is the first bit\n",
    "> of a block quote.\n",
    ">\n",
    "> This is the second bit\n",
    "> of the same block quote."
   ]
  },
  {
   "cell_type": "markdown",
   "metadata": {},
   "source": [
    "## 2.3. Code Blocks\n",
    "\n",
    "You can also create code blocks using 4 spaces.\n",
    "\n",
    "    define foobar() {\n",
    "        print(\"Hello World\");\n",
    "    }\n",
    "\n",
    "You can also delineate code blocks with the *backtick* character.  This will let you specify a language, and gives you syntax highlighting.\n",
    "\n",
    "```python\n",
    "define foobar() {\n",
    "    print(\"Hello World\");\n",
    "}\n",
    "```"
   ]
  },
  {
   "cell_type": "markdown",
   "metadata": {},
   "source": [
    "## 2.4. Links and Anchors <A name=\"an-h2-header\"></A>\n",
    "\n",
    "Here's a link to [a website](http://foo.bar), to a [local\n",
    "doc](local-doc.html), and to a [section heading in the current\n",
    "doc](#an-h2-header). "
   ]
  },
  {
   "cell_type": "markdown",
   "metadata": {},
   "source": [
    "## 2.5. Tables\n",
    "\n",
    "Tables are not official syntax, but are nearly universally supported.\n",
    "\n",
    "| One | Two | Left | Right | Center |\n",
    "|-----|-----|:-----|------:|:------:|\n",
    "| A | B | C | D | E |"
   ]
  },
  {
   "cell_type": "markdown",
   "metadata": {},
   "source": [
    "## 2.6. Plain HTML\n",
    "\n",
    "It is perfectly valid to embed <b>HTML<b> inside of a Markdown document, as we can see in the following example:\n",
    "\n",
    "<H3> HTML Example</H3>\n",
    "\n",
    "<P>This is an example of embedded HTML.<br> \"Hello, World!\"<sup>1</sup></P>\n",
    "<HR>\n",
    "1: \"Programming in C: A Tutorial\", <I>Kernighan, Brian W.</I>, Bell Laboratories, 1974 \n",
    "\n",
    "--------------"
   ]
  },
  {
   "cell_type": "markdown",
   "metadata": {},
   "source": [
    "## 2.7 Embedded LaTeX\n",
    "\n",
    "### A Cross-Product Formula\n",
    "\n",
    "````\n",
    "\\begin{equation*} \\mathbf{V}_1 \\times \\mathbf{V}_2 = \\begin{vmatrix} \\mathbf{i} & \\mathbf{j} & \\mathbf{k} \\\\ \n",
    "\\frac{\\partial X}{\\partial u} & \\frac{\\partial Y}{\\partial u} & 0 \\\\ \n",
    "\\frac{\\partial X}{\\partial v} & \\frac{\\partial Y}{\\partial v} & 0 \\end{vmatrix} \\end{equation*}\n",
    "````\n",
    "\n",
    "Renders Thusly:\n",
    "\n",
    "\\begin{equation*} \\mathbf{V}_1 \\times \\mathbf{V}_2 = \\begin{vmatrix} \\mathbf{i} & \\mathbf{j} & \\mathbf{k} \\\\ \n",
    "\\frac{\\partial X}{\\partial u} & \\frac{\\partial Y}{\\partial u} & 0 \\\\ \n",
    "\\frac{\\partial X}{\\partial v} & \\frac{\\partial Y}{\\partial v} & 0 \\end{vmatrix} \\end{equation*}\n"
   ]
  },
  {
   "cell_type": "markdown",
   "metadata": {},
   "source": [
    "# 3. Plotting\n",
    "\n",
    "> Plotting description/Overview goes here.\n"
   ]
  },
  {
   "cell_type": "code",
   "execution_count": null,
   "metadata": {
    "collapsed": false
   },
   "outputs": [],
   "source": [
    "from numpy import sin,cos,pi,linspace\n",
    "import matplotlib.pyplot as plt\n",
    "\n",
    "# Play with these number and ignore the rest\n",
    "j = 3000\n",
    "R = 10\n",
    "r = 0.4\n",
    "O = 12\n",
    "\n",
    "t = linspace(-pi,pi,j)\n",
    "x = (R+r)*cos(t) - (r+O)*cos(((R+r)/r)*t)\n",
    "y = (R+r)*sin(t) - (r+O)*sin(((R+r)/r)*t)\n",
    "plt.plot(x,y)\n",
    "plt.show()"
   ]
  },
  {
   "cell_type": "code",
   "execution_count": null,
   "metadata": {
    "collapsed": true
   },
   "outputs": [],
   "source": [
    "?linspace"
   ]
  },
  {
   "cell_type": "code",
   "execution_count": null,
   "metadata": {
    "collapsed": true
   },
   "outputs": [],
   "source": [
    "###\n",
    "# We can modify these numbers and play around with the\n",
    "# resulting visualization.\n",
    "###\n",
    "j = 3000\n",
    "R = 10\n",
    "r = 0.4\n",
    "O = 12\n",
    "\n",
    "t = linspace(-pi,pi,j)\n",
    "x = (R+r)*cos(t) - (r+O)*cos(((R+r)/r)*t)\n",
    "y = (R+r)*sin(t) - (r+O)*sin(((R+r)/r)*t)\n",
    "plt.plot(x,y)\n",
    "plt.show()"
   ]
  },
  {
   "cell_type": "markdown",
   "metadata": {},
   "source": [
    "## Is there an easier way to play around with the parameter space?\n",
    "\n",
    "Yes! Using the `interact` function."
   ]
  },
  {
   "cell_type": "code",
   "execution_count": null,
   "metadata": {
    "collapsed": false
   },
   "outputs": [],
   "source": [
    "from ipywidgets import interact\n",
    "\n",
    "def plot_interactive_graph(j,R,r,O,my_title):\n",
    "    t = linspace(-pi,pi,j)\n",
    "    x = (R+r)*cos(t) - (r+O)*cos(((R+r)/r)*t)\n",
    "    y = (R+r)*sin(t) - (r+O)*sin(((R+r)/r)*t)\n",
    "    \n",
    "    fig = plt.figure()\n",
    "    plt.title(my_title)\n",
    "    plt.plot(x,y)\n",
    "    \n",
    "    # Set up a caption for the plot.\n",
    "    cap_txt = '''\n",
    "    x = (R+r)*cos(t) - (r+O)*cos(((R+r)/r)*t)\n",
    "    y = (R+r)*sin(t) - (r+O)*sin(((R+r)/r)*t)'''\n",
    "\n",
    "\n",
    "    fig.text(.2,0,cap_txt)\n",
    "    \n",
    "    plt.show()\n",
    "    \n",
    "interact(plot_interactive_graph,\n",
    "         j = (0,3000),\n",
    "         R = (1,10),\n",
    "         r = (0.1,1),\n",
    "         O = (0,20),\n",
    "         my_title = \"Interactive Example 1\")"
   ]
  },
  {
   "cell_type": "markdown",
   "metadata": {},
   "source": [
    "## Those default values look terrible.\n",
    "\n",
    "Agreed."
   ]
  },
  {
   "cell_type": "code",
   "execution_count": null,
   "metadata": {
    "collapsed": false
   },
   "outputs": [],
   "source": [
    "from ipywidgets import FloatSlider, IntSlider\n",
    "\n",
    "interact(plot_interactive_graph,\n",
    "         j = IntSlider(min=0,max=3000,value=30),\n",
    "         R = IntSlider(min=1,max=20,value=10),\n",
    "         r = FloatSlider(min=0.1,max=1.0,value=0.4),\n",
    "         O = IntSlider(min=0,max=20,value=12),\n",
    "         my_title = \"Interactive Example 2\")"
   ]
  }
 ],
 "metadata": {
  "kernelspec": {
   "display_name": "Python 3",
   "language": "python",
   "name": "python3"
  },
  "language_info": {
   "codemirror_mode": {
    "name": "ipython",
    "version": 3
   },
   "file_extension": ".py",
   "mimetype": "text/x-python",
   "name": "python",
   "nbconvert_exporter": "python",
   "pygments_lexer": "ipython3",
   "version": "3.5.2"
  }
 },
 "nbformat": 4,
 "nbformat_minor": 1
}
