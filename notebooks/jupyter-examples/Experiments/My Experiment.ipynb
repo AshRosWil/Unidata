{
 "cells": [
  {
   "cell_type": "markdown",
   "metadata": {},
   "source": [
    "# Monotonically Increasing Integers - Are they Monotonically Increasing ?\n",
    "\n",
    "* Author: *Anonymous*\n",
    "\n",
    "## Abstract\n",
    "\n",
    "This work will explore whether or not monotonically increasing integers increase monotonically.\n",
    "\n",
    "## Experiment Design\n",
    "\n",
    "I'm just going to plot some monotonically increasing integers and eyeball the resulting graph.  This should reveal whether or not the plotted integers increase monotonically.\n",
    "\n",
    "## Experiment 1"
   ]
  },
  {
   "cell_type": "code",
   "execution_count": null,
   "metadata": {
    "collapsed": false
   },
   "outputs": [],
   "source": [
    "%matplotlib inline\n",
    "from pylab import plot\n",
    "\n",
    "x = range(1,100)\n",
    "plot(x)"
   ]
  },
  {
   "cell_type": "markdown",
   "metadata": {},
   "source": [
    "## Experiment 2"
   ]
  },
  {
   "cell_type": "code",
   "execution_count": null,
   "metadata": {
    "collapsed": false
   },
   "outputs": [],
   "source": [
    "# Better make this publication ready.\n",
    "import matplotlib.pyplot as plt\n",
    "plt.xlabel('X')\n",
    "plt.ylabel('Y')\n",
    "plt.title(\"Monotonically Increasing, or is it?\")\n",
    "plt.grid(True)\n",
    "plt.plot(x,label=\"Monotonically Increasing Integers\")\n",
    "legend = plt.legend(loc='upper left', shadow=True)\n",
    "\n",
    "plt.show()\n"
   ]
  },
  {
   "cell_type": "markdown",
   "metadata": {},
   "source": [
    "# Conclusion"
   ]
  }
 ],
 "metadata": {
  "kernelspec": {
   "display_name": "Python 3",
   "language": "python",
   "name": "python3"
  },
  "language_info": {
   "codemirror_mode": {
    "name": "ipython",
    "version": 3
   },
   "file_extension": ".py",
   "mimetype": "text/x-python",
   "name": "python",
   "nbconvert_exporter": "python",
   "pygments_lexer": "ipython3",
   "version": "3.5.2"
  }
 },
 "nbformat": 4,
 "nbformat_minor": 0
}
