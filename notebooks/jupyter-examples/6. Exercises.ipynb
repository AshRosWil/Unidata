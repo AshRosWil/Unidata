{
 "cells": [
  {
   "cell_type": "markdown",
   "metadata": {},
   "source": [
    "# Exercise 1 - A little bit of Python\n",
    "\n",
    "1. Change the next cell from `markdown` to `code.`\n",
    "2. Write a one-line program to print your name.\n",
    "3. Run the cell."
   ]
  },
  {
   "cell_type": "markdown",
   "metadata": {},
   "source": [
    "Change Me"
   ]
  },
  {
   "cell_type": "markdown",
   "metadata": {},
   "source": [
    "# Exercise 2 - A little bit of Markdown\n",
    "\n",
    "1. Change the following cell from `raw` to `markdown`.\n",
    "2. Create a new section with an `H1` header.\n",
    "3. Within this section, create both an *ordered* and an *unordered* list in the section.\n",
    "4. At the bottom, create a *references* subsection and insert a link to a web page of your choosing.\n",
    "\n",
    "[See the notebook on Markdown if you need help remembering the syntax](1. Markdown.ipynb)"
   ]
  },
  {
   "cell_type": "raw",
   "metadata": {},
   "source": [
    "Change Me"
   ]
  },
  {
   "cell_type": "markdown",
   "metadata": {},
   "source": [
    "# Exercise 3 - Embedded LaTeX in Markdown\n",
    "\n",
    "1. Change the next cell from `code` to `markdown`.\n",
    "2. Copy the following lines into the cell and run it.  \n",
    "\n",
    "### A Cross-Product Formula\n",
    "\n",
    "```\n",
    "\\begin{equation*} \\mathbf{V}_1 \\times \\mathbf{V}_2 = \\begin{vmatrix} \\mathbf{i} & \\mathbf{j} & \\mathbf{k} \\\\ \n",
    "\\frac{\\partial X}{\\partial u} & \\frac{\\partial Y}{\\partial u} & 0 \\\\ \n",
    "\\frac{\\partial X}{\\partial v} & \\frac{\\partial Y}{\\partial v} & 0 \\end{vmatrix} \\end{equation*}\n",
    "```"
   ]
  },
  {
   "cell_type": "code",
   "execution_count": null,
   "metadata": {
    "collapsed": true
   },
   "outputs": [],
   "source": [
    "x=\"Change this to markdown and render embedded LaTeX\""
   ]
  },
  {
   "cell_type": "markdown",
   "metadata": {},
   "source": [
    "> Examples adapted from [NBViewer Examples](http://nbviewer.ipython.org/github/ipython/ipython/blob/2.x/examples/Notebook/Typesetting%20Math%20Using%20MathJax.ipynb)."
   ]
  }
 ],
 "metadata": {
  "kernelspec": {
   "display_name": "Python 3",
   "language": "python",
   "name": "python3"
  },
  "language_info": {
   "codemirror_mode": {
    "name": "ipython",
    "version": 3
   },
   "file_extension": ".py",
   "mimetype": "text/x-python",
   "name": "python",
   "nbconvert_exporter": "python",
   "pygments_lexer": "ipython3",
   "version": "3.5.2"
  }
 },
 "nbformat": 4,
 "nbformat_minor": 0
}
