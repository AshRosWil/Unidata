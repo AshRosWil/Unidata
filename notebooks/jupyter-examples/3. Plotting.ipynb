{
 "cells": [
  {
   "cell_type": "markdown",
   "metadata": {},
   "source": [
    "# 1. Plotting Examples"
   ]
  },
  {
   "cell_type": "code",
   "execution_count": null,
   "metadata": {
    "collapsed": false
   },
   "outputs": [],
   "source": [
    "%matplotlib inline\n",
    "from numpy import sin,cos,pi,linspace\n",
    "from pylab import plot\n",
    "\n",
    "# Play with these number and ignore the rest\n",
    "R = 10\n",
    "r = 0.4\n",
    "O = 12\n",
    "\n",
    "t = linspace(-pi,pi,3000)\n",
    "x = (R+r)*cos(t) - (r+O)*cos(((R+r)/r)*t)\n",
    "y = (R+r)*sin(t) - (r+O)*sin(((R+r)/r)*t)\n",
    "plot(x,y)"
   ]
  },
  {
   "cell_type": "code",
   "execution_count": null,
   "metadata": {
    "collapsed": false
   },
   "outputs": [],
   "source": [
    "?linspace"
   ]
  },
  {
   "cell_type": "code",
   "execution_count": null,
   "metadata": {
    "collapsed": false
   },
   "outputs": [],
   "source": [
    "%matplotlib inline\n",
    "from numpy import sin,cos,pi,linspace\n",
    "from pylab import plot\n",
    "\n",
    "# Play with these number and ignore the rest\n",
    "R = 10\n",
    "r = 0.4\n",
    "O = 12\n",
    "\n",
    "t = linspace(-pi,pi,30)\n",
    "x = (R+r)*cos(t) - (r+O)*cos(((R+r)/r)*t)\n",
    "y = (R+r)*sin(t) - (r+O)*sin(((R+r)/r)*t)\n",
    "plot(x,y)"
   ]
  },
  {
   "cell_type": "code",
   "execution_count": null,
   "metadata": {
    "collapsed": false
   },
   "outputs": [],
   "source": [
    "%matplotlib inline\n",
    "from numpy import sin,cos,pi,linspace\n",
    "from pylab import plot\n",
    "\n",
    "# Play with these number and ignore the rest\n",
    "R = 10\n",
    "r = 0.4\n",
    "O = 12\n",
    "\n",
    "t = linspace(-pi/2,pi,3000)\n",
    "x = (R+r)*cos(t) - (r+O)*cos(((R+r)/r)*t)\n",
    "y = (R+r)*sin(t) - (r+O)*sin(((R+r)/r)*t)\n",
    "plot(x,y)"
   ]
  },
  {
   "cell_type": "code",
   "execution_count": null,
   "metadata": {
    "collapsed": false
   },
   "outputs": [],
   "source": [
    "delta = pi/2\n",
    "t = linspace(-pi,pi,300)\n",
    "x = sin(3 * t + delta)\n",
    "y = sin(5 * t)\n",
    "plot(x,y)"
   ]
  },
  {
   "cell_type": "markdown",
   "metadata": {},
   "source": [
    "[Next: Interactive Widgets](4. Interactive Widgets.ipynb) "
   ]
  }
 ],
 "metadata": {
  "kernelspec": {
   "display_name": "Python 3",
   "language": "python",
   "name": "python3"
  },
  "language_info": {
   "codemirror_mode": {
    "name": "ipython",
    "version": 3
   },
   "file_extension": ".py",
   "mimetype": "text/x-python",
   "name": "python",
   "nbconvert_exporter": "python",
   "pygments_lexer": "ipython3",
   "version": "3.5.2"
  }
 },
 "nbformat": 4,
 "nbformat_minor": 0
}
