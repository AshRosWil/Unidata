{
 "cells": [
  {
   "cell_type": "markdown",
   "metadata": {},
   "source": [
    "<div style=\"width:1000 px\">\n",
    "\n",
    "<div style=\"float:right; width:98 px; height:98px;\"><img src=\"https://pbs.twimg.com/profile_images/1187259618/unidata_logo_rgb_sm_400x400.png\" alt=\"Unidata Logo\" style=\"height: 98px;\"></div>\n",
    "\n",
    "<h1>Making an Interactive RGB Composite</h1>\n",
    "<h3>Unidata Python Workshop</h3>\n",
    "\n",
    "<div style=\"clear:both\"></div>\n",
    "</div>\n",
    "\n",
    "<hr style=\"height:2px;\">"
   ]
  },
  {
   "cell_type": "code",
   "execution_count": 1,
   "metadata": {},
   "outputs": [],
   "source": [
    "from datetime import datetime\n",
    "\n",
    "import cartopy.crs as ccrs\n",
    "import cartopy.feature as cfeat\n",
    "from IPython.display import display\n",
    "from ipywidgets import Dropdown, interact, fixed, Select\n",
    "from matplotlib import patheffects\n",
    "import matplotlib.pyplot as plt\n",
    "from netCDF4 import Dataset\n",
    "import numpy as np\n",
    "from scipy import interpolate\n",
    "from siphon.catalog import TDSCatalog"
   ]
  },
  {
   "cell_type": "code",
   "execution_count": 2,
   "metadata": {},
   "outputs": [],
   "source": [
    "def open_dataset(date, channel, idx, region):\n",
    "    \"\"\"\n",
    "    Open and return a netCDF Dataset object for a given date, channel, and image index\n",
    "    of GOES-16 data from THREDDS test server.\n",
    "    \"\"\"\n",
    "    cat = TDSCatalog('http://thredds-test.unidata.ucar.edu/thredds/catalog/satellite/goes16/GOES16/'\n",
    "                 '{}/Channel{:02d}/{:%Y%m%d}/catalog.xml'.format(region, channel, date))\n",
    "    ds = cat.datasets[idx].remote_access(service='OPENDAP')                     \n",
    "    return ds"
   ]
  },
  {
   "cell_type": "code",
   "execution_count": 3,
   "metadata": {},
   "outputs": [],
   "source": [
    "def plot_GOES16_channel(date, idx, channel, region):\n",
    "    \"\"\"\n",
    "    Get and plot a GOES 16 data band from the ABI.\n",
    "    \"\"\"\n",
    "    ds = open_dataset(date, channel, idx, region)\n",
    "    x = ds.variables['x'][:]\n",
    "    y = ds.variables['y'][:]\n",
    "    z = ds.variables['Sectorized_CMI'][:]\n",
    "    proj_var = ds.variables[ds.variables['Sectorized_CMI'].grid_mapping]\n",
    "\n",
    "    # Create a Globe specifying a spherical earth with the correct radius\n",
    "    globe = ccrs.Globe(ellipse='sphere', semimajor_axis=proj_var.semi_major,\n",
    "                       semiminor_axis=proj_var.semi_minor)\n",
    "\n",
    "    # Select the correct projection.\n",
    "\n",
    "    if proj_var.grid_mapping_name == 'lambert_conformal_conic':\n",
    "        proj = ccrs.LambertConformal(central_longitude=proj_var.longitude_of_central_meridian,\n",
    "                                     central_latitude=proj_var.latitude_of_projection_origin,\n",
    "                                     standard_parallels=[proj_var.standard_parallel],\n",
    "                                     globe=globe)\n",
    "\n",
    "    else:\n",
    "        proj = ccrs.Mercator(central_longitude=proj_var.longitude_of_projection_origin, \n",
    "                             latitude_true_scale=proj_var.standard_parallel,\n",
    "                             globe=globe)\n",
    "\n",
    "\n",
    "    # Set up a feature for the state/province lines. Tell cartopy not to fill in the polygons\n",
    "    state_boundaries = cfeat.NaturalEarthFeature(category='cultural',\n",
    "                                                 name='admin_1_states_provinces_lakes',\n",
    "                                                 scale='50m', facecolor='none')\n",
    "\n",
    "    fig = plt.figure(figsize=(10, 10))\n",
    "    ax = fig.add_subplot(1, 1, 1, projection=proj)\n",
    "    ax.coastlines(resolution='50m', color='black')\n",
    "    ax.add_feature(state_boundaries, linestyle=':', edgecolor='black')\n",
    "    ax.add_feature(cfeat.BORDERS, linewidth='2', edgecolor='black')\n",
    "\n",
    "    for im in ax.images:\n",
    "        im.remove()\n",
    "    im = ax.imshow(z, extent=(x.min(), x.max(), y.min(), y.max()), origin='upper')\n",
    "    timestamp = datetime.strptime(ds.start_date_time, '%Y%j%H%M%S')\n",
    "    # Add text (aligned to the right); save the returned object so we can manipulate it.\n",
    "    text_time = ax.text(0.99, 0.01, timestamp.strftime('%d %B %Y %H%MZ'),\n",
    "                   horizontalalignment='right', transform=ax.transAxes,\n",
    "                   color='white', fontsize='x-large', weight='bold')\n",
    "\n",
    "    text_channel = ax.text(0.5, 0.94, 'Channel {}'.format(channel),\n",
    "                   horizontalalignment='center', transform=ax.transAxes,\n",
    "                   color='white', fontsize='large', weight='bold')\n",
    "    \n",
    "    text_experimental = ax.text(0.5, 0.97, 'Experimental GOES-16 Data',\n",
    "               horizontalalignment='center', transform=ax.transAxes,\n",
    "               color='white', fontsize='large', weight='bold')\n",
    "\n",
    "    # Make the text stand out even better using matplotlib's path effects\n",
    "    # Make the text stand out even better using matplotlib's path effects\n",
    "    outline_effect = [patheffects.withStroke(linewidth=2, foreground='black')]\n",
    "    text_time.set_path_effects(outline_effect)\n",
    "    text_channel.set_path_effects(outline_effect)\n",
    "    text_experimental.set_path_effects(outline_effect)\n",
    "    display(fig)\n",
    "    plt.close()"
   ]
  },
  {
   "cell_type": "code",
   "execution_count": 4,
   "metadata": {},
   "outputs": [
    {
     "data": {
      "application/vnd.jupyter.widget-view+json": {
       "model_id": "804bffa60a0f4b789f806398f11cb232",
       "version_major": 2,
       "version_minor": 0
      },
      "text/html": [
       "<p>Failed to display Jupyter Widget of type <code>interactive</code>.</p>\n",
       "<p>\n",
       "  If you're reading this message in Jupyter Notebook or JupyterLab, it may mean\n",
       "  that the widgets JavaScript is still loading. If this message persists, it\n",
       "  likely means that the widgets JavaScript library is either not installed or\n",
       "  not enabled. See the <a href=\"https://ipywidgets.readthedocs.io/en/stable/user_install.html\">Jupyter\n",
       "  Widgets Documentation</a> for setup instructions.\n",
       "</p>\n",
       "<p>\n",
       "  If you're reading this message in another notebook frontend (for example, a static\n",
       "  rendering on GitHub or <a href=\"https://nbviewer.jupyter.org/\">NBViewer</a>),\n",
       "  it may mean that your frontend doesn't currently support widgets.\n",
       "</p>\n"
      ],
      "text/plain": [
       "interactive(children=(Dropdown(description='Channel:', index=8, options={'1 - Blue Band 0.47 μm': 1, '2 - Red Band 0.64 μm': 2, '3 - Veggie Band 0.86 μm': 3, '4 - Cirrus Band 1.37 μm': 4, '5 - Snow/Ice Band 1.6 μm': 5, '6 - Cloud Particle Size Band 2.2 μm': 6, '7 - Shortwave Window Band 3.9 μm': 7, '8 - Upper-Level Tropo. WV Band 6.2 μm': 8, '9 - Mid-Level Tropo. WV Band 6.9 μm': 9, '10 - Low-Level WV Band 7.3 μm': 10, '11 - Cloud-Top Phase Band 8.4 μm': 11, '12 - Ozone Band 9.6 μm': 12, '13 - Clean IR Longwave Band 10.3 μm': 13, '14 - IR Longwave Band 11.2 μm': 14, '15 - Dirty Longwave Band 12.3 μm': 15, '16 - CO2 Longwave IR 13.3 μm': 16}, value=9), Select(description='Region:', options=('Mesoscale-1', 'Mesoscale-2', 'CONUS'), value='Mesoscale-1'), Output()), _dom_classes=('widget-interact',))"
      ]
     },
     "metadata": {},
     "output_type": "display_data"
    },
    {
     "data": {
      "text/plain": [
       "<function __main__.plot_GOES16_channel>"
      ]
     },
     "execution_count": 4,
     "metadata": {},
     "output_type": "execute_result"
    }
   ],
   "source": [
    "channel_list = {u'1 - Blue Band 0.47 \\u03BCm': 1,\n",
    "                u'2 - Red Band 0.64 \\u03BCm': 2,\n",
    "                u'3 - Veggie Band 0.86 \\u03BCm': 3,\n",
    "                u'4 - Cirrus Band 1.37 \\u03BCm': 4,\n",
    "                u'5 - Snow/Ice Band 1.6 \\u03BCm': 5,\n",
    "                u'6 - Cloud Particle Size Band 2.2 \\u03BCm': 6,\n",
    "                u'7 - Shortwave Window Band 3.9 \\u03BCm': 7,\n",
    "                u'8 - Upper-Level Tropo. WV Band 6.2 \\u03BCm': 8,\n",
    "                u'9 - Mid-Level Tropo. WV Band 6.9 \\u03BCm': 9,\n",
    "                u'10 - Low-Level WV Band 7.3 \\u03BCm': 10,\n",
    "                u'11 - Cloud-Top Phase Band 8.4 \\u03BCm': 11,\n",
    "                u'12 - Ozone Band 9.6 \\u03BCm': 12,\n",
    "                u'13 - Clean IR Longwave Band 10.3 \\u03BCm': 13,\n",
    "                u'14 - IR Longwave Band 11.2 \\u03BCm': 14,\n",
    "                u'15 - Dirty Longwave Band 12.3 \\u03BCm': 15,\n",
    "                u'16 - CO2 Longwave IR 13.3 \\u03BCm': 16}\n",
    "\n",
    "region = Select(\n",
    "    options=['Mesoscale-1', 'Mesoscale-2', 'CONUS'],\n",
    "    description='Region:',\n",
    ")\n",
    "\n",
    "channel = Dropdown(\n",
    "    options=channel_list,\n",
    "    value=9,\n",
    "    description='Channel:',\n",
    ")\n",
    "\n",
    "date = datetime.utcnow()\n",
    "interact(plot_GOES16_channel, date=fixed(date), idx=fixed(-2), \n",
    "         channel=channel, region=region)"
   ]
  },
  {
   "cell_type": "code",
   "execution_count": null,
   "metadata": {},
   "outputs": [],
   "source": []
  }
 ],
 "metadata": {
  "kernelspec": {
   "display_name": "Python 3",
   "language": "python",
   "name": "python3"
  },
  "language_info": {
   "codemirror_mode": {
    "name": "ipython",
    "version": 3
   },
   "file_extension": ".py",
   "mimetype": "text/x-python",
   "name": "python",
   "nbconvert_exporter": "python",
   "pygments_lexer": "ipython3",
   "version": "3.6.2"
  }
 },
 "nbformat": 4,
 "nbformat_minor": 2
}
