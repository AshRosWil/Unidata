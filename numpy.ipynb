{
 "metadata": {
  "name": "numpy"
 }, 
 "nbformat": 2, 
 "worksheets": [
  {
   "cells": [
    {
     "cell_type": "markdown", 
     "source": [
      "## numpy", 
      "", 
      "numpy (pronounced \"num pie\" or \"num pee\") is a library that enables scientific programming in Python. ", 
      "", 
      "Features:", 
      "- Has facilities for n-dimensional array based calculations similar to Fortran and IDL.", 
      "- The core Python language avoids the use of primitive type arrays which is why we need numpy."
     ]
    }, 
    {
     "cell_type": "code", 
     "collapsed": false, 
     "input": [
      "To start with numpy import numpy into your program with "
     ], 
     "language": "python", 
     "outputs": []
    }, 
    {
     "cell_type": "code", 
     "collapsed": true, 
     "input": [
      "import numpy as np"
     ], 
     "language": "python", 
     "outputs": [], 
     "prompt_number": 1
    }, 
    {
     "cell_type": "markdown", 
     "source": [
      "Let's first define a simple 1-dimensional array."
     ]
    }, 
    {
     "cell_type": "code", 
     "collapsed": false, 
     "input": [
      "a = np.array([3, -5, 8])", 
      "a"
     ], 
     "language": "python", 
     "outputs": [
      {
       "output_type": "pyout", 
       "prompt_number": 2, 
       "text": [
        "array([ 3, -5,  8])"
       ]
      }
     ], 
     "prompt_number": 2
    }, 
    {
     "cell_type": "markdown", 
     "source": [
      "Now a 2-dimensional array"
     ]
    }, 
    {
     "cell_type": "code", 
     "collapsed": false, 
     "input": [
      "b = np.array([[3,5,8],[7,-1,2],[11,6,9]])", 
      "b"
     ], 
     "language": "python", 
     "outputs": [
      {
       "output_type": "pyout", 
       "prompt_number": 34, 
       "text": [
        "array([[ 3,  5,  8],", 
        "       [ 7, -1,  2],", 
        "       [11,  6,  9]])"
       ]
      }
     ], 
     "prompt_number": 34
    }, 
    {
     "cell_type": "markdown", 
     "source": [
      "## More on indexing and multidimensional arrays.", 
      "", 
      "- In the last section, we learned about various indexing stategies .", 
      "- That syntax is valid for arrays, as well.", 
      "- We'll expand with a few additional indexing strategies. "
     ]
    }, 
    {
     "cell_type": "markdown", 
     "source": [
      "If you want to get the first row:"
     ]
    }, 
    {
     "cell_type": "code", 
     "collapsed": false, 
     "input": [
      "b[0,:]"
     ], 
     "language": "python", 
     "outputs": [
      {
       "output_type": "pyout", 
       "prompt_number": 35, 
       "text": [
        "array([3, 5, 8])"
       ]
      }
     ], 
     "prompt_number": 35
    }, 
    {
     "cell_type": "markdown", 
     "source": [
      "If you want to get the first column:"
     ]
    }, 
    {
     "cell_type": "code", 
     "collapsed": false, 
     "input": [
      "b[:,0]"
     ], 
     "language": "python", 
     "outputs": [
      {
       "output_type": "pyout", 
       "prompt_number": 41, 
       "text": [
        "array([ 3,  7, 11])"
       ]
      }
     ], 
     "prompt_number": 41
    }
   ]
  }
 ]
}