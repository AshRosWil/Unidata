{
 "metadata": {
  "name": "numpy"
 },
 "nbformat": 3,
 "nbformat_minor": 0,
 "worksheets": [
  {
   "cells": [
    {
     "cell_type": "markdown",
     "source": [
      "# numpy\n",
      "\n",
      "numpy (pronounced \"num pie\" or \"num pee\") is a library that enables scientific programming in Python. \n",
      "\n",
      "Features:\n",
      "\n",
      "- Facilities for n-dimensional array based calculations similar to Fortran and IDL.\n",
      "- A set of mathematical functions to act on scalars and arrays.\n",
      "\n",
      "Other comments:\n",
      "\n",
      "- The core Python language eschews primitive type numeric arrays which is why we need numpy."
     ]
    },
    {
     "cell_type": "markdown",
     "source": [
      "To start with numpy import numpy into your program with "
     ]
    },
    {
     "cell_type": "code",
     "collapsed": true,
     "input": [
      "import numpy as np"
     ],
     "language": "python",
     "outputs": [],
     "prompt_number": 1
    },
    {
     "cell_type": "markdown",
     "source": [
      "- Let's first define a simple 1-dimensional array.\n",
      "- Note the array is being created from a list.\n",
      "- It is not possible to mix types (e.g., strings and ints) in a numpy array."
     ]
    },
    {
     "cell_type": "code",
     "collapsed": false,
     "input": [
      "a = np.array([3, -5, 8])\n",
      "a"
     ],
     "language": "python",
     "outputs": [
      {
       "output_type": "pyout",
       "prompt_number": 2,
       "text": [
        "array([ 3, -5,  8])"
       ]
      }
     ],
     "prompt_number": 2
    },
    {
     "cell_type": "markdown",
     "source": [
      "It is possible to specify a type when defining the array."
     ]
    },
    {
     "cell_type": "code",
     "collapsed": false,
     "input": [
      "a = np.array([7,9,-3], dtype=complex)\n",
      "a"
     ],
     "language": "python",
     "outputs": [
      {
       "output_type": "pyout",
       "prompt_number": 16,
       "text": [
        "array([ 7.+0.j,  9.+0.j, -3.+0.j])"
       ]
      }
     ],
     "prompt_number": 16
    },
    {
     "cell_type": "markdown",
     "source": [
      "- Here is an example of a 2d array.\n",
      "- Numeric n-dimensional arrays must rectangular in shape (i.e., not jagged)."
     ]
    },
    {
     "cell_type": "code",
     "collapsed": false,
     "input": [
      "a = np.array([[3,5,8,1],[7,-1,2,3],[11,6,7,4]], dtype=int64)\n",
      "a"
     ],
     "language": "python",
     "outputs": [
      {
       "output_type": "pyout",
       "prompt_number": 14,
       "text": [
        "array([[ 3,  5,  8,  1],\n",
        "       [ 7, -1,  2,  3],\n",
        "       [11,  6,  7,  4]])"
       ]
      }
     ],
     "prompt_number": 14
    },
    {
     "cell_type": "markdown",
     "source": [
      "## Array Attributes\n",
      "\n",
      "- Note that numpy arrays are actually \"ndarray\" objects so we can access their attributes."
     ]
    },
    {
     "cell_type": "code",
     "collapsed": false,
     "input": [
      "a.ndim # The number of axes (dimensions) in the array, also known as the rank."
     ],
     "language": "python",
     "outputs": [
      {
       "output_type": "pyout",
       "prompt_number": 34,
       "text": [
        "2"
       ]
      }
     ],
     "prompt_number": 34
    },
    {
     "cell_type": "code",
     "collapsed": false,
     "input": [
      "a.shape # The dimension of an individual axis."
     ],
     "language": "python",
     "outputs": [
      {
       "output_type": "pyout",
       "prompt_number": 35,
       "text": [
        "(3, 4)"
       ]
      }
     ],
     "prompt_number": 35
    },
    {
     "cell_type": "code",
     "collapsed": false,
     "input": [
      "a.size # The number of elements in the array."
     ],
     "language": "python",
     "outputs": [
      {
       "output_type": "pyout",
       "prompt_number": 36,
       "text": [
        "12"
       ]
      }
     ],
     "prompt_number": 36
    },
    {
     "cell_type": "code",
     "collapsed": false,
     "input": [
      "a.dtype # And the type of the elements in the array."
     ],
     "language": "python",
     "outputs": [
      {
       "output_type": "pyout",
       "prompt_number": 37,
       "text": [
        "dtype('int64')"
       ]
      }
     ],
     "prompt_number": 37
    },
    {
     "cell_type": "markdown",
     "source": [
      "## More on Numpy Array Creation\n",
      "\n",
      "- So far we have created numpy arrays from Python lists.\n",
      "- numpy offers several other array creation mechanisms"
     ]
    },
    {
     "cell_type": "code",
     "collapsed": false,
     "input": [
      "np.arange(10) # Simple nuber range from 0 to 9"
     ],
     "language": "python",
     "outputs": [
      {
       "output_type": "pyout",
       "prompt_number": 5,
       "text": [
        "array([0, 1, 2, 3, 4, 5, 6, 7, 8, 9])"
       ]
      }
     ],
     "prompt_number": 5
    },
    {
     "cell_type": "code",
     "collapsed": false,
     "input": [
      "np.arange(10,100,10,dtype=float) #The argument tuple is start, stop, step, dtype"
     ],
     "language": "python",
     "outputs": [
      {
       "output_type": "pyout",
       "prompt_number": 6,
       "text": [
        "array([ 10.,  20.,  30.,  40.,  50.,  60.,  70.,  80.,  90.])"
       ]
      }
     ],
     "prompt_number": 6
    },
    {
     "cell_type": "code",
     "collapsed": false,
     "input": [
      "np.zeros((2,3)) # Create a n-dimensional array of zeros"
     ],
     "language": "python",
     "outputs": [
      {
       "output_type": "pyout",
       "prompt_number": 3,
       "text": [
        "array([[ 0.,  0.,  0.],\n",
        "       [ 0.,  0.,  0.]])"
       ]
      }
     ],
     "prompt_number": 3
    },
    {
     "cell_type": "code",
     "collapsed": false,
     "input": [
      "np.ones((3,2)) # Create a n-dimensional array of ones."
     ],
     "language": "python",
     "outputs": [
      {
       "output_type": "pyout",
       "prompt_number": 7,
       "text": [
        "array([[ 1.,  1.],\n",
        "       [ 1.,  1.],\n",
        "       [ 1.,  1.]])"
       ]
      }
     ],
     "prompt_number": 7
    },
    {
     "cell_type": "code",
     "collapsed": false,
     "input": [
      "np.empty((2,2)) # check out the strange numbers"
     ],
     "language": "python",
     "outputs": [
      {
       "output_type": "pyout",
       "prompt_number": 31,
       "text": [
        "array([[  2.31584178e+077,   1.72723382e-077],\n",
        "       [  2.28774433e-314,   2.78134370e-309]])"
       ]
      }
     ],
     "prompt_number": 31
    },
    {
     "cell_type": "markdown",
     "source": [
      "`linspace` allows you to sample values along a range."
     ]
    },
    {
     "cell_type": "code",
     "collapsed": false,
     "input": [
      "np.linspace(7,27,12) # The argument tuple is start, stop(inclusive), sampling number"
     ],
     "language": "python",
     "outputs": [
      {
       "output_type": "pyout",
       "prompt_number": 9,
       "text": [
        "array([  7.        ,   8.81818182,  10.63636364,  12.45454545,\n",
        "        14.27272727,  16.09090909,  17.90909091,  19.72727273,\n",
        "        21.54545455,  23.36363636,  25.18181818,  27.        ])"
       ]
      }
     ],
     "prompt_number": 9
    },
    {
     "cell_type": "markdown",
     "source": [
      "Can sample logarithmically too."
     ]
    },
    {
     "cell_type": "code",
     "collapsed": false,
     "input": [
      "np.logspace(2.0, 3.0, num=4) # The argument tuple is base start, base stop, sampling number"
     ],
     "language": "python",
     "outputs": [
      {
       "output_type": "pyout",
       "prompt_number": 20,
       "text": [
        "array([  100.        ,   215.443469  ,   464.15888336,  1000.        ])"
       ]
      }
     ],
     "prompt_number": 20
    },
    {
     "cell_type": "code",
     "collapsed": false,
     "input": [
      "np.indices((2,3)) #Create an array of indices where the sub-arrays represent the index along a certain axis. "
     ],
     "language": "python",
     "outputs": [
      {
       "output_type": "pyout",
       "prompt_number": 11,
       "text": [
        "array([[[0, 0, 0],\n",
        "        [1, 1, 1]],\n",
        "\n",
        "       [[0, 1, 2],\n",
        "        [0, 1, 2]]])"
       ]
      }
     ],
     "prompt_number": 11
    },
    {
     "cell_type": "markdown",
     "source": [
      "## More on indexing and slicing of multidimensional arrays.\n",
      "\n",
      "- In the last section, we learned about various indexing and slicing strategies.\n",
      "- The syntax is valid for arrays, as well.\n",
      "- We'll expand with a few additional indexing strategies. \n",
      "- numpy really has its own concise indexing and slicing \"domain specific language\""
     ]
    },
    {
     "cell_type": "code",
     "collapsed": false,
     "input": [
      "a = np.random.randint(17, size=(4, 4)) # Yet another way of creating an array, this time of random elements.\n",
      "a"
     ],
     "language": "python",
     "outputs": [
      {
       "output_type": "pyout",
       "prompt_number": 9,
       "text": [
        "array([[11,  7,  1,  2],\n",
        "       [11, 12, 10,  2],\n",
        "       [ 7, 15,  8, 16],\n",
        "       [11, 11, 11,  9]])"
       ]
      }
     ],
     "prompt_number": 9
    },
    {
     "cell_type": "markdown",
     "source": [
      "If you want to get the first row:"
     ]
    },
    {
     "cell_type": "code",
     "collapsed": false,
     "input": [
      "a[0,:]"
     ],
     "language": "python",
     "outputs": [
      {
       "output_type": "pyout",
       "prompt_number": 10,
       "text": [
        "array([11,  7,  1,  2])"
       ]
      }
     ],
     "prompt_number": 10
    },
    {
     "cell_type": "markdown",
     "source": [
      "If you want to get the last column:"
     ]
    },
    {
     "cell_type": "code",
     "collapsed": false,
     "input": [
      "a[:,-1] # Wow! Negative indices wrap to the end. Pretty slick."
     ],
     "language": "python",
     "outputs": [
      {
       "output_type": "pyout",
       "prompt_number": 32,
       "text": [
        "array([ 2,  2, 16,  9])"
       ]
      }
     ],
     "prompt_number": 32
    },
    {
     "cell_type": "markdown",
     "source": [
      "There are many other fancy tricks for slicing and dicing arrays."
     ]
    },
    {
     "cell_type": "markdown",
     "source": [
      "## Math, math and more math\n",
      "\n",
      "- numpy has an extensive collection of mathematical functions.\n",
      "- trigonometry, FFT, linear algebra, statistics, the list goes on.\n",
      "- we will cover < 1%"
     ]
    },
    {
     "cell_type": "markdown",
     "source": [
      "### Elementwise operations with scalars."
     ]
    },
    {
     "cell_type": "code",
     "collapsed": false,
     "input": [
      "a*2"
     ],
     "language": "python",
     "outputs": [
      {
       "output_type": "pyout",
       "prompt_number": 15,
       "text": [
        "array([[22, 14,  2,  4],\n",
        "       [22, 24, 20,  4],\n",
        "       [14, 30, 16, 32],\n",
        "       [22, 22, 22, 18]])"
       ]
      }
     ],
     "prompt_number": 15
    },
    {
     "cell_type": "markdown",
     "source": [
      "### Elementwise operations with functions"
     ]
    },
    {
     "cell_type": "code",
     "collapsed": false,
     "input": [
      "np.sqrt(a)"
     ],
     "language": "python",
     "outputs": [
      {
       "output_type": "pyout",
       "prompt_number": 16,
       "text": [
        "array([[ 3.31662479,  2.64575131,  1.        ,  1.41421356],\n",
        "       [ 3.31662479,  3.46410162,  3.16227766,  1.41421356],\n",
        "       [ 2.64575131,  3.87298335,  2.82842712,  4.        ],\n",
        "       [ 3.31662479,  3.31662479,  3.31662479,  3.        ]])"
       ]
      }
     ],
     "prompt_number": 16
    },
    {
     "cell_type": "markdown",
     "source": [
      "### Array multiplication is **not** matrix multiplication\n"
     ]
    },
    {
     "cell_type": "code",
     "collapsed": false,
     "input": [
      "a * a"
     ],
     "language": "python",
     "outputs": [
      {
       "output_type": "pyout",
       "prompt_number": 18,
       "text": [
        "array([[121,  49,   1,   4],\n",
        "       [121, 144, 100,   4],\n",
        "       [ 49, 225,  64, 256],\n",
        "       [121, 121, 121,  81]])"
       ]
      }
     ],
     "prompt_number": 18
    },
    {
     "cell_type": "markdown",
     "source": [
      "### Matrix Multiplication with Numpy"
     ]
    },
    {
     "cell_type": "code",
     "collapsed": false,
     "input": [
      "x = np.arange(9).reshape((3,3))\n",
      "y = np.arange(3)\n",
      "\n",
      "B = np.mat(x) #cast as matrix\n",
      "C = np.mat(y).T\n",
      "\n",
      "print(B * C)\n"
     ],
     "language": "python",
     "outputs": [
      {
       "output_type": "stream",
       "stream": "stdout",
       "text": [
        "[[ 5]\n",
        " [14]\n",
        " [23]]\n"
       ]
      }
     ],
     "prompt_number": 1
    }
   ]
  }
 ]
}