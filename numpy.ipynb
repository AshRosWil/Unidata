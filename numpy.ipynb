{
 "metadata": {
  "name": "numpy"
 }, 
 "nbformat": 2, 
 "worksheets": [
  {
   "cells": [
    {
     "cell_type": "markdown", 
     "source": [
      "## numpy", 
      "", 
      "numpy (pronounced \"num pie\" or \"num pee\") is a library that enables scientific programming in Python. ", 
      "In particular, numpy has facilities for n-dimensional array based calcucations.", 
      "", 
      "To start with numpy import numpy into your program with "
     ]
    }, 
    {
     "cell_type": "code", 
     "collapsed": true, 
     "input": [
      "import numpy as np"
     ], 
     "language": "python", 
     "outputs": []
    }, 
    {
     "cell_type": "markdown", 
     "source": [
      "Let's first define a simple 1-dimensional array."
     ]
    }, 
    {
     "cell_type": "code", 
     "collapsed": false, 
     "input": [
      "a = np.array([3, -5, 8])", 
      "print(a)"
     ], 
     "language": "python", 
     "outputs": [
      {
       "output_type": "stream", 
       "stream": "stdout", 
       "text": [
        "[ 3 -5  8]"
       ]
      }
     ], 
     "prompt_number": 4
    }, 
    {
     "cell_type": "markdown", 
     "source": [
      "####Ranges of indices", 
      "", 
      "* a colon is used to specify a range of indices", 
      "* the syntax is `[m:n]`", 
      "* m is the starting position (remember, indices start a zero)", 
      "* n is the last position exclusive."
     ]
    }, 
    {
     "cell_type": "code", 
     "collapsed": false, 
     "input": [
      "c = np.array([0, 1, 2, 3, 4, 5, 6, 7, 8, 9])", 
      "print(c)", 
      "c[2:6]"
     ], 
     "language": "python", 
     "outputs": [
      {
       "output_type": "stream", 
       "stream": "stdout", 
       "text": [
        "[0 1 2 3 4 5 6 7 8 9]"
       ]
      }, 
      {
       "output_type": "pyout", 
       "prompt_number": 9, 
       "text": [
        "array([2, 3, 4, 5])"
       ]
      }
     ], 
     "prompt_number": 9
    }, 
    {
     "cell_type": "markdown", 
     "source": [
      "You can leave out `m` to just have a range of indices with the syntax ", 
      "", 
      "    :n", 
      "", 
      "you will get all elements from the beginning of the array n (exclusive).|"
     ]
    }, 
    {
     "cell_type": "code", 
     "collapsed": false, 
     "input": [
      "c[:3]"
     ], 
     "language": "python", 
     "outputs": [
      {
       "output_type": "pyout", 
       "prompt_number": 10, 
       "text": [
        "array([0, 1, 2])"
       ]
      }
     ], 
     "prompt_number": 10
    }, 
    {
     "cell_type": "markdown", 
     "source": [
      "Or you can leave out the n to go from the m position to the end of the array"
     ]
    }, 
    {
     "cell_type": "code", 
     "collapsed": false, 
     "input": [
      "c[3:]"
     ], 
     "language": "python", 
     "outputs": [
      {
       "output_type": "pyout", 
       "prompt_number": 12, 
       "text": [
        "array([3, 4, 5, 6, 7, 8, 9])"
       ]
      }
     ], 
     "prompt_number": 12
    }, 
    {
     "cell_type": "markdown", 
     "source": [
      "#### 2-dimensional arrays"
     ]
    }, 
    {
     "cell_type": "code", 
     "collapsed": false, 
     "input": [
      "b = np.array([[ 3, -5,  8], [-7,  6,  9], [ 2,  5, -3]])", 
      "print(b)"
     ], 
     "language": "python", 
     "outputs": [
      {
       "output_type": "stream", 
       "stream": "stdout", 
       "text": [
        "[[ 3 -5  8]", 
        " [-7  6  9]", 
        " [ 2  5 -3]]"
       ]
      }
     ], 
     "prompt_number": 14
    }, 
    {
     "cell_type": "code", 
     "collapsed": true, 
     "input": [], 
     "language": "python", 
     "outputs": []
    }
   ]
  }
 ]
}