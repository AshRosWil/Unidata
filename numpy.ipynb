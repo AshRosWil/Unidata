{
 "metadata": {
  "name": "numpy"
 }, 
 "nbformat": 2, 
 "worksheets": [
  {
   "cells": [
    {
     "cell_type": "markdown", 
     "source": [
      "# numpy", 
      "", 
      "numpy (pronounced \"num pie\" or \"num pee\") is a library that enables scientific programming in Python. ", 
      "", 
      "Features:", 
      "", 
      "- Has facilities for n-dimensional array based calculations similar to Fortran and IDL.", 
      "- A set of mathematical functions to act on scalars and arrays.", 
      "", 
      "Other comments:", 
      "", 
      "- The core Python language eschews primitive type arrays which is why we need numpy."
     ]
    }, 
    {
     "cell_type": "markdown", 
     "source": [
      "To start with numpy import numpy into your program with "
     ]
    }, 
    {
     "cell_type": "code", 
     "collapsed": true, 
     "input": [
      "import numpy as np"
     ], 
     "language": "python", 
     "outputs": [], 
     "prompt_number": 1
    }, 
    {
     "cell_type": "markdown", 
     "source": [
      "- Let's first define a simple 1-dimensional array.", 
      "- Note the array is being created from a list.", 
      "- It is not possible to mix types (e.g., string and ints) in a numpy array."
     ]
    }, 
    {
     "cell_type": "code", 
     "collapsed": false, 
     "input": [
      "a = np.array([3, -5, 8])", 
      "a"
     ], 
     "language": "python", 
     "outputs": [
      {
       "output_type": "pyout", 
       "prompt_number": 2, 
       "text": [
        "array([ 3, -5,  8])"
       ]
      }
     ], 
     "prompt_number": 2
    }, 
    {
     "cell_type": "markdown", 
     "source": [
      "It is possible to specify a type when defining the array."
     ]
    }, 
    {
     "cell_type": "code", 
     "collapsed": false, 
     "input": [
      "a = np.array([7,9,-3], dtype=complex)", 
      "a"
     ], 
     "language": "python", 
     "outputs": [
      {
       "output_type": "pyout", 
       "prompt_number": 16, 
       "text": [
        "array([ 7.+0.j,  9.+0.j, -3.+0.j])"
       ]
      }
     ], 
     "prompt_number": 16
    }, 
    {
     "cell_type": "markdown", 
     "source": [
      "- Here is an example of a 2d array.", 
      "- Numeric n-dimensional arrays must rectangular in shape (i.e., not jagged)."
     ]
    }, 
    {
     "cell_type": "code", 
     "collapsed": false, 
     "input": [
      "a = np.array([[3,5,8,1],[7,-1,2,3],[11,6,7,4]], dtype=int64)", 
      "a"
     ], 
     "language": "python", 
     "outputs": [
      {
       "output_type": "pyout", 
       "prompt_number": 14, 
       "text": [
        "array([[ 3,  5,  8,  1],", 
        "       [ 7, -1,  2,  3],", 
        "       [11,  6,  7,  4]])"
       ]
      }
     ], 
     "prompt_number": 14
    }, 
    {
     "cell_type": "markdown", 
     "source": [
      "## Array Attributes", 
      "", 
      "- Note that numpy arrays are actually \"ndarray\" objects so we can access their attributes."
     ]
    }, 
    {
     "cell_type": "code", 
     "collapsed": false, 
     "input": [
      "a.ndim # The number of axes (dimensions) in the array, also known as the rank."
     ], 
     "language": "python", 
     "outputs": [
      {
       "output_type": "pyout", 
       "prompt_number": 34, 
       "text": [
        "2"
       ]
      }
     ], 
     "prompt_number": 34
    }, 
    {
     "cell_type": "code", 
     "collapsed": false, 
     "input": [
      "a.shape # The dimension of an individual axis."
     ], 
     "language": "python", 
     "outputs": [
      {
       "output_type": "pyout", 
       "prompt_number": 35, 
       "text": [
        "(3, 4)"
       ]
      }
     ], 
     "prompt_number": 35
    }, 
    {
     "cell_type": "code", 
     "collapsed": false, 
     "input": [
      "a.size # The number of elements in the array."
     ], 
     "language": "python", 
     "outputs": [
      {
       "output_type": "pyout", 
       "prompt_number": 36, 
       "text": [
        "12"
       ]
      }
     ], 
     "prompt_number": 36
    }, 
    {
     "cell_type": "code", 
     "collapsed": false, 
     "input": [
      "a.dtype # And the type of the elements in the array."
     ], 
     "language": "python", 
     "outputs": [
      {
       "output_type": "pyout", 
       "prompt_number": 37, 
       "text": [
        "dtype('int64')"
       ]
      }
     ], 
     "prompt_number": 37
    }, 
    {
     "cell_type": "markdown", 
     "source": [
      "## More on Numpy Array Creation", 
      "", 
      "- So far we have created numpy arrays from Python lists.", 
      "- numpy offers several other array creation mechanisms"
     ]
    }, 
    {
     "cell_type": "code", 
     "collapsed": false, 
     "input": [
      "np.arange(10)"
     ], 
     "language": "python", 
     "outputs": [
      {
       "output_type": "pyout", 
       "prompt_number": 5, 
       "text": [
        "array([0, 1, 2, 3, 4, 5, 6, 7, 8, 9])"
       ]
      }
     ], 
     "prompt_number": 5
    }, 
    {
     "cell_type": "code", 
     "collapsed": false, 
     "input": [
      "np.arange(10,100,10,dtype=float) #The argument tuple is start, stop, step, dtype"
     ], 
     "language": "python", 
     "outputs": [
      {
       "output_type": "pyout", 
       "prompt_number": 6, 
       "text": [
        "array([ 10.,  20.,  30.,  40.,  50.,  60.,  70.,  80.,  90.])"
       ]
      }
     ], 
     "prompt_number": 6
    }, 
    {
     "cell_type": "code", 
     "collapsed": false, 
     "input": [
      "np.zeros((2,3)) # Create a n-dimensional array of zeros"
     ], 
     "language": "python", 
     "outputs": [
      {
       "output_type": "pyout", 
       "prompt_number": 3, 
       "text": [
        "array([[ 0.,  0.,  0.],", 
        "       [ 0.,  0.,  0.]])"
       ]
      }
     ], 
     "prompt_number": 3
    }, 
    {
     "cell_type": "code", 
     "collapsed": false, 
     "input": [
      "np.ones((3,2)) # Create a n-dimensional array of ones."
     ], 
     "language": "python", 
     "outputs": [
      {
       "output_type": "pyout", 
       "prompt_number": 7, 
       "text": [
        "array([[ 1.,  1.],", 
        "       [ 1.,  1.],", 
        "       [ 1.,  1.]])"
       ]
      }
     ], 
     "prompt_number": 7
    }, 
    {
     "cell_type": "code", 
     "collapsed": false, 
     "input": [
      "`linspace` allows you to sample values along a range."
     ], 
     "language": "python", 
     "outputs": []
    }, 
    {
     "cell_type": "code", 
     "collapsed": false, 
     "input": [
      "np.linspace(7,27,12) # The argument tuple is start, stop(inclusive), sampling number"
     ], 
     "language": "python", 
     "outputs": [
      {
       "output_type": "pyout", 
       "prompt_number": 9, 
       "text": [
        "array([  7.        ,   8.81818182,  10.63636364,  12.45454545,", 
        "        14.27272727,  16.09090909,  17.90909091,  19.72727273,", 
        "        21.54545455,  23.36363636,  25.18181818,  27.        ])"
       ]
      }
     ], 
     "prompt_number": 9
    }, 
    {
     "cell_type": "code", 
     "collapsed": false, 
     "input": [
      "np.indices((2,3)) #Create an array of indices where the sub-arrays represent the index along a certain axis. "
     ], 
     "language": "python", 
     "outputs": [
      {
       "output_type": "pyout", 
       "prompt_number": 11, 
       "text": [
        "array([[[0, 0, 0],", 
        "        [1, 1, 1]],", 
        "", 
        "       [[0, 1, 2],", 
        "        [0, 1, 2]]])"
       ]
      }
     ], 
     "prompt_number": 11
    }, 
    {
     "cell_type": "markdown", 
     "source": [
      "## More on indexing and slicing of multidimensional arrays.", 
      "", 
      "- In the last section, we learned about various indexing and slicing strategies.", 
      "- The syntax is valid for arrays, as well.", 
      "- We'll expand with a few additional indexing strategies. "
     ]
    }, 
    {
     "cell_type": "code", 
     "collapsed": false, 
     "input": [
      "a = np.random.rand(3,4) # Yet another way of creating an array, this time of random elements.", 
      "a"
     ], 
     "language": "python", 
     "outputs": [
      {
       "output_type": "pyout", 
       "prompt_number": 23, 
       "text": [
        "array([[ 0.66785238,  0.24476851,  0.61803566,  0.9085684 ],", 
        "       [ 0.26727754,  0.76980167,  0.03911827,  0.83162249],", 
        "       [ 0.02183799,  0.97658902,  0.70105838,  0.80001144]])"
       ]
      }
     ], 
     "prompt_number": 23
    }, 
    {
     "cell_type": "markdown", 
     "source": [
      "If you want to get the first row:"
     ]
    }, 
    {
     "cell_type": "code", 
     "collapsed": false, 
     "input": [
      "a[0,:]"
     ], 
     "language": "python", 
     "outputs": [
      {
       "output_type": "pyout", 
       "prompt_number": 24, 
       "text": [
        "array([ 0.66785238,  0.24476851,  0.61803566,  0.9085684 ])"
       ]
      }
     ], 
     "prompt_number": 24
    }, 
    {
     "cell_type": "markdown", 
     "source": [
      "If you want to get the first column:"
     ]
    }, 
    {
     "cell_type": "code", 
     "collapsed": false, 
     "input": [
      "a[:,0]"
     ], 
     "language": "python", 
     "outputs": [
      {
       "output_type": "pyout", 
       "prompt_number": 25, 
       "text": [
        "array([ 0.66785238,  0.26727754,  0.02183799])"
       ]
      }
     ], 
     "prompt_number": 25
    }, 
    {
     "cell_type": "code", 
     "collapsed": false, 
     "input": [
      "## Math, math and more math", 
      "", 
      "- numpy has an extensive collection of mathematical functions", 
      "- trigonometry, fft, linear algebra, statistics, the list goes on", 
      "- we will cover < 1%"
     ], 
     "language": "python", 
     "outputs": []
    }, 
    {
     "cell_type": "code", 
     "collapsed": false, 
     "input": [
      "a*2"
     ], 
     "language": "python", 
     "outputs": [
      {
       "output_type": "pyout", 
       "prompt_number": 30, 
       "text": [
        "array([[ 1.33570477,  0.48953702,  1.23607132,  1.8171368 ],", 
        "       [ 0.53455508,  1.53960333,  0.07823655,  1.66324497],", 
        "       [ 0.04367597,  1.95317803,  1.40211676,  1.60002288]])"
       ]
      }
     ], 
     "prompt_number": 30
    }, 
    {
     "cell_type": "code", 
     "collapsed": false, 
     "input": [
      "np.cos(a)"
     ], 
     "language": "python", 
     "outputs": [
      {
       "output_type": "pyout", 
       "prompt_number": 31, 
       "text": [
        "array([[ 0.7851535 ,  0.97019345,  0.81501824,  0.61487537],", 
        "       [ 0.96449349,  0.71804872,  0.99923498,  0.67367759],", 
        "       [ 0.99976156,  0.55985211,  0.76415993,  0.6966985 ]])"
       ]
      }
     ], 
     "prompt_number": 31
    }
   ]
  }
 ]
}