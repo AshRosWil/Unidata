{
 "metadata": {
  "name": "numpy"
 }, 
 "nbformat": 2, 
 "worksheets": [
  {
   "cells": [
    {
     "cell_type": "markdown", 
     "source": [
      "# numpy", 
      "", 
      "numpy (pronounced \"num pie\" or \"num pee\") is a library that enables scientific programming in Python. ", 
      "", 
      "Features:", 
      "", 
      "- Has facilities for n-dimensional array based calculations similar to Fortran and IDL.", 
      "- A set of mathematical functions to act on those arrays.", 
      "", 
      "Other comments:", 
      "", 
      "- The core Python language eschews primitive type arrays which is why we need numpy."
     ]
    }, 
    {
     "cell_type": "markdown", 
     "source": [
      "To start with numpy import numpy into your program with "
     ]
    }, 
    {
     "cell_type": "code", 
     "collapsed": true, 
     "input": [
      "import numpy as np"
     ], 
     "language": "python", 
     "outputs": [], 
     "prompt_number": 1
    }, 
    {
     "cell_type": "markdown", 
     "source": [
      "- Let's first define a simple 1-dimensional array.", 
      "- Note the array is being created from a list.", 
      "- It is not possible to mix types (e.g., string and ints) in a numpy array."
     ]
    }, 
    {
     "cell_type": "code", 
     "collapsed": false, 
     "input": [
      "a = np.array([3, -5, 8])", 
      "a"
     ], 
     "language": "python", 
     "outputs": [
      {
       "output_type": "pyout", 
       "prompt_number": 2, 
       "text": [
        "array([ 3, -5,  8])"
       ]
      }
     ], 
     "prompt_number": 2
    }, 
    {
     "cell_type": "markdown", 
     "source": [
      "It is possible to specify a type when defining the array."
     ]
    }, 
    {
     "cell_type": "code", 
     "collapsed": false, 
     "input": [
      "a = np.array([7,9,-3], dtype=complex)", 
      "a"
     ], 
     "language": "python", 
     "outputs": [
      {
       "output_type": "pyout", 
       "prompt_number": 16, 
       "text": [
        "array([ 7.+0.j,  9.+0.j, -3.+0.j])"
       ]
      }
     ], 
     "prompt_number": 16
    }, 
    {
     "cell_type": "markdown", 
     "source": [
      "- Here is an example of a 2d array.", 
      "- Numeric n-dimensional arrays must rectangular in shape (i.e., not jagged)."
     ]
    }, 
    {
     "cell_type": "code", 
     "collapsed": false, 
     "input": [
      "a = np.array([[3,5,8,1],[7,-1,2,3],[11,6,7,4]], dtype=int64)", 
      "a"
     ], 
     "language": "python", 
     "outputs": [
      {
       "output_type": "pyout", 
       "prompt_number": 38, 
       "text": [
        "array([[ 3,  5,  8,  1],", 
        "       [ 7, -1,  2,  3],", 
        "       [11,  6,  7,  4]])"
       ]
      }
     ], 
     "prompt_number": 38
    }, 
    {
     "cell_type": "markdown", 
     "source": [
      "## Array Attributes", 
      "- Note that numpy arrays are actually objects so we can access their attributes."
     ]
    }, 
    {
     "cell_type": "code", 
     "collapsed": false, 
     "input": [
      "a.ndim # The number of axes (dimensions) in the array, also known as the rank."
     ], 
     "language": "python", 
     "outputs": [
      {
       "output_type": "pyout", 
       "prompt_number": 34, 
       "text": [
        "2"
       ]
      }
     ], 
     "prompt_number": 34
    }, 
    {
     "cell_type": "code", 
     "collapsed": false, 
     "input": [
      "a.shape # The dimension of an individual axis."
     ], 
     "language": "python", 
     "outputs": [
      {
       "output_type": "pyout", 
       "prompt_number": 35, 
       "text": [
        "(3, 4)"
       ]
      }
     ], 
     "prompt_number": 35
    }, 
    {
     "cell_type": "code", 
     "collapsed": false, 
     "input": [
      "a.size # The number of elements in the array."
     ], 
     "language": "python", 
     "outputs": [
      {
       "output_type": "pyout", 
       "prompt_number": 36, 
       "text": [
        "12"
       ]
      }
     ], 
     "prompt_number": 36
    }, 
    {
     "cell_type": "code", 
     "collapsed": false, 
     "input": [
      "a.dtype # And the type of the elements in the array."
     ], 
     "language": "python", 
     "outputs": [
      {
       "output_type": "pyout", 
       "prompt_number": 37, 
       "text": [
        "dtype('int64')"
       ]
      }
     ], 
     "prompt_number": 37
    }, 
    {
     "cell_type": "markdown", 
     "source": [
      "## More on indexing and slicing of multidimensional arrays.", 
      "", 
      "- In the last section, we learned about various indexing and slicing strategies.", 
      "- The syntax is valid for arrays, as well.", 
      "- We'll expand with a few additional indexing strategies. "
     ]
    }, 
    {
     "cell_type": "markdown", 
     "source": [
      "If you want to get the first row:"
     ]
    }, 
    {
     "cell_type": "code", 
     "collapsed": false, 
     "input": [
      "a[0,:]"
     ], 
     "language": "python", 
     "outputs": [
      {
       "output_type": "pyout", 
       "prompt_number": 39, 
       "text": [
        "array([3, 5, 8, 1])"
       ]
      }
     ], 
     "prompt_number": 39
    }, 
    {
     "cell_type": "markdown", 
     "source": [
      "If you want to get the first column:"
     ]
    }, 
    {
     "cell_type": "code", 
     "collapsed": false, 
     "input": [
      "a[:,0]"
     ], 
     "language": "python", 
     "outputs": [
      {
       "output_type": "pyout", 
       "prompt_number": 40, 
       "text": [
        "array([ 3,  7, 11])"
       ]
      }
     ], 
     "prompt_number": 40
    }
   ]
  }
 ]
}