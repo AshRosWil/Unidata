{
 "metadata": {
  "name": "basics"
 },
 "nbformat": 3,
 "nbformat_minor": 0,
 "worksheets": [
  {
   "cells": [
    {
     "cell_type": "markdown",
     "source": [
      "# Python\n",
      "\n",
      "- High level\n",
      "- Dynamic\n",
      "- Multi-paradigm--functional, imperative, OO\n",
      "- Interpreted\n",
      "- Automatic memory management\n",
      "- Built-in data structures\n",
      "- Straightforward Syntax\n"
     ]
    },
    {
     "cell_type": "markdown",
     "source": [
      "## Variables and Assignments\n",
      "\n",
      "A variable is a storage location with an associated identifier. You do not need to declare a variable before it is used. Variable names are written with lowercase letters and underscores (`_`). Below we assign `42` to `x` with `=`."
     ]
    },
    {
     "cell_type": "code",
     "collapsed": false,
     "input": [
      "x = 42\n",
      "x"
     ],
     "language": "python",
     "outputs": [
      {
       "output_type": "pyout",
       "prompt_number": 2,
       "text": [
        "42"
       ]
      }
     ],
     "prompt_number": 2
    },
    {
     "cell_type": "markdown",
     "source": [
      "## Keywords\n",
      "\n",
      "Keywords are identifiers reserved for the Python language. Don't use them for variable or function names.\n",
      "\n",
      "`and`, `del`, `from`, `not`, `while`, `as`, `elif`, `global`, `or`, `with`, `assert`, `else`, `if`, `pass`, `yield`, `break`, `except`, `import`, `print`, `class`, `exec`, `in`, `raise`, `continue`, `finally`, `is`, `return`, `def`, `for`, `lambda`, `try`"
     ]
    },
    {
     "cell_type": "markdown",
     "source": [
      "## Types\n",
      "Variables have \"types\" that categorize the variable and define a set of valid values. The are many types in Python. Here are some examples:\n",
      "\n",
      "* String, 'hello' (single or double quotes)\n",
      "* Numeric Types, `int`, `float`, `long`, `complex`\n",
      "  - `42`\n",
      "  - `2 + 3j`\n",
      "* boolean (`True`, `False`)\n",
      "* objects\n",
      "* functions\n",
      "\n",
      "You can always find out what the type is with the `type` function."
     ]
    },
    {
     "cell_type": "code",
     "collapsed": false,
     "input": [
      "type(2 + 3j)"
     ],
     "language": "python",
     "outputs": [
      {
       "output_type": "pyout",
       "prompt_number": 2,
       "text": [
        "complex"
       ]
      }
     ],
     "prompt_number": 2
    },
    {
     "cell_type": "markdown",
     "source": [
      "## Comments"
     ]
    },
    {
     "cell_type": "code",
     "collapsed": false,
     "input": [
      "# Text after the pound symbol is ignored by the interpreter."
     ],
     "language": "python",
     "outputs": []
    },
    {
     "cell_type": "markdown",
     "source": [
      "## Operators and Comparisons\n",
      "\n",
      "`+`,`-`,`*`,`/`,`//`, `%`, `**`  which are plus, minus, times, division, integer division, modulus, and exponentiation. (There are a few more for bitwise operations.)"
     ]
    },
    {
     "cell_type": "code",
     "collapsed": false,
     "input": [
      "2**3"
     ],
     "language": "python",
     "outputs": [
      {
       "output_type": "pyout",
       "prompt_number": 4,
       "text": [
        "8"
       ]
      }
     ],
     "prompt_number": 4
    },
    {
     "cell_type": "code",
     "collapsed": false,
     "input": [
      "'foo' + 'bar' # plus works for concatenating strings"
     ],
     "language": "python",
     "outputs": [
      {
       "output_type": "pyout",
       "prompt_number": 10,
       "text": [
        "'foobar'"
       ]
      }
     ],
     "prompt_number": 10
    },
    {
     "cell_type": "markdown",
     "source": [
      "`>`,`<`,`>=`,`<=`,`==`,`is` which are greater than, less than, greater than or equal, less than or equal, equal, and object identical."
     ]
    },
    {
     "cell_type": "code",
     "collapsed": false,
     "input": [
      "2 > 1 # etc."
     ],
     "language": "python",
     "outputs": [
      {
       "output_type": "pyout",
       "prompt_number": 30,
       "text": [
        "True"
       ]
      }
     ],
     "prompt_number": 30
    },
    {
     "cell_type": "code",
     "collapsed": false,
     "input": [
      "# Control flow"
     ],
     "language": "python",
     "outputs": []
    },
    {
     "cell_type": "code",
     "collapsed": false,
     "input": [
      "if ( 1 < 0):\n",
      "   print 'Strange!'\n",
      "elif (0 > 1):\n",
      "   print 'Wow!';\n",
      "else:\n",
      "   print \"OK\"\t"
     ],
     "language": "python",
     "outputs": [
      {
       "output_type": "stream",
       "stream": "stdout",
       "text": [
        "OK"
       ]
      }
     ],
     "prompt_number": 3
    },
    {
     "cell_type": "markdown",
     "source": [
      "Note a couple few things:\n",
      "\n",
      "* No curly braces.\n",
      "* Therefore, indentation is important!"
     ]
    },
    {
     "cell_type": "markdown",
     "source": [
      "## Core Data Structures\n",
      "\n",
      "Know your core data structures and when to use them.\n",
      "\n",
      "### lists and indexing, slicing"
     ]
    },
    {
     "cell_type": "code",
     "collapsed": false,
     "input": [
      "fruit = ['mango','papaya','guava','apricot']\n",
      "fruit"
     ],
     "language": "python",
     "outputs": [
      {
       "output_type": "pyout",
       "prompt_number": 24,
       "text": [
        "['mango', 'papaya', 'guava', 'apricot']"
       ]
      }
     ],
     "prompt_number": 24
    },
    {
     "cell_type": "markdown",
     "source": [
      "*Take note Fortran and Matlab users. Lists and arrays are zero indexed.*"
     ]
    },
    {
     "cell_type": "code",
     "collapsed": false,
     "input": [
      "fruit[0]"
     ],
     "language": "python",
     "outputs": [
      {
       "output_type": "pyout",
       "prompt_number": 8,
       "text": [
        "'mango'"
       ]
      }
     ],
     "prompt_number": 8
    },
    {
     "cell_type": "markdown",
     "source": [
      "Various ways you can reference elements in arrays."
     ]
    },
    {
     "cell_type": "code",
     "collapsed": false,
     "input": [
      "fruit[0:2] # Note, end point exclusive"
     ],
     "language": "python",
     "outputs": [
      {
       "output_type": "pyout",
       "prompt_number": 10,
       "text": [
        "['mango', 'papaya']"
       ]
      }
     ],
     "prompt_number": 10
    },
    {
     "cell_type": "code",
     "collapsed": false,
     "input": [
      "fruit[:2] # Start index assumed to be zero"
     ],
     "language": "python",
     "outputs": [
      {
       "output_type": "pyout",
       "prompt_number": 11,
       "text": [
        "['mango', 'papaya']"
       ]
      }
     ],
     "prompt_number": 11
    },
    {
     "cell_type": "code",
     "collapsed": false,
     "input": [
      "fruit[2:] # End index assumed to be last element"
     ],
     "language": "python",
     "outputs": [
      {
       "output_type": "pyout",
       "prompt_number": 13,
       "text": [
        "['guava', 'apricot']"
       ]
      }
     ],
     "prompt_number": 13
    },
    {
     "cell_type": "code",
     "collapsed": false,
     "input": [
      "fruit[::2] # Can also specify a step"
     ],
     "language": "python",
     "outputs": [
      {
       "output_type": "pyout",
       "prompt_number": 25,
       "text": [
        "['mango', 'guava']"
       ]
      }
     ],
     "prompt_number": 25
    },
    {
     "cell_type": "markdown",
     "source": [
      "Arrays are mutable"
     ]
    },
    {
     "cell_type": "code",
     "collapsed": false,
     "input": [
      "fruit[1] = 'kiwi'\n",
      "fruit"
     ],
     "language": "python",
     "outputs": [
      {
       "output_type": "pyout",
       "prompt_number": 15,
       "text": [
        "['mango', 'kiwi', 'guava', 'apricot']"
       ]
      }
     ],
     "prompt_number": 15
    },
    {
     "cell_type": "markdown",
     "source": [
      "### tuples\n",
      "\n",
      "Tuples are similar to lists, but are **immutable**. Once they are defined, they cannot change. This feature of tuples may sound constraining, but is in fact very powerful."
     ]
    },
    {
     "cell_type": "code",
     "collapsed": false,
     "input": [
      "tree = 'oak', 'ash', 'maple', 'cedar' # no parentheses or brackets\n",
      "tree"
     ],
     "language": "python",
     "outputs": [
      {
       "output_type": "pyout",
       "prompt_number": 17,
       "text": [
        "('oak', 'ash', 'maple', 'cedar')"
       ]
      }
     ],
     "prompt_number": 17
    },
    {
     "cell_type": "code",
     "collapsed": false,
     "input": [
      "tree[0] = 'redwood' # This will generate an error "
     ],
     "language": "python",
     "outputs": [],
     "prompt_number": 20
    },
    {
     "cell_type": "code",
     "collapsed": false,
     "input": [
      "t = ()  # empty tuple\n",
      "t"
     ],
     "language": "python",
     "outputs": [
      {
       "output_type": "pyout",
       "prompt_number": 25,
       "text": [
        "()"
       ]
      }
     ],
     "prompt_number": 25
    },
    {
     "cell_type": "code",
     "collapsed": false,
     "input": [
      "single = 'one', # One element tuple, notice the trailing comma\n",
      "single"
     ],
     "language": "python",
     "outputs": [
      {
       "output_type": "pyout",
       "prompt_number": 24,
       "text": [
        "('one',)"
       ]
      }
     ],
     "prompt_number": 24
    },
    {
     "cell_type": "markdown",
     "source": [
      "### dictionaries\n",
      "\n",
      "Dictionaries are an associative data structure. Each entry has a key and value."
     ]
    },
    {
     "cell_type": "code",
     "collapsed": false,
     "input": [
      "tel = {'Hermione': 4098, 'Snape': 4139, 'Harry': 4345}\n",
      "tel"
     ],
     "language": "python",
     "outputs": [
      {
       "output_type": "pyout",
       "prompt_number": 11,
       "text": [
        "{'Harry': 4345, 'Hermione': 4098, 'Snape': 4139}"
       ]
      }
     ],
     "prompt_number": 11
    },
    {
     "cell_type": "markdown",
     "source": [
      "Subsequently, keys can be used to find a value."
     ]
    },
    {
     "cell_type": "code",
     "collapsed": false,
     "input": [
      "tel['Harry']"
     ],
     "language": "python",
     "outputs": [
      {
       "output_type": "pyout",
       "prompt_number": 12,
       "text": [
        "4345"
       ]
      }
     ],
     "prompt_number": 12
    },
    {
     "cell_type": "markdown",
     "source": [
      "To find all the keys:"
     ]
    },
    {
     "cell_type": "code",
     "collapsed": false,
     "input": [
      "tel.keys() # Note the OO notation which we will talk about later."
     ],
     "language": "python",
     "outputs": [
      {
       "output_type": "pyout",
       "prompt_number": 18,
       "text": [
        "['Snape', 'Hermione', 'Harry']"
       ]
      }
     ],
     "prompt_number": 18
    },
    {
     "cell_type": "markdown",
     "source": [
      "To find all the values:"
     ]
    },
    {
     "cell_type": "code",
     "collapsed": false,
     "input": [
      "tel.values()"
     ],
     "language": "python",
     "outputs": [
      {
       "output_type": "pyout",
       "prompt_number": 17,
       "text": [
        "[4139, 4098, 4345]"
       ]
      }
     ],
     "prompt_number": 17
    },
    {
     "cell_type": "markdown",
     "source": [
      "## Iterating \n",
      "\n",
      "Once you are handed a data structure, you typically want to do something to each member of that data structure."
     ]
    },
    {
     "cell_type": "code",
     "collapsed": false,
     "input": [
      "words = ['cat', 'window', 'defenestrate']\n",
      "for w in words:\n",
      "    print(w, len(w)) # len measures the length of the word"
     ],
     "language": "python",
     "outputs": [
      {
       "output_type": "stream",
       "stream": "stdout",
       "text": [
        "('cat', 3)\n",
        "('window', 6)\n",
        "('defenestrate', 12)"
       ]
      }
     ],
     "prompt_number": 28
    },
    {
     "cell_type": "markdown",
     "source": [
      "Note that a tuple is being returned for each entry."
     ]
    },
    {
     "cell_type": "markdown",
     "source": [
      "## List comprehension\n",
      "\n",
      "- Python has some clever tricks available for dealing with lists.\n",
      "- `range` function returns a list of numbers from 0 to n -1."
     ]
    },
    {
     "cell_type": "code",
     "collapsed": false,
     "input": [
      "squares = [x**2 for x in range(10)] \n",
      "squares"
     ],
     "language": "python",
     "outputs": [
      {
       "output_type": "pyout",
       "prompt_number": 13,
       "text": [
        "[0, 1, 4, 9, 16, 25, 36, 49, 64, 81]"
       ]
      }
     ],
     "prompt_number": 13
    },
    {
     "cell_type": "markdown",
     "source": [
      "## Looping\n",
      "\n",
      "An example with a Fibonacci sequence."
     ]
    },
    {
     "cell_type": "code",
     "collapsed": false,
     "input": [
      "a = 0\n",
      "b = 1\n",
      "while (b <= 15):\n",
      "    a,b = b, a + b # tuples\n",
      "    print(a), # Note the trailing comma that does not add a new line for each iteration"
     ],
     "language": "python",
     "outputs": [
      {
       "output_type": "stream",
       "stream": "stdout",
       "text": [
        "1 1 2 3 5 8 13\n"
       ]
      }
     ],
     "prompt_number": 1
    },
    {
     "cell_type": "markdown",
     "source": [
      "- Note the tuples\n",
      "- `a` is being set to `b`\n",
      "- `b` is being set to `a + b`\n",
      "- This is known as  destructuring which can be quite handy."
     ]
    },
    {
     "cell_type": "markdown",
     "source": [
      "## References"
     ]
    },
    {
     "cell_type": "code",
     "collapsed": false,
     "input": [
      "a = [1, 2, 3]\n",
      "b = a # assigning b to a\n",
      "a[0] = 42 # modifying a\n",
      "b # since b reference a, we have..."
     ],
     "language": "python",
     "outputs": [
      {
       "output_type": "pyout",
       "prompt_number": 7,
       "text": [
        "[42, 2, 3]"
       ]
      }
     ],
     "prompt_number": 7
    },
    {
     "cell_type": "markdown",
     "source": [
      "If you really want to make a true copy, you have to use `deepcopy`."
     ]
    },
    {
     "cell_type": "code",
     "collapsed": false,
     "input": [
      "import copy\n",
      "a = [1, 2, 3]\n",
      "b = copy.deepcopy(a)\n",
      "a[0] = 42 \n",
      "b \n"
     ],
     "language": "python",
     "outputs": [
      {
       "output_type": "pyout",
       "prompt_number": 13,
       "text": [
        "[1, 2, 3]"
       ]
      }
     ],
     "prompt_number": 13
    },
    {
     "cell_type": "markdown",
     "source": [
      "## Expressions\n",
      "\n",
      "A combination of operators, variables, constants, function invokations, etc. to do something useful."
     ]
    },
    {
     "cell_type": "code",
     "collapsed": false,
     "input": [
      "6 * (8 - 6)"
     ],
     "language": "python",
     "outputs": [
      {
       "output_type": "pyout",
       "prompt_number": 9,
       "text": [
        "12"
       ]
      }
     ],
     "prompt_number": 9
    },
    {
     "cell_type": "markdown",
     "source": [
      "## Functions\n",
      "\n",
      "- Functions are one of the building blocks of computer programs.\n",
      "- Function definition starts with the `def` keyword.\n",
      "- `def` is followed by the function name (lowercase letters and underscores).\n",
      "- The function name is followed by a tuple representing the argument list.\n",
      "- After the function declaration is the body. Note the body **must** be indented relative to the declaration.\n",
      "- The variables defined in the argument list are **locally scoped** (i.e., not visible outside the function). "
     ]
    },
    {
     "cell_type": "code",
     "collapsed": false,
     "input": [
      "def hello():\n",
      "    print 'hello world'\n",
      "hello()"
     ],
     "language": "python",
     "outputs": [
      {
       "output_type": "stream",
       "stream": "stdout",
       "text": [
        "hello world"
       ]
      }
     ],
     "prompt_number": 2
    },
    {
     "cell_type": "markdown",
     "source": [
      "Here is a function to calculate wind speed takes 2 arguments u and v."
     ]
    },
    {
     "cell_type": "code",
     "collapsed": false,
     "input": [
      "import math\n",
      "def wind_speed(u,v):\n",
      "    return math.sqrt(u**2 + v**2)\n",
      "wind_speed(2,3)"
     ],
     "language": "python",
     "outputs": [
      {
       "output_type": "pyout",
       "prompt_number": 19,
       "text": [
        "3.605551275463989"
       ]
      }
     ],
     "prompt_number": 19
    },
    {
     "cell_type": "markdown",
     "source": [
      "## More on Functions"
     ]
    },
    {
     "cell_type": "markdown",
     "source": [
      "### Default Values"
     ]
    },
    {
     "cell_type": "code",
     "collapsed": false,
     "input": [
      "import math\n",
      "def wind_speed(u,v,debug=True):\n",
      "    if (debug):\n",
      "        print \"DEBUG\",u**2,v**2\n",
      "    return math.sqrt(u**2 + v**2)\n",
      "wind_speed(2,3)"
     ],
     "language": "python",
     "outputs": [
      {
       "output_type": "stream",
       "stream": "stdout",
       "text": [
        "DEBUG 4 9"
       ]
      },
      {
       "output_type": "pyout",
       "prompt_number": 3,
       "text": [
        "3.605551275463989"
       ]
      }
     ],
     "prompt_number": 3
    },
    {
     "cell_type": "markdown",
     "source": [
      "### lambda\n",
      "- It is possible to define anonymous or \"inline\" functions. These are called lambda functions.\n",
      "- The `map` function here applies each element of the list of numbers to lambda function."
     ]
    },
    {
     "cell_type": "code",
     "collapsed": false,
     "input": [
      "map(lambda(x):x*x,[1,2,3,4])"
     ],
     "language": "python",
     "outputs": [
      {
       "output_type": "pyout",
       "prompt_number": 11,
       "text": [
        "[1, 4, 9, 16]"
       ]
      }
     ],
     "prompt_number": 11
    },
    {
     "cell_type": "markdown",
     "source": [
      "The lambda function here is the equivalent of:"
     ]
    },
    {
     "cell_type": "code",
     "collapsed": false,
     "input": [
      "def myfunction(x):\n",
      "    return x*x\n",
      "myfunction(3)"
     ],
     "language": "python",
     "outputs": [
      {
       "output_type": "pyout",
       "prompt_number": 32,
       "text": [
        "9"
       ]
      }
     ],
     "prompt_number": 32
    },
    {
     "cell_type": "markdown",
     "source": [
      "## Object Oriented Programming\n",
      "- OOP is a style of programming that promotes modularity and code re-use.\n",
      "- The building block of object oriented programming is the class. \n",
      "- By convention, class names start with a capital letter (otherwise same as variable name).\n",
      "- A class is a way of organizing data and functions that can act on that data.\n",
      "- In OOP, the data are called \"attributes\" and the functions are called \"methods\".\n",
      "- There is a special function called `__init__` which initializes or \"instantiates\" the class.\n",
      "- Method signatures have the `self` argument first so that the method may access the attributes."
     ]
    },
    {
     "cell_type": "code",
     "collapsed": false,
     "input": [
      "import math # We'll explain imports a little further down   \n",
      "\n",
      "class Point:\n",
      "    def __init__(self,x,y):\n",
      "    \tself.x = x # Setting attributes\n",
      "\tself.y = y\n",
      "\n",
      "    def distance(self,p):\n",
      "        return math.sqrt((p.x - self.x)**2 + (p.y - self.y)**2)\n",
      "\n",
      "p1 = Point(2,2) # Instantiation\n",
      "p2 = Point(4,4) # Instantiation\n",
      "p1.distance(p2)"
     ],
     "language": "python",
     "outputs": [
      {
       "output_type": "pyout",
       "prompt_number": 57,
       "text": [
        "2.8284271247461903"
       ]
      }
     ],
     "prompt_number": 57
    },
    {
     "cell_type": "markdown",
     "source": [
      "## Exception Handling\n",
      "\n",
      "- Like most modern programming languages Python gives you mechanism to build an \"escape hatch\" in case something goes wrong.\n",
      "- Do not use exceptions for normal programmatic flow."
     ]
    },
    {
     "cell_type": "code",
     "collapsed": false,
     "input": [
      "def timestwo(n):\n",
      "    try: \n",
      "        return float(n) * 2\n",
      "    except ValueError:\n",
      "        print \"not a valid number\"\n",
      "\n",
      "timestwo('a')\n",
      "     \n",
      " "
     ],
     "language": "python",
     "outputs": [
      {
       "output_type": "stream",
       "stream": "stdout",
       "text": [
        "not a valid number"
       ]
      }
     ],
     "prompt_number": 9
    },
    {
     "cell_type": "markdown",
     "source": [
      "## Modules\n",
      "\n",
      "- A module is a collection of related functions and constants.\n",
      "- Modules emphasize encapsulation and separation of concerns.\n",
      "- You can bring modules into your program.\n",
      "- You can write your own modules for others to consume.\n",
      "- There several ways to import modules."
     ]
    },
    {
     "cell_type": "code",
     "collapsed": false,
     "input": [
      "import math # Must explicitly reference namespace when using function from that module\n",
      "\n",
      "math.cos(pi)"
     ],
     "language": "python",
     "outputs": [
      {
       "output_type": "pyout",
       "prompt_number": 14,
       "text": [
        "-1.0"
       ]
      }
     ],
     "prompt_number": 14
    },
    {
     "cell_type": "code",
     "collapsed": false,
     "input": [
      "from math import * # Not recommended on account of namespace conflicts\n",
      "\n",
      "sin(pi/2)"
     ],
     "language": "python",
     "outputs": [
      {
       "output_type": "pyout",
       "prompt_number": 21,
       "text": [
        "1.0"
       ]
      }
     ],
     "prompt_number": 21
    },
    {
     "cell_type": "code",
     "collapsed": false,
     "input": [
      "from math import cos,pi # Better. Only import functions we need \n",
      "\n",
      "pi"
     ],
     "language": "python",
     "outputs": [
      {
       "output_type": "pyout",
       "prompt_number": 23,
       "text": [
        "3.141592653589793"
       ]
      }
     ],
     "prompt_number": 23
    },
    {
     "cell_type": "code",
     "collapsed": false,
     "input": [
      "import math as m # Can also alias modules which can be handy.\n",
      "\n",
      "m.cos(0)"
     ],
     "language": "python",
     "outputs": [
      {
       "output_type": "pyout",
       "prompt_number": 26,
       "text": [
        "1.0"
       ]
      }
     ],
     "prompt_number": 26
    },
    {
     "cell_type": "markdown",
     "source": [
      "Listing all functions in a module."
     ]
    },
    {
     "cell_type": "code",
     "collapsed": false,
     "input": [
      "import math\n",
      "\n",
      "print dir(math)"
     ],
     "language": "python",
     "outputs": [
      {
       "output_type": "stream",
       "stream": "stdout",
       "text": [
        "['__doc__', '__file__', '__name__', '__package__', 'acos', 'acosh', 'asin', 'asinh', 'atan', 'atan2', 'atanh', 'ceil', 'copysign', 'cos', 'cosh', 'degrees', 'e', 'erf', 'erfc', 'exp', 'expm1', 'fabs', 'factorial', 'floor', 'fmod', 'frexp', 'fsum', 'gamma', 'hypot', 'isinf', 'isnan', 'ldexp', 'lgamma', 'log', 'log10', 'log1p', 'modf', 'pi', 'pow', 'radians', 'sin', 'sinh', 'sqrt', 'tan', 'tanh', 'trunc']"
       ]
      }
     ],
     "prompt_number": 25
    },
    {
     "cell_type": "markdown",
     "source": [
      "## Python Programs\n",
      "\n",
      "We have been and will be working in the notebook, but typically Python programs are written in a .py file. They are executed from the shell\n",
      "\n",
      "    $ python myprogram.py"
     ]
    }
   ]
  }
 ]
}