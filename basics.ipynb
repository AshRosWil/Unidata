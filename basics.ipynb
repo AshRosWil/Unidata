{
 "metadata": {
  "name": "basics"
 }, 
 "nbformat": 2, 
 "worksheets": [
  {
   "cells": [
    {
     "cell_type": "markdown", 
     "source": [
      "# Learning Python Basics", 
      "", 
      "There are lots of great resources for learning Python. Here is a quick introduction to get you going."
     ]
    }, 
    {
     "cell_type": "markdown", 
     "source": [
      "## Python Programs", 
      "", 
      "We will be working in the notebook, but typically Python programs are written in a .py file."
     ]
    }, 
    {
     "cell_type": "markdown", 
     "source": [
      "## Variables and Assignments", 
      "", 
      "A variable is a storage location with an associated identifier. In Python you do not need to declare a variable before it used. Below we assign `42` to `x` with `=`."
     ]
    }, 
    {
     "cell_type": "code", 
     "collapsed": false, 
     "input": [
      "x = 42", 
      "x"
     ], 
     "language": "python", 
     "outputs": [
      {
       "output_type": "pyout", 
       "prompt_number": 1, 
       "text": [
        "42"
       ]
      }
     ], 
     "prompt_number": 1
    }, 
    {
     "cell_type": "markdown", 
     "source": [
      "## Keywords", 
      "", 
      "Keywords are identifiers reserved for the langage. Don't use them as variable names.", 
      "", 
      "`and`, `del`, `from`, `not`, `while`, `as`, `elif`, `global`, `or`, `with`, `assert`, `else`, `if`, `pass`, `yield`, `break`, `except`, `import`, `print`, `class`, `exec`, `in`, `raise`, `continue`, `finally`, `is`, `return`, `def`, `for`, `lambda`, `try`"
     ]
    }, 
    {
     "cell_type": "markdown", 
     "source": [
      "## Types", 
      "Variables are associated to \"types\". The are many types in Python. Some examples:", 
      "", 
      "* String, 'hello' (single or double quotes)", 
      "* Numeric Types, `int`, `float`, `long`, `complex`", 
      "  - 42", 
      "  - 2 + 3j", 
      "* boolean (True, False)", 
      "* objects", 
      "* functions", 
      "", 
      "You can always find out what the type is with the `type` function."
     ]
    }, 
    {
     "cell_type": "code", 
     "collapsed": false, 
     "input": [
      "type(2 + 3j)"
     ], 
     "language": "python", 
     "outputs": [
      {
       "output_type": "pyout", 
       "prompt_number": 2, 
       "text": [
        "complex"
       ]
      }
     ], 
     "prompt_number": 2
    }, 
    {
     "cell_type": "markdown", 
     "source": [
      "## Comments"
     ]
    }, 
    {
     "cell_type": "code", 
     "collapsed": false, 
     "input": [
      "# This is a comment."
     ], 
     "language": "python", 
     "outputs": []
    }, 
    {
     "cell_type": "markdown", 
     "source": [
      "## Operators and Comparisons", 
      "", 
      "`+`,`-`,`*`,`/`,`//`, `%`, `**`  which are plus, minus, times, division, integer division, modulus, and exponentiation."
     ]
    }, 
    {
     "cell_type": "code", 
     "collapsed": false, 
     "input": [
      "2**3"
     ], 
     "language": "python", 
     "outputs": [
      {
       "output_type": "pyout", 
       "prompt_number": 4, 
       "text": [
        "8"
       ]
      }
     ], 
     "prompt_number": 4
    }, 
    {
     "cell_type": "code", 
     "collapsed": false, 
     "input": [
      "'foo' + 'bar' # plus works for strings"
     ], 
     "language": "python", 
     "outputs": [
      {
       "output_type": "pyout", 
       "prompt_number": 10, 
       "text": [
        "'foobar'"
       ]
      }
     ], 
     "prompt_number": 10
    }, 
    {
     "cell_type": "markdown", 
     "source": [
      "`>`,`<`,`>=`,`<=`,`==`,`is` which are greater than, less than, greater than or equal, less than or equal, equal, and object identical."
     ]
    }, 
    {
     "cell_type": "code", 
     "collapsed": false, 
     "input": [
      "2 > 1 # etc."
     ], 
     "language": "python", 
     "outputs": [
      {
       "output_type": "pyout", 
       "prompt_number": 30, 
       "text": [
        "True"
       ]
      }
     ], 
     "prompt_number": 30
    }, 
    {
     "cell_type": "code", 
     "collapsed": false, 
     "input": [
      "a = 1", 
      "a is a"
     ], 
     "language": "python", 
     "outputs": [
      {
       "output_type": "pyout", 
       "prompt_number": 32, 
       "text": [
        "True"
       ]
      }
     ], 
     "prompt_number": 32
    }, 
    {
     "cell_type": "code", 
     "collapsed": false, 
     "input": [
      "[1,2] is [1,2]"
     ], 
     "language": "python", 
     "outputs": [
      {
       "output_type": "pyout", 
       "prompt_number": 34, 
       "text": [
        "False"
       ]
      }
     ], 
     "prompt_number": 34
    }, 
    {
     "cell_type": "markdown", 
     "source": [
      "## Functions", 
      "", 
      "Functions are the central abstraction and building block for a program.", 
      ""
     ]
    }, 
    {
     "cell_type": "markdown", 
     "source": [
      "## More Advanced Types", 
      "- lists", 
      "- tuples", 
      "- dictionaries"
     ]
    }, 
    {
     "cell_type": "markdown", 
     "source": [
      "## Expressions", 
      "", 
      "A combination of operators, variables, constants, etc. to do something useful."
     ]
    }, 
    {
     "cell_type": "code", 
     "collapsed": false, 
     "input": [
      "6 * (8 - 6)"
     ], 
     "language": "python", 
     "outputs": [
      {
       "output_type": "pyout", 
       "prompt_number": 9, 
       "text": [
        "12"
       ]
      }
     ], 
     "prompt_number": 9
    }, 
    {
     "cell_type": "markdown", 
     "source": [
      "## Modules", 
      "", 
      "- A module is a collection of related functions.", 
      "- Modules emphasize encapsulation and separation of concerns.", 
      "- You can bring modules into your program.", 
      "- You can write your own modules for others to consume.", 
      "-  There several ways to import modules.", 
      ""
     ]
    }, 
    {
     "cell_type": "code", 
     "collapsed": false, 
     "input": [
      "import math # Must explicitly reference namespace when using function from that module", 
      "", 
      "math.cos(pi)"
     ], 
     "language": "python", 
     "outputs": [
      {
       "output_type": "pyout", 
       "prompt_number": 14, 
       "text": [
        "-1.0"
       ]
      }
     ], 
     "prompt_number": 14
    }, 
    {
     "cell_type": "code", 
     "collapsed": false, 
     "input": [
      "from math import * # Not recommended on account of namespace conflicts", 
      "", 
      "sin(pi/2)"
     ], 
     "language": "python", 
     "outputs": [
      {
       "output_type": "pyout", 
       "prompt_number": 21, 
       "text": [
        "1.0"
       ]
      }
     ], 
     "prompt_number": 21
    }, 
    {
     "cell_type": "code", 
     "collapsed": false, 
     "input": [
      "from math import cos,pi # Better. Only import functions we need ", 
      "", 
      "pi"
     ], 
     "language": "python", 
     "outputs": [
      {
       "output_type": "pyout", 
       "prompt_number": 23, 
       "text": [
        "3.141592653589793"
       ]
      }
     ], 
     "prompt_number": 23
    }, 
    {
     "cell_type": "code", 
     "collapsed": false, 
     "input": [
      "import math as m # Can also alias modules which can be handy.", 
      "", 
      "m.cos(0)"
     ], 
     "language": "python", 
     "outputs": [
      {
       "output_type": "pyout", 
       "prompt_number": 26, 
       "text": [
        "1.0"
       ]
      }
     ], 
     "prompt_number": 26
    }, 
    {
     "cell_type": "markdown", 
     "source": [
      "Listing all functions in a module."
     ]
    }, 
    {
     "cell_type": "code", 
     "collapsed": false, 
     "input": [
      "import math", 
      "", 
      "print dir(math)"
     ], 
     "language": "python", 
     "outputs": [
      {
       "output_type": "stream", 
       "stream": "stdout", 
       "text": [
        "['__doc__', '__file__', '__name__', '__package__', 'acos', 'acosh', 'asin', 'asinh', 'atan', 'atan2', 'atanh', 'ceil', 'copysign', 'cos', 'cosh', 'degrees', 'e', 'erf', 'erfc', 'exp', 'expm1', 'fabs', 'factorial', 'floor', 'fmod', 'frexp', 'fsum', 'gamma', 'hypot', 'isinf', 'isnan', 'ldexp', 'lgamma', 'log', 'log10', 'log1p', 'modf', 'pi', 'pow', 'radians', 'sin', 'sinh', 'sqrt', 'tan', 'tanh', 'trunc']"
       ]
      }
     ], 
     "prompt_number": 25
    }
   ]
  }
 ]
}