{
 "metadata": {
  "name": "ncss"
 },
 "nbformat": 3,
 "nbformat_minor": 0,
 "worksheets": [
  {
   "cells": [
    {
     "cell_type": "markdown",
     "source": [
      "# Exploring THREDDS netCDF Subset Service (NCSS) with Pandas\n",
      "- NCSS is a web service for subsetting CDM scientific datasets.\n",
      "- Pandas is a highly popular data analysis library for Python (think R, SQL, Excel, etc.).\n",
      "- NCSS can return CSV format which works well with Pandas."
     ]
    },
    {
     "cell_type": "markdown",
     "source": [
      "## Let's explore some Short Range Ensemble Forecast (SREF) data from the TDS\n",
      "- Build the NCSS URL parameters.\n",
      "- Request CSV data\n",
      "- Read data into a \"Pandas DataFrame\" object"
     ]
    },
    {
     "cell_type": "code",
     "collapsed": false,
     "input": [
      "import urllib\n",
      "import datetime as dt\n",
      "import string\n",
      "import pandas as pd\n",
      "\n",
      "# base URL\n",
      "ncss_url = \"http://thredds.ucar.edu/thredds/ncss/grid/grib/NCEP/SREF/CONUS_40km/ensprod_biasc/collection\"\n",
      "\n",
      "start_time = dt.datetime.utcnow() - dt.timedelta(hours = 12)\n",
      "\n",
      "# Construct the URL parameters\n",
      "parameters = (('var', 'Temperature_height_above_ground_weightedMean'), \n",
      "     ('var', 'Temperature_height_above_ground_stdDev'), \n",
      "     ('latitude', 40.044385),\n",
      "     ('longitude', -105.21928),\n",
      "     ('time_start', start_time.strftime(\"%Y-%m-%dT%H\")),\n",
      "     ('time_duration', 'P3DT12H'),\n",
      "     ('accept','csv'),\n",
      "     ('point', 'true'))\n",
      "\n",
      "params = urllib.urlencode(parameters)\n",
      "\n",
      "url = string.join([ncss_url, params], '?')\n",
      "print(url)\n",
      "\n",
      "# Reading remote data into a pandas data frame\n",
      "df  = pd.read_csv(url,  parse_dates={'datetime':['date']}, date_parser=\n",
      "    lambda x: dt.datetime.strptime( x, '%Y-%m-%dT%H:%M:%SZ'), index_col='datetime')\n",
      "temps = df.ix[:, [3,4]]\n",
      "temps.head()\n"
     ],
     "language": "python",
     "outputs": [
      {
       "output_type": "stream",
       "stream": "stdout",
       "text": [
        "http://thredds.ucar.edu/thredds/ncss/grid/grib/NCEP/SREF/CONUS_40km/ensprod_biasc/collection?var=Temperature_height_above_ground_weightedMean&var=Temperature_height_above_ground_stdDev&latitude=40.044385&longitude=-105.21928&time_start=2013-06-10T17&time_duration=P3DT12H&accept=csv&point=true\n"
       ]
      },
      {
       "html": [
        "<pre>\n",
        "&ltclass 'pandas.core.frame.DataFrame'&gt\n",
        "DatetimeIndex: 5 entries, 2013-06-10 18:00:00 to 2013-06-11 06:00:00\n",
        "Data columns (total 2 columns):\n",
        "Temperature_height_above_ground_weightedMean[unit=\"K\"]    5  non-null values\n",
        "Temperature_height_above_ground_stdDev[unit=\"K\"]          5  non-null values\n",
        "dtypes: float64(2)\n",
        "</pre>"
       ],
       "output_type": "pyout",
       "prompt_number": 18,
       "text": [
        "                     Temperature_height_above_ground_weightedMean[unit=\"K\"]  \\\n",
        "datetime                                                                      \n",
        "2013-06-10 18:00:00                                         307.380005        \n",
        "2013-06-10 21:00:00                                         308.750000        \n",
        "2013-06-11 00:00:00                                         305.200012        \n",
        "2013-06-11 03:00:00                                         296.799988        \n",
        "2013-06-11 06:00:00                                         290.700012        \n",
        "\n",
        "                     Temperature_height_above_ground_stdDev[unit=\"K\"]  \n",
        "datetime                                                               \n",
        "2013-06-10 18:00:00                                               0.7  \n",
        "2013-06-10 21:00:00                                               0.9  \n",
        "2013-06-11 00:00:00                                               1.4  \n",
        "2013-06-11 03:00:00                                               1.5  \n",
        "2013-06-11 06:00:00                                               1.4  "
       ]
      }
     ],
     "prompt_number": 18
    },
    {
     "cell_type": "markdown",
     "source": [
      "## Let's make the columns nicer."
     ]
    },
    {
     "cell_type": "code",
     "collapsed": false,
     "input": [
      "temps.columns = ['T (K)', 'T STDV (K)']\n",
      "#Let's localize the time zone for good measure\n",
      "temps = temps.tz_localize('UTC')\n",
      "temps.head()"
     ],
     "language": "python",
     "outputs": [
      {
       "html": [
        "<div style=\"max-height:1000px;max-width:1500px;overflow:auto;\">\n",
        "<table border=\"1\" class=\"dataframe\">\n",
        "  <thead>\n",
        "    <tr style=\"text-align: right;\">\n",
        "      <th></th>\n",
        "      <th>T (K)</th>\n",
        "      <th>T STDV (K)</th>\n",
        "    </tr>\n",
        "    <tr>\n",
        "      <th>datetime</th>\n",
        "      <th></th>\n",
        "      <th></th>\n",
        "    </tr>\n",
        "  </thead>\n",
        "  <tbody>\n",
        "    <tr>\n",
        "      <th>2013-06-10 18:00:00+00:00</th>\n",
        "      <td> 307.380005</td>\n",
        "      <td> 0.7</td>\n",
        "    </tr>\n",
        "    <tr>\n",
        "      <th>2013-06-10 21:00:00+00:00</th>\n",
        "      <td> 308.750000</td>\n",
        "      <td> 0.9</td>\n",
        "    </tr>\n",
        "    <tr>\n",
        "      <th>2013-06-11 00:00:00+00:00</th>\n",
        "      <td> 305.200012</td>\n",
        "      <td> 1.4</td>\n",
        "    </tr>\n",
        "    <tr>\n",
        "      <th>2013-06-11 03:00:00+00:00</th>\n",
        "      <td> 296.799988</td>\n",
        "      <td> 1.5</td>\n",
        "    </tr>\n",
        "    <tr>\n",
        "      <th>2013-06-11 06:00:00+00:00</th>\n",
        "      <td> 290.700012</td>\n",
        "      <td> 1.4</td>\n",
        "    </tr>\n",
        "  </tbody>\n",
        "</table>\n",
        "</div>"
       ],
       "output_type": "pyout",
       "prompt_number": 19,
       "text": [
        "                                T (K)  T STDV (K)\n",
        "datetime                                         \n",
        "2013-06-10 18:00:00+00:00  307.380005         0.7\n",
        "2013-06-10 21:00:00+00:00  308.750000         0.9\n",
        "2013-06-11 00:00:00+00:00  305.200012         1.4\n",
        "2013-06-11 03:00:00+00:00  296.799988         1.5\n",
        "2013-06-11 06:00:00+00:00  290.700012         1.4"
       ]
      }
     ],
     "prompt_number": 19
    },
    {
     "cell_type": "markdown",
     "source": [
      "## Let's prepare the data for plotting"
     ]
    },
    {
     "cell_type": "code",
     "collapsed": false,
     "input": [
      "temps['Lo STDV (K)'] = temps['T (K)'] - temps['T STDV (K)']\n",
      "temps['Hi STDV (K)'] = temps['T (K)'] + temps['T STDV (K)']\n",
      "\n",
      "# Pandas dataframes are mutable, therefore deep copy\n",
      "temps2 = temps.copy()\n",
      "# Getting rid of stdv column to make things simpler below \n",
      "del temps2['T STDV (K)']\n",
      "temps2.head()"
     ],
     "language": "python",
     "outputs": [
      {
       "html": [
        "<div style=\"max-height:1000px;max-width:1500px;overflow:auto;\">\n",
        "<table border=\"1\" class=\"dataframe\">\n",
        "  <thead>\n",
        "    <tr style=\"text-align: right;\">\n",
        "      <th></th>\n",
        "      <th>T (K)</th>\n",
        "      <th>Lo STDV (K)</th>\n",
        "      <th>Hi STDV (K)</th>\n",
        "    </tr>\n",
        "    <tr>\n",
        "      <th>datetime</th>\n",
        "      <th></th>\n",
        "      <th></th>\n",
        "      <th></th>\n",
        "    </tr>\n",
        "  </thead>\n",
        "  <tbody>\n",
        "    <tr>\n",
        "      <th>2013-06-10 18:00:00+00:00</th>\n",
        "      <td> 307.380005</td>\n",
        "      <td> 306.680005</td>\n",
        "      <td> 308.080005</td>\n",
        "    </tr>\n",
        "    <tr>\n",
        "      <th>2013-06-10 21:00:00+00:00</th>\n",
        "      <td> 308.750000</td>\n",
        "      <td> 307.850000</td>\n",
        "      <td> 309.650000</td>\n",
        "    </tr>\n",
        "    <tr>\n",
        "      <th>2013-06-11 00:00:00+00:00</th>\n",
        "      <td> 305.200012</td>\n",
        "      <td> 303.800012</td>\n",
        "      <td> 306.600012</td>\n",
        "    </tr>\n",
        "    <tr>\n",
        "      <th>2013-06-11 03:00:00+00:00</th>\n",
        "      <td> 296.799988</td>\n",
        "      <td> 295.299988</td>\n",
        "      <td> 298.299988</td>\n",
        "    </tr>\n",
        "    <tr>\n",
        "      <th>2013-06-11 06:00:00+00:00</th>\n",
        "      <td> 290.700012</td>\n",
        "      <td> 289.300012</td>\n",
        "      <td> 292.100012</td>\n",
        "    </tr>\n",
        "  </tbody>\n",
        "</table>\n",
        "</div>"
       ],
       "output_type": "pyout",
       "prompt_number": 20,
       "text": [
        "                                T (K)  Lo STDV (K)  Hi STDV (K)\n",
        "datetime                                                       \n",
        "2013-06-10 18:00:00+00:00  307.380005   306.680005   308.080005\n",
        "2013-06-10 21:00:00+00:00  308.750000   307.850000   309.650000\n",
        "2013-06-11 00:00:00+00:00  305.200012   303.800012   306.600012\n",
        "2013-06-11 03:00:00+00:00  296.799988   295.299988   298.299988\n",
        "2013-06-11 06:00:00+00:00  290.700012   289.300012   292.100012"
       ]
      }
     ],
     "prompt_number": 20
    },
    {
     "cell_type": "markdown",
     "source": [
      "## Let's resample the data to one hourly data"
     ]
    },
    {
     "cell_type": "code",
     "collapsed": false,
     "input": [
      "temps3 = temps2.asfreq('1H')\n",
      "temps3 = temps3.apply(pd.Series.interpolate)\n",
      "temps3.head()"
     ],
     "language": "python",
     "outputs": [
      {
       "html": [
        "<div style=\"max-height:1000px;max-width:1500px;overflow:auto;\">\n",
        "<table border=\"1\" class=\"dataframe\">\n",
        "  <thead>\n",
        "    <tr style=\"text-align: right;\">\n",
        "      <th></th>\n",
        "      <th>T (K)</th>\n",
        "      <th>Lo STDV (K)</th>\n",
        "      <th>Hi STDV (K)</th>\n",
        "    </tr>\n",
        "  </thead>\n",
        "  <tbody>\n",
        "    <tr>\n",
        "      <th>2013-06-10 18:00:00+00:00</th>\n",
        "      <td> 307.380005</td>\n",
        "      <td> 306.680005</td>\n",
        "      <td> 308.080005</td>\n",
        "    </tr>\n",
        "    <tr>\n",
        "      <th>2013-06-10 19:00:00+00:00</th>\n",
        "      <td> 307.836670</td>\n",
        "      <td> 307.070003</td>\n",
        "      <td> 308.603337</td>\n",
        "    </tr>\n",
        "    <tr>\n",
        "      <th>2013-06-10 20:00:00+00:00</th>\n",
        "      <td> 308.293335</td>\n",
        "      <td> 307.460002</td>\n",
        "      <td> 309.126668</td>\n",
        "    </tr>\n",
        "    <tr>\n",
        "      <th>2013-06-10 21:00:00+00:00</th>\n",
        "      <td> 308.750000</td>\n",
        "      <td> 307.850000</td>\n",
        "      <td> 309.650000</td>\n",
        "    </tr>\n",
        "    <tr>\n",
        "      <th>2013-06-10 22:00:00+00:00</th>\n",
        "      <td> 307.566671</td>\n",
        "      <td> 306.500004</td>\n",
        "      <td> 308.633337</td>\n",
        "    </tr>\n",
        "  </tbody>\n",
        "</table>\n",
        "</div>"
       ],
       "output_type": "pyout",
       "prompt_number": 21,
       "text": [
        "                                T (K)  Lo STDV (K)  Hi STDV (K)\n",
        "2013-06-10 18:00:00+00:00  307.380005   306.680005   308.080005\n",
        "2013-06-10 19:00:00+00:00  307.836670   307.070003   308.603337\n",
        "2013-06-10 20:00:00+00:00  308.293335   307.460002   309.126668\n",
        "2013-06-10 21:00:00+00:00  308.750000   307.850000   309.650000\n",
        "2013-06-10 22:00:00+00:00  307.566671   306.500004   308.633337"
       ]
      }
     ],
     "prompt_number": 21
    },
    {
     "cell_type": "markdown",
     "source": [
      "## Convert from Kelvin to Fahrenheit\n",
      "- Remember to change the units in the column names."
     ]
    },
    {
     "cell_type": "code",
     "collapsed": false,
     "input": [
      "convKF = lambda x: (x - 273.15) * 1.8 + 32\n",
      "temps4 = temps3.apply(convKF)\n",
      "temps4.columns = ['T (F)',  'Lo STDV (F)',  'Hi STDV (F)']\n",
      "temps4.head()"
     ],
     "language": "python",
     "outputs": [
      {
       "html": [
        "<div style=\"max-height:1000px;max-width:1500px;overflow:auto;\">\n",
        "<table border=\"1\" class=\"dataframe\">\n",
        "  <thead>\n",
        "    <tr style=\"text-align: right;\">\n",
        "      <th></th>\n",
        "      <th>T (F)</th>\n",
        "      <th>Lo STDV (F)</th>\n",
        "      <th>Hi STDV (F)</th>\n",
        "    </tr>\n",
        "  </thead>\n",
        "  <tbody>\n",
        "    <tr>\n",
        "      <th>2013-06-10 18:00:00+00:00</th>\n",
        "      <td> 93.614009</td>\n",
        "      <td> 92.354009</td>\n",
        "      <td> 94.874009</td>\n",
        "    </tr>\n",
        "    <tr>\n",
        "      <th>2013-06-10 19:00:00+00:00</th>\n",
        "      <td> 94.436006</td>\n",
        "      <td> 93.056006</td>\n",
        "      <td> 95.816006</td>\n",
        "    </tr>\n",
        "    <tr>\n",
        "      <th>2013-06-10 20:00:00+00:00</th>\n",
        "      <td> 95.258003</td>\n",
        "      <td> 93.758003</td>\n",
        "      <td> 96.758003</td>\n",
        "    </tr>\n",
        "    <tr>\n",
        "      <th>2013-06-10 21:00:00+00:00</th>\n",
        "      <td> 96.080000</td>\n",
        "      <td> 94.460000</td>\n",
        "      <td> 97.700000</td>\n",
        "    </tr>\n",
        "    <tr>\n",
        "      <th>2013-06-10 22:00:00+00:00</th>\n",
        "      <td> 93.950007</td>\n",
        "      <td> 92.030007</td>\n",
        "      <td> 95.870007</td>\n",
        "    </tr>\n",
        "  </tbody>\n",
        "</table>\n",
        "</div>"
       ],
       "output_type": "pyout",
       "prompt_number": 22,
       "text": [
        "                               T (F)  Lo STDV (F)  Hi STDV (F)\n",
        "2013-06-10 18:00:00+00:00  93.614009    92.354009    94.874009\n",
        "2013-06-10 19:00:00+00:00  94.436006    93.056006    95.816006\n",
        "2013-06-10 20:00:00+00:00  95.258003    93.758003    96.758003\n",
        "2013-06-10 21:00:00+00:00  96.080000    94.460000    97.700000\n",
        "2013-06-10 22:00:00+00:00  93.950007    92.030007    95.870007"
       ]
      }
     ],
     "prompt_number": 22
    },
    {
     "cell_type": "markdown",
     "source": [
      "## Now let's plot"
     ]
    },
    {
     "cell_type": "code",
     "collapsed": false,
     "input": [
      "ax = temps4.plot(color = 'b')\n",
      "ax.fill_between(temps4.index,temps4['Lo STDV (F)'],temps4['Hi STDV (F)'], alpha=0.4, color='r')"
     ],
     "language": "python",
     "outputs": [
      {
       "output_type": "pyout",
       "prompt_number": 23,
       "text": [
        "<matplotlib.collections.PolyCollection at 0x10d12a5d0>"
       ]
      },
      {
       "output_type": "display_data",
       "png": "[encoded data removed]"
      }
     ],
     "prompt_number": 23
    },
    {
     "cell_type": "markdown",
     "source": [
      "## Pandas has powerful data slicing and dicing capability."
     ]
    },
    {
     "cell_type": "markdown",
     "source": [
      "### I prefer to exercise when the temperature is less than 80 F during \"daylight hours\". \n",
      "- Select temperatures\n",
      "- Convert the time zone to local time\n",
      "- Constrain data between times."
     ]
    },
    {
     "cell_type": "code",
     "collapsed": false,
     "input": [
      "temps5 = temps4[temps4['T (F)'] < 80]\n",
      "temps6 = temps5.tz_convert('US/Mountain')\n",
      "temps6.between_time('5:00', '20:00')\n",
      "\n"
     ],
     "language": "python",
     "outputs": [
      {
       "html": [
        "<div style=\"max-height:1000px;max-width:1500px;overflow:auto;\">\n",
        "<table border=\"1\" class=\"dataframe\">\n",
        "  <thead>\n",
        "    <tr style=\"text-align: right;\">\n",
        "      <th></th>\n",
        "      <th>T (F)</th>\n",
        "      <th>Lo STDV (F)</th>\n",
        "      <th>Hi STDV (F)</th>\n",
        "    </tr>\n",
        "  </thead>\n",
        "  <tbody>\n",
        "    <tr>\n",
        "      <th>2013-06-10 20:00:00-06:00</th>\n",
        "      <td> 79.609993</td>\n",
        "      <td> 76.969993</td>\n",
        "      <td> 82.249993</td>\n",
        "    </tr>\n",
        "    <tr>\n",
        "      <th>2013-06-11 05:00:00-06:00</th>\n",
        "      <td> 59.888014</td>\n",
        "      <td> 56.888014</td>\n",
        "      <td> 62.888014</td>\n",
        "    </tr>\n",
        "    <tr>\n",
        "      <th>2013-06-11 06:00:00-06:00</th>\n",
        "      <td> 60.044020</td>\n",
        "      <td> 56.804020</td>\n",
        "      <td> 63.284020</td>\n",
        "    </tr>\n",
        "    <tr>\n",
        "      <th>2013-06-11 07:00:00-06:00</th>\n",
        "      <td> 67.106013</td>\n",
        "      <td> 64.226013</td>\n",
        "      <td> 69.986013</td>\n",
        "    </tr>\n",
        "    <tr>\n",
        "      <th>2013-06-11 08:00:00-06:00</th>\n",
        "      <td> 74.168007</td>\n",
        "      <td> 71.648007</td>\n",
        "      <td> 76.688007</td>\n",
        "    </tr>\n",
        "    <tr>\n",
        "      <th>2013-06-11 19:00:00-06:00</th>\n",
        "      <td> 79.639985</td>\n",
        "      <td> 77.779985</td>\n",
        "      <td> 81.499985</td>\n",
        "    </tr>\n",
        "    <tr>\n",
        "      <th>2013-06-11 20:00:00-06:00</th>\n",
        "      <td> 74.251997</td>\n",
        "      <td> 72.331997</td>\n",
        "      <td> 76.171997</td>\n",
        "    </tr>\n",
        "    <tr>\n",
        "      <th>2013-06-12 05:00:00-06:00</th>\n",
        "      <td> 57.265980</td>\n",
        "      <td> 55.405980</td>\n",
        "      <td> 59.125980</td>\n",
        "    </tr>\n",
        "    <tr>\n",
        "      <th>2013-06-12 06:00:00-06:00</th>\n",
        "      <td> 56.173976</td>\n",
        "      <td> 54.553976</td>\n",
        "      <td> 57.793976</td>\n",
        "    </tr>\n",
        "    <tr>\n",
        "      <th>2013-06-12 07:00:00-06:00</th>\n",
        "      <td> 62.473976</td>\n",
        "      <td> 60.913976</td>\n",
        "      <td> 64.033976</td>\n",
        "    </tr>\n",
        "    <tr>\n",
        "      <th>2013-06-12 08:00:00-06:00</th>\n",
        "      <td> 68.773976</td>\n",
        "      <td> 67.273976</td>\n",
        "      <td> 70.273976</td>\n",
        "    </tr>\n",
        "    <tr>\n",
        "      <th>2013-06-12 09:00:00-06:00</th>\n",
        "      <td> 75.073976</td>\n",
        "      <td> 73.633976</td>\n",
        "      <td> 76.513976</td>\n",
        "    </tr>\n",
        "    <tr>\n",
        "      <th>2013-06-12 10:00:00-06:00</th>\n",
        "      <td> 77.797981</td>\n",
        "      <td> 75.997981</td>\n",
        "      <td> 79.597981</td>\n",
        "    </tr>\n",
        "    <tr>\n",
        "      <th>2013-06-12 20:00:00-06:00</th>\n",
        "      <td> 77.257985</td>\n",
        "      <td> 74.377985</td>\n",
        "      <td> 80.137985</td>\n",
        "    </tr>\n",
        "    <tr>\n",
        "      <th>2013-06-13 05:00:00-06:00</th>\n",
        "      <td> 58.376002</td>\n",
        "      <td> 54.656002</td>\n",
        "      <td> 62.096002</td>\n",
        "    </tr>\n",
        "    <tr>\n",
        "      <th>2013-06-13 06:00:00-06:00</th>\n",
        "      <td> 57.110011</td>\n",
        "      <td> 53.150011</td>\n",
        "      <td> 61.070011</td>\n",
        "    </tr>\n",
        "    <tr>\n",
        "      <th>2013-06-13 07:00:00-06:00</th>\n",
        "      <td> 63.170015</td>\n",
        "      <td> 59.330015</td>\n",
        "      <td> 67.010015</td>\n",
        "    </tr>\n",
        "    <tr>\n",
        "      <th>2013-06-13 08:00:00-06:00</th>\n",
        "      <td> 69.230018</td>\n",
        "      <td> 65.510018</td>\n",
        "      <td> 72.950018</td>\n",
        "    </tr>\n",
        "    <tr>\n",
        "      <th>2013-06-13 09:00:00-06:00</th>\n",
        "      <td> 75.290022</td>\n",
        "      <td> 71.690022</td>\n",
        "      <td> 78.890022</td>\n",
        "    </tr>\n",
        "    <tr>\n",
        "      <th>2013-06-13 20:00:00-06:00</th>\n",
        "      <td> 77.444020</td>\n",
        "      <td> 73.784020</td>\n",
        "      <td> 81.104020</td>\n",
        "    </tr>\n",
        "  </tbody>\n",
        "</table>\n",
        "</div>"
       ],
       "output_type": "pyout",
       "prompt_number": 24,
       "text": [
        "                               T (F)  Lo STDV (F)  Hi STDV (F)\n",
        "2013-06-10 20:00:00-06:00  79.609993    76.969993    82.249993\n",
        "2013-06-11 05:00:00-06:00  59.888014    56.888014    62.888014\n",
        "2013-06-11 06:00:00-06:00  60.044020    56.804020    63.284020\n",
        "2013-06-11 07:00:00-06:00  67.106013    64.226013    69.986013\n",
        "2013-06-11 08:00:00-06:00  74.168007    71.648007    76.688007\n",
        "2013-06-11 19:00:00-06:00  79.639985    77.779985    81.499985\n",
        "2013-06-11 20:00:00-06:00  74.251997    72.331997    76.171997\n",
        "2013-06-12 05:00:00-06:00  57.265980    55.405980    59.125980\n",
        "2013-06-12 06:00:00-06:00  56.173976    54.553976    57.793976\n",
        "2013-06-12 07:00:00-06:00  62.473976    60.913976    64.033976\n",
        "2013-06-12 08:00:00-06:00  68.773976    67.273976    70.273976\n",
        "2013-06-12 09:00:00-06:00  75.073976    73.633976    76.513976\n",
        "2013-06-12 10:00:00-06:00  77.797981    75.997981    79.597981\n",
        "2013-06-12 20:00:00-06:00  77.257985    74.377985    80.137985\n",
        "2013-06-13 05:00:00-06:00  58.376002    54.656002    62.096002\n",
        "2013-06-13 06:00:00-06:00  57.110011    53.150011    61.070011\n",
        "2013-06-13 07:00:00-06:00  63.170015    59.330015    67.010015\n",
        "2013-06-13 08:00:00-06:00  69.230018    65.510018    72.950018\n",
        "2013-06-13 09:00:00-06:00  75.290022    71.690022    78.890022\n",
        "2013-06-13 20:00:00-06:00  77.444020    73.784020    81.104020"
       ]
      }
     ],
     "prompt_number": 24
    },
    {
     "cell_type": "markdown",
     "source": [
      "### What are the minimum and maximum temperatures in the forthcoming days"
     ]
    },
    {
     "cell_type": "code",
     "collapsed": false,
     "input": [
      "temps7 = temps4.groupby(temps4.index.map(lambda t: t.day)).agg([np.min, np.max])\n",
      "# Removing distracting information\n",
      "del temps7['Lo STDV (F)'] \n",
      "del temps7['Hi STDV (F)'] \n",
      "temps7"
     ],
     "language": "python",
     "outputs": [
      {
       "html": [
        "<div style=\"max-height:1000px;max-width:1500px;overflow:auto;\">\n",
        "<table border=\"1\" class=\"dataframe\">\n",
        "  <thead>\n",
        "    <tr>\n",
        "      <th></th>\n",
        "      <th colspan=\"2\" halign=\"left\">T (F)</th>\n",
        "    </tr>\n",
        "    <tr>\n",
        "      <th></th>\n",
        "      <th>amin</th>\n",
        "      <th>amax</th>\n",
        "    </tr>\n",
        "  </thead>\n",
        "  <tbody>\n",
        "    <tr>\n",
        "      <th>10</th>\n",
        "      <td> 91.820015</td>\n",
        "      <td> 96.080000</td>\n",
        "    </tr>\n",
        "    <tr>\n",
        "      <th>11</th>\n",
        "      <td> 59.576002</td>\n",
        "      <td> 90.733998</td>\n",
        "    </tr>\n",
        "    <tr>\n",
        "      <th>12</th>\n",
        "      <td> 56.173976</td>\n",
        "      <td> 87.169978</td>\n",
        "    </tr>\n",
        "    <tr>\n",
        "      <th>13</th>\n",
        "      <td> 57.110011</td>\n",
        "      <td> 91.165980</td>\n",
        "    </tr>\n",
        "    <tr>\n",
        "      <th>14</th>\n",
        "      <td> 72.590022</td>\n",
        "      <td> 87.152015</td>\n",
        "    </tr>\n",
        "  </tbody>\n",
        "</table>\n",
        "</div>"
       ],
       "output_type": "pyout",
       "prompt_number": 25,
       "text": [
        "        T (F)           \n",
        "         amin       amax\n",
        "10  91.820015  96.080000\n",
        "11  59.576002  90.733998\n",
        "12  56.173976  87.169978\n",
        "13  57.110011  91.165980\n",
        "14  72.590022  87.152015"
       ]
      }
     ],
     "prompt_number": 25
    }
   ]
  }
 ]
}