{
 "metadata": {
  "name": "ncss"
 },
 "nbformat": 3,
 "nbformat_minor": 0,
 "worksheets": [
  {
   "cells": [
    {
     "cell_type": "markdown",
     "source": [
      "# Exploring THREDDS netCDF Subset Service (NCSS) with Pandas\n",
      "- NCSS is a web service for subsetting CDM scientific datasets.\n",
      "- Pandas is a popular data analysis library (think R, SQL, Excel, etc)\n",
      "- NCSS can return CSV format which works well with Pandas"
     ]
    },
    {
     "cell_type": "markdown",
     "source": [
      "## Let's explore some Short Range Ensemble Forecast (SREF) data from the TDS\n",
      "- Build the NCSS URL parameters.\n",
      "- Request CSV data\n",
      "- Read data into a \"Pandas DataFrame\" object"
     ]
    },
    {
     "cell_type": "code",
     "collapsed": false,
     "input": [
      "import urllib\n",
      "import datetime as dt\n",
      "import string\n",
      "import pandas as pd\n",
      "\n",
      "ncss_url = \"http://thredds.ucar.edu/thredds/ncss/grid/grib/NCEP/SREF/CONUS_40km/ensprod_biasc/collection\"\n",
      "\n",
      "start_time = dt.datetime.utcnow() - dt.timedelta(hours = 12)\n",
      "\n",
      "parameters = (('var', 'Temperature_height_above_ground_weightedMean'), \n",
      "     ('var', 'Temperature_height_above_ground_stdDev'), \n",
      "     ('latitude', 40.044385),\n",
      "     ('longitude', -105.21928),\n",
      "     ('time_start', start_time.strftime(\"%Y-%m-%dT%H\")),\n",
      "     ('time_duration', 'P3DT12H'),\n",
      "     ('accept','csv'),\n",
      "     ('point', 'true'))\n",
      "\n",
      "params = urllib.urlencode(parameters)\n",
      "\n",
      "#print(url)\n",
      "url = string.join([ncss_url, params], '?')\n",
      "\n",
      "# Reading remote data into a pandas data frame\n",
      "d  = pd.read_csv(url,  parse_dates={'datetime':['date']}, date_parser=\n",
      "    lambda x: dt.datetime.strptime( x, '%Y-%m-%dT%H:%M:%SZ'), index_col='datetime')\n",
      "temps = d.ix[:, [3,4]]\n",
      "temps.head()\n"
     ],
     "language": "python",
     "outputs": [
      {
       "html": [
        "<pre>\n",
        "&ltclass 'pandas.core.frame.DataFrame'&gt\n",
        "DatetimeIndex: 5 entries, 2013-06-09 03:00:00 to 2013-06-09 15:00:00\n",
        "Data columns (total 2 columns):\n",
        "Temperature_height_above_ground_weightedMean[unit=\"K\"]    5  non-null values\n",
        "Temperature_height_above_ground_stdDev[unit=\"K\"]          5  non-null values\n",
        "dtypes: float64(2)\n",
        "</pre>"
       ],
       "output_type": "pyout",
       "prompt_number": 84,
       "text": [
        "                     Temperature_height_above_ground_weightedMean[unit=\"K\"]  \\\n",
        "datetime                                                                      \n",
        "2013-06-09 03:00:00                                         290.850006        \n",
        "2013-06-09 06:00:00                                         288.429993        \n",
        "2013-06-09 09:00:00                                         285.359985        \n",
        "2013-06-09 12:00:00                                         284.649994        \n",
        "2013-06-09 15:00:00                                         293.410004        \n",
        "\n",
        "                     Temperature_height_above_ground_stdDev[unit=\"K\"]  \n",
        "datetime                                                               \n",
        "2013-06-09 03:00:00                                               0.9  \n",
        "2013-06-09 06:00:00                                               1.2  \n",
        "2013-06-09 09:00:00                                               1.1  \n",
        "2013-06-09 12:00:00                                               1.1  \n",
        "2013-06-09 15:00:00                                               1.2  "
       ]
      }
     ],
     "prompt_number": 84
    },
    {
     "cell_type": "markdown",
     "source": [
      "## Let's make the columns nicer."
     ]
    },
    {
     "cell_type": "code",
     "collapsed": false,
     "input": [
      "temps.columns = ['T (K)', 'T STDV (K)']\n",
      "temps.head()"
     ],
     "language": "python",
     "outputs": [
      {
       "html": [
        "<div style=\"max-height:1000px;max-width:1500px;overflow:auto;\">\n",
        "<table border=\"1\" class=\"dataframe\">\n",
        "  <thead>\n",
        "    <tr style=\"text-align: right;\">\n",
        "      <th></th>\n",
        "      <th>T (K)</th>\n",
        "      <th>T STDV (K)</th>\n",
        "    </tr>\n",
        "    <tr>\n",
        "      <th>datetime</th>\n",
        "      <th></th>\n",
        "      <th></th>\n",
        "    </tr>\n",
        "  </thead>\n",
        "  <tbody>\n",
        "    <tr>\n",
        "      <th>2013-06-09 03:00:00</th>\n",
        "      <td> 290.850006</td>\n",
        "      <td> 0.9</td>\n",
        "    </tr>\n",
        "    <tr>\n",
        "      <th>2013-06-09 06:00:00</th>\n",
        "      <td> 288.429993</td>\n",
        "      <td> 1.2</td>\n",
        "    </tr>\n",
        "    <tr>\n",
        "      <th>2013-06-09 09:00:00</th>\n",
        "      <td> 285.359985</td>\n",
        "      <td> 1.1</td>\n",
        "    </tr>\n",
        "    <tr>\n",
        "      <th>2013-06-09 12:00:00</th>\n",
        "      <td> 284.649994</td>\n",
        "      <td> 1.1</td>\n",
        "    </tr>\n",
        "    <tr>\n",
        "      <th>2013-06-09 15:00:00</th>\n",
        "      <td> 293.410004</td>\n",
        "      <td> 1.2</td>\n",
        "    </tr>\n",
        "  </tbody>\n",
        "</table>\n",
        "</div>"
       ],
       "output_type": "pyout",
       "prompt_number": 85,
       "text": [
        "                          T (K)  T STDV (K)\n",
        "datetime                                   \n",
        "2013-06-09 03:00:00  290.850006         0.9\n",
        "2013-06-09 06:00:00  288.429993         1.2\n",
        "2013-06-09 09:00:00  285.359985         1.1\n",
        "2013-06-09 12:00:00  284.649994         1.1\n",
        "2013-06-09 15:00:00  293.410004         1.2"
       ]
      }
     ],
     "prompt_number": 85
    },
    {
     "cell_type": "markdown",
     "source": [
      "## Let's make standard deviation "
     ]
    },
    {
     "cell_type": "code",
     "collapsed": false,
     "input": [
      "temps['Lo STDV (K)'] = temps['T (K)'] - temps['T STDV (K)']\n",
      "temps['Hi STDV (K)'] = temps['T (K)'] + temps['T STDV (K)']\n",
      "\n",
      "# Pandas dataframes are mutable, therefore deep copy\n",
      "temps2 = temps.copy()\n",
      "# Getting rid of stdv column to make things simpler below \n",
      "del temps2['T STDV (K)']\n",
      "temps2.head()"
     ],
     "language": "python",
     "outputs": [
      {
       "html": [
        "<div style=\"max-height:1000px;max-width:1500px;overflow:auto;\">\n",
        "<table border=\"1\" class=\"dataframe\">\n",
        "  <thead>\n",
        "    <tr style=\"text-align: right;\">\n",
        "      <th></th>\n",
        "      <th>T (K)</th>\n",
        "      <th>Lo STDV (K)</th>\n",
        "      <th>Hi STDV (K)</th>\n",
        "    </tr>\n",
        "    <tr>\n",
        "      <th>datetime</th>\n",
        "      <th></th>\n",
        "      <th></th>\n",
        "      <th></th>\n",
        "    </tr>\n",
        "  </thead>\n",
        "  <tbody>\n",
        "    <tr>\n",
        "      <th>2013-06-09 03:00:00</th>\n",
        "      <td> 290.850006</td>\n",
        "      <td> 289.950006</td>\n",
        "      <td> 291.750006</td>\n",
        "    </tr>\n",
        "    <tr>\n",
        "      <th>2013-06-09 06:00:00</th>\n",
        "      <td> 288.429993</td>\n",
        "      <td> 287.229993</td>\n",
        "      <td> 289.629993</td>\n",
        "    </tr>\n",
        "    <tr>\n",
        "      <th>2013-06-09 09:00:00</th>\n",
        "      <td> 285.359985</td>\n",
        "      <td> 284.259985</td>\n",
        "      <td> 286.459985</td>\n",
        "    </tr>\n",
        "    <tr>\n",
        "      <th>2013-06-09 12:00:00</th>\n",
        "      <td> 284.649994</td>\n",
        "      <td> 283.549994</td>\n",
        "      <td> 285.749994</td>\n",
        "    </tr>\n",
        "    <tr>\n",
        "      <th>2013-06-09 15:00:00</th>\n",
        "      <td> 293.410004</td>\n",
        "      <td> 292.210004</td>\n",
        "      <td> 294.610004</td>\n",
        "    </tr>\n",
        "  </tbody>\n",
        "</table>\n",
        "</div>"
       ],
       "output_type": "pyout",
       "prompt_number": 108,
       "text": [
        "                          T (K)  Lo STDV (K)  Hi STDV (K)\n",
        "datetime                                                 \n",
        "2013-06-09 03:00:00  290.850006   289.950006   291.750006\n",
        "2013-06-09 06:00:00  288.429993   287.229993   289.629993\n",
        "2013-06-09 09:00:00  285.359985   284.259985   286.459985\n",
        "2013-06-09 12:00:00  284.649994   283.549994   285.749994\n",
        "2013-06-09 15:00:00  293.410004   292.210004   294.610004"
       ]
      }
     ],
     "prompt_number": 108
    },
    {
     "cell_type": "code",
     "collapsed": false,
     "input": [
      "convKF = lambda x: (x - 273.15) * 1.8 + 32\n",
      "temps3 = temps2.apply(convKF)\n",
      "temps3.columns = ['T (F)',  'Lo STDV (F)',  'Hi STDV (F)']\n",
      "temps3.head()"
     ],
     "language": "python",
     "outputs": [
      {
       "html": [
        "<div style=\"max-height:1000px;max-width:1500px;overflow:auto;\">\n",
        "<table border=\"1\" class=\"dataframe\">\n",
        "  <thead>\n",
        "    <tr style=\"text-align: right;\">\n",
        "      <th></th>\n",
        "      <th>T (F)</th>\n",
        "      <th>Lo STDV (F)</th>\n",
        "      <th>Hi STDV (F)</th>\n",
        "    </tr>\n",
        "    <tr>\n",
        "      <th>datetime</th>\n",
        "      <th></th>\n",
        "      <th></th>\n",
        "      <th></th>\n",
        "    </tr>\n",
        "  </thead>\n",
        "  <tbody>\n",
        "    <tr>\n",
        "      <th>2013-06-09 03:00:00</th>\n",
        "      <td> 63.860011</td>\n",
        "      <td> 62.240011</td>\n",
        "      <td> 65.480011</td>\n",
        "    </tr>\n",
        "    <tr>\n",
        "      <th>2013-06-09 06:00:00</th>\n",
        "      <td> 59.503987</td>\n",
        "      <td> 57.343987</td>\n",
        "      <td> 61.663987</td>\n",
        "    </tr>\n",
        "    <tr>\n",
        "      <th>2013-06-09 09:00:00</th>\n",
        "      <td> 53.977974</td>\n",
        "      <td> 51.997974</td>\n",
        "      <td> 55.957974</td>\n",
        "    </tr>\n",
        "    <tr>\n",
        "      <th>2013-06-09 12:00:00</th>\n",
        "      <td> 52.699989</td>\n",
        "      <td> 50.719989</td>\n",
        "      <td> 54.679989</td>\n",
        "    </tr>\n",
        "    <tr>\n",
        "      <th>2013-06-09 15:00:00</th>\n",
        "      <td> 68.468007</td>\n",
        "      <td> 66.308007</td>\n",
        "      <td> 70.628007</td>\n",
        "    </tr>\n",
        "  </tbody>\n",
        "</table>\n",
        "</div>"
       ],
       "output_type": "pyout",
       "prompt_number": 117,
       "text": [
        "                         T (F)  Lo STDV (F)  Hi STDV (F)\n",
        "datetime                                                \n",
        "2013-06-09 03:00:00  63.860011    62.240011    65.480011\n",
        "2013-06-09 06:00:00  59.503987    57.343987    61.663987\n",
        "2013-06-09 09:00:00  53.977974    51.997974    55.957974\n",
        "2013-06-09 12:00:00  52.699989    50.719989    54.679989\n",
        "2013-06-09 15:00:00  68.468007    66.308007    70.628007"
       ]
      }
     ],
     "prompt_number": 117
    },
    {
     "cell_type": "markdown",
     "source": [
      "## Now let's plot"
     ]
    },
    {
     "cell_type": "code",
     "collapsed": false,
     "input": [
      "ax = temps3.plot(color = 'g')\n",
      "ax.fill_between(temps3.index,temps3['Lo STDV (F)'],temps3['Hi STDV (F)'], alpha=0.4)"
     ],
     "language": "python",
     "outputs": [
      {
       "output_type": "pyout",
       "prompt_number": 131,
       "text": [
        "<matplotlib.collections.PolyCollection at 0x1107971d0>"
       ]
      },
      {
       "output_type": "display_data",
       "png": "[encoded data removed]"
      }
     ],
     "prompt_number": 131
    },
    {
     "cell_type": "markdown",
     "source": [
      "## Pandas has powerful data searching capability"
     ]
    },
    {
     "cell_type": "code",
     "collapsed": false,
     "input": [
      "\n",
      "# Give me temperatures at 18Z for any day.\n",
      "temps3.at_time('18:00')\n"
     ],
     "language": "python",
     "outputs": [
      {
       "html": [
        "<div style=\"max-height:1000px;max-width:1500px;overflow:auto;\">\n",
        "<table border=\"1\" class=\"dataframe\">\n",
        "  <thead>\n",
        "    <tr style=\"text-align: right;\">\n",
        "      <th></th>\n",
        "      <th>T (F)</th>\n",
        "      <th>Lo STDV (F)</th>\n",
        "      <th>Hi STDV (F)</th>\n",
        "    </tr>\n",
        "    <tr>\n",
        "      <th>datetime</th>\n",
        "      <th></th>\n",
        "      <th></th>\n",
        "      <th></th>\n",
        "    </tr>\n",
        "  </thead>\n",
        "  <tbody>\n",
        "    <tr>\n",
        "      <th>2013-06-09 18:00:00</th>\n",
        "      <td> 79.790022</td>\n",
        "      <td> 77.630022</td>\n",
        "      <td> 81.950022</td>\n",
        "    </tr>\n",
        "    <tr>\n",
        "      <th>2013-06-10 18:00:00</th>\n",
        "      <td> 94.280000</td>\n",
        "      <td> 93.200000</td>\n",
        "      <td> 95.360000</td>\n",
        "    </tr>\n",
        "    <tr>\n",
        "      <th>2013-06-11 18:00:00</th>\n",
        "      <td> 87.457985</td>\n",
        "      <td> 83.857985</td>\n",
        "      <td> 91.057985</td>\n",
        "    </tr>\n",
        "  </tbody>\n",
        "</table>\n",
        "</div>"
       ],
       "output_type": "pyout",
       "prompt_number": 122,
       "text": [
        "                         T (F)  Lo STDV (F)  Hi STDV (F)\n",
        "datetime                                                \n",
        "2013-06-09 18:00:00  79.790022    77.630022    81.950022\n",
        "2013-06-10 18:00:00  94.280000    93.200000    95.360000\n",
        "2013-06-11 18:00:00  87.457985    83.857985    91.057985"
       ]
      }
     ],
     "prompt_number": 122
    },
    {
     "cell_type": "code",
     "collapsed": false,
     "input": [
      "# Give me temperatures between 10Z and 16Z for any day\n",
      "temps3.between_time('10:00', '16:00')\n"
     ],
     "language": "python",
     "outputs": [
      {
       "html": [
        "<div style=\"max-height:1000px;max-width:1500px;overflow:auto;\">\n",
        "<table border=\"1\" class=\"dataframe\">\n",
        "  <thead>\n",
        "    <tr style=\"text-align: right;\">\n",
        "      <th></th>\n",
        "      <th>T (F)</th>\n",
        "      <th>Lo STDV (F)</th>\n",
        "      <th>Hi STDV (F)</th>\n",
        "    </tr>\n",
        "    <tr>\n",
        "      <th>datetime</th>\n",
        "      <th></th>\n",
        "      <th></th>\n",
        "      <th></th>\n",
        "    </tr>\n",
        "  </thead>\n",
        "  <tbody>\n",
        "    <tr>\n",
        "      <th>2013-06-09 12:00:00</th>\n",
        "      <td> 52.699989</td>\n",
        "      <td> 50.719989</td>\n",
        "      <td> 54.679989</td>\n",
        "    </tr>\n",
        "    <tr>\n",
        "      <th>2013-06-09 15:00:00</th>\n",
        "      <td> 68.468007</td>\n",
        "      <td> 66.308007</td>\n",
        "      <td> 70.628007</td>\n",
        "    </tr>\n",
        "    <tr>\n",
        "      <th>2013-06-10 12:00:00</th>\n",
        "      <td> 55.687996</td>\n",
        "      <td> 52.987996</td>\n",
        "      <td> 58.387996</td>\n",
        "    </tr>\n",
        "    <tr>\n",
        "      <th>2013-06-10 15:00:00</th>\n",
        "      <td> 82.453987</td>\n",
        "      <td> 79.753987</td>\n",
        "      <td> 85.153987</td>\n",
        "    </tr>\n",
        "    <tr>\n",
        "      <th>2013-06-11 12:00:00</th>\n",
        "      <td> 65.786024</td>\n",
        "      <td> 62.366024</td>\n",
        "      <td> 69.206024</td>\n",
        "    </tr>\n",
        "    <tr>\n",
        "      <th>2013-06-11 15:00:00</th>\n",
        "      <td> 80.149989</td>\n",
        "      <td> 77.089989</td>\n",
        "      <td> 83.209989</td>\n",
        "    </tr>\n",
        "    <tr>\n",
        "      <th>2013-06-12 12:00:00</th>\n",
        "      <td> 57.740022</td>\n",
        "      <td> 55.940022</td>\n",
        "      <td> 59.540022</td>\n",
        "    </tr>\n",
        "    <tr>\n",
        "      <th>2013-06-12 15:00:00</th>\n",
        "      <td> 73.669978</td>\n",
        "      <td> 70.429978</td>\n",
        "      <td> 76.909978</td>\n",
        "    </tr>\n",
        "  </tbody>\n",
        "</table>\n",
        "</div>"
       ],
       "output_type": "pyout",
       "prompt_number": 133,
       "text": [
        "                         T (F)  Lo STDV (F)  Hi STDV (F)\n",
        "datetime                                                \n",
        "2013-06-09 12:00:00  52.699989    50.719989    54.679989\n",
        "2013-06-09 15:00:00  68.468007    66.308007    70.628007\n",
        "2013-06-10 12:00:00  55.687996    52.987996    58.387996\n",
        "2013-06-10 15:00:00  82.453987    79.753987    85.153987\n",
        "2013-06-11 12:00:00  65.786024    62.366024    69.206024\n",
        "2013-06-11 15:00:00  80.149989    77.089989    83.209989\n",
        "2013-06-12 12:00:00  57.740022    55.940022    59.540022\n",
        "2013-06-12 15:00:00  73.669978    70.429978    76.909978"
       ]
      }
     ],
     "prompt_number": 133
    }
   ]
  }
 ]
}