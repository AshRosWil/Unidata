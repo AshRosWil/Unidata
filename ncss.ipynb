{
 "metadata": {
  "name": "ncss"
 },
 "nbformat": 3,
 "nbformat_minor": 0,
 "worksheets": [
  {
   "cells": [
    {
     "cell_type": "markdown",
     "source": [
      "# Exploring THREDDS netCDF Subset Service (NCSS) with Pandas\n",
      "- NCSS is a web service for subsetting CDM scientific datasets.\n",
      "- Pandas is a popular data analysis library (think R, SQL, Excel, etc.).\n",
      "- NCSS can return CSV format which works well with Pandas.\n",
      "- "
     ]
    },
    {
     "cell_type": "markdown",
     "source": [
      "## Let's explore some Short Range Ensemble Forecast (SREF) data from the TDS\n",
      "- Build the NCSS URL parameters.\n",
      "- Request CSV data\n",
      "- Read data into a \"Pandas DataFrame\" object"
     ]
    },
    {
     "cell_type": "code",
     "collapsed": false,
     "input": [
      "import urllib\n",
      "import datetime as dt\n",
      "import string\n",
      "import pandas as pd\n",
      "\n",
      "# base URL\n",
      "ncss_url = \"http://thredds.ucar.edu/thredds/ncss/grid/grib/NCEP/SREF/CONUS_40km/ensprod_biasc/collection\"\n",
      "\n",
      "start_time = dt.datetime.utcnow() - dt.timedelta(hours = 12)\n",
      "\n",
      "# Construct the URL paramters\n",
      "parameters = (('var', 'Temperature_height_above_ground_weightedMean'), \n",
      "     ('var', 'Temperature_height_above_ground_stdDev'), \n",
      "     ('latitude', 40.044385),\n",
      "     ('longitude', -105.21928),\n",
      "     ('time_start', start_time.strftime(\"%Y-%m-%dT%H\")),\n",
      "     ('time_duration', 'P3DT12H'),\n",
      "     ('accept','csv'),\n",
      "     ('point', 'true'))\n",
      "\n",
      "params = urllib.urlencode(parameters)\n",
      "\n",
      "url = string.join([ncss_url, params], '?')\n",
      "print(url)\n",
      "\n",
      "# Reading remote data into a pandas data frame\n",
      "df  = pd.read_csv(url,  parse_dates={'datetime':['date']}, date_parser=\n",
      "    lambda x: dt.datetime.strptime( x, '%Y-%m-%dT%H:%M:%SZ'), index_col='datetime')\n",
      "temps = df.ix[:, [3,4]]\n",
      "temps.head()\n"
     ],
     "language": "python",
     "outputs": [
      {
       "output_type": "stream",
       "stream": "stdout",
       "text": [
        "http://thredds.ucar.edu/thredds/ncss/grid/grib/NCEP/SREF/CONUS_40km/ensprod_biasc/collection?var=Temperature_height_above_ground_weightedMean&var=Temperature_height_above_ground_stdDev&latitude=40.044385&longitude=-105.21928&time_start=2013-06-10T10&time_duration=P3DT12H&accept=csv&point=true\n"
       ]
      },
      {
       "html": [
        "<pre>\n",
        "&ltclass 'pandas.core.frame.DataFrame'&gt\n",
        "DatetimeIndex: 5 entries, 2013-06-10 12:00:00 to 2013-06-11 00:00:00\n",
        "Data columns (total 2 columns):\n",
        "Temperature_height_above_ground_weightedMean[unit=\"K\"]    5  non-null values\n",
        "Temperature_height_above_ground_stdDev[unit=\"K\"]          5  non-null values\n",
        "dtypes: float64(2)\n",
        "</pre>"
       ],
       "output_type": "pyout",
       "prompt_number": 113,
       "text": [
        "                     Temperature_height_above_ground_weightedMean[unit=\"K\"]  \\\n",
        "datetime                                                                      \n",
        "2013-06-10 12:00:00                                         287.329987        \n",
        "2013-06-10 15:00:00                                         301.000000        \n",
        "2013-06-10 18:00:00                                         307.380005        \n",
        "2013-06-10 21:00:00                                         308.750000        \n",
        "2013-06-11 00:00:00                                         307.140015        \n",
        "\n",
        "                     Temperature_height_above_ground_stdDev[unit=\"K\"]  \n",
        "datetime                                                               \n",
        "2013-06-10 12:00:00                                               0.9  \n",
        "2013-06-10 15:00:00                                               1.0  \n",
        "2013-06-10 18:00:00                                               0.7  \n",
        "2013-06-10 21:00:00                                               0.9  \n",
        "2013-06-11 00:00:00                                               1.0  "
       ]
      }
     ],
     "prompt_number": 113
    },
    {
     "cell_type": "markdown",
     "source": [
      "## Let's make the columns nicer."
     ]
    },
    {
     "cell_type": "code",
     "collapsed": false,
     "input": [
      "temps.columns = ['T (K)', 'T STDV (K)']\n",
      "#Let's localize the time zone for good measure\n",
      "temps = temps.tz_localize('UTC')\n",
      "temps.head()"
     ],
     "language": "python",
     "outputs": [
      {
       "html": [
        "<div style=\"max-height:1000px;max-width:1500px;overflow:auto;\">\n",
        "<table border=\"1\" class=\"dataframe\">\n",
        "  <thead>\n",
        "    <tr style=\"text-align: right;\">\n",
        "      <th></th>\n",
        "      <th>T (K)</th>\n",
        "      <th>T STDV (K)</th>\n",
        "    </tr>\n",
        "    <tr>\n",
        "      <th>datetime</th>\n",
        "      <th></th>\n",
        "      <th></th>\n",
        "    </tr>\n",
        "  </thead>\n",
        "  <tbody>\n",
        "    <tr>\n",
        "      <th>2013-06-10 12:00:00+00:00</th>\n",
        "      <td> 287.329987</td>\n",
        "      <td> 0.9</td>\n",
        "    </tr>\n",
        "    <tr>\n",
        "      <th>2013-06-10 15:00:00+00:00</th>\n",
        "      <td> 301.000000</td>\n",
        "      <td> 1.0</td>\n",
        "    </tr>\n",
        "    <tr>\n",
        "      <th>2013-06-10 18:00:00+00:00</th>\n",
        "      <td> 307.380005</td>\n",
        "      <td> 0.7</td>\n",
        "    </tr>\n",
        "    <tr>\n",
        "      <th>2013-06-10 21:00:00+00:00</th>\n",
        "      <td> 308.750000</td>\n",
        "      <td> 0.9</td>\n",
        "    </tr>\n",
        "    <tr>\n",
        "      <th>2013-06-11 00:00:00+00:00</th>\n",
        "      <td> 307.140015</td>\n",
        "      <td> 1.0</td>\n",
        "    </tr>\n",
        "  </tbody>\n",
        "</table>\n",
        "</div>"
       ],
       "output_type": "pyout",
       "prompt_number": 114,
       "text": [
        "                                T (K)  T STDV (K)\n",
        "datetime                                         \n",
        "2013-06-10 12:00:00+00:00  287.329987         0.9\n",
        "2013-06-10 15:00:00+00:00  301.000000         1.0\n",
        "2013-06-10 18:00:00+00:00  307.380005         0.7\n",
        "2013-06-10 21:00:00+00:00  308.750000         0.9\n",
        "2013-06-11 00:00:00+00:00  307.140015         1.0"
       ]
      }
     ],
     "prompt_number": 114
    },
    {
     "cell_type": "markdown",
     "source": [
      "## Let's prepare the data for plotting"
     ]
    },
    {
     "cell_type": "code",
     "collapsed": false,
     "input": [
      "temps['Lo STDV (K)'] = temps['T (K)'] - temps['T STDV (K)']\n",
      "temps['Hi STDV (K)'] = temps['T (K)'] + temps['T STDV (K)']\n",
      "\n",
      "# Pandas dataframes are mutable, therefore deep copy\n",
      "temps2 = temps.copy()\n",
      "# Getting rid of stdv column to make things simpler below \n",
      "del temps2['T STDV (K)']\n",
      "temps2.head()"
     ],
     "language": "python",
     "outputs": [
      {
       "html": [
        "<div style=\"max-height:1000px;max-width:1500px;overflow:auto;\">\n",
        "<table border=\"1\" class=\"dataframe\">\n",
        "  <thead>\n",
        "    <tr style=\"text-align: right;\">\n",
        "      <th></th>\n",
        "      <th>T (K)</th>\n",
        "      <th>Lo STDV (K)</th>\n",
        "      <th>Hi STDV (K)</th>\n",
        "    </tr>\n",
        "    <tr>\n",
        "      <th>datetime</th>\n",
        "      <th></th>\n",
        "      <th></th>\n",
        "      <th></th>\n",
        "    </tr>\n",
        "  </thead>\n",
        "  <tbody>\n",
        "    <tr>\n",
        "      <th>2013-06-10 12:00:00+00:00</th>\n",
        "      <td> 287.329987</td>\n",
        "      <td> 286.429987</td>\n",
        "      <td> 288.229987</td>\n",
        "    </tr>\n",
        "    <tr>\n",
        "      <th>2013-06-10 15:00:00+00:00</th>\n",
        "      <td> 301.000000</td>\n",
        "      <td> 300.000000</td>\n",
        "      <td> 302.000000</td>\n",
        "    </tr>\n",
        "    <tr>\n",
        "      <th>2013-06-10 18:00:00+00:00</th>\n",
        "      <td> 307.380005</td>\n",
        "      <td> 306.680005</td>\n",
        "      <td> 308.080005</td>\n",
        "    </tr>\n",
        "    <tr>\n",
        "      <th>2013-06-10 21:00:00+00:00</th>\n",
        "      <td> 308.750000</td>\n",
        "      <td> 307.850000</td>\n",
        "      <td> 309.650000</td>\n",
        "    </tr>\n",
        "    <tr>\n",
        "      <th>2013-06-11 00:00:00+00:00</th>\n",
        "      <td> 307.140015</td>\n",
        "      <td> 306.140015</td>\n",
        "      <td> 308.140015</td>\n",
        "    </tr>\n",
        "  </tbody>\n",
        "</table>\n",
        "</div>"
       ],
       "output_type": "pyout",
       "prompt_number": 115,
       "text": [
        "                                T (K)  Lo STDV (K)  Hi STDV (K)\n",
        "datetime                                                       \n",
        "2013-06-10 12:00:00+00:00  287.329987   286.429987   288.229987\n",
        "2013-06-10 15:00:00+00:00  301.000000   300.000000   302.000000\n",
        "2013-06-10 18:00:00+00:00  307.380005   306.680005   308.080005\n",
        "2013-06-10 21:00:00+00:00  308.750000   307.850000   309.650000\n",
        "2013-06-11 00:00:00+00:00  307.140015   306.140015   308.140015"
       ]
      }
     ],
     "prompt_number": 115
    },
    {
     "cell_type": "markdown",
     "source": [
      "## Let's resample the data to one hourly data"
     ]
    },
    {
     "cell_type": "code",
     "collapsed": false,
     "input": [
      "from scipy.interpolate import interp1d\n",
      "\n",
      "temps3 = temps2.asfreq('1H')\n",
      "temps3 = temps3.apply(pd.Series.interpolate)\n",
      "temps3.head()"
     ],
     "language": "python",
     "outputs": [
      {
       "html": [
        "<div style=\"max-height:1000px;max-width:1500px;overflow:auto;\">\n",
        "<table border=\"1\" class=\"dataframe\">\n",
        "  <thead>\n",
        "    <tr style=\"text-align: right;\">\n",
        "      <th></th>\n",
        "      <th>T (K)</th>\n",
        "      <th>Lo STDV (K)</th>\n",
        "      <th>Hi STDV (K)</th>\n",
        "    </tr>\n",
        "  </thead>\n",
        "  <tbody>\n",
        "    <tr>\n",
        "      <th>2013-06-10 09:00:00+00:00</th>\n",
        "      <td> 285.630005</td>\n",
        "      <td> 284.030005</td>\n",
        "      <td> 287.230005</td>\n",
        "    </tr>\n",
        "    <tr>\n",
        "      <th>2013-06-10 10:00:00+00:00</th>\n",
        "      <td> 286.196665</td>\n",
        "      <td> 284.829999</td>\n",
        "      <td> 287.563332</td>\n",
        "    </tr>\n",
        "    <tr>\n",
        "      <th>2013-06-10 11:00:00+00:00</th>\n",
        "      <td> 286.763326</td>\n",
        "      <td> 285.629993</td>\n",
        "      <td> 287.896659</td>\n",
        "    </tr>\n",
        "    <tr>\n",
        "      <th>2013-06-10 12:00:00+00:00</th>\n",
        "      <td> 287.329987</td>\n",
        "      <td> 286.429987</td>\n",
        "      <td> 288.229987</td>\n",
        "    </tr>\n",
        "    <tr>\n",
        "      <th>2013-06-10 13:00:00+00:00</th>\n",
        "      <td> 291.886658</td>\n",
        "      <td> 290.953324</td>\n",
        "      <td> 292.819991</td>\n",
        "    </tr>\n",
        "  </tbody>\n",
        "</table>\n",
        "</div>"
       ],
       "output_type": "pyout",
       "prompt_number": 104,
       "text": [
        "                                T (K)  Lo STDV (K)  Hi STDV (K)\n",
        "2013-06-10 09:00:00+00:00  285.630005   284.030005   287.230005\n",
        "2013-06-10 10:00:00+00:00  286.196665   284.829999   287.563332\n",
        "2013-06-10 11:00:00+00:00  286.763326   285.629993   287.896659\n",
        "2013-06-10 12:00:00+00:00  287.329987   286.429987   288.229987\n",
        "2013-06-10 13:00:00+00:00  291.886658   290.953324   292.819991"
       ]
      }
     ],
     "prompt_number": 104
    },
    {
     "cell_type": "code",
     "collapsed": false,
     "input": [
      "## Convert from Kelvin to Fahrenheit\n",
      "- Remember to change the units in the column names."
     ],
     "language": "python",
     "outputs": []
    },
    {
     "cell_type": "code",
     "collapsed": false,
     "input": [
      "convKF = lambda x: (x - 273.15) * 1.8 + 32\n",
      "temps4 = temps3.apply(convKF)\n",
      "temps4.columns = ['T (F)',  'Lo STDV (F)',  'Hi STDV (F)']\n",
      "temps4.head()"
     ],
     "language": "python",
     "outputs": [
      {
       "html": [
        "<div style=\"max-height:1000px;max-width:1500px;overflow:auto;\">\n",
        "<table border=\"1\" class=\"dataframe\">\n",
        "  <thead>\n",
        "    <tr style=\"text-align: right;\">\n",
        "      <th></th>\n",
        "      <th>T (F)</th>\n",
        "      <th>Lo STDV (F)</th>\n",
        "      <th>Hi STDV (F)</th>\n",
        "    </tr>\n",
        "  </thead>\n",
        "  <tbody>\n",
        "    <tr>\n",
        "      <th>2013-06-10 09:00:00+00:00</th>\n",
        "      <td> 54.464009</td>\n",
        "      <td> 51.584009</td>\n",
        "      <td> 57.344009</td>\n",
        "    </tr>\n",
        "    <tr>\n",
        "      <th>2013-06-10 10:00:00+00:00</th>\n",
        "      <td> 55.483998</td>\n",
        "      <td> 53.023998</td>\n",
        "      <td> 57.943998</td>\n",
        "    </tr>\n",
        "    <tr>\n",
        "      <th>2013-06-10 11:00:00+00:00</th>\n",
        "      <td> 56.503987</td>\n",
        "      <td> 54.463987</td>\n",
        "      <td> 58.543987</td>\n",
        "    </tr>\n",
        "    <tr>\n",
        "      <th>2013-06-10 12:00:00+00:00</th>\n",
        "      <td> 57.523976</td>\n",
        "      <td> 55.903976</td>\n",
        "      <td> 59.143976</td>\n",
        "    </tr>\n",
        "    <tr>\n",
        "      <th>2013-06-10 13:00:00+00:00</th>\n",
        "      <td> 65.725984</td>\n",
        "      <td> 64.045984</td>\n",
        "      <td> 67.405984</td>\n",
        "    </tr>\n",
        "  </tbody>\n",
        "</table>\n",
        "</div>"
       ],
       "output_type": "pyout",
       "prompt_number": 118,
       "text": [
        "                               T (F)  Lo STDV (F)  Hi STDV (F)\n",
        "2013-06-10 09:00:00+00:00  54.464009    51.584009    57.344009\n",
        "2013-06-10 10:00:00+00:00  55.483998    53.023998    57.943998\n",
        "2013-06-10 11:00:00+00:00  56.503987    54.463987    58.543987\n",
        "2013-06-10 12:00:00+00:00  57.523976    55.903976    59.143976\n",
        "2013-06-10 13:00:00+00:00  65.725984    64.045984    67.405984"
       ]
      }
     ],
     "prompt_number": 118
    },
    {
     "cell_type": "markdown",
     "source": [
      "## Now let's plot"
     ]
    },
    {
     "cell_type": "code",
     "collapsed": false,
     "input": [
      "ax = temps4.plot(color = 'b')\n",
      "ax.fill_between(temps4.index,temps4['Lo STDV (F)'],temps4['Hi STDV (F)'], alpha=0.4, color='r')"
     ],
     "language": "python",
     "outputs": [
      {
       "output_type": "pyout",
       "prompt_number": 119,
       "text": [
        "<matplotlib.collections.PolyCollection at 0x110474a10>"
       ]
      },
      {
       "output_type": "display_data",
       "png": "[encoded data removed]"
      }
     ],
     "prompt_number": 119
    },
    {
     "cell_type": "markdown",
     "source": [
      "## Pandas has powerful data slicing and dicing capability."
     ]
    },
    {
     "cell_type": "markdown",
     "source": [
      "### I prefer to exercise when the temperature is less than 80 F during \"daylight hours\". \n",
      "- Select temperatures\n",
      "- Convert the time zone to local time\n",
      "- Constrain data between times."
     ]
    },
    {
     "cell_type": "code",
     "collapsed": false,
     "input": [
      "temps5 = temps4[temps4['T (F)'] < 80]\n",
      "temps6 = temps5.tz_convert('US/Mountain')\n",
      "temps6.between_time('5:00', '20:00')\n",
      "\n"
     ],
     "language": "python",
     "outputs": [
      {
       "html": [
        "<div style=\"max-height:1000px;max-width:1500px;overflow:auto;\">\n",
        "<table border=\"1\" class=\"dataframe\">\n",
        "  <thead>\n",
        "    <tr style=\"text-align: right;\">\n",
        "      <th></th>\n",
        "      <th>T (F)</th>\n",
        "      <th>Lo STDV (F)</th>\n",
        "      <th>Hi STDV (F)</th>\n",
        "    </tr>\n",
        "  </thead>\n",
        "  <tbody>\n",
        "    <tr>\n",
        "      <th>2013-06-10 05:00:00-06:00</th>\n",
        "      <td> 56.503987</td>\n",
        "      <td> 54.463987</td>\n",
        "      <td> 58.543987</td>\n",
        "    </tr>\n",
        "    <tr>\n",
        "      <th>2013-06-10 06:00:00-06:00</th>\n",
        "      <td> 57.523976</td>\n",
        "      <td> 55.903976</td>\n",
        "      <td> 59.143976</td>\n",
        "    </tr>\n",
        "    <tr>\n",
        "      <th>2013-06-10 07:00:00-06:00</th>\n",
        "      <td> 65.725984</td>\n",
        "      <td> 64.045984</td>\n",
        "      <td> 67.405984</td>\n",
        "    </tr>\n",
        "    <tr>\n",
        "      <th>2013-06-10 08:00:00-06:00</th>\n",
        "      <td> 73.927992</td>\n",
        "      <td> 72.187992</td>\n",
        "      <td> 75.667992</td>\n",
        "    </tr>\n",
        "    <tr>\n",
        "      <th>2013-06-10 20:00:00-06:00</th>\n",
        "      <td> 79.634016</td>\n",
        "      <td> 76.994016</td>\n",
        "      <td> 82.274016</td>\n",
        "    </tr>\n",
        "    <tr>\n",
        "      <th>2013-06-11 05:00:00-06:00</th>\n",
        "      <td> 58.544001</td>\n",
        "      <td> 55.304002</td>\n",
        "      <td> 61.784001</td>\n",
        "    </tr>\n",
        "    <tr>\n",
        "      <th>2013-06-11 06:00:00-06:00</th>\n",
        "      <td> 59.180000</td>\n",
        "      <td> 55.400000</td>\n",
        "      <td> 62.960000</td>\n",
        "    </tr>\n",
        "    <tr>\n",
        "      <th>2013-06-11 07:00:00-06:00</th>\n",
        "      <td> 66.950007</td>\n",
        "      <td> 63.590007</td>\n",
        "      <td> 70.310007</td>\n",
        "    </tr>\n",
        "    <tr>\n",
        "      <th>2013-06-11 08:00:00-06:00</th>\n",
        "      <td> 74.720015</td>\n",
        "      <td> 71.780015</td>\n",
        "      <td> 77.660015</td>\n",
        "    </tr>\n",
        "    <tr>\n",
        "      <th>2013-06-11 19:00:00-06:00</th>\n",
        "      <td> 79.369978</td>\n",
        "      <td> 77.209978</td>\n",
        "      <td> 81.529978</td>\n",
        "    </tr>\n",
        "    <tr>\n",
        "      <th>2013-06-11 20:00:00-06:00</th>\n",
        "      <td> 74.323976</td>\n",
        "      <td> 71.983976</td>\n",
        "      <td> 76.663976</td>\n",
        "    </tr>\n",
        "    <tr>\n",
        "      <th>2013-06-12 05:00:00-06:00</th>\n",
        "      <td> 59.293983</td>\n",
        "      <td> 57.193983</td>\n",
        "      <td> 61.393983</td>\n",
        "    </tr>\n",
        "    <tr>\n",
        "      <th>2013-06-12 06:00:00-06:00</th>\n",
        "      <td> 58.369978</td>\n",
        "      <td> 56.569978</td>\n",
        "      <td> 60.169978</td>\n",
        "    </tr>\n",
        "    <tr>\n",
        "      <th>2013-06-12 07:00:00-06:00</th>\n",
        "      <td> 63.703987</td>\n",
        "      <td> 61.903987</td>\n",
        "      <td> 65.503987</td>\n",
        "    </tr>\n",
        "    <tr>\n",
        "      <th>2013-06-12 08:00:00-06:00</th>\n",
        "      <td> 69.037996</td>\n",
        "      <td> 67.237996</td>\n",
        "      <td> 70.837996</td>\n",
        "    </tr>\n",
        "    <tr>\n",
        "      <th>2013-06-12 09:00:00-06:00</th>\n",
        "      <td> 74.372004</td>\n",
        "      <td> 72.572004</td>\n",
        "      <td> 76.172004</td>\n",
        "    </tr>\n",
        "    <tr>\n",
        "      <th>2013-06-12 10:00:00-06:00</th>\n",
        "      <td> 77.197999</td>\n",
        "      <td> 75.217999</td>\n",
        "      <td> 79.177999</td>\n",
        "    </tr>\n",
        "    <tr>\n",
        "      <th>2013-06-12 20:00:00-06:00</th>\n",
        "      <td> 77.972004</td>\n",
        "      <td> 74.972004</td>\n",
        "      <td> 80.972004</td>\n",
        "    </tr>\n",
        "    <tr>\n",
        "      <th>2013-06-13 05:00:00-06:00</th>\n",
        "      <td> 57.770015</td>\n",
        "      <td> 54.590015</td>\n",
        "      <td> 60.950015</td>\n",
        "    </tr>\n",
        "    <tr>\n",
        "      <th>2013-06-13 06:00:00-06:00</th>\n",
        "      <td> 57.398018</td>\n",
        "      <td> 54.518018</td>\n",
        "      <td> 60.278018</td>\n",
        "    </tr>\n",
        "    <tr>\n",
        "      <th>2013-06-13 07:00:00-06:00</th>\n",
        "      <td> 63.866017</td>\n",
        "      <td> 60.566017</td>\n",
        "      <td> 67.166017</td>\n",
        "    </tr>\n",
        "    <tr>\n",
        "      <th>2013-06-13 08:00:00-06:00</th>\n",
        "      <td> 70.334016</td>\n",
        "      <td> 66.614016</td>\n",
        "      <td> 74.054016</td>\n",
        "    </tr>\n",
        "    <tr>\n",
        "      <th>2013-06-13 09:00:00-06:00</th>\n",
        "      <td> 76.802015</td>\n",
        "      <td> 72.662015</td>\n",
        "      <td> 80.942015</td>\n",
        "    </tr>\n",
        "  </tbody>\n",
        "</table>\n",
        "</div>"
       ],
       "output_type": "pyout",
       "prompt_number": 140,
       "text": [
        "                               T (F)  Lo STDV (F)  Hi STDV (F)\n",
        "2013-06-10 05:00:00-06:00  56.503987    54.463987    58.543987\n",
        "2013-06-10 06:00:00-06:00  57.523976    55.903976    59.143976\n",
        "2013-06-10 07:00:00-06:00  65.725984    64.045984    67.405984\n",
        "2013-06-10 08:00:00-06:00  73.927992    72.187992    75.667992\n",
        "2013-06-10 20:00:00-06:00  79.634016    76.994016    82.274016\n",
        "2013-06-11 05:00:00-06:00  58.544001    55.304002    61.784001\n",
        "2013-06-11 06:00:00-06:00  59.180000    55.400000    62.960000\n",
        "2013-06-11 07:00:00-06:00  66.950007    63.590007    70.310007\n",
        "2013-06-11 08:00:00-06:00  74.720015    71.780015    77.660015\n",
        "2013-06-11 19:00:00-06:00  79.369978    77.209978    81.529978\n",
        "2013-06-11 20:00:00-06:00  74.323976    71.983976    76.663976\n",
        "2013-06-12 05:00:00-06:00  59.293983    57.193983    61.393983\n",
        "2013-06-12 06:00:00-06:00  58.369978    56.569978    60.169978\n",
        "2013-06-12 07:00:00-06:00  63.703987    61.903987    65.503987\n",
        "2013-06-12 08:00:00-06:00  69.037996    67.237996    70.837996\n",
        "2013-06-12 09:00:00-06:00  74.372004    72.572004    76.172004\n",
        "2013-06-12 10:00:00-06:00  77.197999    75.217999    79.177999\n",
        "2013-06-12 20:00:00-06:00  77.972004    74.972004    80.972004\n",
        "2013-06-13 05:00:00-06:00  57.770015    54.590015    60.950015\n",
        "2013-06-13 06:00:00-06:00  57.398018    54.518018    60.278018\n",
        "2013-06-13 07:00:00-06:00  63.866017    60.566017    67.166017\n",
        "2013-06-13 08:00:00-06:00  70.334016    66.614016    74.054016\n",
        "2013-06-13 09:00:00-06:00  76.802015    72.662015    80.942015"
       ]
      }
     ],
     "prompt_number": 140
    },
    {
     "cell_type": "markdown",
     "source": [
      "### What are the minimun and maximum temperatures in the forthcoming days"
     ]
    },
    {
     "cell_type": "code",
     "collapsed": false,
     "input": [
      "temps7 = temps4.groupby(temps4.index.map(lambda t: t.day)).agg([np.min, np.max])\n",
      "# Removing distracting information\n",
      "del temps7['Lo STDV (F)'] \n",
      "del temps7['Hi STDV (F)'] \n",
      "temps7"
     ],
     "language": "python",
     "outputs": [
      {
       "html": [
        "<div style=\"max-height:1000px;max-width:1500px;overflow:auto;\">\n",
        "<table border=\"1\" class=\"dataframe\">\n",
        "  <thead>\n",
        "    <tr>\n",
        "      <th></th>\n",
        "      <th colspan=\"2\" halign=\"left\">T (F)</th>\n",
        "    </tr>\n",
        "    <tr>\n",
        "      <th></th>\n",
        "      <th>amin</th>\n",
        "      <th>amax</th>\n",
        "    </tr>\n",
        "  </thead>\n",
        "  <tbody>\n",
        "    <tr>\n",
        "      <th>10</th>\n",
        "      <td> 54.464009</td>\n",
        "      <td> 96.080000</td>\n",
        "    </tr>\n",
        "    <tr>\n",
        "      <th>11</th>\n",
        "      <td> 57.272004</td>\n",
        "      <td> 93.182026</td>\n",
        "    </tr>\n",
        "    <tr>\n",
        "      <th>12</th>\n",
        "      <td> 58.369978</td>\n",
        "      <td> 87.457985</td>\n",
        "    </tr>\n",
        "    <tr>\n",
        "      <th>13</th>\n",
        "      <td> 57.398018</td>\n",
        "      <td> 90.410011</td>\n",
        "    </tr>\n",
        "  </tbody>\n",
        "</table>\n",
        "</div>"
       ],
       "output_type": "pyout",
       "prompt_number": 146,
       "text": [
        "        T (F)           \n",
        "         amin       amax\n",
        "10  54.464009  96.080000\n",
        "11  57.272004  93.182026\n",
        "12  58.369978  87.457985\n",
        "13  57.398018  90.410011"
       ]
      }
     ],
     "prompt_number": 146
    }
   ]
  }
 ]
}