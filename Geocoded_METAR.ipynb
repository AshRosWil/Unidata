{
 "metadata": {
  "name": "Geocoded_METAR"
 },
 "nbformat": 3,
 "nbformat_minor": 0,
 "worksheets": [
  {
   "cells": [
    {
     "cell_type": "markdown",
     "metadata": {},
     "source": [
      "#Using the Google Geocoding API to geolocate METAR data"
     ]
    },
    {
     "cell_type": "markdown",
     "metadata": {},
     "source": [
      "##What is Geocoding?\n",
      "\n",
      "- Translate physical addresses to geographic coordinates\n",
      "- Access via a web services call\n",
      "- Returns either XML or JSON formatted data\n",
      "- [https://developers.google.com/maps/documentation/geocoding/](https://developers.google.com/maps/documentation/geocoding/)\n",
      "    \n",
      "##What is METAR?\n",
      "\n",
      "- Surface observational data\n",
      "- Access via a URL constructed from a web form\n",
      "- Returns csv, xml, or NetCDF formatted data\n",
      "- [http://thredds.ucar.edu/thredds/catalog/nws/metar/ncdecoded/catalog.html?dataset=nws/metar/ncdecoded/Metar_Station_Data_fc.cdmr](http://thredds.ucar.edu/thredds/catalog/nws/metar/ncdecoded/catalog.html?dataset=nws/metar/ncdecoded/Metar_Station_Data_fc.cdmr)"
     ]
    },
    {
     "cell_type": "markdown",
     "metadata": {},
     "source": [
      "##Import useful libraries that (other) people have written\n",
      "\n",
      "We need a library to understand URLs and XML documents.  If we want to make some nice plots of our data, we need a library for that, too."
     ]
    },
    {
     "cell_type": "code",
     "collapsed": false,
     "input": [
      "import urllib\n",
      "import xml.etree.ElementTree as ET\n",
      "from matplotlib import pyplot"
     ],
     "language": "python",
     "metadata": {},
     "outputs": [],
     "prompt_number": 356
    },
    {
     "cell_type": "markdown",
     "metadata": {},
     "source": [
      "##Manage the Google API using web documentation"
     ]
    },
    {
     "cell_type": "code",
     "collapsed": false,
     "input": [
      "gcBaseURL='http://maps.googleapis.com/maps/api/geocode/xml?'"
     ],
     "language": "python",
     "metadata": {},
     "outputs": [],
     "prompt_number": 357
    },
    {
     "cell_type": "markdown",
     "metadata": {},
     "source": [
      "##Populate an address in human readable form"
     ]
    },
    {
     "cell_type": "code",
     "collapsed": false,
     "input": [
      "address = '3300 Mitchell Lane, Boulder, CO'\n",
      "#address = 'South Pole'\n",
      "#address = '1817 Pineapple Ave., Melbourne, FL'\n",
      "#address = '708 N. Harvard Ave., Ventnor Heights, NJ'\n",
      "print address\n"
     ],
     "language": "python",
     "metadata": {},
     "outputs": [
      {
       "output_type": "stream",
       "stream": "stdout",
       "text": [
        "3300 Mitchell Lane, Boulder, CO\n"
       ]
      }
     ],
     "prompt_number": 358
    },
    {
     "cell_type": "markdown",
     "metadata": {},
     "source": [
      "##Our address needs to look more like what the Google API expects\n",
      "\n",
      "- No spaces in the address\n",
      "- Simple string manipulation\n"
     ]
    },
    {
     "cell_type": "code",
     "collapsed": false,
     "input": [
      "address = address.replace(' ','+')\n",
      "print address"
     ],
     "language": "python",
     "metadata": {},
     "outputs": [
      {
       "output_type": "stream",
       "stream": "stdout",
       "text": [
        "3300+Mitchell+Lane,+Boulder,+CO\n"
       ]
      }
     ],
     "prompt_number": 359
    },
    {
     "cell_type": "markdown",
     "metadata": {},
     "source": [
      "##Now let's construct the URL\n",
      "\n",
      "- Set up the sensor component\n",
      "- Assemble the URL\n",
      "- Do a sanity check"
     ]
    },
    {
     "cell_type": "code",
     "collapsed": false,
     "input": [
      "gcParameters='address=' + address + '&sensor=false'\n",
      "gcURL = gcBaseURL + gcParameters\n",
      "print gcURL"
     ],
     "language": "python",
     "metadata": {},
     "outputs": [
      {
       "output_type": "stream",
       "stream": "stdout",
       "text": [
        "http://maps.googleapis.com/maps/api/geocode/xml?address=3300+Mitchell+Lane,+Boulder,+CO&sensor=false\n"
       ]
      }
     ],
     "prompt_number": 360
    },
    {
     "cell_type": "markdown",
     "metadata": {},
     "source": [
      "#What was that?\n",
      "\n",
      "- Back to our libraries to decode the XML\n",
      "- \"Walk the DOM\" to get to lat and lon\n",
      "- http://en.wikipedia.org/wiki/Document_Object_Model"
     ]
    },
    {
     "cell_type": "code",
     "collapsed": false,
     "input": [
      "tree = ET.parse(urllib.urlopen(gcURL))\n",
      "root = tree.getroot()\n",
      "\n",
      "for result in root.findall('result'):\n",
      "    for geometry in result.findall('geometry'):\n",
      "        for location in geometry.findall('location'):\n",
      "            lat = location.find('lat').text\n",
      "            lon = location.find('lng').text\n",
      "        \n",
      "print '[lat, lon] = [' + lat + ', ' + lon + ']'"
     ],
     "language": "python",
     "metadata": {},
     "outputs": [
      {
       "output_type": "stream",
       "stream": "stdout",
       "text": [
        "[lat, lon] = [40.0349700, -105.2432010]\n"
       ]
      }
     ],
     "prompt_number": 361
    },
    {
     "cell_type": "markdown",
     "metadata": {},
     "source": [
      "##Now we need to construct a URL based on the cdmrf form submission"
     ]
    },
    {
     "cell_type": "code",
     "collapsed": false,
     "input": [
      "varkeys = ['req', 'variables', 'var','var','var','var', 'latitude', 'longitude', 'spatial', 'temporal', 'time', 'accept']\n",
      "print varkeys"
     ],
     "language": "python",
     "metadata": {},
     "outputs": [
      {
       "output_type": "stream",
       "stream": "stdout",
       "text": [
        "['req', 'variables', 'var', 'var', 'var', 'var', 'latitude', 'longitude', 'spatial', 'temporal', 'time', 'accept']\n"
       ]
      }
     ],
     "prompt_number": 362
    },
    {
     "cell_type": "code",
     "collapsed": false,
     "input": [
      "varvals = ['data', 'some', 'air_pressure_at_sea_level','air_temperature','wind_from_direction','wind_speed',lat,lon,'point','point','2013-07-16T01%3A55%3A00Z','csv']\n",
      "print varvals"
     ],
     "language": "python",
     "metadata": {},
     "outputs": [
      {
       "output_type": "stream",
       "stream": "stdout",
       "text": [
        "['data', 'some', 'air_pressure_at_sea_level', 'air_temperature', 'wind_from_direction', 'wind_speed', '40.0349700', '-105.2432010', 'point', 'point', '2013-07-16T01%3A55%3A00Z', 'csv']\n"
       ]
      }
     ],
     "prompt_number": 363
    },
    {
     "cell_type": "code",
     "collapsed": false,
     "input": [
      "varreqs = []\n",
      "for i in range(len(varkeys)):\n",
      "    varreqs.append(varkeys[i] + '=' + varvals[i])\n",
      "print varreqs"
     ],
     "language": "python",
     "metadata": {},
     "outputs": [
      {
       "output_type": "stream",
       "stream": "stdout",
       "text": [
        "['req=data', 'variables=some', 'var=air_pressure_at_sea_level', 'var=air_temperature', 'var=wind_from_direction', 'var=wind_speed', 'latitude=40.0349700', 'longitude=-105.2432010', 'spatial=point', 'temporal=point', 'time=2013-07-16T01%3A55%3A00Z', 'accept=csv']\n"
       ]
      }
     ],
     "prompt_number": 364
    },
    {
     "cell_type": "markdown",
     "metadata": {},
     "source": [
      "##Let's put all of the form requests together\n",
      "- We need an '&' between each argument\n",
      "- We need to get rid of the trailing '&'"
     ]
    },
    {
     "cell_type": "code",
     "collapsed": false,
     "input": [
      "querystr = ''\n",
      "for varreq in varreqs:\n",
      "    querystr += varreq + '&'\n",
      "print querystr"
     ],
     "language": "python",
     "metadata": {},
     "outputs": [
      {
       "output_type": "stream",
       "stream": "stdout",
       "text": [
        "req=data&variables=some&var=air_pressure_at_sea_level&var=air_temperature&var=wind_from_direction&var=wind_speed&latitude=40.0349700&longitude=-105.2432010&spatial=point&temporal=point&time=2013-07-16T01%3A55%3A00Z&accept=csv&\n"
       ]
      }
     ],
     "prompt_number": 365
    },
    {
     "cell_type": "code",
     "collapsed": false,
     "input": [
      "if querystr[-1] == '&':\n",
      "    querystr = querystr[0:-1]\n",
      "print querystr"
     ],
     "language": "python",
     "metadata": {},
     "outputs": [
      {
       "output_type": "stream",
       "stream": "stdout",
       "text": [
        "req=data&variables=some&var=air_pressure_at_sea_level&var=air_temperature&var=wind_from_direction&var=wind_speed&latitude=40.0349700&longitude=-105.2432010&spatial=point&temporal=point&time=2013-07-16T01%3A55%3A00Z&accept=csv\n"
       ]
      }
     ],
     "prompt_number": 366
    },
    {
     "cell_type": "markdown",
     "metadata": {},
     "source": [
      "##Even though the negative indexing is neat, there's a better way to join a list in the way we want"
     ]
    },
    {
     "cell_type": "code",
     "collapsed": false,
     "input": [
      "querystr = \"&\".join(varreqs)\n",
      "print querystr"
     ],
     "language": "python",
     "metadata": {},
     "outputs": [
      {
       "output_type": "stream",
       "stream": "stdout",
       "text": [
        "req=data&variables=some&var=air_pressure_at_sea_level&var=air_temperature&var=wind_from_direction&var=wind_speed&latitude=40.0349700&longitude=-105.2432010&spatial=point&temporal=point&time=2013-07-16T01%3A55%3A00Z&accept=csv\n"
       ]
      }
     ],
     "prompt_number": 367
    },
    {
     "cell_type": "markdown",
     "metadata": {},
     "source": [
      "##Construct our request to the TDS using the expected base URL and our query string"
     ]
    },
    {
     "cell_type": "code",
     "collapsed": false,
     "input": [
      "baseurl = 'http://thredds.ucar.edu/thredds/cdmrfeature/nws/metar/ncdecoded/Metar_Station_Data_fc.cdmr?'\n",
      "url = baseurl + querystr\n",
      "print url"
     ],
     "language": "python",
     "metadata": {},
     "outputs": [
      {
       "output_type": "stream",
       "stream": "stdout",
       "text": [
        "http://thredds.ucar.edu/thredds/cdmrfeature/nws/metar/ncdecoded/Metar_Station_Data_fc.cdmr?req=data&variables=some&var=air_pressure_at_sea_level&var=air_temperature&var=wind_from_direction&var=wind_speed&latitude=40.0349700&longitude=-105.2432010&spatial=point&temporal=point&time=2013-07-16T01%3A55%3A00Z&accept=csv\n"
       ]
      }
     ],
     "prompt_number": 368
    },
    {
     "cell_type": "markdown",
     "metadata": {},
     "source": [
      "##Hit the URL and parse the data!"
     ]
    },
    {
     "cell_type": "code",
     "collapsed": false,
     "input": [
      "output = urllib.urlopen(url)\n",
      "lines = output.readlines()\n",
      "if len(lines) < 2:\n",
      "    print 'Only one line in output suggests no data was returned!'\n",
      "else:\n",
      "    names = lines[0].split(',')\n",
      "    vals = lines[1].split(',')\n",
      "    for i in range(0,len(names)):\n",
      "        print names[i] + ' : ' + vals[i]"
     ],
     "language": "python",
     "metadata": {},
     "outputs": [
      {
       "output_type": "stream",
       "stream": "stdout",
       "text": [
        "time : 2013-07-16 02:22:00Z\n",
        "station : BJC\n",
        "latitude[unit=\"degrees_north\"] : 39.919\n",
        "longitude[unit=\"degrees_east\"] : -105.120\n",
        "air_pressure_at_sea_level[unit=\"hectoPascal\"] : NaN \n",
        "air_temperature[unit=\"Celsius\"] : 22.0 \n",
        "wind_from_direction[unit=\"degrees\"] : -99999 \n",
        "wind_speed[unit=\"m/s\"]\n",
        " : 2.57222 \n",
        "\n"
       ]
      }
     ],
     "prompt_number": 369
    },
    {
     "cell_type": "markdown",
     "metadata": {},
     "source": [
      "##Can we fix that funny formatting issue?\n",
      "\n",
      "- Newlines are often a problem parsing data\n",
      "- Need to chomp off the newline, if it is there"
     ]
    },
    {
     "cell_type": "code",
     "collapsed": false,
     "input": [
      "output = urllib.urlopen(url)\n",
      "lines = output.readlines()\n",
      "if len(lines) < 2:\n",
      "    print 'Only one line in output suggests no data was returned!'\n",
      "else:\n",
      "    names = lines[0].split(',')\n",
      "    vals = lines[1].split(',')\n",
      "    for i in range(0,len(names)):\n",
      "        print names[i].rstrip('\\n') + ' : ' + vals[i]"
     ],
     "language": "python",
     "metadata": {},
     "outputs": [
      {
       "output_type": "stream",
       "stream": "stdout",
       "text": [
        "time : 2013-07-16 02:22:00Z\n",
        "station : BJC\n",
        "latitude[unit=\"degrees_north\"] : 39.919\n",
        "longitude[unit=\"degrees_east\"] : -105.120\n",
        "air_pressure_at_sea_level[unit=\"hectoPascal\"] : NaN \n",
        "air_temperature[unit=\"Celsius\"] : 22.0 \n",
        "wind_from_direction[unit=\"degrees\"] : -99999 \n",
        "wind_speed[unit=\"m/s\"] : 2.57222 \n",
        "\n"
       ]
      }
     ],
     "prompt_number": 371
    },
    {
     "cell_type": "markdown",
     "metadata": {},
     "source": [
      "\n",
      "##Now for the obligatory time series..."
     ]
    },
    {
     "cell_type": "code",
     "collapsed": false,
     "input": [
      "url = 'http://thredds.ucar.edu/thredds/cdmrfeature/nws/metar/ncdecoded/Metar_Station_Data_fc.cdmr?req=data&variables=some&var=air_temperature&north=&west=&east=&south=&latitude=&longitude=&spatial=stns&stn=BJC&temporal=all&time_start=2013-05-10T00%3A00%3A00Z&time_end=2013-07-10T00%3A00%3A00Z&time=2013-05-10T00%3A00%3A00Z&accept=csv'\n",
      "output = urllib.urlopen(url)\n",
      "t_air = []\n",
      "for line in output.readlines():\n",
      "    vals = line.split(\",\")\n",
      "    t_air.append(float(vals[4]))\n",
      "print t_air\n"
     ],
     "language": "python",
     "metadata": {},
     "outputs": [
      {
       "ename": "ValueError",
       "evalue": "could not convert string to float: air_temperature[unit=\"Celsius\"]\n",
       "output_type": "pyerr",
       "traceback": [
        "\u001b[1;31m---------------------------------------------------------------------------\u001b[0m\n\u001b[1;31mValueError\u001b[0m                                Traceback (most recent call last)",
        "\u001b[1;32m<ipython-input-372-c23aa03665cc>\u001b[0m in \u001b[0;36m<module>\u001b[1;34m()\u001b[0m\n\u001b[0;32m      4\u001b[0m \u001b[1;32mfor\u001b[0m \u001b[0mline\u001b[0m \u001b[1;32min\u001b[0m \u001b[0moutput\u001b[0m\u001b[1;33m.\u001b[0m\u001b[0mreadlines\u001b[0m\u001b[1;33m(\u001b[0m\u001b[1;33m)\u001b[0m\u001b[1;33m:\u001b[0m\u001b[1;33m\u001b[0m\u001b[0m\n\u001b[0;32m      5\u001b[0m     \u001b[0mvals\u001b[0m \u001b[1;33m=\u001b[0m \u001b[0mline\u001b[0m\u001b[1;33m.\u001b[0m\u001b[0msplit\u001b[0m\u001b[1;33m(\u001b[0m\u001b[1;34m\",\"\u001b[0m\u001b[1;33m)\u001b[0m\u001b[1;33m\u001b[0m\u001b[0m\n\u001b[1;32m----> 6\u001b[1;33m     \u001b[0mt_air\u001b[0m\u001b[1;33m.\u001b[0m\u001b[0mappend\u001b[0m\u001b[1;33m(\u001b[0m\u001b[0mfloat\u001b[0m\u001b[1;33m(\u001b[0m\u001b[0mvals\u001b[0m\u001b[1;33m[\u001b[0m\u001b[1;36m4\u001b[0m\u001b[1;33m]\u001b[0m\u001b[1;33m)\u001b[0m\u001b[1;33m)\u001b[0m\u001b[1;33m\u001b[0m\u001b[0m\n\u001b[0m\u001b[0;32m      7\u001b[0m \u001b[1;32mprint\u001b[0m \u001b[0mt_air\u001b[0m\u001b[1;33m\u001b[0m\u001b[0m\n",
        "\u001b[1;31mValueError\u001b[0m: could not convert string to float: air_temperature[unit=\"Celsius\"]\n"
       ]
      }
     ],
     "prompt_number": 372
    },
    {
     "cell_type": "code",
     "collapsed": false,
     "input": [
      "url = 'http://thredds.ucar.edu/thredds/cdmrfeature/nws/metar/ncdecoded/Metar_Station_Data_fc.cdmr?req=data&variables=some&var=air_temperature&north=&west=&east=&south=&latitude=&longitude=&spatial=stns&stn=BJC&temporal=all&time_start=2013-05-10T00%3A00%3A00Z&time_end=2013-07-10T00%3A00%3A00Z&time=2013-05-10T00%3A00%3A00Z&accept=csv'\n",
      "output = urllib.urlopen(url)\n",
      "t_air = []\n",
      "lines = output.readlines()\n",
      "line_iterator = iter(lines)\n",
      "next(line_iterator) # extract and discard the first line\n",
      "for line in line_iterator:\n",
      "    vals = line.split(\",\")\n",
      "    t_air.append(float(vals[4]))\n",
      "print t_air"
     ],
     "language": "python",
     "metadata": {},
     "outputs": [
      {
       "output_type": "stream",
       "stream": "stdout",
       "text": [
        "[20.0, 22.0, 21.0, 20.0, 18.0, 14.0, 9.0, 8.0, 8.0, 8.0, 8.0, 9.0, 9.0, 10.0, 11.0, 11.0, 12.0, 12.0, 12.0, 12.0, 13.0, 15.0, 17.0, 24.0, 28.0, 27.0, 25.0, 10.0, 9.0, 9.0, 10.0, 10.0, 10.0, 9.0, 10.0, 11.0, 10.0, 11.0, 12.0, 12.0, 13.0, 20.0, 30.0, 30.0, 28.0, 26.0, 20.0, 14.0, 13.0, 12.0, 12.0, 13.0, 13.0, 14.0, 14.0, 15.0, 16.0, 16.0, 16.0, 17.0, 17.0, 17.0, 18.0, 22.0, 25.0, 28.0, 25.0, 17.0, 17.0, 16.0, 15.0, 16.0, 18.0, 18.0, 20.0, 18.0, 19.0, 19.0, 20.0, 20.0, 20.0, 23.0, 29.0, 27.0, 26.0, 20.0, 17.0, 13.0, 17.0, 17.0, 16.0, 15.0, 15.0, 15.0, 17.0, 17.0, 16.0, 16.0, 17.0, 16.0, 18.0, 18.0, 24.0, 24.0, 27.0, 27.0, 11.0, 11.0, 12.0, 12.0, 14.0, 15.0, 12.0, 11.0, 13.0, 13.0, 13.0, 15.0, 15.0, 15.0, 18.0, 18.0, 16.0, 14.0, 13.0, 9.0, 8.0, 8.0, 8.0, 10.0, 11.0, 12.0, 12.0, 12.0, 12.0, 11.0, 12.0, 13.0, 13.0, 13.0, 14.0, 15.0, 15.0, 17.0, 18.0, 24.0, 25.0, 24.0, 18.0, 18.0, 16.0, 13.0, 12.0, 12.0, 12.0, 12.0, 12.0, 11.0, 11.0, 11.0, 11.0, 11.0, 11.0, 11.0, 12.0, 12.0, 15.0, 22.0, 21.0, 20.0, 20.0, 19.0, 15.0, 11.0, 12.0, 11.0, 11.0, 12.0, 12.0, 12.0, 11.0, 12.0, 13.0, 13.0, 12.0, 13.0, 12.0, 15.0, 18.0, 19.0, 17.0, 13.0, 13.0, 15.0, 18.0, 19.0, 28.0, 30.0, 32.0, 30.0, 30.0, 21.0, 20.0, 22.0, 24.0, 11.0, 10.0, 10.0, 23.0, 9.0, 8.0, 8.0, 9.0, 14.0, 19.0, 20.0, 24.0, 23.0, 20.0, 13.0, 13.0, 24.0, 25.0, 23.0, 24.0, 21.0, 19.0, 25.0, 27.0, 25.0, 13.0, 22.0, 34.0, 32.0, 20.0, 35.0, 37.0, 35.0, 35.0, 33.0, 30.0, 25.0, 30.0, 33.0, 31.0, 32.0, 27.0, 26.0, 23.0, 25.0, 24.0, 22.0, 17.0, 15.0, 14.0, 14.0, 14.0, 28.0, 30.0, 29.0, 29.0, 29.0, 24.0, 20.0, 25.0, 24.0, 22.0, 15.0, 15.0, 15.0, 15.0, 16.0, 16.0, 16.0, 16.0, 16.0, 16.0, 18.0, 18.0, 18.0, 18.0, 25.0, 26.0, 25.0, 23.0, 27.0, 19.0, 15.0, 15.0, 13.0, 13.0, 14.0, 15.0, 15.0, 16.0, 16.0, 17.0, 17.0, 18.0, 20.0, 19.0, 25.0, 22.0, 15.0, 12.0, 12.0, 13.0, 14.0, 13.0, 16.0, 15.0, 16.0, 16.0, 16.0, 16.0, 17.0, 16.0, 17.0, 26.0, 28.0, 15.0, 13.0, 13.0, 13.0, 13.0, 13.0, 14.0, 14.0, 15.0, 16.0, 15.0, 16.0, 17.0, 17.0, 17.0, 17.0, 19.0, 21.0, 25.0, 26.0, 34.0, 21.0, 18.0, 11.0, 12.0, 12.0, 12.0, 13.0, 12.0, 15.0, 15.0, 15.0, 17.0, 17.0, 18.0, 18.0, 18.0, 22.0, 28.0, 32.0, 25.0, 24.0, 16.0, 14.0, 14.0, 17.0, 17.0, 18.0, 20.0, 21.0, 21.0, 20.0, 18.0, 20.0, 22.0, 21.0, 22.0, 22.0, 31.0, 31.0, 31.0, 31.0, 24.0, 21.0, 16.0, 16.0, 18.0, 17.0, 18.0, 18.0, 21.0, 21.0, 21.0, 21.0, 22.0, 22.0, 23.0, 23.0, 26.0, 20.0, 19.0, 15.0, 14.0, 15.0, 16.0, 16.0, 16.0, 17.0, 17.0, 18.0, 18.0, 19.0, 20.0, 21.0, 22.0, 28.0, 27.0, 17.0, 14.0, 13.0, 13.0, 15.0, 14.0, 13.0, 15.0, 15.0, 15.0, 16.0, 17.0, 17.0, 17.0, 18.0, 32.0, 32.0, 28.0, 23.0, 20.0, 18.0, 17.0, 15.0, 15.0, 16.0, 15.0, 15.0, 16.0, 16.0, 16.0, 16.0, 17.0, 17.0, 17.0, 17.0, 17.0, 16.0, 23.0, 22.0, 22.0, 22.0, 32.0, 33.0, 30.0, 30.0, 29.0, 27.0, 16.0, 18.0, 19.0, 19.0, 21.0, 22.0, 23.0, 22.0, 24.0, 24.0, 23.0, 25.0, 25.0, 23.0, 25.0, 30.0, 30.0, 27.0, 16.0, 17.0, 17.0, 17.0, 18.0, 19.0, 18.0, 17.0, 20.0, 20.0, 20.0, 20.0, 20.0, 20.0, 29.0, 29.0, 28.0, 20.0, 20.0, 23.0, 22.0, 22.0, 22.0, 22.0, 22.0, 23.0, 23.0, 26.0, 26.0, 26.0, 26.0, 27.0, 34.0, 35.0, 19.0, 20.0, 20.0, 21.0, 21.0, 21.0, 22.0, 21.0, 21.0, 22.0, 26.0, 26.0, 26.0, 26.0, 26.0, 29.0, 34.0, 26.0, 23.0, 24.0, 25.0, 17.0, 17.0, 17.0, 17.0, 17.0, 18.0, 19.0, 19.0, 20.0, 21.0, 20.0, 20.0, 20.0, 19.0, 17.0, 28.0, 29.0, 31.0, 24.0, 24.0, 24.0, 19.0, 17.0, 17.0, 17.0, 17.0, 18.0, 18.0, 18.0, 19.0, 20.0, 20.0, 21.0, 21.0, 22.0, 22.0, 25.0, 25.0, 27.0, 25.0, 26.0, 18.0, 14.0, 16.0, 15.0, 15.0, 16.0, 16.0, 17.0, 17.0, 17.0, 17.0, 18.0, 18.0, 18.0, 19.0, 22.0, 28.0, 26.0, 20.0, 15.0, 15.0, 14.0, 15.0, 14.0, 13.0, 14.0, 15.0, 15.0, 16.0, 16.0, 16.0, 15.0, 15.0, 16.0, 16.0, 21.0, 25.0, 30.0, 29.0, 28.0, 15.0, 15.0, 16.0, 16.0, 16.0, 16.0, 16.0, 17.0, 17.0, 17.0, 18.0, 20.0, 21.0, 21.0, 26.0, 27.0, 29.0, 32.0, 31.0, 25.0, 19.0, 18.0, 19.0, 20.0, 20.0, 21.0, 21.0, 21.0, 21.0, 21.0, 21.0, 22.0, 21.0, 21.0, 22.0, 22.0, 30.0, 30.0, 26.0, 21.0, 20.0, 21.0, 22.0, 22.0, 20.0, 20.0, 20.0, 20.0, 21.0, 21.0, 21.0, 21.0, 23.0, 21.0, 28.0, 27.0, 23.0, 33.0, 27.0, 22.0, 22.0, 22.0, 22.0, 23.0, 23.0, 20.0, 20.0, 20.0, 19.0, 20.0, 20.0, 20.0, 21.0, 23.0, 30.0, 29.0, 28.0, 18.0, 17.0, 20.0, 20.0, 21.0, 20.0, 21.0, 22.0, 18.0, 18.0, 17.0, 18.0, 20.0, 21.0, 24.0, 28.0, 33.0, 33.0, 34.0, 26.0, 19.0, 20.0, 20.0, 20.0, 23.0, 22.0, 20.0, 20.0, 19.0, 20.0, 20.0, 21.0, 21.0, 23.0, 23.0, 28.0, 28.0, 29.0, 32.0, 32.0, 31.0, 28.0, 20.0, 21.0, 22.0, 23.0, 22.0, 22.0, 23.0, 23.0, 22.0, 23.0, 23.0, 23.0, 22.0, 22.0, 30.0, 32.0, 30.0, 32.0, 30.0, 27.0, 17.0, 17.0, 18.0, 18.0, 19.0, 20.0, 20.0, 20.0, 21.0, 21.0, 22.0, 23.0, 25.0, 25.0, 26.0, 28.0, 34.0, 37.0, 35.0, 32.0, 23.0, 16.0, 18.0, 18.0, 18.0, 18.0, 19.0, 20.0, 20.0, 20.0, 20.0, 21.0, 21.0, 23.0, 23.0, 24.0, 28.0, 33.0, 27.0, 24.0, 22.0, 23.0, 22.0, 24.0, 25.0, 23.0, 23.0, 22.0, 21.0, 21.0, 22.0, 24.0, 22.0, 22.0, 28.0, 29.0, 30.0, 32.0, 21.0, 19.0, 19.0, 20.0, 20.0, 20.0, 20.0, 20.0, 19.0, 18.0, 20.0, 19.0, 20.0, 20.0, 20.0, 20.0, 23.0, 16.0, 15.0, 14.0, 15.0, 16.0, 16.0, 16.0, 16.0, 17.0, 18.0, 17.0, 17.0, 17.0, 18.0, 18.0, 18.0, 18.0, 17.0, 19.0, 21.0, 25.0, 23.0, 20.0, 19.0, 18.0, 18.0, 18.0, 18.0, 18.0, 18.0, 18.0, 18.0, 18.0, 18.0, 18.0, 18.0, 20.0, 20.0, 20.0, 20.0, 22.0, 24.0, 18.0, 17.0, 15.0, 14.0, 13.0, 13.0, 15.0, 15.0, 13.0, 15.0, 16.0, 16.0, 17.0, 17.0, 17.0, 18.0, 18.0, 19.0, 21.0, 22.0, 24.0, 24.0, 32.0, 29.0, 24.0, 22.0, 19.0, 17.0, 15.0, 24.0, 25.0, 30.0, 34.0, 27.0, 28.0, 27.0, 19.0, 18.0, 27.0, 32.0, 33.0, 17.0, 17.0, 17.0, 18.0, 18.0, 18.0, 18.0, 18.0, 18.0, 18.0, 20.0, 20.0, 20.0, 21.0, 24.0, 30.0, 15.0, 15.0, 17.0, 16.0, 16.0, 17.0, 17.0, 18.0, 18.0, 18.0, 18.0, 18.0, 20.0, 20.0, 19.0, 20.0, 27.0, 20.0, 19.0, 20.0, 19.0, 20.0, 20.0, 21.0, 22.0, 25.0, 23.0, 22.0, 23.0, 23.0, 24.0]\n"
       ]
      }
     ],
     "prompt_number": 373
    },
    {
     "cell_type": "code",
     "collapsed": false,
     "input": [
      "pyplot.plot(t_air)"
     ],
     "language": "python",
     "metadata": {},
     "outputs": [
      {
       "output_type": "pyout",
       "prompt_number": 374,
       "text": [
        "[<matplotlib.lines.Line2D at 0xad17b00>]"
       ]
      },
      {
       "output_type": "display_data",
       "png": "[encoded data removed]",
       "text": [
        "<matplotlib.figure.Figure at 0x85a2a20>"
       ]
      }
     ],
     "prompt_number": 374
    },
    {
     "cell_type": "markdown",
     "metadata": {},
     "source": []
    }
   ],
   "metadata": {}
  }
 ]
}