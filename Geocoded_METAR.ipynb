{
 "metadata": {
  "name": "Geocoded_METAR"
 },
 "nbformat": 3,
 "nbformat_minor": 0,
 "worksheets": [
  {
   "cells": [
    {
     "cell_type": "code",
     "collapsed": false,
     "input": [
      "import urllib\n",
      "import xml.etree.ElementTree as ET"
     ],
     "language": "python",
     "metadata": {},
     "outputs": [],
     "prompt_number": 1
    },
    {
     "cell_type": "code",
     "collapsed": false,
     "input": [
      "gcBaseURL='http://maps.googleapis.com/maps/api/geocode/xml?'\n",
      "gcParameters='address=1600+Amphitheatre+Parkway,+Mountain+View,+CA&sensor=false'\n",
      "gcURL = gcBaseURL + gcParameters\n",
      "print gcURL"
     ],
     "language": "python",
     "metadata": {},
     "outputs": [
      {
       "output_type": "stream",
       "stream": "stdout",
       "text": [
        "http://maps.googleapis.com/maps/api/geocode/xml?address=1600+Amphitheatre+Parkway,+Mountain+View,+CA&sensor=false\n"
       ]
      }
     ],
     "prompt_number": 2
    },
    {
     "cell_type": "code",
     "collapsed": false,
     "input": [
      "lats = []\n",
      "lons = []\n",
      "tree = ET.parse(urllib.urlopen(gcURL))\n",
      "root = tree.getroot()\n",
      "root.tag\n",
      "root.attrib\n",
      "for child in root:\n",
      "    print child.tag, child.attrib\n",
      "\n",
      "print root[1][9][0].text\n",
      "print root[1][9][0].tag\n",
      "print root[1][9][0].attrib\n",
      "lat = root[1][9][0][0].text\n",
      "lon = root[1][9][0][1].text\n",
      "print '[lat, lon] = [' + lat + ', ' + lon + ']'\n",
      "#for location in gcXML.findall('location'):\n",
      "#    lats = lats.append(location.get('lat'))\n",
      "#    print lats\n",
      "#    lons = lons.append(location.get('lng'))\n",
      "                                    \n",
      "#print lats\n",
      "#print lons"
     ],
     "language": "python",
     "metadata": {},
     "outputs": [
      {
       "output_type": "stream",
       "stream": "stdout",
       "text": [
        "status {}\n",
        "result {}\n",
        "\n",
        "    \n",
        "location\n",
        "{}\n",
        "[lat, lon] = [37.4214111, -122.0840372]\n"
       ]
      }
     ],
     "prompt_number": 14
    },
    {
     "cell_type": "code",
     "collapsed": false,
     "input": [
      "varkeys = ['req', 'variables', 'var','var','var','var', 'north', 'west', 'east', 'south', 'latitude', 'longitude', 'spatial', 'stn', 'time_start', 'time_end', 'temporal', 'time', 'accept']\n",
      "print varkeys"
     ],
     "language": "python",
     "metadata": {},
     "outputs": [
      {
       "output_type": "stream",
       "stream": "stdout",
       "text": [
        "['req', 'variables', 'var', 'var', 'var', 'var', 'north', 'west', 'east', 'south', 'latitude', 'longitude', 'spatial', 'stn', 'time_start', 'time_end', 'temporal', 'time', 'accept']\n"
       ]
      }
     ],
     "prompt_number": 15
    },
    {
     "cell_type": "code",
     "collapsed": false,
     "input": [
      "varvals = ['data', 'sum', 'air_pressure_at_sea_level','air_temperature','wind_from_direction','wind_speed','','','','',lat,lon,'point','','','','point','2013-07-15T01%3A55%3A00Z','csv']\n",
      "print varvals"
     ],
     "language": "python",
     "metadata": {},
     "outputs": [
      {
       "output_type": "stream",
       "stream": "stdout",
       "text": [
        "['data', 'sum', 'air_pressure_at_sea_level', 'air_temperature', 'wind_from_direction', 'wind_speed', '', '', '', '', '37.4214111', '-122.0840372', 'point', '', '', '', 'point', '2013-07-15T01%3A55%3A00Z', 'csv']\n"
       ]
      }
     ],
     "prompt_number": 19
    },
    {
     "cell_type": "code",
     "collapsed": false,
     "input": [
      "varreqs = []\n",
      "for i in range(len(varkeys)):\n",
      "    #print i, varkeys[i], varvals[i]\n",
      "    varreqs.append(varkeys[i] + '=' + varvals[i])\n",
      "print varreqs"
     ],
     "language": "python",
     "metadata": {},
     "outputs": [
      {
       "output_type": "stream",
       "stream": "stdout",
       "text": [
        "['req=data', 'variables=sum', 'var=air_pressure_at_sea_level', 'var=air_temperature', 'var=wind_from_direction', 'var=wind_speed', 'north=', 'west=', 'east=', 'south=', 'latitude=37.4214111', 'longitude=-122.0840372', 'spatial=point', 'stn=', 'time_start=', 'time_end=', 'temporal=point', 'time=2013-07-15T01%3A55%3A00Z', 'accept=csv']\n"
       ]
      }
     ],
     "prompt_number": 20
    },
    {
     "cell_type": "code",
     "collapsed": false,
     "input": [
      "querystr = ''\n",
      "for varreq in varreqs:\n",
      "    querystr += varreq + '&'\n",
      "print querystr\n",
      "if querystr[-1] == '&':\n",
      "    querystr = querystr[0:-1]\n",
      "print querystr"
     ],
     "language": "python",
     "metadata": {},
     "outputs": [
      {
       "output_type": "stream",
       "stream": "stdout",
       "text": [
        "req=data&variables=sum&var=air_pressure_at_sea_level&var=air_temperature&var=wind_from_direction&var=wind_speed&north=&west=&east=&south=&latitude=&longitude=&spatial=stns&stn=BJC&time_start=&time_end=&temporal=point&time=2013-07-15T01%3A55%3A00Z&accept=csv&\n",
        "req=data&variables=sum&var=air_pressure_at_sea_level&var=air_temperature&var=wind_from_direction&var=wind_speed&north=&west=&east=&south=&latitude=&longitude=&spatial=stns&stn=BJC&time_start=&time_end=&temporal=point&time=2013-07-15T01%3A55%3A00Z&accept=csv\n"
       ]
      }
     ],
     "prompt_number": 18
    },
    {
     "cell_type": "code",
     "collapsed": false,
     "input": [
      "baseurl = 'http://thredds.ucar.edu/thredds/cdmrfeature/nws/metar/ncdecoded/Metar_Station_Data_fc.cdmr?'\n",
      "url = baseurl + querystr\n",
      "print url"
     ],
     "language": "python",
     "metadata": {},
     "outputs": [
      {
       "output_type": "stream",
       "stream": "stdout",
       "text": [
        "http://thredds.ucar.edu/thredds/cdmrfeature/nws/metar/ncdecoded/Metar_Station_Data_fc.cdmr?req=data&variables=sum&var=air_pressure_at_sea_level&var=air_temperature&var=wind_from_direction&var=wind_speed&north=&west=&east=&south=&latitude=&longitude=&spatial=stns&stn=BJC&time_start=&time_end=&temporal=point&time=2013-07-15T01%3A55%3A00Z&accept=csv\n"
       ]
      }
     ],
     "prompt_number": 21
    },
    {
     "cell_type": "code",
     "collapsed": false,
     "input": [],
     "language": "python",
     "metadata": {},
     "outputs": []
    }
   ],
   "metadata": {}
  }
 ]
}