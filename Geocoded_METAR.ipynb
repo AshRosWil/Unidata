{
 "cells": [
  {
   "cell_type": "markdown",
   "metadata": {},
   "source": [
    "# Using the Google Geocoding API to geolocate METAR data"
   ]
  },
  {
   "cell_type": "markdown",
   "metadata": {},
   "source": [
    "## What is Geocoding?\n",
    " * Translate physical addresses to geographic coordinates\n",
    " * Access via a web services call\n",
    " * Returns either XML or JSON formatted data\n",
    " * [https://developers.google.com/maps/documentation/geocoding/](https://developers.google.com/maps/documentation/geocoding/)\n",
    "    \n",
    "## What is METAR?\n",
    " * Surface observational data\n",
    " * Access via a URL constructed from a web form\n",
    " * Returns csv, xml, or NetCDF formatted data\n",
    " * [http://thredds.ucar.edu/thredds/catalog/nws/metar/ncdecoded/catalog.html?dataset=nws/metar/ncdecoded/Metar_Station_Data_fc.cdmr](http://thredds.ucar.edu/thredds/catalog/nws/metar/ncdecoded/catalog.html?dataset=nws/metar/ncdecoded/Metar_Station_Data_fc.cdmr)"
   ]
  },
  {
   "cell_type": "markdown",
   "metadata": {},
   "source": [
    "## Import useful libraries that (other) people have written\n",
    " * We need a library to understand URLs and XML documents -> ElementTree\n",
    " * We need to be able to access documents from the web -> urllib\n",
    " * We will be working with dates and time -> datetime"
   ]
  },
  {
   "cell_type": "code",
   "execution_count": 1,
   "metadata": {
    "collapsed": false
   },
   "outputs": [],
   "source": [
    "%matplotlib inline\n",
    "\n",
    "import urllib\n",
    "#import numpy as np\n",
    "import xml.etree.ElementTree as ET\n",
    "\n",
    "from datetime import datetime, timedelta"
   ]
  },
  {
   "cell_type": "markdown",
   "metadata": {},
   "source": [
    "## Google Geocoding API\n",
    " * Recall - this turns a street address into a latitude and longitude"
   ]
  },
  {
   "cell_type": "code",
   "execution_count": 2,
   "metadata": {
    "collapsed": false
   },
   "outputs": [],
   "source": [
    "gcBaseURL='http://maps.googleapis.com/maps/api/geocode/xml?'"
   ]
  },
  {
   "cell_type": "markdown",
   "metadata": {},
   "source": [
    "## Populate an address in human readable form"
   ]
  },
  {
   "cell_type": "code",
   "execution_count": 3,
   "metadata": {
    "collapsed": false
   },
   "outputs": [
    {
     "name": "stdout",
     "output_type": "stream",
     "text": [
      "3300 Mitchell Lane, Boulder, CO\n"
     ]
    }
   ],
   "source": [
    "address = '3300 Mitchell Lane, Boulder, CO'\n",
    "#address = 'South Pole'\n",
    "#address = '1817 Pineapple Ave., Melbourne, FL'\n",
    "#address = '708 N. Harvard Ave., Ventnor Heights, NJ'\n",
    "print(address)"
   ]
  },
  {
   "cell_type": "markdown",
   "metadata": {},
   "source": [
    "## Our address needs to look more like what the Google API expects\n",
    " * No spaces in the address\n",
    " * Simple string manipulation"
   ]
  },
  {
   "cell_type": "code",
   "execution_count": 4,
   "metadata": {
    "collapsed": false
   },
   "outputs": [
    {
     "name": "stdout",
     "output_type": "stream",
     "text": [
      "3300+Mitchell+Lane,+Boulder,+CO\n"
     ]
    }
   ],
   "source": [
    "address = address.replace(' ','+')\n",
    "print(address)"
   ]
  },
  {
   "cell_type": "markdown",
   "metadata": {},
   "source": [
    "## Now let's construct the URL\n",
    " * Set up the sensor component\n",
    " * Assemble the URL\n",
    " * Do a sanity check"
   ]
  },
  {
   "cell_type": "code",
   "execution_count": 5,
   "metadata": {
    "collapsed": false
   },
   "outputs": [
    {
     "name": "stdout",
     "output_type": "stream",
     "text": [
      "http://maps.googleapis.com/maps/api/geocode/xml?address=3300+Mitchell+Lane,+Boulder,+CO&sensor=false\n"
     ]
    }
   ],
   "source": [
    "gcParameters='address={}&sensor=false'.format(address)\n",
    "gcURL = gcBaseURL + gcParameters\n",
    "print(gcURL)"
   ]
  },
  {
   "cell_type": "markdown",
   "metadata": {},
   "source": [
    "## Visit the link above...now whatta-huh?\n",
    " * Back to our libraries to decode the XML\n",
    " * \"Walk the DOM\" to get to lat and lon\n",
    " * http://en.wikipedia.org/wiki/Document_Object_Model"
   ]
  },
  {
   "cell_type": "code",
   "execution_count": 6,
   "metadata": {
    "collapsed": false
   },
   "outputs": [
    {
     "name": "stdout",
     "output_type": "stream",
     "text": [
      "lat, lon -> 40.0349700, -105.2432010\n"
     ]
    }
   ],
   "source": [
    "tree = ET.parse(urllib.request.urlopen(gcURL))\n",
    "root = tree.getroot()\n",
    "\n",
    "for result in root.findall('result'):\n",
    "    for geometry in result.findall('geometry'):\n",
    "        for location in geometry.findall('location'):\n",
    "            lat = location.find('lat').text\n",
    "            lon = location.find('lng').text\n",
    "        \n",
    "print('lat, lon -> {}, {}'.format(lat, lon))"
   ]
  },
  {
   "cell_type": "markdown",
   "metadata": {},
   "source": [
    "## Construct our request to the TDS using the expected base URL and our query string\n",
    " * Open your browser and go to http://thredds.ucar.edu/thredds/catalog.html\n",
    " * Find METR data under \"Observation Data/\"\n",
    " * Go to the METR dataset called \"Feature Collection\" - this is the THREDDS catalog in html form\n",
    " * In the url, change \".html\" to \".xml\" - this is actual THREDDS Catalog. The THREDDS catalog tells you what data is available and how it can be accessed.\n",
    " * We will use the Unidata python library \"siphon\" to read the catalog and access the actual METR data."
   ]
  },
  {
   "cell_type": "code",
   "execution_count": 7,
   "metadata": {
    "collapsed": false
   },
   "outputs": [
    {
     "name": "stdout",
     "output_type": "stream",
     "text": [
      "Feature Collection\n"
     ]
    }
   ],
   "source": [
    "from siphon.catalog import TDSCatalog\n",
    "# copied from the browser url box\n",
    "metar_cat_url = 'http://thredds.ucar.edu/thredds/catalog/nws/metar/ncdecoded/catalog.xml?dataset=nws/metar/ncdecoded/Metar_Station_Data_fc.cdmr'\n",
    "# parse the xml\n",
    "metar_cat = TDSCatalog(metar_cat_url)\n",
    "# what datasets are here? only one \"dataset\" in this catalog\n",
    "dataset = list(metar_cat.datasets.values())[0]\n",
    "print(dataset.name)"
   ]
  },
  {
   "cell_type": "markdown",
   "metadata": {},
   "source": [
    "## What kind of access methods are available?"
   ]
  },
  {
   "cell_type": "code",
   "execution_count": 8,
   "metadata": {
    "collapsed": false
   },
   "outputs": [
    {
     "name": "stdout",
     "output_type": "stream",
     "text": [
      "['NetcdfSubset']\n"
     ]
    }
   ],
   "source": [
    "print(list(dataset.access_urls.keys()))"
   ]
  },
  {
   "cell_type": "markdown",
   "metadata": {},
   "source": [
    "## NetcdfSubset it is!"
   ]
  },
  {
   "cell_type": "code",
   "execution_count": 9,
   "metadata": {
    "collapsed": true
   },
   "outputs": [],
   "source": [
    "ncss_url = dataset.access_urls[\"NetcdfSubset\"]"
   ]
  },
  {
   "cell_type": "markdown",
   "metadata": {},
   "source": [
    "## Ok...but what is NetcdfSubset\n",
    " * A web service for subsetting CDM scientific datasets\n",
    "   * Like the Google Geocoding API, construct a URL for requst (RESTfull API)\n",
    " * The subsetting is specified using earth coordinates\n",
    "  * lat/lon or projection coordinates, bounding boxes, date ranges\n",
    "  * <b>Not</b> index based!\n",
    " * Check out the details in your browser: http://www.unidata.ucar.edu/software/thredds/v4.6/tds/reference/NetcdfSubsetServiceReference.html\n",
    " * Rather than construct the request \"by hand\", as we did with the Google Geocoding API, let's use siphon!"
   ]
  },
  {
   "cell_type": "code",
   "execution_count": 10,
   "metadata": {
    "collapsed": false
   },
   "outputs": [],
   "source": [
    "from siphon.ncss import NCSS\n",
    "ncss = NCSS(ncss_url)"
   ]
  },
  {
   "cell_type": "markdown",
   "metadata": {},
   "source": [
    "## Whaddya want?\n",
    "* Let's say we want the past days worth of data...\n",
    "* ...for \"here\" (i.e. the lat/lon we obtained using the Google Geocoding API)\n",
    "* ...for the variables mean sea level pressure, air temperature,wind direction, and wind_speed\n",
    "* ...and for fun, let's get the data back as a netCDF file"
   ]
  },
  {
   "cell_type": "code",
   "execution_count": 11,
   "metadata": {
    "collapsed": false
   },
   "outputs": [
    {
     "name": "stdout",
     "output_type": "stream",
     "text": [
      "var=air_pressure_at_sea_level&var=wind_from_direction&var=air_temperature&var=wind_speed&time_end=2015-07-17T13%3A00%3A00&time_start=2015-07-16T13%3A00%3A00&latitude=40.0349700&longitude=-105.2432010&accept=netcdf\n"
     ]
    }
   ],
   "source": [
    "# get current date and time\n",
    "now = datetime.utcnow() - timedelta(days=5)\n",
    "now = datetime(now.year, now.month, now.day, now.hour)\n",
    "\n",
    "# define the time range we are interested in\n",
    "start_time = now - timedelta(days=1)\n",
    "end_time = now\n",
    "\n",
    "# build the query\n",
    "query = ncss.query()\n",
    "query.lonlat_point(lon, lat)\n",
    "query.time_range(start_time, end_time)\n",
    "query.variables('air_pressure_at_sea_level','air_temperature','wind_from_direction','wind_speed')\n",
    "query.accept('netcdf')\n",
    "\n",
    "# what does the request url look like?\n",
    "print(query)"
   ]
  },
  {
   "cell_type": "markdown",
   "metadata": {},
   "source": [
    "## Let's get the data!"
   ]
  },
  {
   "cell_type": "code",
   "execution_count": 12,
   "metadata": {
    "collapsed": true
   },
   "outputs": [],
   "source": [
    "data = ncss.get_data(query)"
   ]
  },
  {
   "cell_type": "markdown",
   "metadata": {},
   "source": [
    "## What did we get back?\n",
    " * That's right, a netcdf4-python dataset!\n",
    " * Is that what you expected?"
   ]
  },
  {
   "cell_type": "code",
   "execution_count": 13,
   "metadata": {
    "collapsed": false
   },
   "outputs": [
    {
     "name": "stdout",
     "output_type": "stream",
     "text": [
      "['latitude', 'longitude', 'stationAltitude', 'station_id', 'station_description', 'wmo_id', 'time', 'stationIndex', 'wind_from_direction', 'wind_speed', 'air_temperature', 'air_pressure_at_sea_level']\n"
     ]
    }
   ],
   "source": [
    "print(list(data.variables.keys()))"
   ]
  },
  {
   "cell_type": "markdown",
   "metadata": {},
   "source": [
    "## What station did we get?"
   ]
  },
  {
   "cell_type": "code",
   "execution_count": 14,
   "metadata": {
    "collapsed": false
   },
   "outputs": [
    {
     "name": "stdout",
     "output_type": "stream",
     "text": [
      "b'BJC'\n"
     ]
    }
   ],
   "source": [
    "station_id = data['station_id'][:].tostring()\n",
    "print(station_id)"
   ]
  },
  {
   "cell_type": "markdown",
   "metadata": {},
   "source": [
    "## Notice anything funny?\n",
    " * the \"b\" means it's a byte encoded string\n",
    " * let's use something sane like, uhh, utf-8"
   ]
  },
  {
   "cell_type": "code",
   "execution_count": 15,
   "metadata": {
    "collapsed": false
   },
   "outputs": [
    {
     "name": "stdout",
     "output_type": "stream",
     "text": [
      "BJC\n"
     ]
    }
   ],
   "source": [
    "station_id = station_id.decode(\"utf-8\")\n",
    "print(station_id)"
   ]
  },
  {
   "cell_type": "markdown",
   "metadata": {},
   "source": [
    "## Let's get the time (in seconds since 1970-01-01) into a datetime object"
   ]
  },
  {
   "cell_type": "code",
   "execution_count": 16,
   "metadata": {
    "collapsed": false
   },
   "outputs": [],
   "source": [
    "time = [datetime.fromtimestamp(t) for t in data['time']]"
   ]
  },
  {
   "cell_type": "markdown",
   "metadata": {},
   "source": [
    "##Now for the obligatory time series plot..."
   ]
  },
  {
   "cell_type": "code",
   "execution_count": 17,
   "metadata": {
    "collapsed": false
   },
   "outputs": [
    {
     "data": {
      "image/png": "[encoded data removed]",
      "text/plain": [
       "<matplotlib.figure.Figure at 0x109176828>"
      ]
     },
     "metadata": {},
     "output_type": "display_data"
    }
   ],
   "source": [
    "from matplotlib import pyplot as plt\n",
    "from matplotlib.dates import HourLocator,DateFormatter, AutoDateLocator\n",
    "\n",
    "fig = plt.figure()\n",
    "ax1 = fig.add_subplot(1,1,1)\n",
    "ax1.plot(time, data['air_temperature'], '*')\n",
    "\n",
    "locator = AutoDateLocator()\n",
    "hoursFmt = DateFormatter('%H')\n",
    "\n",
    "ax1.xaxis.set_major_locator(locator)\n",
    "ax1.xaxis.set_major_formatter(hoursFmt)\n",
    "ax1.autoscale_view()\n",
    "ax1.set_title('Site: {}      Date: {}'.format(station_id, time[0].strftime('%Y/%m/%d')))\n",
    "ax1.set_xlabel('Hour of day')\n",
    "#ax1.set_ylabel(t_air_label)\n",
    "fig.autofmt_xdate()\n",
    "plt.show()"
   ]
  },
  {
   "cell_type": "markdown",
   "metadata": {},
   "source": [
    "## Now, let's request all stations within a bounding box for a given time and create a surface \"station plot\" map (sort-of)\n",
    " * Make new NCSS query\n",
    " * Request data closest to \"now\"\n",
    " * This time, let's ask for the data in csv format"
   ]
  },
  {
   "cell_type": "code",
   "execution_count": 18,
   "metadata": {
    "collapsed": false
   },
   "outputs": [
    {
     "data": {
      "text/plain": [
       "var=air_temperature&var=dew_point_temperature&time=2015-07-16T13%3A00%3A00&west=-110&south=35&north=45&east=-100&accept=csv"
      ]
     },
     "execution_count": 18,
     "metadata": {},
     "output_type": "execute_result"
    }
   ],
   "source": [
    "bb = {'north' : 45,\n",
    "      'south' : 35,\n",
    "      'east' : -100,\n",
    "      'west' : -110}\n",
    "\n",
    "query = ncss.query()\n",
    "query.lonlat_box(bb['north'], bb['south'], bb['east'], bb['west'])\n",
    "query.time(start_time)\n",
    "query.variables('air_temperature', 'dew_point_temperature')\n",
    "query.accept('csv')"
   ]
  },
  {
   "cell_type": "markdown",
   "metadata": {},
   "source": [
    "## Let's get the data!"
   ]
  },
  {
   "cell_type": "code",
   "execution_count": 19,
   "metadata": {
    "collapsed": false
   },
   "outputs": [],
   "source": [
    "data = ncss.get_data(query)\n",
    "\n",
    "# Access is just like netcdf4-python\n",
    "lats = data['latitude'][:]\n",
    "lons = data['longitude'][:]\n",
    "tair = data['air_temperature'][:]\n",
    "dewp = data['dew_point_temperature'][:]"
   ]
  },
  {
   "cell_type": "markdown",
   "metadata": {
    "collapsed": false
   },
   "source": [
    "## This code is to facilitate station plots of the data\n",
    " * One day, MetPy will handle this\n",
    " * Let's just skip over this for now"
   ]
  },
  {
   "cell_type": "code",
   "execution_count": 20,
   "metadata": {
    "collapsed": false
   },
   "outputs": [],
   "source": [
    "from matplotlib import rcParams\n",
    "from matplotlib.artist import Artist\n",
    "from matplotlib.cbook import is_string_like\n",
    "from matplotlib.text import Text\n",
    "from matplotlib.font_manager import FontProperties\n",
    "class TextCollection(Artist):\n",
    "    def __init__(self,\n",
    "                 x=0, y=0, text='',\n",
    "                 color=None,          # defaults to rc params\n",
    "                 verticalalignment='bottom',\n",
    "                 horizontalalignment='left',\n",
    "                 multialignment=None,\n",
    "                 fontproperties=None, # defaults to FontProperties()\n",
    "                 rotation=None,\n",
    "                 linespacing=None,\n",
    "                 **kwargs\n",
    "                 ):\n",
    "\n",
    "        Artist.__init__(self)\n",
    "        if color is None:\n",
    "            colors= rcParams['text.color']\n",
    "\n",
    "        if fontproperties is None:\n",
    "            fontproperties = FontProperties()\n",
    "        elif is_string_like(fontproperties):\n",
    "            fontproperties = FontProperties(fontproperties)\n",
    "\n",
    "        self._animated = False\n",
    "#        if is_string_like(text):\n",
    "#            text = [text]\n",
    "\n",
    "        self._textobjs = [Text(x[ind], y[ind], text[ind], color,\n",
    "            verticalalignment, horizontalalignment, multialignment,\n",
    "            fontproperties, rotation, linespacing, **kwargs)\n",
    "            for ind in range(len(x))]\n",
    "\n",
    "        self.update(kwargs)\n",
    "\n",
    "    def draw(self, renderer):\n",
    "        for t in self._textobjs:\n",
    "            t.draw(renderer)\n",
    "\n",
    "    def set_figure(self, fig):\n",
    "        for t in self._textobjs:\n",
    "            t.set_figure(fig)\n",
    "\n",
    "    def is_transform_set(self):\n",
    "        return all(t.is_transform_set() for t in self._textobjs)\n",
    "\n",
    "    def get_transform(self):\n",
    "        return self._textobjs[0].get_transform()\n",
    "\n",
    "    def set_transform(self, trans):\n",
    "        for t in self._textobjs:\n",
    "            t.set_transform(trans)\n",
    "\n",
    "    def set_clip_path(self, path):\n",
    "        for t in self._textobjs:\n",
    "            t.set_clip_path(path)\n",
    "\n",
    "    def set_axes(self, ax):\n",
    "        for t in self._textobjs:\n",
    "            t.set_axes(ax)\n",
    "\n",
    "def text_plot(ax, x, y, data, format='%.0f', loc=None, **kw):\n",
    "    from matplotlib.cbook import delete_masked_points\n",
    "    from matplotlib import transforms\n",
    "\n",
    "    # Default to centered on point\n",
    "    if 'transform' in kw:\n",
    "        t = kw.pop('transform')\n",
    "    else:\n",
    "        t = ax.projection\n",
    "\n",
    "    if loc is not None:\n",
    "        x0,y0 = loc\n",
    "        trans = t._as_mpl_transform(ax) + transforms.Affine2D().translate(x0, y0)\n",
    "    else:\n",
    "        trans = t._as_mpl_transform(ax)\n",
    "\n",
    "    # Handle both callables and strings for format\n",
    "    if is_string_like(format):\n",
    "        formatter = lambda s: format % s\n",
    "    else:\n",
    "        formatter = format\n",
    "\n",
    "    # Handle masked arrays\n",
    "    x,y,data = delete_masked_points(x, y, data)\n",
    "\n",
    "    # If there is nothing left after deleting the masked points, return None\n",
    "    if not data.any():\n",
    "        return None\n",
    "\n",
    "    # Make the TextCollection object\n",
    "    texts = [formatter(d) for d in data]\n",
    "    text_obj = TextCollection(x, y, texts, horizontalalignment='center',\n",
    "        verticalalignment='center', clip_on=True, transform=trans, **kw)\n",
    "#        verticalalignment='center', clip_on=True, **kw)\n",
    "\n",
    "    # Add it to the axes\n",
    "    ax.add_artist(text_obj)\n",
    "\n",
    "    # Update plot range\n",
    "    minx = np.min(x)\n",
    "    maxx = np.max(x)\n",
    "    miny = np.min(y)\n",
    "    maxy = np.max(y)\n",
    "    w = maxx - minx\n",
    "    h = maxy - miny\n",
    "\n",
    "    # the pad is a little hack to deal with the fact that we don't\n",
    "    # want to transform all the symbols whose scales are in points\n",
    "    # to data coords to get the exact bounding box for efficiency\n",
    "    # reasons.  It can be done right if this is deemed important\n",
    "    padx, pady = 0.05*w, 0.05*h\n",
    "    corners = (minx-padx, miny-pady), (maxx+padx, maxy+pady)\n",
    "    ax.update_datalim(corners)\n",
    "    ax.autoscale_view()\n",
    "    return text_obj"
   ]
  },
  {
   "cell_type": "markdown",
   "metadata": {},
   "source": [
    "## Create the map using cartopy and matplotlib!"
   ]
  },
  {
   "cell_type": "code",
   "execution_count": 21,
   "metadata": {
    "collapsed": false
   },
   "outputs": [
    {
     "data": {
      "text/plain": [
       "<matplotlib.text.Text at 0x10a920f98>"
      ]
     },
     "execution_count": 21,
     "metadata": {},
     "output_type": "execute_result"
    },
    {
     "data": {
      "image/png": "[encoded data removed]",
      "text/plain": [
       "<matplotlib.figure.Figure at 0x10674beb8>"
      ]
     },
     "metadata": {},
     "output_type": "display_data"
    }
   ],
   "source": [
    "import cartopy\n",
    "import numpy as np\n",
    "\n",
    "fig = plt.figure(figsize=(24,12))\n",
    "proj = cartopy.crs.Stereographic(central_longitude=-95, central_latitude=35)\n",
    "ax = fig.add_subplot(1, 1, 1, projection=proj)\n",
    "\n",
    "# Add map features\n",
    "ax.add_feature(cartopy.feature.LAND)\n",
    "ax.add_feature(cartopy.feature.NaturalEarthFeature(category='cultural', \n",
    "                                                   name='admin_1_states_provinces_lines',\n",
    "                                                   scale='50m',\n",
    "                                                   facecolor='none'))\n",
    "ax.add_feature(cartopy.feature.BORDERS)\n",
    "ax.coastlines()\n",
    "ax.gridlines()\n",
    "\n",
    "# Set extent to match requested bounding box\n",
    "ax.set_extent([bb['west'], bb['east'], bb['south'], bb['north']])\n",
    "\n",
    "# Using above helpers, plot air temperature and dewpoint as in a station plot\n",
    "text_plot(ax, lons, lats, tair, transform=cartopy.crs.PlateCarree(),\n",
    "          zorder=5, color='red', loc=(-10, 10))\n",
    "text_plot(ax, lons, lats, dewp, transform=cartopy.crs.PlateCarree(),\n",
    "          zorder=5, color='darkgreen', loc=(-10, -10))\n",
    "ax.text(-105, 40, \"X Boulder, CO\", transform=cartopy.crs.PlateCarree(), \n",
    "        zorder=6, fontsize=14, fontweight='bold', horizontalalignment=\"left\",\n",
    "        verticalalignment=\"bottom\")"
   ]
  }
 ],
 "metadata": {
  "kernelspec": {
   "display_name": "Python 3",
   "language": "python",
   "name": "python3"
  },
  "language_info": {
   "codemirror_mode": {
    "name": "ipython",
    "version": 3
   },
   "file_extension": ".py",
   "mimetype": "text/x-python",
   "name": "python",
   "nbconvert_exporter": "python",
   "pygments_lexer": "ipython3",
   "version": "3.4.3"
  }
 },
 "nbformat": 4,
 "nbformat_minor": 0
}
