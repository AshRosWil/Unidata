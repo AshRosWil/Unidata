{
 "metadata": {
  "name": "",
  "signature": "sha256:84cfb1463efa2cd633c965fad58723bc5f50f7e0f48fd88dea0cb7c2c52ed69a"
 },
 "nbformat": 3,
 "nbformat_minor": 0,
 "worksheets": [
  {
   "cells": [
    {
     "cell_type": "markdown",
     "metadata": {},
     "source": [
      "#Using the Google Geocoding API to geolocate METAR data"
     ]
    },
    {
     "cell_type": "markdown",
     "metadata": {},
     "source": [
      "##What is Geocoding?\n",
      "\n",
      "- Translate physical addresses to geographic coordinates\n",
      "- Access via a web services call\n",
      "- Returns either XML or JSON formatted data\n",
      "- [https://developers.google.com/maps/documentation/geocoding/](https://developers.google.com/maps/documentation/geocoding/)\n",
      "    \n",
      "##What is METAR?\n",
      "\n",
      "- Surface observational data\n",
      "- Access via a URL constructed from a web form\n",
      "- Returns csv, xml, or NetCDF formatted data\n",
      "- [http://thredds.ucar.edu/thredds/catalog/nws/metar/ncdecoded/catalog.html?dataset=nws/metar/ncdecoded/Metar_Station_Data_fc.cdmr](http://thredds.ucar.edu/thredds/catalog/nws/metar/ncdecoded/catalog.html?dataset=nws/metar/ncdecoded/Metar_Station_Data_fc.cdmr)"
     ]
    },
    {
     "cell_type": "markdown",
     "metadata": {},
     "source": [
      "##Import useful libraries that (other) people have written\n",
      "\n",
      "We need a library to understand URLs and XML documents.  If we want to make some nice plots of our data, we need a library for that, too."
     ]
    },
    {
     "cell_type": "code",
     "collapsed": false,
     "input": [
      "import urllib\n",
      "import xml.etree.ElementTree as ET\n",
      "import datetime as dt\n",
      "%matplotlib inline\n",
      "from matplotlib import pyplot as plt"
     ],
     "language": "python",
     "metadata": {},
     "outputs": []
    },
    {
     "cell_type": "markdown",
     "metadata": {},
     "source": [
      "##Manage the Google API using web documentation"
     ]
    },
    {
     "cell_type": "code",
     "collapsed": false,
     "input": [
      "gcBaseURL='http://maps.googleapis.com/maps/api/geocode/xml?'"
     ],
     "language": "python",
     "metadata": {},
     "outputs": []
    },
    {
     "cell_type": "markdown",
     "metadata": {},
     "source": [
      "##Populate an address in human readable form"
     ]
    },
    {
     "cell_type": "code",
     "collapsed": false,
     "input": [
      "address = '3300 Mitchell Lane, Boulder, CO'\n",
      "#address = 'South Pole'\n",
      "#address = '1817 Pineapple Ave., Melbourne, FL'\n",
      "#address = '708 N. Harvard Ave., Ventnor Heights, NJ'\n",
      "print address\n"
     ],
     "language": "python",
     "metadata": {},
     "outputs": []
    },
    {
     "cell_type": "markdown",
     "metadata": {},
     "source": [
      "##Our address needs to look more like what the Google API expects\n",
      "\n",
      "- No spaces in the address\n",
      "- Simple string manipulation\n"
     ]
    },
    {
     "cell_type": "code",
     "collapsed": false,
     "input": [
      "address = address.replace(' ','+')\n",
      "print address"
     ],
     "language": "python",
     "metadata": {},
     "outputs": []
    },
    {
     "cell_type": "markdown",
     "metadata": {},
     "source": [
      "##Now let's construct the URL\n",
      "\n",
      "- Set up the sensor component\n",
      "- Assemble the URL\n",
      "- Do a sanity check"
     ]
    },
    {
     "cell_type": "code",
     "collapsed": false,
     "input": [
      "gcParameters='address=' + address + '&sensor=false'\n",
      "gcURL = gcBaseURL + gcParameters\n",
      "print gcURL"
     ],
     "language": "python",
     "metadata": {},
     "outputs": []
    },
    {
     "cell_type": "markdown",
     "metadata": {},
     "source": [
      "#What was that?\n",
      "\n",
      "- Back to our libraries to decode the XML\n",
      "- \"Walk the DOM\" to get to lat and lon\n",
      "- http://en.wikipedia.org/wiki/Document_Object_Model"
     ]
    },
    {
     "cell_type": "code",
     "collapsed": false,
     "input": [
      "tree = ET.parse(urllib.urlopen(gcURL))\n",
      "root = tree.getroot()\n",
      "\n",
      "for result in root.findall('result'):\n",
      "    for geometry in result.findall('geometry'):\n",
      "        for location in geometry.findall('location'):\n",
      "            lat = location.find('lat').text\n",
      "            lon = location.find('lng').text\n",
      "        \n",
      "print '[lat, lon] = [' + lat + ', ' + lon + ']'"
     ],
     "language": "python",
     "metadata": {},
     "outputs": []
    },
    {
     "cell_type": "markdown",
     "metadata": {},
     "source": [
      "##Now we need to construct a URL based on the netCDF Subset Service form submission...the hard way"
     ]
    },
    {
     "cell_type": "code",
     "collapsed": false,
     "input": [
      "varkeys = ['req', 'variables', 'var','var','var','var', 'latitude', 'longitude', 'spatial', 'temporal', 'time', 'accept']\n",
      "print varkeys"
     ],
     "language": "python",
     "metadata": {},
     "outputs": []
    },
    {
     "cell_type": "code",
     "collapsed": false,
     "input": [
      "varvals = ['data', 'some', 'air_pressure_at_sea_level','air_temperature','wind_from_direction','wind_speed',lat,lon,'point','point','2014-10-17T01%3A55%3A00Z','csv']\n",
      "print varvals"
     ],
     "language": "python",
     "metadata": {},
     "outputs": []
    },
    {
     "cell_type": "code",
     "collapsed": false,
     "input": [
      "varreqs = []\n",
      "for i in range(len(varkeys)):\n",
      "    varreqs.append(varkeys[i] + '=' + varvals[i])\n",
      "print varreqs"
     ],
     "language": "python",
     "metadata": {},
     "outputs": []
    },
    {
     "cell_type": "markdown",
     "metadata": {},
     "source": [
      "##Let's put all of the form requests together\n",
      "- We need an '&' between each argument\n",
      "- We need to get rid of the trailing '&'"
     ]
    },
    {
     "cell_type": "code",
     "collapsed": false,
     "input": [
      "querystr = ''\n",
      "for varreq in varreqs:\n",
      "    querystr += varreq + '&'\n",
      "print querystr"
     ],
     "language": "python",
     "metadata": {},
     "outputs": []
    },
    {
     "cell_type": "code",
     "collapsed": false,
     "input": [
      "if querystr[-1] == '&':\n",
      "    querystr = querystr[0:-1]\n",
      "print querystr"
     ],
     "language": "python",
     "metadata": {},
     "outputs": []
    },
    {
     "cell_type": "markdown",
     "metadata": {},
     "source": [
      "##Even though the negative indexing is neat, there's a better way to join a list in the way we want"
     ]
    },
    {
     "cell_type": "code",
     "collapsed": false,
     "input": [
      "querystr = \"&\".join(varreqs)\n",
      "print querystr"
     ],
     "language": "python",
     "metadata": {},
     "outputs": []
    },
    {
     "cell_type": "markdown",
     "metadata": {},
     "source": [
      "##Ok, let's make a request builder function"
     ]
    },
    {
     "cell_type": "code",
     "collapsed": false,
     "input": [
      "def pointRequest(bb = None, lat = None, lon = None, variables = ['air_temperature', 'air_pressure_at_sea_level'], \n",
      "                 startTime = None, endTime = None, accept=\"csv\"):\n",
      "    '''\n",
      "    lat : float\n",
      "        latitude\n",
      "    lon : float\n",
      "        longitude\n",
      "    bb : dictionairy\n",
      "        dictionairy with keys \"north\", \"south\", \"east\", and \"west\"\n",
      "        that describes a geographical bounding box\n",
      "    variables : list of strings\n",
      "        desired variables from the station closest to lat, lon\n",
      "    startTime : datetime object\n",
      "        desired time of observation window,\n",
      "    endTime : datetime object\n",
      "        desired end of observation window. If not specified, return ob closest to startTime.\n",
      "    accept : string\n",
      "        format in which the data are returned [csv, xml, netCDF, or netCDF4]\n",
      "    '''\n",
      "\n",
      "    start = startTime.isoformat() #2014-10-17T01%3A55%3A00Z\n",
      "         \n",
      "    reqVars = []\n",
      "    for var in variables:\n",
      "        reqVars.append('var' + '=' + var)\n",
      "\n",
      "    if (not lat is None) and (not lon is None):\n",
      "        reqVars.append('latitude=' + str(lat))\n",
      "        reqVars.append('longitude=' + str(lon))\n",
      "    elif not bb is None:\n",
      "        reqVars.append('north=' + str(bb['north']))\n",
      "        reqVars.append('east=' + str(bb['east']))\n",
      "        reqVars.append('south=' + str(bb['south']))\n",
      "        reqVars.append('west=' + str(bb['west']))\n",
      "    else:\n",
      "        print(\"Error - must supply either a latitude and longitude, or a bounding box\")\n",
      "        return \"\"\n",
      "    \n",
      "    if endTime is None:\n",
      "        reqVars.append('time=' + start)\n",
      "    else:\n",
      "        stop = endTime.isoformat()\n",
      "        reqVars.append('time_start=' + start)\n",
      "        reqVars.append('time_end=' + stop)\n",
      "\n",
      "    reqVars.append('accept=' + accept)    \n",
      "\n",
      "    reqVars = '&'.join(reqVars)\n",
      "    \n",
      "    return reqVars\n",
      "\n",
      "print pointRequest(lat = 10, lon = 10,startTime=dt.datetime(2014,1,1), endTime=dt.datetime(2014,1,1))"
     ],
     "language": "python",
     "metadata": {},
     "outputs": []
    },
    {
     "cell_type": "markdown",
     "metadata": {},
     "source": [
      "##Construct our request to the TDS using the expected base URL and our query string"
     ]
    },
    {
     "cell_type": "code",
     "collapsed": false,
     "input": [
      "baseurl = 'http://thredds.ucar.edu/thredds/ncss/nws/metar/ncdecoded/Metar_Station_Data_fc.cdmr?'\n",
      "querystr2 = pointRequest(lat, lon, startTime = dt.datetime(2014, 10,17))\n",
      "url = baseurl + querystr2\n",
      "print url"
     ],
     "language": "python",
     "metadata": {},
     "outputs": []
    },
    {
     "cell_type": "markdown",
     "metadata": {},
     "source": [
      "##Hit the URL and parse the data!"
     ]
    },
    {
     "cell_type": "code",
     "collapsed": false,
     "input": [
      "output = urllib.urlopen(url)\n",
      "lines = output.readlines()\n",
      "if len(lines) < 2:\n",
      "    print 'Only one line in output suggests no data was returned!'\n",
      "else:\n",
      "    names = lines[0].split(',')\n",
      "    vals = lines[1].split(',')\n",
      "    for i in range(0,len(names)):\n",
      "        print names[i] + ' : ' + vals[i]"
     ],
     "language": "python",
     "metadata": {},
     "outputs": []
    },
    {
     "cell_type": "markdown",
     "metadata": {},
     "source": [
      "\n",
      "##Now for the obligatory time series..."
     ]
    },
    {
     "cell_type": "code",
     "collapsed": false,
     "input": [
      "# 24 hour time series starting on the following date:\n",
      "dateStart = dt.datetime(2014,10,17, 0, 0, 0)\n",
      "dateEnd = dateStart + dt.timedelta(days=1)\n",
      "\n",
      "querystr = pointRequest(lat=lat, lon=lon, startTime = dateStart, endTime = dateEnd)\n",
      "url = baseurl + querystr\n",
      "output = urllib.urlopen(url)\n",
      "\n",
      "t_air = []\n",
      "time = []\n",
      "data = output.readlines()\n",
      "for line in data[1:]:\n",
      "    vals = line.split(\",\")\n",
      "    #print vals\n",
      "    t_air.append(float(vals[4]))\n",
      "    time.append(dt.datetime.strptime(vals[0], \"%Y-%m-%d %H:%M:%SZ\"))\n",
      "station = vals[1]\n",
      "\n",
      "t_air_label = data[0].split(',')[4]\n",
      "print url"
     ],
     "language": "python",
     "metadata": {},
     "outputs": []
    },
    {
     "cell_type": "code",
     "collapsed": false,
     "input": [
      "from matplotlib.dates import HourLocator,DateFormatter, AutoDateLocator\n",
      "fig = plt.figure()\n",
      "ax1 = fig.add_subplot(1,1,1)\n",
      "ax1.plot(time, t_air, '*')\n",
      "\n",
      "locator = AutoDateLocator()\n",
      "hoursFmt = DateFormatter('%H')\n",
      "\n",
      "ax1.xaxis.set_major_locator(locator)\n",
      "ax1.xaxis.set_major_formatter(hoursFmt)\n",
      "ax1.autoscale_view()\n",
      "ax1.set_title('Site: {}      Date: {}'.format(station, time[0].strftime('%Y/%m/%d')))\n",
      "ax1.set_xlabel('Hour of day')\n",
      "ax1.set_ylabel(t_air_label)\n",
      "fig.autofmt_xdate()\n",
      "plt.show()"
     ],
     "language": "python",
     "metadata": {},
     "outputs": []
    },
    {
     "cell_type": "markdown",
     "metadata": {},
     "source": [
      "## Now, let's request all stations within a bounding box for a given time and create a surface station plot map"
     ]
    },
    {
     "cell_type": "code",
     "collapsed": false,
     "input": [
      "variables = ['air_temperature', 'dew_point_temperature']\n",
      "bb = {'north' : 45,\n",
      "      'south' : 35,\n",
      "      'east' : -100,\n",
      "      'west' : -110}\n",
      "\n",
      "querystr = pointRequest(bb = bb, startTime=dt.datetime(2014,10,17), variables = variables)\n",
      "\n",
      "url = baseurl + querystr\n",
      "output = urllib.urlopen(url)\n",
      "\n",
      "data = output.readlines()\n",
      "\n",
      "tair = []\n",
      "dewp = []\n",
      "station = []\n",
      "time = []\n",
      "for line in data[1:]:\n",
      "    vals = line.split(\",\")\n",
      "    #print vals\n",
      "    time.append(dt.datetime.strptime(vals[0], \"%Y-%m-%d %H:%M:%SZ\"))\n",
      "    station.append(vals[1])\n",
      "    tair.append(float(vals[4]))\n",
      "    dewp.append(float(vals[5]))\n",
      "    \n",
      "print time[0],station[0],t_air[0],dewp[0]"
     ],
     "language": "python",
     "metadata": {},
     "outputs": []
    },
    {
     "cell_type": "code",
     "collapsed": false,
     "input": [],
     "language": "python",
     "metadata": {},
     "outputs": []
    }
   ],
   "metadata": {}
  }
 ]
}