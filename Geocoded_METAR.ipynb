{
 "metadata": {
  "name": "Geocoded_METAR"
 },
 "nbformat": 3,
 "nbformat_minor": 0,
 "worksheets": [
  {
   "cells": [
    {
     "cell_type": "code",
     "collapsed": false,
     "input": [
      "import urllib\n",
      "import xml.etree.ElementTree as ET"
     ],
     "language": "python",
     "metadata": {},
     "outputs": [],
     "prompt_number": 1
    },
    {
     "cell_type": "code",
     "collapsed": false,
     "input": [
      "gcBaseURL='http://maps.googleapis.com/maps/api/geocode/xml?'\n",
      "address = '3600 Mitchell Lane, Boulder, CO'\n",
      "print address\n",
      "address = address.replace(' ','+')\n",
      "print address\n",
      "gcParameters='address=' + address + '&sensor=false'\n",
      "gcURL = gcBaseURL + gcParameters\n",
      "print gcURL"
     ],
     "language": "python",
     "metadata": {},
     "outputs": [
      {
       "output_type": "stream",
       "stream": "stdout",
       "text": [
        "3600 Mitchell Lane, Boulder, CO\n",
        "3600+Mitchell+Lane,+Boulder,+CO\n",
        "http://maps.googleapis.com/maps/api/geocode/xml?address=3600+Mitchell+Lane,+Boulder,+CO&sensor=false\n"
       ]
      }
     ],
     "prompt_number": 27
    },
    {
     "cell_type": "code",
     "collapsed": false,
     "input": [
      "lats = []\n",
      "lons = []\n",
      "tree = ET.parse(urllib.urlopen(gcURL))\n",
      "root = tree.getroot()\n",
      "root.tag\n",
      "root.attrib\n",
      "for child in root:\n",
      "    print child.tag, child.attrib\n",
      "\n",
      "for geometry in root.findall('geometry'):\n",
      "    for location in geometry.findall('location'):\n",
      "        lat = location.find('lat').text\n",
      "        lon = location.find('lng').text\n",
      "        \n",
      "print '[lat, lon] = [' + lat + ', ' + lon + ']'"
     ],
     "language": "python",
     "metadata": {},
     "outputs": [
      {
       "output_type": "stream",
       "stream": "stdout",
       "text": [
        "status {}\n",
        "result {}\n",
        "[lat, lon] = [40.0365904, -105.2420900]\n"
       ]
      }
     ],
     "prompt_number": 31
    },
    {
     "cell_type": "code",
     "collapsed": false,
     "input": [
      "varkeys = ['req', 'variables', 'var','var','var','var', 'north', 'west', 'east', 'south', 'latitude', 'longitude', 'spatial', 'stn', 'time_start', 'time_end', 'temporal', 'time', 'accept']\n",
      "print varkeys"
     ],
     "language": "python",
     "metadata": {},
     "outputs": [
      {
       "output_type": "stream",
       "stream": "stdout",
       "text": [
        "['req', 'variables', 'var', 'var', 'var', 'var', 'north', 'west', 'east', 'south', 'latitude', 'longitude', 'spatial', 'stn', 'time_start', 'time_end', 'temporal', 'time', 'accept']\n"
       ]
      }
     ],
     "prompt_number": 15
    },
    {
     "cell_type": "code",
     "collapsed": false,
     "input": [
      "varvals = ['data', 'sum', 'air_pressure_at_sea_level','air_temperature','wind_from_direction','wind_speed','','','','',lat,lon,'point','','','','point','2013-07-15T01%3A55%3A00Z','csv']\n",
      "print varvals"
     ],
     "language": "python",
     "metadata": {},
     "outputs": [
      {
       "output_type": "stream",
       "stream": "stdout",
       "text": [
        "['data', 'sum', 'air_pressure_at_sea_level', 'air_temperature', 'wind_from_direction', 'wind_speed', '', '', '', '', '37.4214111', '-122.0840372', 'point', '', '', '', 'point', '2013-07-15T01%3A55%3A00Z', 'csv']\n"
       ]
      }
     ],
     "prompt_number": 19
    },
    {
     "cell_type": "code",
     "collapsed": false,
     "input": [
      "varreqs = []\n",
      "for i in range(len(varkeys)):\n",
      "    #print i, varkeys[i], varvals[i]\n",
      "    varreqs.append(varkeys[i] + '=' + varvals[i])\n",
      "print varreqs"
     ],
     "language": "python",
     "metadata": {},
     "outputs": [
      {
       "output_type": "stream",
       "stream": "stdout",
       "text": [
        "['req=data', 'variables=sum', 'var=air_pressure_at_sea_level', 'var=air_temperature', 'var=wind_from_direction', 'var=wind_speed', 'north=', 'west=', 'east=', 'south=', 'latitude=37.4214111', 'longitude=-122.0840372', 'spatial=point', 'stn=', 'time_start=', 'time_end=', 'temporal=point', 'time=2013-07-15T01%3A55%3A00Z', 'accept=csv']\n"
       ]
      }
     ],
     "prompt_number": 20
    },
    {
     "cell_type": "code",
     "collapsed": false,
     "input": [
      "querystr = ''\n",
      "for varreq in varreqs:\n",
      "    querystr += varreq + '&'\n",
      "print querystr\n",
      "if querystr[-1] == '&':\n",
      "    querystr = querystr[0:-1]\n",
      "print querystr"
     ],
     "language": "python",
     "metadata": {},
     "outputs": [
      {
       "output_type": "stream",
       "stream": "stdout",
       "text": [
        "req=data&variables=sum&var=air_pressure_at_sea_level&var=air_temperature&var=wind_from_direction&var=wind_speed&north=&west=&east=&south=&latitude=&longitude=&spatial=stns&stn=BJC&time_start=&time_end=&temporal=point&time=2013-07-15T01%3A55%3A00Z&accept=csv&\n",
        "req=data&variables=sum&var=air_pressure_at_sea_level&var=air_temperature&var=wind_from_direction&var=wind_speed&north=&west=&east=&south=&latitude=&longitude=&spatial=stns&stn=BJC&time_start=&time_end=&temporal=point&time=2013-07-15T01%3A55%3A00Z&accept=csv\n"
       ]
      }
     ],
     "prompt_number": 18
    },
    {
     "cell_type": "code",
     "collapsed": false,
     "input": [
      "baseurl = 'http://thredds.ucar.edu/thredds/cdmrfeature/nws/metar/ncdecoded/Metar_Station_Data_fc.cdmr?'\n",
      "url = baseurl + querystr\n",
      "print url"
     ],
     "language": "python",
     "metadata": {},
     "outputs": [
      {
       "output_type": "stream",
       "stream": "stdout",
       "text": [
        "http://thredds.ucar.edu/thredds/cdmrfeature/nws/metar/ncdecoded/Metar_Station_Data_fc.cdmr?req=data&variables=sum&var=air_pressure_at_sea_level&var=air_temperature&var=wind_from_direction&var=wind_speed&north=&west=&east=&south=&latitude=&longitude=&spatial=stns&stn=BJC&time_start=&time_end=&temporal=point&time=2013-07-15T01%3A55%3A00Z&accept=csv\n"
       ]
      }
     ],
     "prompt_number": 21
    },
    {
     "cell_type": "code",
     "collapsed": false,
     "input": [
      "output = urllib.urlopen(url)\n",
      "print output\n",
      "lines = []\n",
      "for line in output.readlines():\n",
      "    lines.append(line)\n",
      "print lines"
     ],
     "language": "python",
     "metadata": {},
     "outputs": [
      {
       "output_type": "stream",
       "stream": "stdout",
       "text": [
        "<addinfourl at 135406984L whose fp = <socket._fileobject object at 0x00000000080C8C00>>\n",
        "['time,station,latitude[unit=\"degrees_north\"],longitude[unit=\"degrees_east\"],air_pressure_at_sea_level[unit=\"hectoPascal\"],air_temperature[unit=\"Celsius\"],wind_from_direction[unit=\"degrees\"],wind_speed[unit=\"m/s\"]\\n', '2013-07-15 01:55:00Z,BJC,39.919,-105.120,NaN ,24.0 ,330 ,4.629996 \\n']\n"
       ]
      }
     ],
     "prompt_number": 24
    },
    {
     "cell_type": "code",
     "collapsed": false,
     "input": [],
     "language": "python",
     "metadata": {},
     "outputs": []
    }
   ],
   "metadata": {}
  }
 ]
}