{
 "metadata": {
  "name": "Geocoded_METAR"
 },
 "nbformat": 3,
 "nbformat_minor": 0,
 "worksheets": [
  {
   "cells": [
    {
     "cell_type": "code",
     "collapsed": false,
     "input": [
      "import urllib\n",
      "import xml.etree.ElementTree as ET"
     ],
     "language": "python",
     "metadata": {},
     "outputs": [],
     "prompt_number": 146
    },
    {
     "cell_type": "code",
     "collapsed": false,
     "input": [
      "gcBaseURL='http://maps.googleapis.com/maps/api/geocode/xml?'\n",
      "address = '3600 Mitchell Lane, Boulder, CO'\n",
      "#address = 'South Pole'\n",
      "#address = '1817 Pineapple Ave., Melbourne, FL'\n",
      "#address = '708 N. Harvard Ave., Ventnor Heights, NJ'\n",
      "print address\n",
      "address = address.replace(' ','+')\n",
      "print address\n",
      "gcParameters='address=' + address + '&sensor=false'\n",
      "gcURL = gcBaseURL + gcParameters\n",
      "print gcURL"
     ],
     "language": "python",
     "metadata": {},
     "outputs": [
      {
       "output_type": "stream",
       "stream": "stdout",
       "text": [
        "3600 Mitchell Lane, Boulder, CO\n",
        "3600+Mitchell+Lane,+Boulder,+CO\n",
        "http://maps.googleapis.com/maps/api/geocode/xml?address=3600+Mitchell+Lane,+Boulder,+CO&sensor=false\n"
       ]
      }
     ],
     "prompt_number": 147
    },
    {
     "cell_type": "code",
     "collapsed": false,
     "input": [
      "tree = ET.parse(urllib.urlopen(gcURL))\n",
      "root = tree.getroot()\n",
      "\n",
      "for result in root.findall('result'):\n",
      "    for geometry in result.findall('geometry'):\n",
      "        for location in geometry.findall('location'):\n",
      "            lat = location.find('lat').text\n",
      "            lon = location.find('lng').text\n",
      "        \n",
      "print '[lat, lon] = [' + lat + ', ' + lon + ']'"
     ],
     "language": "python",
     "metadata": {},
     "outputs": [
      {
       "output_type": "stream",
       "stream": "stdout",
       "text": [
        "[lat, lon] = [40.0365904, -105.2420900]\n"
       ]
      }
     ],
     "prompt_number": 148
    },
    {
     "cell_type": "code",
     "collapsed": false,
     "input": [
      "varkeys = ['req', 'variables', 'var','var','var','var', 'latitude', 'longitude', 'spatial', 'temporal', 'time', 'accept']\n",
      "print varkeys"
     ],
     "language": "python",
     "metadata": {},
     "outputs": [
      {
       "output_type": "stream",
       "stream": "stdout",
       "text": [
        "['req', 'variables', 'var', 'var', 'var', 'var', 'latitude', 'longitude', 'spatial', 'temporal', 'time', 'accept']\n"
       ]
      }
     ],
     "prompt_number": 149
    },
    {
     "cell_type": "code",
     "collapsed": false,
     "input": [
      "varvals = ['data', 'some', 'air_pressure_at_sea_level','air_temperature','wind_from_direction','wind_speed',lat,lon,'point','point','2013-07-16T01%3A55%3A00Z','csv']\n",
      "print varvals"
     ],
     "language": "python",
     "metadata": {},
     "outputs": [
      {
       "output_type": "stream",
       "stream": "stdout",
       "text": [
        "['data', 'some', 'air_pressure_at_sea_level', 'air_temperature', 'wind_from_direction', 'wind_speed', '40.0365904', '-105.2420900', 'point', 'point', '2013-07-16T01%3A55%3A00Z', 'csv']\n"
       ]
      }
     ],
     "prompt_number": 150
    },
    {
     "cell_type": "code",
     "collapsed": false,
     "input": [
      "varreqs = []\n",
      "for i in range(len(varkeys)):\n",
      "    varreqs.append(varkeys[i] + '=' + varvals[i])\n",
      "print varreqs"
     ],
     "language": "python",
     "metadata": {},
     "outputs": [
      {
       "output_type": "stream",
       "stream": "stdout",
       "text": [
        "['req=data', 'variables=some', 'var=air_pressure_at_sea_level', 'var=air_temperature', 'var=wind_from_direction', 'var=wind_speed', 'latitude=40.0365904', 'longitude=-105.2420900', 'spatial=point', 'temporal=point', 'time=2013-07-16T01%3A55%3A00Z', 'accept=csv']\n"
       ]
      }
     ],
     "prompt_number": 151
    },
    {
     "cell_type": "code",
     "collapsed": false,
     "input": [
      "querystr = ''\n",
      "for varreq in varreqs:\n",
      "    querystr += varreq + '&'\n",
      "print querystr\n",
      "if querystr[-1] == '&':\n",
      "    querystr = querystr[0:-1]\n",
      "print querystr"
     ],
     "language": "python",
     "metadata": {},
     "outputs": [
      {
       "output_type": "stream",
       "stream": "stdout",
       "text": [
        "req=data&variables=some&var=air_pressure_at_sea_level&var=air_temperature&var=wind_from_direction&var=wind_speed&latitude=40.0365904&longitude=-105.2420900&spatial=point&temporal=point&time=2013-07-16T01%3A55%3A00Z&accept=csv&\n",
        "req=data&variables=some&var=air_pressure_at_sea_level&var=air_temperature&var=wind_from_direction&var=wind_speed&latitude=40.0365904&longitude=-105.2420900&spatial=point&temporal=point&time=2013-07-16T01%3A55%3A00Z&accept=csv\n"
       ]
      }
     ],
     "prompt_number": 152
    },
    {
     "cell_type": "code",
     "collapsed": false,
     "input": [
      "baseurl = 'http://thredds.ucar.edu/thredds/cdmrfeature/nws/metar/ncdecoded/Metar_Station_Data_fc.cdmr?'\n",
      "url = baseurl + querystr\n",
      "print url"
     ],
     "language": "python",
     "metadata": {},
     "outputs": [
      {
       "output_type": "stream",
       "stream": "stdout",
       "text": [
        "http://thredds.ucar.edu/thredds/cdmrfeature/nws/metar/ncdecoded/Metar_Station_Data_fc.cdmr?req=data&variables=some&var=air_pressure_at_sea_level&var=air_temperature&var=wind_from_direction&var=wind_speed&latitude=40.0365904&longitude=-105.2420900&spatial=point&temporal=point&time=2013-07-16T01%3A55%3A00Z&accept=csv\n"
       ]
      }
     ],
     "prompt_number": 153
    },
    {
     "cell_type": "code",
     "collapsed": false,
     "input": [
      "output = urllib.urlopen(url)\n",
      "lines = output.readlines()\n",
      "if len(lines) < 2:\n",
      "    print 'Only one line in output suggests no data was returned!'\n",
      "else:\n",
      "    names = lines[0].split(',')\n",
      "    vals = lines[1].split(',')\n",
      "    for i in range(0,len(names)):\n",
      "        print names[i] + ' : ' + vals[i]"
     ],
     "language": "python",
     "metadata": {},
     "outputs": [
      {
       "output_type": "stream",
       "stream": "stdout",
       "text": [
        "time : 2013-07-16 02:22:00Z\n",
        "station : BJC\n",
        "latitude[unit=\"degrees_north\"] : 39.919\n",
        "longitude[unit=\"degrees_east\"] : -105.120\n",
        "air_pressure_at_sea_level[unit=\"hectoPascal\"] : NaN \n",
        "air_temperature[unit=\"Celsius\"] : 22.0 \n",
        "wind_from_direction[unit=\"degrees\"] : -99999 \n",
        "wind_speed[unit=\"m/s\"]\n",
        " : 2.57222 \n",
        "\n"
       ]
      }
     ],
     "prompt_number": 154
    },
    {
     "cell_type": "code",
     "collapsed": false,
     "input": [],
     "language": "python",
     "metadata": {},
     "outputs": [],
     "prompt_number": 154
    }
   ],
   "metadata": {}
  }
 ]
}