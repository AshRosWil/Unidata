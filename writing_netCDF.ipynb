{
 "metadata": {
  "name": "writing_netCDF"
 },
 "nbformat": 3,
 "nbformat_minor": 0,
 "worksheets": [
  {
   "cells": [
    {
     "cell_type": "markdown",
     "metadata": {},
     "source": [
      "# Writing netCDF data\n",
      "\n",
      "- Creating, modifying, and reading netCDF data is easy in Python.\n",
      "\n",
      "- There are [several netCDF Python modules](http://www.unidata.ucar.edu/netcdf/software.html#Python) available.  \n",
      "\n",
      "- We will use Jeff Whitaker's netcdf4 package."
     ]
    },
    {
     "cell_type": "code",
     "collapsed": false,
     "input": [
      "import netCDF4     # Note: upper and lower case matter!\n",
      "import numpy as np # Shorter abbreviation, too lazy to type \"numpy\""
     ],
     "language": "python",
     "metadata": {},
     "outputs": []
    },
    {
     "cell_type": "markdown",
     "metadata": {},
     "source": [
      "## Creating metadata\n",
      "\n",
      "Now let's create a new, empty netCDF file named 'data/new.nc', opened for writing ..."
     ]
    },
    {
     "cell_type": "code",
     "collapsed": false,
     "input": [
      "ncfile = netCDF4.Dataset('data/new.nc','w')\n",
      "print \"-- Created file\""
     ],
     "language": "python",
     "metadata": {},
     "outputs": []
    },
    {
     "cell_type": "markdown",
     "metadata": {},
     "source": [
      "The **ncfile** object we created is a container for _dimensions_, _variables_, and _attributes_.  Let's add some of those.  Every dimension has a name and a length."
     ]
    },
    {
     "cell_type": "code",
     "collapsed": false,
     "input": [
      "lat_dim = ncfile.createDimension('lat', 5)     # latitude axis\n",
      "lon_dim = ncfile.createDimension('lon', 7)     # longitude axis\n",
      "time_dim = ncfile.createDimension('time', 0)   # unlimited axis\n",
      "print \"-- Created dimensions\""
     ],
     "language": "python",
     "metadata": {},
     "outputs": []
    },
    {
     "cell_type": "markdown",
     "metadata": {},
     "source": [
      "Setting the dimension length to 0 or None makes it unlimited, so it can grow.\n",
      "\n",
      "Now let's add some variables and store some data in them.  \n",
      "\n",
      "A variable has a name, a type, a shape, and some data values.  The shape of a variable is specified by a list of dimensions.  A variable may also have some named attributes, such as 'units'.\n",
      "\n",
      "The type of a variable may be specified by a string, such as 'f4' for 4-byte float.  Alternatively, it may be specified as a _numpy_ type, such as float32.\n"
     ]
    },
    {
     "cell_type": "code",
     "collapsed": false,
     "input": [
      "# Define two variables with the same names as dimensions,\n",
      "# a conventional way to define \"coordinate variables\".\n",
      "lat = ncfile.createVariable('lat', 'f4', ('lat',))\n",
      "lat.units = 'degrees_north'\n",
      "lat.standard_name = 'latitude'\n",
      "lon = ncfile.createVariable('lon', 'f4', ('lon',))\n",
      "lon.units = 'degrees_east'\n",
      "lon.standard_name = 'longitude'\n",
      "# Define a 3D variable to hold the data\n",
      "mslp = ncfile.createVariable('mslp','f4',('time','lat','lon'))\n",
      "mslp.units = 'hPa' # hecto-Pascals also known as millibars\n",
      "mslp.standard_name = 'air_pressure_at_sea_level'\n",
      "print \"-- Created variables with attributes\""
     ],
     "language": "python",
     "metadata": {},
     "outputs": []
    },
    {
     "cell_type": "markdown",
     "metadata": {},
     "source": [
      "The netCDF4 module provides some useful pre-defined attributes for netCDF variables, such as dimensions, shape, dtype, ndim."
     ]
    },
    {
     "cell_type": "code",
     "collapsed": false,
     "input": [
      "print \"-- Some pre-defined attributes for variable mslp:\"\n",
      "print \"mslp.dimensions:\", mslp.dimensions\n",
      "print \"mslp.shape:\", mslp.shape\n",
      "print \"mslp.type:\", mslp.dtype\n",
      "print \"mslp.ndim:\", mslp.ndim"
     ],
     "language": "python",
     "metadata": {},
     "outputs": []
    },
    {
     "cell_type": "markdown",
     "metadata": {},
     "source": [
      "If you don't need variable properties separately, you can print all the info at once:"
     ]
    },
    {
     "cell_type": "code",
     "collapsed": false,
     "input": [
      "print mslp"
     ],
     "language": "python",
     "metadata": {},
     "outputs": []
    },
    {
     "cell_type": "markdown",
     "metadata": {},
     "source": [
      "## Writing data\n",
      "\n",
      "So far, we don't have any actual data in the file.  Let's:\n",
      "\n",
      " - fill in the coordinate variables for our lat/lon grid\n",
      " - generate 3 grids of pressure data, in an array of shape (3, nlats, nlons)\n",
      " - set the variable **`mslp`** to that array to store data for 3 times"
     ]
    },
    {
     "cell_type": "code",
     "collapsed": false,
     "input": [
      "ntimes = 3\n",
      "nlats = len(lat_dim)\n",
      "nlons = len(lon_dim)\n",
      "# Write latitudes, longitudes.\n",
      "# Note: the \":\" is necessary in these \"write\" statements\n",
      "lat0, lon0, step = (20.0, 75.0, 10.0)\n",
      "lat[:] = np.arange(lat0, lat0+nlats*step, step) # 20, 30, ..., 60\n",
      "lon[:] = np.arange(lon0, lon0+nlons*step, step) # 75, ..., 135\n",
      "# create a 3D array of integers, ntimes by nlats by nlons\n",
      "data_arr = (np.arange(ntimes*nlats*nlons)+850).reshape(ntimes,nlats,nlons)\n",
      "# Write the data.  This writes the whole 3D netCDF variable all at once.\n",
      "mslp[:,:,:] = data_arr  # Appends data along unlimited dimension\n",
      "print \"-- Wrote data, mslp.shape is now \", mslp.shape"
     ],
     "language": "python",
     "metadata": {},
     "outputs": []
    },
    {
     "cell_type": "markdown",
     "metadata": {},
     "source": [
      "- You can just treat a netCDF Variable object like a numpy array and assign values to it.\n",
      "- Variables automatically grow along unlimited dimensions.\n",
      "- The above writes the whole 3D variable all at once, with 'mslp[:] = ...' or 'mslp[:,:,:] = ...' .\n",
      "- You can write it a slice a a time instead.\n",
      "\n",
      "Let's add another time slice:\n"
     ]
    },
    {
     "cell_type": "code",
     "collapsed": false,
     "input": [
      "# create a random 2D array of floats, nlats by nlons in [850., 1100)\n",
      "from numpy.random import uniform\n",
      "data_slice = uniform(low=870,high=1085,size=(nlats, nlons))\n",
      "mslp[3,:,:] = data_slice   # Appends the 4th time slice\n",
      "print \"-- Wrote more data, mslp.shape is now \", mslp.shape"
     ],
     "language": "python",
     "metadata": {},
     "outputs": []
    },
    {
     "cell_type": "markdown",
     "metadata": {},
     "source": [
      "## Closing a netCDF file\n",
      "\n",
      "It's **important** to close a netCDF file you opened for writing:\n",
      "\n",
      "- flushes buffers to make sure all data gets written\n",
      "- releases memory resources used by open netCDF files\n",
      "- lets you start over if you get an error, by recreating file from scratch"
     ]
    },
    {
     "cell_type": "code",
     "collapsed": true,
     "input": [
      "ncfile.close()\n",
      "print \"-- File closed successfully\""
     ],
     "language": "python",
     "metadata": {},
     "outputs": []
    },
    {
     "cell_type": "markdown",
     "metadata": {},
     "source": [
      "## Using ncdump\n",
      "\n",
      "The `ncdump` tool provides a text representation of the contents of a netCDF dataset, in the _CDL_ notation.  You can run command-line programs, such as `ncdump`, in iPython by using '!' first:"
     ]
    },
    {
     "cell_type": "code",
     "collapsed": false,
     "input": [
      "!ncdump data/new.nc"
     ],
     "language": "python",
     "metadata": {},
     "outputs": []
    },
    {
     "cell_type": "markdown",
     "metadata": {},
     "source": [
      "## Exercise\n",
      "\n",
      "- Add a \"time\" coordinate variable, corresponding to the \"time\" dimension.  \n",
      "- Give it a \"units\" attribute of \"days since 2013-07-24\".  \n",
      "- Give it values 0, 1, 2, 3, 4, 5, 6, 7.  \n",
      "- If you have time, verify that ncdump shows the new variable, attribute, and values."
     ]
    }
   ],
   "metadata": {}
  }
 ]
}