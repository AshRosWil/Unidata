{
 "metadata": {
  "name": "writing_netCDF"
 },
 "nbformat": 3,
 "nbformat_minor": 0,
 "worksheets": [
  {
   "cells": [
    {
     "cell_type": "markdown",
     "metadata": {},
     "source": [
      "# Writing netCDF data\n",
      "\n",
      "- Creating, modifying, and reading netCDF data is easy in Python.\n",
      "\n",
      "- There are [several netCDF Python modules](http://www.unidata.ucar.edu/netcdf/software.html#Python) available.  \n",
      "\n",
      "- We will use Jeff Whitaker's netcdf4 package."
     ]
    },
    {
     "cell_type": "code",
     "collapsed": false,
     "input": [
      "import netCDF4     # Note: upper and lower case matter!\n",
      "import numpy as np"
     ],
     "language": "python",
     "metadata": {},
     "outputs": [],
     "prompt_number": 63
    },
    {
     "cell_type": "markdown",
     "metadata": {},
     "source": [
      "## Creating metadata\n",
      "\n",
      "Now let's create a new, empty netCDF file named 'data/new.nc', opened for writing ..."
     ]
    },
    {
     "cell_type": "code",
     "collapsed": false,
     "input": [
      "ncfile = netCDF4.Dataset('data/new.nc','w')\n",
      "print \"-- Created file\""
     ],
     "language": "python",
     "metadata": {},
     "outputs": [
      {
       "output_type": "stream",
       "stream": "stdout",
       "text": [
        "-- Created file\n"
       ]
      }
     ],
     "prompt_number": 64
    },
    {
     "cell_type": "markdown",
     "metadata": {},
     "source": [
      "The **ncfile** object we created is a container for _dimensions_, _variables_, and _attributes_.  Let's add some of those.  Every dimension has a name and a length."
     ]
    },
    {
     "cell_type": "code",
     "collapsed": false,
     "input": [
      "lat_dim = ncfile.createDimension('lat', 5)     # latitude axis\n",
      "lon_dim = ncfile.createDimension('lon', 7)     # longitude axis\n",
      "time_dim = ncfile.createDimension('time', 0)   # unlimited axis\n",
      "print \"-- Created dimensions\""
     ],
     "language": "python",
     "metadata": {},
     "outputs": [
      {
       "output_type": "stream",
       "stream": "stdout",
       "text": [
        "-- Created dimensions\n"
       ]
      }
     ],
     "prompt_number": 65
    },
    {
     "cell_type": "markdown",
     "metadata": {},
     "source": [
      "Setting the dimension length to 0 or None makes it unlimited, so it can grow.\n",
      "\n",
      "Now let's add some variables and store some data in them.  \n",
      "\n",
      "A variable has a name, a type, a shape, and some data values.  The shape of a variable is specified by a tuple of dimension names.  A variable may also have some named attributes, such as 'units'.\n",
      "\n",
      "The type of a variable may be specified by a string, such as 'f4' for 4-byte float.  Alternatively, it may be specified as a _numpy_ type, such as float32.\n"
     ]
    },
    {
     "cell_type": "code",
     "collapsed": false,
     "input": [
      "# Define two variables with the same names as dimensions,\n",
      "# a conventional way to define \"coordinate variables\".\n",
      "lat = ncfile.createVariable('lat', 'f4', ('lat',))\n",
      "lat.units = 'degrees_north'\n",
      "lat.standard_name = 'latitude'\n",
      "lon = ncfile.createVariable('lon', 'f4', ('lon',))\n",
      "lon.units = 'degrees_east'\n",
      "lon.standard_name = 'longitude'\n",
      "# Define a 3D variable to hold the data\n",
      "mslp = ncfile.createVariable('mslp','f4',('time','lat','lon'))\n",
      "mslp.units = 'hPa' # hecto-Pascals also known as millibars\n",
      "mslp.standard_name = 'air_pressure_at_sea_level'\n",
      "print \"-- Created variables with attributes\""
     ],
     "language": "python",
     "metadata": {},
     "outputs": [
      {
       "output_type": "stream",
       "stream": "stdout",
       "text": [
        "-- Created variables with attributes\n"
       ]
      }
     ],
     "prompt_number": 66
    },
    {
     "cell_type": "markdown",
     "metadata": {},
     "source": [
      "The netCDF4 module provides some useful pre-defined Python attributes for netCDF variables, such as dimensions, shape, dtype, ndim."
     ]
    },
    {
     "cell_type": "code",
     "collapsed": false,
     "input": [
      "print \"-- Some pre-defined attributes for variable mslp:\"\n",
      "print \"mslp.dimensions:\", mslp.dimensions\n",
      "print \"mslp.shape:\", mslp.shape\n",
      "print \"mslp.type:\", mslp.dtype\n",
      "print \"mslp.ndim:\", mslp.ndim"
     ],
     "language": "python",
     "metadata": {},
     "outputs": [
      {
       "output_type": "stream",
       "stream": "stdout",
       "text": [
        "-- Some pre-defined attributes for variable mslp:\n",
        "mslp.dimensions: (u'time', u'lat', u'lon')\n",
        "mslp.shape: (0, 5, 7)\n",
        "mslp.type: float32\n",
        "mslp.ndim: 3\n"
       ]
      }
     ],
     "prompt_number": 67
    },
    {
     "cell_type": "markdown",
     "metadata": {},
     "source": [
      "If you don't need variable properties separately, you can print all the info at once:"
     ]
    },
    {
     "cell_type": "code",
     "collapsed": false,
     "input": [
      "print mslp"
     ],
     "language": "python",
     "metadata": {},
     "outputs": [
      {
       "output_type": "stream",
       "stream": "stdout",
       "text": [
        "<type 'netCDF4.Variable'>\n",
        "float32 mslp(time, lat, lon)\n",
        "    units: hPa\n",
        "    standard_name: air_pressure_at_sea_level\n",
        "unlimited dimensions: time\n",
        "current shape = (0, 5, 7)\n",
        "\n"
       ]
      }
     ],
     "prompt_number": 68
    },
    {
     "cell_type": "markdown",
     "metadata": {},
     "source": [
      "## Writing data\n",
      "\n",
      "So far, we don't have any actual data in the file.  Let's:\n",
      "\n",
      " - fill in the coordinate variables for our lat/lon grid\n",
      " - generate 3 grids of pressure data, in an array of shape (3, nlats, nlons)\n",
      " - set the variable **`mslp`** to that array to store data for 3 times"
     ]
    },
    {
     "cell_type": "code",
     "collapsed": false,
     "input": [
      "ntimes = 3\n",
      "nlats = len(lat_dim)\n",
      "nlons = len(lon_dim)\n",
      "# Write latitudes, longitudes.\n",
      "# Note: the \":\" is necessary in these \"write\" statements\n",
      "lat0, lon0, step = (20.0, 75.0, 10.0)\n",
      "lat[:] = np.arange(lat0, lat0+nlats*step, step) # 20, 30, ..., 60\n",
      "lon[:] = np.arange(lon0, lon0+nlons*step, step) # 75, ..., 135\n",
      "# create a 3D array of integers, ntimes by nlats by nlons\n",
      "data_arr = (np.arange(ntimes*nlats*nlons)+850).reshape(ntimes,nlats,nlons)\n",
      "# Write the data.  This writes the whole 3D netCDF variable all at once.\n",
      "mslp[:,:,:] = data_arr  # Appends data along unlimited dimension\n",
      "print \"-- Wrote data, mslp.shape is now \", mslp.shape"
     ],
     "language": "python",
     "metadata": {},
     "outputs": [
      {
       "output_type": "stream",
       "stream": "stdout",
       "text": [
        "-- Wrote data, mslp.shape is now  (3, 5, 7)\n"
       ]
      }
     ],
     "prompt_number": 69
    },
    {
     "cell_type": "markdown",
     "metadata": {},
     "source": [
      "- You can just treat a netCDF Variable object like a numpy array and assign values to it.\n",
      "- Variables automatically grow along unlimited dimensions (unlike numpy arrays)\n",
      "- The above writes the whole 3D variable all at once, with 'mslp[:] = ...' or 'mslp[:,:,:] = ...' .\n",
      "- You can write it a slice a a time instead.\n",
      "\n",
      "Let's add another time slice:\n"
     ]
    },
    {
     "cell_type": "code",
     "collapsed": false,
     "input": [
      "# create a random 2D array of floats, nlats by nlons in [850., 1100)\n",
      "from numpy.random import uniform\n",
      "data_slice = uniform(low=870,high=1085,size=(nlats, nlons))\n",
      "mslp[3,:,:] = data_slice   # Appends the 4th time slice\n",
      "print \"-- Wrote more data, mslp.shape is now \", mslp.shape"
     ],
     "language": "python",
     "metadata": {},
     "outputs": [
      {
       "output_type": "stream",
       "stream": "stdout",
       "text": [
        "-- Wrote more data, mslp.shape is now  (4, 5, 7)\n"
       ]
      }
     ],
     "prompt_number": 70
    },
    {
     "cell_type": "markdown",
     "metadata": {},
     "source": [
      "## Closing a netCDF file\n",
      "\n",
      "It's **important** to close a netCDF file you opened for writing:\n",
      "\n",
      "- flushes buffers to make sure all data gets written\n",
      "- releases memory resources used by open netCDF files\n",
      "- lets you start over if you get an error, by recreating file from scratch"
     ]
    },
    {
     "cell_type": "code",
     "collapsed": true,
     "input": [
      "ncfile.close()\n",
      "print \"-- File closed successfully\""
     ],
     "language": "python",
     "metadata": {},
     "outputs": [
      {
       "output_type": "stream",
       "stream": "stdout",
       "text": [
        "-- File closed successfully\n"
       ]
      }
     ],
     "prompt_number": 71
    },
    {
     "cell_type": "markdown",
     "metadata": {},
     "source": [
      "## Using ncdump\n",
      "\n",
      "The `ncdump` tool provides a text representation of the contents of a netCDF dataset, in the _CDL_ notation.  You can run command-line programs, such as `ncdump`, in iPython by using '!' first:"
     ]
    },
    {
     "cell_type": "code",
     "collapsed": false,
     "input": [
      "!ncdump data/new.nc"
     ],
     "language": "python",
     "metadata": {},
     "outputs": [
      {
       "output_type": "stream",
       "stream": "stdout",
       "text": [
        "netcdf new {\r\n",
        "dimensions:\r\n",
        "\tlat = 5 ;\r\n",
        "\tlon = 7 ;\r\n",
        "\ttime = UNLIMITED ; // (4 currently)\r\n",
        "variables:\r\n",
        "\tfloat lat(lat) ;\r\n",
        "\t\tlat:units = \"degrees_north\" ;\r\n",
        "\t\tlat:standard_name = \"latitude\" ;\r\n",
        "\tfloat lon(lon) ;\r\n",
        "\t\tlon:units = \"degrees_east\" ;\r\n",
        "\t\tlon:standard_name = \"longitude\" ;\r\n",
        "\tfloat mslp(time, lat, lon) ;\r\n",
        "\t\tmslp:units = \"hPa\" ;\r\n",
        "\t\tmslp:standard_name = \"air_pressure_at_sea_level\" ;\r\n",
        "data:\r\n",
        "\r\n",
        " lat = 20, 30, 40, 50, 60 ;\r\n",
        "\r\n",
        " lon = 75, 85, 95, 105, 115, 125, 135 ;\r\n",
        "\r\n",
        " mslp =\r\n",
        "  850, 851, 852, 853, 854, 855, 856,\r\n",
        "  857, 858, 859, 860, 861, 862, 863,\r\n",
        "  864, 865, 866, 867, 868, 869, 870,\r\n",
        "  871, 872, 873, 874, 875, 876, 877,\r\n",
        "  878, 879, 880, 881, 882, 883, 884,\r\n",
        "  885, 886, 887, 888, 889, 890, 891,\r\n",
        "  892, 893, 894, 895, 896, 897, 898,\r\n",
        "  899, 900, 901, 902, 903, 904, 905,\r\n",
        "  906, 907, 908, 909, 910, 911, 912,\r\n",
        "  913, 914, 915, 916, 917, 918, 919,\r\n",
        "  920, 921, 922, 923, 924, 925, 926,\r\n",
        "  927, 928, 929, 930, 931, 932, 933,\r\n",
        "  934, 935, 936, 937, 938, 939, 940,\r\n",
        "  941, 942, 943, 944, 945, 946, 947,\r\n",
        "  948, 949, 950, 951, 952, 953, 954,\r\n",
        "  1047.216, 979.6005, 991.3537, 956.3278, 986.5375, 960.1299, 922.8538,\r\n",
        "  926.1583, 1076.592, 910.5492, 938.5563, 1079.488, 984.0167, 909.8796,\r\n",
        "  896.697, 1049.94, 934.3764, 945.8491, 879.4117, 1081.525, 954.6262,\r\n",
        "  911.2933, 920.6139, 958.7702, 971.0795, 1063.604, 910.8762, 917.3784,\r\n",
        "  1043.719, 926.6383, 982.0197, 875.2462, 1080.647, 1037.896, 1055.849 ;\r\n",
        "}\r\n"
       ]
      }
     ],
     "prompt_number": 73
    },
    {
     "cell_type": "markdown",
     "metadata": {},
     "source": [
      "## Exercise\n",
      "\n",
      "- Add a \"time\" coordinate variable, corresponding to the \"time\" dimension.  \n",
      "- Give it a \"units\" attribute of \"days since 2013-07-24\".  \n",
      "- Give it values 0, 1, 2, 3, 4, 5, 6, 7.  \n",
      "- If you have time, verify that ncdump shows the new variable, attribute, and values."
     ]
    }
   ],
   "metadata": {}
  }
 ]
}