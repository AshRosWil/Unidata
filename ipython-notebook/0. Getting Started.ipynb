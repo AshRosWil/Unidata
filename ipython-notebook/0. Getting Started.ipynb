{
 "metadata": {
  "name": "",
  "signature": "sha256:949d50e1fd2a375b40957c337592cdc7ad2d4840ab55e5e77ab647216568a98f"
 },
 "nbformat": 3,
 "nbformat_minor": 0,
 "worksheets": [
  {
   "cells": [
    {
     "cell_type": "markdown",
     "metadata": {},
     "source": [
      "# Notebook Cells\n",
      "\n",
      "- An IPython Notebook is a series of \"cells\".\n",
      "- The active cell has an outline around it.\n",
      "- Navigate to different cells with the arrow keys.\n",
      "- A cell can either be code, markdown, or \"raw\".\n",
      "- Create cells from the IPython Notebook menu or better yet learn the keyboard shortcuts.\n",
      "- `Shift-Enter` : run cell\n",
      "- `Ctrl-m b` : insert cell below"
     ]
    },
    {
     "cell_type": "code",
     "collapsed": false,
     "input": [],
     "language": "python",
     "metadata": {},
     "outputs": []
    }
   ],
   "metadata": {}
  }
 ]
}