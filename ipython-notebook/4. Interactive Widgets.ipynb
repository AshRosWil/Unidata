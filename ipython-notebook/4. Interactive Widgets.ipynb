{
 "metadata": {
  "name": "",
  "signature": "sha256:b016b79a20ebc5b700a40516a9cb0b2286cae19753271b5b00d42f12e919e749"
 },
 "nbformat": 3,
 "nbformat_minor": 0,
 "worksheets": [
  {
   "cells": [
    {
     "cell_type": "markdown",
     "metadata": {},
     "source": [
      "# Interactive Widgets\n",
      "\n",
      "IPython 2.0 introduced the ability to embed *interactive* widgets in a Notebook."
     ]
    },
    {
     "cell_type": "code",
     "collapsed": false,
     "input": [
      "from IPython.html.widgets import interact"
     ],
     "language": "python",
     "metadata": {},
     "outputs": []
    },
    {
     "cell_type": "code",
     "collapsed": false,
     "input": [
      "%matplotlib inline\n",
      "import matplotlib.pyplot as plt"
     ],
     "language": "python",
     "metadata": {},
     "outputs": []
    },
    {
     "cell_type": "code",
     "collapsed": false,
     "input": [
      "import networkx as nx"
     ],
     "language": "python",
     "metadata": {},
     "outputs": []
    },
    {
     "cell_type": "code",
     "collapsed": false,
     "input": [
      "# wrap a few graph generation functions so they have the same signature\n",
      "\n",
      "def random_lobster(n, m, k, p):\n",
      "    return nx.random_lobster(n, p, p / m)\n",
      "\n",
      "def powerlaw_cluster(n, m, k, p):\n",
      "    return nx.powerlaw_cluster_graph(n, m, p)\n",
      "\n",
      "def erdos_renyi(n, m, k, p):\n",
      "    return nx.erdos_renyi_graph(n, p)\n",
      "\n",
      "def newman_watts_strogatz(n, m, k, p):\n",
      "    return nx.newman_watts_strogatz_graph(n, k, p)\n",
      "\n",
      "def plot_random_graph(n, m, k, p, generator):\n",
      "    g = generator(n, m, k, p)\n",
      "    nx.draw(g)\n",
      "    plt.show()"
     ],
     "language": "python",
     "metadata": {},
     "outputs": []
    },
    {
     "cell_type": "code",
     "collapsed": false,
     "input": [
      "interact(plot_random_graph, n=(2,30), m=(1,10), k=(1,10), p=(0.0, 1.0, 0.001),\n",
      "        generator={'lobster': random_lobster,\n",
      "                   'power law': powerlaw_cluster,\n",
      "                   'Newman-Watts-Strogatz': newman_watts_strogatz,\n",
      "                   u'Erd\u0151s-R\u00e9nyi': erdos_renyi,\n",
      "                   });\n",
      " "
     ],
     "language": "python",
     "metadata": {},
     "outputs": []
    }
   ],
   "metadata": {}
  }
 ]
}